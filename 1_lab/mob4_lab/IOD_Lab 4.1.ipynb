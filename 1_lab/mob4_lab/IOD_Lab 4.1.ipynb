{
 "cells": [
  {
   "cell_type": "markdown",
   "metadata": {
    "id": "jZSSKjAWXd3j"
   },
   "source": [
    "<div>\n",
    "<img src=https://www.institutedata.com/wp-content/uploads/2019/10/iod_h_tp_primary_c.svg width=\"300\">\n",
    "</div>"
   ]
  },
  {
   "cell_type": "markdown",
   "metadata": {
    "id": "2Ms9riXMXd3k"
   },
   "source": [
    "# Lab 4.1.1 Linear Regression\n",
    "\n",
    "Prediction of House Price Using Linear Regression"
   ]
  },
  {
   "cell_type": "markdown",
   "metadata": {
    "id": "0j3ZiTCPXd3m"
   },
   "source": [
    "# Data\n",
    "\n",
    "The Sacramento real estate transactions file is a list of 985 real estate transactions in the Sacramento area reported over a five-day period, as reported by the Sacramento Bee."
   ]
  },
  {
   "cell_type": "code",
   "execution_count": 1,
   "metadata": {
    "id": "hejYh49cXd3n"
   },
   "outputs": [],
   "source": [
    "import pandas as pd\n",
    "import numpy as np\n",
    "import pandas as pd\n",
    "\n",
    "%matplotlib inline"
   ]
  },
  {
   "cell_type": "markdown",
   "metadata": {
    "id": "BlumKNPDXd3q"
   },
   "source": [
    "## Explore Data"
   ]
  },
  {
   "cell_type": "markdown",
   "metadata": {
    "id": "h1FUHCAnXd3r"
   },
   "source": [
    "Perform EDA on this dataset. Use what you have learned so far. Be creative. List all your findings."
   ]
  },
  {
   "cell_type": "code",
   "execution_count": 2,
   "metadata": {
    "id": "C8BX-oTKXd3s"
   },
   "outputs": [],
   "source": [
    "# Read CSV\n",
    "house_csv = \"C:/Users/user/Documents/IOD_data_MAIN/DATA/Sacramento_transactions.csv\"\n",
    "house = pd.read_csv(house_csv)"
   ]
  },
  {
   "cell_type": "code",
   "execution_count": 3,
   "metadata": {
    "id": "o8gVc9YyYDdb"
   },
   "outputs": [
    {
     "data": {
      "text/plain": [
       "street        object\n",
       "city          object\n",
       "zip            int64\n",
       "state         object\n",
       "beds           int64\n",
       "baths          int64\n",
       "sq__ft         int64\n",
       "type          object\n",
       "sale_date     object\n",
       "price          int64\n",
       "latitude     float64\n",
       "longitude    float64\n",
       "dtype: object"
      ]
     },
     "execution_count": 3,
     "metadata": {},
     "output_type": "execute_result"
    }
   ],
   "source": [
    "# Data Types\n",
    "# Hint: Look into the columns zip, sale_date & beds\n",
    "house.dtypes"
   ]
  },
  {
   "cell_type": "code",
   "execution_count": 4,
   "metadata": {},
   "outputs": [
    {
     "data": {
      "text/html": [
       "<div>\n",
       "<style scoped>\n",
       "    .dataframe tbody tr th:only-of-type {\n",
       "        vertical-align: middle;\n",
       "    }\n",
       "\n",
       "    .dataframe tbody tr th {\n",
       "        vertical-align: top;\n",
       "    }\n",
       "\n",
       "    .dataframe thead th {\n",
       "        text-align: right;\n",
       "    }\n",
       "</style>\n",
       "<table border=\"1\" class=\"dataframe\">\n",
       "  <thead>\n",
       "    <tr style=\"text-align: right;\">\n",
       "      <th></th>\n",
       "      <th>street</th>\n",
       "      <th>city</th>\n",
       "      <th>zip</th>\n",
       "      <th>state</th>\n",
       "      <th>beds</th>\n",
       "      <th>baths</th>\n",
       "      <th>sq__ft</th>\n",
       "      <th>type</th>\n",
       "      <th>sale_date</th>\n",
       "      <th>price</th>\n",
       "      <th>latitude</th>\n",
       "      <th>longitude</th>\n",
       "    </tr>\n",
       "  </thead>\n",
       "  <tbody>\n",
       "    <tr>\n",
       "      <th>0</th>\n",
       "      <td>3526 HIGH ST</td>\n",
       "      <td>SACRAMENTO</td>\n",
       "      <td>95838</td>\n",
       "      <td>CA</td>\n",
       "      <td>2</td>\n",
       "      <td>1</td>\n",
       "      <td>836</td>\n",
       "      <td>Residential</td>\n",
       "      <td>Wed May 21 00:00:00 EDT 2008</td>\n",
       "      <td>59222</td>\n",
       "      <td>38.631913</td>\n",
       "      <td>-121.434879</td>\n",
       "    </tr>\n",
       "    <tr>\n",
       "      <th>1</th>\n",
       "      <td>51 OMAHA CT</td>\n",
       "      <td>SACRAMENTO</td>\n",
       "      <td>95823</td>\n",
       "      <td>CA</td>\n",
       "      <td>3</td>\n",
       "      <td>1</td>\n",
       "      <td>1167</td>\n",
       "      <td>Residential</td>\n",
       "      <td>Wed May 21 00:00:00 EDT 2008</td>\n",
       "      <td>68212</td>\n",
       "      <td>38.478902</td>\n",
       "      <td>-121.431028</td>\n",
       "    </tr>\n",
       "    <tr>\n",
       "      <th>2</th>\n",
       "      <td>2796 BRANCH ST</td>\n",
       "      <td>SACRAMENTO</td>\n",
       "      <td>95815</td>\n",
       "      <td>CA</td>\n",
       "      <td>2</td>\n",
       "      <td>1</td>\n",
       "      <td>796</td>\n",
       "      <td>Residential</td>\n",
       "      <td>Wed May 21 00:00:00 EDT 2008</td>\n",
       "      <td>68880</td>\n",
       "      <td>38.618305</td>\n",
       "      <td>-121.443839</td>\n",
       "    </tr>\n",
       "    <tr>\n",
       "      <th>3</th>\n",
       "      <td>2805 JANETTE WAY</td>\n",
       "      <td>SACRAMENTO</td>\n",
       "      <td>95815</td>\n",
       "      <td>CA</td>\n",
       "      <td>2</td>\n",
       "      <td>1</td>\n",
       "      <td>852</td>\n",
       "      <td>Residential</td>\n",
       "      <td>Wed May 21 00:00:00 EDT 2008</td>\n",
       "      <td>69307</td>\n",
       "      <td>38.616835</td>\n",
       "      <td>-121.439146</td>\n",
       "    </tr>\n",
       "    <tr>\n",
       "      <th>4</th>\n",
       "      <td>6001 MCMAHON DR</td>\n",
       "      <td>SACRAMENTO</td>\n",
       "      <td>95824</td>\n",
       "      <td>CA</td>\n",
       "      <td>2</td>\n",
       "      <td>1</td>\n",
       "      <td>797</td>\n",
       "      <td>Residential</td>\n",
       "      <td>Wed May 21 00:00:00 EDT 2008</td>\n",
       "      <td>81900</td>\n",
       "      <td>38.519470</td>\n",
       "      <td>-121.435768</td>\n",
       "    </tr>\n",
       "  </tbody>\n",
       "</table>\n",
       "</div>"
      ],
      "text/plain": [
       "             street        city    zip state  beds  baths  sq__ft  \\\n",
       "0      3526 HIGH ST  SACRAMENTO  95838    CA     2      1     836   \n",
       "1       51 OMAHA CT  SACRAMENTO  95823    CA     3      1    1167   \n",
       "2    2796 BRANCH ST  SACRAMENTO  95815    CA     2      1     796   \n",
       "3  2805 JANETTE WAY  SACRAMENTO  95815    CA     2      1     852   \n",
       "4   6001 MCMAHON DR  SACRAMENTO  95824    CA     2      1     797   \n",
       "\n",
       "          type                     sale_date  price   latitude   longitude  \n",
       "0  Residential  Wed May 21 00:00:00 EDT 2008  59222  38.631913 -121.434879  \n",
       "1  Residential  Wed May 21 00:00:00 EDT 2008  68212  38.478902 -121.431028  \n",
       "2  Residential  Wed May 21 00:00:00 EDT 2008  68880  38.618305 -121.443839  \n",
       "3  Residential  Wed May 21 00:00:00 EDT 2008  69307  38.616835 -121.439146  \n",
       "4  Residential  Wed May 21 00:00:00 EDT 2008  81900  38.519470 -121.435768  "
      ]
     },
     "execution_count": 4,
     "metadata": {},
     "output_type": "execute_result"
    }
   ],
   "source": [
    "house.head()"
   ]
  },
  {
   "cell_type": "code",
   "execution_count": 5,
   "metadata": {},
   "outputs": [
    {
     "data": {
      "text/plain": [
       "(985, 12)"
      ]
     },
     "execution_count": 5,
     "metadata": {},
     "output_type": "execute_result"
    }
   ],
   "source": [
    "house.shape"
   ]
  },
  {
   "cell_type": "code",
   "execution_count": 6,
   "metadata": {},
   "outputs": [
    {
     "data": {
      "text/plain": [
       "11820"
      ]
     },
     "execution_count": 6,
     "metadata": {},
     "output_type": "execute_result"
    }
   ],
   "source": [
    "house.size"
   ]
  },
  {
   "cell_type": "code",
   "execution_count": 7,
   "metadata": {},
   "outputs": [
    {
     "data": {
      "text/html": [
       "<div>\n",
       "<style scoped>\n",
       "    .dataframe tbody tr th:only-of-type {\n",
       "        vertical-align: middle;\n",
       "    }\n",
       "\n",
       "    .dataframe tbody tr th {\n",
       "        vertical-align: top;\n",
       "    }\n",
       "\n",
       "    .dataframe thead th {\n",
       "        text-align: right;\n",
       "    }\n",
       "</style>\n",
       "<table border=\"1\" class=\"dataframe\">\n",
       "  <thead>\n",
       "    <tr style=\"text-align: right;\">\n",
       "      <th></th>\n",
       "      <th>zip</th>\n",
       "      <th>beds</th>\n",
       "      <th>baths</th>\n",
       "      <th>sq__ft</th>\n",
       "      <th>price</th>\n",
       "      <th>latitude</th>\n",
       "      <th>longitude</th>\n",
       "    </tr>\n",
       "  </thead>\n",
       "  <tbody>\n",
       "    <tr>\n",
       "      <th>count</th>\n",
       "      <td>985.000000</td>\n",
       "      <td>985.000000</td>\n",
       "      <td>985.000000</td>\n",
       "      <td>985.000000</td>\n",
       "      <td>985.000000</td>\n",
       "      <td>985.000000</td>\n",
       "      <td>985.000000</td>\n",
       "    </tr>\n",
       "    <tr>\n",
       "      <th>mean</th>\n",
       "      <td>95750.697462</td>\n",
       "      <td>2.911675</td>\n",
       "      <td>1.776650</td>\n",
       "      <td>1314.916751</td>\n",
       "      <td>234144.263959</td>\n",
       "      <td>38.607732</td>\n",
       "      <td>-121.355982</td>\n",
       "    </tr>\n",
       "    <tr>\n",
       "      <th>std</th>\n",
       "      <td>85.176072</td>\n",
       "      <td>1.307932</td>\n",
       "      <td>0.895371</td>\n",
       "      <td>853.048243</td>\n",
       "      <td>138365.839085</td>\n",
       "      <td>0.145433</td>\n",
       "      <td>0.138278</td>\n",
       "    </tr>\n",
       "    <tr>\n",
       "      <th>min</th>\n",
       "      <td>95603.000000</td>\n",
       "      <td>0.000000</td>\n",
       "      <td>0.000000</td>\n",
       "      <td>0.000000</td>\n",
       "      <td>1551.000000</td>\n",
       "      <td>38.241514</td>\n",
       "      <td>-121.551704</td>\n",
       "    </tr>\n",
       "    <tr>\n",
       "      <th>25%</th>\n",
       "      <td>95660.000000</td>\n",
       "      <td>2.000000</td>\n",
       "      <td>1.000000</td>\n",
       "      <td>952.000000</td>\n",
       "      <td>145000.000000</td>\n",
       "      <td>38.482717</td>\n",
       "      <td>-121.446127</td>\n",
       "    </tr>\n",
       "    <tr>\n",
       "      <th>50%</th>\n",
       "      <td>95762.000000</td>\n",
       "      <td>3.000000</td>\n",
       "      <td>2.000000</td>\n",
       "      <td>1304.000000</td>\n",
       "      <td>213750.000000</td>\n",
       "      <td>38.626582</td>\n",
       "      <td>-121.376220</td>\n",
       "    </tr>\n",
       "    <tr>\n",
       "      <th>75%</th>\n",
       "      <td>95828.000000</td>\n",
       "      <td>4.000000</td>\n",
       "      <td>2.000000</td>\n",
       "      <td>1718.000000</td>\n",
       "      <td>300000.000000</td>\n",
       "      <td>38.695589</td>\n",
       "      <td>-121.295778</td>\n",
       "    </tr>\n",
       "    <tr>\n",
       "      <th>max</th>\n",
       "      <td>95864.000000</td>\n",
       "      <td>8.000000</td>\n",
       "      <td>5.000000</td>\n",
       "      <td>5822.000000</td>\n",
       "      <td>884790.000000</td>\n",
       "      <td>39.020808</td>\n",
       "      <td>-120.597599</td>\n",
       "    </tr>\n",
       "  </tbody>\n",
       "</table>\n",
       "</div>"
      ],
      "text/plain": [
       "                zip        beds       baths       sq__ft          price  \\\n",
       "count    985.000000  985.000000  985.000000   985.000000     985.000000   \n",
       "mean   95750.697462    2.911675    1.776650  1314.916751  234144.263959   \n",
       "std       85.176072    1.307932    0.895371   853.048243  138365.839085   \n",
       "min    95603.000000    0.000000    0.000000     0.000000    1551.000000   \n",
       "25%    95660.000000    2.000000    1.000000   952.000000  145000.000000   \n",
       "50%    95762.000000    3.000000    2.000000  1304.000000  213750.000000   \n",
       "75%    95828.000000    4.000000    2.000000  1718.000000  300000.000000   \n",
       "max    95864.000000    8.000000    5.000000  5822.000000  884790.000000   \n",
       "\n",
       "         latitude   longitude  \n",
       "count  985.000000  985.000000  \n",
       "mean    38.607732 -121.355982  \n",
       "std      0.145433    0.138278  \n",
       "min     38.241514 -121.551704  \n",
       "25%     38.482717 -121.446127  \n",
       "50%     38.626582 -121.376220  \n",
       "75%     38.695589 -121.295778  \n",
       "max     39.020808 -120.597599  "
      ]
     },
     "execution_count": 7,
     "metadata": {},
     "output_type": "execute_result"
    }
   ],
   "source": [
    "house.describe()"
   ]
  },
  {
   "cell_type": "code",
   "execution_count": 8,
   "metadata": {},
   "outputs": [
    {
     "name": "stdout",
     "output_type": "stream",
     "text": [
      "<class 'pandas.core.frame.DataFrame'>\n",
      "RangeIndex: 985 entries, 0 to 984\n",
      "Data columns (total 12 columns):\n",
      " #   Column     Non-Null Count  Dtype  \n",
      "---  ------     --------------  -----  \n",
      " 0   street     985 non-null    object \n",
      " 1   city       985 non-null    object \n",
      " 2   zip        985 non-null    int64  \n",
      " 3   state      985 non-null    object \n",
      " 4   beds       985 non-null    int64  \n",
      " 5   baths      985 non-null    int64  \n",
      " 6   sq__ft     985 non-null    int64  \n",
      " 7   type       985 non-null    object \n",
      " 8   sale_date  985 non-null    object \n",
      " 9   price      985 non-null    int64  \n",
      " 10  latitude   985 non-null    float64\n",
      " 11  longitude  985 non-null    float64\n",
      "dtypes: float64(2), int64(5), object(5)\n",
      "memory usage: 92.5+ KB\n"
     ]
    }
   ],
   "source": [
    "house.info()"
   ]
  },
  {
   "cell_type": "code",
   "execution_count": 9,
   "metadata": {},
   "outputs": [],
   "source": [
    "# sale_date column is wrong, there might be duplicated zip number if u check index 2,3.\n",
    "# maybe the beds number is wrong and doesn't tally with the price "
   ]
  },
  {
   "cell_type": "code",
   "execution_count": 10,
   "metadata": {
    "id": "CkOYx62OYDdc"
   },
   "outputs": [],
   "source": [
    "# Feature Engineering\n"
   ]
  },
  {
   "cell_type": "code",
   "execution_count": 11,
   "metadata": {},
   "outputs": [],
   "source": [
    "#house.sale_date = pd.to_datetime(house.sale_date) "
   ]
  },
  {
   "cell_type": "code",
   "execution_count": 12,
   "metadata": {
    "id": "3SBD6w02YDdd"
   },
   "outputs": [
    {
     "data": {
      "text/plain": [
       "street       0\n",
       "city         0\n",
       "zip          0\n",
       "state        0\n",
       "beds         0\n",
       "baths        0\n",
       "sq__ft       0\n",
       "type         0\n",
       "sale_date    0\n",
       "price        0\n",
       "latitude     0\n",
       "longitude    0\n",
       "dtype: int64"
      ]
     },
     "execution_count": 12,
     "metadata": {},
     "output_type": "execute_result"
    }
   ],
   "source": [
    "# Perform EDA\n",
    "house.isna().sum()"
   ]
  },
  {
   "cell_type": "code",
   "execution_count": 13,
   "metadata": {},
   "outputs": [
    {
     "data": {
      "text/plain": [
       "3"
      ]
     },
     "execution_count": 13,
     "metadata": {},
     "output_type": "execute_result"
    }
   ],
   "source": [
    "house.duplicated().sum()"
   ]
  },
  {
   "cell_type": "code",
   "execution_count": 14,
   "metadata": {},
   "outputs": [
    {
     "name": "stdout",
     "output_type": "stream",
     "text": [
      "                street            city    zip state  beds  baths  sq__ft  \\\n",
      "342      4734 14TH AVE      SACRAMENTO  95820    CA     2      1     834   \n",
      "404     8306 CURLEW CT  CITRUS HEIGHTS  95621    CA     4      2    1280   \n",
      "601  7 CRYSTALWOOD CIR         LINCOLN  95648    CA     0      0       0   \n",
      "\n",
      "            type                     sale_date   price   latitude   longitude  \n",
      "342  Residential  Mon May 19 00:00:00 EDT 2008   68000  38.539447 -121.450858  \n",
      "404  Residential  Mon May 19 00:00:00 EDT 2008  167293  38.715781 -121.298519  \n",
      "601  Residential  Mon May 19 00:00:00 EDT 2008    4897  38.885962 -121.289436  \n"
     ]
    }
   ],
   "source": [
    "#to get duplicated row info \n",
    "d_house = house.duplicated()\n",
    "duplicates = house[d_house]\n",
    "print(duplicates)"
   ]
  },
  {
   "cell_type": "code",
   "execution_count": 58,
   "metadata": {},
   "outputs": [
    {
     "data": {
      "text/html": [
       "<div>\n",
       "<style scoped>\n",
       "    .dataframe tbody tr th:only-of-type {\n",
       "        vertical-align: middle;\n",
       "    }\n",
       "\n",
       "    .dataframe tbody tr th {\n",
       "        vertical-align: top;\n",
       "    }\n",
       "\n",
       "    .dataframe thead th {\n",
       "        text-align: right;\n",
       "    }\n",
       "</style>\n",
       "<table border=\"1\" class=\"dataframe\">\n",
       "  <thead>\n",
       "    <tr style=\"text-align: right;\">\n",
       "      <th></th>\n",
       "      <th>street</th>\n",
       "      <th>city</th>\n",
       "      <th>zip</th>\n",
       "      <th>state</th>\n",
       "      <th>beds</th>\n",
       "      <th>baths</th>\n",
       "      <th>sq__ft</th>\n",
       "      <th>type</th>\n",
       "      <th>sale_date</th>\n",
       "      <th>price</th>\n",
       "      <th>latitude</th>\n",
       "      <th>longitude</th>\n",
       "    </tr>\n",
       "  </thead>\n",
       "  <tbody>\n",
       "    <tr>\n",
       "      <th>0</th>\n",
       "      <td>3526 HIGH ST</td>\n",
       "      <td>SACRAMENTO</td>\n",
       "      <td>95838</td>\n",
       "      <td>CA</td>\n",
       "      <td>2.0</td>\n",
       "      <td>1</td>\n",
       "      <td>836.0</td>\n",
       "      <td>Residential</td>\n",
       "      <td>Wed May 21 00:00:00 EDT 2008</td>\n",
       "      <td>59222</td>\n",
       "      <td>38.631913</td>\n",
       "      <td>-121.434879</td>\n",
       "    </tr>\n",
       "    <tr>\n",
       "      <th>1</th>\n",
       "      <td>51 OMAHA CT</td>\n",
       "      <td>SACRAMENTO</td>\n",
       "      <td>95823</td>\n",
       "      <td>CA</td>\n",
       "      <td>3.0</td>\n",
       "      <td>1</td>\n",
       "      <td>1167.0</td>\n",
       "      <td>Residential</td>\n",
       "      <td>Wed May 21 00:00:00 EDT 2008</td>\n",
       "      <td>68212</td>\n",
       "      <td>38.478902</td>\n",
       "      <td>-121.431028</td>\n",
       "    </tr>\n",
       "    <tr>\n",
       "      <th>2</th>\n",
       "      <td>2796 BRANCH ST</td>\n",
       "      <td>SACRAMENTO</td>\n",
       "      <td>95815</td>\n",
       "      <td>CA</td>\n",
       "      <td>2.0</td>\n",
       "      <td>1</td>\n",
       "      <td>796.0</td>\n",
       "      <td>Residential</td>\n",
       "      <td>Wed May 21 00:00:00 EDT 2008</td>\n",
       "      <td>68880</td>\n",
       "      <td>38.618305</td>\n",
       "      <td>-121.443839</td>\n",
       "    </tr>\n",
       "    <tr>\n",
       "      <th>3</th>\n",
       "      <td>2805 JANETTE WAY</td>\n",
       "      <td>SACRAMENTO</td>\n",
       "      <td>95815</td>\n",
       "      <td>CA</td>\n",
       "      <td>2.0</td>\n",
       "      <td>1</td>\n",
       "      <td>852.0</td>\n",
       "      <td>Residential</td>\n",
       "      <td>Wed May 21 00:00:00 EDT 2008</td>\n",
       "      <td>69307</td>\n",
       "      <td>38.616835</td>\n",
       "      <td>-121.439146</td>\n",
       "    </tr>\n",
       "    <tr>\n",
       "      <th>4</th>\n",
       "      <td>6001 MCMAHON DR</td>\n",
       "      <td>SACRAMENTO</td>\n",
       "      <td>95824</td>\n",
       "      <td>CA</td>\n",
       "      <td>2.0</td>\n",
       "      <td>1</td>\n",
       "      <td>797.0</td>\n",
       "      <td>Residential</td>\n",
       "      <td>Wed May 21 00:00:00 EDT 2008</td>\n",
       "      <td>81900</td>\n",
       "      <td>38.519470</td>\n",
       "      <td>-121.435768</td>\n",
       "    </tr>\n",
       "    <tr>\n",
       "      <th>...</th>\n",
       "      <td>...</td>\n",
       "      <td>...</td>\n",
       "      <td>...</td>\n",
       "      <td>...</td>\n",
       "      <td>...</td>\n",
       "      <td>...</td>\n",
       "      <td>...</td>\n",
       "      <td>...</td>\n",
       "      <td>...</td>\n",
       "      <td>...</td>\n",
       "      <td>...</td>\n",
       "      <td>...</td>\n",
       "    </tr>\n",
       "    <tr>\n",
       "      <th>980</th>\n",
       "      <td>9169 GARLINGTON CT</td>\n",
       "      <td>SACRAMENTO</td>\n",
       "      <td>95829</td>\n",
       "      <td>CA</td>\n",
       "      <td>4.0</td>\n",
       "      <td>3</td>\n",
       "      <td>2280.0</td>\n",
       "      <td>Residential</td>\n",
       "      <td>Thu May 15 00:00:00 EDT 2008</td>\n",
       "      <td>232425</td>\n",
       "      <td>38.457679</td>\n",
       "      <td>-121.359620</td>\n",
       "    </tr>\n",
       "    <tr>\n",
       "      <th>981</th>\n",
       "      <td>6932 RUSKUT WAY</td>\n",
       "      <td>SACRAMENTO</td>\n",
       "      <td>95823</td>\n",
       "      <td>CA</td>\n",
       "      <td>3.0</td>\n",
       "      <td>2</td>\n",
       "      <td>1477.0</td>\n",
       "      <td>Residential</td>\n",
       "      <td>Thu May 15 00:00:00 EDT 2008</td>\n",
       "      <td>234000</td>\n",
       "      <td>38.499893</td>\n",
       "      <td>-121.458890</td>\n",
       "    </tr>\n",
       "    <tr>\n",
       "      <th>982</th>\n",
       "      <td>7933 DAFFODIL WAY</td>\n",
       "      <td>CITRUS HEIGHTS</td>\n",
       "      <td>95610</td>\n",
       "      <td>CA</td>\n",
       "      <td>3.0</td>\n",
       "      <td>2</td>\n",
       "      <td>1216.0</td>\n",
       "      <td>Residential</td>\n",
       "      <td>Thu May 15 00:00:00 EDT 2008</td>\n",
       "      <td>235000</td>\n",
       "      <td>38.708824</td>\n",
       "      <td>-121.256803</td>\n",
       "    </tr>\n",
       "    <tr>\n",
       "      <th>983</th>\n",
       "      <td>8304 RED FOX WAY</td>\n",
       "      <td>ELK GROVE</td>\n",
       "      <td>95758</td>\n",
       "      <td>CA</td>\n",
       "      <td>4.0</td>\n",
       "      <td>2</td>\n",
       "      <td>1685.0</td>\n",
       "      <td>Residential</td>\n",
       "      <td>Thu May 15 00:00:00 EDT 2008</td>\n",
       "      <td>235301</td>\n",
       "      <td>38.417000</td>\n",
       "      <td>-121.397424</td>\n",
       "    </tr>\n",
       "    <tr>\n",
       "      <th>984</th>\n",
       "      <td>3882 YELLOWSTONE LN</td>\n",
       "      <td>EL DORADO HILLS</td>\n",
       "      <td>95762</td>\n",
       "      <td>CA</td>\n",
       "      <td>3.0</td>\n",
       "      <td>2</td>\n",
       "      <td>1362.0</td>\n",
       "      <td>Residential</td>\n",
       "      <td>Thu May 15 00:00:00 EDT 2008</td>\n",
       "      <td>235738</td>\n",
       "      <td>38.655245</td>\n",
       "      <td>-121.075915</td>\n",
       "    </tr>\n",
       "  </tbody>\n",
       "</table>\n",
       "<p>982 rows × 12 columns</p>\n",
       "</div>"
      ],
      "text/plain": [
       "                  street             city    zip state  beds  baths  sq__ft  \\\n",
       "0           3526 HIGH ST       SACRAMENTO  95838    CA   2.0      1   836.0   \n",
       "1            51 OMAHA CT       SACRAMENTO  95823    CA   3.0      1  1167.0   \n",
       "2         2796 BRANCH ST       SACRAMENTO  95815    CA   2.0      1   796.0   \n",
       "3       2805 JANETTE WAY       SACRAMENTO  95815    CA   2.0      1   852.0   \n",
       "4        6001 MCMAHON DR       SACRAMENTO  95824    CA   2.0      1   797.0   \n",
       "..                   ...              ...    ...   ...   ...    ...     ...   \n",
       "980   9169 GARLINGTON CT       SACRAMENTO  95829    CA   4.0      3  2280.0   \n",
       "981      6932 RUSKUT WAY       SACRAMENTO  95823    CA   3.0      2  1477.0   \n",
       "982    7933 DAFFODIL WAY   CITRUS HEIGHTS  95610    CA   3.0      2  1216.0   \n",
       "983     8304 RED FOX WAY        ELK GROVE  95758    CA   4.0      2  1685.0   \n",
       "984  3882 YELLOWSTONE LN  EL DORADO HILLS  95762    CA   3.0      2  1362.0   \n",
       "\n",
       "            type                     sale_date   price   latitude   longitude  \n",
       "0    Residential  Wed May 21 00:00:00 EDT 2008   59222  38.631913 -121.434879  \n",
       "1    Residential  Wed May 21 00:00:00 EDT 2008   68212  38.478902 -121.431028  \n",
       "2    Residential  Wed May 21 00:00:00 EDT 2008   68880  38.618305 -121.443839  \n",
       "3    Residential  Wed May 21 00:00:00 EDT 2008   69307  38.616835 -121.439146  \n",
       "4    Residential  Wed May 21 00:00:00 EDT 2008   81900  38.519470 -121.435768  \n",
       "..           ...                           ...     ...        ...         ...  \n",
       "980  Residential  Thu May 15 00:00:00 EDT 2008  232425  38.457679 -121.359620  \n",
       "981  Residential  Thu May 15 00:00:00 EDT 2008  234000  38.499893 -121.458890  \n",
       "982  Residential  Thu May 15 00:00:00 EDT 2008  235000  38.708824 -121.256803  \n",
       "983  Residential  Thu May 15 00:00:00 EDT 2008  235301  38.417000 -121.397424  \n",
       "984  Residential  Thu May 15 00:00:00 EDT 2008  235738  38.655245 -121.075915  \n",
       "\n",
       "[982 rows x 12 columns]"
      ]
     },
     "execution_count": 58,
     "metadata": {},
     "output_type": "execute_result"
    }
   ],
   "source": [
    "house.drop_duplicates()\n"
   ]
  },
  {
   "cell_type": "code",
   "execution_count": 16,
   "metadata": {},
   "outputs": [
    {
     "name": "stdout",
     "output_type": "stream",
     "text": [
      "                       street             city    zip state  beds  baths  \\\n",
      "73              17 SERASPI CT       SACRAMENTO  95834    CA     0      0   \n",
      "89           2866 KARITSA AVE       SACRAMENTO  95833    CA     0      0   \n",
      "100     12209 CONSERVANCY WAY   RANCHO CORDOVA  95742    CA     0      0   \n",
      "121       5337 DUSTY ROSE WAY   RANCHO CORDOVA  95742    CA     0      0   \n",
      "126       2115 SMOKESTACK WAY       SACRAMENTO  95833    CA     0      0   \n",
      "..                        ...              ...    ...   ...   ...    ...   \n",
      "901  1530 TOPANGA LN Unit 204          LINCOLN  95648    CA     0      0   \n",
      "917            501 POPLAR AVE  WEST SACRAMENTO  95691    CA     0      0   \n",
      "934  1550 TOPANGA LN Unit 207          LINCOLN  95648    CA     0      0   \n",
      "947     1525 PENNSYLVANIA AVE  WEST SACRAMENTO  95691    CA     0      0   \n",
      "970             3557 SODA WAY       SACRAMENTO  95834    CA     0      0   \n",
      "\n",
      "     sq__ft         type                     sale_date   price   latitude  \\\n",
      "73        0  Residential  Wed May 21 00:00:00 EDT 2008  206000  38.631481   \n",
      "89        0  Residential  Wed May 21 00:00:00 EDT 2008  244500  38.626671   \n",
      "100       0  Residential  Wed May 21 00:00:00 EDT 2008  263500  38.553867   \n",
      "121       0  Residential  Wed May 21 00:00:00 EDT 2008  320000  38.528575   \n",
      "126       0  Residential  Wed May 21 00:00:00 EDT 2008  339500  38.602416   \n",
      "..      ...          ...                           ...     ...        ...   \n",
      "901       0        Condo  Thu May 15 00:00:00 EDT 2008  138000  38.884150   \n",
      "917       0  Residential  Thu May 15 00:00:00 EDT 2008  165000  38.584526   \n",
      "934       0        Condo  Thu May 15 00:00:00 EDT 2008  188000  38.884170   \n",
      "947       0  Residential  Thu May 15 00:00:00 EDT 2008  200100  38.569943   \n",
      "970       0  Residential  Thu May 15 00:00:00 EDT 2008  224000  38.631026   \n",
      "\n",
      "      longitude  \n",
      "73  -121.501880  \n",
      "89  -121.525970  \n",
      "100 -121.219141  \n",
      "121 -121.228600  \n",
      "126 -121.542965  \n",
      "..          ...  \n",
      "901 -121.270277  \n",
      "917 -121.534609  \n",
      "934 -121.270222  \n",
      "947 -121.527539  \n",
      "970 -121.501879  \n",
      "\n",
      "[108 rows x 12 columns]\n"
     ]
    }
   ],
   "source": [
    "#bed & sq_ft = 0 \n",
    "bed_0 = house[\"beds\"] == 0\n",
    "print(house.loc[bed_0])\n"
   ]
  },
  {
   "cell_type": "code",
   "execution_count": 17,
   "metadata": {},
   "outputs": [
    {
     "name": "stdout",
     "output_type": "stream",
     "text": [
      "2.9116751269035532\n"
     ]
    }
   ],
   "source": [
    "bed_mean = house['beds'].mean(axis = 0)\n",
    "print(bed_mean)"
   ]
  },
  {
   "cell_type": "code",
   "execution_count": 18,
   "metadata": {},
   "outputs": [
    {
     "name": "stdout",
     "output_type": "stream",
     "text": [
      "                       street             city    zip state      beds  baths  \\\n",
      "73              17 SERASPI CT       SACRAMENTO  95834    CA  2.911675      0   \n",
      "89           2866 KARITSA AVE       SACRAMENTO  95833    CA  2.911675      0   \n",
      "100     12209 CONSERVANCY WAY   RANCHO CORDOVA  95742    CA  2.911675      0   \n",
      "121       5337 DUSTY ROSE WAY   RANCHO CORDOVA  95742    CA  2.911675      0   \n",
      "126       2115 SMOKESTACK WAY       SACRAMENTO  95833    CA  2.911675      0   \n",
      "..                        ...              ...    ...   ...       ...    ...   \n",
      "901  1530 TOPANGA LN Unit 204          LINCOLN  95648    CA  2.911675      0   \n",
      "917            501 POPLAR AVE  WEST SACRAMENTO  95691    CA  2.911675      0   \n",
      "934  1550 TOPANGA LN Unit 207          LINCOLN  95648    CA  2.911675      0   \n",
      "947     1525 PENNSYLVANIA AVE  WEST SACRAMENTO  95691    CA  2.911675      0   \n",
      "970             3557 SODA WAY       SACRAMENTO  95834    CA  2.911675      0   \n",
      "\n",
      "     sq__ft         type                     sale_date   price   latitude  \\\n",
      "73        0  Residential  Wed May 21 00:00:00 EDT 2008  206000  38.631481   \n",
      "89        0  Residential  Wed May 21 00:00:00 EDT 2008  244500  38.626671   \n",
      "100       0  Residential  Wed May 21 00:00:00 EDT 2008  263500  38.553867   \n",
      "121       0  Residential  Wed May 21 00:00:00 EDT 2008  320000  38.528575   \n",
      "126       0  Residential  Wed May 21 00:00:00 EDT 2008  339500  38.602416   \n",
      "..      ...          ...                           ...     ...        ...   \n",
      "901       0        Condo  Thu May 15 00:00:00 EDT 2008  138000  38.884150   \n",
      "917       0  Residential  Thu May 15 00:00:00 EDT 2008  165000  38.584526   \n",
      "934       0        Condo  Thu May 15 00:00:00 EDT 2008  188000  38.884170   \n",
      "947       0  Residential  Thu May 15 00:00:00 EDT 2008  200100  38.569943   \n",
      "970       0  Residential  Thu May 15 00:00:00 EDT 2008  224000  38.631026   \n",
      "\n",
      "      longitude  \n",
      "73  -121.501880  \n",
      "89  -121.525970  \n",
      "100 -121.219141  \n",
      "121 -121.228600  \n",
      "126 -121.542965  \n",
      "..          ...  \n",
      "901 -121.270277  \n",
      "917 -121.534609  \n",
      "934 -121.270222  \n",
      "947 -121.527539  \n",
      "970 -121.501879  \n",
      "\n",
      "[108 rows x 12 columns]\n"
     ]
    }
   ],
   "source": [
    "#Add the mean value into bed_0\n",
    "house[\"beds\"].replace({0: bed_mean}, inplace=True)\n",
    "print(house.loc[bed_0])"
   ]
  },
  {
   "cell_type": "code",
   "execution_count": 19,
   "metadata": {},
   "outputs": [
    {
     "name": "stdout",
     "output_type": "stream",
     "text": [
      "                       street             city    zip state      beds  baths  \\\n",
      "73              17 SERASPI CT       SACRAMENTO  95834    CA  2.911675      0   \n",
      "89           2866 KARITSA AVE       SACRAMENTO  95833    CA  2.911675      0   \n",
      "100     12209 CONSERVANCY WAY   RANCHO CORDOVA  95742    CA  2.911675      0   \n",
      "121       5337 DUSTY ROSE WAY   RANCHO CORDOVA  95742    CA  2.911675      0   \n",
      "126       2115 SMOKESTACK WAY       SACRAMENTO  95833    CA  2.911675      0   \n",
      "..                        ...              ...    ...   ...       ...    ...   \n",
      "934  1550 TOPANGA LN Unit 207          LINCOLN  95648    CA  2.911675      0   \n",
      "947     1525 PENNSYLVANIA AVE  WEST SACRAMENTO  95691    CA  2.911675      0   \n",
      "966          9197 CORTINA CIR        ROSEVILLE  95678    CA  3.000000      2   \n",
      "970             3557 SODA WAY       SACRAMENTO  95834    CA  2.911675      0   \n",
      "973      2181 WINTERHAVEN CIR     CAMERON PARK  95682    CA  3.000000      2   \n",
      "\n",
      "     sq__ft         type                     sale_date   price   latitude  \\\n",
      "73        0  Residential  Wed May 21 00:00:00 EDT 2008  206000  38.631481   \n",
      "89        0  Residential  Wed May 21 00:00:00 EDT 2008  244500  38.626671   \n",
      "100       0  Residential  Wed May 21 00:00:00 EDT 2008  263500  38.553867   \n",
      "121       0  Residential  Wed May 21 00:00:00 EDT 2008  320000  38.528575   \n",
      "126       0  Residential  Wed May 21 00:00:00 EDT 2008  339500  38.602416   \n",
      "..      ...          ...                           ...     ...        ...   \n",
      "934       0        Condo  Thu May 15 00:00:00 EDT 2008  188000  38.884170   \n",
      "947       0  Residential  Thu May 15 00:00:00 EDT 2008  200100  38.569943   \n",
      "966       0        Condo  Thu May 15 00:00:00 EDT 2008  220000  38.793152   \n",
      "970       0  Residential  Thu May 15 00:00:00 EDT 2008  224000  38.631026   \n",
      "973       0  Residential  Thu May 15 00:00:00 EDT 2008  224500  38.697570   \n",
      "\n",
      "      longitude  \n",
      "73  -121.501880  \n",
      "89  -121.525970  \n",
      "100 -121.219141  \n",
      "121 -121.228600  \n",
      "126 -121.542965  \n",
      "..          ...  \n",
      "934 -121.270222  \n",
      "947 -121.527539  \n",
      "966 -121.290025  \n",
      "970 -121.501879  \n",
      "973 -120.995739  \n",
      "\n",
      "[171 rows x 12 columns]\n"
     ]
    }
   ],
   "source": [
    "sq_ft_0 = house[\"sq__ft\"] == 0\n",
    "print(house.loc[sq_ft_0])\n",
    "#print(sq_ft_0)"
   ]
  },
  {
   "cell_type": "code",
   "execution_count": 20,
   "metadata": {},
   "outputs": [
    {
     "name": "stdout",
     "output_type": "stream",
     "text": [
      "1314.9167512690356\n"
     ]
    }
   ],
   "source": [
    "house_sq__ft_mean = house['sq__ft'].mean(axis = 0)\n",
    "print(house_sq__ft_mean)"
   ]
  },
  {
   "cell_type": "code",
   "execution_count": 21,
   "metadata": {},
   "outputs": [
    {
     "name": "stdout",
     "output_type": "stream",
     "text": [
      "Help on function replace in module pandas.core.frame:\n",
      "\n",
      "replace(self, to_replace=None, value=None, inplace=False, limit=None, regex=False, method='pad')\n",
      "    Replace values given in `to_replace` with `value`.\n",
      "    \n",
      "    Values of the DataFrame are replaced with other values dynamically.\n",
      "    This differs from updating with ``.loc`` or ``.iloc``, which require\n",
      "    you to specify a location to update with some value.\n",
      "    \n",
      "    Parameters\n",
      "    ----------\n",
      "    to_replace : str, regex, list, dict, Series, int, float, or None\n",
      "        How to find the values that will be replaced.\n",
      "    \n",
      "        * numeric, str or regex:\n",
      "    \n",
      "            - numeric: numeric values equal to `to_replace` will be\n",
      "              replaced with `value`\n",
      "            - str: string exactly matching `to_replace` will be replaced\n",
      "              with `value`\n",
      "            - regex: regexs matching `to_replace` will be replaced with\n",
      "              `value`\n",
      "    \n",
      "        * list of str, regex, or numeric:\n",
      "    \n",
      "            - First, if `to_replace` and `value` are both lists, they\n",
      "              **must** be the same length.\n",
      "            - Second, if ``regex=True`` then all of the strings in **both**\n",
      "              lists will be interpreted as regexs otherwise they will match\n",
      "              directly. This doesn't matter much for `value` since there\n",
      "              are only a few possible substitution regexes you can use.\n",
      "            - str, regex and numeric rules apply as above.\n",
      "    \n",
      "        * dict:\n",
      "    \n",
      "            - Dicts can be used to specify different replacement values\n",
      "              for different existing values. For example,\n",
      "              ``{'a': 'b', 'y': 'z'}`` replaces the value 'a' with 'b' and\n",
      "              'y' with 'z'. To use a dict in this way the `value`\n",
      "              parameter should be `None`.\n",
      "            - For a DataFrame a dict can specify that different values\n",
      "              should be replaced in different columns. For example,\n",
      "              ``{'a': 1, 'b': 'z'}`` looks for the value 1 in column 'a'\n",
      "              and the value 'z' in column 'b' and replaces these values\n",
      "              with whatever is specified in `value`. The `value` parameter\n",
      "              should not be ``None`` in this case. You can treat this as a\n",
      "              special case of passing two lists except that you are\n",
      "              specifying the column to search in.\n",
      "            - For a DataFrame nested dictionaries, e.g.,\n",
      "              ``{'a': {'b': np.nan}}``, are read as follows: look in column\n",
      "              'a' for the value 'b' and replace it with NaN. The `value`\n",
      "              parameter should be ``None`` to use a nested dict in this\n",
      "              way. You can nest regular expressions as well. Note that\n",
      "              column names (the top-level dictionary keys in a nested\n",
      "              dictionary) **cannot** be regular expressions.\n",
      "    \n",
      "        * None:\n",
      "    \n",
      "            - This means that the `regex` argument must be a string,\n",
      "              compiled regular expression, or list, dict, ndarray or\n",
      "              Series of such elements. If `value` is also ``None`` then\n",
      "              this **must** be a nested dictionary or Series.\n",
      "    \n",
      "        See the examples section for examples of each of these.\n",
      "    value : scalar, dict, list, str, regex, default None\n",
      "        Value to replace any values matching `to_replace` with.\n",
      "        For a DataFrame a dict of values can be used to specify which\n",
      "        value to use for each column (columns not in the dict will not be\n",
      "        filled). Regular expressions, strings and lists or dicts of such\n",
      "        objects are also allowed.\n",
      "    inplace : bool, default False\n",
      "        If True, in place. Note: this will modify any\n",
      "        other views on this object (e.g. a column from a DataFrame).\n",
      "        Returns the caller if this is True.\n",
      "    limit : int or None, default None\n",
      "        Maximum size gap to forward or backward fill.\n",
      "    regex : bool or same types as `to_replace`, default False\n",
      "        Whether to interpret `to_replace` and/or `value` as regular\n",
      "        expressions. If this is ``True`` then `to_replace` *must* be a\n",
      "        string. Alternatively, this could be a regular expression or a\n",
      "        list, dict, or array of regular expressions in which case\n",
      "        `to_replace` must be ``None``.\n",
      "    method : {'pad', 'ffill', 'bfill', `None`}\n",
      "        The method to use when for replacement, when `to_replace` is a\n",
      "        scalar, list or tuple and `value` is ``None``.\n",
      "    \n",
      "    Returns\n",
      "    -------\n",
      "    DataFrame or None\n",
      "        Object after replacement or None if ``inplace=True``.\n",
      "    \n",
      "    Raises\n",
      "    ------\n",
      "    AssertionError\n",
      "        * If `regex` is not a ``bool`` and `to_replace` is not\n",
      "          ``None``.\n",
      "    \n",
      "    TypeError\n",
      "        * If `to_replace` is not a scalar, array-like, ``dict``, or ``None``\n",
      "        * If `to_replace` is a ``dict`` and `value` is not a ``list``,\n",
      "          ``dict``, ``ndarray``, or ``Series``\n",
      "        * If `to_replace` is ``None`` and `regex` is not compilable\n",
      "          into a regular expression or is a list, dict, ndarray, or\n",
      "          Series.\n",
      "        * When replacing multiple ``bool`` or ``datetime64`` objects and\n",
      "          the arguments to `to_replace` does not match the type of the\n",
      "          value being replaced\n",
      "    \n",
      "    ValueError\n",
      "        * If a ``list`` or an ``ndarray`` is passed to `to_replace` and\n",
      "          `value` but they are not the same length.\n",
      "    \n",
      "    See Also\n",
      "    --------\n",
      "    DataFrame.fillna : Fill NA values.\n",
      "    DataFrame.where : Replace values based on boolean condition.\n",
      "    Series.str.replace : Simple string replacement.\n",
      "    \n",
      "    Notes\n",
      "    -----\n",
      "    * Regex substitution is performed under the hood with ``re.sub``. The\n",
      "      rules for substitution for ``re.sub`` are the same.\n",
      "    * Regular expressions will only substitute on strings, meaning you\n",
      "      cannot provide, for example, a regular expression matching floating\n",
      "      point numbers and expect the columns in your frame that have a\n",
      "      numeric dtype to be matched. However, if those floating point\n",
      "      numbers *are* strings, then you can do this.\n",
      "    * This method has *a lot* of options. You are encouraged to experiment\n",
      "      and play with this method to gain intuition about how it works.\n",
      "    * When dict is used as the `to_replace` value, it is like\n",
      "      key(s) in the dict are the to_replace part and\n",
      "      value(s) in the dict are the value parameter.\n",
      "    \n",
      "    Examples\n",
      "    --------\n",
      "    \n",
      "    **Scalar `to_replace` and `value`**\n",
      "    \n",
      "    >>> s = pd.Series([0, 1, 2, 3, 4])\n",
      "    >>> s.replace(0, 5)\n",
      "    0    5\n",
      "    1    1\n",
      "    2    2\n",
      "    3    3\n",
      "    4    4\n",
      "    dtype: int64\n",
      "    \n",
      "    >>> df = pd.DataFrame({'A': [0, 1, 2, 3, 4],\n",
      "    ...                    'B': [5, 6, 7, 8, 9],\n",
      "    ...                    'C': ['a', 'b', 'c', 'd', 'e']})\n",
      "    >>> df.replace(0, 5)\n",
      "       A  B  C\n",
      "    0  5  5  a\n",
      "    1  1  6  b\n",
      "    2  2  7  c\n",
      "    3  3  8  d\n",
      "    4  4  9  e\n",
      "    \n",
      "    **List-like `to_replace`**\n",
      "    \n",
      "    >>> df.replace([0, 1, 2, 3], 4)\n",
      "       A  B  C\n",
      "    0  4  5  a\n",
      "    1  4  6  b\n",
      "    2  4  7  c\n",
      "    3  4  8  d\n",
      "    4  4  9  e\n",
      "    \n",
      "    >>> df.replace([0, 1, 2, 3], [4, 3, 2, 1])\n",
      "       A  B  C\n",
      "    0  4  5  a\n",
      "    1  3  6  b\n",
      "    2  2  7  c\n",
      "    3  1  8  d\n",
      "    4  4  9  e\n",
      "    \n",
      "    >>> s.replace([1, 2], method='bfill')\n",
      "    0    0\n",
      "    1    3\n",
      "    2    3\n",
      "    3    3\n",
      "    4    4\n",
      "    dtype: int64\n",
      "    \n",
      "    **dict-like `to_replace`**\n",
      "    \n",
      "    >>> df.replace({0: 10, 1: 100})\n",
      "         A  B  C\n",
      "    0   10  5  a\n",
      "    1  100  6  b\n",
      "    2    2  7  c\n",
      "    3    3  8  d\n",
      "    4    4  9  e\n",
      "    \n",
      "    >>> df.replace({'A': 0, 'B': 5}, 100)\n",
      "         A    B  C\n",
      "    0  100  100  a\n",
      "    1    1    6  b\n",
      "    2    2    7  c\n",
      "    3    3    8  d\n",
      "    4    4    9  e\n",
      "    \n",
      "    >>> df.replace({'A': {0: 100, 4: 400}})\n",
      "         A  B  C\n",
      "    0  100  5  a\n",
      "    1    1  6  b\n",
      "    2    2  7  c\n",
      "    3    3  8  d\n",
      "    4  400  9  e\n",
      "    \n",
      "    **Regular expression `to_replace`**\n",
      "    \n",
      "    >>> df = pd.DataFrame({'A': ['bat', 'foo', 'bait'],\n",
      "    ...                    'B': ['abc', 'bar', 'xyz']})\n",
      "    >>> df.replace(to_replace=r'^ba.$', value='new', regex=True)\n",
      "          A    B\n",
      "    0   new  abc\n",
      "    1   foo  new\n",
      "    2  bait  xyz\n",
      "    \n",
      "    >>> df.replace({'A': r'^ba.$'}, {'A': 'new'}, regex=True)\n",
      "          A    B\n",
      "    0   new  abc\n",
      "    1   foo  bar\n",
      "    2  bait  xyz\n",
      "    \n",
      "    >>> df.replace(regex=r'^ba.$', value='new')\n",
      "          A    B\n",
      "    0   new  abc\n",
      "    1   foo  new\n",
      "    2  bait  xyz\n",
      "    \n",
      "    >>> df.replace(regex={r'^ba.$': 'new', 'foo': 'xyz'})\n",
      "          A    B\n",
      "    0   new  abc\n",
      "    1   xyz  new\n",
      "    2  bait  xyz\n",
      "    \n",
      "    >>> df.replace(regex=[r'^ba.$', 'foo'], value='new')\n",
      "          A    B\n",
      "    0   new  abc\n",
      "    1   new  new\n",
      "    2  bait  xyz\n",
      "    \n",
      "    Compare the behavior of ``s.replace({'a': None})`` and\n",
      "    ``s.replace('a', None)`` to understand the peculiarities\n",
      "    of the `to_replace` parameter:\n",
      "    \n",
      "    >>> s = pd.Series([10, 'a', 'a', 'b', 'a'])\n",
      "    \n",
      "    When one uses a dict as the `to_replace` value, it is like the\n",
      "    value(s) in the dict are equal to the `value` parameter.\n",
      "    ``s.replace({'a': None})`` is equivalent to\n",
      "    ``s.replace(to_replace={'a': None}, value=None, method=None)``:\n",
      "    \n",
      "    >>> s.replace({'a': None})\n",
      "    0      10\n",
      "    1    None\n",
      "    2    None\n",
      "    3       b\n",
      "    4    None\n",
      "    dtype: object\n",
      "    \n",
      "    When ``value=None`` and `to_replace` is a scalar, list or\n",
      "    tuple, `replace` uses the method parameter (default 'pad') to do the\n",
      "    replacement. So this is why the 'a' values are being replaced by 10\n",
      "    in rows 1 and 2 and 'b' in row 4 in this case.\n",
      "    The command ``s.replace('a', None)`` is actually equivalent to\n",
      "    ``s.replace(to_replace='a', value=None, method='pad')``:\n",
      "    \n",
      "    >>> s.replace('a', None)\n",
      "    0    10\n",
      "    1    10\n",
      "    2    10\n",
      "    3     b\n",
      "    4     b\n",
      "    dtype: object\n",
      "\n"
     ]
    }
   ],
   "source": [
    "help(pd.DataFrame.replace)"
   ]
  },
  {
   "cell_type": "code",
   "execution_count": 22,
   "metadata": {},
   "outputs": [
    {
     "name": "stdout",
     "output_type": "stream",
     "text": [
      "                       street             city    zip state      beds  baths  \\\n",
      "73              17 SERASPI CT       SACRAMENTO  95834    CA  2.911675      0   \n",
      "89           2866 KARITSA AVE       SACRAMENTO  95833    CA  2.911675      0   \n",
      "100     12209 CONSERVANCY WAY   RANCHO CORDOVA  95742    CA  2.911675      0   \n",
      "121       5337 DUSTY ROSE WAY   RANCHO CORDOVA  95742    CA  2.911675      0   \n",
      "126       2115 SMOKESTACK WAY       SACRAMENTO  95833    CA  2.911675      0   \n",
      "..                        ...              ...    ...   ...       ...    ...   \n",
      "934  1550 TOPANGA LN Unit 207          LINCOLN  95648    CA  2.911675      0   \n",
      "947     1525 PENNSYLVANIA AVE  WEST SACRAMENTO  95691    CA  2.911675      0   \n",
      "966          9197 CORTINA CIR        ROSEVILLE  95678    CA  3.000000      2   \n",
      "970             3557 SODA WAY       SACRAMENTO  95834    CA  2.911675      0   \n",
      "973      2181 WINTERHAVEN CIR     CAMERON PARK  95682    CA  3.000000      2   \n",
      "\n",
      "          sq__ft         type                     sale_date   price  \\\n",
      "73   1314.916751  Residential  Wed May 21 00:00:00 EDT 2008  206000   \n",
      "89   1314.916751  Residential  Wed May 21 00:00:00 EDT 2008  244500   \n",
      "100  1314.916751  Residential  Wed May 21 00:00:00 EDT 2008  263500   \n",
      "121  1314.916751  Residential  Wed May 21 00:00:00 EDT 2008  320000   \n",
      "126  1314.916751  Residential  Wed May 21 00:00:00 EDT 2008  339500   \n",
      "..           ...          ...                           ...     ...   \n",
      "934  1314.916751        Condo  Thu May 15 00:00:00 EDT 2008  188000   \n",
      "947  1314.916751  Residential  Thu May 15 00:00:00 EDT 2008  200100   \n",
      "966  1314.916751        Condo  Thu May 15 00:00:00 EDT 2008  220000   \n",
      "970  1314.916751  Residential  Thu May 15 00:00:00 EDT 2008  224000   \n",
      "973  1314.916751  Residential  Thu May 15 00:00:00 EDT 2008  224500   \n",
      "\n",
      "      latitude   longitude  \n",
      "73   38.631481 -121.501880  \n",
      "89   38.626671 -121.525970  \n",
      "100  38.553867 -121.219141  \n",
      "121  38.528575 -121.228600  \n",
      "126  38.602416 -121.542965  \n",
      "..         ...         ...  \n",
      "934  38.884170 -121.270222  \n",
      "947  38.569943 -121.527539  \n",
      "966  38.793152 -121.290025  \n",
      "970  38.631026 -121.501879  \n",
      "973  38.697570 -120.995739  \n",
      "\n",
      "[171 rows x 12 columns]\n"
     ]
    }
   ],
   "source": [
    "#add mean value into sq ft \n",
    "house[\"sq__ft\"].replace({0: house_sq__ft_mean}, inplace=True)\n",
    "print(house.loc[sq_ft_0])"
   ]
  },
  {
   "cell_type": "code",
   "execution_count": null,
   "metadata": {},
   "outputs": [],
   "source": []
  },
  {
   "cell_type": "markdown",
   "metadata": {
    "id": "sIztKXN7Xd3u"
   },
   "source": [
    "# Predict Price"
   ]
  },
  {
   "cell_type": "markdown",
   "metadata": {
    "id": "hzXJOP2_Xd3v"
   },
   "source": [
    "We are going to predict `price` from available information."
   ]
  },
  {
   "cell_type": "markdown",
   "metadata": {
    "id": "1CMJdXc3Xd3w"
   },
   "source": [
    "## What is the Target Variable? Why?"
   ]
  },
  {
   "cell_type": "code",
   "execution_count": 23,
   "metadata": {
    "id": "56yN89q2Xd3w"
   },
   "outputs": [],
   "source": [
    "# ANSWER Price\n"
   ]
  },
  {
   "cell_type": "markdown",
   "metadata": {
    "id": "7qy-ZmGEXd3z"
   },
   "source": [
    "## List all possible variables which might be Predictor variable."
   ]
  },
  {
   "cell_type": "code",
   "execution_count": 24,
   "metadata": {
    "id": "nfAq28P_Xd30"
   },
   "outputs": [],
   "source": [
    "# ANSWER bed and sq_ft "
   ]
  },
  {
   "cell_type": "markdown",
   "metadata": {
    "id": "yFZkIpXhXd32"
   },
   "source": [
    "## Find correlation between variables\n",
    "\n",
    "Find correlation between variables. Which is the best predictor? Why? State your reason."
   ]
  },
  {
   "cell_type": "code",
   "execution_count": 72,
   "metadata": {
    "id": "Nc8FHVnjXd32"
   },
   "outputs": [
    {
     "data": {
      "text/html": [
       "<div>\n",
       "<style scoped>\n",
       "    .dataframe tbody tr th:only-of-type {\n",
       "        vertical-align: middle;\n",
       "    }\n",
       "\n",
       "    .dataframe tbody tr th {\n",
       "        vertical-align: top;\n",
       "    }\n",
       "\n",
       "    .dataframe thead th {\n",
       "        text-align: right;\n",
       "    }\n",
       "</style>\n",
       "<table border=\"1\" class=\"dataframe\">\n",
       "  <thead>\n",
       "    <tr style=\"text-align: right;\">\n",
       "      <th></th>\n",
       "      <th>zip</th>\n",
       "      <th>beds</th>\n",
       "      <th>baths</th>\n",
       "      <th>sq__ft</th>\n",
       "      <th>price</th>\n",
       "      <th>latitude</th>\n",
       "      <th>longitude</th>\n",
       "    </tr>\n",
       "  </thead>\n",
       "  <tbody>\n",
       "    <tr>\n",
       "      <th>zip</th>\n",
       "      <td>1.000000</td>\n",
       "      <td>-0.038355</td>\n",
       "      <td>0.069165</td>\n",
       "      <td>-0.043852</td>\n",
       "      <td>-0.093353</td>\n",
       "      <td>-0.290389</td>\n",
       "      <td>-0.539904</td>\n",
       "    </tr>\n",
       "    <tr>\n",
       "      <th>beds</th>\n",
       "      <td>-0.038355</td>\n",
       "      <td>1.000000</td>\n",
       "      <td>0.563548</td>\n",
       "      <td>0.650869</td>\n",
       "      <td>0.412636</td>\n",
       "      <td>-0.093180</td>\n",
       "      <td>0.054626</td>\n",
       "    </tr>\n",
       "    <tr>\n",
       "      <th>baths</th>\n",
       "      <td>0.069165</td>\n",
       "      <td>0.563548</td>\n",
       "      <td>1.000000</td>\n",
       "      <td>0.562171</td>\n",
       "      <td>0.416208</td>\n",
       "      <td>-0.235792</td>\n",
       "      <td>0.016582</td>\n",
       "    </tr>\n",
       "    <tr>\n",
       "      <th>sq__ft</th>\n",
       "      <td>-0.043852</td>\n",
       "      <td>0.650869</td>\n",
       "      <td>0.562171</td>\n",
       "      <td>1.000000</td>\n",
       "      <td>0.525367</td>\n",
       "      <td>-0.159076</td>\n",
       "      <td>0.044055</td>\n",
       "    </tr>\n",
       "    <tr>\n",
       "      <th>price</th>\n",
       "      <td>-0.093353</td>\n",
       "      <td>0.412636</td>\n",
       "      <td>0.416208</td>\n",
       "      <td>0.525367</td>\n",
       "      <td>1.000000</td>\n",
       "      <td>-0.039573</td>\n",
       "      <td>0.284485</td>\n",
       "    </tr>\n",
       "    <tr>\n",
       "      <th>latitude</th>\n",
       "      <td>-0.290389</td>\n",
       "      <td>-0.093180</td>\n",
       "      <td>-0.235792</td>\n",
       "      <td>-0.159076</td>\n",
       "      <td>-0.039573</td>\n",
       "      <td>1.000000</td>\n",
       "      <td>0.387925</td>\n",
       "    </tr>\n",
       "    <tr>\n",
       "      <th>longitude</th>\n",
       "      <td>-0.539904</td>\n",
       "      <td>0.054626</td>\n",
       "      <td>0.016582</td>\n",
       "      <td>0.044055</td>\n",
       "      <td>0.284485</td>\n",
       "      <td>0.387925</td>\n",
       "      <td>1.000000</td>\n",
       "    </tr>\n",
       "  </tbody>\n",
       "</table>\n",
       "</div>"
      ],
      "text/plain": [
       "                zip      beds     baths    sq__ft     price  latitude  \\\n",
       "zip        1.000000 -0.038355  0.069165 -0.043852 -0.093353 -0.290389   \n",
       "beds      -0.038355  1.000000  0.563548  0.650869  0.412636 -0.093180   \n",
       "baths      0.069165  0.563548  1.000000  0.562171  0.416208 -0.235792   \n",
       "sq__ft    -0.043852  0.650869  0.562171  1.000000  0.525367 -0.159076   \n",
       "price     -0.093353  0.412636  0.416208  0.525367  1.000000 -0.039573   \n",
       "latitude  -0.290389 -0.093180 -0.235792 -0.159076 -0.039573  1.000000   \n",
       "longitude -0.539904  0.054626  0.016582  0.044055  0.284485  0.387925   \n",
       "\n",
       "           longitude  \n",
       "zip        -0.539904  \n",
       "beds        0.054626  \n",
       "baths       0.016582  \n",
       "sq__ft      0.044055  \n",
       "price       0.284485  \n",
       "latitude    0.387925  \n",
       "longitude   1.000000  "
      ]
     },
     "execution_count": 72,
     "metadata": {},
     "output_type": "execute_result"
    }
   ],
   "source": [
    "# ANSWER \n",
    "house.corr()"
   ]
  },
  {
   "cell_type": "markdown",
   "metadata": {
    "id": "1vop_P66Xd35"
   },
   "source": [
    "## What is the simplest way to predict price\n",
    "\n",
    "So we have information for 985 houses. What is the easiest way to predict price of a house?"
   ]
  },
  {
   "cell_type": "code",
   "execution_count": 75,
   "metadata": {
    "id": "p0xBzE9iXd35"
   },
   "outputs": [
    {
     "name": "stdout",
     "output_type": "stream",
     "text": [
      "213750.0\n"
     ]
    }
   ],
   "source": [
    "# ANSWER\n",
    "house_price_median = house['price'].median()\n",
    "print(house_price_median)"
   ]
  },
  {
   "cell_type": "markdown",
   "metadata": {
    "id": "8uRWVPNuXd38"
   },
   "source": [
    "## Find Residuals\n",
    "\n",
    "Find difference between actual value and predicted value. Use absolute value."
   ]
  },
  {
   "cell_type": "code",
   "execution_count": 74,
   "metadata": {
    "id": "PBzfNQsGXd39"
   },
   "outputs": [
    {
     "name": "stdout",
     "output_type": "stream",
     "text": [
      "Help on built-in function abs in module builtins:\n",
      "\n",
      "abs(x, /)\n",
      "    Return the absolute value of the argument.\n",
      "\n"
     ]
    }
   ],
   "source": [
    "# ANSWER\n",
    "help(abs)"
   ]
  },
  {
   "cell_type": "code",
   "execution_count": 76,
   "metadata": {},
   "outputs": [
    {
     "data": {
      "text/plain": [
       "0      154528.0\n",
       "1      145538.0\n",
       "2      144870.0\n",
       "3      144443.0\n",
       "4      131850.0\n",
       "         ...   \n",
       "980     18675.0\n",
       "981     20250.0\n",
       "982     21250.0\n",
       "983     21551.0\n",
       "984     21988.0\n",
       "Name: price, Length: 985, dtype: float64"
      ]
     },
     "execution_count": 76,
     "metadata": {},
     "output_type": "execute_result"
    }
   ],
   "source": [
    "actual_value = house['price']\n",
    "\n",
    "abs(actual_value - house_price_median)"
   ]
  },
  {
   "cell_type": "markdown",
   "metadata": {
    "id": "5P61MoAsXd4B"
   },
   "source": [
    "## Predict Using Linear Regression\n",
    "\n",
    "[Simple Linear Regression](https://en.wikipedia.org/wiki/Simple_linear_regression#Fitting_the_regression_line)\n",
    "\n",
    "$$\\hat{y} = \\beta_0 + \\beta_1 x$$\n",
    "\n",
    "where\n",
    "\n",
    "> $$ \\beta_1 = \\frac{\\sum_{i=1}^n (y_i - \\bar{y} ) (x_i - \\bar{x} )}{\\sum_{i=1}^n (x_i - \\bar{x})^2} $$\n",
    "\n",
    "and\n",
    "\n",
    "> $$ \\beta_0 = \\bar{y} - \\beta_1\\bar{x} $$\n",
    "\n",
    "Given variables:\n",
    "- $\\bar{y}$ : the sample mean of observed values $Y$\n",
    "- $\\bar{x}$ : the sample mean of observed values $X$\n",
    "- $s_Y$ : the sample standard deviation of observed values $Y$\n",
    "- $s_X$ : the sample standard deviation of observed values $X$\n",
    "- $r_{XY}$ : the sample Pearson correlation coefficient between observed $X$ and $Y$"
   ]
  },
  {
   "cell_type": "markdown",
   "metadata": {
    "id": "drP_xuAKXd4C"
   },
   "source": [
    "### Define X, Y\n",
    "\n",
    "- X = Predictor Variable \n",
    "- Y = Target Variable"
   ]
  },
  {
   "cell_type": "code",
   "execution_count": 28,
   "metadata": {
    "id": "yPWPQp3VXd4D"
   },
   "outputs": [],
   "source": [
    "# ANSWER\n",
    "X = house['sq__ft']\n",
    "Y = house['price']\n",
    "\n"
   ]
  },
  {
   "cell_type": "markdown",
   "metadata": {
    "id": "JkV3m-EqXd4F"
   },
   "source": [
    "### Calculate beta_1\n",
    "\n",
    "$$ \\beta_1 = \\frac{\\sum_{i=1}^n (y_i - \\bar{y} ) (x_i - \\bar{x} )}{\\sum_{i=1}^n (x_i - \\bar{x})^2} $$"
   ]
  },
  {
   "cell_type": "code",
   "execution_count": 29,
   "metadata": {},
   "outputs": [
    {
     "name": "stdout",
     "output_type": "stream",
     "text": [
      "1543.1916390527942 234144.26395939087\n"
     ]
    }
   ],
   "source": [
    "Y_mean = Y.mean()\n",
    "X_mean = X.mean()\n",
    "print(X_mean, Y_mean)"
   ]
  },
  {
   "cell_type": "code",
   "execution_count": 30,
   "metadata": {},
   "outputs": [
    {
     "name": "stdout",
     "output_type": "stream",
     "text": [
      "118.69712897275272\n"
     ]
    }
   ],
   "source": [
    "def Cal_beta_1(X,Y):\n",
    "   \n",
    "    return np.sum(((Y - Y_mean) * (X - X_mean)) / np.sum((X - X_mean) ** 2))\n",
    "\n",
    "print(Cal_beta_1(X,Y))"
   ]
  },
  {
   "cell_type": "code",
   "execution_count": 31,
   "metadata": {},
   "outputs": [
    {
     "name": "stdout",
     "output_type": "stream",
     "text": [
      "118.69712897275272\n"
     ]
    }
   ],
   "source": [
    "beta1 = Cal_beta_1(X,Y)\n",
    "print(beta1)"
   ]
  },
  {
   "cell_type": "code",
   "execution_count": 32,
   "metadata": {
    "id": "lcI1IAmXXd4G"
   },
   "outputs": [],
   "source": [
    "# ANSWER\n",
    "    \n",
    "#beta_1 = (((Y - Y_mean) * (X - X_mean)).sum() / ((X - X_mean) ** 2)).sum() \n",
    "#print(beta_1)"
   ]
  },
  {
   "cell_type": "code",
   "execution_count": null,
   "metadata": {},
   "outputs": [],
   "source": []
  },
  {
   "cell_type": "markdown",
   "metadata": {
    "id": "MoA9ez44Xd4I"
   },
   "source": [
    "### Calculate beta_0"
   ]
  },
  {
   "cell_type": "markdown",
   "metadata": {
    "id": "V7fug5lMXd4K"
   },
   "source": [
    "$$ \\beta_0 = \\bar{y} - \\beta_1\\bar{x} $$"
   ]
  },
  {
   "cell_type": "code",
   "execution_count": 33,
   "metadata": {
    "id": "bcu8ZhFLXd4L"
   },
   "outputs": [],
   "source": [
    "# ANSWER\n",
    "def Cal_beta_0(X,Y):\n",
    "    return np.sum((Y_mean - (beta1 * X_mean)))\n"
   ]
  },
  {
   "cell_type": "code",
   "execution_count": 34,
   "metadata": {},
   "outputs": [
    {
     "name": "stdout",
     "output_type": "stream",
     "text": [
      "50971.846949067694\n"
     ]
    }
   ],
   "source": [
    "print(Cal_beta_0(X,Y))\n",
    "beta0 = Cal_beta_0(X,Y)"
   ]
  },
  {
   "cell_type": "code",
   "execution_count": 35,
   "metadata": {},
   "outputs": [],
   "source": [
    "#beta_0 = ( Y_mean - beta_1 * X_mean)\n",
    "#print(beta_0)"
   ]
  },
  {
   "cell_type": "markdown",
   "metadata": {
    "id": "Z9EUGv1KXd4N"
   },
   "source": [
    "### Find Yhat (Predicted Value Using Beta 0 and Beta 1)"
   ]
  },
  {
   "cell_type": "markdown",
   "metadata": {
    "id": "gSRcDL57Xd4O"
   },
   "source": [
    "$$\\hat{y} = \\beta_0 + \\beta_1 x$$"
   ]
  },
  {
   "cell_type": "code",
   "execution_count": 64,
   "metadata": {},
   "outputs": [
    {
     "name": "stdout",
     "output_type": "stream",
     "text": [
      "0      150202.646770\n",
      "1      189491.396460\n",
      "2      145454.761611\n",
      "3      152101.800834\n",
      "4      145573.458740\n",
      "           ...      \n",
      "980    321601.301007\n",
      "981    226287.506442\n",
      "982    195307.555780\n",
      "983    250976.509268\n",
      "984    212637.336610\n",
      "Name: sq__ft, Length: 985, dtype: float64\n"
     ]
    }
   ],
   "source": [
    "#def yhat_eg():\n",
    "#    return (beta0 + (beta1 * X))\n",
    "\n",
    "#yhat_res_eg = yhat_eg()\n",
    "#print(yhat_res_eg)"
   ]
  },
  {
   "cell_type": "code",
   "execution_count": 77,
   "metadata": {
    "id": "lGkoNedwXd4P"
   },
   "outputs": [
    {
     "name": "stdout",
     "output_type": "stream",
     "text": [
      "0      150202.646770\n",
      "1      189491.396460\n",
      "2      145454.761611\n",
      "3      152101.800834\n",
      "4      145573.458740\n",
      "           ...      \n",
      "980    321601.301007\n",
      "981    226287.506442\n",
      "982    195307.555780\n",
      "983    250976.509268\n",
      "984    212637.336610\n",
      "Name: sq__ft, Length: 985, dtype: float64\n"
     ]
    }
   ],
   "source": [
    "# ANSWER\n",
    "def yhat():\n",
    "    return (beta0 + (beta1 * X))\n",
    "\n",
    "yhat_res = yhat()\n",
    "print(yhat_res)"
   ]
  },
  {
   "cell_type": "markdown",
   "metadata": {
    "id": "h1D-rddfXd4R"
   },
   "source": [
    "### Find Residuals"
   ]
  },
  {
   "cell_type": "markdown",
   "metadata": {
    "id": "2cha8XAQXd4S"
   },
   "source": [
    "$$ \\text{residual}_i = y_i - \\hat{y}_i$$"
   ]
  },
  {
   "cell_type": "code",
   "execution_count": 79,
   "metadata": {
    "id": "dLZgRjbGXd4S"
   },
   "outputs": [
    {
     "name": "stdout",
     "output_type": "stream",
     "text": [
      "0       90980.646770\n",
      "1      121279.396460\n",
      "2       76574.761611\n",
      "3       82794.800834\n",
      "4       63673.458740\n",
      "           ...      \n",
      "980     89176.301007\n",
      "981      7712.493558\n",
      "982     39692.444220\n",
      "983     15675.509268\n",
      "984     23100.663390\n",
      "Length: 985, dtype: float64\n"
     ]
    }
   ],
   "source": [
    "# ANSWER\n",
    "def residual():\n",
    "    \n",
    "    return abs(Y - yhat_res)\n",
    "\n",
    "\n",
    "res_result = residual()\n",
    "print(res_result)"
   ]
  },
  {
   "cell_type": "markdown",
   "metadata": {
    "id": "bpXEda_uXd4U"
   },
   "source": [
    "### Find R-Square\n",
    "\n",
    "The coefficient $R^2$ is defined as $$ R^2 = 1 - \\frac{SS_{res}}{SS_{tot}} $$, where $$ SS_{res} $$ is the residual sum of squares $$ SS_{res} = \\sum_{i=1}^n \\left(y_i - \\hat{y}_i\\right)^2 $$ and $$ SS_{res} $$ is the total sum of squares $$ SS_{tot} = \\sum_{i=1}^n \\left(y_i - \\bar{y}\\right)^2 $$\n",
    "\n",
    "The best possible score is 1.0 and it can be negative (because the model can be arbitrarily worse).\n",
    "\n",
    "**Write a function to calculate R- Square value.**"
   ]
  },
  {
   "cell_type": "markdown",
   "metadata": {
    "id": "1RamI9LTXd4V"
   },
   "source": [
    "The total sum of squares:\n",
    "\n",
    "$$ SS_{tot} = \\sum_{i=1}^n \\left(y_i - \\bar{y}\\right)^2 $$\n",
    "\n",
    "The residual sum of squares:\n",
    "\n",
    "$$ SS_{res} = \\sum_{i=1}^n \\left(y_i - \\hat{y}_i\\right)^2 $$\n",
    "\n",
    "$R^2$:\n",
    "\n",
    "$$ R^2 = 1 - \\frac{SS_{res}}{SS_{tot}} $$"
   ]
  },
  {
   "cell_type": "code",
   "execution_count": 80,
   "metadata": {
    "id": "vmxloC2RXd4W"
   },
   "outputs": [
    {
     "name": "stdout",
     "output_type": "stream",
     "text": [
      "18838783738865.37\n"
     ]
    }
   ],
   "source": [
    "# ANSWER\n",
    "def calculate_ss_total(Y):\n",
    "    ss_tot = np.sum(((Y-Y_mean)**2))\n",
    "    return ss_tot\n",
    "print(calculate_ss_total(Y))"
   ]
  },
  {
   "cell_type": "code",
   "execution_count": 81,
   "metadata": {},
   "outputs": [
    {
     "name": "stdout",
     "output_type": "stream",
     "text": [
      "13639088323551.418\n"
     ]
    }
   ],
   "source": [
    "def calculate_ss_res(yhat_res):\n",
    "    ss_res = np.sum(((Y-yhat_res)**2))\n",
    "    return ss_res\n",
    "\n",
    "print(calculate_ss_res(yhat_res))"
   ]
  },
  {
   "cell_type": "code",
   "execution_count": 82,
   "metadata": {},
   "outputs": [
    {
     "name": "stdout",
     "output_type": "stream",
     "text": [
      "0.2760101441467644\n"
     ]
    }
   ],
   "source": [
    "def calculate_r2_square():\n",
    "    r2_square = 1 - (calculate_ss_res(yhat_res)/calculate_ss_total(Y))\n",
    "    return r2_square\n",
    "\n",
    "print(calculate_r2_square())"
   ]
  },
  {
   "cell_type": "markdown",
   "metadata": {
    "id": "7xV-CEKcXd4a"
   },
   "source": [
    "### [BONUS] Draw Plot of Predicted Line"
   ]
  },
  {
   "cell_type": "code",
   "execution_count": 102,
   "metadata": {
    "id": "P4JKmHWSXd4a"
   },
   "outputs": [
    {
     "data": {
      "text/plain": [
       "[<matplotlib.lines.Line2D at 0x1abb1e76700>]"
      ]
     },
     "execution_count": 102,
     "metadata": {},
     "output_type": "execute_result"
    },
    {
     "data": {
      "image/png": "[encoded data removed]",
      "text/plain": [
       "<Figure size 432x288 with 1 Axes>"
      ]
     },
     "metadata": {
      "needs_background": "light"
     },
     "output_type": "display_data"
    }
   ],
   "source": [
    "# ANSWER\n",
    "from matplotlib import pyplot as plt\n",
    "\n",
    "\n",
    "plt.plot(X, yhat_res, color='blue', linewidth=3 )"
   ]
  },
  {
   "cell_type": "markdown",
   "metadata": {
    "id": "oE45Z1qaXd4f"
   },
   "source": [
    "### [BONUS] Draw Plot of Predicted Line With Residuals"
   ]
  },
  {
   "cell_type": "code",
   "execution_count": 103,
   "metadata": {},
   "outputs": [
    {
     "data": {
      "text/plain": [
       "[<matplotlib.lines.Line2D at 0x1abb1ed58e0>]"
      ]
     },
     "execution_count": 103,
     "metadata": {},
     "output_type": "execute_result"
    },
    {
     "data": {
      "image/png": "[encoded data removed]",
      "text/plain": [
       "<Figure size 432x288 with 1 Axes>"
      ]
     },
     "metadata": {
      "needs_background": "light"
     },
     "output_type": "display_data"
    }
   ],
   "source": [
    "plt.scatter(X,Y, color ='black')\n",
    "plt.plot(X, yhat_res, color='blue', linewidth=3 )"
   ]
  },
  {
   "cell_type": "markdown",
   "metadata": {
    "id": "NTjW6xxFXd4i"
   },
   "source": [
    "### Predict House Price\n",
    "\n",
    "Let's assume we have information of following house:\n",
    "\n",
    "- street:\t1140 EDMONTON DR\n",
    "- city:\tSACRAMENTO\n",
    "- zip:\t95833\n",
    "- state:\tCA\n",
    "- beds:\t3\n",
    "- baths:\t2\n",
    "- sq__ft:\t1204\n",
    "- type:\tResidential\n",
    "\n",
    "**Predict the price of this house.**"
   ]
  },
  {
   "cell_type": "code",
   "execution_count": 100,
   "metadata": {
    "id": "mz5Lx5jGXd4j"
   },
   "outputs": [
    {
     "name": "stdout",
     "output_type": "stream",
     "text": [
      "               street        city    zip state  beds  baths  sq__ft  \\\n",
      "409     332 PALIN AVE        GALT  95632    CA   3.0      2  1204.0   \n",
      "930  1140 EDMONTON DR  SACRAMENTO  95833    CA   3.0      2  1204.0   \n",
      "\n",
      "            type                     sale_date   price   latitude   longitude  \n",
      "409  Residential  Mon May 19 00:00:00 EDT 2008  174000  38.260467 -121.302636  \n",
      "930  Residential  Thu May 15 00:00:00 EDT 2008  174250  38.624570 -121.486913  \n"
     ]
    }
   ],
   "source": [
    "# ANSWER\n",
    "Sq_ft1204 = house[\"sq__ft\"] == 1204\n",
    "print(house.loc[Sq_ft1204])"
   ]
  },
  {
   "cell_type": "code",
   "execution_count": null,
   "metadata": {},
   "outputs": [],
   "source": []
  },
  {
   "cell_type": "markdown",
   "metadata": {
    "id": "k8teYpKqYDds"
   },
   "source": [
    "## Find Coefficient and Intercept using Linear SKLearn Regression\n",
    "\n",
    "Using LinearRegression of sklearn.linear_model package find Coefficient and Intercept."
   ]
  },
  {
   "cell_type": "code",
   "execution_count": 113,
   "metadata": {},
   "outputs": [
    {
     "ename": "TypeError",
     "evalue": "order must be str, not int",
     "output_type": "error",
     "traceback": [
      "\u001b[1;31m---------------------------------------------------------------------------\u001b[0m",
      "\u001b[1;31mTypeError\u001b[0m                                 Traceback (most recent call last)",
      "\u001b[1;32m<ipython-input-113-e63370ae2ab2>\u001b[0m in \u001b[0;36m<module>\u001b[1;34m\u001b[0m\n\u001b[1;32m----> 1\u001b[1;33m \u001b[0mX_reshape\u001b[0m \u001b[1;33m=\u001b[0m \u001b[0mnp\u001b[0m\u001b[1;33m.\u001b[0m\u001b[0mreshape\u001b[0m\u001b[1;33m(\u001b[0m\u001b[0mhouse\u001b[0m\u001b[1;33m[\u001b[0m\u001b[1;34m'sq__ft'\u001b[0m\u001b[1;33m]\u001b[0m\u001b[1;33m,\u001b[0m \u001b[1;33m-\u001b[0m\u001b[1;36m1\u001b[0m\u001b[1;33m,\u001b[0m\u001b[1;36m1\u001b[0m\u001b[1;33m)\u001b[0m\u001b[1;33m\u001b[0m\u001b[1;33m\u001b[0m\u001b[0m\n\u001b[0m",
      "\u001b[1;32m<__array_function__ internals>\u001b[0m in \u001b[0;36mreshape\u001b[1;34m(*args, **kwargs)\u001b[0m\n",
      "\u001b[1;32mC:\\ProgramData\\Anaconda3\\lib\\site-packages\\numpy\\core\\fromnumeric.py\u001b[0m in \u001b[0;36mreshape\u001b[1;34m(a, newshape, order)\u001b[0m\n\u001b[0;32m    297\u001b[0m            [5, 6]])\n\u001b[0;32m    298\u001b[0m     \"\"\"\n\u001b[1;32m--> 299\u001b[1;33m     \u001b[1;32mreturn\u001b[0m \u001b[0m_wrapfunc\u001b[0m\u001b[1;33m(\u001b[0m\u001b[0ma\u001b[0m\u001b[1;33m,\u001b[0m \u001b[1;34m'reshape'\u001b[0m\u001b[1;33m,\u001b[0m \u001b[0mnewshape\u001b[0m\u001b[1;33m,\u001b[0m \u001b[0morder\u001b[0m\u001b[1;33m=\u001b[0m\u001b[0morder\u001b[0m\u001b[1;33m)\u001b[0m\u001b[1;33m\u001b[0m\u001b[1;33m\u001b[0m\u001b[0m\n\u001b[0m\u001b[0;32m    300\u001b[0m \u001b[1;33m\u001b[0m\u001b[0m\n\u001b[0;32m    301\u001b[0m \u001b[1;33m\u001b[0m\u001b[0m\n",
      "\u001b[1;32mC:\\ProgramData\\Anaconda3\\lib\\site-packages\\numpy\\core\\fromnumeric.py\u001b[0m in \u001b[0;36m_wrapfunc\u001b[1;34m(obj, method, *args, **kwds)\u001b[0m\n\u001b[0;32m     53\u001b[0m     \u001b[0mbound\u001b[0m \u001b[1;33m=\u001b[0m \u001b[0mgetattr\u001b[0m\u001b[1;33m(\u001b[0m\u001b[0mobj\u001b[0m\u001b[1;33m,\u001b[0m \u001b[0mmethod\u001b[0m\u001b[1;33m,\u001b[0m \u001b[1;32mNone\u001b[0m\u001b[1;33m)\u001b[0m\u001b[1;33m\u001b[0m\u001b[1;33m\u001b[0m\u001b[0m\n\u001b[0;32m     54\u001b[0m     \u001b[1;32mif\u001b[0m \u001b[0mbound\u001b[0m \u001b[1;32mis\u001b[0m \u001b[1;32mNone\u001b[0m\u001b[1;33m:\u001b[0m\u001b[1;33m\u001b[0m\u001b[1;33m\u001b[0m\u001b[0m\n\u001b[1;32m---> 55\u001b[1;33m         \u001b[1;32mreturn\u001b[0m \u001b[0m_wrapit\u001b[0m\u001b[1;33m(\u001b[0m\u001b[0mobj\u001b[0m\u001b[1;33m,\u001b[0m \u001b[0mmethod\u001b[0m\u001b[1;33m,\u001b[0m \u001b[1;33m*\u001b[0m\u001b[0margs\u001b[0m\u001b[1;33m,\u001b[0m \u001b[1;33m**\u001b[0m\u001b[0mkwds\u001b[0m\u001b[1;33m)\u001b[0m\u001b[1;33m\u001b[0m\u001b[1;33m\u001b[0m\u001b[0m\n\u001b[0m\u001b[0;32m     56\u001b[0m \u001b[1;33m\u001b[0m\u001b[0m\n\u001b[0;32m     57\u001b[0m     \u001b[1;32mtry\u001b[0m\u001b[1;33m:\u001b[0m\u001b[1;33m\u001b[0m\u001b[1;33m\u001b[0m\u001b[0m\n",
      "\u001b[1;32mC:\\ProgramData\\Anaconda3\\lib\\site-packages\\numpy\\core\\fromnumeric.py\u001b[0m in \u001b[0;36m_wrapit\u001b[1;34m(obj, method, *args, **kwds)\u001b[0m\n\u001b[0;32m     42\u001b[0m     \u001b[1;32mexcept\u001b[0m \u001b[0mAttributeError\u001b[0m\u001b[1;33m:\u001b[0m\u001b[1;33m\u001b[0m\u001b[1;33m\u001b[0m\u001b[0m\n\u001b[0;32m     43\u001b[0m         \u001b[0mwrap\u001b[0m \u001b[1;33m=\u001b[0m \u001b[1;32mNone\u001b[0m\u001b[1;33m\u001b[0m\u001b[1;33m\u001b[0m\u001b[0m\n\u001b[1;32m---> 44\u001b[1;33m     \u001b[0mresult\u001b[0m \u001b[1;33m=\u001b[0m \u001b[0mgetattr\u001b[0m\u001b[1;33m(\u001b[0m\u001b[0masarray\u001b[0m\u001b[1;33m(\u001b[0m\u001b[0mobj\u001b[0m\u001b[1;33m)\u001b[0m\u001b[1;33m,\u001b[0m \u001b[0mmethod\u001b[0m\u001b[1;33m)\u001b[0m\u001b[1;33m(\u001b[0m\u001b[1;33m*\u001b[0m\u001b[0margs\u001b[0m\u001b[1;33m,\u001b[0m \u001b[1;33m**\u001b[0m\u001b[0mkwds\u001b[0m\u001b[1;33m)\u001b[0m\u001b[1;33m\u001b[0m\u001b[1;33m\u001b[0m\u001b[0m\n\u001b[0m\u001b[0;32m     45\u001b[0m     \u001b[1;32mif\u001b[0m \u001b[0mwrap\u001b[0m\u001b[1;33m:\u001b[0m\u001b[1;33m\u001b[0m\u001b[1;33m\u001b[0m\u001b[0m\n\u001b[0;32m     46\u001b[0m         \u001b[1;32mif\u001b[0m \u001b[1;32mnot\u001b[0m \u001b[0misinstance\u001b[0m\u001b[1;33m(\u001b[0m\u001b[0mresult\u001b[0m\u001b[1;33m,\u001b[0m \u001b[0mmu\u001b[0m\u001b[1;33m.\u001b[0m\u001b[0mndarray\u001b[0m\u001b[1;33m)\u001b[0m\u001b[1;33m:\u001b[0m\u001b[1;33m\u001b[0m\u001b[1;33m\u001b[0m\u001b[0m\n",
      "\u001b[1;31mTypeError\u001b[0m: order must be str, not int"
     ]
    }
   ],
   "source": [
    "#Find a way to change the data shape\n",
    "#X_reshape = np.reshape(house['sq__ft'], -1,1)"
   ]
  },
  {
   "cell_type": "code",
   "execution_count": 42,
   "metadata": {},
   "outputs": [
    {
     "data": {
      "text/plain": [
       "(985,)"
      ]
     },
     "execution_count": 42,
     "metadata": {},
     "output_type": "execute_result"
    }
   ],
   "source": [
    "X.shape"
   ]
  },
  {
   "cell_type": "code",
   "execution_count": 108,
   "metadata": {},
   "outputs": [
    {
     "data": {
      "text/plain": [
       "(985,)"
      ]
     },
     "execution_count": 108,
     "metadata": {},
     "output_type": "execute_result"
    }
   ],
   "source": [
    "Y.shape"
   ]
  },
  {
   "cell_type": "code",
   "execution_count": 43,
   "metadata": {},
   "outputs": [
    {
     "data": {
      "text/plain": [
       "(985, 1)"
      ]
     },
     "execution_count": 43,
     "metadata": {},
     "output_type": "execute_result"
    }
   ],
   "source": [
    "house[['price']].shape"
   ]
  },
  {
   "cell_type": "code",
   "execution_count": 94,
   "metadata": {
    "id": "ByXhhyXiYDdt"
   },
   "outputs": [
    {
     "data": {
      "text/plain": [
       "array([[0., 0., 0., ..., 0., 0., 0.],\n",
       "       [0., 0., 0., ..., 0., 0., 0.],\n",
       "       [0., 0., 0., ..., 0., 0., 0.],\n",
       "       ...,\n",
       "       [0., 0., 0., ..., 0., 0., 0.],\n",
       "       [0., 0., 0., ..., 0., 0., 0.],\n",
       "       [0., 0., 0., ..., 0., 0., 0.]])"
      ]
     },
     "execution_count": 94,
     "metadata": {},
     "output_type": "execute_result"
    }
   ],
   "source": [
    "# ANSWER\n",
    "from sklearn.linear_model import LinearRegression\n",
    "\n",
    "reg = LinearRegression().fit([X], [Y])\n",
    "reg.coef_"
   ]
  },
  {
   "cell_type": "code",
   "execution_count": 45,
   "metadata": {},
   "outputs": [
    {
     "data": {
      "text/plain": [
       "array([ 59222.,  68212.,  68880.,  69307.,  81900.,  89921.,  90895.,\n",
       "        91002.,  94905.,  98937., 100309., 106250., 106852., 107502.,\n",
       "       108750., 110700., 113263., 116250., 120000., 121630., 122000.,\n",
       "       122682., 123000., 124100., 125000., 126640., 127281., 129000.,\n",
       "       131200., 132000., 133000., 134555., 136500., 138750., 141000.,\n",
       "       146250., 147308., 148750., 149593., 150000., 152000., 154000.,\n",
       "       156896., 161250., 161500., 164000., 165000., 166357., 166357.,\n",
       "       168000., 170000., 173000., 174250., 174313., 178480., 178760.,\n",
       "       179580., 181000., 181872., 182587., 182716., 182750., 183200.,\n",
       "       188741., 189000., 192067., 194000., 194818., 195000., 198000.,\n",
       "       199500., 200000., 200000., 206000., 208000., 212864., 221000.,\n",
       "       221000., 223058., 227887., 231477., 234697., 235000., 236000.,\n",
       "       236685., 237800., 240122., 242638., 244000., 244500., 244960.,\n",
       "       245918., 250000., 250000., 250134., 254200., 254200., 258000.,\n",
       "       260000., 260014., 263500., 265000., 265000., 271742., 273750.,\n",
       "       275086., 280908., 280987., 282400., 285000., 287417., 291000.,\n",
       "       292024., 297000., 297000., 298000., 299000., 304037., 311000.,\n",
       "       315537., 320000., 320000., 328360., 334150., 335750., 335750.,\n",
       "       339500., 344250., 346210., 347029., 347650., 351300., 352000.,\n",
       "       370000., 370500., 372000., 375000., 381300., 381942., 387731.,\n",
       "       391000., 394470., 395000., 400186., 415000., 425000., 430000.,\n",
       "       445000., 460000., 461000., 489332., 510000., 539000., 585000.,\n",
       "       600000., 606238., 660000., 830000.,  69000.,  70000.,  71000.,\n",
       "        78000.,  78400.,  80000.,  89000.,  90000.,  90000.,  92000.,\n",
       "        93675.,  97750.,  98000.,  98000.,  99000., 100000., 106716.,\n",
       "       111000., 111000., 114800., 120108., 123225., 123750., 125000.,\n",
       "       125000., 126000., 129000., 134000., 135000., 135500., 140000.,\n",
       "       140000., 142500., 143500., 145000., 145000., 145000., 145000.,\n",
       "       146000., 148500., 149000., 150000., 150000., 152000., 156000.,\n",
       "       156000., 156000., 157788., 161653., 161829., 165000., 168000.,\n",
       "       169000., 175000., 176250., 179000., 180000., 180400., 182000.,\n",
       "       184500., 185000., 189000., 194000., 195000., 200000., 201000.,\n",
       "       202500., 205000., 205000., 205000., 205000., 207000., 210000.,\n",
       "       211500., 215000., 215000., 215500., 222381., 225000., 225000.,\n",
       "       225000., 225000., 228000., 229665., 230000., 230000., 230000.,\n",
       "       234000., 235000., 236250., 240000., 242000., 245000., 245000.,\n",
       "       245000., 250000., 250000., 250000., 250000., 255000., 256054.,\n",
       "       257729., 260000., 261000., 261800., 264469., 265000., 270000.,\n",
       "       270000., 270000., 270000., 275000., 275000., 280000., 286013.,\n",
       "       292000., 292000., 293993., 294000., 296769., 297500., 300000.,\n",
       "       300000., 300000., 300000., 300500., 305000., 306500., 312500.,\n",
       "       315000., 319789., 330000., 330000., 331000., 334000., 336000.,\n",
       "       339000., 339000., 345000., 350000., 356000., 361745., 361948.,\n",
       "       370000., 380000., 385000., 399000., 402000., 406026., 420000.,\n",
       "       425000., 425000., 433500., 436746., 438700., 445000., 450000.,\n",
       "       460000., 460000., 460000., 465000., 471750., 480000., 484000.,\n",
       "       485000., 495000., 500500., 504000., 541000., 560000., 572500.,\n",
       "       582000., 613401., 614000., 680000., 699000., 839000.,  40000.,\n",
       "        48000.,  61500.,  62050.,  65000.,  65000.,  68000.,  68000.,\n",
       "        77000.,  82732.,  84000.,  84675.,  85000.,  90000.,  90000.,\n",
       "        91000.,  95000.,  97500., 100000., 100000., 101000., 102750.,\n",
       "       112500., 113000., 114000., 114000., 114750., 115000., 115000.,\n",
       "       116100., 119250., 120000., 120000., 120000., 120108., 121500.,\n",
       "       121725., 122000., 123000., 125000., 125573., 126714., 126960.,\n",
       "       127000., 127500., 130000., 133105., 136500., 139500., 140000.,\n",
       "       140800., 145000., 147000., 149600., 150000., 150000., 150000.,\n",
       "       155000., 155435., 155500., 158000., 158000., 160000., 160000.,\n",
       "       164000., 164000., 165000., 167000., 167293., 167293., 168000.,\n",
       "       170000., 170000., 170000., 174000., 178000., 180000., 180000.,\n",
       "       180000., 182000., 188325., 191500., 192000., 192700., 195000.,\n",
       "       197654., 198000., 200345., 203000., 207000., 208000., 210000.,\n",
       "       212000., 213675., 213697., 215000., 215000., 215100., 217500.,\n",
       "       218000., 220000., 221000., 222900., 223139., 225500., 228327.,\n",
       "       230000., 230000., 230522., 231200., 232000., 232500., 233641.,\n",
       "       234000., 234500., 235000., 236000., 236073., 238000., 238861.,\n",
       "       239700., 240000., 240000., 241000., 245000., 246000., 247234.,\n",
       "       247480., 249862., 251000., 252155., 254172., 258000., 260000.,\n",
       "       261000., 261000., 261000., 262500., 266000., 266000., 270000.,\n",
       "       274425., 274500., 275336., 277980., 280000., 284686., 284893.,\n",
       "       285000., 285000., 285000., 289000., 295000., 296000., 296056.,\n",
       "       297359., 299940., 304000., 305000., 307000., 311328., 313138.,\n",
       "       316630., 320000., 320000., 325000., 328578., 331000., 331500.,\n",
       "       340000., 344755., 345746., 351000., 353767., 355000., 356035.,\n",
       "       360000., 360552., 362305., 365000., 367554., 368500., 370000.,\n",
       "       371086., 378000., 383000., 388000., 395100., 400000., 400000.,\n",
       "       408431., 413000., 416767., 420000., 423000., 423000., 427500.,\n",
       "       430922., 445000., 450000., 452000., 470000., 471000., 475000.,\n",
       "       484500., 487500., 488750., 500000., 506688., 512000., 520000.,\n",
       "       528000., 579093., 636000., 668365., 676200., 677048., 691659.,\n",
       "       760000.,   4897.,   4897.,   4897.,   4897.,   4897.,   4897.,\n",
       "         4897.,   4897.,   4897.,   4897.,   4897.,   4897.,   4897.,\n",
       "         4897.,   4897.,   4897.,   4897.,   4897.,   4897.,   4897.,\n",
       "         4897.,   4897.,   4897.,   4897.,   4897.,   4897.,   4897.,\n",
       "         4897.,   4897.,   4897.,   4897.,   4897.,   4897.,   4897.,\n",
       "         4897.,   4897.,   4897.,   4897.,   4897.,   4897.,   4897.,\n",
       "         4897.,   4897.,   4897.,   4897.,   4897.,   4897.,   4897.,\n",
       "         4897.,  30000.,  30000.,  55422.,  63000.,  65000.,  65000.,\n",
       "        65000.,  66500.,  71000.,  75000.,  77000.,  85000.,  95625.,\n",
       "        96140., 104250., 105000., 108000., 109000., 115000., 115000.,\n",
       "       115500., 115620., 116000., 122000., 122500., 123000., 124000.,\n",
       "       124000., 124413., 125000., 130000., 131750., 137721., 137760.,\n",
       "       138000., 140000., 145000., 145000., 150000., 150000., 151000.,\n",
       "       155000., 155800., 156142., 158000., 159900., 160000., 161500.,\n",
       "       161600., 162000., 165000., 165000., 167293., 168000., 168000.,\n",
       "       168750., 168750., 170000., 170250., 173000., 175000., 176095.,\n",
       "       176250., 178000., 179000., 180000., 180000., 180000., 181000.,\n",
       "       182000., 182587., 185074., 185833., 186785., 187000., 188335.,\n",
       "       190000., 190000., 190000., 190000., 191250., 193000., 193500.,\n",
       "       194818., 195000., 195000., 195000., 195000., 198000., 199900.,\n",
       "       200000., 201000., 204918., 205000., 205000., 205878., 207000.,\n",
       "       207744., 209000., 210000., 210944., 212500., 213750., 215000.,\n",
       "       215000., 215000., 216033., 220000., 220000., 220000., 220000.,\n",
       "       220000., 220702., 221250., 222000., 222500., 222750., 225000.,\n",
       "       225000., 228750., 229000., 230095., 232500., 233000., 233500.,\n",
       "       239000., 240000., 240000., 240971., 242000., 243450., 243500.,\n",
       "       246544., 246750., 247000., 247000., 249000., 249000., 250000.,\n",
       "       250000., 250000., 252000., 255000., 255000., 255000., 257200.,\n",
       "       260000., 260000., 263500., 266510., 267750., 270000., 271000.,\n",
       "       272700., 275000., 275000., 276000., 276500., 278000., 279000.,\n",
       "       280000., 280000., 285000., 288000., 289000., 290000., 290000.,\n",
       "       293996., 294000., 294173., 295000., 298000., 298000., 299000.,\n",
       "       300000., 300000., 300000., 300567., 303000., 305000., 306000.,\n",
       "       310000., 310000., 310000., 311518., 312000., 313000., 315000.,\n",
       "       315000., 315000., 315000., 315000., 320000., 322000., 325000.,\n",
       "       325500., 326951., 328370., 330000., 330000., 331200., 332000.,\n",
       "       334000., 335000., 341000., 346375., 347225., 349000., 350000.,\n",
       "       350000., 350000., 350000., 351000., 356200., 360000., 367463.,\n",
       "       375000., 380000., 380578., 386222., 389000., 390000., 395500.,\n",
       "       396000., 397000., 400000., 400000., 412500., 413500., 415000.,\n",
       "       420454., 425000., 425000., 433500., 438000., 441000., 445000.,\n",
       "       446000., 450000., 455000., 460000., 475000., 490000., 493000.,\n",
       "       508000., 511000., 525000., 533000., 545000., 560000., 575000.,\n",
       "       575000., 598695., 600000., 600000., 600000., 600000., 610000.,\n",
       "       622500., 680000., 879000., 884790.,   1551.,   2000.,  56950.,\n",
       "        60000.,  61000.,  62000.,  68566.,  70000.,  80000.,  85500.,\n",
       "        92000.,  93600.,  95000.,  97750., 104000., 105000., 107666.,\n",
       "       109000., 110000., 110000., 112500., 114800., 116000., 119000.,\n",
       "       121500., 122000., 123675., 126854., 127059., 128687., 129500.,\n",
       "       130000., 131750., 132000., 134000., 134000., 138000., 142000.,\n",
       "       143012., 145846., 147000., 148750., 150000., 150454., 151087.,\n",
       "       157296., 157500., 160000., 160000., 161250., 164000., 165000.,\n",
       "       165000., 165750., 166000., 169000., 170000., 170000., 170000.,\n",
       "       170000., 170725., 171750., 172000., 173056., 174000., 174250.,\n",
       "       176850., 179500., 185000., 188000., 188700., 189000., 189000.,\n",
       "       189836., 190000., 191250., 191675., 195500., 198000., 200000.,\n",
       "       200000., 200000., 200100., 201528., 204750., 205000., 205000.,\n",
       "       205900., 207000., 207973., 208250., 208318., 209347., 211500.,\n",
       "       212000., 213000., 216000., 216021., 219000., 219794., 220000.,\n",
       "       220000., 220000., 220000., 223000., 224000., 224000., 224252.,\n",
       "       224500., 225000., 228000., 229027., 229500., 230000., 230000.,\n",
       "       232425., 234000., 235000., 235301., 235738.])"
      ]
     },
     "execution_count": 45,
     "metadata": {},
     "output_type": "execute_result"
    }
   ],
   "source": [
    "reg.intercept_"
   ]
  },
  {
   "cell_type": "raw",
   "metadata": {},
   "source": []
  },
  {
   "cell_type": "markdown",
   "metadata": {
    "id": "jQf_S9xRYDdt"
   },
   "source": [
    "### Find R Score"
   ]
  },
  {
   "cell_type": "code",
   "execution_count": 107,
   "metadata": {
    "id": "P7QOSpIDYDdt"
   },
   "outputs": [
    {
     "name": "stdout",
     "output_type": "stream",
     "text": [
      "coefficient of determination: nan\n"
     ]
    },
    {
     "name": "stderr",
     "output_type": "stream",
     "text": [
      "C:\\ProgramData\\Anaconda3\\lib\\site-packages\\sklearn\\metrics\\_regression.py:682: UndefinedMetricWarning: R^2 score is not well-defined with less than two samples.\n",
      "  warnings.warn(msg, UndefinedMetricWarning)\n"
     ]
    }
   ],
   "source": [
    "# ANSWER\n",
    "r_sq = reg.score([X],[Y])\n",
    "print('coefficient of determination:', r_sq)"
   ]
  },
  {
   "cell_type": "markdown",
   "metadata": {
    "id": "O1ezJRa3YDdt"
   },
   "source": [
    "# Splitting Data"
   ]
  },
  {
   "cell_type": "code",
   "execution_count": 96,
   "metadata": {
    "id": "nOBpWK34YDdt"
   },
   "outputs": [],
   "source": [
    "# ANSWER\n",
    "from sklearn.model_selection import train_test_split\n",
    "\n"
   ]
  },
  {
   "cell_type": "markdown",
   "metadata": {
    "id": "nv26kbAxYDdu"
   },
   "source": [
    "## Create training and testing subsets\n",
    "\n",
    "Hint: Using `train_test_split` Library"
   ]
  },
  {
   "cell_type": "code",
   "execution_count": 97,
   "metadata": {
    "id": "NRskdLBFYDdu"
   },
   "outputs": [],
   "source": [
    "# ANSWER\n",
    "x_train,x_test,y_train,y_test=train_test_split(X,Y,test_size=0.2,random_state=42)"
   ]
  },
  {
   "cell_type": "markdown",
   "metadata": {
    "id": "LaVbAUYkYDdu"
   },
   "source": [
    "## Check Shape, Sample of Test Train Data"
   ]
  },
  {
   "cell_type": "code",
   "execution_count": 50,
   "metadata": {
    "id": "rOs27fZdYDdu"
   },
   "outputs": [
    {
     "data": {
      "text/plain": [
       "(788,)"
      ]
     },
     "execution_count": 50,
     "metadata": {},
     "output_type": "execute_result"
    }
   ],
   "source": [
    "# ANSWER\n",
    "x_train.shape"
   ]
  },
  {
   "cell_type": "code",
   "execution_count": 51,
   "metadata": {},
   "outputs": [
    {
     "data": {
      "text/plain": [
       "(197,)"
      ]
     },
     "execution_count": 51,
     "metadata": {},
     "output_type": "execute_result"
    }
   ],
   "source": [
    "x_test.shape"
   ]
  },
  {
   "cell_type": "code",
   "execution_count": 52,
   "metadata": {},
   "outputs": [
    {
     "data": {
      "text/plain": [
       "(788,)"
      ]
     },
     "execution_count": 52,
     "metadata": {},
     "output_type": "execute_result"
    }
   ],
   "source": [
    "y_train.shape"
   ]
  },
  {
   "cell_type": "code",
   "execution_count": 53,
   "metadata": {},
   "outputs": [
    {
     "data": {
      "text/plain": [
       "(197,)"
      ]
     },
     "execution_count": 53,
     "metadata": {},
     "output_type": "execute_result"
    }
   ],
   "source": [
    "y_test.shape"
   ]
  },
  {
   "cell_type": "markdown",
   "metadata": {
    "id": "D3icHqXwYDdu"
   },
   "source": [
    "## Using Linear Regression Find The Score\n",
    "\n",
    "1. Fit model using X_train, y_train\n",
    "2. Find score using x_test, y_test"
   ]
  },
  {
   "cell_type": "code",
   "execution_count": 98,
   "metadata": {
    "id": "Es8dXIBhYDdu"
   },
   "outputs": [
    {
     "name": "stdout",
     "output_type": "stream",
     "text": [
      "LinearRegression()\n"
     ]
    }
   ],
   "source": [
    "# ANSWER\n",
    "reg_test = LinearRegression().fit([x_train], [y_train])\n",
    "print(reg_test)"
   ]
  },
  {
   "cell_type": "code",
   "execution_count": 99,
   "metadata": {},
   "outputs": [
    {
     "data": {
      "text/plain": [
       "-183088.24385545898"
      ]
     },
     "execution_count": 99,
     "metadata": {},
     "output_type": "execute_result"
    }
   ],
   "source": [
    "r2_score(x_test, y_test)"
   ]
  },
  {
   "cell_type": "markdown",
   "metadata": {
    "id": "qBqmcWN3YDdv"
   },
   "source": [
    "## Predict House Price\n",
    "\n",
    "Let's assume we have information of following house:\n",
    "\n",
    "- street:\t1140 EDMONTON DR\n",
    "- city:\tSACRAMENTO\n",
    "- zip:\t95833\n",
    "- state:\tCA\n",
    "- beds:\t3\n",
    "- baths:\t2\n",
    "- sq__ft:\t1204\n",
    "- type:\tResidential\n",
    "\n",
    "What is the predicted value of that house?"
   ]
  },
  {
   "cell_type": "code",
   "execution_count": 56,
   "metadata": {
    "id": "nlscc5hdYDdv"
   },
   "outputs": [],
   "source": [
    "# ANSWER"
   ]
  },
  {
   "cell_type": "markdown",
   "metadata": {
    "id": "1aknZpbMYDdv"
   },
   "source": [
    "## Find the error"
   ]
  },
  {
   "cell_type": "code",
   "execution_count": 57,
   "metadata": {
    "id": "I0T7SdqeYDdv"
   },
   "outputs": [],
   "source": [
    "# ANSWER"
   ]
  }
 ],
 "metadata": {
  "colab": {
   "collapsed_sections": [],
   "name": "IOD_Lab 4.1.ipynb",
   "provenance": []
  },
  "kernelspec": {
   "display_name": "Python 3",
   "language": "python",
   "name": "python3"
  },
  "language_info": {
   "codemirror_mode": {
    "name": "ipython",
    "version": 3
   },
   "file_extension": ".py",
   "mimetype": "text/x-python",
   "name": "python",
   "nbconvert_exporter": "python",
   "pygments_lexer": "ipython3",
   "version": "3.8.8"
  },
  "toc": {
   "base_numbering": 1,
   "nav_menu": {},
   "number_sections": true,
   "sideBar": true,
   "skip_h1_title": false,
   "title_cell": "Table of Contents",
   "title_sidebar": "Contents",
   "toc_cell": false,
   "toc_position": {},
   "toc_section_display": true,
   "toc_window_display": true
  }
 },
 "nbformat": 4,
 "nbformat_minor": 1
}

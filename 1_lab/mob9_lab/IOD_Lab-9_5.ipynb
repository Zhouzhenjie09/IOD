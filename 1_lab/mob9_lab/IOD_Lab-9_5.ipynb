{
 "cells": [
  {
   "cell_type": "markdown",
   "metadata": {
    "colab_type": "text",
    "id": "XXUiceLiLNOv"
   },
   "source": [
    "<div>\n",
    "<img src=https://www.institutedata.com/wp-content/uploads/2019/10/iod_h_tp_primary_c.svg width=\"300\">\n",
    "</div>"
   ]
  },
  {
   "cell_type": "markdown",
   "metadata": {
    "colab_type": "text",
    "id": "SmJwFqq5LNOx"
   },
   "source": [
    "# Demo 9.5: Working with Text\n",
    "- Using [NLTK](http://www.nltk.org) (Natural Language Toolkit)\n",
    "- Using [spaCy](https://spacy.io)\n",
    "\n",
    "INSTRUCTIONS:\n",
    "- Run the cells\n",
    "- Observe and understand the results\n",
    "- Answer the questions"
   ]
  },
  {
   "cell_type": "markdown",
   "metadata": {
    "colab_type": "text",
    "id": "I83eiiJqLNO0"
   },
   "source": [
    "## Import libraries"
   ]
  },
  {
   "cell_type": "code",
   "execution_count": null,
   "metadata": {},
   "outputs": [],
   "source": [
    "# pip install spacy"
   ]
  },
  {
   "cell_type": "code",
   "execution_count": null,
   "metadata": {},
   "outputs": [],
   "source": [
    "# pip install regex"
   ]
  },
  {
   "cell_type": "code",
   "execution_count": 8,
   "metadata": {},
   "outputs": [
    {
     "name": "stdout",
     "output_type": "stream",
     "text": [
      "Collecting en-core-web-sm==3.2.0\n",
      "  Downloading https://github.com/explosion/spacy-models/releases/download/en_core_web_sm-3.2.0/en_core_web_sm-3.2.0-py3-none-any.whl (13.9 MB)\n",
      "Requirement already satisfied: spacy<3.3.0,>=3.2.0 in c:\\users\\user\\.conda\\envs\\deep_learning\\lib\\site-packages (from en-core-web-sm==3.2.0) (3.2.3)\n",
      "Requirement already satisfied: spacy-loggers<2.0.0,>=1.0.0 in c:\\users\\user\\.conda\\envs\\deep_learning\\lib\\site-packages (from spacy<3.3.0,>=3.2.0->en-core-web-sm==3.2.0) (1.0.1)\n",
      "Requirement already satisfied: jinja2 in c:\\users\\user\\.conda\\envs\\deep_learning\\lib\\site-packages (from spacy<3.3.0,>=3.2.0->en-core-web-sm==3.2.0) (3.0.2)\n",
      "Requirement already satisfied: pathy>=0.3.5 in c:\\users\\user\\.conda\\envs\\deep_learning\\lib\\site-packages (from spacy<3.3.0,>=3.2.0->en-core-web-sm==3.2.0) (0.6.1)\n",
      "Requirement already satisfied: catalogue<2.1.0,>=2.0.6 in c:\\users\\user\\.conda\\envs\\deep_learning\\lib\\site-packages (from spacy<3.3.0,>=3.2.0->en-core-web-sm==3.2.0) (2.0.7)\n",
      "Requirement already satisfied: thinc<8.1.0,>=8.0.12 in c:\\users\\user\\.conda\\envs\\deep_learning\\lib\\site-packages (from spacy<3.3.0,>=3.2.0->en-core-web-sm==3.2.0) (8.0.15)\n",
      "Requirement already satisfied: srsly<3.0.0,>=2.4.1 in c:\\users\\user\\.conda\\envs\\deep_learning\\lib\\site-packages (from spacy<3.3.0,>=3.2.0->en-core-web-sm==3.2.0) (2.4.2)\n",
      "Requirement already satisfied: pydantic!=1.8,!=1.8.1,<1.9.0,>=1.7.4 in c:\\users\\user\\.conda\\envs\\deep_learning\\lib\\site-packages (from spacy<3.3.0,>=3.2.0->en-core-web-sm==3.2.0) (1.8.2)\n",
      "Requirement already satisfied: langcodes<4.0.0,>=3.2.0 in c:\\users\\user\\.conda\\envs\\deep_learning\\lib\\site-packages (from spacy<3.3.0,>=3.2.0->en-core-web-sm==3.2.0) (3.3.0)\n",
      "Requirement already satisfied: numpy>=1.15.0 in c:\\users\\user\\.conda\\envs\\deep_learning\\lib\\site-packages (from spacy<3.3.0,>=3.2.0->en-core-web-sm==3.2.0) (1.22.3)\n",
      "Requirement already satisfied: cymem<2.1.0,>=2.0.2 in c:\\users\\user\\.conda\\envs\\deep_learning\\lib\\site-packages (from spacy<3.3.0,>=3.2.0->en-core-web-sm==3.2.0) (2.0.6)\n",
      "Requirement already satisfied: wasabi<1.1.0,>=0.8.1 in c:\\users\\user\\.conda\\envs\\deep_learning\\lib\\site-packages (from spacy<3.3.0,>=3.2.0->en-core-web-sm==3.2.0) (0.9.0)\n",
      "Requirement already satisfied: requests<3.0.0,>=2.13.0 in c:\\users\\user\\appdata\\roaming\\python\\python38\\site-packages (from spacy<3.3.0,>=3.2.0->en-core-web-sm==3.2.0) (2.27.1)\n",
      "Requirement already satisfied: blis<0.8.0,>=0.4.0 in c:\\users\\user\\.conda\\envs\\deep_learning\\lib\\site-packages (from spacy<3.3.0,>=3.2.0->en-core-web-sm==3.2.0) (0.7.7)\n",
      "Requirement already satisfied: preshed<3.1.0,>=3.0.2 in c:\\users\\user\\.conda\\envs\\deep_learning\\lib\\site-packages (from spacy<3.3.0,>=3.2.0->en-core-web-sm==3.2.0) (3.0.6)\n",
      "Requirement already satisfied: murmurhash<1.1.0,>=0.28.0 in c:\\users\\user\\.conda\\envs\\deep_learning\\lib\\site-packages (from spacy<3.3.0,>=3.2.0->en-core-web-sm==3.2.0) (1.0.6)\n",
      "Requirement already satisfied: typer<0.5.0,>=0.3.0 in c:\\users\\user\\.conda\\envs\\deep_learning\\lib\\site-packages (from spacy<3.3.0,>=3.2.0->en-core-web-sm==3.2.0) (0.4.0)\n",
      "Requirement already satisfied: setuptools in c:\\users\\user\\.conda\\envs\\deep_learning\\lib\\site-packages (from spacy<3.3.0,>=3.2.0->en-core-web-sm==3.2.0) (58.0.4)\n",
      "Requirement already satisfied: tqdm<5.0.0,>=4.38.0 in c:\\users\\user\\.conda\\envs\\deep_learning\\lib\\site-packages (from spacy<3.3.0,>=3.2.0->en-core-web-sm==3.2.0) (4.63.0)\n",
      "Requirement already satisfied: packaging>=20.0 in c:\\users\\user\\.conda\\envs\\deep_learning\\lib\\site-packages (from spacy<3.3.0,>=3.2.0->en-core-web-sm==3.2.0) (21.3)\n",
      "Requirement already satisfied: spacy-legacy<3.1.0,>=3.0.8 in c:\\users\\user\\.conda\\envs\\deep_learning\\lib\\site-packages (from spacy<3.3.0,>=3.2.0->en-core-web-sm==3.2.0) (3.0.9)\n",
      "Requirement already satisfied: pyparsing!=3.0.5,>=2.0.2 in c:\\users\\user\\.conda\\envs\\deep_learning\\lib\\site-packages (from packaging>=20.0->spacy<3.3.0,>=3.2.0->en-core-web-sm==3.2.0) (3.0.4)\n",
      "Requirement already satisfied: smart-open<6.0.0,>=5.0.0 in c:\\users\\user\\.conda\\envs\\deep_learning\\lib\\site-packages (from pathy>=0.3.5->spacy<3.3.0,>=3.2.0->en-core-web-sm==3.2.0) (5.2.1)\n",
      "Requirement already satisfied: typing-extensions>=3.7.4.3 in c:\\users\\user\\.conda\\envs\\deep_learning\\lib\\site-packages (from pydantic!=1.8,!=1.8.1,<1.9.0,>=1.7.4->spacy<3.3.0,>=3.2.0->en-core-web-sm==3.2.0) (4.0.1)\n",
      "Requirement already satisfied: certifi>=2017.4.17 in c:\\users\\user\\.conda\\envs\\deep_learning\\lib\\site-packages (from requests<3.0.0,>=2.13.0->spacy<3.3.0,>=3.2.0->en-core-web-sm==3.2.0) (2021.10.8)\n",
      "Requirement already satisfied: charset-normalizer~=2.0.0 in c:\\users\\user\\.conda\\envs\\deep_learning\\lib\\site-packages (from requests<3.0.0,>=2.13.0->spacy<3.3.0,>=3.2.0->en-core-web-sm==3.2.0) (2.0.11)\n",
      "Requirement already satisfied: idna<4,>=2.5 in c:\\users\\user\\.conda\\envs\\deep_learning\\lib\\site-packages (from requests<3.0.0,>=2.13.0->spacy<3.3.0,>=3.2.0->en-core-web-sm==3.2.0) (3.3)\n",
      "Requirement already satisfied: urllib3<1.27,>=1.21.1 in c:\\users\\user\\.conda\\envs\\deep_learning\\lib\\site-packages (from requests<3.0.0,>=2.13.0->spacy<3.3.0,>=3.2.0->en-core-web-sm==3.2.0) (1.26.8)\n",
      "Requirement already satisfied: colorama in c:\\users\\user\\.conda\\envs\\deep_learning\\lib\\site-packages (from tqdm<5.0.0,>=4.38.0->spacy<3.3.0,>=3.2.0->en-core-web-sm==3.2.0) (0.4.4)\n",
      "Requirement already satisfied: click<9.0.0,>=7.1.1 in c:\\users\\user\\.conda\\envs\\deep_learning\\lib\\site-packages (from typer<0.5.0,>=0.3.0->spacy<3.3.0,>=3.2.0->en-core-web-sm==3.2.0) (8.0.4)\n",
      "Requirement already satisfied: MarkupSafe>=2.0 in c:\\users\\user\\.conda\\envs\\deep_learning\\lib\\site-packages (from jinja2->spacy<3.3.0,>=3.2.0->en-core-web-sm==3.2.0) (2.0.1)\n",
      "Installing collected packages: en-core-web-sm\n",
      "Successfully installed en-core-web-sm-3.2.0\n",
      "[+] Download and installation successful\n",
      "You can now load the package via spacy.load('en_core_web_sm')\n"
     ]
    },
    {
     "name": "stderr",
     "output_type": "stream",
     "text": [
      "2022-03-28 14:40:16.697446: W tensorflow/stream_executor/platform/default/dso_loader.cc:64] Could not load dynamic library 'cudart64_110.dll'; dlerror: cudart64_110.dll not found\n",
      "2022-03-28 14:40:16.697505: I tensorflow/stream_executor/cuda/cudart_stub.cc:29] Ignore above cudart dlerror if you do not have a GPU set up on your machine.\n"
     ]
    }
   ],
   "source": [
    "# !python -m spacy download en_core_web_sm\n"
   ]
  },
  {
   "cell_type": "code",
   "execution_count": null,
   "metadata": {},
   "outputs": [],
   "source": [
    "# pip install nltk"
   ]
  },
  {
   "cell_type": "code",
   "execution_count": null,
   "metadata": {},
   "outputs": [],
   "source": [
    "# import nltk"
   ]
  },
  {
   "cell_type": "code",
   "execution_count": null,
   "metadata": {},
   "outputs": [],
   "source": [
    "# nltk.download('words')\n"
   ]
  },
  {
   "cell_type": "code",
   "execution_count": null,
   "metadata": {},
   "outputs": [],
   "source": [
    "# nltk.download('maxent_ne_chunker')\n",
    "\n"
   ]
  },
  {
   "cell_type": "code",
   "execution_count": null,
   "metadata": {},
   "outputs": [],
   "source": [
    "# nltk.download('punkt')\n"
   ]
  },
  {
   "cell_type": "code",
   "execution_count": null,
   "metadata": {},
   "outputs": [],
   "source": [
    "# nltk.download('averaged_perceptron_tagger')\n"
   ]
  },
  {
   "cell_type": "code",
   "execution_count": null,
   "metadata": {},
   "outputs": [],
   "source": [
    "# nltk.download('omw-1.4')\n"
   ]
  },
  {
   "cell_type": "code",
   "execution_count": null,
   "metadata": {},
   "outputs": [],
   "source": [
    "# nltk.download('wordnet')\n",
    "# nltk.download('stopwords')"
   ]
  },
  {
   "cell_type": "code",
   "execution_count": 1,
   "metadata": {
    "ExecuteTime": {
     "end_time": "2020-10-07T06:27:02.954027Z",
     "start_time": "2020-10-07T06:27:01.413950Z"
    },
    "colab": {},
    "colab_type": "code",
    "id": "-ecJn_1MLNO4"
   },
   "outputs": [],
   "source": [
    "## Import Libraries\n",
    "%matplotlib inline\n",
    "import matplotlib.pyplot as plt\n",
    "from collections import Counter\n",
    "\n",
    "import regex as re\n",
    "\n",
    "# conda install -c conda-forge spacy\n",
    "# python -m spacy download en_core_web_sm\n",
    "import spacy as spacy\n",
    "import nltk"
   ]
  },
  {
   "cell_type": "markdown",
   "metadata": {
    "colab_type": "text",
    "id": "OsSgzr8MLNO9"
   },
   "source": [
    "## Load data"
   ]
  },
  {
   "cell_type": "code",
   "execution_count": 2,
   "metadata": {
    "ExecuteTime": {
     "end_time": "2020-10-07T06:27:02.961095Z",
     "start_time": "2020-10-07T06:27:02.957131Z"
    },
    "colab": {},
    "colab_type": "code",
    "id": "HvyU9ZbtLNPA"
   },
   "outputs": [],
   "source": [
    "## Loading the data\n",
    "\n",
    "input_file = 'C:/Users/user/Documents/IOD_data_MAIN/DATA/ncc-1701-D.txt'\n",
    "\n",
    "with open(input_file, 'r') as f:\n",
    "    text = f.read()"
   ]
  },
  {
   "cell_type": "markdown",
   "metadata": {
    "colab_type": "text",
    "id": "KF9gBdpALNPE"
   },
   "source": [
    "## Inspect the data"
   ]
  },
  {
   "cell_type": "code",
   "execution_count": 3,
   "metadata": {
    "ExecuteTime": {
     "end_time": "2020-10-07T06:27:02.968659Z",
     "start_time": "2020-10-07T06:27:02.964905Z"
    },
    "colab": {},
    "colab_type": "code",
    "id": "-JImxUzrLNPG",
    "outputId": "13ce31ea-531e-4abd-8f21-c726df89bb21",
    "scrolled": true
   },
   "outputs": [
    {
     "name": "stdout",
     "output_type": "stream",
     "text": [
      "USS Enterprise (NCC-1701-D)\n",
      "\n",
      "\"For five hundred years, every ship that has borne the name of the Enterprise has become a legend. This one is no different.\"\n",
      "\n",
      "The USS Enterprise (NCC-1701-D) was a 24th century United Federation of Planets Galaxy Class starship operated by Starfleet, and the fifth Federation ship to bear the name Enterprise. During her career, the Enterprise served as the Federation flagship. The Enterprise was destroyed during the Battle of Veridian III in 2371.\n",
      "\n",
      "==History==\n",
      "===Construction and launch===\n",
      "The Enterprise was built at Utopia Planitia Fleet Yards orbiting Mars in the Solar system. The construction was a massive undertaking, involving thousands of people across disciplines. Construction was supervised by Commander Orfil Quinteros. Dr. Leah Brahms was responsible for much of the Enterprise's warp propulsion system design. Some of the Enterprise's components were derived from technology originally developed on the USS Pegasus.\n",
      "\n",
      "One of the ship's nacelle tube was\n"
     ]
    }
   ],
   "source": [
    "print(text[:1000])"
   ]
  },
  {
   "cell_type": "code",
   "execution_count": 4,
   "metadata": {},
   "outputs": [
    {
     "name": "stdout",
     "output_type": "stream",
     "text": [
      "USS Enterprise (NCC-1701-D)\n",
      "\n",
      "\"For five hundred years, every ship that has borne the name of the Enterprise has become a legend. This one is no different.\"\n",
      "\n",
      "The USS Enterprise (NCC-1701-D) was a 24th century United Federation of Planets Galaxy Class starship operated by Starfleet, and the fifth Federation ship to bear the name Enterprise. During her career, the Enterprise served as the Federation flagship. The Enterprise was destroyed during the Battle of Veridian III in 2371.\n",
      "\n",
      "==History==\n",
      "===Construction and launch===\n",
      "The Enterprise was built at Utopia Planitia Fleet Yards orbiting Mars in the Solar system. The construction was a massive undertaking, involving thousands of people across disciplines. Construction was supervised by Commander Orfil Quinteros. Dr. Leah Brahms was responsible for much of the Enterprise's warp propulsion system design. Some of the Enterprise's components were derived from technology originally developed on the USS Pegasus.\n",
      "\n",
      "One of the ship's nacelle tube was the site of a multiple murder-suicide while she was still under construction at Utopia Planitia. A member of the construction team, Walter Pierce, became jealous of a former lover's new relationship. He killed the two officers, Marla Finn and William Hodges, then disposed of their bodies in the plasma stream. Pierce committed suicide in the same manner, leaving a telepathic imprint in a bulkhead that was not discovered until 2370.\n",
      "\n",
      "On stardate 40759.5, in the year 2363, the Enterprise was launched from Mars. On stardate 41025.5, the Enterprise was commissioned.\n",
      "\n",
      "These stardates weren't mentioned in dialog; they were from the Enterprise dedication plaque.\n",
      "\n",
      "Final systems completion and shakedown was conducted at Earth Station McKinley. Captain Jean-Luc Picard took command of the ship on stardate 41148 at the order of Rear Admiral Norah Satie.\n",
      "\n",
      "===Legacy===\n",
      "Commander Riker was upset over the loss of the Enterprise. Having hoped he would one day command the ship, he was disappointed that he never got that opportunity. However, Picard expressed doubt that the Enterprise-D would be the last vessel to carry the name.\n",
      "\n",
      "The Enterprise was so dear to Worf that, shortly after being reassigned to Deep Space 9 in 2372, he briefly considered resigning from Starfleet. Station commander Captain Benjamin Sisko expressed regret on the loss of the Enterprise and offered his condolences over the destruction of the ship to Worf, saying the Enterprise \"was a good ship.\"\n",
      "\n",
      "Captain Picard's belief that the Enterprise-D would not be the final ship to bear the name was borne out with the christening of the Class Sovereign USS Enterprise NCC-1701-E, later the same year. In that instance, the legacy of the Enterprise continued with Picard reprising his role as CO and selecting most of the former crew from the Enterprise-D, with the notable exception of Worf due to his most recent assignment to DS9 (though he temporarily joined the Enterprise-E crew on several of their more notable missions).\n"
     ]
    }
   ],
   "source": [
    "print(text)"
   ]
  },
  {
   "cell_type": "markdown",
   "metadata": {
    "colab_type": "text",
    "id": "H5ePf_5bLNPK"
   },
   "source": [
    "## Work the data\n",
    "- if necessary or desired\n",
    "    - remove text or content, e.g. quotes (\") or metadata (===)\n",
    "    - add content or markers, e.g. (#FLAG, --NAME--)\n",
    "    - remove or convert special symbols, e.g. \"é\" to \"e\"\n",
    "    - remove or convert emoticons"
   ]
  },
  {
   "cell_type": "code",
   "execution_count": 5,
   "metadata": {
    "ExecuteTime": {
     "end_time": "2020-10-07T06:27:02.974518Z",
     "start_time": "2020-10-07T06:27:02.972444Z"
    },
    "colab": {},
    "colab_type": "code",
    "id": "BRq7VfoOLNPM"
   },
   "outputs": [
    {
     "name": "stdout",
     "output_type": "stream",
     "text": [
      "USS Enterprise (NCC-1701-D)\n",
      "\n",
      " For five hundred years, every ship that has borne the name of the Enterprise has become a legend. This one is no different. \n",
      "\n",
      "The USS Enterprise (NCC-1701-D) was a 24th century United Federation of Planets Galaxy Class starship operated by Starfleet, and the fifth Federation ship to bear the name Enterprise. During her career, the Enterprise served as the Federation flagship. The Enterprise was destroyed during the Battle of Veridian III in 2371.\n",
      "\n",
      " History \n",
      " Construction and launch \n",
      "The Enterprise was built at Utopia Planitia Fleet Yards orbiting Mars in the Solar system. The construction was a massive undertaking, involving thousands of people across disciplines. Construction was supervised by Commander Orfil Quinteros. Dr. Leah Brahms was responsible for much of the Enterprise's warp propulsion system design. Some of the Enterprise's components were derived from technology originally developed on the USS Pegasus.\n",
      "\n",
      "One of the ship's nacelle tube was the site of a multiple murder-suicide while she was still under construction at Utopia Planitia. A member of the construction team, Walter Pierce, became jealous of a former lover's new relationship. He killed the two officers, Marla Finn and William Hodges, then disposed of their bodies in the plasma stream. Pierce committed suicide in the same manner, leaving a telepathic imprint in a bulkhead that was not discovered until 2370.\n",
      "\n",
      "On stardate 40759.5, in the year 2363, the Enterprise was launched from Mars. On stardate 41025.5, the Enterprise was commissioned.\n",
      "\n",
      "These stardates weren't mentioned in dialog; they were from the Enterprise dedication plaque.\n",
      "\n",
      "Final systems completion and shakedown was conducted at Earth Station McKinley. Captain Jean-Luc Picard took command of the ship on stardate 41148 at the order of Rear Admiral Norah Satie.\n",
      "\n",
      " Legacy \n",
      "Commander Riker was upset over the loss of the Enterprise. Having hoped he would one day command the ship, he was disappointed that he never got that opportunity. However, Picard expressed doubt that the Enterprise-D would be the last vessel to carry the name.\n",
      "\n",
      "The Enterprise was so dear to Worf that, shortly after being reassigned to Deep Space 9 in 2372, he briefly considered resigning from Starfleet. Station commander Captain Benjamin Sisko expressed regret on the loss of the Enterprise and offered his condolences over the destruction of the ship to Worf, saying the Enterprise  was a good ship. \n",
      "\n",
      "Captain Picard's belief that the Enterprise-D would not be the final ship to bear the name was borne out with the christening of the Class Sovereign USS Enterprise NCC-1701-E, later the same year. In that instance, the legacy of the Enterprise continued with Picard reprising his role as CO and selecting most of the former crew from the Enterprise-D, with the notable exception of Worf due to his most recent assignment to DS9 (though he temporarily joined the Enterprise-E crew on several of their more notable missions).\n"
     ]
    }
   ],
   "source": [
    "# ANSWER\n",
    "\n",
    "pattern = '[\"=]+' # insert code here\n",
    "#flags = re.IGNORECASE # insert code here\n",
    "text = ' '.join(re.split(pattern, text))\n",
    "print(text)"
   ]
  },
  {
   "cell_type": "markdown",
   "metadata": {
    "colab_type": "text",
    "id": "xMG9Yim0LNPP"
   },
   "source": [
    "## Helper method"
   ]
  },
  {
   "cell_type": "code",
   "execution_count": 6,
   "metadata": {
    "ExecuteTime": {
     "end_time": "2020-10-07T06:27:02.983629Z",
     "start_time": "2020-10-07T06:27:02.977556Z"
    },
    "colab": {},
    "colab_type": "code",
    "id": "3oIPRH3gLNPQ"
   },
   "outputs": [],
   "source": [
    "# create a bar chart of the frequency of the words in the text\n",
    "def plot_words(tokens, top = 30):\n",
    "    tokens_counter = Counter(tokens)\n",
    "    tok = [t for (t, _) in tokens_counter.most_common()]\n",
    "    val = [v for (_, v) in tokens_counter.most_common()]\n",
    "\n",
    "    plt.figure(figsize = (16, 6))\n",
    "    plt.bar(tok[:top], val[:top])\n",
    "    plt.title('Number of terms: %d' % len(tokens_counter))\n",
    "    plt.xticks(rotation = 90)\n",
    "\n",
    "    plt.show()"
   ]
  },
  {
   "cell_type": "markdown",
   "metadata": {
    "colab_type": "text",
    "id": "U1FsFC6yLNPS"
   },
   "source": [
    "## spaCy model invocation and text processing\n",
    "spaCy does the processing of the text as part of the reading of the data."
   ]
  },
  {
   "cell_type": "code",
   "execution_count": 9,
   "metadata": {
    "ExecuteTime": {
     "end_time": "2020-10-07T06:27:03.512678Z",
     "start_time": "2020-10-07T06:27:02.985594Z"
    },
    "colab": {},
    "colab_type": "code",
    "id": "JgM48u-dLNPU"
   },
   "outputs": [],
   "source": [
    "# load spaCy and the English model\n",
    "nlp = spacy.load(\"en_core_web_sm\")\n",
    "\n",
    "# process the text\n",
    "doc = nlp(text)"
   ]
  },
  {
   "cell_type": "code",
   "execution_count": 10,
   "metadata": {},
   "outputs": [
    {
     "data": {
      "text/plain": [
       "spacy.lang.en.English"
      ]
     },
     "execution_count": 10,
     "metadata": {},
     "output_type": "execute_result"
    }
   ],
   "source": [
    "type(nlp)"
   ]
  },
  {
   "cell_type": "markdown",
   "metadata": {
    "colab_type": "text",
    "id": "z8--KeYzLNPW"
   },
   "source": [
    "## Tokenise"
   ]
  },
  {
   "cell_type": "code",
   "execution_count": 11,
   "metadata": {
    "ExecuteTime": {
     "end_time": "2020-10-07T06:27:03.520458Z",
     "start_time": "2020-10-07T06:27:03.514874Z"
    },
    "colab": {},
    "colab_type": "code",
    "id": "-7lVWo5DLNPe",
    "outputId": "b679dc9c-f19f-4ad2-fdbd-9b6755c17bae"
   },
   "outputs": [
    {
     "name": "stdout",
     "output_type": "stream",
     "text": [
      " 1| 'USS'\n",
      " 2| 'Enterprise'\n",
      " 3| '('\n",
      " 4| 'NCC-1701'\n",
      " 5| '-'\n",
      " 6| 'D'\n",
      " 7| ')'\n",
      " 8| '\\n\\n '\n",
      " 9| 'For'\n",
      "10| 'five'\n",
      "11| 'hundred'\n",
      "12| 'years'\n",
      "13| ','\n",
      "14| 'every'\n",
      "15| 'ship'\n",
      "16| 'that'\n",
      "17| 'has'\n",
      "18| 'borne'\n",
      "19| 'the'\n",
      "20| 'name'\n",
      "21| 'of'\n",
      "22| 'the'\n",
      "23| 'Enterprise'\n",
      "24| 'has'\n",
      "25| 'become'\n",
      "26| 'a'\n",
      "27| 'legend'\n",
      "28| '.'\n",
      "29| 'This'\n",
      "30| 'one'\n",
      "31| 'is'\n",
      "32| 'no'\n",
      "33| 'different'\n",
      "34| '.'\n",
      "35| '\\n\\n'\n",
      "36| 'The'\n",
      "37| 'USS'\n",
      "38| 'Enterprise'\n",
      "39| '('\n",
      "40| 'NCC-1701'\n",
      "41| '-'\n",
      "42| 'D'\n",
      "43| ')'\n",
      "44| 'was'\n",
      "45| 'a'\n",
      "46| '24th'\n",
      "47| 'century'\n",
      "48| 'United'\n",
      "49| 'Federation'\n",
      "50| 'of'\n",
      "51| 'Planets'\n",
      "52| 'Galaxy'\n",
      "53| 'Class'\n",
      "54| 'starship'\n",
      "55| 'operated'\n",
      "56| 'by'\n",
      "57| 'Starfleet'\n",
      "58| ','\n",
      "59| 'and'\n",
      "60| 'the'\n",
      "61| 'fifth'\n",
      "62| 'Federation'\n",
      "63| 'ship'\n",
      "64| 'to'\n",
      "65| 'bear'\n",
      "66| 'the'\n",
      "67| 'name'\n",
      "68| 'Enterprise'\n",
      "69| '.'\n",
      "70| 'During'\n",
      "71| 'her'\n",
      "72| 'career'\n",
      "73| ','\n",
      "74| 'the'\n",
      "75| 'Enterprise'\n",
      "76| 'served'\n",
      "77| 'as'\n",
      "78| 'the'\n",
      "79| 'Federation'\n",
      "80| 'flagship'\n",
      "81| '.'\n",
      "82| 'The'\n",
      "83| 'Enterprise'\n",
      "84| 'was'\n",
      "85| 'destroyed'\n",
      "86| 'during'\n",
      "87| 'the'\n",
      "88| 'Battle'\n",
      "89| 'of'\n",
      "90| 'Veridian'\n",
      "91| 'III'\n",
      "92| 'in'\n",
      "93| '2371'\n",
      "94| '.'\n",
      "95| '\\n\\n '\n",
      "96| 'History'\n",
      "97| '\\n '\n",
      "98| 'Construction'\n",
      "99| 'and'\n",
      "100| 'launch'\n",
      "101| '\\n'\n",
      "102| 'The'\n",
      "103| 'Enterprise'\n",
      "104| 'was'\n",
      "105| 'built'\n",
      "106| 'at'\n",
      "107| 'Utopia'\n",
      "108| 'Planitia'\n",
      "109| 'Fleet'\n",
      "110| 'Yards'\n",
      "111| 'orbiting'\n",
      "112| 'Mars'\n",
      "113| 'in'\n",
      "114| 'the'\n",
      "115| 'Solar'\n",
      "116| 'system'\n",
      "117| '.'\n",
      "118| 'The'\n",
      "119| 'construction'\n",
      "120| 'was'\n",
      "121| 'a'\n",
      "122| 'massive'\n",
      "123| 'undertaking'\n",
      "124| ','\n",
      "125| 'involving'\n",
      "126| 'thousands'\n",
      "127| 'of'\n",
      "128| 'people'\n",
      "129| 'across'\n",
      "130| 'disciplines'\n",
      "131| '.'\n",
      "132| 'Construction'\n",
      "133| 'was'\n",
      "134| 'supervised'\n",
      "135| 'by'\n",
      "136| 'Commander'\n",
      "137| 'Orfil'\n",
      "138| 'Quinteros'\n",
      "139| '.'\n",
      "140| 'Dr.'\n",
      "141| 'Leah'\n",
      "142| 'Brahms'\n",
      "143| 'was'\n",
      "144| 'responsible'\n",
      "145| 'for'\n",
      "146| 'much'\n",
      "147| 'of'\n",
      "148| 'the'\n",
      "149| 'Enterprise'\n",
      "150| \"'s\"\n",
      "151| 'warp'\n",
      "152| 'propulsion'\n",
      "153| 'system'\n",
      "154| 'design'\n",
      "155| '.'\n",
      "156| 'Some'\n",
      "157| 'of'\n",
      "158| 'the'\n",
      "159| 'Enterprise'\n",
      "160| \"'s\"\n",
      "161| 'components'\n",
      "162| 'were'\n",
      "163| 'derived'\n",
      "164| 'from'\n",
      "165| 'technology'\n",
      "166| 'originally'\n",
      "167| 'developed'\n",
      "168| 'on'\n",
      "169| 'the'\n",
      "170| 'USS'\n",
      "171| 'Pegasus'\n",
      "172| '.'\n",
      "173| '\\n\\n'\n",
      "174| 'One'\n",
      "175| 'of'\n",
      "176| 'the'\n",
      "177| 'ship'\n",
      "178| \"'s\"\n",
      "179| 'nacelle'\n",
      "180| 'tube'\n",
      "181| 'was'\n",
      "182| 'the'\n",
      "183| 'site'\n",
      "184| 'of'\n",
      "185| 'a'\n",
      "186| 'multiple'\n",
      "187| 'murder'\n",
      "188| '-'\n",
      "189| 'suicide'\n",
      "190| 'while'\n",
      "191| 'she'\n",
      "192| 'was'\n",
      "193| 'still'\n",
      "194| 'under'\n",
      "195| 'construction'\n",
      "196| 'at'\n",
      "197| 'Utopia'\n",
      "198| 'Planitia'\n",
      "199| '.'\n",
      "200| 'A'\n",
      "201| 'member'\n",
      "202| 'of'\n",
      "203| 'the'\n",
      "204| 'construction'\n",
      "205| 'team'\n",
      "206| ','\n",
      "207| 'Walter'\n",
      "208| 'Pierce'\n",
      "209| ','\n",
      "210| 'became'\n",
      "211| 'jealous'\n",
      "212| 'of'\n",
      "213| 'a'\n",
      "214| 'former'\n",
      "215| 'lover'\n",
      "216| \"'s\"\n",
      "217| 'new'\n",
      "218| 'relationship'\n",
      "219| '.'\n",
      "220| 'He'\n",
      "221| 'killed'\n",
      "222| 'the'\n",
      "223| 'two'\n",
      "224| 'officers'\n",
      "225| ','\n",
      "226| 'Marla'\n",
      "227| 'Finn'\n",
      "228| 'and'\n",
      "229| 'William'\n",
      "230| 'Hodges'\n",
      "231| ','\n",
      "232| 'then'\n",
      "233| 'disposed'\n",
      "234| 'of'\n",
      "235| 'their'\n",
      "236| 'bodies'\n",
      "237| 'in'\n",
      "238| 'the'\n",
      "239| 'plasma'\n",
      "240| 'stream'\n",
      "241| '.'\n",
      "242| 'Pierce'\n",
      "243| 'committed'\n",
      "244| 'suicide'\n",
      "245| 'in'\n",
      "246| 'the'\n",
      "247| 'same'\n",
      "248| 'manner'\n",
      "249| ','\n",
      "250| 'leaving'\n",
      "251| 'a'\n",
      "252| 'telepathic'\n",
      "253| 'imprint'\n",
      "254| 'in'\n",
      "255| 'a'\n",
      "256| 'bulkhead'\n",
      "257| 'that'\n",
      "258| 'was'\n",
      "259| 'not'\n",
      "260| 'discovered'\n",
      "261| 'until'\n",
      "262| '2370'\n",
      "263| '.'\n",
      "264| '\\n\\n'\n",
      "265| 'On'\n",
      "266| 'stardate'\n",
      "267| '40759.5'\n",
      "268| ','\n",
      "269| 'in'\n",
      "270| 'the'\n",
      "271| 'year'\n",
      "272| '2363'\n",
      "273| ','\n",
      "274| 'the'\n",
      "275| 'Enterprise'\n",
      "276| 'was'\n",
      "277| 'launched'\n",
      "278| 'from'\n",
      "279| 'Mars'\n",
      "280| '.'\n",
      "281| 'On'\n",
      "282| 'stardate'\n",
      "283| '41025.5'\n",
      "284| ','\n",
      "285| 'the'\n",
      "286| 'Enterprise'\n",
      "287| 'was'\n",
      "288| 'commissioned'\n",
      "289| '.'\n",
      "290| '\\n\\n'\n",
      "291| 'These'\n",
      "292| 'stardates'\n",
      "293| 'were'\n",
      "294| \"n't\"\n",
      "295| 'mentioned'\n",
      "296| 'in'\n",
      "297| 'dialog'\n",
      "298| ';'\n",
      "299| 'they'\n",
      "300| 'were'\n",
      "301| 'from'\n",
      "302| 'the'\n",
      "303| 'Enterprise'\n",
      "304| 'dedication'\n",
      "305| 'plaque'\n",
      "306| '.'\n",
      "307| '\\n\\n'\n",
      "308| 'Final'\n",
      "309| 'systems'\n",
      "310| 'completion'\n",
      "311| 'and'\n",
      "312| 'shakedown'\n",
      "313| 'was'\n",
      "314| 'conducted'\n",
      "315| 'at'\n",
      "316| 'Earth'\n",
      "317| 'Station'\n",
      "318| 'McKinley'\n",
      "319| '.'\n",
      "320| 'Captain'\n",
      "321| 'Jean'\n",
      "322| '-'\n",
      "323| 'Luc'\n",
      "324| 'Picard'\n",
      "325| 'took'\n",
      "326| 'command'\n",
      "327| 'of'\n",
      "328| 'the'\n",
      "329| 'ship'\n",
      "330| 'on'\n",
      "331| 'stardate'\n",
      "332| '41148'\n",
      "333| 'at'\n",
      "334| 'the'\n",
      "335| 'order'\n",
      "336| 'of'\n",
      "337| 'Rear'\n",
      "338| 'Admiral'\n",
      "339| 'Norah'\n",
      "340| 'Satie'\n",
      "341| '.'\n",
      "342| '\\n\\n '\n",
      "343| 'Legacy'\n",
      "344| '\\n'\n",
      "345| 'Commander'\n",
      "346| 'Riker'\n",
      "347| 'was'\n",
      "348| 'upset'\n",
      "349| 'over'\n",
      "350| 'the'\n",
      "351| 'loss'\n",
      "352| 'of'\n",
      "353| 'the'\n",
      "354| 'Enterprise'\n",
      "355| '.'\n",
      "356| 'Having'\n",
      "357| 'hoped'\n",
      "358| 'he'\n",
      "359| 'would'\n",
      "360| 'one'\n",
      "361| 'day'\n",
      "362| 'command'\n",
      "363| 'the'\n",
      "364| 'ship'\n",
      "365| ','\n",
      "366| 'he'\n",
      "367| 'was'\n",
      "368| 'disappointed'\n",
      "369| 'that'\n",
      "370| 'he'\n",
      "371| 'never'\n",
      "372| 'got'\n",
      "373| 'that'\n",
      "374| 'opportunity'\n",
      "375| '.'\n",
      "376| 'However'\n",
      "377| ','\n",
      "378| 'Picard'\n",
      "379| 'expressed'\n",
      "380| 'doubt'\n",
      "381| 'that'\n",
      "382| 'the'\n",
      "383| 'Enterprise'\n",
      "384| '-'\n",
      "385| 'D'\n",
      "386| 'would'\n",
      "387| 'be'\n",
      "388| 'the'\n",
      "389| 'last'\n",
      "390| 'vessel'\n",
      "391| 'to'\n",
      "392| 'carry'\n",
      "393| 'the'\n",
      "394| 'name'\n",
      "395| '.'\n",
      "396| '\\n\\n'\n",
      "397| 'The'\n",
      "398| 'Enterprise'\n",
      "399| 'was'\n",
      "400| 'so'\n",
      "401| 'dear'\n",
      "402| 'to'\n",
      "403| 'Worf'\n",
      "404| 'that'\n",
      "405| ','\n",
      "406| 'shortly'\n",
      "407| 'after'\n",
      "408| 'being'\n",
      "409| 'reassigned'\n",
      "410| 'to'\n",
      "411| 'Deep'\n",
      "412| 'Space'\n",
      "413| '9'\n",
      "414| 'in'\n",
      "415| '2372'\n",
      "416| ','\n",
      "417| 'he'\n",
      "418| 'briefly'\n",
      "419| 'considered'\n",
      "420| 'resigning'\n",
      "421| 'from'\n",
      "422| 'Starfleet'\n",
      "423| '.'\n",
      "424| 'Station'\n",
      "425| 'commander'\n",
      "426| 'Captain'\n",
      "427| 'Benjamin'\n",
      "428| 'Sisko'\n",
      "429| 'expressed'\n",
      "430| 'regret'\n",
      "431| 'on'\n",
      "432| 'the'\n",
      "433| 'loss'\n",
      "434| 'of'\n",
      "435| 'the'\n",
      "436| 'Enterprise'\n",
      "437| 'and'\n",
      "438| 'offered'\n",
      "439| 'his'\n",
      "440| 'condolences'\n",
      "441| 'over'\n",
      "442| 'the'\n",
      "443| 'destruction'\n",
      "444| 'of'\n",
      "445| 'the'\n",
      "446| 'ship'\n",
      "447| 'to'\n",
      "448| 'Worf'\n",
      "449| ','\n",
      "450| 'saying'\n",
      "451| 'the'\n",
      "452| 'Enterprise'\n",
      "453| ' '\n",
      "454| 'was'\n",
      "455| 'a'\n",
      "456| 'good'\n",
      "457| 'ship'\n",
      "458| '.'\n",
      "459| '\\n\\n'\n",
      "460| 'Captain'\n",
      "461| 'Picard'\n",
      "462| \"'s\"\n",
      "463| 'belief'\n",
      "464| 'that'\n",
      "465| 'the'\n",
      "466| 'Enterprise'\n",
      "467| '-'\n",
      "468| 'D'\n",
      "469| 'would'\n",
      "470| 'not'\n",
      "471| 'be'\n",
      "472| 'the'\n",
      "473| 'final'\n",
      "474| 'ship'\n",
      "475| 'to'\n",
      "476| 'bear'\n",
      "477| 'the'\n",
      "478| 'name'\n",
      "479| 'was'\n",
      "480| 'borne'\n",
      "481| 'out'\n",
      "482| 'with'\n",
      "483| 'the'\n",
      "484| 'christening'\n",
      "485| 'of'\n",
      "486| 'the'\n",
      "487| 'Class'\n",
      "488| 'Sovereign'\n",
      "489| 'USS'\n",
      "490| 'Enterprise'\n",
      "491| 'NCC-1701'\n",
      "492| '-'\n",
      "493| 'E'\n",
      "494| ','\n",
      "495| 'later'\n",
      "496| 'the'\n",
      "497| 'same'\n",
      "498| 'year'\n",
      "499| '.'\n",
      "500| 'In'\n",
      "501| 'that'\n",
      "502| 'instance'\n",
      "503| ','\n",
      "504| 'the'\n",
      "505| 'legacy'\n",
      "506| 'of'\n",
      "507| 'the'\n",
      "508| 'Enterprise'\n",
      "509| 'continued'\n",
      "510| 'with'\n",
      "511| 'Picard'\n",
      "512| 'reprising'\n",
      "513| 'his'\n",
      "514| 'role'\n",
      "515| 'as'\n",
      "516| 'CO'\n",
      "517| 'and'\n",
      "518| 'selecting'\n",
      "519| 'most'\n",
      "520| 'of'\n",
      "521| 'the'\n",
      "522| 'former'\n",
      "523| 'crew'\n",
      "524| 'from'\n",
      "525| 'the'\n",
      "526| 'Enterprise'\n",
      "527| '-'\n",
      "528| 'D'\n",
      "529| ','\n",
      "530| 'with'\n",
      "531| 'the'\n",
      "532| 'notable'\n",
      "533| 'exception'\n",
      "534| 'of'\n",
      "535| 'Worf'\n",
      "536| 'due'\n",
      "537| 'to'\n",
      "538| 'his'\n",
      "539| 'most'\n",
      "540| 'recent'\n",
      "541| 'assignment'\n",
      "542| 'to'\n",
      "543| 'DS9'\n",
      "544| '('\n",
      "545| 'though'\n",
      "546| 'he'\n",
      "547| 'temporarily'\n",
      "548| 'joined'\n",
      "549| 'the'\n",
      "550| 'Enterprise'\n",
      "551| '-'\n",
      "552| 'E'\n",
      "553| 'crew'\n",
      "554| 'on'\n",
      "555| 'several'\n",
      "556| 'of'\n",
      "557| 'their'\n",
      "558| 'more'\n",
      "559| 'notable'\n",
      "560| 'missions'\n",
      "561| ')'\n",
      "562| '.'\n"
     ]
    }
   ],
   "source": [
    "# only show the results\n",
    "# spaCy has done it already\n",
    "for i, t in enumerate(doc):\n",
    "    print('%2d| %r' % (i+1, t.text))\n",
    "#     if t.text == '.':\n",
    "#         break"
   ]
  },
  {
   "cell_type": "code",
   "execution_count": 12,
   "metadata": {
    "ExecuteTime": {
     "end_time": "2020-10-07T06:27:03.529986Z",
     "start_time": "2020-10-07T06:27:03.527209Z"
    },
    "colab": {},
    "colab_type": "code",
    "id": "Gcg4Hkx4LNPh",
    "scrolled": false
   },
   "outputs": [
    {
     "data": {
      "image/png": "[encoded data removed]",
      "text/plain": [
       "<Figure size 1152x432 with 1 Axes>"
      ]
     },
     "metadata": {
      "needs_background": "light"
     },
     "output_type": "display_data"
    }
   ],
   "source": [
    "# ANSWER - Visualise the tokenised words\n",
    "\n",
    "plot_words(['%r' % t.text for t in doc])"
   ]
  },
  {
   "cell_type": "markdown",
   "metadata": {
    "colab_type": "text",
    "id": "iAtMzEZTLNPj"
   },
   "source": [
    "### Stop Words"
   ]
  },
  {
   "cell_type": "code",
   "execution_count": 13,
   "metadata": {
    "ExecuteTime": {
     "end_time": "2020-10-07T06:27:03.540660Z",
     "start_time": "2020-10-07T06:27:03.534759Z"
    },
    "colab": {},
    "colab_type": "code",
    "id": "zOzudmrILNPq",
    "outputId": "1e58fcfc-674d-42f1-e82a-63f7d61a837a"
   },
   "outputs": [
    {
     "name": "stdout",
     "output_type": "stream",
     "text": [
      "i | with stop words without\n",
      "--| --------------- ------------\n",
      " 1| 'USS'           'USS'\n",
      " 2| 'Enterprise'    'Enterprise'\n",
      " 3| '('             '('\n",
      " 4| 'NCC-1701'      'NCC-1701'\n",
      " 5| '-'             '-'\n",
      " 6| 'D'             'D'\n",
      " 7| ')'             ')'\n",
      " 8| '\\n\\n '         '\\n\\n '\n",
      " 9| 'For'           ''\n",
      "10| 'five'          ''\n",
      "11| 'hundred'       ''\n",
      "12| 'years'         'years'\n",
      "13| ','             ','\n",
      "14| 'every'         ''\n",
      "15| 'ship'          'ship'\n",
      "16| 'that'          ''\n",
      "17| 'has'           ''\n",
      "18| 'borne'         'borne'\n",
      "19| 'the'           ''\n",
      "20| 'name'          ''\n",
      "21| 'of'            ''\n",
      "22| 'the'           ''\n",
      "23| 'Enterprise'    'Enterprise'\n",
      "24| 'has'           ''\n",
      "25| 'become'        ''\n",
      "26| 'a'             ''\n",
      "27| 'legend'        'legend'\n",
      "28| '.'             '.'\n"
     ]
    }
   ],
   "source": [
    "## spaCy\n",
    "print('i | with stop words without')\n",
    "print('--| --------------- ------------')\n",
    "\n",
    "# for all the tokens\n",
    "for i, t in enumerate(doc):\n",
    "    print('%2d| %-15r %r' % (i+1, t.text, ('' if t.is_stop else t.text)))\n",
    "\n",
    "    # break after the first sentence\n",
    "    if t.text == '.':\n",
    "        break"
   ]
  },
  {
   "cell_type": "code",
   "execution_count": 14,
   "metadata": {
    "ExecuteTime": {
     "end_time": "2020-10-07T06:27:03.899378Z",
     "start_time": "2020-10-07T06:27:03.543763Z"
    },
    "colab": {},
    "colab_type": "code",
    "id": "B2LoqLmULNPs",
    "outputId": "63f83744-f889-462f-f166-d8add6a03f7e"
   },
   "outputs": [
    {
     "data": {
      "image/png": "[encoded data removed]",
      "text/plain": [
       "<Figure size 1152x432 with 1 Axes>"
      ]
     },
     "metadata": {
      "needs_background": "light"
     },
     "output_type": "display_data"
    }
   ],
   "source": [
    "plot_words(['%r' % t.text for t in doc if not (t.is_stop | t.is_punct)])"
   ]
  },
  {
   "cell_type": "markdown",
   "metadata": {
    "colab_type": "text",
    "id": "9uqME12uLNPu"
   },
   "source": [
    "### Check Part of Speech"
   ]
  },
  {
   "cell_type": "code",
   "execution_count": 15,
   "metadata": {
    "ExecuteTime": {
     "end_time": "2020-10-07T06:27:03.906982Z",
     "start_time": "2020-10-07T06:27:03.901455Z"
    },
    "colab": {},
    "colab_type": "code",
    "id": "vD-BrcLALNPz",
    "outputId": "a26b4e4f-095a-4086-a8fe-841cbbfb5b05"
   },
   "outputs": [
    {
     "name": "stdout",
     "output_type": "stream",
     "text": [
      " 1|'USS'        : PROPN NNP\n",
      " 2|'Enterprise' : PROPN NNP\n",
      " 3|'('          : PUNCT -LRB-\n",
      " 4|'NCC-1701'   : PROPN NNP\n",
      " 5|'-'          : PUNCT HYPH\n",
      " 6|'D'          : NOUN  NN\n",
      " 7|')'          : PUNCT -RRB-\n",
      " 8|'\\n\\n '      : SPACE _SP\n",
      " 9|'For'        : ADP   IN\n",
      "10|'five'       : NUM   CD\n",
      "11|'hundred'    : NUM   CD\n",
      "12|'years'      : NOUN  NNS\n",
      "13|','          : PUNCT ,\n",
      "14|'every'      : DET   DT\n",
      "15|'ship'       : NOUN  NN\n",
      "16|'that'       : PRON  WDT\n",
      "17|'has'        : AUX   VBZ\n",
      "18|'borne'      : VERB  VBN\n",
      "19|'the'        : DET   DT\n",
      "20|'name'       : NOUN  NN\n",
      "21|'of'         : ADP   IN\n",
      "22|'the'        : DET   DT\n",
      "23|'Enterprise' : NOUN  NN\n",
      "24|'has'        : AUX   VBZ\n",
      "25|'become'     : VERB  VBN\n",
      "26|'a'          : DET   DT\n",
      "27|'legend'     : NOUN  NN\n",
      "28|'.'          : PUNCT .\n"
     ]
    }
   ],
   "source": [
    "## spaCy\n",
    "for i, t in enumerate(doc):\n",
    "    print('%2d|%-12r : %-5s %s' % (i+1, t.text, t.pos_, t.tag_))\n",
    "    if t.text == '.':\n",
    "        break"
   ]
  },
  {
   "cell_type": "markdown",
   "metadata": {},
   "source": [
    "### Lemmatisation"
   ]
  },
  {
   "cell_type": "code",
   "execution_count": 16,
   "metadata": {
    "ExecuteTime": {
     "end_time": "2020-10-07T06:27:03.914723Z",
     "start_time": "2020-10-07T06:27:03.909364Z"
    },
    "colab": {},
    "colab_type": "code",
    "id": "448zp9_vLNQC",
    "outputId": "561168c1-3a42-449d-9be3-dd22182459c3"
   },
   "outputs": [
    {
     "name": "stdout",
     "output_type": "stream",
     "text": [
      "i | Token        Lemma\n",
      "--| ------------ ------------\n",
      " 1| 'USS'        'USS'\n",
      " 2| 'Enterprise' 'Enterprise'\n",
      " 3| '('          '('\n",
      " 4| 'NCC-1701'   'NCC-1701'\n",
      " 5| '-'          '-'\n",
      " 6| 'D'          'd'\n",
      " 7| ')'          ')'\n",
      " 8| '\\n\\n '      '\\n\\n '\n",
      " 9| 'For'        'for'\n",
      "10| 'five'       'five'\n",
      "11| 'hundred'    'hundred'\n",
      "12| 'years'      'year'\n",
      "13| ','          ','\n",
      "14| 'every'      'every'\n",
      "15| 'ship'       'ship'\n",
      "16| 'that'       'that'\n",
      "17| 'has'        'have'\n",
      "18| 'borne'      'bear'\n",
      "19| 'the'        'the'\n",
      "20| 'name'       'name'\n",
      "21| 'of'         'of'\n",
      "22| 'the'        'the'\n",
      "23| 'Enterprise' 'enterprise'\n",
      "24| 'has'        'have'\n",
      "25| 'become'     'become'\n",
      "26| 'a'          'a'\n",
      "27| 'legend'     'legend'\n",
      "28| '.'          '.'\n"
     ]
    }
   ],
   "source": [
    "## spaCy\n",
    "print('i | Token        Lemma')\n",
    "print('--| ------------ ------------')\n",
    "for i, t in enumerate(doc):\n",
    "    print('%2d| %-12r %r' % (i+1, t.text, t.lemma_))\n",
    "    if t.text == '.':\n",
    "        break"
   ]
  },
  {
   "cell_type": "code",
   "execution_count": 17,
   "metadata": {
    "ExecuteTime": {
     "end_time": "2020-10-07T06:27:04.252720Z",
     "start_time": "2020-10-07T06:27:03.917101Z"
    },
    "colab": {},
    "colab_type": "code",
    "id": "i-7pqVMxLNQD",
    "outputId": "6deff35e-0d28-4351-bbab-7600618eb817"
   },
   "outputs": [
    {
     "data": {
      "image/png": "[encoded data removed]",
      "text/plain": [
       "<Figure size 1152x432 with 1 Axes>"
      ]
     },
     "metadata": {
      "needs_background": "light"
     },
     "output_type": "display_data"
    }
   ],
   "source": [
    "# create a bar chart of the frequency of the words in the text\n",
    "def plot_words(tokens, top = 30):\n",
    "    tokens_counter = Counter(tokens)\n",
    "    tok = [t for (t, _) in tokens_counter.most_common()]\n",
    "    val = [v for (_, v) in tokens_counter.most_common()]\n",
    "\n",
    "    plt.figure(figsize = (16, 6))\n",
    "    plt.bar(tok[:top], val[:top])\n",
    "    plt.title('Number of terms: %d' % len(tokens_counter))\n",
    "    plt.xticks(rotation = 90)\n",
    "\n",
    "    plt.show()\n",
    "\n",
    "plot_words(['%r' % t.lemma_ for t in doc if not (t.is_stop | t.is_punct)])"
   ]
  },
  {
   "cell_type": "markdown",
   "metadata": {
    "colab_type": "text",
    "id": "RHUdgHM7LNQF"
   },
   "source": [
    "### Entity Recognition"
   ]
  },
  {
   "cell_type": "code",
   "execution_count": 18,
   "metadata": {
    "ExecuteTime": {
     "end_time": "2020-10-07T06:27:04.308642Z",
     "start_time": "2020-10-07T06:27:04.255170Z"
    },
    "colab": {},
    "colab_type": "code",
    "id": "yyOrZ42oLNQH",
    "outputId": "dfcee498-0002-4064-98ca-fa11668978d5",
    "scrolled": false
   },
   "outputs": [
    {
     "name": "stdout",
     "output_type": "stream",
     "text": [
      " 0: USS Enterprise (NCC-1701-D) For five hundred years, every ship that has borne the name of the Enterprise has become a legend.\n",
      "--------------------------------------------------------------------------------\n",
      "DATE       : five hundred years\n",
      "ORG        : Enterprise\n",
      "================================================================================\n",
      " 1: This one is no different.\n",
      "================================================================================\n",
      " 2: The USS Enterprise (NCC-1701-D) was a 24th century United Federation of Planets Galaxy Class starship operated by Starfleet, and the fifth Federation ship to bear the name Enterprise.\n",
      "--------------------------------------------------------------------------------\n",
      "PRODUCT    : The USS Enterprise\n",
      "DATE       : a 24th century\n",
      "ORG        : United Federation of Planets Galaxy\n",
      "GPE        : Starfleet\n",
      "ORDINAL    : fifth\n",
      "ORG        : Enterprise\n",
      "================================================================================\n",
      " 3: During her career, the Enterprise served as the Federation flagship.\n",
      "--------------------------------------------------------------------------------\n",
      "ORG        : Enterprise\n",
      "================================================================================\n",
      " 4: The Enterprise was destroyed during the Battle of Veridian III in 2371.\n",
      "--------------------------------------------------------------------------------\n",
      "ORG        : Enterprise\n",
      "DATE       : 2371\n",
      "================================================================================\n",
      " 5:  History  Construction and launch \n",
      "--------------------------------------------------------------------------------\n",
      "ORG        : History  Construction\n",
      "================================================================================\n",
      " 6: The Enterprise was built at Utopia Planitia Fleet Yards orbiting Mars in the Solar system.\n",
      "--------------------------------------------------------------------------------\n",
      "ORG        : Enterprise\n",
      "ORG        : Utopia Planitia Fleet Yards\n",
      "LOC        : Mars\n",
      "ORG        : Solar\n",
      "================================================================================\n",
      " 7: The construction was a massive undertaking, involving thousands of people across disciplines.\n",
      "--------------------------------------------------------------------------------\n",
      "CARDINAL   : thousands\n",
      "================================================================================\n",
      " 8: Construction was supervised by Commander Orfil Quinteros.\n",
      "--------------------------------------------------------------------------------\n",
      "PERSON     : Orfil Quinteros\n",
      "================================================================================\n",
      " 9: Dr. Leah Brahms was responsible for much of the Enterprise's warp propulsion system design.\n",
      "--------------------------------------------------------------------------------\n",
      "PERSON     : Leah Brahms\n",
      "ORG        : Enterprise\n",
      "================================================================================\n",
      "10: Some of the Enterprise's components were derived from technology originally developed on the USS Pegasus.\n",
      "--------------------------------------------------------------------------------\n",
      "ORG        : Enterprise\n",
      "PRODUCT    : the USS Pegasus\n",
      "================================================================================\n",
      "11: One of the ship's nacelle tube was the site of a multiple murder-suicide while she was still under construction at Utopia Planitia.\n",
      "--------------------------------------------------------------------------------\n",
      "CARDINAL   : One\n",
      "ORG        : Utopia Planitia\n",
      "================================================================================\n",
      "12: A member of the construction team, Walter Pierce, became jealous of a former lover's new relationship.\n",
      "--------------------------------------------------------------------------------\n",
      "PERSON     : Walter Pierce\n",
      "================================================================================\n",
      "13: He killed the two officers, Marla Finn and William Hodges, then disposed of their bodies in the plasma stream.\n",
      "--------------------------------------------------------------------------------\n",
      "CARDINAL   : two\n",
      "PERSON     : Marla Finn\n",
      "PERSON     : William Hodges\n",
      "================================================================================\n",
      "14: Pierce committed suicide in the same manner, leaving a telepathic imprint in a bulkhead that was not discovered until 2370.\n",
      "--------------------------------------------------------------------------------\n",
      "DATE       : 2370\n",
      "================================================================================\n",
      "15: On stardate 40759.5, in the year 2363, the Enterprise was launched from Mars.\n",
      "--------------------------------------------------------------------------------\n",
      "CARDINAL   : 40759.5\n",
      "DATE       : the year 2363\n",
      "ORG        : Enterprise\n",
      "LOC        : Mars\n",
      "================================================================================\n",
      "16: On stardate 41025.5, the Enterprise was commissioned.\n",
      "--------------------------------------------------------------------------------\n",
      "CARDINAL   : 41025.5\n",
      "ORG        : Enterprise\n",
      "================================================================================\n",
      "17: These stardates weren't mentioned in dialog; they were from the Enterprise dedication plaque.\n",
      "--------------------------------------------------------------------------------\n",
      "ORG        : Enterprise\n",
      "================================================================================\n",
      "18: Final systems completion and shakedown was conducted at Earth Station McKinley.\n",
      "--------------------------------------------------------------------------------\n",
      "LOC        : Earth Station McKinley\n",
      "================================================================================\n",
      "19: Captain Jean-Luc Picard took command of the ship on stardate 41148 at the order of Rear Admiral Norah Satie.\n",
      "--------------------------------------------------------------------------------\n",
      "PERSON     : Jean-Luc Picard\n",
      "CARDINAL   : 41148\n",
      "ORG        : Rear\n",
      "PERSON     : Norah Satie\n",
      "================================================================================\n",
      "20:  Legacy Commander Riker was upset over the loss of the Enterprise.\n",
      "--------------------------------------------------------------------------------\n",
      "PERSON     : Riker\n",
      "ORG        : Enterprise\n",
      "================================================================================\n",
      "21: Having hoped he would one day command the ship, he was disappointed that he never got that opportunity.\n",
      "================================================================================\n",
      "22: However, Picard expressed doubt that the Enterprise-D would be the last vessel to carry the name.\n",
      "--------------------------------------------------------------------------------\n",
      "PERSON     : Picard\n",
      "================================================================================\n",
      "23: The Enterprise was so dear to Worf that, shortly after being reassigned to Deep Space 9 in 2372, he briefly considered resigning from Starfleet.\n",
      "--------------------------------------------------------------------------------\n",
      "ORG        : Enterprise\n",
      "PERSON     : Worf\n",
      "PERSON     : Deep Space\n",
      "DATE       : 2372\n",
      "GPE        : Starfleet\n",
      "================================================================================\n",
      "24: Station commander Captain Benjamin Sisko expressed regret on the loss of the Enterprise and offered his condolences over the destruction of the ship to Worf, saying the Enterprise  was a good ship.\n",
      "--------------------------------------------------------------------------------\n",
      "PERSON     : Benjamin Sisko\n",
      "ORG        : Enterprise\n",
      "PERSON     : Worf\n",
      "================================================================================\n",
      "25: Captain Picard's belief that the Enterprise-D would not be the final ship to bear the name was borne out with the christening of the Class Sovereign USS Enterprise NCC-1701-E, later the same year.\n",
      "--------------------------------------------------------------------------------\n",
      "PERSON     : Picard\n",
      "DATE       : later the same year\n",
      "================================================================================\n",
      "26: In that instance, the legacy of the Enterprise continued with Picard reprising his role as CO and selecting most of the former crew from the Enterprise-D, with the notable exception of Worf due to his most recent assignment to DS9 (though he temporarily joined the Enterprise-E crew on several of their more notable missions).\n",
      "--------------------------------------------------------------------------------\n",
      "ORG        : Enterprise\n",
      "PERSON     : Picard\n",
      "PERSON     : Worf\n",
      "ORG        : Enterprise\n",
      "================================================================================\n"
     ]
    }
   ],
   "source": [
    "## spaCy\n",
    "for i, s in enumerate(doc.sents):\n",
    "    print('%2d: %s' % (i, re.sub(r'\\n+', '', s.text)))\n",
    "    if s.as_doc().ents:\n",
    "        print('-'*80)\n",
    "        for e in s.as_doc().ents:\n",
    "            print('%-11s: %s' % (e.label_, re.sub(r'\\n+', '', e.text)))\n",
    "    print('='*80)"
   ]
  },
  {
   "cell_type": "markdown",
   "metadata": {},
   "source": [
    "## Extra: Using NLTK for NLP"
   ]
  },
  {
   "cell_type": "code",
   "execution_count": null,
   "metadata": {
    "ExecuteTime": {
     "end_time": "2020-10-07T06:42:08.014090Z",
     "start_time": "2020-10-07T06:42:06.293808Z"
    }
   },
   "outputs": [],
   "source": [
    "# conda install -c anaconda nltk\n",
    "import nltk"
   ]
  },
  {
   "cell_type": "markdown",
   "metadata": {},
   "source": [
    "In a Python interpreter, execute the following commands:\n",
    "\n",
    "- import nltk\n",
    "- nltk.download()\n",
    "\n",
    "At the NLTK Downloader GUI, install the following:\n",
    "\n",
    "- averaged_perceptron_tagger\n",
    "- ACE Named Entity Chunker (Maximum entropy)\n",
    "- Punkt Tokenizer Models\n",
    "- Stopwords Corpus\n",
    "- WordNet\n",
    "- Word Lists"
   ]
  },
  {
   "cell_type": "markdown",
   "metadata": {},
   "source": [
    "### Tokenise"
   ]
  },
  {
   "cell_type": "code",
   "execution_count": 19,
   "metadata": {
    "ExecuteTime": {
     "end_time": "2020-10-07T06:27:04.615658Z",
     "start_time": "2020-10-07T06:27:04.311241Z"
    },
    "colab": {},
    "colab_type": "code",
    "id": "pML63M9KLNPX",
    "outputId": "29a6c627-0eee-4ece-bb34-47eacbbb53ff",
    "scrolled": true
   },
   "outputs": [
    {
     "name": "stdout",
     "output_type": "stream",
     "text": [
      " 1| 'USS'\n",
      " 2| 'Enterprise'\n",
      " 3| '('\n",
      " 4| 'NCC-1701-D'\n",
      " 5| ')'\n",
      " 6| 'For'\n",
      " 7| 'five'\n",
      " 8| 'hundred'\n",
      " 9| 'years'\n",
      "10| ','\n",
      "11| 'every'\n",
      "12| 'ship'\n",
      "13| 'that'\n",
      "14| 'has'\n",
      "15| 'borne'\n",
      "16| 'the'\n",
      "17| 'name'\n",
      "18| 'of'\n",
      "19| 'the'\n",
      "20| 'Enterprise'\n",
      "21| 'has'\n",
      "22| 'become'\n",
      "23| 'a'\n",
      "24| 'legend'\n",
      "25| '.'\n"
     ]
    }
   ],
   "source": [
    "# use nltk to find tokens\n",
    "tokens = nltk.word_tokenize(text)\n",
    "\n",
    "for i, t in enumerate(tokens[:25]):\n",
    "    print('%2d| %r' % (i+1, t))"
   ]
  },
  {
   "cell_type": "code",
   "execution_count": 20,
   "metadata": {
    "ExecuteTime": {
     "end_time": "2020-10-07T06:27:04.618540Z",
     "start_time": "2020-10-07T06:27:01.440Z"
    },
    "colab": {},
    "colab_type": "code",
    "id": "G5C3ituYLNPZ",
    "outputId": "db39aade-f506-4b45-ed1e-56327c19e4f7"
   },
   "outputs": [
    {
     "data": {
      "image/png": "[encoded data removed]",
      "text/plain": [
       "<Figure size 1152x432 with 1 Axes>"
      ]
     },
     "metadata": {
      "needs_background": "light"
     },
     "output_type": "display_data"
    }
   ],
   "source": [
    "plot_words(tokens)"
   ]
  },
  {
   "cell_type": "markdown",
   "metadata": {},
   "source": [
    "### Stop words"
   ]
  },
  {
   "cell_type": "code",
   "execution_count": 21,
   "metadata": {
    "ExecuteTime": {
     "end_time": "2020-10-07T06:27:04.620114Z",
     "start_time": "2020-10-07T06:27:01.441Z"
    },
    "colab": {},
    "colab_type": "code",
    "id": "BnY2rFzuLNPj",
    "outputId": "f64087cd-8e4b-4df5-fb2d-7b04851bde34",
    "scrolled": true
   },
   "outputs": [
    {
     "name": "stdout",
     "output_type": "stream",
     "text": [
      "a, about, above, after, again, against, ain, all, am, an, and, any, are, aren, aren't, as, at, be, because, been, before, being, below, between, both, but, by, can, couldn, couldn't, d, did, didn, didn't, do, does, doesn, doesn't, doing, don, don't, down, during, each, few, for, from, further, had, hadn, hadn't, has, hasn, hasn't, have, haven, haven't, having, he, her, here, hers, herself, him, himself, his, how, i, if, in, into, is, isn, isn't, it, it's, its, itself, just, ll, m, ma, me, mightn, mightn't, more, most, mustn, mustn't, my, myself, needn, needn't, no, nor, not, now, o, of, off, on, once, only, or, other, our, ours, ourselves, out, over, own, re, s, same, shan, shan't, she, she's, should, should've, shouldn, shouldn't, so, some, such, t, than, that, that'll, the, their, theirs, them, themselves, then, there, these, they, this, those, through, to, too, under, until, up, ve, very, was, wasn, wasn't, we, were, weren, weren't, what, when, where, which, while, who, whom, why, will, with, won, won't, wouldn, wouldn't, y, you, you'd, you'll, you're, you've, your, yours, yourself, yourselves\n"
     ]
    }
   ],
   "source": [
    "stopWords = nltk.corpus.stopwords.words('english')\n",
    "\n",
    "stopWords.sort()\n",
    "print(', '.join(stopWords))"
   ]
  },
  {
   "cell_type": "code",
   "execution_count": 22,
   "metadata": {
    "ExecuteTime": {
     "end_time": "2020-10-07T06:27:04.621900Z",
     "start_time": "2020-10-07T06:27:01.443Z"
    },
    "colab": {},
    "colab_type": "code",
    "id": "dksPJF7YcI1o"
   },
   "outputs": [
    {
     "name": "stdout",
     "output_type": "stream",
     "text": [
      "['USS', 'Enterprise', '(', 'NCC-1701-D', ')', 'For', 'five', 'hundred', 'years', ',', 'every', 'ship', 'borne', 'name', 'Enterprise', 'become', 'legend', '.', 'This', 'one', 'different', '.', 'The', 'USS', 'Enterprise', '(', 'NCC-1701-D', ')', '24th', 'century', 'United', 'Federation', 'Planets', 'Galaxy', 'Class', 'starship', 'operated', 'Starfleet', ',', 'fifth', 'Federation', 'ship', 'bear', 'name', 'Enterprise', '.', 'During', 'career', ',', 'Enterprise', 'served', 'Federation', 'flagship', '.', 'The', 'Enterprise', 'destroyed', 'Battle', 'Veridian', 'III', '2371', '.', 'History', 'Construction', 'launch', 'The', 'Enterprise', 'built', 'Utopia', 'Planitia', 'Fleet', 'Yards', 'orbiting', 'Mars', 'Solar', 'system', '.', 'The', 'construction', 'massive', 'undertaking', ',', 'involving', 'thousands', 'people', 'across', 'disciplines', '.', 'Construction', 'supervised', 'Commander', 'Orfil', 'Quinteros', '.', 'Dr.', 'Leah', 'Brahms', 'responsible', 'much', 'Enterprise', \"'s\", 'warp', 'propulsion', 'system', 'design', '.', 'Some', 'Enterprise', \"'s\", 'components', 'derived', 'technology', 'originally', 'developed', 'USS', 'Pegasus', '.', 'One', 'ship', \"'s\", 'nacelle', 'tube', 'site', 'multiple', 'murder-suicide', 'still', 'construction', 'Utopia', 'Planitia', '.', 'A', 'member', 'construction', 'team', ',', 'Walter', 'Pierce', ',', 'became', 'jealous', 'former', 'lover', \"'s\", 'new', 'relationship', '.', 'He', 'killed', 'two', 'officers', ',', 'Marla', 'Finn', 'William', 'Hodges', ',', 'disposed', 'bodies', 'plasma', 'stream', '.', 'Pierce', 'committed', 'suicide', 'manner', ',', 'leaving', 'telepathic', 'imprint', 'bulkhead', 'discovered', '2370', '.', 'On', 'stardate', '40759.5', ',', 'year', '2363', ',', 'Enterprise', 'launched', 'Mars', '.', 'On', 'stardate', '41025.5', ',', 'Enterprise', 'commissioned', '.', 'These', 'stardates', \"n't\", 'mentioned', 'dialog', ';', 'Enterprise', 'dedication', 'plaque', '.', 'Final', 'systems', 'completion', 'shakedown', 'conducted', 'Earth', 'Station', 'McKinley', '.', 'Captain', 'Jean-Luc', 'Picard', 'took', 'command', 'ship', 'stardate', '41148', 'order', 'Rear', 'Admiral', 'Norah', 'Satie', '.', 'Legacy', 'Commander', 'Riker', 'upset', 'loss', 'Enterprise', '.', 'Having', 'hoped', 'would', 'one', 'day', 'command', 'ship', ',', 'disappointed', 'never', 'got', 'opportunity', '.', 'However', ',', 'Picard', 'expressed', 'doubt', 'Enterprise-D', 'would', 'last', 'vessel', 'carry', 'name', '.', 'The', 'Enterprise', 'dear', 'Worf', ',', 'shortly', 'reassigned', 'Deep', 'Space', '9', '2372', ',', 'briefly', 'considered', 'resigning', 'Starfleet', '.', 'Station', 'commander', 'Captain', 'Benjamin', 'Sisko', 'expressed', 'regret', 'loss', 'Enterprise', 'offered', 'condolences', 'destruction', 'ship', 'Worf', ',', 'saying', 'Enterprise', 'good', 'ship', '.', 'Captain', 'Picard', \"'s\", 'belief', 'Enterprise-D', 'would', 'final', 'ship', 'bear', 'name', 'borne', 'christening', 'Class', 'Sovereign', 'USS', 'Enterprise', 'NCC-1701-E', ',', 'later', 'year', '.', 'In', 'instance', ',', 'legacy', 'Enterprise', 'continued', 'Picard', 'reprising', 'role', 'CO', 'selecting', 'former', 'crew', 'Enterprise-D', ',', 'notable', 'exception', 'Worf', 'due', 'recent', 'assignment', 'DS9', '(', 'though', 'temporarily', 'joined', 'Enterprise-E', 'crew', 'several', 'notable', 'missions', ')', '.']\n"
     ]
    }
   ],
   "source": [
    "# ANSWER - create a list of tokens withOUT the stop words\n",
    "tokens_no_stop = []\n",
    "for w in tokens:\n",
    "    if w not in stopWords:\n",
    "        tokens_no_stop.append(w)\n",
    "        \n",
    "print(tokens_no_stop)        \n",
    "\n",
    "# NOTE: see the `.lower()` method applied to token\n",
    "# tokens_no_stop = '' # create a list of tokens withOUT the stop words "
   ]
  },
  {
   "cell_type": "code",
   "execution_count": 23,
   "metadata": {
    "ExecuteTime": {
     "end_time": "2020-10-07T06:27:04.623626Z",
     "start_time": "2020-10-07T06:27:01.444Z"
    },
    "colab": {},
    "colab_type": "code",
    "id": "a82KBILRLNPm",
    "outputId": "b33cef88-79ab-4e06-9c0e-9f2a4a588306"
   },
   "outputs": [
    {
     "name": "stdout",
     "output_type": "stream",
     "text": [
      "i | with stop words without\n",
      "j | --------------- ------------\n",
      " 1| 'USS'           'USS'\n",
      " 2| 'Enterprise'    'Enterprise'\n",
      " 3| '('             '('\n",
      " 4| 'NCC-1701-D'    'NCC-1701-D'\n",
      " 5| ')'             ')'\n",
      " 6| 'For'           'For'\n",
      " 7| 'five'          'five'\n",
      " 8| 'hundred'       'hundred'\n",
      " 9| 'years'         'years'\n",
      "10| ','             ','\n",
      "11| 'every'         'every'\n",
      "12| 'ship'          'ship'\n",
      "13| 'that'         \n",
      "14| 'has'          \n",
      "15| 'borne'         'borne'\n",
      "16| 'the'          \n",
      "17| 'name'          'name'\n",
      "18| 'of'           \n",
      "19| 'the'          \n",
      "20| 'Enterprise'    'Enterprise'\n",
      "21| 'has'          \n",
      "22| 'become'        'become'\n",
      "23| 'a'            \n",
      "24| 'legend'        'legend'\n",
      "25| '.'             '.'\n"
     ]
    }
   ],
   "source": [
    "## NLTK\n",
    "i = 0\n",
    "j = 0\n",
    "\n",
    "print('i | with stop words without')\n",
    "print('j | --------------- ------------')\n",
    "\n",
    "# for all the tokens\n",
    "while i < len(tokens):\n",
    "    # same word\n",
    "    if tokens[i] == tokens_no_stop[j]:\n",
    "        print('%2d| %-15r %r' % (i+1, tokens[i], tokens_no_stop[j]))\n",
    "        j += 1\n",
    "    # not the same word\n",
    "    else:\n",
    "        print('%2d| %-15r' % (i+1, tokens[i]))\n",
    "\n",
    "    # next word\n",
    "    i += 1\n",
    "    # break after the first sentence\n",
    "    if tokens[i-1] == '.':\n",
    "        break"
   ]
  },
  {
   "cell_type": "code",
   "execution_count": null,
   "metadata": {
    "ExecuteTime": {
     "end_time": "2020-10-07T06:27:04.625071Z",
     "start_time": "2020-10-07T06:27:01.445Z"
    },
    "colab": {},
    "colab_type": "code",
    "id": "uPtOoiwuLNPo"
   },
   "outputs": [],
   "source": [
    "# ANSWER - Create plot of words without stopword"
   ]
  },
  {
   "cell_type": "markdown",
   "metadata": {},
   "source": [
    "### Check Part of Speech"
   ]
  },
  {
   "cell_type": "code",
   "execution_count": 24,
   "metadata": {
    "ExecuteTime": {
     "end_time": "2020-10-07T06:27:04.626712Z",
     "start_time": "2020-10-07T06:27:01.447Z"
    },
    "colab": {},
    "colab_type": "code",
    "id": "KRupju0sLNPv"
   },
   "outputs": [],
   "source": [
    "# define PoS\n",
    "pos_list = {\n",
    "    'CC':   'coordinating conjunction',\n",
    "    'CD':   'cardinal digit',\n",
    "    'DT':   'determiner',\n",
    "    'EX':   'existential there (like: \"there is\" ... think of it like \"there exists\")',\n",
    "    'FW':   'foreign word',\n",
    "    'IN':   'preposition/subordinating conjunction',\n",
    "    'JJ':   'adjective \"big\"',\n",
    "    'JJR':  'adjective, comparative \"bigger\"',\n",
    "    'JJS':  'adjective, superlative \"biggest\"',\n",
    "    'LS':   'list marker 1)',\n",
    "    'MD':   'modal could, will',\n",
    "    'NN':   'noun, singular \"desk\"',\n",
    "    'NNS':  'noun plural \"desks\"',\n",
    "    'NNP':  'proper noun, singular \"Harrison\"',\n",
    "    'NNPS': 'proper noun, plural \"Americans\"',\n",
    "    'PDT':  'predeterminer \"all the kids\"',\n",
    "    'POS':  'possessive ending parent\"s',\n",
    "    'PRP':  'personal pronoun I, he, she',\n",
    "    'PRP$': 'possessive pronoun my, his, hers',\n",
    "    'RB':   'adverb very, silently,',\n",
    "    'RBR':  'adverb, comparative better',\n",
    "    'RBS':  'adverb, superlative best',\n",
    "    'RP':   'particle give up',\n",
    "    'TO':   'to go \"to\" the store.',\n",
    "    'UH':   'interjection errrrrrrrm',\n",
    "    'VB':   'verb, base form take',\n",
    "    'VBD':  'verb, past tense took',\n",
    "    'VBG':  'verb, gerund/present participle taking',\n",
    "    'VBN':  'verb, past participle taken',\n",
    "    'VBP':  'verb, sing. present, non-3d take',\n",
    "    'VBZ':  'verb, 3rd person sing. present takes',\n",
    "    'WDT':  'wh-determiner which',\n",
    "    'WP':   'wh-pronoun who, what',\n",
    "    'WP$':  'possessive wh-pronoun whose',\n",
    "    'WRB':  'wh-abverb where, when',\n",
    "}"
   ]
  },
  {
   "cell_type": "code",
   "execution_count": 25,
   "metadata": {
    "ExecuteTime": {
     "end_time": "2020-10-07T06:27:04.628228Z",
     "start_time": "2020-10-07T06:27:01.448Z"
    },
    "colab": {},
    "colab_type": "code",
    "id": "asqUoCHgLNPx",
    "outputId": "6e3cab17-f736-49f3-ce62-8e759d72ac35",
    "scrolled": false
   },
   "outputs": [
    {
     "name": "stdout",
     "output_type": "stream",
     "text": [
      " 1|'USS'        : NNP  proper noun, singular \"Harrison\"\n",
      " 2|'Enterprise' : NNP  proper noun, singular \"Harrison\"\n",
      " 3|'('          : (    -\n",
      " 4|'NCC-1701-D' : NNP  proper noun, singular \"Harrison\"\n",
      " 5|')'          : )    -\n",
      " 6|'For'        : IN   preposition/subordinating conjunction\n",
      " 7|'five'       : CD   cardinal digit\n",
      " 8|'hundred'    : CD   cardinal digit\n",
      " 9|'years'      : NNS  noun plural \"desks\"\n",
      "10|','          : ,    -\n",
      "11|'every'      : DT   determiner\n",
      "12|'ship'       : NN   noun, singular \"desk\"\n",
      "13|'that'       : WDT  wh-determiner which\n",
      "14|'has'        : VBZ  verb, 3rd person sing. present takes\n",
      "15|'borne'      : VBN  verb, past participle taken\n",
      "16|'the'        : DT   determiner\n",
      "17|'name'       : NN   noun, singular \"desk\"\n",
      "18|'of'         : IN   preposition/subordinating conjunction\n",
      "19|'the'        : DT   determiner\n",
      "20|'Enterprise' : NNP  proper noun, singular \"Harrison\"\n",
      "21|'has'        : VBZ  verb, 3rd person sing. present takes\n",
      "22|'become'     : VBN  verb, past participle taken\n",
      "23|'a'          : DT   determiner\n",
      "24|'legend'     : NN   noun, singular \"desk\"\n",
      "25|'.'          : .    -\n"
     ]
    }
   ],
   "source": [
    "## nltk\n",
    "tagged = nltk.pos_tag(tokens)\n",
    "\n",
    "for i, t in enumerate(tagged[:25]):\n",
    "    print('%2d|%-12r : %-4s %s' % (i+1, t[0], t[1], (pos_list[t[1]] if t[1] in pos_list else '-')))"
   ]
  },
  {
   "cell_type": "markdown",
   "metadata": {
    "colab_type": "text",
    "id": "_n9qMgyULNP1"
   },
   "source": [
    "### Stemming"
   ]
  },
  {
   "cell_type": "code",
   "execution_count": 26,
   "metadata": {
    "ExecuteTime": {
     "end_time": "2020-10-07T06:27:04.629787Z",
     "start_time": "2020-10-07T06:27:01.450Z"
    },
    "colab": {},
    "colab_type": "code",
    "id": "pL1vRUzxLNP2"
   },
   "outputs": [],
   "source": [
    "## nltk\n",
    "ps = nltk.porter.PorterStemmer()\n",
    "stemmed = ' '.join([ps.stem(word) for word in text.split()])"
   ]
  },
  {
   "cell_type": "markdown",
   "metadata": {
    "colab_type": "text",
    "id": "2d9a6QazLNP4"
   },
   "source": [
    "### Lemmatisation"
   ]
  },
  {
   "cell_type": "code",
   "execution_count": 27,
   "metadata": {
    "ExecuteTime": {
     "end_time": "2020-10-07T06:27:04.631193Z",
     "start_time": "2020-10-07T06:27:01.452Z"
    },
    "colab": {},
    "colab_type": "code",
    "id": "OAbriUsXLNP7",
    "scrolled": true
   },
   "outputs": [],
   "source": [
    "## nltk\n",
    "wl = nltk.stem.WordNetLemmatizer()\n",
    "lemma = ' '.join([wl.lemmatize(word) for word in text.split()])"
   ]
  },
  {
   "cell_type": "code",
   "execution_count": 28,
   "metadata": {
    "ExecuteTime": {
     "end_time": "2020-10-07T06:27:04.632590Z",
     "start_time": "2020-10-07T06:27:01.453Z"
    },
    "colab": {},
    "colab_type": "code",
    "id": "yVIqX7HBLNP9",
    "outputId": "26f47e5f-7927-4ceb-e7aa-148b1a0d6798"
   },
   "outputs": [
    {
     "name": "stdout",
     "output_type": "stream",
     "text": [
      "i | Stem           Lemma\n",
      "--| -------------- ------------\n",
      " 1| 'uss'          'USS'       \n",
      " 2| 'enterpris'    'Enterprise'\n",
      " 3| '(ncc-1701-d)'   '(NCC-1701-D)'\n",
      " 4| 'for'          'For'       \n",
      " 5| 'five'         'five'      \n",
      " 6| 'hundr'        'hundred'   \n",
      " 7| 'years,'       'years,'    \n",
      " 8| 'everi'        'every'     \n",
      " 9| 'ship'         'ship'      \n",
      "10| 'that'         'that'      \n",
      "11| 'ha'           'ha'        \n",
      "12| 'born'         'borne'     \n",
      "13| 'the'          'the'       \n",
      "14| 'name'         'name'      \n",
      "15| 'of'           'of'        \n",
      "16| 'the'          'the'       \n",
      "17| 'enterpris'    'Enterprise'\n",
      "18| 'ha'           'ha'        \n",
      "19| 'becom'        'become'    \n",
      "20| 'a'            'a'         \n",
      "21| 'legend.'      'legend.'   \n"
     ]
    }
   ],
   "source": [
    "## nltk\n",
    "dot = stemmed.find('.') + 1\n",
    "sl = stemmed[:dot].split()\n",
    "dot = lemma.find('.') + 1\n",
    "ll = lemma[:dot].split()\n",
    "\n",
    "print('i | Stem           Lemma')\n",
    "print('--| -------------- ------------')\n",
    "for i, p in enumerate(zip(sl, ll)):\n",
    "    print('%2d| %-12r   %-12r' % (i+1, p[0], p[1]))"
   ]
  },
  {
   "cell_type": "code",
   "execution_count": 29,
   "metadata": {
    "ExecuteTime": {
     "end_time": "2020-10-07T06:27:04.634005Z",
     "start_time": "2020-10-07T06:27:01.455Z"
    },
    "colab": {},
    "colab_type": "code",
    "id": "eG4yOgwVLNP-",
    "outputId": "70476f16-7ac6-4c40-e39f-7a6547c11fec"
   },
   "outputs": [
    {
     "data": {
      "image/png": "[encoded data removed]",
      "text/plain": [
       "<Figure size 1152x432 with 1 Axes>"
      ]
     },
     "metadata": {
      "needs_background": "light"
     },
     "output_type": "display_data"
    }
   ],
   "source": [
    "plot_words(stemmed.split())"
   ]
  },
  {
   "cell_type": "code",
   "execution_count": 30,
   "metadata": {
    "ExecuteTime": {
     "end_time": "2020-10-07T06:27:04.635904Z",
     "start_time": "2020-10-07T06:27:01.457Z"
    },
    "colab": {},
    "colab_type": "code",
    "id": "uEJR57TYLNQA",
    "outputId": "e96f9bb4-cdfc-432c-b0af-bcdb3a6c2c6c",
    "scrolled": true
   },
   "outputs": [
    {
     "data": {
      "image/png": "[encoded data removed]",
      "text/plain": [
       "<Figure size 1152x432 with 1 Axes>"
      ]
     },
     "metadata": {
      "needs_background": "light"
     },
     "output_type": "display_data"
    }
   ],
   "source": [
    "plot_words(lemma.split())"
   ]
  },
  {
   "cell_type": "markdown",
   "metadata": {},
   "source": [
    "### Entity recognition"
   ]
  },
  {
   "cell_type": "code",
   "execution_count": 31,
   "metadata": {
    "ExecuteTime": {
     "end_time": "2020-10-07T06:27:04.637228Z",
     "start_time": "2020-10-07T06:27:01.459Z"
    },
    "colab": {},
    "colab_type": "code",
    "id": "sw6fYdgXLNQG",
    "outputId": "a83ea9db-825d-4031-8112-f022b71f565b"
   },
   "outputs": [
    {
     "name": "stdout",
     "output_type": "stream",
     "text": [
      "ORGANIZATION: USS Enterprise\n",
      "ORGANIZATION: Enterprise\n",
      "ORGANIZATION: USS Enterprise\n",
      "PERSON      : United Federation\n",
      "ORGANIZATION: Planets Galaxy\n",
      "PERSON      : Starfleet\n",
      "ORGANIZATION: Enterprise\n",
      "ORGANIZATION: Federation\n",
      "ORGANIZATION: Battle\n",
      "GPE         : Veridian\n",
      "PERSON      : History Construction\n",
      "ORGANIZATION: Enterprise\n",
      "ORGANIZATION: Utopia Planitia Fleet\n",
      "PERSON      : Mars\n",
      "ORGANIZATION: Solar\n",
      "ORGANIZATION: Commander Orfil Quinteros\n",
      "PERSON      : Brahms\n",
      "ORGANIZATION: Enterprise\n",
      "ORGANIZATION: Enterprise\n",
      "ORGANIZATION: USS Pegasus\n",
      "ORGANIZATION: Utopia Planitia\n",
      "PERSON      : Walter Pierce\n",
      "PERSON      : Marla Finn\n",
      "PERSON      : William Hodges\n",
      "PERSON      : Pierce\n",
      "ORGANIZATION: Enterprise\n",
      "PERSON      : Mars\n",
      "ORGANIZATION: Enterprise\n",
      "ORGANIZATION: Enterprise\n",
      "FACILITY    : Earth Station McKinley\n",
      "PERSON      : Captain Jean-Luc Picard\n",
      "ORGANIZATION: Rear Admiral Norah Satie\n",
      "PERSON      : Legacy Commander Riker\n",
      "ORGANIZATION: Enterprise\n",
      "PERSON      : Picard\n",
      "PERSON      : Deep Space\n",
      "GPE         : Starfleet\n",
      "PERSON      : Captain Benjamin Sisko\n",
      "ORGANIZATION: Enterprise\n",
      "GPE         : Worf\n",
      "ORGANIZATION: Enterprise\n",
      "PERSON      : Captain Picard\n",
      "ORGANIZATION: Class Sovereign\n",
      "ORGANIZATION: Enterprise\n",
      "PERSON      : Picard\n",
      "ORGANIZATION: CO\n",
      "GPE         : Worf\n",
      "ORGANIZATION: DS9\n"
     ]
    }
   ],
   "source": [
    "## nltk\n",
    "entities = nltk.chunk.ne_chunk(tagged)\n",
    "\n",
    "for e in entities:\n",
    "    s = re.sub(r'[\\(\\)]', '', str(e))\n",
    "    if s.find('/NNP') > 0:\n",
    "        t = s.split()[0]\n",
    "        n = ' '.join([re.sub(r'/NNP', '', x) for x in s.split()[1:]])\n",
    "        print('%-12s: %s' % (t, n))"
   ]
  }
 ],
 "metadata": {
  "colab": {
   "collapsed_sections": [],
   "name": "IOD_Lab-9_5.ipynb",
   "provenance": []
  },
  "kernelspec": {
   "display_name": "Python 3 (ipykernel)",
   "language": "python",
   "name": "python3"
  },
  "language_info": {
   "codemirror_mode": {
    "name": "ipython",
    "version": 3
   },
   "file_extension": ".py",
   "mimetype": "text/x-python",
   "name": "python",
   "nbconvert_exporter": "python",
   "pygments_lexer": "ipython3",
   "version": "3.8.12"
  },
  "toc": {
   "base_numbering": 1,
   "nav_menu": {},
   "number_sections": true,
   "sideBar": true,
   "skip_h1_title": false,
   "title_cell": "Table of Contents",
   "title_sidebar": "Contents",
   "toc_cell": false,
   "toc_position": {
    "height": "calc(100% - 180px)",
    "left": "10px",
    "top": "150px",
    "width": "243.976px"
   },
   "toc_section_display": true,
   "toc_window_display": true
  },
  "varInspector": {
   "cols": {
    "lenName": 16,
    "lenType": 16,
    "lenVar": 40
   },
   "kernels_config": {
    "python": {
     "delete_cmd_postfix": "",
     "delete_cmd_prefix": "del ",
     "library": "var_list.py",
     "varRefreshCmd": "print(var_dic_list())"
    },
    "r": {
     "delete_cmd_postfix": ") ",
     "delete_cmd_prefix": "rm(",
     "library": "var_list.r",
     "varRefreshCmd": "cat(var_dic_list()) "
    }
   },
   "types_to_exclude": [
    "module",
    "function",
    "builtin_function_or_method",
    "instance",
    "_Feature"
   ],
   "window_display": false
  }
 },
 "nbformat": 4,
 "nbformat_minor": 1
}

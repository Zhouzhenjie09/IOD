{
 "cells": [
  {
   "cell_type": "markdown",
   "metadata": {
    "id": "XJ1yDaQTVf4m"
   },
   "source": [
    "<div>\n",
    "<img src=https://www.institutedata.com/wp-content/uploads/2019/10/iod_h_tp_primary_c.svg width=\"300\">\n",
    "</div>"
   ]
  },
  {
   "cell_type": "markdown",
   "metadata": {
    "id": "QnAkzb-CVf4o"
   },
   "source": [
    "# Lab 3.1.3\n",
    "\n",
    "## Data\n",
    "\n",
    "The Philippine Statistics Authority (PSA) spearheads the conduct of the Family Income and Expenditure Survey (FIES) nationwide. The survey, which is undertaken every three (3) years, is aimed at providing data on family income and expenditure, including, among others, levels of consumption by item of expenditure, sources of income in cash, and related information affecting income and expenditure levels and patterns in the Philippines.\n",
    "\n",
    "You can download the data from [here](https://www.kaggle.com/grosvenpaul/family-income-and-expenditure).\n",
    "\n",
    "The purpose of today's lab is to use simulation to visualize the sampling distribution for the sample mean. The Central Limit Theorem (CLT) tells us that as our sample size gets larger, the sampling distribution of the sample mean converges to a normal distribution. Therefore, when we have a large sample size, we can say that the sampling distribution for the sample mean is approximately normal, regardless of the distribution from which we are sampling.\n",
    "\n",
    "Let's start by taking a look at the data, **`Total Household Income`** will serve as a \"population\" for the purposes of this lab. "
   ]
  },
  {
   "cell_type": "code",
   "execution_count": 1,
   "metadata": {
    "id": "SEP_7ZTmVf4p"
   },
   "outputs": [],
   "source": [
    "import pandas as pd\n",
    "import numpy as np\n",
    "import matplotlib.pyplot as plt\n",
    "import seaborn as sns\n",
    "\n",
    "%matplotlib inline"
   ]
  },
  {
   "cell_type": "code",
   "execution_count": 2,
   "metadata": {
    "id": "TzSCY2HWVf4t"
   },
   "outputs": [],
   "source": [
    "house_hold_csv = pd.read_csv(\"C:\\\\Users\\\\user\\\\Documents\\\\IOD\\\\DATA\\\\Family_Income_and_Expenditure.csv\")\n",
    "# Read CSV\n"
   ]
  },
  {
   "cell_type": "code",
   "execution_count": null,
   "metadata": {},
   "outputs": [],
   "source": [
    "#population = house_hold_csv(['Total Household Income'])"
   ]
  },
  {
   "cell_type": "code",
   "execution_count": 3,
   "metadata": {
    "id": "f8AVkqjtVf4w"
   },
   "outputs": [
    {
     "name": "stdout",
     "output_type": "stream",
     "text": [
      "   Total Household Income Region  Total Food Expenditure  \\\n",
      "0                  480332    CAR                  117848   \n",
      "1                  198235    CAR                   67766   \n",
      "2                   82785    CAR                   61609   \n",
      "3                  107589    CAR                   78189   \n",
      "4                  189322    CAR                   94625   \n",
      "\n",
      "  Main Source of Income  Agricultural Household indicator  \\\n",
      "0         Wage/Salaries                                 0   \n",
      "1         Wage/Salaries                                 0   \n",
      "2         Wage/Salaries                                 1   \n",
      "3         Wage/Salaries                                 0   \n",
      "4         Wage/Salaries                                 0   \n",
      "\n",
      "   Bread and Cereals Expenditure  Total Rice Expenditure  Meat Expenditure  \\\n",
      "0                          42140                   38300             24676   \n",
      "1                          17329                   13008             17434   \n",
      "2                          34182                   32001              7783   \n",
      "3                          34030                   28659             10914   \n",
      "4                          34820                   30167             18391   \n",
      "\n",
      "   Total Fish and  marine products Expenditure  Fruit Expenditure  ...  \\\n",
      "0                                        16806               3325  ...   \n",
      "1                                        11073               2035  ...   \n",
      "2                                         2590               1730  ...   \n",
      "3                                        10812                690  ...   \n",
      "4                                        11309               1395  ...   \n",
      "\n",
      "   Number of Refrigerator/Freezer  Number of Washing Machine  \\\n",
      "0                               1                          1   \n",
      "1                               0                          1   \n",
      "2                               0                          0   \n",
      "3                               0                          0   \n",
      "4                               1                          0   \n",
      "\n",
      "   Number of Airconditioner  Number of Car, Jeep, Van  \\\n",
      "0                         0                         0   \n",
      "1                         0                         0   \n",
      "2                         0                         0   \n",
      "3                         0                         0   \n",
      "4                         0                         0   \n",
      "\n",
      "   Number of Landline/wireless telephones  Number of Cellular phone  \\\n",
      "0                                       0                         2   \n",
      "1                                       0                         3   \n",
      "2                                       0                         0   \n",
      "3                                       0                         1   \n",
      "4                                       0                         3   \n",
      "\n",
      "   Number of Personal Computer  Number of Stove with Oven/Gas Range  \\\n",
      "0                            1                                    0   \n",
      "1                            1                                    0   \n",
      "2                            0                                    0   \n",
      "3                            0                                    0   \n",
      "4                            0                                    0   \n",
      "\n",
      "   Number of Motorized Banca  Number of Motorcycle/Tricycle  \n",
      "0                          0                              1  \n",
      "1                          0                              2  \n",
      "2                          0                              0  \n",
      "3                          0                              0  \n",
      "4                          0                              1  \n",
      "\n",
      "[5 rows x 60 columns]\n"
     ]
    }
   ],
   "source": [
    "# Head\n",
    "print(house_hold_csv.head())"
   ]
  },
  {
   "cell_type": "code",
   "execution_count": 4,
   "metadata": {
    "id": "SShWhTTQVf4z"
   },
   "outputs": [
    {
     "name": "stdout",
     "output_type": "stream",
     "text": [
      "       Total Household Income              Region  Total Food Expenditure  \\\n",
      "41539                  119773  XII - SOCCSKSARGEN                   44875   \n",
      "41540                  137320  XII - SOCCSKSARGEN                   31157   \n",
      "41541                  133171  XII - SOCCSKSARGEN                   45882   \n",
      "41542                  129500  XII - SOCCSKSARGEN                   81416   \n",
      "41543                  128598  XII - SOCCSKSARGEN                   78195   \n",
      "\n",
      "            Main Source of Income  Agricultural Household indicator  \\\n",
      "41539  Enterpreneurial Activities                                 1   \n",
      "41540  Enterpreneurial Activities                                 1   \n",
      "41541  Enterpreneurial Activities                                 2   \n",
      "41542  Enterpreneurial Activities                                 1   \n",
      "41543  Enterpreneurial Activities                                 1   \n",
      "\n",
      "       Bread and Cereals Expenditure  Total Rice Expenditure  \\\n",
      "41539                          23675                   21542   \n",
      "41540                           2691                    1273   \n",
      "41541                          28646                   27339   \n",
      "41542                          29996                   26655   \n",
      "41543                          43485                   41205   \n",
      "\n",
      "       Meat Expenditure  Total Fish and  marine products Expenditure  \\\n",
      "41539              1476                                         6120   \n",
      "41540              1886                                         4386   \n",
      "41541               480                                         4796   \n",
      "41542              2359                                        17730   \n",
      "41543              1985                                         7735   \n",
      "\n",
      "       Fruit Expenditure  ...  Number of Refrigerator/Freezer  \\\n",
      "41539               1632  ...                               0   \n",
      "41540               1840  ...                               0   \n",
      "41541               1232  ...                               0   \n",
      "41542               2923  ...                               0   \n",
      "41543               2062  ...                               0   \n",
      "\n",
      "       Number of Washing Machine  Number of Airconditioner  \\\n",
      "41539                          0                         0   \n",
      "41540                          0                         0   \n",
      "41541                          0                         0   \n",
      "41542                          0                         0   \n",
      "41543                          0                         0   \n",
      "\n",
      "       Number of Car, Jeep, Van  Number of Landline/wireless telephones  \\\n",
      "41539                         0                                       0   \n",
      "41540                         0                                       0   \n",
      "41541                         0                                       0   \n",
      "41542                         0                                       0   \n",
      "41543                         0                                       0   \n",
      "\n",
      "       Number of Cellular phone  Number of Personal Computer  \\\n",
      "41539                         1                            0   \n",
      "41540                         3                            0   \n",
      "41541                         1                            0   \n",
      "41542                         2                            0   \n",
      "41543                         1                            0   \n",
      "\n",
      "       Number of Stove with Oven/Gas Range  Number of Motorized Banca  \\\n",
      "41539                                    0                          0   \n",
      "41540                                    0                          0   \n",
      "41541                                    0                          0   \n",
      "41542                                    0                          0   \n",
      "41543                                    0                          0   \n",
      "\n",
      "       Number of Motorcycle/Tricycle  \n",
      "41539                              0  \n",
      "41540                              0  \n",
      "41541                              0  \n",
      "41542                              0  \n",
      "41543                              0  \n",
      "\n",
      "[5 rows x 60 columns]\n"
     ]
    }
   ],
   "source": [
    "# Tail\n",
    "print(house_hold_csv.tail())"
   ]
  },
  {
   "cell_type": "code",
   "execution_count": 5,
   "metadata": {
    "id": "Naaa_xKVVf41"
   },
   "outputs": [
    {
     "name": "stdout",
     "output_type": "stream",
     "text": [
      "(41544, 60)\n"
     ]
    }
   ],
   "source": [
    "# Shape\n",
    "\n",
    "print(house_hold_csv.shape)"
   ]
  },
  {
   "cell_type": "code",
   "execution_count": 6,
   "metadata": {
    "id": "vp9cRdywVf44"
   },
   "outputs": [
    {
     "data": {
      "text/plain": [
       "Total Household Income                            int64\n",
       "Region                                           object\n",
       "Total Food Expenditure                            int64\n",
       "Main Source of Income                            object\n",
       "Agricultural Household indicator                  int64\n",
       "Bread and Cereals Expenditure                     int64\n",
       "Total Rice Expenditure                            int64\n",
       "Meat Expenditure                                  int64\n",
       "Total Fish and  marine products Expenditure       int64\n",
       "Fruit Expenditure                                 int64\n",
       "Vegetables Expenditure                            int64\n",
       "Restaurant and hotels Expenditure                 int64\n",
       "Alcoholic Beverages Expenditure                   int64\n",
       "Tobacco Expenditure                               int64\n",
       "Clothing, Footwear and Other Wear Expenditure     int64\n",
       "Housing and water Expenditure                     int64\n",
       "Imputed House Rental Value                        int64\n",
       "Medical Care Expenditure                          int64\n",
       "Transportation Expenditure                        int64\n",
       "Communication Expenditure                         int64\n",
       "Education Expenditure                             int64\n",
       "Miscellaneous Goods and Services Expenditure      int64\n",
       "Special Occasions Expenditure                     int64\n",
       "Crop Farming and Gardening expenses               int64\n",
       "Total Income from Entrepreneurial Acitivites      int64\n",
       "Household Head Sex                               object\n",
       "Household Head Age                                int64\n",
       "Household Head Marital Status                    object\n",
       "Household Head Highest Grade Completed           object\n",
       "Household Head Job or Business Indicator         object\n",
       "Household Head Occupation                        object\n",
       "Household Head Class of Worker                   object\n",
       "Type of Household                                object\n",
       "Total Number of Family members                    int64\n",
       "Members with age less than 5 year old             int64\n",
       "Members with age 5 - 17 years old                 int64\n",
       "Total number of family members employed           int64\n",
       "Type of Building/House                           object\n",
       "Type of Roof                                     object\n",
       "Type of Walls                                    object\n",
       "House Floor Area                                  int64\n",
       "House Age                                         int64\n",
       "Number of bedrooms                                int64\n",
       "Tenure Status                                    object\n",
       "Toilet Facilities                                object\n",
       "Electricity                                       int64\n",
       "Main Source of Water Supply                      object\n",
       "Number of Television                              int64\n",
       "Number of CD/VCD/DVD                              int64\n",
       "Number of Component/Stereo set                    int64\n",
       "Number of Refrigerator/Freezer                    int64\n",
       "Number of Washing Machine                         int64\n",
       "Number of Airconditioner                          int64\n",
       "Number of Car, Jeep, Van                          int64\n",
       "Number of Landline/wireless telephones            int64\n",
       "Number of Cellular phone                          int64\n",
       "Number of Personal Computer                       int64\n",
       "Number of Stove with Oven/Gas Range               int64\n",
       "Number of Motorized Banca                         int64\n",
       "Number of Motorcycle/Tricycle                     int64\n",
       "dtype: object"
      ]
     },
     "execution_count": 6,
     "metadata": {},
     "output_type": "execute_result"
    }
   ],
   "source": [
    "# Data Types\n",
    "house_hold_csv.dtypes"
   ]
  },
  {
   "cell_type": "markdown",
   "metadata": {
    "id": "CXS1YnOgVf47"
   },
   "source": [
    "#### Surveying the populations\n",
    "\n",
    "##### 1. Create a histogram of `Total Household Income`."
   ]
  },
  {
   "cell_type": "code",
   "execution_count": 7,
   "metadata": {
    "id": "3YKhcWRhVf47"
   },
   "outputs": [
    {
     "data": {
      "text/plain": [
       "(array([3.8722e+04, 2.3200e+03, 3.2400e+02, 1.0200e+02, 3.7000e+01,\n",
       "        1.4000e+01, 1.0000e+01, 3.0000e+00, 3.0000e+00, 1.0000e+00,\n",
       "        4.0000e+00, 1.0000e+00, 0.0000e+00, 0.0000e+00, 0.0000e+00,\n",
       "        0.0000e+00, 1.0000e+00, 0.0000e+00, 0.0000e+00, 2.0000e+00]),\n",
       " array([1.12850000e+04, 6.01520150e+05, 1.19175530e+06, 1.78199045e+06,\n",
       "        2.37222560e+06, 2.96246075e+06, 3.55269590e+06, 4.14293105e+06,\n",
       "        4.73316620e+06, 5.32340135e+06, 5.91363650e+06, 6.50387165e+06,\n",
       "        7.09410680e+06, 7.68434195e+06, 8.27457710e+06, 8.86481225e+06,\n",
       "        9.45504740e+06, 1.00452826e+07, 1.06355177e+07, 1.12257528e+07,\n",
       "        1.18159880e+07]),\n",
       " <BarContainer object of 20 artists>)"
      ]
     },
     "execution_count": 7,
     "metadata": {},
     "output_type": "execute_result"
    },
    {
     "data": {
      "image/png": "[encoded data removed]",
      "text/plain": [
       "<Figure size 432x288 with 1 Axes>"
      ]
     },
     "metadata": {
      "needs_background": "light"
     },
     "output_type": "display_data"
    }
   ],
   "source": [
    "# ANSWER\n",
    "population = house_hold_csv['Total Household Income']\n",
    "plt.hist(population,bins= 20)\n",
    "#plt.hist(house_hold_csv['Total Household Income'],bins=20)\n"
   ]
  },
  {
   "cell_type": "markdown",
   "metadata": {
    "id": "8vgg6ml3Vf4-"
   },
   "source": [
    "##### 2. How would you describe the shape of this population?"
   ]
  },
  {
   "cell_type": "markdown",
   "metadata": {
    "id": "FI_k9uSEVf4_"
   },
   "source": [
    "**ANSWER:**"
   ]
  },
  {
   "cell_type": "code",
   "execution_count": 8,
   "metadata": {},
   "outputs": [
    {
     "name": "stdout",
     "output_type": "stream",
     "text": [
      "count    4.154400e+04\n",
      "mean     2.475556e+05\n",
      "std      2.868805e+05\n",
      "min      1.128500e+04\n",
      "25%      1.048950e+05\n",
      "50%      1.640795e+05\n",
      "75%      2.911385e+05\n",
      "max      1.181599e+07\n",
      "Name: Total Household Income, dtype: float64\n"
     ]
    }
   ],
   "source": [
    "print(population.describe())"
   ]
  },
  {
   "cell_type": "markdown",
   "metadata": {
    "id": "j1hOsdI2Vf4_"
   },
   "source": [
    "##### 2. What is the mean income of this population?"
   ]
  },
  {
   "cell_type": "code",
   "execution_count": 9,
   "metadata": {
    "id": "kJw8S392Vf5A"
   },
   "outputs": [
    {
     "data": {
      "text/plain": [
       "247555.58480165608"
      ]
     },
     "execution_count": 9,
     "metadata": {},
     "output_type": "execute_result"
    }
   ],
   "source": [
    "# ANSWER\n",
    "population.mean()"
   ]
  },
  {
   "cell_type": "markdown",
   "metadata": {
    "id": "U-aYo343Vf5D"
   },
   "source": [
    "##### 3. What sampling statistic/point estimate would you use to estimate the mean of this population if you were given a random sample from the population?"
   ]
  },
  {
   "cell_type": "markdown",
   "metadata": {
    "id": "MliyslcyVf5E"
   },
   "source": [
    "**ANSWER:**"
   ]
  },
  {
   "cell_type": "markdown",
   "metadata": {
    "id": "TkxedbVpVf5E"
   },
   "source": [
    "#### Simulated sampling (sample means)"
   ]
  },
  {
   "cell_type": "markdown",
   "metadata": {
    "id": "PREGkP4vVf5F"
   },
   "source": [
    "Now, we'd like to get an idea of what happens when we take multiple random samples of size 5. \n",
    "\n",
    "Take 10 sample (size=5) from the entire population. Calculate means for each sample. Now make a histogram of all the sample means.\n",
    "\n",
    "- Describe the shape of the histogram.\n",
    "- What is the center of the distribution of sample means?"
   ]
  },
  {
   "cell_type": "markdown",
   "metadata": {
    "id": "i6_BukQlVf5G"
   },
   "source": [
    "##### 4. Simulation with `sample_size=5`"
   ]
  },
  {
   "cell_type": "markdown",
   "metadata": {
    "id": "-CP_eMlOVf5G"
   },
   "source": [
    "Take 10 samples, but with a sample size of 5."
   ]
  },
  {
   "cell_type": "code",
   "execution_count": 12,
   "metadata": {
    "id": "rqSxVPVwVf5H"
   },
   "outputs": [
    {
     "data": {
      "text/plain": [
       "18260      57600\n",
       "9867     1344775\n",
       "10885      75024\n",
       "20093     108202\n",
       "11419      79506\n",
       "25375      93120\n",
       "19581     256850\n",
       "12628     116384\n",
       "34791     371866\n",
       "6369      183050\n",
       "Name: Total Household Income, dtype: int64"
      ]
     },
     "execution_count": 12,
     "metadata": {},
     "output_type": "execute_result"
    }
   ],
   "source": [
    "population.sample(n=10)\n",
    "sample_size= 5"
   ]
  },
  {
   "cell_type": "code",
   "execution_count": 11,
   "metadata": {},
   "outputs": [
    {
     "name": "stdout",
     "output_type": "stream",
     "text": [
      "Help on function sample in module pandas.core.generic:\n",
      "\n",
      "sample(self: 'FrameOrSeries', n=None, frac=None, replace=False, weights=None, random_state=None, axis=None) -> 'FrameOrSeries'\n",
      "    Return a random sample of items from an axis of object.\n",
      "    \n",
      "    You can use `random_state` for reproducibility.\n",
      "    \n",
      "    Parameters\n",
      "    ----------\n",
      "    n : int, optional\n",
      "        Number of items from axis to return. Cannot be used with `frac`.\n",
      "        Default = 1 if `frac` = None.\n",
      "    frac : float, optional\n",
      "        Fraction of axis items to return. Cannot be used with `n`.\n",
      "    replace : bool, default False\n",
      "        Allow or disallow sampling of the same row more than once.\n",
      "    weights : str or ndarray-like, optional\n",
      "        Default 'None' results in equal probability weighting.\n",
      "        If passed a Series, will align with target object on index. Index\n",
      "        values in weights not found in sampled object will be ignored and\n",
      "        index values in sampled object not in weights will be assigned\n",
      "        weights of zero.\n",
      "        If called on a DataFrame, will accept the name of a column\n",
      "        when axis = 0.\n",
      "        Unless weights are a Series, weights must be same length as axis\n",
      "        being sampled.\n",
      "        If weights do not sum to 1, they will be normalized to sum to 1.\n",
      "        Missing values in the weights column will be treated as zero.\n",
      "        Infinite values not allowed.\n",
      "    random_state : int, array-like, BitGenerator, np.random.RandomState, optional\n",
      "        If int, array-like, or BitGenerator (NumPy>=1.17), seed for\n",
      "        random number generator\n",
      "        If np.random.RandomState, use as numpy RandomState object.\n",
      "    \n",
      "        .. versionchanged:: 1.1.0\n",
      "    \n",
      "            array-like and BitGenerator (for NumPy>=1.17) object now passed to\n",
      "            np.random.RandomState() as seed\n",
      "    \n",
      "    axis : {0 or ‘index’, 1 or ‘columns’, None}, default None\n",
      "        Axis to sample. Accepts axis number or name. Default is stat axis\n",
      "        for given data type (0 for Series and DataFrames).\n",
      "    \n",
      "    Returns\n",
      "    -------\n",
      "    Series or DataFrame\n",
      "        A new object of same type as caller containing `n` items randomly\n",
      "        sampled from the caller object.\n",
      "    \n",
      "    See Also\n",
      "    --------\n",
      "    DataFrameGroupBy.sample: Generates random samples from each group of a\n",
      "        DataFrame object.\n",
      "    SeriesGroupBy.sample: Generates random samples from each group of a\n",
      "        Series object.\n",
      "    numpy.random.choice: Generates a random sample from a given 1-D numpy\n",
      "        array.\n",
      "    \n",
      "    Notes\n",
      "    -----\n",
      "    If `frac` > 1, `replacement` should be set to `True`.\n",
      "    \n",
      "    Examples\n",
      "    --------\n",
      "    >>> df = pd.DataFrame({'num_legs': [2, 4, 8, 0],\n",
      "    ...                    'num_wings': [2, 0, 0, 0],\n",
      "    ...                    'num_specimen_seen': [10, 2, 1, 8]},\n",
      "    ...                   index=['falcon', 'dog', 'spider', 'fish'])\n",
      "    >>> df\n",
      "            num_legs  num_wings  num_specimen_seen\n",
      "    falcon         2          2                 10\n",
      "    dog            4          0                  2\n",
      "    spider         8          0                  1\n",
      "    fish           0          0                  8\n",
      "    \n",
      "    Extract 3 random elements from the ``Series`` ``df['num_legs']``:\n",
      "    Note that we use `random_state` to ensure the reproducibility of\n",
      "    the examples.\n",
      "    \n",
      "    >>> df['num_legs'].sample(n=3, random_state=1)\n",
      "    fish      0\n",
      "    spider    8\n",
      "    falcon    2\n",
      "    Name: num_legs, dtype: int64\n",
      "    \n",
      "    A random 50% sample of the ``DataFrame`` with replacement:\n",
      "    \n",
      "    >>> df.sample(frac=0.5, replace=True, random_state=1)\n",
      "          num_legs  num_wings  num_specimen_seen\n",
      "    dog          4          0                  2\n",
      "    fish         0          0                  8\n",
      "    \n",
      "    An upsample sample of the ``DataFrame`` with replacement:\n",
      "    Note that `replace` parameter has to be `True` for `frac` parameter > 1.\n",
      "    \n",
      "    >>> df.sample(frac=2, replace=True, random_state=1)\n",
      "            num_legs  num_wings  num_specimen_seen\n",
      "    dog            4          0                  2\n",
      "    fish           0          0                  8\n",
      "    falcon         2          2                 10\n",
      "    falcon         2          2                 10\n",
      "    fish           0          0                  8\n",
      "    dog            4          0                  2\n",
      "    fish           0          0                  8\n",
      "    dog            4          0                  2\n",
      "    \n",
      "    Using a DataFrame column as weights. Rows with larger value in the\n",
      "    `num_specimen_seen` column are more likely to be sampled.\n",
      "    \n",
      "    >>> df.sample(n=2, weights='num_specimen_seen', random_state=1)\n",
      "            num_legs  num_wings  num_specimen_seen\n",
      "    falcon         2          2                 10\n",
      "    fish           0          0                  8\n",
      "\n"
     ]
    }
   ],
   "source": [
    "help(pd.DataFrame.sample)"
   ]
  },
  {
   "cell_type": "code",
   "execution_count": 14,
   "metadata": {},
   "outputs": [
    {
     "name": "stdout",
     "output_type": "stream",
     "text": [
      "Help on built-in function choice:\n",
      "\n",
      "choice(...) method of numpy.random.mtrand.RandomState instance\n",
      "    choice(a, size=None, replace=True, p=None)\n",
      "    \n",
      "    Generates a random sample from a given 1-D array\n",
      "    \n",
      "    .. versionadded:: 1.7.0\n",
      "    \n",
      "    .. note::\n",
      "        New code should use the ``choice`` method of a ``default_rng()``\n",
      "        instance instead; please see the :ref:`random-quick-start`.\n",
      "    \n",
      "    Parameters\n",
      "    ----------\n",
      "    a : 1-D array-like or int\n",
      "        If an ndarray, a random sample is generated from its elements.\n",
      "        If an int, the random sample is generated as if a were np.arange(a)\n",
      "    size : int or tuple of ints, optional\n",
      "        Output shape.  If the given shape is, e.g., ``(m, n, k)``, then\n",
      "        ``m * n * k`` samples are drawn.  Default is None, in which case a\n",
      "        single value is returned.\n",
      "    replace : boolean, optional\n",
      "        Whether the sample is with or without replacement\n",
      "    p : 1-D array-like, optional\n",
      "        The probabilities associated with each entry in a.\n",
      "        If not given the sample assumes a uniform distribution over all\n",
      "        entries in a.\n",
      "    \n",
      "    Returns\n",
      "    -------\n",
      "    samples : single item or ndarray\n",
      "        The generated random samples\n",
      "    \n",
      "    Raises\n",
      "    ------\n",
      "    ValueError\n",
      "        If a is an int and less than zero, if a or p are not 1-dimensional,\n",
      "        if a is an array-like of size 0, if p is not a vector of\n",
      "        probabilities, if a and p have different lengths, or if\n",
      "        replace=False and the sample size is greater than the population\n",
      "        size\n",
      "    \n",
      "    See Also\n",
      "    --------\n",
      "    randint, shuffle, permutation\n",
      "    Generator.choice: which should be used in new code\n",
      "    \n",
      "    Notes\n",
      "    -----\n",
      "    Sampling random rows from a 2-D array is not possible with this function,\n",
      "    but is possible with `Generator.choice` through its ``axis`` keyword.\n",
      "    \n",
      "    Examples\n",
      "    --------\n",
      "    Generate a uniform random sample from np.arange(5) of size 3:\n",
      "    \n",
      "    >>> np.random.choice(5, 3)\n",
      "    array([0, 3, 4]) # random\n",
      "    >>> #This is equivalent to np.random.randint(0,5,3)\n",
      "    \n",
      "    Generate a non-uniform random sample from np.arange(5) of size 3:\n",
      "    \n",
      "    >>> np.random.choice(5, 3, p=[0.1, 0, 0.3, 0.6, 0])\n",
      "    array([3, 3, 0]) # random\n",
      "    \n",
      "    Generate a uniform random sample from np.arange(5) of size 3 without\n",
      "    replacement:\n",
      "    \n",
      "    >>> np.random.choice(5, 3, replace=False)\n",
      "    array([3,1,0]) # random\n",
      "    >>> #This is equivalent to np.random.permutation(np.arange(5))[:3]\n",
      "    \n",
      "    Generate a non-uniform random sample from np.arange(5) of size\n",
      "    3 without replacement:\n",
      "    \n",
      "    >>> np.random.choice(5, 3, replace=False, p=[0.1, 0, 0.3, 0.6, 0])\n",
      "    array([2, 3, 0]) # random\n",
      "    \n",
      "    Any of the above can be repeated with an arbitrary array-like\n",
      "    instead of just integers. For instance:\n",
      "    \n",
      "    >>> aa_milne_arr = ['pooh', 'rabbit', 'piglet', 'Christopher']\n",
      "    >>> np.random.choice(aa_milne_arr, 5, p=[0.5, 0.1, 0.1, 0.3])\n",
      "    array(['pooh', 'pooh', 'pooh', 'Christopher', 'piglet'], # random\n",
      "          dtype='<U11')\n",
      "\n"
     ]
    }
   ],
   "source": [
    "help(np.random.choice)"
   ]
  },
  {
   "cell_type": "code",
   "execution_count": 19,
   "metadata": {},
   "outputs": [
    {
     "name": "stdout",
     "output_type": "stream",
     "text": [
      "Help on method sample in module pandas.core.generic:\n",
      "\n",
      "sample(n=None, frac=None, replace=False, weights=None, random_state=None, axis=None) -> 'FrameOrSeries' method of pandas.core.frame.DataFrame instance\n",
      "    Return a random sample of items from an axis of object.\n",
      "    \n",
      "    You can use `random_state` for reproducibility.\n",
      "    \n",
      "    Parameters\n",
      "    ----------\n",
      "    n : int, optional\n",
      "        Number of items from axis to return. Cannot be used with `frac`.\n",
      "        Default = 1 if `frac` = None.\n",
      "    frac : float, optional\n",
      "        Fraction of axis items to return. Cannot be used with `n`.\n",
      "    replace : bool, default False\n",
      "        Allow or disallow sampling of the same row more than once.\n",
      "    weights : str or ndarray-like, optional\n",
      "        Default 'None' results in equal probability weighting.\n",
      "        If passed a Series, will align with target object on index. Index\n",
      "        values in weights not found in sampled object will be ignored and\n",
      "        index values in sampled object not in weights will be assigned\n",
      "        weights of zero.\n",
      "        If called on a DataFrame, will accept the name of a column\n",
      "        when axis = 0.\n",
      "        Unless weights are a Series, weights must be same length as axis\n",
      "        being sampled.\n",
      "        If weights do not sum to 1, they will be normalized to sum to 1.\n",
      "        Missing values in the weights column will be treated as zero.\n",
      "        Infinite values not allowed.\n",
      "    random_state : int, array-like, BitGenerator, np.random.RandomState, optional\n",
      "        If int, array-like, or BitGenerator (NumPy>=1.17), seed for\n",
      "        random number generator\n",
      "        If np.random.RandomState, use as numpy RandomState object.\n",
      "    \n",
      "        .. versionchanged:: 1.1.0\n",
      "    \n",
      "            array-like and BitGenerator (for NumPy>=1.17) object now passed to\n",
      "            np.random.RandomState() as seed\n",
      "    \n",
      "    axis : {0 or ‘index’, 1 or ‘columns’, None}, default None\n",
      "        Axis to sample. Accepts axis number or name. Default is stat axis\n",
      "        for given data type (0 for Series and DataFrames).\n",
      "    \n",
      "    Returns\n",
      "    -------\n",
      "    Series or DataFrame\n",
      "        A new object of same type as caller containing `n` items randomly\n",
      "        sampled from the caller object.\n",
      "    \n",
      "    See Also\n",
      "    --------\n",
      "    DataFrameGroupBy.sample: Generates random samples from each group of a\n",
      "        DataFrame object.\n",
      "    SeriesGroupBy.sample: Generates random samples from each group of a\n",
      "        Series object.\n",
      "    numpy.random.choice: Generates a random sample from a given 1-D numpy\n",
      "        array.\n",
      "    \n",
      "    Notes\n",
      "    -----\n",
      "    If `frac` > 1, `replacement` should be set to `True`.\n",
      "    \n",
      "    Examples\n",
      "    --------\n",
      "    >>> df = pd.DataFrame({'num_legs': [2, 4, 8, 0],\n",
      "    ...                    'num_wings': [2, 0, 0, 0],\n",
      "    ...                    'num_specimen_seen': [10, 2, 1, 8]},\n",
      "    ...                   index=['falcon', 'dog', 'spider', 'fish'])\n",
      "    >>> df\n",
      "            num_legs  num_wings  num_specimen_seen\n",
      "    falcon         2          2                 10\n",
      "    dog            4          0                  2\n",
      "    spider         8          0                  1\n",
      "    fish           0          0                  8\n",
      "    \n",
      "    Extract 3 random elements from the ``Series`` ``df['num_legs']``:\n",
      "    Note that we use `random_state` to ensure the reproducibility of\n",
      "    the examples.\n",
      "    \n",
      "    >>> df['num_legs'].sample(n=3, random_state=1)\n",
      "    fish      0\n",
      "    spider    8\n",
      "    falcon    2\n",
      "    Name: num_legs, dtype: int64\n",
      "    \n",
      "    A random 50% sample of the ``DataFrame`` with replacement:\n",
      "    \n",
      "    >>> df.sample(frac=0.5, replace=True, random_state=1)\n",
      "          num_legs  num_wings  num_specimen_seen\n",
      "    dog          4          0                  2\n",
      "    fish         0          0                  8\n",
      "    \n",
      "    An upsample sample of the ``DataFrame`` with replacement:\n",
      "    Note that `replace` parameter has to be `True` for `frac` parameter > 1.\n",
      "    \n",
      "    >>> df.sample(frac=2, replace=True, random_state=1)\n",
      "            num_legs  num_wings  num_specimen_seen\n",
      "    dog            4          0                  2\n",
      "    fish           0          0                  8\n",
      "    falcon         2          2                 10\n",
      "    falcon         2          2                 10\n",
      "    fish           0          0                  8\n",
      "    dog            4          0                  2\n",
      "    fish           0          0                  8\n",
      "    dog            4          0                  2\n",
      "    \n",
      "    Using a DataFrame column as weights. Rows with larger value in the\n",
      "    `num_specimen_seen` column are more likely to be sampled.\n",
      "    \n",
      "    >>> df.sample(n=2, weights='num_specimen_seen', random_state=1)\n",
      "            num_legs  num_wings  num_specimen_seen\n",
      "    falcon         2          2                 10\n",
      "    fish           0          0                  8\n",
      "\n"
     ]
    }
   ],
   "source": [
    "help(house_hold_csv.sample)"
   ]
  },
  {
   "cell_type": "code",
   "execution_count": 11,
   "metadata": {},
   "outputs": [
    {
     "data": {
      "text/plain": [
       "array([109525, 315386,  73674, 591730, 179320], dtype=int64)"
      ]
     },
     "execution_count": 11,
     "metadata": {},
     "output_type": "execute_result"
    }
   ],
   "source": [
    "#took 5 random population size out of the whole data \n",
    "np.random.choice(population, 5)"
   ]
  },
  {
   "cell_type": "code",
   "execution_count": 20,
   "metadata": {},
   "outputs": [
    {
     "data": {
      "text/plain": [
       "25692    153044\n",
       "36323    143225\n",
       "11308    129122\n",
       "17689     89730\n",
       "38970    327068\n",
       "25823    105692\n",
       "20995    258005\n",
       "36563    226460\n",
       "20032     58880\n",
       "26155    158857\n",
       "Name: Total Household Income, dtype: int64"
      ]
     },
     "execution_count": 20,
     "metadata": {},
     "output_type": "execute_result"
    }
   ],
   "source": [
    "population.sample(n=10)"
   ]
  },
  {
   "cell_type": "markdown",
   "metadata": {},
   "source": [
    "\n",
    "sample_num = 10\n",
    "sample_size = 5\n",
    "for i in range(10):\n",
    "    sample_result = np.random.choice(population, sample_size)\n",
    "    \n",
    "print(sample_result)"
   ]
  },
  {
   "cell_type": "code",
   "execution_count": 30,
   "metadata": {},
   "outputs": [
    {
     "name": "stdout",
     "output_type": "stream",
     "text": [
      "[ 55838 159548  78131  60070 174232]\n"
     ]
    }
   ],
   "source": [
    "#sample_num = 10\n",
    "#sample_size = 5\n",
    "#for i in range(10):\n",
    "#    sample_result = np.random.choice(population, sample_size)\n",
    "    \n",
    "#print(sample_result)"
   ]
  },
  {
   "cell_type": "markdown",
   "metadata": {
    "id": "CrInQX6EVf5J"
   },
   "source": [
    "###### 4.A Make a histogram of all the sample means"
   ]
  },
  {
   "cell_type": "code",
   "execution_count": 10,
   "metadata": {
    "id": "oU5T6NQaVf5K"
   },
   "outputs": [
    {
     "data": {
      "image/png": "[encoded data removed]",
      "text/plain": [
       "<Figure size 432x288 with 1 Axes>"
      ]
     },
     "metadata": {
      "needs_background": "light"
     },
     "output_type": "display_data"
    }
   ],
   "source": [
    "# ANSWER\n",
    "sampleof5 = population.sample(5)\n",
    "sampleof5mean = sampleof5.mean\n",
    "plt.hist(sampleof5mean())\n",
    "plt.show()\n",
    "#print(sampleof5mean)"
   ]
  },
  {
   "cell_type": "markdown",
   "metadata": {
    "id": "laC4ugRjVf5M"
   },
   "source": [
    "###### 4.B Describe the shape of the histogram."
   ]
  },
  {
   "cell_type": "markdown",
   "metadata": {
    "id": "2_FSwIVJVf5M"
   },
   "source": [
    "**ANSWER:**"
   ]
  },
  {
   "cell_type": "code",
   "execution_count": 13,
   "metadata": {},
   "outputs": [
    {
     "ename": "AttributeError",
     "evalue": "'function' object has no attribute 'shape'",
     "output_type": "error",
     "traceback": [
      "\u001b[1;31m---------------------------------------------------------------------------\u001b[0m",
      "\u001b[1;31mAttributeError\u001b[0m                            Traceback (most recent call last)",
      "\u001b[1;32m<ipython-input-13-bbbd05a6268c>\u001b[0m in \u001b[0;36m<module>\u001b[1;34m\u001b[0m\n\u001b[1;32m----> 1\u001b[1;33m \u001b[0mprint\u001b[0m\u001b[1;33m(\u001b[0m\u001b[0msampleof5mean\u001b[0m\u001b[1;33m.\u001b[0m\u001b[0mshape\u001b[0m\u001b[1;33m)\u001b[0m\u001b[1;33m\u001b[0m\u001b[1;33m\u001b[0m\u001b[0m\n\u001b[0m",
      "\u001b[1;31mAttributeError\u001b[0m: 'function' object has no attribute 'shape'"
     ]
    }
   ],
   "source": [
    "print(sampleof5mean.shape)"
   ]
  },
  {
   "cell_type": "code",
   "execution_count": null,
   "metadata": {},
   "outputs": [],
   "source": []
  },
  {
   "cell_type": "markdown",
   "metadata": {
    "id": "9oCRfg1YVf5N"
   },
   "source": [
    "##### 7. Simulation with `sample_size=15`"
   ]
  },
  {
   "cell_type": "markdown",
   "metadata": {
    "id": "gjtCdkx0Vf5N"
   },
   "source": [
    "let's try taking another 1000 samples, but with a sample size of 15"
   ]
  },
  {
   "cell_type": "code",
   "execution_count": null,
   "metadata": {
    "id": "80IQ6Sa-Vf5O"
   },
   "outputs": [],
   "source": [
    "# ANSWER"
   ]
  },
  {
   "cell_type": "markdown",
   "metadata": {
    "id": "J8k2KhsQVf5Q"
   },
   "source": [
    "##### 8. Simulation with `sample_size=50`"
   ]
  },
  {
   "cell_type": "markdown",
   "metadata": {
    "id": "AAAdK633Vf5R"
   },
   "source": [
    "Let's try taking another 1000 samples, but with a sample size of 50"
   ]
  },
  {
   "cell_type": "code",
   "execution_count": null,
   "metadata": {
    "id": "zgj6G2ghVf5R"
   },
   "outputs": [],
   "source": [
    "# ANSWER"
   ]
  },
  {
   "cell_type": "markdown",
   "metadata": {
    "id": "K2iwg-qXVf5T"
   },
   "source": [
    "###### 8.A Describe the shape of the histogram of sample means (using sample size of 50)"
   ]
  },
  {
   "cell_type": "markdown",
   "metadata": {
    "id": "WLw5q7TxVf5U"
   },
   "source": [
    "**ANSWER:**"
   ]
  },
  {
   "cell_type": "markdown",
   "metadata": {
    "id": "udgqwlA2Vf5V"
   },
   "source": [
    "###### 8.B What is mean of the distribution of sample means?"
   ]
  },
  {
   "cell_type": "code",
   "execution_count": null,
   "metadata": {
    "id": "U6qOqsgeVf5W"
   },
   "outputs": [],
   "source": [
    "# ANSWER"
   ]
  },
  {
   "cell_type": "markdown",
   "metadata": {
    "id": "bmWVLwnyVf5Y"
   },
   "source": [
    "**ANSWER:**\n",
    "\n",
    "> If repeated random samples of a given size n are taken from a population of values for a quantitative variable, where the population mean is μ (mu) and the population standard deviation is σ (sigma) then the mean of all sample means (x-bars) is population mean μ (mu)."
   ]
  },
  {
   "cell_type": "markdown",
   "metadata": {
    "id": "Yml6WoZcVf5Z"
   },
   "source": [
    "###### 8.C As the sample size grew, did your results confirm the CLT?"
   ]
  },
  {
   "cell_type": "markdown",
   "metadata": {
    "id": "PSNXrDxyVf5a"
   },
   "source": [
    "**ANSWER:**"
   ]
  }
 ],
 "metadata": {
  "colab": {
   "collapsed_sections": [],
   "name": "IOD_Lab 3.1.3.ipynb",
   "provenance": []
  },
  "kernelspec": {
   "display_name": "Python 3",
   "language": "python",
   "name": "python3"
  },
  "language_info": {
   "codemirror_mode": {
    "name": "ipython",
    "version": 3
   },
   "file_extension": ".py",
   "mimetype": "text/x-python",
   "name": "python",
   "nbconvert_exporter": "python",
   "pygments_lexer": "ipython3",
   "version": "3.8.8"
  },
  "toc": {
   "base_numbering": 1,
   "nav_menu": {},
   "number_sections": true,
   "sideBar": true,
   "skip_h1_title": false,
   "title_cell": "Table of Contents",
   "title_sidebar": "Contents",
   "toc_cell": false,
   "toc_position": {},
   "toc_section_display": true,
   "toc_window_display": true
  }
 },
 "nbformat": 4,
 "nbformat_minor": 1
}

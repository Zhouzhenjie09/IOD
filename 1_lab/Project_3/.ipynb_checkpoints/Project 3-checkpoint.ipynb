{
 "cells": [
  {
   "cell_type": "code",
   "execution_count": 2,
   "id": "29fb4478",
   "metadata": {},
   "outputs": [],
   "source": [
    "import numpy as np\n",
    "import pandas as pd\n",
    "import datetime as dt\n",
    "import talib as ta\n",
    "\n",
    "%matplotlib inline\n",
    "import matplotlib.pyplot as plt\n",
    "import matplotlib.gridspec as gridspec\n",
    "import seaborn as sns\n",
    "import plotly.graph_objects as go\n",
    "import itertools"
   ]
  },
  {
   "cell_type": "code",
   "execution_count": 3,
   "id": "dcdab3db",
   "metadata": {},
   "outputs": [],
   "source": [
    "from sklearn import linear_model\n",
    "from sklearn.ensemble import RandomForestClassifier\n",
    "from sklearn.linear_model import LogisticRegression\n",
    "from sklearn.model_selection import cross_val_score, train_test_split\n",
    "from sklearn.naive_bayes import GaussianNB \n",
    "from sklearn.neighbors import KNeighborsClassifier\n",
    "from sklearn.decomposition import PCA\n",
    "from sklearn.preprocessing import StandardScaler\n",
    "from sklearn.preprocessing import MinMaxScaler\n",
    "from sklearn.tree import DecisionTreeClassifier\n",
    "from numpy.linalg import eig\n",
    "from sklearn.pipeline import Pipeline\n",
    "from sklearn import svm\n",
    "from sklearn.model_selection import GridSearchCV\n",
    "from sklearn.metrics import plot_confusion_matrix\n",
    "from xgboost import XGBClassifier\n",
    "\n",
    "from mlxtend.classifier import StackingClassifier\n",
    "from mlxtend.plotting import plot_learning_curves\n",
    "from mlxtend.plotting import plot_decision_regions"
   ]
  },
  {
   "cell_type": "code",
   "execution_count": 4,
   "id": "5ce5fd81",
   "metadata": {},
   "outputs": [],
   "source": [
    "import yfinance as yf"
   ]
  },
  {
   "cell_type": "code",
   "execution_count": 6,
   "id": "643068b5",
   "metadata": {},
   "outputs": [],
   "source": [
    "ticker = yf.Ticker('BTC-USD')\n",
    "# BTC_df = ticker.history(start=\"2017-01-02\", end=\"2022-02-28\")\n",
    "BTC_df = ticker.history(period ='max')"
   ]
  },
  {
   "cell_type": "markdown",
   "id": "e84a09f3",
   "metadata": {},
   "source": [
    "# EDA on the data\n",
    "We should drop Dividends and stock splits "
   ]
  },
  {
   "cell_type": "code",
   "execution_count": 7,
   "id": "aa94a4ea",
   "metadata": {},
   "outputs": [
    {
     "data": {
      "text/html": [
       "<div>\n",
       "<style scoped>\n",
       "    .dataframe tbody tr th:only-of-type {\n",
       "        vertical-align: middle;\n",
       "    }\n",
       "\n",
       "    .dataframe tbody tr th {\n",
       "        vertical-align: top;\n",
       "    }\n",
       "\n",
       "    .dataframe thead th {\n",
       "        text-align: right;\n",
       "    }\n",
       "</style>\n",
       "<table border=\"1\" class=\"dataframe\">\n",
       "  <thead>\n",
       "    <tr style=\"text-align: right;\">\n",
       "      <th></th>\n",
       "      <th>Open</th>\n",
       "      <th>High</th>\n",
       "      <th>Low</th>\n",
       "      <th>Close</th>\n",
       "      <th>Volume</th>\n",
       "      <th>Dividends</th>\n",
       "      <th>Stock Splits</th>\n",
       "    </tr>\n",
       "    <tr>\n",
       "      <th>Date</th>\n",
       "      <th></th>\n",
       "      <th></th>\n",
       "      <th></th>\n",
       "      <th></th>\n",
       "      <th></th>\n",
       "      <th></th>\n",
       "      <th></th>\n",
       "    </tr>\n",
       "  </thead>\n",
       "  <tbody>\n",
       "    <tr>\n",
       "      <th>2014-09-17</th>\n",
       "      <td>465.864014</td>\n",
       "      <td>468.174011</td>\n",
       "      <td>452.421997</td>\n",
       "      <td>457.334015</td>\n",
       "      <td>21056800</td>\n",
       "      <td>0</td>\n",
       "      <td>0</td>\n",
       "    </tr>\n",
       "    <tr>\n",
       "      <th>2014-09-18</th>\n",
       "      <td>456.859985</td>\n",
       "      <td>456.859985</td>\n",
       "      <td>413.104004</td>\n",
       "      <td>424.440002</td>\n",
       "      <td>34483200</td>\n",
       "      <td>0</td>\n",
       "      <td>0</td>\n",
       "    </tr>\n",
       "    <tr>\n",
       "      <th>2014-09-19</th>\n",
       "      <td>424.102997</td>\n",
       "      <td>427.834991</td>\n",
       "      <td>384.532013</td>\n",
       "      <td>394.795990</td>\n",
       "      <td>37919700</td>\n",
       "      <td>0</td>\n",
       "      <td>0</td>\n",
       "    </tr>\n",
       "    <tr>\n",
       "      <th>2014-09-20</th>\n",
       "      <td>394.673004</td>\n",
       "      <td>423.295990</td>\n",
       "      <td>389.882996</td>\n",
       "      <td>408.903992</td>\n",
       "      <td>36863600</td>\n",
       "      <td>0</td>\n",
       "      <td>0</td>\n",
       "    </tr>\n",
       "    <tr>\n",
       "      <th>2014-09-21</th>\n",
       "      <td>408.084991</td>\n",
       "      <td>412.425995</td>\n",
       "      <td>393.181000</td>\n",
       "      <td>398.821014</td>\n",
       "      <td>26580100</td>\n",
       "      <td>0</td>\n",
       "      <td>0</td>\n",
       "    </tr>\n",
       "    <tr>\n",
       "      <th>...</th>\n",
       "      <td>...</td>\n",
       "      <td>...</td>\n",
       "      <td>...</td>\n",
       "      <td>...</td>\n",
       "      <td>...</td>\n",
       "      <td>...</td>\n",
       "      <td>...</td>\n",
       "    </tr>\n",
       "    <tr>\n",
       "      <th>2022-03-14</th>\n",
       "      <td>37846.316406</td>\n",
       "      <td>39742.500000</td>\n",
       "      <td>37680.734375</td>\n",
       "      <td>39666.753906</td>\n",
       "      <td>24322159070</td>\n",
       "      <td>0</td>\n",
       "      <td>0</td>\n",
       "    </tr>\n",
       "    <tr>\n",
       "      <th>2022-03-15</th>\n",
       "      <td>39664.250000</td>\n",
       "      <td>39794.628906</td>\n",
       "      <td>38310.210938</td>\n",
       "      <td>39338.785156</td>\n",
       "      <td>23934000868</td>\n",
       "      <td>0</td>\n",
       "      <td>0</td>\n",
       "    </tr>\n",
       "    <tr>\n",
       "      <th>2022-03-16</th>\n",
       "      <td>39335.570312</td>\n",
       "      <td>41465.453125</td>\n",
       "      <td>39022.347656</td>\n",
       "      <td>41143.929688</td>\n",
       "      <td>39616916192</td>\n",
       "      <td>0</td>\n",
       "      <td>0</td>\n",
       "    </tr>\n",
       "    <tr>\n",
       "      <th>2022-03-17</th>\n",
       "      <td>41140.843750</td>\n",
       "      <td>41287.535156</td>\n",
       "      <td>40662.871094</td>\n",
       "      <td>40951.378906</td>\n",
       "      <td>22009601093</td>\n",
       "      <td>0</td>\n",
       "      <td>0</td>\n",
       "    </tr>\n",
       "    <tr>\n",
       "      <th>2022-03-18</th>\n",
       "      <td>40912.628906</td>\n",
       "      <td>42195.746094</td>\n",
       "      <td>40319.796875</td>\n",
       "      <td>41771.476562</td>\n",
       "      <td>34136467456</td>\n",
       "      <td>0</td>\n",
       "      <td>0</td>\n",
       "    </tr>\n",
       "  </tbody>\n",
       "</table>\n",
       "<p>2740 rows × 7 columns</p>\n",
       "</div>"
      ],
      "text/plain": [
       "                    Open          High           Low         Close  \\\n",
       "Date                                                                 \n",
       "2014-09-17    465.864014    468.174011    452.421997    457.334015   \n",
       "2014-09-18    456.859985    456.859985    413.104004    424.440002   \n",
       "2014-09-19    424.102997    427.834991    384.532013    394.795990   \n",
       "2014-09-20    394.673004    423.295990    389.882996    408.903992   \n",
       "2014-09-21    408.084991    412.425995    393.181000    398.821014   \n",
       "...                  ...           ...           ...           ...   \n",
       "2022-03-14  37846.316406  39742.500000  37680.734375  39666.753906   \n",
       "2022-03-15  39664.250000  39794.628906  38310.210938  39338.785156   \n",
       "2022-03-16  39335.570312  41465.453125  39022.347656  41143.929688   \n",
       "2022-03-17  41140.843750  41287.535156  40662.871094  40951.378906   \n",
       "2022-03-18  40912.628906  42195.746094  40319.796875  41771.476562   \n",
       "\n",
       "                 Volume  Dividends  Stock Splits  \n",
       "Date                                              \n",
       "2014-09-17     21056800          0             0  \n",
       "2014-09-18     34483200          0             0  \n",
       "2014-09-19     37919700          0             0  \n",
       "2014-09-20     36863600          0             0  \n",
       "2014-09-21     26580100          0             0  \n",
       "...                 ...        ...           ...  \n",
       "2022-03-14  24322159070          0             0  \n",
       "2022-03-15  23934000868          0             0  \n",
       "2022-03-16  39616916192          0             0  \n",
       "2022-03-17  22009601093          0             0  \n",
       "2022-03-18  34136467456          0             0  \n",
       "\n",
       "[2740 rows x 7 columns]"
      ]
     },
     "execution_count": 7,
     "metadata": {},
     "output_type": "execute_result"
    }
   ],
   "source": [
    "BTC_df"
   ]
  },
  {
   "cell_type": "markdown",
   "id": "44b02e93",
   "metadata": {},
   "source": [
    "The data is an index, i need to reset it and make it as a column"
   ]
  },
  {
   "cell_type": "code",
   "execution_count": 8,
   "id": "f1ec7c56",
   "metadata": {},
   "outputs": [],
   "source": [
    "BTC_df.reset_index(inplace=True)"
   ]
  },
  {
   "cell_type": "code",
   "execution_count": 9,
   "id": "bfa0dc37",
   "metadata": {},
   "outputs": [],
   "source": [
    "plt.rcParams['figure.figsize'] = (20, 10)\n",
    "plt.style.use('fivethirtyeight')"
   ]
  },
  {
   "cell_type": "code",
   "execution_count": 10,
   "id": "99c5586e",
   "metadata": {},
   "outputs": [
    {
     "data": {
      "text/plain": [
       "Text(0.5, 1.0, 'Bitcoin Price')"
      ]
     },
     "execution_count": 10,
     "metadata": {},
     "output_type": "execute_result"
    },
    {
     "data": {
      "image/png": "[encoded data removed]",
      "text/plain": [
       "<Figure size 1440x720 with 1 Axes>"
      ]
     },
     "metadata": {},
     "output_type": "display_data"
    }
   ],
   "source": [
    "fig, ax = plt.subplots(figsize=(20, 10))\n",
    "ax.plot(BTC_df['Date'],BTC_df['Close'], color='steelblue')\n",
    "ax.set_xlabel('Date', fontsize = 16)\n",
    "ax.set_ylabel('Price', fontsize = 16)\n",
    "ax.set_title('Bitcoin Price', fontsize = 20)"
   ]
  },
  {
   "cell_type": "markdown",
   "id": "92377a38",
   "metadata": {},
   "source": [
    "# Volumn chart "
   ]
  },
  {
   "cell_type": "code",
   "execution_count": 8,
   "id": "06d05809",
   "metadata": {},
   "outputs": [
    {
     "data": {
      "text/plain": [
       "Text(0.5, 1.0, 'Bitcoin Volume')"
      ]
     },
     "execution_count": 8,
     "metadata": {},
     "output_type": "execute_result"
    },
    {
     "data": {
      "image/png": "[encoded data removed]",
      "text/plain": [
       "<Figure size 1440x720 with 1 Axes>"
      ]
     },
     "metadata": {
      "needs_background": "light"
     },
     "output_type": "display_data"
    }
   ],
   "source": [
    "fig, ax = plt.subplots(figsize=(20, 10))\n",
    "ax.plot(BTC_df['Date'],BTC_df['Volume'], color='steelblue')\n",
    "ax.set_xlabel('Date', fontsize = 16)\n",
    "ax.set_ylabel('Volumn', fontsize = 16)\n",
    "ax.set_title('Bitcoin Volume', fontsize = 20)\n"
   ]
  },
  {
   "cell_type": "code",
   "execution_count": 9,
   "id": "410cc096",
   "metadata": {},
   "outputs": [
    {
     "name": "stdout",
     "output_type": "stream",
     "text": [
      "<class 'pandas.core.frame.DataFrame'>\n",
      "RangeIndex: 1884 entries, 0 to 1883\n",
      "Data columns (total 8 columns):\n",
      " #   Column        Non-Null Count  Dtype         \n",
      "---  ------        --------------  -----         \n",
      " 0   Date          1884 non-null   datetime64[ns]\n",
      " 1   Open          1884 non-null   float64       \n",
      " 2   High          1884 non-null   float64       \n",
      " 3   Low           1884 non-null   float64       \n",
      " 4   Close         1884 non-null   float64       \n",
      " 5   Volume        1884 non-null   int64         \n",
      " 6   Dividends     1884 non-null   int64         \n",
      " 7   Stock Splits  1884 non-null   int64         \n",
      "dtypes: datetime64[ns](1), float64(4), int64(3)\n",
      "memory usage: 117.9 KB\n"
     ]
    }
   ],
   "source": [
    "BTC_df.info()"
   ]
  },
  {
   "cell_type": "code",
   "execution_count": 10,
   "id": "666b4b47",
   "metadata": {},
   "outputs": [],
   "source": [
    "BTC_df.drop(['Dividends', 'Stock Splits'], axis = 1, inplace= True)"
   ]
  },
  {
   "cell_type": "code",
   "execution_count": 11,
   "id": "61ccbf94",
   "metadata": {},
   "outputs": [
    {
     "data": {
      "text/html": [
       "<div>\n",
       "<style scoped>\n",
       "    .dataframe tbody tr th:only-of-type {\n",
       "        vertical-align: middle;\n",
       "    }\n",
       "\n",
       "    .dataframe tbody tr th {\n",
       "        vertical-align: top;\n",
       "    }\n",
       "\n",
       "    .dataframe thead th {\n",
       "        text-align: right;\n",
       "    }\n",
       "</style>\n",
       "<table border=\"1\" class=\"dataframe\">\n",
       "  <thead>\n",
       "    <tr style=\"text-align: right;\">\n",
       "      <th></th>\n",
       "      <th>Date</th>\n",
       "      <th>Open</th>\n",
       "      <th>High</th>\n",
       "      <th>Low</th>\n",
       "      <th>Close</th>\n",
       "      <th>Volume</th>\n",
       "    </tr>\n",
       "  </thead>\n",
       "  <tbody>\n",
       "    <tr>\n",
       "      <th>0</th>\n",
       "      <td>2017-01-01</td>\n",
       "      <td>963.658020</td>\n",
       "      <td>1003.080017</td>\n",
       "      <td>958.698975</td>\n",
       "      <td>998.325012</td>\n",
       "      <td>147775008</td>\n",
       "    </tr>\n",
       "    <tr>\n",
       "      <th>1</th>\n",
       "      <td>2017-01-02</td>\n",
       "      <td>998.617004</td>\n",
       "      <td>1031.390015</td>\n",
       "      <td>996.702026</td>\n",
       "      <td>1021.750000</td>\n",
       "      <td>222184992</td>\n",
       "    </tr>\n",
       "    <tr>\n",
       "      <th>2</th>\n",
       "      <td>2017-01-03</td>\n",
       "      <td>1021.599976</td>\n",
       "      <td>1044.079956</td>\n",
       "      <td>1021.599976</td>\n",
       "      <td>1043.839966</td>\n",
       "      <td>185168000</td>\n",
       "    </tr>\n",
       "    <tr>\n",
       "      <th>3</th>\n",
       "      <td>2017-01-04</td>\n",
       "      <td>1044.400024</td>\n",
       "      <td>1159.420044</td>\n",
       "      <td>1044.400024</td>\n",
       "      <td>1154.729980</td>\n",
       "      <td>344945984</td>\n",
       "    </tr>\n",
       "    <tr>\n",
       "      <th>4</th>\n",
       "      <td>2017-01-05</td>\n",
       "      <td>1156.729980</td>\n",
       "      <td>1191.099976</td>\n",
       "      <td>910.416992</td>\n",
       "      <td>1013.380005</td>\n",
       "      <td>510199008</td>\n",
       "    </tr>\n",
       "    <tr>\n",
       "      <th>...</th>\n",
       "      <td>...</td>\n",
       "      <td>...</td>\n",
       "      <td>...</td>\n",
       "      <td>...</td>\n",
       "      <td>...</td>\n",
       "      <td>...</td>\n",
       "    </tr>\n",
       "    <tr>\n",
       "      <th>1879</th>\n",
       "      <td>2022-02-23</td>\n",
       "      <td>38285.281250</td>\n",
       "      <td>39122.394531</td>\n",
       "      <td>37201.816406</td>\n",
       "      <td>37296.570312</td>\n",
       "      <td>21849073843</td>\n",
       "    </tr>\n",
       "    <tr>\n",
       "      <th>1880</th>\n",
       "      <td>2022-02-24</td>\n",
       "      <td>37278.566406</td>\n",
       "      <td>38968.839844</td>\n",
       "      <td>34459.218750</td>\n",
       "      <td>38332.609375</td>\n",
       "      <td>46383802093</td>\n",
       "    </tr>\n",
       "    <tr>\n",
       "      <th>1881</th>\n",
       "      <td>2022-02-25</td>\n",
       "      <td>38333.746094</td>\n",
       "      <td>39630.324219</td>\n",
       "      <td>38111.343750</td>\n",
       "      <td>39214.218750</td>\n",
       "      <td>26545599159</td>\n",
       "    </tr>\n",
       "    <tr>\n",
       "      <th>1882</th>\n",
       "      <td>2022-02-26</td>\n",
       "      <td>39213.082031</td>\n",
       "      <td>40005.347656</td>\n",
       "      <td>38702.535156</td>\n",
       "      <td>39105.148438</td>\n",
       "      <td>17467554129</td>\n",
       "    </tr>\n",
       "    <tr>\n",
       "      <th>1883</th>\n",
       "      <td>2022-02-27</td>\n",
       "      <td>39098.699219</td>\n",
       "      <td>39778.941406</td>\n",
       "      <td>37268.976562</td>\n",
       "      <td>37709.785156</td>\n",
       "      <td>23450127612</td>\n",
       "    </tr>\n",
       "  </tbody>\n",
       "</table>\n",
       "<p>1884 rows × 6 columns</p>\n",
       "</div>"
      ],
      "text/plain": [
       "           Date          Open          High           Low         Close  \\\n",
       "0    2017-01-01    963.658020   1003.080017    958.698975    998.325012   \n",
       "1    2017-01-02    998.617004   1031.390015    996.702026   1021.750000   \n",
       "2    2017-01-03   1021.599976   1044.079956   1021.599976   1043.839966   \n",
       "3    2017-01-04   1044.400024   1159.420044   1044.400024   1154.729980   \n",
       "4    2017-01-05   1156.729980   1191.099976    910.416992   1013.380005   \n",
       "...         ...           ...           ...           ...           ...   \n",
       "1879 2022-02-23  38285.281250  39122.394531  37201.816406  37296.570312   \n",
       "1880 2022-02-24  37278.566406  38968.839844  34459.218750  38332.609375   \n",
       "1881 2022-02-25  38333.746094  39630.324219  38111.343750  39214.218750   \n",
       "1882 2022-02-26  39213.082031  40005.347656  38702.535156  39105.148438   \n",
       "1883 2022-02-27  39098.699219  39778.941406  37268.976562  37709.785156   \n",
       "\n",
       "           Volume  \n",
       "0       147775008  \n",
       "1       222184992  \n",
       "2       185168000  \n",
       "3       344945984  \n",
       "4       510199008  \n",
       "...           ...  \n",
       "1879  21849073843  \n",
       "1880  46383802093  \n",
       "1881  26545599159  \n",
       "1882  17467554129  \n",
       "1883  23450127612  \n",
       "\n",
       "[1884 rows x 6 columns]"
      ]
     },
     "execution_count": 11,
     "metadata": {},
     "output_type": "execute_result"
    }
   ],
   "source": [
    "BTC_df"
   ]
  },
  {
   "cell_type": "code",
   "execution_count": 12,
   "id": "8e75caa4",
   "metadata": {},
   "outputs": [],
   "source": [
    "# Moving Average\n",
    "BTC_df['MA_50'] = ta.MA(BTC_df['Close'].values, timeperiod=50)\n",
    "BTC_df['MA_200'] = ta.MA(BTC_df['Close'].values, timeperiod=200)\n",
    "\n",
    "# Simple Moving Average\n",
    "BTC_df['SMA_50'] = ta.SMA(BTC_df['Close'].values, timeperiod=50)\n",
    "BTC_df['SMA_200'] = ta.SMA(BTC_df['Close'].values, timeperiod=200)\n",
    "\n",
    "# Exponential moving average\n",
    "BTC_df['EMA_12'] = ta.EMA(BTC_df['Close'].values, timeperiod=12)\n",
    "BTC_df['EMA_26'] = ta.EMA(BTC_df['Close'].values, timeperiod=26)\n",
    "\n",
    "# Moving average convergence divergence (MACD)\n",
    "BTC_df['macd'], BTC_df['macdsignal'], BTC_df['macdhist'] = ta.MACD(BTC_df['Close'].values, fastperiod=12, slowperiod=26, signalperiod= 9)\n",
    "\n",
    "# Relative Strength index (RSI)\n",
    "BTC_df['rsi_5'] = ta.RSI(BTC_df['Close'].values, timeperiod=5)\n",
    "BTC_df['rsi_14'] = ta.RSI(BTC_df['Close'].values, timeperiod=14)\n",
    "\n",
    "#Bollinger Band (BB)\n",
    "BTC_df['BB_Upper'], BTC_df['BB_middle'], BTC_df['BB_lower'] = ta.BBANDS(BTC_df['Close'].values, timeperiod=20, nbdevup=2, nbdevdn=2, matype=0)\n"
   ]
  },
  {
   "cell_type": "code",
   "execution_count": 13,
   "id": "05ae4340",
   "metadata": {},
   "outputs": [
    {
     "data": {
      "text/html": [
       "<div>\n",
       "<style scoped>\n",
       "    .dataframe tbody tr th:only-of-type {\n",
       "        vertical-align: middle;\n",
       "    }\n",
       "\n",
       "    .dataframe tbody tr th {\n",
       "        vertical-align: top;\n",
       "    }\n",
       "\n",
       "    .dataframe thead th {\n",
       "        text-align: right;\n",
       "    }\n",
       "</style>\n",
       "<table border=\"1\" class=\"dataframe\">\n",
       "  <thead>\n",
       "    <tr style=\"text-align: right;\">\n",
       "      <th></th>\n",
       "      <th>Date</th>\n",
       "      <th>Open</th>\n",
       "      <th>High</th>\n",
       "      <th>Low</th>\n",
       "      <th>Close</th>\n",
       "      <th>Volume</th>\n",
       "      <th>MA_50</th>\n",
       "      <th>MA_200</th>\n",
       "      <th>SMA_50</th>\n",
       "      <th>SMA_200</th>\n",
       "      <th>EMA_12</th>\n",
       "      <th>EMA_26</th>\n",
       "      <th>macd</th>\n",
       "      <th>macdsignal</th>\n",
       "      <th>macdhist</th>\n",
       "      <th>rsi_5</th>\n",
       "      <th>rsi_14</th>\n",
       "      <th>BB_Upper</th>\n",
       "      <th>BB_middle</th>\n",
       "      <th>BB_lower</th>\n",
       "    </tr>\n",
       "  </thead>\n",
       "  <tbody>\n",
       "    <tr>\n",
       "      <th>0</th>\n",
       "      <td>2017-01-01</td>\n",
       "      <td>963.658020</td>\n",
       "      <td>1003.080017</td>\n",
       "      <td>958.698975</td>\n",
       "      <td>998.325012</td>\n",
       "      <td>147775008</td>\n",
       "      <td>NaN</td>\n",
       "      <td>NaN</td>\n",
       "      <td>NaN</td>\n",
       "      <td>NaN</td>\n",
       "      <td>NaN</td>\n",
       "      <td>NaN</td>\n",
       "      <td>NaN</td>\n",
       "      <td>NaN</td>\n",
       "      <td>NaN</td>\n",
       "      <td>NaN</td>\n",
       "      <td>NaN</td>\n",
       "      <td>NaN</td>\n",
       "      <td>NaN</td>\n",
       "      <td>NaN</td>\n",
       "    </tr>\n",
       "    <tr>\n",
       "      <th>1</th>\n",
       "      <td>2017-01-02</td>\n",
       "      <td>998.617004</td>\n",
       "      <td>1031.390015</td>\n",
       "      <td>996.702026</td>\n",
       "      <td>1021.750000</td>\n",
       "      <td>222184992</td>\n",
       "      <td>NaN</td>\n",
       "      <td>NaN</td>\n",
       "      <td>NaN</td>\n",
       "      <td>NaN</td>\n",
       "      <td>NaN</td>\n",
       "      <td>NaN</td>\n",
       "      <td>NaN</td>\n",
       "      <td>NaN</td>\n",
       "      <td>NaN</td>\n",
       "      <td>NaN</td>\n",
       "      <td>NaN</td>\n",
       "      <td>NaN</td>\n",
       "      <td>NaN</td>\n",
       "      <td>NaN</td>\n",
       "    </tr>\n",
       "    <tr>\n",
       "      <th>2</th>\n",
       "      <td>2017-01-03</td>\n",
       "      <td>1021.599976</td>\n",
       "      <td>1044.079956</td>\n",
       "      <td>1021.599976</td>\n",
       "      <td>1043.839966</td>\n",
       "      <td>185168000</td>\n",
       "      <td>NaN</td>\n",
       "      <td>NaN</td>\n",
       "      <td>NaN</td>\n",
       "      <td>NaN</td>\n",
       "      <td>NaN</td>\n",
       "      <td>NaN</td>\n",
       "      <td>NaN</td>\n",
       "      <td>NaN</td>\n",
       "      <td>NaN</td>\n",
       "      <td>NaN</td>\n",
       "      <td>NaN</td>\n",
       "      <td>NaN</td>\n",
       "      <td>NaN</td>\n",
       "      <td>NaN</td>\n",
       "    </tr>\n",
       "    <tr>\n",
       "      <th>3</th>\n",
       "      <td>2017-01-04</td>\n",
       "      <td>1044.400024</td>\n",
       "      <td>1159.420044</td>\n",
       "      <td>1044.400024</td>\n",
       "      <td>1154.729980</td>\n",
       "      <td>344945984</td>\n",
       "      <td>NaN</td>\n",
       "      <td>NaN</td>\n",
       "      <td>NaN</td>\n",
       "      <td>NaN</td>\n",
       "      <td>NaN</td>\n",
       "      <td>NaN</td>\n",
       "      <td>NaN</td>\n",
       "      <td>NaN</td>\n",
       "      <td>NaN</td>\n",
       "      <td>NaN</td>\n",
       "      <td>NaN</td>\n",
       "      <td>NaN</td>\n",
       "      <td>NaN</td>\n",
       "      <td>NaN</td>\n",
       "    </tr>\n",
       "    <tr>\n",
       "      <th>4</th>\n",
       "      <td>2017-01-05</td>\n",
       "      <td>1156.729980</td>\n",
       "      <td>1191.099976</td>\n",
       "      <td>910.416992</td>\n",
       "      <td>1013.380005</td>\n",
       "      <td>510199008</td>\n",
       "      <td>NaN</td>\n",
       "      <td>NaN</td>\n",
       "      <td>NaN</td>\n",
       "      <td>NaN</td>\n",
       "      <td>NaN</td>\n",
       "      <td>NaN</td>\n",
       "      <td>NaN</td>\n",
       "      <td>NaN</td>\n",
       "      <td>NaN</td>\n",
       "      <td>NaN</td>\n",
       "      <td>NaN</td>\n",
       "      <td>NaN</td>\n",
       "      <td>NaN</td>\n",
       "      <td>NaN</td>\n",
       "    </tr>\n",
       "    <tr>\n",
       "      <th>...</th>\n",
       "      <td>...</td>\n",
       "      <td>...</td>\n",
       "      <td>...</td>\n",
       "      <td>...</td>\n",
       "      <td>...</td>\n",
       "      <td>...</td>\n",
       "      <td>...</td>\n",
       "      <td>...</td>\n",
       "      <td>...</td>\n",
       "      <td>...</td>\n",
       "      <td>...</td>\n",
       "      <td>...</td>\n",
       "      <td>...</td>\n",
       "      <td>...</td>\n",
       "      <td>...</td>\n",
       "      <td>...</td>\n",
       "      <td>...</td>\n",
       "      <td>...</td>\n",
       "      <td>...</td>\n",
       "      <td>...</td>\n",
       "    </tr>\n",
       "    <tr>\n",
       "      <th>1879</th>\n",
       "      <td>2022-02-23</td>\n",
       "      <td>38285.281250</td>\n",
       "      <td>39122.394531</td>\n",
       "      <td>37201.816406</td>\n",
       "      <td>37296.570312</td>\n",
       "      <td>21849073843</td>\n",
       "      <td>40619.632969</td>\n",
       "      <td>49346.491367</td>\n",
       "      <td>40619.632969</td>\n",
       "      <td>49346.491367</td>\n",
       "      <td>39756.843754</td>\n",
       "      <td>40529.235780</td>\n",
       "      <td>-772.392026</td>\n",
       "      <td>-178.537677</td>\n",
       "      <td>-593.854350</td>\n",
       "      <td>27.529069</td>\n",
       "      <td>37.529047</td>\n",
       "      <td>46152.580286</td>\n",
       "      <td>41548.570898</td>\n",
       "      <td>36944.561511</td>\n",
       "    </tr>\n",
       "    <tr>\n",
       "      <th>1880</th>\n",
       "      <td>2022-02-24</td>\n",
       "      <td>37278.566406</td>\n",
       "      <td>38968.839844</td>\n",
       "      <td>34459.218750</td>\n",
       "      <td>38332.609375</td>\n",
       "      <td>46383802093</td>\n",
       "      <td>40514.905078</td>\n",
       "      <td>49319.163828</td>\n",
       "      <td>40514.905078</td>\n",
       "      <td>49319.163828</td>\n",
       "      <td>39537.730773</td>\n",
       "      <td>40366.522713</td>\n",
       "      <td>-828.791941</td>\n",
       "      <td>-308.588529</td>\n",
       "      <td>-520.203411</td>\n",
       "      <td>41.080920</td>\n",
       "      <td>42.098947</td>\n",
       "      <td>46203.114098</td>\n",
       "      <td>41390.157617</td>\n",
       "      <td>36577.201136</td>\n",
       "    </tr>\n",
       "    <tr>\n",
       "      <th>1881</th>\n",
       "      <td>2022-02-25</td>\n",
       "      <td>38333.746094</td>\n",
       "      <td>39630.324219</td>\n",
       "      <td>38111.343750</td>\n",
       "      <td>39214.218750</td>\n",
       "      <td>26545599159</td>\n",
       "      <td>40435.970859</td>\n",
       "      <td>49283.407910</td>\n",
       "      <td>40435.970859</td>\n",
       "      <td>49283.407910</td>\n",
       "      <td>39487.959692</td>\n",
       "      <td>40281.166864</td>\n",
       "      <td>-793.207172</td>\n",
       "      <td>-405.512258</td>\n",
       "      <td>-387.694914</td>\n",
       "      <td>50.855907</td>\n",
       "      <td>45.736592</td>\n",
       "      <td>46184.050294</td>\n",
       "      <td>41278.810352</td>\n",
       "      <td>36373.570409</td>\n",
       "    </tr>\n",
       "    <tr>\n",
       "      <th>1882</th>\n",
       "      <td>2022-02-26</td>\n",
       "      <td>39213.082031</td>\n",
       "      <td>40005.347656</td>\n",
       "      <td>38702.535156</td>\n",
       "      <td>39105.148438</td>\n",
       "      <td>17467554129</td>\n",
       "      <td>40386.915781</td>\n",
       "      <td>49251.008496</td>\n",
       "      <td>40386.915781</td>\n",
       "      <td>49251.008496</td>\n",
       "      <td>39429.065653</td>\n",
       "      <td>40194.054388</td>\n",
       "      <td>-764.988735</td>\n",
       "      <td>-477.407553</td>\n",
       "      <td>-287.581182</td>\n",
       "      <td>49.583752</td>\n",
       "      <td>45.356934</td>\n",
       "      <td>46077.309351</td>\n",
       "      <td>41113.446094</td>\n",
       "      <td>36149.582836</td>\n",
       "    </tr>\n",
       "    <tr>\n",
       "      <th>1883</th>\n",
       "      <td>2022-02-27</td>\n",
       "      <td>39098.699219</td>\n",
       "      <td>39778.941406</td>\n",
       "      <td>37268.976562</td>\n",
       "      <td>37709.785156</td>\n",
       "      <td>23450127612</td>\n",
       "      <td>40306.432656</td>\n",
       "      <td>49211.589238</td>\n",
       "      <td>40306.432656</td>\n",
       "      <td>49211.589238</td>\n",
       "      <td>39164.560961</td>\n",
       "      <td>40010.034445</td>\n",
       "      <td>-845.473484</td>\n",
       "      <td>-551.020739</td>\n",
       "      <td>-294.452744</td>\n",
       "      <td>35.416282</td>\n",
       "      <td>40.702034</td>\n",
       "      <td>45816.308225</td>\n",
       "      <td>40806.921094</td>\n",
       "      <td>35797.533962</td>\n",
       "    </tr>\n",
       "  </tbody>\n",
       "</table>\n",
       "<p>1884 rows × 20 columns</p>\n",
       "</div>"
      ],
      "text/plain": [
       "           Date          Open          High           Low         Close  \\\n",
       "0    2017-01-01    963.658020   1003.080017    958.698975    998.325012   \n",
       "1    2017-01-02    998.617004   1031.390015    996.702026   1021.750000   \n",
       "2    2017-01-03   1021.599976   1044.079956   1021.599976   1043.839966   \n",
       "3    2017-01-04   1044.400024   1159.420044   1044.400024   1154.729980   \n",
       "4    2017-01-05   1156.729980   1191.099976    910.416992   1013.380005   \n",
       "...         ...           ...           ...           ...           ...   \n",
       "1879 2022-02-23  38285.281250  39122.394531  37201.816406  37296.570312   \n",
       "1880 2022-02-24  37278.566406  38968.839844  34459.218750  38332.609375   \n",
       "1881 2022-02-25  38333.746094  39630.324219  38111.343750  39214.218750   \n",
       "1882 2022-02-26  39213.082031  40005.347656  38702.535156  39105.148438   \n",
       "1883 2022-02-27  39098.699219  39778.941406  37268.976562  37709.785156   \n",
       "\n",
       "           Volume         MA_50        MA_200        SMA_50       SMA_200  \\\n",
       "0       147775008           NaN           NaN           NaN           NaN   \n",
       "1       222184992           NaN           NaN           NaN           NaN   \n",
       "2       185168000           NaN           NaN           NaN           NaN   \n",
       "3       344945984           NaN           NaN           NaN           NaN   \n",
       "4       510199008           NaN           NaN           NaN           NaN   \n",
       "...           ...           ...           ...           ...           ...   \n",
       "1879  21849073843  40619.632969  49346.491367  40619.632969  49346.491367   \n",
       "1880  46383802093  40514.905078  49319.163828  40514.905078  49319.163828   \n",
       "1881  26545599159  40435.970859  49283.407910  40435.970859  49283.407910   \n",
       "1882  17467554129  40386.915781  49251.008496  40386.915781  49251.008496   \n",
       "1883  23450127612  40306.432656  49211.589238  40306.432656  49211.589238   \n",
       "\n",
       "            EMA_12        EMA_26        macd  macdsignal    macdhist  \\\n",
       "0              NaN           NaN         NaN         NaN         NaN   \n",
       "1              NaN           NaN         NaN         NaN         NaN   \n",
       "2              NaN           NaN         NaN         NaN         NaN   \n",
       "3              NaN           NaN         NaN         NaN         NaN   \n",
       "4              NaN           NaN         NaN         NaN         NaN   \n",
       "...            ...           ...         ...         ...         ...   \n",
       "1879  39756.843754  40529.235780 -772.392026 -178.537677 -593.854350   \n",
       "1880  39537.730773  40366.522713 -828.791941 -308.588529 -520.203411   \n",
       "1881  39487.959692  40281.166864 -793.207172 -405.512258 -387.694914   \n",
       "1882  39429.065653  40194.054388 -764.988735 -477.407553 -287.581182   \n",
       "1883  39164.560961  40010.034445 -845.473484 -551.020739 -294.452744   \n",
       "\n",
       "          rsi_5     rsi_14      BB_Upper     BB_middle      BB_lower  \n",
       "0           NaN        NaN           NaN           NaN           NaN  \n",
       "1           NaN        NaN           NaN           NaN           NaN  \n",
       "2           NaN        NaN           NaN           NaN           NaN  \n",
       "3           NaN        NaN           NaN           NaN           NaN  \n",
       "4           NaN        NaN           NaN           NaN           NaN  \n",
       "...         ...        ...           ...           ...           ...  \n",
       "1879  27.529069  37.529047  46152.580286  41548.570898  36944.561511  \n",
       "1880  41.080920  42.098947  46203.114098  41390.157617  36577.201136  \n",
       "1881  50.855907  45.736592  46184.050294  41278.810352  36373.570409  \n",
       "1882  49.583752  45.356934  46077.309351  41113.446094  36149.582836  \n",
       "1883  35.416282  40.702034  45816.308225  40806.921094  35797.533962  \n",
       "\n",
       "[1884 rows x 20 columns]"
      ]
     },
     "execution_count": 13,
     "metadata": {},
     "output_type": "execute_result"
    }
   ],
   "source": [
    "BTC_df"
   ]
  },
  {
   "cell_type": "markdown",
   "id": "b6895ad7",
   "metadata": {},
   "source": [
    "In order to know whether the day have gains/losses, i will check whether the close price is higher or lower than the open prices. \n",
    "Higher than closing price is 1\n",
    "Lower than closing price is 0 "
   ]
  },
  {
   "cell_type": "code",
   "execution_count": 14,
   "id": "fef9209f",
   "metadata": {},
   "outputs": [
    {
     "data": {
      "text/html": [
       "<div>\n",
       "<style scoped>\n",
       "    .dataframe tbody tr th:only-of-type {\n",
       "        vertical-align: middle;\n",
       "    }\n",
       "\n",
       "    .dataframe tbody tr th {\n",
       "        vertical-align: top;\n",
       "    }\n",
       "\n",
       "    .dataframe thead th {\n",
       "        text-align: right;\n",
       "    }\n",
       "</style>\n",
       "<table border=\"1\" class=\"dataframe\">\n",
       "  <thead>\n",
       "    <tr style=\"text-align: right;\">\n",
       "      <th></th>\n",
       "      <th>Date</th>\n",
       "      <th>Open</th>\n",
       "      <th>High</th>\n",
       "      <th>Low</th>\n",
       "      <th>Close</th>\n",
       "      <th>Volume</th>\n",
       "      <th>MA_50</th>\n",
       "      <th>MA_200</th>\n",
       "      <th>SMA_50</th>\n",
       "      <th>SMA_200</th>\n",
       "      <th>...</th>\n",
       "      <th>EMA_26</th>\n",
       "      <th>macd</th>\n",
       "      <th>macdsignal</th>\n",
       "      <th>macdhist</th>\n",
       "      <th>rsi_5</th>\n",
       "      <th>rsi_14</th>\n",
       "      <th>BB_Upper</th>\n",
       "      <th>BB_middle</th>\n",
       "      <th>BB_lower</th>\n",
       "      <th>Profit_or_loss</th>\n",
       "    </tr>\n",
       "  </thead>\n",
       "  <tbody>\n",
       "    <tr>\n",
       "      <th>0</th>\n",
       "      <td>2017-01-01</td>\n",
       "      <td>963.658020</td>\n",
       "      <td>1003.080017</td>\n",
       "      <td>958.698975</td>\n",
       "      <td>998.325012</td>\n",
       "      <td>147775008</td>\n",
       "      <td>NaN</td>\n",
       "      <td>NaN</td>\n",
       "      <td>NaN</td>\n",
       "      <td>NaN</td>\n",
       "      <td>...</td>\n",
       "      <td>NaN</td>\n",
       "      <td>NaN</td>\n",
       "      <td>NaN</td>\n",
       "      <td>NaN</td>\n",
       "      <td>NaN</td>\n",
       "      <td>NaN</td>\n",
       "      <td>NaN</td>\n",
       "      <td>NaN</td>\n",
       "      <td>NaN</td>\n",
       "      <td>1</td>\n",
       "    </tr>\n",
       "    <tr>\n",
       "      <th>1</th>\n",
       "      <td>2017-01-02</td>\n",
       "      <td>998.617004</td>\n",
       "      <td>1031.390015</td>\n",
       "      <td>996.702026</td>\n",
       "      <td>1021.750000</td>\n",
       "      <td>222184992</td>\n",
       "      <td>NaN</td>\n",
       "      <td>NaN</td>\n",
       "      <td>NaN</td>\n",
       "      <td>NaN</td>\n",
       "      <td>...</td>\n",
       "      <td>NaN</td>\n",
       "      <td>NaN</td>\n",
       "      <td>NaN</td>\n",
       "      <td>NaN</td>\n",
       "      <td>NaN</td>\n",
       "      <td>NaN</td>\n",
       "      <td>NaN</td>\n",
       "      <td>NaN</td>\n",
       "      <td>NaN</td>\n",
       "      <td>1</td>\n",
       "    </tr>\n",
       "    <tr>\n",
       "      <th>2</th>\n",
       "      <td>2017-01-03</td>\n",
       "      <td>1021.599976</td>\n",
       "      <td>1044.079956</td>\n",
       "      <td>1021.599976</td>\n",
       "      <td>1043.839966</td>\n",
       "      <td>185168000</td>\n",
       "      <td>NaN</td>\n",
       "      <td>NaN</td>\n",
       "      <td>NaN</td>\n",
       "      <td>NaN</td>\n",
       "      <td>...</td>\n",
       "      <td>NaN</td>\n",
       "      <td>NaN</td>\n",
       "      <td>NaN</td>\n",
       "      <td>NaN</td>\n",
       "      <td>NaN</td>\n",
       "      <td>NaN</td>\n",
       "      <td>NaN</td>\n",
       "      <td>NaN</td>\n",
       "      <td>NaN</td>\n",
       "      <td>1</td>\n",
       "    </tr>\n",
       "    <tr>\n",
       "      <th>3</th>\n",
       "      <td>2017-01-04</td>\n",
       "      <td>1044.400024</td>\n",
       "      <td>1159.420044</td>\n",
       "      <td>1044.400024</td>\n",
       "      <td>1154.729980</td>\n",
       "      <td>344945984</td>\n",
       "      <td>NaN</td>\n",
       "      <td>NaN</td>\n",
       "      <td>NaN</td>\n",
       "      <td>NaN</td>\n",
       "      <td>...</td>\n",
       "      <td>NaN</td>\n",
       "      <td>NaN</td>\n",
       "      <td>NaN</td>\n",
       "      <td>NaN</td>\n",
       "      <td>NaN</td>\n",
       "      <td>NaN</td>\n",
       "      <td>NaN</td>\n",
       "      <td>NaN</td>\n",
       "      <td>NaN</td>\n",
       "      <td>1</td>\n",
       "    </tr>\n",
       "    <tr>\n",
       "      <th>4</th>\n",
       "      <td>2017-01-05</td>\n",
       "      <td>1156.729980</td>\n",
       "      <td>1191.099976</td>\n",
       "      <td>910.416992</td>\n",
       "      <td>1013.380005</td>\n",
       "      <td>510199008</td>\n",
       "      <td>NaN</td>\n",
       "      <td>NaN</td>\n",
       "      <td>NaN</td>\n",
       "      <td>NaN</td>\n",
       "      <td>...</td>\n",
       "      <td>NaN</td>\n",
       "      <td>NaN</td>\n",
       "      <td>NaN</td>\n",
       "      <td>NaN</td>\n",
       "      <td>NaN</td>\n",
       "      <td>NaN</td>\n",
       "      <td>NaN</td>\n",
       "      <td>NaN</td>\n",
       "      <td>NaN</td>\n",
       "      <td>0</td>\n",
       "    </tr>\n",
       "    <tr>\n",
       "      <th>...</th>\n",
       "      <td>...</td>\n",
       "      <td>...</td>\n",
       "      <td>...</td>\n",
       "      <td>...</td>\n",
       "      <td>...</td>\n",
       "      <td>...</td>\n",
       "      <td>...</td>\n",
       "      <td>...</td>\n",
       "      <td>...</td>\n",
       "      <td>...</td>\n",
       "      <td>...</td>\n",
       "      <td>...</td>\n",
       "      <td>...</td>\n",
       "      <td>...</td>\n",
       "      <td>...</td>\n",
       "      <td>...</td>\n",
       "      <td>...</td>\n",
       "      <td>...</td>\n",
       "      <td>...</td>\n",
       "      <td>...</td>\n",
       "      <td>...</td>\n",
       "    </tr>\n",
       "    <tr>\n",
       "      <th>1879</th>\n",
       "      <td>2022-02-23</td>\n",
       "      <td>38285.281250</td>\n",
       "      <td>39122.394531</td>\n",
       "      <td>37201.816406</td>\n",
       "      <td>37296.570312</td>\n",
       "      <td>21849073843</td>\n",
       "      <td>40619.632969</td>\n",
       "      <td>49346.491367</td>\n",
       "      <td>40619.632969</td>\n",
       "      <td>49346.491367</td>\n",
       "      <td>...</td>\n",
       "      <td>40529.235780</td>\n",
       "      <td>-772.392026</td>\n",
       "      <td>-178.537677</td>\n",
       "      <td>-593.854350</td>\n",
       "      <td>27.529069</td>\n",
       "      <td>37.529047</td>\n",
       "      <td>46152.580286</td>\n",
       "      <td>41548.570898</td>\n",
       "      <td>36944.561511</td>\n",
       "      <td>0</td>\n",
       "    </tr>\n",
       "    <tr>\n",
       "      <th>1880</th>\n",
       "      <td>2022-02-24</td>\n",
       "      <td>37278.566406</td>\n",
       "      <td>38968.839844</td>\n",
       "      <td>34459.218750</td>\n",
       "      <td>38332.609375</td>\n",
       "      <td>46383802093</td>\n",
       "      <td>40514.905078</td>\n",
       "      <td>49319.163828</td>\n",
       "      <td>40514.905078</td>\n",
       "      <td>49319.163828</td>\n",
       "      <td>...</td>\n",
       "      <td>40366.522713</td>\n",
       "      <td>-828.791941</td>\n",
       "      <td>-308.588529</td>\n",
       "      <td>-520.203411</td>\n",
       "      <td>41.080920</td>\n",
       "      <td>42.098947</td>\n",
       "      <td>46203.114098</td>\n",
       "      <td>41390.157617</td>\n",
       "      <td>36577.201136</td>\n",
       "      <td>1</td>\n",
       "    </tr>\n",
       "    <tr>\n",
       "      <th>1881</th>\n",
       "      <td>2022-02-25</td>\n",
       "      <td>38333.746094</td>\n",
       "      <td>39630.324219</td>\n",
       "      <td>38111.343750</td>\n",
       "      <td>39214.218750</td>\n",
       "      <td>26545599159</td>\n",
       "      <td>40435.970859</td>\n",
       "      <td>49283.407910</td>\n",
       "      <td>40435.970859</td>\n",
       "      <td>49283.407910</td>\n",
       "      <td>...</td>\n",
       "      <td>40281.166864</td>\n",
       "      <td>-793.207172</td>\n",
       "      <td>-405.512258</td>\n",
       "      <td>-387.694914</td>\n",
       "      <td>50.855907</td>\n",
       "      <td>45.736592</td>\n",
       "      <td>46184.050294</td>\n",
       "      <td>41278.810352</td>\n",
       "      <td>36373.570409</td>\n",
       "      <td>1</td>\n",
       "    </tr>\n",
       "    <tr>\n",
       "      <th>1882</th>\n",
       "      <td>2022-02-26</td>\n",
       "      <td>39213.082031</td>\n",
       "      <td>40005.347656</td>\n",
       "      <td>38702.535156</td>\n",
       "      <td>39105.148438</td>\n",
       "      <td>17467554129</td>\n",
       "      <td>40386.915781</td>\n",
       "      <td>49251.008496</td>\n",
       "      <td>40386.915781</td>\n",
       "      <td>49251.008496</td>\n",
       "      <td>...</td>\n",
       "      <td>40194.054388</td>\n",
       "      <td>-764.988735</td>\n",
       "      <td>-477.407553</td>\n",
       "      <td>-287.581182</td>\n",
       "      <td>49.583752</td>\n",
       "      <td>45.356934</td>\n",
       "      <td>46077.309351</td>\n",
       "      <td>41113.446094</td>\n",
       "      <td>36149.582836</td>\n",
       "      <td>0</td>\n",
       "    </tr>\n",
       "    <tr>\n",
       "      <th>1883</th>\n",
       "      <td>2022-02-27</td>\n",
       "      <td>39098.699219</td>\n",
       "      <td>39778.941406</td>\n",
       "      <td>37268.976562</td>\n",
       "      <td>37709.785156</td>\n",
       "      <td>23450127612</td>\n",
       "      <td>40306.432656</td>\n",
       "      <td>49211.589238</td>\n",
       "      <td>40306.432656</td>\n",
       "      <td>49211.589238</td>\n",
       "      <td>...</td>\n",
       "      <td>40010.034445</td>\n",
       "      <td>-845.473484</td>\n",
       "      <td>-551.020739</td>\n",
       "      <td>-294.452744</td>\n",
       "      <td>35.416282</td>\n",
       "      <td>40.702034</td>\n",
       "      <td>45816.308225</td>\n",
       "      <td>40806.921094</td>\n",
       "      <td>35797.533962</td>\n",
       "      <td>0</td>\n",
       "    </tr>\n",
       "  </tbody>\n",
       "</table>\n",
       "<p>1884 rows × 21 columns</p>\n",
       "</div>"
      ],
      "text/plain": [
       "           Date          Open          High           Low         Close  \\\n",
       "0    2017-01-01    963.658020   1003.080017    958.698975    998.325012   \n",
       "1    2017-01-02    998.617004   1031.390015    996.702026   1021.750000   \n",
       "2    2017-01-03   1021.599976   1044.079956   1021.599976   1043.839966   \n",
       "3    2017-01-04   1044.400024   1159.420044   1044.400024   1154.729980   \n",
       "4    2017-01-05   1156.729980   1191.099976    910.416992   1013.380005   \n",
       "...         ...           ...           ...           ...           ...   \n",
       "1879 2022-02-23  38285.281250  39122.394531  37201.816406  37296.570312   \n",
       "1880 2022-02-24  37278.566406  38968.839844  34459.218750  38332.609375   \n",
       "1881 2022-02-25  38333.746094  39630.324219  38111.343750  39214.218750   \n",
       "1882 2022-02-26  39213.082031  40005.347656  38702.535156  39105.148438   \n",
       "1883 2022-02-27  39098.699219  39778.941406  37268.976562  37709.785156   \n",
       "\n",
       "           Volume         MA_50        MA_200        SMA_50       SMA_200  \\\n",
       "0       147775008           NaN           NaN           NaN           NaN   \n",
       "1       222184992           NaN           NaN           NaN           NaN   \n",
       "2       185168000           NaN           NaN           NaN           NaN   \n",
       "3       344945984           NaN           NaN           NaN           NaN   \n",
       "4       510199008           NaN           NaN           NaN           NaN   \n",
       "...           ...           ...           ...           ...           ...   \n",
       "1879  21849073843  40619.632969  49346.491367  40619.632969  49346.491367   \n",
       "1880  46383802093  40514.905078  49319.163828  40514.905078  49319.163828   \n",
       "1881  26545599159  40435.970859  49283.407910  40435.970859  49283.407910   \n",
       "1882  17467554129  40386.915781  49251.008496  40386.915781  49251.008496   \n",
       "1883  23450127612  40306.432656  49211.589238  40306.432656  49211.589238   \n",
       "\n",
       "      ...        EMA_26        macd  macdsignal    macdhist      rsi_5  \\\n",
       "0     ...           NaN         NaN         NaN         NaN        NaN   \n",
       "1     ...           NaN         NaN         NaN         NaN        NaN   \n",
       "2     ...           NaN         NaN         NaN         NaN        NaN   \n",
       "3     ...           NaN         NaN         NaN         NaN        NaN   \n",
       "4     ...           NaN         NaN         NaN         NaN        NaN   \n",
       "...   ...           ...         ...         ...         ...        ...   \n",
       "1879  ...  40529.235780 -772.392026 -178.537677 -593.854350  27.529069   \n",
       "1880  ...  40366.522713 -828.791941 -308.588529 -520.203411  41.080920   \n",
       "1881  ...  40281.166864 -793.207172 -405.512258 -387.694914  50.855907   \n",
       "1882  ...  40194.054388 -764.988735 -477.407553 -287.581182  49.583752   \n",
       "1883  ...  40010.034445 -845.473484 -551.020739 -294.452744  35.416282   \n",
       "\n",
       "         rsi_14      BB_Upper     BB_middle      BB_lower  Profit_or_loss  \n",
       "0           NaN           NaN           NaN           NaN               1  \n",
       "1           NaN           NaN           NaN           NaN               1  \n",
       "2           NaN           NaN           NaN           NaN               1  \n",
       "3           NaN           NaN           NaN           NaN               1  \n",
       "4           NaN           NaN           NaN           NaN               0  \n",
       "...         ...           ...           ...           ...             ...  \n",
       "1879  37.529047  46152.580286  41548.570898  36944.561511               0  \n",
       "1880  42.098947  46203.114098  41390.157617  36577.201136               1  \n",
       "1881  45.736592  46184.050294  41278.810352  36373.570409               1  \n",
       "1882  45.356934  46077.309351  41113.446094  36149.582836               0  \n",
       "1883  40.702034  45816.308225  40806.921094  35797.533962               0  \n",
       "\n",
       "[1884 rows x 21 columns]"
      ]
     },
     "execution_count": 14,
     "metadata": {},
     "output_type": "execute_result"
    }
   ],
   "source": [
    "outcome = BTC_df['Close'] > BTC_df['Open']\n",
    "BTC_df['Profit_or_loss'] = outcome\n",
    "BTC_df['Profit_or_loss'] = BTC_df['Profit_or_loss'].replace(True, 1)\n",
    "BTC_df['Profit_or_loss'] = BTC_df['Profit_or_loss'].replace(False, 0)\n",
    "BTC_df"
   ]
  },
  {
   "cell_type": "code",
   "execution_count": 15,
   "id": "9eb38b47",
   "metadata": {},
   "outputs": [
    {
     "data": {
      "text/plain": [
       "Date                0\n",
       "Open                0\n",
       "High                0\n",
       "Low                 0\n",
       "Close               0\n",
       "Volume              0\n",
       "MA_50              49\n",
       "MA_200            199\n",
       "SMA_50             49\n",
       "SMA_200           199\n",
       "EMA_12             11\n",
       "EMA_26             25\n",
       "macd               33\n",
       "macdsignal         33\n",
       "macdhist           33\n",
       "rsi_5               5\n",
       "rsi_14             14\n",
       "BB_Upper           19\n",
       "BB_middle          19\n",
       "BB_lower           19\n",
       "Profit_or_loss      0\n",
       "dtype: int64"
      ]
     },
     "execution_count": 15,
     "metadata": {},
     "output_type": "execute_result"
    }
   ],
   "source": [
    "BTC_df.isnull().sum()"
   ]
  },
  {
   "cell_type": "code",
   "execution_count": 16,
   "id": "c6b5fabe",
   "metadata": {},
   "outputs": [],
   "source": [
    "BTC_df.fillna(0, inplace= True)"
   ]
  },
  {
   "cell_type": "code",
   "execution_count": 17,
   "id": "594857bf",
   "metadata": {},
   "outputs": [
    {
     "data": {
      "text/plain": [
       "0"
      ]
     },
     "execution_count": 17,
     "metadata": {},
     "output_type": "execute_result"
    }
   ],
   "source": [
    "BTC_df.duplicated().sum()"
   ]
  },
  {
   "cell_type": "code",
   "execution_count": 18,
   "id": "1b41de3a",
   "metadata": {},
   "outputs": [
    {
     "name": "stdout",
     "output_type": "stream",
     "text": [
      "<class 'pandas.core.frame.DataFrame'>\n",
      "RangeIndex: 1884 entries, 0 to 1883\n",
      "Data columns (total 21 columns):\n",
      " #   Column          Non-Null Count  Dtype         \n",
      "---  ------          --------------  -----         \n",
      " 0   Date            1884 non-null   datetime64[ns]\n",
      " 1   Open            1884 non-null   float64       \n",
      " 2   High            1884 non-null   float64       \n",
      " 3   Low             1884 non-null   float64       \n",
      " 4   Close           1884 non-null   float64       \n",
      " 5   Volume          1884 non-null   int64         \n",
      " 6   MA_50           1884 non-null   float64       \n",
      " 7   MA_200          1884 non-null   float64       \n",
      " 8   SMA_50          1884 non-null   float64       \n",
      " 9   SMA_200         1884 non-null   float64       \n",
      " 10  EMA_12          1884 non-null   float64       \n",
      " 11  EMA_26          1884 non-null   float64       \n",
      " 12  macd            1884 non-null   float64       \n",
      " 13  macdsignal      1884 non-null   float64       \n",
      " 14  macdhist        1884 non-null   float64       \n",
      " 15  rsi_5           1884 non-null   float64       \n",
      " 16  rsi_14          1884 non-null   float64       \n",
      " 17  BB_Upper        1884 non-null   float64       \n",
      " 18  BB_middle       1884 non-null   float64       \n",
      " 19  BB_lower        1884 non-null   float64       \n",
      " 20  Profit_or_loss  1884 non-null   int64         \n",
      "dtypes: datetime64[ns](1), float64(18), int64(2)\n",
      "memory usage: 309.2 KB\n"
     ]
    }
   ],
   "source": [
    "BTC_df.info()"
   ]
  },
  {
   "cell_type": "code",
   "execution_count": 19,
   "id": "b434d42b",
   "metadata": {},
   "outputs": [
    {
     "data": {
      "text/plain": [
       "<matplotlib.legend.Legend at 0x1c48d4863d0>"
      ]
     },
     "execution_count": 19,
     "metadata": {},
     "output_type": "execute_result"
    },
    {
     "data": {
      "image/png": "[encoded data removed]",
      "text/plain": [
       "<Figure size 1440x720 with 1 Axes>"
      ]
     },
     "metadata": {
      "needs_background": "light"
     },
     "output_type": "display_data"
    }
   ],
   "source": [
    "# Moving Average Price \n",
    "fig, ax = plt.subplots(figsize=(20, 10))\n",
    "ax.plot(BTC_df['Date'],BTC_df['Close'], color='r', label = 'Close Price')\n",
    "ax.plot(BTC_df['Date'],BTC_df['MA_50'], color='g', label = 'SMA 50')\n",
    "ax.plot(BTC_df['Date'],BTC_df['MA_200'], color='steelblue', label = 'SMA 200')\n",
    "ax.set_xlabel('Date', fontsize = 20)\n",
    "ax.set_ylabel('Price', fontsize = 20)\n",
    "ax.set_title('Bitcoin Price with SMA', fontsize = 30)\n",
    "ax.legend(loc='upper left',prop={'size': 20})"
   ]
  },
  {
   "cell_type": "code",
   "execution_count": 20,
   "id": "03108b68",
   "metadata": {},
   "outputs": [],
   "source": [
    "# moving average graph\n",
    "fig = go.Figure(go.Candlestick(x=BTC_df['Date'],open=BTC_df['Open'],high=BTC_df['High'],low=BTC_df['Low'],close=BTC_df['Close']))\n",
    "fig.update_layout(title='Bitcoin Price', yaxis_title='BTC')\n",
    "fig.update_yaxes(type=\"log\")\n",
    "fig.add_trace(go.Scatter(x=BTC_df['Date'], y=BTC_df['Close'],mode='lines',name='Close'))\n",
    "fig.add_trace(go.Scatter(x=BTC_df['Date'], y=BTC_df['MA_50'], mode='lines', name='MA_50',line=dict(color='royalblue', width=2)))\n",
    "fig.add_trace(go.Scatter(x=BTC_df['Date'], y=BTC_df['MA_200'], mode='lines', name='MA_200', line=dict(color='#555555', width=2)))\n",
    "fig.show()"
   ]
  },
  {
   "cell_type": "code",
   "execution_count": 21,
   "id": "5b0a8913",
   "metadata": {},
   "outputs": [],
   "source": [
    "# BTC_df['previous_day_closing_price'] = BTC_df['Close'].shift(1)"
   ]
  },
  {
   "cell_type": "code",
   "execution_count": 22,
   "id": "af252c93",
   "metadata": {},
   "outputs": [],
   "source": [
    "# BTC_df"
   ]
  },
  {
   "cell_type": "markdown",
   "id": "72919d92",
   "metadata": {},
   "source": [
    "# Feature selection on the following column, This is an example for me to try out using prediction for 1 day\n",
    "\n",
    "# I need to split my training data and testing data so they don't overlap. when i do my prediction against the test data. we lets check whether it matches with the actual data "
   ]
  },
  {
   "cell_type": "code",
   "execution_count": 23,
   "id": "3b6cf67d",
   "metadata": {},
   "outputs": [
    {
     "data": {
      "text/html": [
       "<div>\n",
       "<style scoped>\n",
       "    .dataframe tbody tr th:only-of-type {\n",
       "        vertical-align: middle;\n",
       "    }\n",
       "\n",
       "    .dataframe tbody tr th {\n",
       "        vertical-align: top;\n",
       "    }\n",
       "\n",
       "    .dataframe thead th {\n",
       "        text-align: right;\n",
       "    }\n",
       "</style>\n",
       "<table border=\"1\" class=\"dataframe\">\n",
       "  <thead>\n",
       "    <tr style=\"text-align: right;\">\n",
       "      <th></th>\n",
       "      <th>Date</th>\n",
       "      <th>Open</th>\n",
       "      <th>High</th>\n",
       "      <th>Low</th>\n",
       "      <th>Close</th>\n",
       "      <th>Volume</th>\n",
       "      <th>MA_50</th>\n",
       "      <th>MA_200</th>\n",
       "      <th>SMA_50</th>\n",
       "      <th>SMA_200</th>\n",
       "      <th>...</th>\n",
       "      <th>EMA_26</th>\n",
       "      <th>macd</th>\n",
       "      <th>macdsignal</th>\n",
       "      <th>macdhist</th>\n",
       "      <th>rsi_5</th>\n",
       "      <th>rsi_14</th>\n",
       "      <th>BB_Upper</th>\n",
       "      <th>BB_middle</th>\n",
       "      <th>BB_lower</th>\n",
       "      <th>Profit_or_loss</th>\n",
       "    </tr>\n",
       "  </thead>\n",
       "  <tbody>\n",
       "    <tr>\n",
       "      <th>0</th>\n",
       "      <td>2017-01-01</td>\n",
       "      <td>963.658020</td>\n",
       "      <td>1003.080017</td>\n",
       "      <td>958.698975</td>\n",
       "      <td>998.325012</td>\n",
       "      <td>147775008</td>\n",
       "      <td>0.000000</td>\n",
       "      <td>0.000000</td>\n",
       "      <td>0.000000</td>\n",
       "      <td>0.000000</td>\n",
       "      <td>...</td>\n",
       "      <td>0.000000</td>\n",
       "      <td>0.000000</td>\n",
       "      <td>0.000000</td>\n",
       "      <td>0.000000</td>\n",
       "      <td>0.000000</td>\n",
       "      <td>0.000000</td>\n",
       "      <td>0.000000</td>\n",
       "      <td>0.000000</td>\n",
       "      <td>0.000000</td>\n",
       "      <td>1</td>\n",
       "    </tr>\n",
       "    <tr>\n",
       "      <th>1</th>\n",
       "      <td>2017-01-02</td>\n",
       "      <td>998.617004</td>\n",
       "      <td>1031.390015</td>\n",
       "      <td>996.702026</td>\n",
       "      <td>1021.750000</td>\n",
       "      <td>222184992</td>\n",
       "      <td>0.000000</td>\n",
       "      <td>0.000000</td>\n",
       "      <td>0.000000</td>\n",
       "      <td>0.000000</td>\n",
       "      <td>...</td>\n",
       "      <td>0.000000</td>\n",
       "      <td>0.000000</td>\n",
       "      <td>0.000000</td>\n",
       "      <td>0.000000</td>\n",
       "      <td>0.000000</td>\n",
       "      <td>0.000000</td>\n",
       "      <td>0.000000</td>\n",
       "      <td>0.000000</td>\n",
       "      <td>0.000000</td>\n",
       "      <td>1</td>\n",
       "    </tr>\n",
       "    <tr>\n",
       "      <th>2</th>\n",
       "      <td>2017-01-03</td>\n",
       "      <td>1021.599976</td>\n",
       "      <td>1044.079956</td>\n",
       "      <td>1021.599976</td>\n",
       "      <td>1043.839966</td>\n",
       "      <td>185168000</td>\n",
       "      <td>0.000000</td>\n",
       "      <td>0.000000</td>\n",
       "      <td>0.000000</td>\n",
       "      <td>0.000000</td>\n",
       "      <td>...</td>\n",
       "      <td>0.000000</td>\n",
       "      <td>0.000000</td>\n",
       "      <td>0.000000</td>\n",
       "      <td>0.000000</td>\n",
       "      <td>0.000000</td>\n",
       "      <td>0.000000</td>\n",
       "      <td>0.000000</td>\n",
       "      <td>0.000000</td>\n",
       "      <td>0.000000</td>\n",
       "      <td>1</td>\n",
       "    </tr>\n",
       "    <tr>\n",
       "      <th>3</th>\n",
       "      <td>2017-01-04</td>\n",
       "      <td>1044.400024</td>\n",
       "      <td>1159.420044</td>\n",
       "      <td>1044.400024</td>\n",
       "      <td>1154.729980</td>\n",
       "      <td>344945984</td>\n",
       "      <td>0.000000</td>\n",
       "      <td>0.000000</td>\n",
       "      <td>0.000000</td>\n",
       "      <td>0.000000</td>\n",
       "      <td>...</td>\n",
       "      <td>0.000000</td>\n",
       "      <td>0.000000</td>\n",
       "      <td>0.000000</td>\n",
       "      <td>0.000000</td>\n",
       "      <td>0.000000</td>\n",
       "      <td>0.000000</td>\n",
       "      <td>0.000000</td>\n",
       "      <td>0.000000</td>\n",
       "      <td>0.000000</td>\n",
       "      <td>1</td>\n",
       "    </tr>\n",
       "    <tr>\n",
       "      <th>4</th>\n",
       "      <td>2017-01-05</td>\n",
       "      <td>1156.729980</td>\n",
       "      <td>1191.099976</td>\n",
       "      <td>910.416992</td>\n",
       "      <td>1013.380005</td>\n",
       "      <td>510199008</td>\n",
       "      <td>0.000000</td>\n",
       "      <td>0.000000</td>\n",
       "      <td>0.000000</td>\n",
       "      <td>0.000000</td>\n",
       "      <td>...</td>\n",
       "      <td>0.000000</td>\n",
       "      <td>0.000000</td>\n",
       "      <td>0.000000</td>\n",
       "      <td>0.000000</td>\n",
       "      <td>0.000000</td>\n",
       "      <td>0.000000</td>\n",
       "      <td>0.000000</td>\n",
       "      <td>0.000000</td>\n",
       "      <td>0.000000</td>\n",
       "      <td>0</td>\n",
       "    </tr>\n",
       "    <tr>\n",
       "      <th>...</th>\n",
       "      <td>...</td>\n",
       "      <td>...</td>\n",
       "      <td>...</td>\n",
       "      <td>...</td>\n",
       "      <td>...</td>\n",
       "      <td>...</td>\n",
       "      <td>...</td>\n",
       "      <td>...</td>\n",
       "      <td>...</td>\n",
       "      <td>...</td>\n",
       "      <td>...</td>\n",
       "      <td>...</td>\n",
       "      <td>...</td>\n",
       "      <td>...</td>\n",
       "      <td>...</td>\n",
       "      <td>...</td>\n",
       "      <td>...</td>\n",
       "      <td>...</td>\n",
       "      <td>...</td>\n",
       "      <td>...</td>\n",
       "      <td>...</td>\n",
       "    </tr>\n",
       "    <tr>\n",
       "      <th>1879</th>\n",
       "      <td>2022-02-23</td>\n",
       "      <td>38285.281250</td>\n",
       "      <td>39122.394531</td>\n",
       "      <td>37201.816406</td>\n",
       "      <td>37296.570312</td>\n",
       "      <td>21849073843</td>\n",
       "      <td>40619.632969</td>\n",
       "      <td>49346.491367</td>\n",
       "      <td>40619.632969</td>\n",
       "      <td>49346.491367</td>\n",
       "      <td>...</td>\n",
       "      <td>40529.235780</td>\n",
       "      <td>-772.392026</td>\n",
       "      <td>-178.537677</td>\n",
       "      <td>-593.854350</td>\n",
       "      <td>27.529069</td>\n",
       "      <td>37.529047</td>\n",
       "      <td>46152.580286</td>\n",
       "      <td>41548.570898</td>\n",
       "      <td>36944.561511</td>\n",
       "      <td>0</td>\n",
       "    </tr>\n",
       "    <tr>\n",
       "      <th>1880</th>\n",
       "      <td>2022-02-24</td>\n",
       "      <td>37278.566406</td>\n",
       "      <td>38968.839844</td>\n",
       "      <td>34459.218750</td>\n",
       "      <td>38332.609375</td>\n",
       "      <td>46383802093</td>\n",
       "      <td>40514.905078</td>\n",
       "      <td>49319.163828</td>\n",
       "      <td>40514.905078</td>\n",
       "      <td>49319.163828</td>\n",
       "      <td>...</td>\n",
       "      <td>40366.522713</td>\n",
       "      <td>-828.791941</td>\n",
       "      <td>-308.588529</td>\n",
       "      <td>-520.203411</td>\n",
       "      <td>41.080920</td>\n",
       "      <td>42.098947</td>\n",
       "      <td>46203.114098</td>\n",
       "      <td>41390.157617</td>\n",
       "      <td>36577.201136</td>\n",
       "      <td>1</td>\n",
       "    </tr>\n",
       "    <tr>\n",
       "      <th>1881</th>\n",
       "      <td>2022-02-25</td>\n",
       "      <td>38333.746094</td>\n",
       "      <td>39630.324219</td>\n",
       "      <td>38111.343750</td>\n",
       "      <td>39214.218750</td>\n",
       "      <td>26545599159</td>\n",
       "      <td>40435.970859</td>\n",
       "      <td>49283.407910</td>\n",
       "      <td>40435.970859</td>\n",
       "      <td>49283.407910</td>\n",
       "      <td>...</td>\n",
       "      <td>40281.166864</td>\n",
       "      <td>-793.207172</td>\n",
       "      <td>-405.512258</td>\n",
       "      <td>-387.694914</td>\n",
       "      <td>50.855907</td>\n",
       "      <td>45.736592</td>\n",
       "      <td>46184.050294</td>\n",
       "      <td>41278.810352</td>\n",
       "      <td>36373.570409</td>\n",
       "      <td>1</td>\n",
       "    </tr>\n",
       "    <tr>\n",
       "      <th>1882</th>\n",
       "      <td>2022-02-26</td>\n",
       "      <td>39213.082031</td>\n",
       "      <td>40005.347656</td>\n",
       "      <td>38702.535156</td>\n",
       "      <td>39105.148438</td>\n",
       "      <td>17467554129</td>\n",
       "      <td>40386.915781</td>\n",
       "      <td>49251.008496</td>\n",
       "      <td>40386.915781</td>\n",
       "      <td>49251.008496</td>\n",
       "      <td>...</td>\n",
       "      <td>40194.054388</td>\n",
       "      <td>-764.988735</td>\n",
       "      <td>-477.407553</td>\n",
       "      <td>-287.581182</td>\n",
       "      <td>49.583752</td>\n",
       "      <td>45.356934</td>\n",
       "      <td>46077.309351</td>\n",
       "      <td>41113.446094</td>\n",
       "      <td>36149.582836</td>\n",
       "      <td>0</td>\n",
       "    </tr>\n",
       "    <tr>\n",
       "      <th>1883</th>\n",
       "      <td>2022-02-27</td>\n",
       "      <td>39098.699219</td>\n",
       "      <td>39778.941406</td>\n",
       "      <td>37268.976562</td>\n",
       "      <td>37709.785156</td>\n",
       "      <td>23450127612</td>\n",
       "      <td>40306.432656</td>\n",
       "      <td>49211.589238</td>\n",
       "      <td>40306.432656</td>\n",
       "      <td>49211.589238</td>\n",
       "      <td>...</td>\n",
       "      <td>40010.034445</td>\n",
       "      <td>-845.473484</td>\n",
       "      <td>-551.020739</td>\n",
       "      <td>-294.452744</td>\n",
       "      <td>35.416282</td>\n",
       "      <td>40.702034</td>\n",
       "      <td>45816.308225</td>\n",
       "      <td>40806.921094</td>\n",
       "      <td>35797.533962</td>\n",
       "      <td>0</td>\n",
       "    </tr>\n",
       "  </tbody>\n",
       "</table>\n",
       "<p>1884 rows × 21 columns</p>\n",
       "</div>"
      ],
      "text/plain": [
       "           Date          Open          High           Low         Close  \\\n",
       "0    2017-01-01    963.658020   1003.080017    958.698975    998.325012   \n",
       "1    2017-01-02    998.617004   1031.390015    996.702026   1021.750000   \n",
       "2    2017-01-03   1021.599976   1044.079956   1021.599976   1043.839966   \n",
       "3    2017-01-04   1044.400024   1159.420044   1044.400024   1154.729980   \n",
       "4    2017-01-05   1156.729980   1191.099976    910.416992   1013.380005   \n",
       "...         ...           ...           ...           ...           ...   \n",
       "1879 2022-02-23  38285.281250  39122.394531  37201.816406  37296.570312   \n",
       "1880 2022-02-24  37278.566406  38968.839844  34459.218750  38332.609375   \n",
       "1881 2022-02-25  38333.746094  39630.324219  38111.343750  39214.218750   \n",
       "1882 2022-02-26  39213.082031  40005.347656  38702.535156  39105.148438   \n",
       "1883 2022-02-27  39098.699219  39778.941406  37268.976562  37709.785156   \n",
       "\n",
       "           Volume         MA_50        MA_200        SMA_50       SMA_200  \\\n",
       "0       147775008      0.000000      0.000000      0.000000      0.000000   \n",
       "1       222184992      0.000000      0.000000      0.000000      0.000000   \n",
       "2       185168000      0.000000      0.000000      0.000000      0.000000   \n",
       "3       344945984      0.000000      0.000000      0.000000      0.000000   \n",
       "4       510199008      0.000000      0.000000      0.000000      0.000000   \n",
       "...           ...           ...           ...           ...           ...   \n",
       "1879  21849073843  40619.632969  49346.491367  40619.632969  49346.491367   \n",
       "1880  46383802093  40514.905078  49319.163828  40514.905078  49319.163828   \n",
       "1881  26545599159  40435.970859  49283.407910  40435.970859  49283.407910   \n",
       "1882  17467554129  40386.915781  49251.008496  40386.915781  49251.008496   \n",
       "1883  23450127612  40306.432656  49211.589238  40306.432656  49211.589238   \n",
       "\n",
       "      ...        EMA_26        macd  macdsignal    macdhist      rsi_5  \\\n",
       "0     ...      0.000000    0.000000    0.000000    0.000000   0.000000   \n",
       "1     ...      0.000000    0.000000    0.000000    0.000000   0.000000   \n",
       "2     ...      0.000000    0.000000    0.000000    0.000000   0.000000   \n",
       "3     ...      0.000000    0.000000    0.000000    0.000000   0.000000   \n",
       "4     ...      0.000000    0.000000    0.000000    0.000000   0.000000   \n",
       "...   ...           ...         ...         ...         ...        ...   \n",
       "1879  ...  40529.235780 -772.392026 -178.537677 -593.854350  27.529069   \n",
       "1880  ...  40366.522713 -828.791941 -308.588529 -520.203411  41.080920   \n",
       "1881  ...  40281.166864 -793.207172 -405.512258 -387.694914  50.855907   \n",
       "1882  ...  40194.054388 -764.988735 -477.407553 -287.581182  49.583752   \n",
       "1883  ...  40010.034445 -845.473484 -551.020739 -294.452744  35.416282   \n",
       "\n",
       "         rsi_14      BB_Upper     BB_middle      BB_lower  Profit_or_loss  \n",
       "0      0.000000      0.000000      0.000000      0.000000               1  \n",
       "1      0.000000      0.000000      0.000000      0.000000               1  \n",
       "2      0.000000      0.000000      0.000000      0.000000               1  \n",
       "3      0.000000      0.000000      0.000000      0.000000               1  \n",
       "4      0.000000      0.000000      0.000000      0.000000               0  \n",
       "...         ...           ...           ...           ...             ...  \n",
       "1879  37.529047  46152.580286  41548.570898  36944.561511               0  \n",
       "1880  42.098947  46203.114098  41390.157617  36577.201136               1  \n",
       "1881  45.736592  46184.050294  41278.810352  36373.570409               1  \n",
       "1882  45.356934  46077.309351  41113.446094  36149.582836               0  \n",
       "1883  40.702034  45816.308225  40806.921094  35797.533962               0  \n",
       "\n",
       "[1884 rows x 21 columns]"
      ]
     },
     "execution_count": 23,
     "metadata": {},
     "output_type": "execute_result"
    }
   ],
   "source": [
    "BTC_df"
   ]
  },
  {
   "cell_type": "code",
   "execution_count": 24,
   "id": "9d875897",
   "metadata": {},
   "outputs": [
    {
     "name": "stdout",
     "output_type": "stream",
     "text": [
      "<class 'pandas.core.frame.DataFrame'>\n",
      "RangeIndex: 1884 entries, 0 to 1883\n",
      "Data columns (total 21 columns):\n",
      " #   Column          Non-Null Count  Dtype         \n",
      "---  ------          --------------  -----         \n",
      " 0   Date            1884 non-null   datetime64[ns]\n",
      " 1   Open            1884 non-null   float64       \n",
      " 2   High            1884 non-null   float64       \n",
      " 3   Low             1884 non-null   float64       \n",
      " 4   Close           1884 non-null   float64       \n",
      " 5   Volume          1884 non-null   int64         \n",
      " 6   MA_50           1884 non-null   float64       \n",
      " 7   MA_200          1884 non-null   float64       \n",
      " 8   SMA_50          1884 non-null   float64       \n",
      " 9   SMA_200         1884 non-null   float64       \n",
      " 10  EMA_12          1884 non-null   float64       \n",
      " 11  EMA_26          1884 non-null   float64       \n",
      " 12  macd            1884 non-null   float64       \n",
      " 13  macdsignal      1884 non-null   float64       \n",
      " 14  macdhist        1884 non-null   float64       \n",
      " 15  rsi_5           1884 non-null   float64       \n",
      " 16  rsi_14          1884 non-null   float64       \n",
      " 17  BB_Upper        1884 non-null   float64       \n",
      " 18  BB_middle       1884 non-null   float64       \n",
      " 19  BB_lower        1884 non-null   float64       \n",
      " 20  Profit_or_loss  1884 non-null   int64         \n",
      "dtypes: datetime64[ns](1), float64(18), int64(2)\n",
      "memory usage: 309.2 KB\n"
     ]
    }
   ],
   "source": [
    "BTC_df.info()"
   ]
  },
  {
   "cell_type": "markdown",
   "id": "0a397429",
   "metadata": {},
   "source": [
    "# Feature Selection"
   ]
  },
  {
   "cell_type": "code",
   "execution_count": 25,
   "id": "4ca5b975",
   "metadata": {},
   "outputs": [
    {
     "data": {
      "text/plain": [
       "<AxesSubplot:>"
      ]
     },
     "execution_count": 25,
     "metadata": {},
     "output_type": "execute_result"
    },
    {
     "data": {
      "image/png": "[encoded data removed]",
      "text/plain": [
       "<Figure size 1224x1224 with 2 Axes>"
      ]
     },
     "metadata": {
      "needs_background": "light"
     },
     "output_type": "display_data"
    }
   ],
   "source": [
    "BTC_df.corr()\n",
    "plt.figure(figsize = (17,17))\n",
    "sns.heatmap(BTC_df.corr(),annot=True)"
   ]
  },
  {
   "cell_type": "code",
   "execution_count": 26,
   "id": "470a245e",
   "metadata": {},
   "outputs": [],
   "source": [
    "feat = BTC_df.columns[1:19]\n",
    "X = BTC_df[feat]\n",
    "y = BTC_df['Profit_or_loss']\n",
    "scaler = StandardScaler()\n",
    "scaled_X = scaler.fit_transform(X)"
   ]
  },
  {
   "cell_type": "code",
   "execution_count": 62,
   "id": "b6a21351",
   "metadata": {},
   "outputs": [
    {
     "data": {
      "text/plain": [
       "1884"
      ]
     },
     "execution_count": 62,
     "metadata": {},
     "output_type": "execute_result"
    }
   ],
   "source": [
    "len(X)"
   ]
  },
  {
   "cell_type": "markdown",
   "id": "5375fd96",
   "metadata": {},
   "source": [
    "# Split my training data into different time frame"
   ]
  },
  {
   "cell_type": "code",
   "execution_count": 27,
   "id": "5c8fe4f6",
   "metadata": {},
   "outputs": [
    {
     "data": {
      "text/plain": [
       "1825"
      ]
     },
     "execution_count": 27,
     "metadata": {},
     "output_type": "execute_result"
    }
   ],
   "source": [
    "training_days = pd.date_range(start=\"2017-01-02\",end=\"2021-12-31\")\n",
    "num_training_days = len(training_days)\n",
    "num_training_days"
   ]
  },
  {
   "cell_type": "code",
   "execution_count": 28,
   "id": "9e31a87d",
   "metadata": {},
   "outputs": [],
   "source": [
    "X_train = scaled_X[:num_training_days]\n",
    "y_train = y[:num_training_days]\n",
    "X_test = scaled_X[num_training_days:]\n",
    "y_test = y[num_training_days:]"
   ]
  },
  {
   "cell_type": "code",
   "execution_count": 29,
   "id": "12e04927",
   "metadata": {},
   "outputs": [
    {
     "name": "stdout",
     "output_type": "stream",
     "text": [
      "X_train shape == (1825, 18).\n",
      "y_train shape == (1825,).\n",
      "X_test shape == (59, 18).\n",
      "y_test shape == (59,).\n"
     ]
    }
   ],
   "source": [
    "print('X_train shape == {}.'.format(X_train.shape))\n",
    "print('y_train shape == {}.'.format(y_train.shape))\n",
    "print('X_test shape == {}.'.format(X_test.shape))\n",
    "print('y_test shape == {}.'.format(y_test.shape))"
   ]
  },
  {
   "cell_type": "markdown",
   "id": "473093c7",
   "metadata": {},
   "source": [
    "## Model Selection and also try out using different model "
   ]
  },
  {
   "cell_type": "code",
   "execution_count": 30,
   "id": "78ba04e4",
   "metadata": {},
   "outputs": [],
   "source": [
    "\n",
    "# Append the models to the models list\n",
    "models = []\n",
    "models.append(('LR' , LogisticRegression()))\n",
    "models.append(('KNN' , KNeighborsClassifier()))\n",
    "models.append(('Decision_Tree' , DecisionTreeClassifier()))\n",
    "models.append(('SVM' , svm.SVC(kernel='rbf')))\n",
    "models.append(('RF' , RandomForestClassifier(n_estimators=50)))\n",
    "models.append(('XGBoost', XGBClassifier()))\n"
   ]
  },
  {
   "cell_type": "code",
   "execution_count": 31,
   "id": "32734f89",
   "metadata": {},
   "outputs": [],
   "source": [
    "from sklearn.metrics import classification_report, confusion_matrix, accuracy_score, mean_squared_error\n",
    "from sklearn.metrics import precision_score,recall_score, confusion_matrix, classification_report,accuracy_score, f1_score"
   ]
  },
  {
   "cell_type": "code",
   "execution_count": 32,
   "id": "6df3b6ba",
   "metadata": {},
   "outputs": [
    {
     "name": "stdout",
     "output_type": "stream",
     "text": [
      "Model :LR\n",
      "Accuracy Score : 0.8305084745762712\n",
      "f1 Score: 0.8214285714285714\n",
      "Recall: 0.8214285714285714\n",
      "precision: 0.8214285714285714\n",
      "Confusion Matrix :\n"
     ]
    },
    {
     "data": {
      "image/png": "[encoded data removed]",
      "text/plain": [
       "<Figure size 432x288 with 2 Axes>"
      ]
     },
     "metadata": {
      "needs_background": "light"
     },
     "output_type": "display_data"
    },
    {
     "name": "stdout",
     "output_type": "stream",
     "text": [
      "              precision    recall  f1-score   support\n",
      "\n",
      "           0       0.84      0.84      0.84        31\n",
      "           1       0.82      0.82      0.82        28\n",
      "\n",
      "    accuracy                           0.83        59\n",
      "   macro avg       0.83      0.83      0.83        59\n",
      "weighted avg       0.83      0.83      0.83        59\n",
      "\n",
      "Model :KNN\n",
      "Accuracy Score : 0.6949152542372882\n",
      "f1 Score: 0.689655172413793\n",
      "Recall: 0.7142857142857143\n",
      "precision: 0.6666666666666666\n",
      "Confusion Matrix :\n"
     ]
    },
    {
     "data": {
      "image/png": "[encoded data removed]",
      "text/plain": [
       "<Figure size 432x288 with 2 Axes>"
      ]
     },
     "metadata": {
      "needs_background": "light"
     },
     "output_type": "display_data"
    },
    {
     "name": "stdout",
     "output_type": "stream",
     "text": [
      "              precision    recall  f1-score   support\n",
      "\n",
      "           0       0.72      0.68      0.70        31\n",
      "           1       0.67      0.71      0.69        28\n",
      "\n",
      "    accuracy                           0.69        59\n",
      "   macro avg       0.70      0.70      0.69        59\n",
      "weighted avg       0.70      0.69      0.70        59\n",
      "\n",
      "Model :Decision_Tree\n",
      "Accuracy Score : 0.6271186440677966\n",
      "f1 Score: 0.6333333333333334\n",
      "Recall: 0.6785714285714286\n",
      "precision: 0.59375\n",
      "Confusion Matrix :\n"
     ]
    },
    {
     "data": {
      "image/png": "[encoded data removed]",
      "text/plain": [
       "<Figure size 432x288 with 2 Axes>"
      ]
     },
     "metadata": {
      "needs_background": "light"
     },
     "output_type": "display_data"
    },
    {
     "name": "stdout",
     "output_type": "stream",
     "text": [
      "              precision    recall  f1-score   support\n",
      "\n",
      "           0       0.67      0.58      0.62        31\n",
      "           1       0.59      0.68      0.63        28\n",
      "\n",
      "    accuracy                           0.63        59\n",
      "   macro avg       0.63      0.63      0.63        59\n",
      "weighted avg       0.63      0.63      0.63        59\n",
      "\n",
      "Model :SVM\n",
      "Accuracy Score : 0.6949152542372882\n",
      "f1 Score: 0.6250000000000001\n",
      "Recall: 0.5357142857142857\n",
      "precision: 0.75\n",
      "Confusion Matrix :\n"
     ]
    },
    {
     "data": {
      "image/png": "[encoded data removed]",
      "text/plain": [
       "<Figure size 432x288 with 2 Axes>"
      ]
     },
     "metadata": {
      "needs_background": "light"
     },
     "output_type": "display_data"
    },
    {
     "name": "stdout",
     "output_type": "stream",
     "text": [
      "              precision    recall  f1-score   support\n",
      "\n",
      "           0       0.67      0.84      0.74        31\n",
      "           1       0.75      0.54      0.63        28\n",
      "\n",
      "    accuracy                           0.69        59\n",
      "   macro avg       0.71      0.69      0.68        59\n",
      "weighted avg       0.71      0.69      0.69        59\n",
      "\n",
      "Model :RF\n",
      "Accuracy Score : 0.6949152542372882\n",
      "f1 Score: 0.6666666666666666\n",
      "Recall: 0.6428571428571429\n",
      "precision: 0.6923076923076923\n",
      "Confusion Matrix :\n"
     ]
    },
    {
     "data": {
      "image/png": "[encoded data removed]",
      "text/plain": [
       "<Figure size 432x288 with 2 Axes>"
      ]
     },
     "metadata": {
      "needs_background": "light"
     },
     "output_type": "display_data"
    },
    {
     "name": "stdout",
     "output_type": "stream",
     "text": [
      "              precision    recall  f1-score   support\n",
      "\n",
      "           0       0.70      0.74      0.72        31\n",
      "           1       0.69      0.64      0.67        28\n",
      "\n",
      "    accuracy                           0.69        59\n",
      "   macro avg       0.69      0.69      0.69        59\n",
      "weighted avg       0.69      0.69      0.69        59\n",
      "\n",
      "[12:06:11] WARNING: C:/Users/Administrator/workspace/xgboost-win64_release_1.5.1/src/learner.cc:1115: Starting in XGBoost 1.3.0, the default evaluation metric used with the objective 'binary:logistic' was changed from 'error' to 'logloss'. Explicitly set eval_metric if you'd like to restore the old behavior.\n"
     ]
    },
    {
     "name": "stderr",
     "output_type": "stream",
     "text": [
      "C:\\Users\\user\\.conda\\envs\\Deep_learning\\lib\\site-packages\\xgboost\\sklearn.py:1224: UserWarning: The use of label encoder in XGBClassifier is deprecated and will be removed in a future release. To remove this warning, do the following: 1) Pass option use_label_encoder=False when constructing XGBClassifier object; and 2) Encode your labels (y) as integers starting with 0, i.e. 0, 1, 2, ..., [num_class - 1].\n",
      "  warnings.warn(label_encoder_deprecation_msg, UserWarning)\n"
     ]
    },
    {
     "name": "stdout",
     "output_type": "stream",
     "text": [
      "Model :XGBoost\n",
      "Accuracy Score : 0.711864406779661\n",
      "f1 Score: 0.6792452830188679\n",
      "Recall: 0.6428571428571429\n",
      "precision: 0.72\n",
      "Confusion Matrix :\n"
     ]
    },
    {
     "data": {
      "image/png": "[encoded data removed]",
      "text/plain": [
       "<Figure size 432x288 with 2 Axes>"
      ]
     },
     "metadata": {
      "needs_background": "light"
     },
     "output_type": "display_data"
    },
    {
     "name": "stdout",
     "output_type": "stream",
     "text": [
      "              precision    recall  f1-score   support\n",
      "\n",
      "           0       0.71      0.77      0.74        31\n",
      "           1       0.72      0.64      0.68        28\n",
      "\n",
      "    accuracy                           0.71        59\n",
      "   macro avg       0.71      0.71      0.71        59\n",
      "weighted avg       0.71      0.71      0.71        59\n",
      "\n"
     ]
    }
   ],
   "source": [
    "results = []\n",
    "names = []\n",
    "\n",
    "\n",
    "for name, model in models:\n",
    "    clf = model\n",
    "    clf.fit(X_train, y_train)\n",
    "    y_pred = clf.predict(X_test)\n",
    "    accu_score = accuracy_score(y_test, y_pred)\n",
    "    F1_score=f1_score(y_test, y_pred)\n",
    "    Recall=recall_score(y_test, y_pred)\n",
    "    Precision=precision_score(y_test, y_pred)\n",
    "    results= pd.crosstab(y_test, y_pred, rownames=['Actual'], colnames=['Predicted'], margins=False)\n",
    "    print( \"Model :\" + name)\n",
    "    print ('Accuracy Score :',accuracy_score(y_test,y_pred))\n",
    "    print('f1 Score'+\": \" + str(F1_score))\n",
    "    print('Recall' + \": \" + str(Recall))\n",
    "    print('precision' + \": \" + str(Precision))\n",
    "    print ('Confusion Matrix :')\n",
    "    sns.heatmap(results, annot=True)\n",
    "    plt.show() \n",
    "#     print(model.feature_importances_)\n",
    "    print(classification_report(y_test,y_pred))"
   ]
  },
  {
   "cell_type": "code",
   "execution_count": 33,
   "id": "3665b47a",
   "metadata": {},
   "outputs": [
    {
     "data": {
      "text/plain": [
       "array([0, 1, 0, 0, 0, 0, 0, 0, 0, 0, 0, 1, 1, 0, 1, 1, 1, 0, 0, 0, 0, 0,\n",
       "       0, 0, 0, 0, 0, 1, 1, 1, 1, 1, 1, 0, 0, 1, 1, 1, 1, 1, 1, 1, 0, 0,\n",
       "       0, 0, 1, 1, 0, 0, 0, 0, 0, 0, 1, 1, 1, 1, 0], dtype=int64)"
      ]
     },
     "execution_count": 33,
     "metadata": {},
     "output_type": "execute_result"
    }
   ],
   "source": [
    "y_pred"
   ]
  },
  {
   "cell_type": "code",
   "execution_count": 34,
   "id": "12a6529e",
   "metadata": {},
   "outputs": [
    {
     "data": {
      "text/plain": [
       "array([0, 1, 0, 0, 0, 0, 0, 0, 1, 1, 0, 1, 1, 0, 1, 1, 0, 0, 1, 0, 0, 0,\n",
       "       0, 1, 1, 1, 0, 1, 1, 1, 0, 1, 1, 0, 1, 1, 0, 1, 1, 1, 1, 0, 0, 0,\n",
       "       0, 1, 1, 0, 0, 0, 1, 0, 0, 1, 0, 1, 1, 0, 0], dtype=int64)"
      ]
     },
     "execution_count": 34,
     "metadata": {},
     "output_type": "execute_result"
    }
   ],
   "source": [
    "np.array(y_test)"
   ]
  },
  {
   "cell_type": "code",
   "execution_count": null,
   "id": "c36b3037",
   "metadata": {},
   "outputs": [],
   "source": []
  },
  {
   "cell_type": "markdown",
   "id": "d186ece2",
   "metadata": {},
   "source": [
    "# Logistic regression"
   ]
  },
  {
   "cell_type": "code",
   "execution_count": 35,
   "id": "c52ebeaf",
   "metadata": {},
   "outputs": [
    {
     "data": {
      "text/plain": [
       "0.8305084745762712"
      ]
     },
     "execution_count": 35,
     "metadata": {},
     "output_type": "execute_result"
    }
   ],
   "source": [
    "logres = LogisticRegression()\n",
    "logres.fit(X_train, y_train)\n",
    "logres_y_pred = logres.predict(X_test)\n",
    "logres.score(X_test,y_test)"
   ]
  },
  {
   "cell_type": "code",
   "execution_count": 36,
   "id": "c867fe6d",
   "metadata": {},
   "outputs": [
    {
     "data": {
      "image/png": "[encoded data removed]",
      "text/plain": [
       "<Figure size 432x288 with 2 Axes>"
      ]
     },
     "metadata": {
      "needs_background": "light"
     },
     "output_type": "display_data"
    }
   ],
   "source": [
    "logres_confusion_matrix= pd.crosstab(y_test, logres_y_pred, rownames=['Actual'], colnames=['Predicted'], margins=False)\n",
    "sns.heatmap(logres_confusion_matrix, annot=True)\n",
    "plt.show()"
   ]
  },
  {
   "cell_type": "code",
   "execution_count": 37,
   "id": "a3bee0f4",
   "metadata": {},
   "outputs": [],
   "source": [
    "logres_final_df = pd.DataFrame(data= np.array(y_test),columns=['Actual'])\n",
    "logres_final_df['Prediction'] = np.array(logres_y_pred)\n"
   ]
  },
  {
   "cell_type": "code",
   "execution_count": null,
   "id": "56f61f30",
   "metadata": {},
   "outputs": [],
   "source": []
  },
  {
   "cell_type": "code",
   "execution_count": 38,
   "id": "47b2df1a",
   "metadata": {
    "scrolled": true
   },
   "outputs": [
    {
     "data": {
      "image/png": "[encoded data removed]",
      "text/plain": [
       "<Figure size 432x288 with 1 Axes>"
      ]
     },
     "metadata": {
      "needs_background": "light"
     },
     "output_type": "display_data"
    }
   ],
   "source": [
    "plt.plot(np.array(y_test), color = 'red', label = 'Bitcoin Price')\n",
    "plt.plot(np.array(logres_y_pred), color = 'green', label = 'Predicted Bitcoin Price')\n",
    "plt.title('Bitcoin Profit or Loss Prediction using Logistic Regression')\n",
    "plt.xlabel('Days')\n",
    "plt.ylabel('Profit = 1, Loss = 0')\n",
    "plt.legend()\n",
    "plt.show()"
   ]
  },
  {
   "cell_type": "markdown",
   "id": "ce2283b1",
   "metadata": {},
   "source": [
    "# Grid search to find best parameter. cannot use this before of cross validation "
   ]
  },
  {
   "cell_type": "code",
   "execution_count": 39,
   "id": "c0f744cb",
   "metadata": {},
   "outputs": [],
   "source": [
    "model_params = {\n",
    "    'svm': {\n",
    "        'model': svm.SVC(gamma='auto'),\n",
    "        'params' : {\n",
    "            'C': [10,50,100],\n",
    "            'kernel': ['rbf','linear']\n",
    "        }  \n",
    "    },\n",
    "    'random_forest': {\n",
    "        'model': RandomForestClassifier(),\n",
    "        'params' : {\n",
    "            'n_estimators': [5,10,50]\n",
    "        }\n",
    "    },\n",
    "    'logistic_regression' : {\n",
    "        'model': LogisticRegression(),\n",
    "        'params': {\n",
    "            'C': [10,50,100]\n",
    "        }\n",
    "    },\n",
    "    'decision_tree' : {\n",
    "        'model': DecisionTreeClassifier(),\n",
    "        'params': {\n",
    "            'criterion': ['gini', 'entropy']\n",
    "        }\n",
    "    },\n",
    "    'KNN': {\n",
    "        'model': KNeighborsClassifier(),\n",
    "        'params': {\n",
    "            'n_neighbors': [10,50,100]\n",
    "        }\n",
    "    },\n",
    "    'XGBoost': {\n",
    "        'model': XGBClassifier(),\n",
    "        'params': {\n",
    "            'n_neighbors': [10,50,100]\n",
    "        }\n",
    "    }\n",
    " \n",
    "}"
   ]
  },
  {
   "cell_type": "code",
   "execution_count": null,
   "id": "a4f6e100",
   "metadata": {},
   "outputs": [],
   "source": []
  },
  {
   "cell_type": "code",
   "execution_count": 40,
   "id": "f1019184",
   "metadata": {},
   "outputs": [
    {
     "name": "stderr",
     "output_type": "stream",
     "text": [
      "C:\\Users\\user\\.conda\\envs\\Deep_learning\\lib\\site-packages\\sklearn\\linear_model\\_logistic.py:814: ConvergenceWarning: lbfgs failed to converge (status=1):\n",
      "STOP: TOTAL NO. of ITERATIONS REACHED LIMIT.\n",
      "\n",
      "Increase the number of iterations (max_iter) or scale the data as shown in:\n",
      "    https://scikit-learn.org/stable/modules/preprocessing.html\n",
      "Please also refer to the documentation for alternative solver options:\n",
      "    https://scikit-learn.org/stable/modules/linear_model.html#logistic-regression\n",
      "  n_iter_i = _check_optimize_result(\n",
      "C:\\Users\\user\\.conda\\envs\\Deep_learning\\lib\\site-packages\\sklearn\\linear_model\\_logistic.py:814: ConvergenceWarning: lbfgs failed to converge (status=1):\n",
      "STOP: TOTAL NO. of ITERATIONS REACHED LIMIT.\n",
      "\n",
      "Increase the number of iterations (max_iter) or scale the data as shown in:\n",
      "    https://scikit-learn.org/stable/modules/preprocessing.html\n",
      "Please also refer to the documentation for alternative solver options:\n",
      "    https://scikit-learn.org/stable/modules/linear_model.html#logistic-regression\n",
      "  n_iter_i = _check_optimize_result(\n",
      "C:\\Users\\user\\.conda\\envs\\Deep_learning\\lib\\site-packages\\sklearn\\linear_model\\_logistic.py:814: ConvergenceWarning: lbfgs failed to converge (status=1):\n",
      "STOP: TOTAL NO. of ITERATIONS REACHED LIMIT.\n",
      "\n",
      "Increase the number of iterations (max_iter) or scale the data as shown in:\n",
      "    https://scikit-learn.org/stable/modules/preprocessing.html\n",
      "Please also refer to the documentation for alternative solver options:\n",
      "    https://scikit-learn.org/stable/modules/linear_model.html#logistic-regression\n",
      "  n_iter_i = _check_optimize_result(\n",
      "C:\\Users\\user\\.conda\\envs\\Deep_learning\\lib\\site-packages\\sklearn\\linear_model\\_logistic.py:814: ConvergenceWarning: lbfgs failed to converge (status=1):\n",
      "STOP: TOTAL NO. of ITERATIONS REACHED LIMIT.\n",
      "\n",
      "Increase the number of iterations (max_iter) or scale the data as shown in:\n",
      "    https://scikit-learn.org/stable/modules/preprocessing.html\n",
      "Please also refer to the documentation for alternative solver options:\n",
      "    https://scikit-learn.org/stable/modules/linear_model.html#logistic-regression\n",
      "  n_iter_i = _check_optimize_result(\n",
      "C:\\Users\\user\\.conda\\envs\\Deep_learning\\lib\\site-packages\\sklearn\\linear_model\\_logistic.py:814: ConvergenceWarning: lbfgs failed to converge (status=1):\n",
      "STOP: TOTAL NO. of ITERATIONS REACHED LIMIT.\n",
      "\n",
      "Increase the number of iterations (max_iter) or scale the data as shown in:\n",
      "    https://scikit-learn.org/stable/modules/preprocessing.html\n",
      "Please also refer to the documentation for alternative solver options:\n",
      "    https://scikit-learn.org/stable/modules/linear_model.html#logistic-regression\n",
      "  n_iter_i = _check_optimize_result(\n",
      "C:\\Users\\user\\.conda\\envs\\Deep_learning\\lib\\site-packages\\sklearn\\linear_model\\_logistic.py:814: ConvergenceWarning: lbfgs failed to converge (status=1):\n",
      "STOP: TOTAL NO. of ITERATIONS REACHED LIMIT.\n",
      "\n",
      "Increase the number of iterations (max_iter) or scale the data as shown in:\n",
      "    https://scikit-learn.org/stable/modules/preprocessing.html\n",
      "Please also refer to the documentation for alternative solver options:\n",
      "    https://scikit-learn.org/stable/modules/linear_model.html#logistic-regression\n",
      "  n_iter_i = _check_optimize_result(\n",
      "C:\\Users\\user\\.conda\\envs\\Deep_learning\\lib\\site-packages\\sklearn\\linear_model\\_logistic.py:814: ConvergenceWarning: lbfgs failed to converge (status=1):\n",
      "STOP: TOTAL NO. of ITERATIONS REACHED LIMIT.\n",
      "\n",
      "Increase the number of iterations (max_iter) or scale the data as shown in:\n",
      "    https://scikit-learn.org/stable/modules/preprocessing.html\n",
      "Please also refer to the documentation for alternative solver options:\n",
      "    https://scikit-learn.org/stable/modules/linear_model.html#logistic-regression\n",
      "  n_iter_i = _check_optimize_result(\n",
      "C:\\Users\\user\\.conda\\envs\\Deep_learning\\lib\\site-packages\\sklearn\\linear_model\\_logistic.py:814: ConvergenceWarning: lbfgs failed to converge (status=1):\n",
      "STOP: TOTAL NO. of ITERATIONS REACHED LIMIT.\n",
      "\n",
      "Increase the number of iterations (max_iter) or scale the data as shown in:\n",
      "    https://scikit-learn.org/stable/modules/preprocessing.html\n",
      "Please also refer to the documentation for alternative solver options:\n",
      "    https://scikit-learn.org/stable/modules/linear_model.html#logistic-regression\n",
      "  n_iter_i = _check_optimize_result(\n",
      "C:\\Users\\user\\.conda\\envs\\Deep_learning\\lib\\site-packages\\sklearn\\linear_model\\_logistic.py:814: ConvergenceWarning: lbfgs failed to converge (status=1):\n",
      "STOP: TOTAL NO. of ITERATIONS REACHED LIMIT.\n",
      "\n",
      "Increase the number of iterations (max_iter) or scale the data as shown in:\n",
      "    https://scikit-learn.org/stable/modules/preprocessing.html\n",
      "Please also refer to the documentation for alternative solver options:\n",
      "    https://scikit-learn.org/stable/modules/linear_model.html#logistic-regression\n",
      "  n_iter_i = _check_optimize_result(\n",
      "C:\\Users\\user\\.conda\\envs\\Deep_learning\\lib\\site-packages\\sklearn\\linear_model\\_logistic.py:814: ConvergenceWarning: lbfgs failed to converge (status=1):\n",
      "STOP: TOTAL NO. of ITERATIONS REACHED LIMIT.\n",
      "\n",
      "Increase the number of iterations (max_iter) or scale the data as shown in:\n",
      "    https://scikit-learn.org/stable/modules/preprocessing.html\n",
      "Please also refer to the documentation for alternative solver options:\n",
      "    https://scikit-learn.org/stable/modules/linear_model.html#logistic-regression\n",
      "  n_iter_i = _check_optimize_result(\n",
      "C:\\Users\\user\\.conda\\envs\\Deep_learning\\lib\\site-packages\\sklearn\\linear_model\\_logistic.py:814: ConvergenceWarning: lbfgs failed to converge (status=1):\n",
      "STOP: TOTAL NO. of ITERATIONS REACHED LIMIT.\n",
      "\n",
      "Increase the number of iterations (max_iter) or scale the data as shown in:\n",
      "    https://scikit-learn.org/stable/modules/preprocessing.html\n",
      "Please also refer to the documentation for alternative solver options:\n",
      "    https://scikit-learn.org/stable/modules/linear_model.html#logistic-regression\n",
      "  n_iter_i = _check_optimize_result(\n",
      "C:\\Users\\user\\.conda\\envs\\Deep_learning\\lib\\site-packages\\sklearn\\linear_model\\_logistic.py:814: ConvergenceWarning: lbfgs failed to converge (status=1):\n",
      "STOP: TOTAL NO. of ITERATIONS REACHED LIMIT.\n",
      "\n",
      "Increase the number of iterations (max_iter) or scale the data as shown in:\n",
      "    https://scikit-learn.org/stable/modules/preprocessing.html\n",
      "Please also refer to the documentation for alternative solver options:\n",
      "    https://scikit-learn.org/stable/modules/linear_model.html#logistic-regression\n",
      "  n_iter_i = _check_optimize_result(\n",
      "C:\\Users\\user\\.conda\\envs\\Deep_learning\\lib\\site-packages\\sklearn\\linear_model\\_logistic.py:814: ConvergenceWarning: lbfgs failed to converge (status=1):\n",
      "STOP: TOTAL NO. of ITERATIONS REACHED LIMIT.\n",
      "\n",
      "Increase the number of iterations (max_iter) or scale the data as shown in:\n",
      "    https://scikit-learn.org/stable/modules/preprocessing.html\n",
      "Please also refer to the documentation for alternative solver options:\n",
      "    https://scikit-learn.org/stable/modules/linear_model.html#logistic-regression\n",
      "  n_iter_i = _check_optimize_result(\n",
      "C:\\Users\\user\\.conda\\envs\\Deep_learning\\lib\\site-packages\\sklearn\\linear_model\\_logistic.py:814: ConvergenceWarning: lbfgs failed to converge (status=1):\n",
      "STOP: TOTAL NO. of ITERATIONS REACHED LIMIT.\n",
      "\n",
      "Increase the number of iterations (max_iter) or scale the data as shown in:\n",
      "    https://scikit-learn.org/stable/modules/preprocessing.html\n",
      "Please also refer to the documentation for alternative solver options:\n",
      "    https://scikit-learn.org/stable/modules/linear_model.html#logistic-regression\n",
      "  n_iter_i = _check_optimize_result(\n",
      "C:\\Users\\user\\.conda\\envs\\Deep_learning\\lib\\site-packages\\sklearn\\linear_model\\_logistic.py:814: ConvergenceWarning: lbfgs failed to converge (status=1):\n",
      "STOP: TOTAL NO. of ITERATIONS REACHED LIMIT.\n",
      "\n",
      "Increase the number of iterations (max_iter) or scale the data as shown in:\n",
      "    https://scikit-learn.org/stable/modules/preprocessing.html\n",
      "Please also refer to the documentation for alternative solver options:\n",
      "    https://scikit-learn.org/stable/modules/linear_model.html#logistic-regression\n",
      "  n_iter_i = _check_optimize_result(\n",
      "C:\\Users\\user\\.conda\\envs\\Deep_learning\\lib\\site-packages\\sklearn\\linear_model\\_logistic.py:814: ConvergenceWarning: lbfgs failed to converge (status=1):\n",
      "STOP: TOTAL NO. of ITERATIONS REACHED LIMIT.\n",
      "\n",
      "Increase the number of iterations (max_iter) or scale the data as shown in:\n",
      "    https://scikit-learn.org/stable/modules/preprocessing.html\n",
      "Please also refer to the documentation for alternative solver options:\n",
      "    https://scikit-learn.org/stable/modules/linear_model.html#logistic-regression\n",
      "  n_iter_i = _check_optimize_result(\n"
     ]
    },
    {
     "name": "stderr",
     "output_type": "stream",
     "text": [
      "C:\\Users\\user\\.conda\\envs\\Deep_learning\\lib\\site-packages\\xgboost\\sklearn.py:1224: UserWarning: The use of label encoder in XGBClassifier is deprecated and will be removed in a future release. To remove this warning, do the following: 1) Pass option use_label_encoder=False when constructing XGBClassifier object; and 2) Encode your labels (y) as integers starting with 0, i.e. 0, 1, 2, ..., [num_class - 1].\n",
      "  warnings.warn(label_encoder_deprecation_msg, UserWarning)\n"
     ]
    },
    {
     "name": "stdout",
     "output_type": "stream",
     "text": [
      "[12:06:27] WARNING: C:/Users/Administrator/workspace/xgboost-win64_release_1.5.1/src/learner.cc:576: \n",
      "Parameters: { \"n_neighbors\" } might not be used.\n",
      "\n",
      "  This could be a false alarm, with some parameters getting used by language bindings but\n",
      "  then being mistakenly passed down to XGBoost core, or some parameter actually being used\n",
      "  but getting flagged wrongly here. Please open an issue if you find any such cases.\n",
      "\n",
      "\n",
      "[12:06:27] WARNING: C:/Users/Administrator/workspace/xgboost-win64_release_1.5.1/src/learner.cc:1115: Starting in XGBoost 1.3.0, the default evaluation metric used with the objective 'binary:logistic' was changed from 'error' to 'logloss'. Explicitly set eval_metric if you'd like to restore the old behavior.\n"
     ]
    },
    {
     "name": "stderr",
     "output_type": "stream",
     "text": [
      "C:\\Users\\user\\.conda\\envs\\Deep_learning\\lib\\site-packages\\xgboost\\sklearn.py:1224: UserWarning: The use of label encoder in XGBClassifier is deprecated and will be removed in a future release. To remove this warning, do the following: 1) Pass option use_label_encoder=False when constructing XGBClassifier object; and 2) Encode your labels (y) as integers starting with 0, i.e. 0, 1, 2, ..., [num_class - 1].\n",
      "  warnings.warn(label_encoder_deprecation_msg, UserWarning)\n"
     ]
    },
    {
     "name": "stdout",
     "output_type": "stream",
     "text": [
      "[12:06:28] WARNING: C:/Users/Administrator/workspace/xgboost-win64_release_1.5.1/src/learner.cc:576: \n",
      "Parameters: { \"n_neighbors\" } might not be used.\n",
      "\n",
      "  This could be a false alarm, with some parameters getting used by language bindings but\n",
      "  then being mistakenly passed down to XGBoost core, or some parameter actually being used\n",
      "  but getting flagged wrongly here. Please open an issue if you find any such cases.\n",
      "\n",
      "\n",
      "[12:06:28] WARNING: C:/Users/Administrator/workspace/xgboost-win64_release_1.5.1/src/learner.cc:1115: Starting in XGBoost 1.3.0, the default evaluation metric used with the objective 'binary:logistic' was changed from 'error' to 'logloss'. Explicitly set eval_metric if you'd like to restore the old behavior.\n"
     ]
    },
    {
     "name": "stderr",
     "output_type": "stream",
     "text": [
      "C:\\Users\\user\\.conda\\envs\\Deep_learning\\lib\\site-packages\\xgboost\\sklearn.py:1224: UserWarning: The use of label encoder in XGBClassifier is deprecated and will be removed in a future release. To remove this warning, do the following: 1) Pass option use_label_encoder=False when constructing XGBClassifier object; and 2) Encode your labels (y) as integers starting with 0, i.e. 0, 1, 2, ..., [num_class - 1].\n",
      "  warnings.warn(label_encoder_deprecation_msg, UserWarning)\n"
     ]
    },
    {
     "name": "stdout",
     "output_type": "stream",
     "text": [
      "[12:06:28] WARNING: C:/Users/Administrator/workspace/xgboost-win64_release_1.5.1/src/learner.cc:576: \n",
      "Parameters: { \"n_neighbors\" } might not be used.\n",
      "\n",
      "  This could be a false alarm, with some parameters getting used by language bindings but\n",
      "  then being mistakenly passed down to XGBoost core, or some parameter actually being used\n",
      "  but getting flagged wrongly here. Please open an issue if you find any such cases.\n",
      "\n",
      "\n",
      "[12:06:28] WARNING: C:/Users/Administrator/workspace/xgboost-win64_release_1.5.1/src/learner.cc:1115: Starting in XGBoost 1.3.0, the default evaluation metric used with the objective 'binary:logistic' was changed from 'error' to 'logloss'. Explicitly set eval_metric if you'd like to restore the old behavior.\n"
     ]
    },
    {
     "name": "stderr",
     "output_type": "stream",
     "text": [
      "C:\\Users\\user\\.conda\\envs\\Deep_learning\\lib\\site-packages\\xgboost\\sklearn.py:1224: UserWarning: The use of label encoder in XGBClassifier is deprecated and will be removed in a future release. To remove this warning, do the following: 1) Pass option use_label_encoder=False when constructing XGBClassifier object; and 2) Encode your labels (y) as integers starting with 0, i.e. 0, 1, 2, ..., [num_class - 1].\n",
      "  warnings.warn(label_encoder_deprecation_msg, UserWarning)\n"
     ]
    },
    {
     "name": "stdout",
     "output_type": "stream",
     "text": [
      "[12:06:29] WARNING: C:/Users/Administrator/workspace/xgboost-win64_release_1.5.1/src/learner.cc:576: \n",
      "Parameters: { \"n_neighbors\" } might not be used.\n",
      "\n",
      "  This could be a false alarm, with some parameters getting used by language bindings but\n",
      "  then being mistakenly passed down to XGBoost core, or some parameter actually being used\n",
      "  but getting flagged wrongly here. Please open an issue if you find any such cases.\n",
      "\n",
      "\n",
      "[12:06:29] WARNING: C:/Users/Administrator/workspace/xgboost-win64_release_1.5.1/src/learner.cc:1115: Starting in XGBoost 1.3.0, the default evaluation metric used with the objective 'binary:logistic' was changed from 'error' to 'logloss'. Explicitly set eval_metric if you'd like to restore the old behavior.\n"
     ]
    },
    {
     "name": "stderr",
     "output_type": "stream",
     "text": [
      "C:\\Users\\user\\.conda\\envs\\Deep_learning\\lib\\site-packages\\xgboost\\sklearn.py:1224: UserWarning: The use of label encoder in XGBClassifier is deprecated and will be removed in a future release. To remove this warning, do the following: 1) Pass option use_label_encoder=False when constructing XGBClassifier object; and 2) Encode your labels (y) as integers starting with 0, i.e. 0, 1, 2, ..., [num_class - 1].\n",
      "  warnings.warn(label_encoder_deprecation_msg, UserWarning)\n"
     ]
    },
    {
     "name": "stdout",
     "output_type": "stream",
     "text": [
      "[12:06:30] WARNING: C:/Users/Administrator/workspace/xgboost-win64_release_1.5.1/src/learner.cc:576: \n",
      "Parameters: { \"n_neighbors\" } might not be used.\n",
      "\n",
      "  This could be a false alarm, with some parameters getting used by language bindings but\n",
      "  then being mistakenly passed down to XGBoost core, or some parameter actually being used\n",
      "  but getting flagged wrongly here. Please open an issue if you find any such cases.\n",
      "\n",
      "\n",
      "[12:06:30] WARNING: C:/Users/Administrator/workspace/xgboost-win64_release_1.5.1/src/learner.cc:1115: Starting in XGBoost 1.3.0, the default evaluation metric used with the objective 'binary:logistic' was changed from 'error' to 'logloss'. Explicitly set eval_metric if you'd like to restore the old behavior.\n"
     ]
    },
    {
     "name": "stderr",
     "output_type": "stream",
     "text": [
      "C:\\Users\\user\\.conda\\envs\\Deep_learning\\lib\\site-packages\\xgboost\\sklearn.py:1224: UserWarning: The use of label encoder in XGBClassifier is deprecated and will be removed in a future release. To remove this warning, do the following: 1) Pass option use_label_encoder=False when constructing XGBClassifier object; and 2) Encode your labels (y) as integers starting with 0, i.e. 0, 1, 2, ..., [num_class - 1].\n",
      "  warnings.warn(label_encoder_deprecation_msg, UserWarning)\n"
     ]
    },
    {
     "name": "stdout",
     "output_type": "stream",
     "text": [
      "[12:06:31] WARNING: C:/Users/Administrator/workspace/xgboost-win64_release_1.5.1/src/learner.cc:576: \n",
      "Parameters: { \"n_neighbors\" } might not be used.\n",
      "\n",
      "  This could be a false alarm, with some parameters getting used by language bindings but\n",
      "  then being mistakenly passed down to XGBoost core, or some parameter actually being used\n",
      "  but getting flagged wrongly here. Please open an issue if you find any such cases.\n",
      "\n",
      "\n",
      "[12:06:31] WARNING: C:/Users/Administrator/workspace/xgboost-win64_release_1.5.1/src/learner.cc:1115: Starting in XGBoost 1.3.0, the default evaluation metric used with the objective 'binary:logistic' was changed from 'error' to 'logloss'. Explicitly set eval_metric if you'd like to restore the old behavior.\n"
     ]
    },
    {
     "name": "stderr",
     "output_type": "stream",
     "text": [
      "C:\\Users\\user\\.conda\\envs\\Deep_learning\\lib\\site-packages\\xgboost\\sklearn.py:1224: UserWarning: The use of label encoder in XGBClassifier is deprecated and will be removed in a future release. To remove this warning, do the following: 1) Pass option use_label_encoder=False when constructing XGBClassifier object; and 2) Encode your labels (y) as integers starting with 0, i.e. 0, 1, 2, ..., [num_class - 1].\n",
      "  warnings.warn(label_encoder_deprecation_msg, UserWarning)\n"
     ]
    },
    {
     "name": "stdout",
     "output_type": "stream",
     "text": [
      "[12:06:31] WARNING: C:/Users/Administrator/workspace/xgboost-win64_release_1.5.1/src/learner.cc:576: \n",
      "Parameters: { \"n_neighbors\" } might not be used.\n",
      "\n",
      "  This could be a false alarm, with some parameters getting used by language bindings but\n",
      "  then being mistakenly passed down to XGBoost core, or some parameter actually being used\n",
      "  but getting flagged wrongly here. Please open an issue if you find any such cases.\n",
      "\n",
      "\n",
      "[12:06:31] WARNING: C:/Users/Administrator/workspace/xgboost-win64_release_1.5.1/src/learner.cc:1115: Starting in XGBoost 1.3.0, the default evaluation metric used with the objective 'binary:logistic' was changed from 'error' to 'logloss'. Explicitly set eval_metric if you'd like to restore the old behavior.\n"
     ]
    },
    {
     "name": "stderr",
     "output_type": "stream",
     "text": [
      "C:\\Users\\user\\.conda\\envs\\Deep_learning\\lib\\site-packages\\xgboost\\sklearn.py:1224: UserWarning: The use of label encoder in XGBClassifier is deprecated and will be removed in a future release. To remove this warning, do the following: 1) Pass option use_label_encoder=False when constructing XGBClassifier object; and 2) Encode your labels (y) as integers starting with 0, i.e. 0, 1, 2, ..., [num_class - 1].\n",
      "  warnings.warn(label_encoder_deprecation_msg, UserWarning)\n"
     ]
    },
    {
     "name": "stdout",
     "output_type": "stream",
     "text": [
      "[12:06:32] WARNING: C:/Users/Administrator/workspace/xgboost-win64_release_1.5.1/src/learner.cc:576: \n",
      "Parameters: { \"n_neighbors\" } might not be used.\n",
      "\n",
      "  This could be a false alarm, with some parameters getting used by language bindings but\n",
      "  then being mistakenly passed down to XGBoost core, or some parameter actually being used\n",
      "  but getting flagged wrongly here. Please open an issue if you find any such cases.\n",
      "\n",
      "\n",
      "[12:06:32] WARNING: C:/Users/Administrator/workspace/xgboost-win64_release_1.5.1/src/learner.cc:1115: Starting in XGBoost 1.3.0, the default evaluation metric used with the objective 'binary:logistic' was changed from 'error' to 'logloss'. Explicitly set eval_metric if you'd like to restore the old behavior.\n"
     ]
    },
    {
     "name": "stderr",
     "output_type": "stream",
     "text": [
      "C:\\Users\\user\\.conda\\envs\\Deep_learning\\lib\\site-packages\\xgboost\\sklearn.py:1224: UserWarning: The use of label encoder in XGBClassifier is deprecated and will be removed in a future release. To remove this warning, do the following: 1) Pass option use_label_encoder=False when constructing XGBClassifier object; and 2) Encode your labels (y) as integers starting with 0, i.e. 0, 1, 2, ..., [num_class - 1].\n",
      "  warnings.warn(label_encoder_deprecation_msg, UserWarning)\n"
     ]
    },
    {
     "name": "stdout",
     "output_type": "stream",
     "text": [
      "[12:06:33] WARNING: C:/Users/Administrator/workspace/xgboost-win64_release_1.5.1/src/learner.cc:576: \n",
      "Parameters: { \"n_neighbors\" } might not be used.\n",
      "\n",
      "  This could be a false alarm, with some parameters getting used by language bindings but\n",
      "  then being mistakenly passed down to XGBoost core, or some parameter actually being used\n",
      "  but getting flagged wrongly here. Please open an issue if you find any such cases.\n",
      "\n",
      "\n",
      "[12:06:33] WARNING: C:/Users/Administrator/workspace/xgboost-win64_release_1.5.1/src/learner.cc:1115: Starting in XGBoost 1.3.0, the default evaluation metric used with the objective 'binary:logistic' was changed from 'error' to 'logloss'. Explicitly set eval_metric if you'd like to restore the old behavior.\n"
     ]
    },
    {
     "name": "stderr",
     "output_type": "stream",
     "text": [
      "C:\\Users\\user\\.conda\\envs\\Deep_learning\\lib\\site-packages\\xgboost\\sklearn.py:1224: UserWarning: The use of label encoder in XGBClassifier is deprecated and will be removed in a future release. To remove this warning, do the following: 1) Pass option use_label_encoder=False when constructing XGBClassifier object; and 2) Encode your labels (y) as integers starting with 0, i.e. 0, 1, 2, ..., [num_class - 1].\n",
      "  warnings.warn(label_encoder_deprecation_msg, UserWarning)\n"
     ]
    },
    {
     "name": "stdout",
     "output_type": "stream",
     "text": [
      "[12:06:33] WARNING: C:/Users/Administrator/workspace/xgboost-win64_release_1.5.1/src/learner.cc:576: \n",
      "Parameters: { \"n_neighbors\" } might not be used.\n",
      "\n",
      "  This could be a false alarm, with some parameters getting used by language bindings but\n",
      "  then being mistakenly passed down to XGBoost core, or some parameter actually being used\n",
      "  but getting flagged wrongly here. Please open an issue if you find any such cases.\n",
      "\n",
      "\n",
      "[12:06:33] WARNING: C:/Users/Administrator/workspace/xgboost-win64_release_1.5.1/src/learner.cc:1115: Starting in XGBoost 1.3.0, the default evaluation metric used with the objective 'binary:logistic' was changed from 'error' to 'logloss'. Explicitly set eval_metric if you'd like to restore the old behavior.\n"
     ]
    },
    {
     "name": "stderr",
     "output_type": "stream",
     "text": [
      "C:\\Users\\user\\.conda\\envs\\Deep_learning\\lib\\site-packages\\xgboost\\sklearn.py:1224: UserWarning: The use of label encoder in XGBClassifier is deprecated and will be removed in a future release. To remove this warning, do the following: 1) Pass option use_label_encoder=False when constructing XGBClassifier object; and 2) Encode your labels (y) as integers starting with 0, i.e. 0, 1, 2, ..., [num_class - 1].\n",
      "  warnings.warn(label_encoder_deprecation_msg, UserWarning)\n"
     ]
    },
    {
     "name": "stdout",
     "output_type": "stream",
     "text": [
      "[12:06:34] WARNING: C:/Users/Administrator/workspace/xgboost-win64_release_1.5.1/src/learner.cc:576: \n",
      "Parameters: { \"n_neighbors\" } might not be used.\n",
      "\n",
      "  This could be a false alarm, with some parameters getting used by language bindings but\n",
      "  then being mistakenly passed down to XGBoost core, or some parameter actually being used\n",
      "  but getting flagged wrongly here. Please open an issue if you find any such cases.\n",
      "\n",
      "\n",
      "[12:06:34] WARNING: C:/Users/Administrator/workspace/xgboost-win64_release_1.5.1/src/learner.cc:1115: Starting in XGBoost 1.3.0, the default evaluation metric used with the objective 'binary:logistic' was changed from 'error' to 'logloss'. Explicitly set eval_metric if you'd like to restore the old behavior.\n"
     ]
    },
    {
     "name": "stderr",
     "output_type": "stream",
     "text": [
      "C:\\Users\\user\\.conda\\envs\\Deep_learning\\lib\\site-packages\\xgboost\\sklearn.py:1224: UserWarning: The use of label encoder in XGBClassifier is deprecated and will be removed in a future release. To remove this warning, do the following: 1) Pass option use_label_encoder=False when constructing XGBClassifier object; and 2) Encode your labels (y) as integers starting with 0, i.e. 0, 1, 2, ..., [num_class - 1].\n",
      "  warnings.warn(label_encoder_deprecation_msg, UserWarning)\n"
     ]
    },
    {
     "name": "stdout",
     "output_type": "stream",
     "text": [
      "[12:06:35] WARNING: C:/Users/Administrator/workspace/xgboost-win64_release_1.5.1/src/learner.cc:576: \n",
      "Parameters: { \"n_neighbors\" } might not be used.\n",
      "\n",
      "  This could be a false alarm, with some parameters getting used by language bindings but\n",
      "  then being mistakenly passed down to XGBoost core, or some parameter actually being used\n",
      "  but getting flagged wrongly here. Please open an issue if you find any such cases.\n",
      "\n",
      "\n",
      "[12:06:35] WARNING: C:/Users/Administrator/workspace/xgboost-win64_release_1.5.1/src/learner.cc:1115: Starting in XGBoost 1.3.0, the default evaluation metric used with the objective 'binary:logistic' was changed from 'error' to 'logloss'. Explicitly set eval_metric if you'd like to restore the old behavior.\n"
     ]
    },
    {
     "name": "stderr",
     "output_type": "stream",
     "text": [
      "C:\\Users\\user\\.conda\\envs\\Deep_learning\\lib\\site-packages\\xgboost\\sklearn.py:1224: UserWarning: The use of label encoder in XGBClassifier is deprecated and will be removed in a future release. To remove this warning, do the following: 1) Pass option use_label_encoder=False when constructing XGBClassifier object; and 2) Encode your labels (y) as integers starting with 0, i.e. 0, 1, 2, ..., [num_class - 1].\n",
      "  warnings.warn(label_encoder_deprecation_msg, UserWarning)\n"
     ]
    },
    {
     "name": "stdout",
     "output_type": "stream",
     "text": [
      "[12:06:35] WARNING: C:/Users/Administrator/workspace/xgboost-win64_release_1.5.1/src/learner.cc:576: \n",
      "Parameters: { \"n_neighbors\" } might not be used.\n",
      "\n",
      "  This could be a false alarm, with some parameters getting used by language bindings but\n",
      "  then being mistakenly passed down to XGBoost core, or some parameter actually being used\n",
      "  but getting flagged wrongly here. Please open an issue if you find any such cases.\n",
      "\n",
      "\n",
      "[12:06:35] WARNING: C:/Users/Administrator/workspace/xgboost-win64_release_1.5.1/src/learner.cc:1115: Starting in XGBoost 1.3.0, the default evaluation metric used with the objective 'binary:logistic' was changed from 'error' to 'logloss'. Explicitly set eval_metric if you'd like to restore the old behavior.\n"
     ]
    },
    {
     "name": "stderr",
     "output_type": "stream",
     "text": [
      "C:\\Users\\user\\.conda\\envs\\Deep_learning\\lib\\site-packages\\xgboost\\sklearn.py:1224: UserWarning: The use of label encoder in XGBClassifier is deprecated and will be removed in a future release. To remove this warning, do the following: 1) Pass option use_label_encoder=False when constructing XGBClassifier object; and 2) Encode your labels (y) as integers starting with 0, i.e. 0, 1, 2, ..., [num_class - 1].\n",
      "  warnings.warn(label_encoder_deprecation_msg, UserWarning)\n"
     ]
    },
    {
     "name": "stdout",
     "output_type": "stream",
     "text": [
      "[12:06:36] WARNING: C:/Users/Administrator/workspace/xgboost-win64_release_1.5.1/src/learner.cc:576: \n",
      "Parameters: { \"n_neighbors\" } might not be used.\n",
      "\n",
      "  This could be a false alarm, with some parameters getting used by language bindings but\n",
      "  then being mistakenly passed down to XGBoost core, or some parameter actually being used\n",
      "  but getting flagged wrongly here. Please open an issue if you find any such cases.\n",
      "\n",
      "\n",
      "[12:06:36] WARNING: C:/Users/Administrator/workspace/xgboost-win64_release_1.5.1/src/learner.cc:1115: Starting in XGBoost 1.3.0, the default evaluation metric used with the objective 'binary:logistic' was changed from 'error' to 'logloss'. Explicitly set eval_metric if you'd like to restore the old behavior.\n"
     ]
    },
    {
     "name": "stderr",
     "output_type": "stream",
     "text": [
      "C:\\Users\\user\\.conda\\envs\\Deep_learning\\lib\\site-packages\\xgboost\\sklearn.py:1224: UserWarning: The use of label encoder in XGBClassifier is deprecated and will be removed in a future release. To remove this warning, do the following: 1) Pass option use_label_encoder=False when constructing XGBClassifier object; and 2) Encode your labels (y) as integers starting with 0, i.e. 0, 1, 2, ..., [num_class - 1].\n",
      "  warnings.warn(label_encoder_deprecation_msg, UserWarning)\n"
     ]
    },
    {
     "name": "stdout",
     "output_type": "stream",
     "text": [
      "[12:06:36] WARNING: C:/Users/Administrator/workspace/xgboost-win64_release_1.5.1/src/learner.cc:576: \n",
      "Parameters: { \"n_neighbors\" } might not be used.\n",
      "\n",
      "  This could be a false alarm, with some parameters getting used by language bindings but\n",
      "  then being mistakenly passed down to XGBoost core, or some parameter actually being used\n",
      "  but getting flagged wrongly here. Please open an issue if you find any such cases.\n",
      "\n",
      "\n",
      "[12:06:36] WARNING: C:/Users/Administrator/workspace/xgboost-win64_release_1.5.1/src/learner.cc:1115: Starting in XGBoost 1.3.0, the default evaluation metric used with the objective 'binary:logistic' was changed from 'error' to 'logloss'. Explicitly set eval_metric if you'd like to restore the old behavior.\n"
     ]
    },
    {
     "name": "stderr",
     "output_type": "stream",
     "text": [
      "C:\\Users\\user\\.conda\\envs\\Deep_learning\\lib\\site-packages\\xgboost\\sklearn.py:1224: UserWarning: The use of label encoder in XGBClassifier is deprecated and will be removed in a future release. To remove this warning, do the following: 1) Pass option use_label_encoder=False when constructing XGBClassifier object; and 2) Encode your labels (y) as integers starting with 0, i.e. 0, 1, 2, ..., [num_class - 1].\n",
      "  warnings.warn(label_encoder_deprecation_msg, UserWarning)\n"
     ]
    },
    {
     "name": "stdout",
     "output_type": "stream",
     "text": [
      "[12:06:37] WARNING: C:/Users/Administrator/workspace/xgboost-win64_release_1.5.1/src/learner.cc:576: \n",
      "Parameters: { \"n_neighbors\" } might not be used.\n",
      "\n",
      "  This could be a false alarm, with some parameters getting used by language bindings but\n",
      "  then being mistakenly passed down to XGBoost core, or some parameter actually being used\n",
      "  but getting flagged wrongly here. Please open an issue if you find any such cases.\n",
      "\n",
      "\n",
      "[12:06:37] WARNING: C:/Users/Administrator/workspace/xgboost-win64_release_1.5.1/src/learner.cc:1115: Starting in XGBoost 1.3.0, the default evaluation metric used with the objective 'binary:logistic' was changed from 'error' to 'logloss'. Explicitly set eval_metric if you'd like to restore the old behavior.\n"
     ]
    },
    {
     "data": {
      "text/html": [
       "<div>\n",
       "<style scoped>\n",
       "    .dataframe tbody tr th:only-of-type {\n",
       "        vertical-align: middle;\n",
       "    }\n",
       "\n",
       "    .dataframe tbody tr th {\n",
       "        vertical-align: top;\n",
       "    }\n",
       "\n",
       "    .dataframe thead th {\n",
       "        text-align: right;\n",
       "    }\n",
       "</style>\n",
       "<table border=\"1\" class=\"dataframe\">\n",
       "  <thead>\n",
       "    <tr style=\"text-align: right;\">\n",
       "      <th></th>\n",
       "      <th>model</th>\n",
       "      <th>best_score</th>\n",
       "      <th>best_params</th>\n",
       "    </tr>\n",
       "  </thead>\n",
       "  <tbody>\n",
       "    <tr>\n",
       "      <th>0</th>\n",
       "      <td>svm</td>\n",
       "      <td>0.888767</td>\n",
       "      <td>{'C': 100, 'kernel': 'linear'}</td>\n",
       "    </tr>\n",
       "    <tr>\n",
       "      <th>1</th>\n",
       "      <td>random_forest</td>\n",
       "      <td>0.579726</td>\n",
       "      <td>{'n_estimators': 50}</td>\n",
       "    </tr>\n",
       "    <tr>\n",
       "      <th>2</th>\n",
       "      <td>logistic_regression</td>\n",
       "      <td>0.860822</td>\n",
       "      <td>{'C': 100}</td>\n",
       "    </tr>\n",
       "    <tr>\n",
       "      <th>3</th>\n",
       "      <td>decision_tree</td>\n",
       "      <td>0.584110</td>\n",
       "      <td>{'criterion': 'entropy'}</td>\n",
       "    </tr>\n",
       "    <tr>\n",
       "      <th>4</th>\n",
       "      <td>KNN</td>\n",
       "      <td>0.642740</td>\n",
       "      <td>{'n_neighbors': 100}</td>\n",
       "    </tr>\n",
       "    <tr>\n",
       "      <th>5</th>\n",
       "      <td>XGBoost</td>\n",
       "      <td>0.615342</td>\n",
       "      <td>{'n_neighbors': 10}</td>\n",
       "    </tr>\n",
       "  </tbody>\n",
       "</table>\n",
       "</div>"
      ],
      "text/plain": [
       "                 model  best_score                     best_params\n",
       "0                  svm    0.888767  {'C': 100, 'kernel': 'linear'}\n",
       "1        random_forest    0.579726            {'n_estimators': 50}\n",
       "2  logistic_regression    0.860822                      {'C': 100}\n",
       "3        decision_tree    0.584110        {'criterion': 'entropy'}\n",
       "4                  KNN    0.642740            {'n_neighbors': 100}\n",
       "5              XGBoost    0.615342             {'n_neighbors': 10}"
      ]
     },
     "execution_count": 40,
     "metadata": {},
     "output_type": "execute_result"
    }
   ],
   "source": [
    "scores = []\n",
    "\n",
    "for model_name, mp in model_params.items():\n",
    "    clf =  GridSearchCV(mp['model'], mp['params'], cv=5, return_train_score=False) # need to remove this line, cann do cross validation for time series \n",
    "    clf.fit(X_train,y_train)\n",
    "    scores.append({\n",
    "         'model': model_name,\n",
    "         'best_score': clf.best_score_,\n",
    "         'best_params': clf.best_params_\n",
    "     })\n",
    "    \n",
    "model_score_df = pd.DataFrame(scores,columns=['model','best_score','best_params'])\n",
    "model_score_df"
   ]
  },
  {
   "cell_type": "markdown",
   "id": "aaf4b5df",
   "metadata": {},
   "source": [
    "# Stacking "
   ]
  },
  {
   "cell_type": "code",
   "execution_count": 41,
   "id": "33442768",
   "metadata": {},
   "outputs": [
    {
     "name": "stdout",
     "output_type": "stream",
     "text": [
      "<class 'pandas.core.frame.DataFrame'>\n",
      "RangeIndex: 1884 entries, 0 to 1883\n",
      "Data columns (total 21 columns):\n",
      " #   Column          Non-Null Count  Dtype         \n",
      "---  ------          --------------  -----         \n",
      " 0   Date            1884 non-null   datetime64[ns]\n",
      " 1   Open            1884 non-null   float64       \n",
      " 2   High            1884 non-null   float64       \n",
      " 3   Low             1884 non-null   float64       \n",
      " 4   Close           1884 non-null   float64       \n",
      " 5   Volume          1884 non-null   int64         \n",
      " 6   MA_50           1884 non-null   float64       \n",
      " 7   MA_200          1884 non-null   float64       \n",
      " 8   SMA_50          1884 non-null   float64       \n",
      " 9   SMA_200         1884 non-null   float64       \n",
      " 10  EMA_12          1884 non-null   float64       \n",
      " 11  EMA_26          1884 non-null   float64       \n",
      " 12  macd            1884 non-null   float64       \n",
      " 13  macdsignal      1884 non-null   float64       \n",
      " 14  macdhist        1884 non-null   float64       \n",
      " 15  rsi_5           1884 non-null   float64       \n",
      " 16  rsi_14          1884 non-null   float64       \n",
      " 17  BB_Upper        1884 non-null   float64       \n",
      " 18  BB_middle       1884 non-null   float64       \n",
      " 19  BB_lower        1884 non-null   float64       \n",
      " 20  Profit_or_loss  1884 non-null   int64         \n",
      "dtypes: datetime64[ns](1), float64(18), int64(2)\n",
      "memory usage: 309.2 KB\n"
     ]
    }
   ],
   "source": [
    "BTC_df.info()"
   ]
  },
  {
   "cell_type": "code",
   "execution_count": 42,
   "id": "a1250671",
   "metadata": {},
   "outputs": [],
   "source": [
    "# feat = BTC_df.columns[1:19]\n",
    "# X = BTC_df[feat]\n",
    "# y = BTC_df['Profit_or_loss']\n",
    "# scaler = StandardScaler()\n",
    "# scaled_X = scaler.fit_transform(X)"
   ]
  },
  {
   "cell_type": "code",
   "execution_count": 43,
   "id": "b39a6cea",
   "metadata": {},
   "outputs": [],
   "source": [
    "# X_columns = BTC_df[['Close', 'Volume']]\n",
    "# scaled_X_columns = scaler.fit_transform(X_columns)\n",
    "X_1 = np.array(scaled_X)\n",
    "y_1 = np.array(y)"
   ]
  },
  {
   "cell_type": "code",
   "execution_count": 44,
   "id": "90f0f0d3",
   "metadata": {},
   "outputs": [],
   "source": [
    "model1 = svm.SVC(gamma='auto', C = 100, kernel= 'linear')\n",
    "model2 = KNeighborsClassifier(n_neighbors = 100)\n",
    "model3 = XGBClassifier( n_estimators = 10)\n",
    "lr = LogisticRegression(multi_class = 'auto', solver = 'lbfgs')\n",
    "stackingmodel = StackingClassifier(\n",
    "    classifiers = [model1, model2, model3],\n",
    "    meta_classifier = lr)"
   ]
  },
  {
   "cell_type": "code",
   "execution_count": 45,
   "id": "0fd08b78",
   "metadata": {},
   "outputs": [
    {
     "name": "stdout",
     "output_type": "stream",
     "text": [
      ">lr 0.527 (0.035)\n",
      ">knn 0.484 (0.043)\n",
      ">cart 0.575 (0.065)\n",
      ">svm 0.515 (0.036)\n",
      ">bayes 0.536 (0.033)\n"
     ]
    }
   ],
   "source": [
    "from sklearn.model_selection import RepeatedStratifiedKFold\n",
    "\n",
    "def get_models():\n",
    "\tmodels = dict()\n",
    "\tmodels['lr'] = LogisticRegression()\n",
    "\tmodels['knn'] = KNeighborsClassifier()\n",
    "\tmodels['cart'] = DecisionTreeClassifier()\n",
    "\tmodels['svm'] = svm.SVC()\n",
    "\tmodels['bayes'] = GaussianNB()\n",
    "\treturn models\n",
    " \n",
    "# evaluate a given model using cross-validation\n",
    "def evaluate_model(model, X_1, y_1):\n",
    "# \tcv = RepeatedStratifiedKFold(n_splits=10, n_repeats=3, random_state=1)\n",
    "\tscores = cross_val_score(model, X_1, y_1, scoring='accuracy', cv= 5, n_jobs=-1, error_score='raise')\n",
    "\treturn scores\n",
    " \n",
    "# define dataset\n",
    "\n",
    "# get the models to evaluate\n",
    "models = get_models()\n",
    "# evaluate the models and store results\n",
    "results, names = list(), list()\n",
    "for name, model in models.items():\n",
    "\tscores = evaluate_model(model, X, y)\n",
    "\tresults.append(scores)\n",
    "\tnames.append(name)\n",
    "\tprint('>%s %.3f (%.3f)' % (name, scores.mean(), scores.std()))"
   ]
  },
  {
   "cell_type": "code",
   "execution_count": 46,
   "id": "a1109538",
   "metadata": {},
   "outputs": [
    {
     "name": "stdout",
     "output_type": "stream",
     "text": [
      "Accuracy: 0.89 (+/- 0.03) [SVC]\n",
      "Accuracy: 0.62 (+/- 0.05) [KNN]\n",
      "[12:06:46] WARNING: C:/Users/Administrator/workspace/xgboost-win64_release_1.5.1/src/learner.cc:1115: Starting in XGBoost 1.3.0, the default evaluation metric used with the objective 'binary:logistic' was changed from 'error' to 'logloss'. Explicitly set eval_metric if you'd like to restore the old behavior.\n"
     ]
    },
    {
     "name": "stderr",
     "output_type": "stream",
     "text": [
      "C:\\Users\\user\\.conda\\envs\\Deep_learning\\lib\\site-packages\\xgboost\\sklearn.py:1224: UserWarning: The use of label encoder in XGBClassifier is deprecated and will be removed in a future release. To remove this warning, do the following: 1) Pass option use_label_encoder=False when constructing XGBClassifier object; and 2) Encode your labels (y) as integers starting with 0, i.e. 0, 1, 2, ..., [num_class - 1].\n",
      "  warnings.warn(label_encoder_deprecation_msg, UserWarning)\n",
      "C:\\Users\\user\\.conda\\envs\\Deep_learning\\lib\\site-packages\\xgboost\\sklearn.py:1224: UserWarning: The use of label encoder in XGBClassifier is deprecated and will be removed in a future release. To remove this warning, do the following: 1) Pass option use_label_encoder=False when constructing XGBClassifier object; and 2) Encode your labels (y) as integers starting with 0, i.e. 0, 1, 2, ..., [num_class - 1].\n",
      "  warnings.warn(label_encoder_deprecation_msg, UserWarning)\n"
     ]
    },
    {
     "name": "stdout",
     "output_type": "stream",
     "text": [
      "[12:06:46] WARNING: C:/Users/Administrator/workspace/xgboost-win64_release_1.5.1/src/learner.cc:1115: Starting in XGBoost 1.3.0, the default evaluation metric used with the objective 'binary:logistic' was changed from 'error' to 'logloss'. Explicitly set eval_metric if you'd like to restore the old behavior.\n",
      "[12:06:46] WARNING: C:/Users/Administrator/workspace/xgboost-win64_release_1.5.1/src/learner.cc:1115: Starting in XGBoost 1.3.0, the default evaluation metric used with the objective 'binary:logistic' was changed from 'error' to 'logloss'. Explicitly set eval_metric if you'd like to restore the old behavior.\n"
     ]
    },
    {
     "name": "stderr",
     "output_type": "stream",
     "text": [
      "C:\\Users\\user\\.conda\\envs\\Deep_learning\\lib\\site-packages\\xgboost\\sklearn.py:1224: UserWarning: The use of label encoder in XGBClassifier is deprecated and will be removed in a future release. To remove this warning, do the following: 1) Pass option use_label_encoder=False when constructing XGBClassifier object; and 2) Encode your labels (y) as integers starting with 0, i.e. 0, 1, 2, ..., [num_class - 1].\n",
      "  warnings.warn(label_encoder_deprecation_msg, UserWarning)\n",
      "C:\\Users\\user\\.conda\\envs\\Deep_learning\\lib\\site-packages\\xgboost\\sklearn.py:1224: UserWarning: The use of label encoder in XGBClassifier is deprecated and will be removed in a future release. To remove this warning, do the following: 1) Pass option use_label_encoder=False when constructing XGBClassifier object; and 2) Encode your labels (y) as integers starting with 0, i.e. 0, 1, 2, ..., [num_class - 1].\n",
      "  warnings.warn(label_encoder_deprecation_msg, UserWarning)\n"
     ]
    },
    {
     "name": "stdout",
     "output_type": "stream",
     "text": [
      "[12:06:46] WARNING: C:/Users/Administrator/workspace/xgboost-win64_release_1.5.1/src/learner.cc:1115: Starting in XGBoost 1.3.0, the default evaluation metric used with the objective 'binary:logistic' was changed from 'error' to 'logloss'. Explicitly set eval_metric if you'd like to restore the old behavior.\n",
      "[12:06:46] WARNING: C:/Users/Administrator/workspace/xgboost-win64_release_1.5.1/src/learner.cc:1115: Starting in XGBoost 1.3.0, the default evaluation metric used with the objective 'binary:logistic' was changed from 'error' to 'logloss'. Explicitly set eval_metric if you'd like to restore the old behavior.\n",
      "Accuracy: 0.63 (+/- 0.06) [XGBoost]\n"
     ]
    },
    {
     "name": "stderr",
     "output_type": "stream",
     "text": [
      "C:\\Users\\user\\.conda\\envs\\Deep_learning\\lib\\site-packages\\xgboost\\sklearn.py:1224: UserWarning: The use of label encoder in XGBClassifier is deprecated and will be removed in a future release. To remove this warning, do the following: 1) Pass option use_label_encoder=False when constructing XGBClassifier object; and 2) Encode your labels (y) as integers starting with 0, i.e. 0, 1, 2, ..., [num_class - 1].\n",
      "  warnings.warn(label_encoder_deprecation_msg, UserWarning)\n",
      "C:\\Users\\user\\.conda\\envs\\Deep_learning\\lib\\site-packages\\xgboost\\sklearn.py:1224: UserWarning: The use of label encoder in XGBClassifier is deprecated and will be removed in a future release. To remove this warning, do the following: 1) Pass option use_label_encoder=False when constructing XGBClassifier object; and 2) Encode your labels (y) as integers starting with 0, i.e. 0, 1, 2, ..., [num_class - 1].\n",
      "  warnings.warn(label_encoder_deprecation_msg, UserWarning)\n"
     ]
    },
    {
     "name": "stdout",
     "output_type": "stream",
     "text": [
      "[12:06:47] WARNING: C:/Users/Administrator/workspace/xgboost-win64_release_1.5.1/src/learner.cc:1115: Starting in XGBoost 1.3.0, the default evaluation metric used with the objective 'binary:logistic' was changed from 'error' to 'logloss'. Explicitly set eval_metric if you'd like to restore the old behavior.\n"
     ]
    },
    {
     "name": "stderr",
     "output_type": "stream",
     "text": [
      "C:\\Users\\user\\.conda\\envs\\Deep_learning\\lib\\site-packages\\xgboost\\sklearn.py:1224: UserWarning: The use of label encoder in XGBClassifier is deprecated and will be removed in a future release. To remove this warning, do the following: 1) Pass option use_label_encoder=False when constructing XGBClassifier object; and 2) Encode your labels (y) as integers starting with 0, i.e. 0, 1, 2, ..., [num_class - 1].\n",
      "  warnings.warn(label_encoder_deprecation_msg, UserWarning)\n"
     ]
    },
    {
     "name": "stdout",
     "output_type": "stream",
     "text": [
      "[12:06:48] WARNING: C:/Users/Administrator/workspace/xgboost-win64_release_1.5.1/src/learner.cc:1115: Starting in XGBoost 1.3.0, the default evaluation metric used with the objective 'binary:logistic' was changed from 'error' to 'logloss'. Explicitly set eval_metric if you'd like to restore the old behavior.\n"
     ]
    },
    {
     "name": "stderr",
     "output_type": "stream",
     "text": [
      "C:\\Users\\user\\.conda\\envs\\Deep_learning\\lib\\site-packages\\xgboost\\sklearn.py:1224: UserWarning: The use of label encoder in XGBClassifier is deprecated and will be removed in a future release. To remove this warning, do the following: 1) Pass option use_label_encoder=False when constructing XGBClassifier object; and 2) Encode your labels (y) as integers starting with 0, i.e. 0, 1, 2, ..., [num_class - 1].\n",
      "  warnings.warn(label_encoder_deprecation_msg, UserWarning)\n"
     ]
    },
    {
     "name": "stdout",
     "output_type": "stream",
     "text": [
      "[12:06:50] WARNING: C:/Users/Administrator/workspace/xgboost-win64_release_1.5.1/src/learner.cc:1115: Starting in XGBoost 1.3.0, the default evaluation metric used with the objective 'binary:logistic' was changed from 'error' to 'logloss'. Explicitly set eval_metric if you'd like to restore the old behavior.\n"
     ]
    },
    {
     "name": "stderr",
     "output_type": "stream",
     "text": [
      "C:\\Users\\user\\.conda\\envs\\Deep_learning\\lib\\site-packages\\xgboost\\sklearn.py:1224: UserWarning: The use of label encoder in XGBClassifier is deprecated and will be removed in a future release. To remove this warning, do the following: 1) Pass option use_label_encoder=False when constructing XGBClassifier object; and 2) Encode your labels (y) as integers starting with 0, i.e. 0, 1, 2, ..., [num_class - 1].\n",
      "  warnings.warn(label_encoder_deprecation_msg, UserWarning)\n"
     ]
    },
    {
     "name": "stdout",
     "output_type": "stream",
     "text": [
      "[12:06:51] WARNING: C:/Users/Administrator/workspace/xgboost-win64_release_1.5.1/src/learner.cc:1115: Starting in XGBoost 1.3.0, the default evaluation metric used with the objective 'binary:logistic' was changed from 'error' to 'logloss'. Explicitly set eval_metric if you'd like to restore the old behavior.\n"
     ]
    },
    {
     "name": "stderr",
     "output_type": "stream",
     "text": [
      "C:\\Users\\user\\.conda\\envs\\Deep_learning\\lib\\site-packages\\xgboost\\sklearn.py:1224: UserWarning: The use of label encoder in XGBClassifier is deprecated and will be removed in a future release. To remove this warning, do the following: 1) Pass option use_label_encoder=False when constructing XGBClassifier object; and 2) Encode your labels (y) as integers starting with 0, i.e. 0, 1, 2, ..., [num_class - 1].\n",
      "  warnings.warn(label_encoder_deprecation_msg, UserWarning)\n"
     ]
    },
    {
     "name": "stdout",
     "output_type": "stream",
     "text": [
      "[12:06:52] WARNING: C:/Users/Administrator/workspace/xgboost-win64_release_1.5.1/src/learner.cc:1115: Starting in XGBoost 1.3.0, the default evaluation metric used with the objective 'binary:logistic' was changed from 'error' to 'logloss'. Explicitly set eval_metric if you'd like to restore the old behavior.\n",
      "Accuracy: 0.82 (+/- 0.04) [Stacking Classifier]\n"
     ]
    }
   ],
   "source": [
    "\n",
    "label = ['SVC', 'KNN', 'XGBoost', 'Stacking Classifier']\n",
    "model_list = [model1, model2, model3, stackingmodel]\n",
    "    \n",
    "# fig = plt.figure(figsize = (10, 8))\n",
    "gs = gridspec.GridSpec(2, 2)\n",
    "grid = itertools.product([0, 1], repeat = 2)\n",
    "\n",
    "model_cv_mean = []\n",
    "model_cv_std = []\n",
    "for model, label, grd in zip(model_list, label, grid):\n",
    "        \n",
    "    \n",
    "    scores = cross_val_score(model,X_1, y_1, cv = 5, scoring = 'accuracy') #- time series should not do crossval\n",
    "    print('Accuracy: %.2f (+/- %.2f) [%s]' % (scores.mean(), scores.std(), label))\n",
    "    model_cv_mean.append(scores.mean())\n",
    "    model_cv_std.append(scores.std())\n",
    "        \n",
    "#     model.fit(X_1, y_1)\n",
    "#     ax = plt.subplot(gs[grd[0], grd[1]])\n",
    "#     fig = plot_decision_regions(X = X_1, y = y_1, clf = model)\n",
    "#     plt.title(label)\n",
    "\n",
    "# plt.show()\n",
    "\n",
    "# model_score_df = pd.DataFrame(scores,columns=['model','best_score','best_params'])\n",
    "# model_score_df"
   ]
  },
  {
   "cell_type": "code",
   "execution_count": null,
   "id": "29528cff",
   "metadata": {},
   "outputs": [],
   "source": []
  },
  {
   "cell_type": "code",
   "execution_count": null,
   "id": "4fb8760b",
   "metadata": {},
   "outputs": [],
   "source": []
  },
  {
   "cell_type": "code",
   "execution_count": null,
   "id": "23a29f3e",
   "metadata": {},
   "outputs": [],
   "source": []
  },
  {
   "cell_type": "markdown",
   "id": "4bdad9e3",
   "metadata": {},
   "source": [
    "# Plot prediction graph, Try using closing price as Y and use regression model to train the data \n",
    "# plot the volumn chart out to see whether there is increasing trend of trading bitcoin\n",
    "## Base on the volumn check out the news in the market to see what is pushing the price up. \n",
    "\n"
   ]
  }
 ],
 "metadata": {
  "kernelspec": {
   "display_name": "Python 3 (ipykernel)",
   "language": "python",
   "name": "python3"
  },
  "language_info": {
   "codemirror_mode": {
    "name": "ipython",
    "version": 3
   },
   "file_extension": ".py",
   "mimetype": "text/x-python",
   "name": "python",
   "nbconvert_exporter": "python",
   "pygments_lexer": "ipython3",
   "version": "3.8.12"
  }
 },
 "nbformat": 4,
 "nbformat_minor": 5
}

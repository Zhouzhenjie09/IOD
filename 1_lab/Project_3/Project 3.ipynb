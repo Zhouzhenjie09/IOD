{
 "cells": [
  {
   "cell_type": "code",
   "execution_count": 4,
   "id": "8155c80f",
   "metadata": {},
   "outputs": [],
   "source": [
    "# pip install yfinance --user\n"
   ]
  },
  {
   "cell_type": "code",
   "execution_count": 5,
   "id": "2d0add6a",
   "metadata": {},
   "outputs": [],
   "source": [
    "# !pip install yahoofinancials"
   ]
  },
  {
   "cell_type": "code",
   "execution_count": 6,
   "id": "7e4a8454",
   "metadata": {},
   "outputs": [],
   "source": [
    "# pip3 install yfinance"
   ]
  },
  {
   "cell_type": "code",
   "execution_count": 7,
   "id": "29fb4478",
   "metadata": {},
   "outputs": [],
   "source": [
    "import numpy as np\n",
    "import pandas as pd\n",
    "import datetime as dt\n",
    "\n",
    "%matplotlib inline\n",
    "import matplotlib.pyplot as plt\n",
    "import matplotlib.gridspec as gridspec\n",
    "import seaborn as sns\n",
    "import itertools"
   ]
  },
  {
   "cell_type": "code",
   "execution_count": 8,
   "id": "dcdab3db",
   "metadata": {},
   "outputs": [],
   "source": [
    "from sklearn import linear_model\n",
    "from sklearn.ensemble import RandomForestClassifier\n",
    "from sklearn.linear_model import LogisticRegression\n",
    "from sklearn.model_selection import cross_val_score, train_test_split\n",
    "from sklearn.naive_bayes import GaussianNB \n",
    "from sklearn.neighbors import KNeighborsClassifier\n",
    "from sklearn.decomposition import PCA\n",
    "from sklearn.preprocessing import StandardScaler\n",
    "from sklearn.preprocessing import MinMaxScaler\n",
    "from sklearn.tree import DecisionTreeClassifier\n",
    "from numpy.linalg import eig\n",
    "from sklearn.pipeline import Pipeline\n",
    "from sklearn import svm\n",
    "from sklearn.model_selection import GridSearchCV\n",
    "from sklearn.metrics import plot_confusion_matrix\n",
    "from xgboost import XGBClassifier\n",
    "\n",
    "from mlxtend.classifier import StackingClassifier\n",
    "from mlxtend.plotting import plot_learning_curves\n",
    "from mlxtend.plotting import plot_decision_regions"
   ]
  },
  {
   "cell_type": "code",
   "execution_count": 9,
   "id": "5ce5fd81",
   "metadata": {},
   "outputs": [],
   "source": [
    "import yfinance as yf"
   ]
  },
  {
   "cell_type": "code",
   "execution_count": 10,
   "id": "643068b5",
   "metadata": {},
   "outputs": [],
   "source": [
    "ticker = yf.Ticker('BTC-USD')\n",
    "BTC_df = ticker.history(period=\"max\")\n"
   ]
  },
  {
   "cell_type": "markdown",
   "id": "e84a09f3",
   "metadata": {},
   "source": [
    "# EDA on the data\n",
    "We should drop Dividends and stock splits "
   ]
  },
  {
   "cell_type": "code",
   "execution_count": 11,
   "id": "aa94a4ea",
   "metadata": {},
   "outputs": [
    {
     "data": {
      "text/html": [
       "<div>\n",
       "<style scoped>\n",
       "    .dataframe tbody tr th:only-of-type {\n",
       "        vertical-align: middle;\n",
       "    }\n",
       "\n",
       "    .dataframe tbody tr th {\n",
       "        vertical-align: top;\n",
       "    }\n",
       "\n",
       "    .dataframe thead th {\n",
       "        text-align: right;\n",
       "    }\n",
       "</style>\n",
       "<table border=\"1\" class=\"dataframe\">\n",
       "  <thead>\n",
       "    <tr style=\"text-align: right;\">\n",
       "      <th></th>\n",
       "      <th>Open</th>\n",
       "      <th>High</th>\n",
       "      <th>Low</th>\n",
       "      <th>Close</th>\n",
       "      <th>Volume</th>\n",
       "      <th>Dividends</th>\n",
       "      <th>Stock Splits</th>\n",
       "    </tr>\n",
       "    <tr>\n",
       "      <th>Date</th>\n",
       "      <th></th>\n",
       "      <th></th>\n",
       "      <th></th>\n",
       "      <th></th>\n",
       "      <th></th>\n",
       "      <th></th>\n",
       "      <th></th>\n",
       "    </tr>\n",
       "  </thead>\n",
       "  <tbody>\n",
       "    <tr>\n",
       "      <th>2014-09-17</th>\n",
       "      <td>465.864014</td>\n",
       "      <td>468.174011</td>\n",
       "      <td>452.421997</td>\n",
       "      <td>457.334015</td>\n",
       "      <td>21056800</td>\n",
       "      <td>0</td>\n",
       "      <td>0</td>\n",
       "    </tr>\n",
       "    <tr>\n",
       "      <th>2014-09-18</th>\n",
       "      <td>456.859985</td>\n",
       "      <td>456.859985</td>\n",
       "      <td>413.104004</td>\n",
       "      <td>424.440002</td>\n",
       "      <td>34483200</td>\n",
       "      <td>0</td>\n",
       "      <td>0</td>\n",
       "    </tr>\n",
       "    <tr>\n",
       "      <th>2014-09-19</th>\n",
       "      <td>424.102997</td>\n",
       "      <td>427.834991</td>\n",
       "      <td>384.532013</td>\n",
       "      <td>394.795990</td>\n",
       "      <td>37919700</td>\n",
       "      <td>0</td>\n",
       "      <td>0</td>\n",
       "    </tr>\n",
       "    <tr>\n",
       "      <th>2014-09-20</th>\n",
       "      <td>394.673004</td>\n",
       "      <td>423.295990</td>\n",
       "      <td>389.882996</td>\n",
       "      <td>408.903992</td>\n",
       "      <td>36863600</td>\n",
       "      <td>0</td>\n",
       "      <td>0</td>\n",
       "    </tr>\n",
       "    <tr>\n",
       "      <th>2014-09-21</th>\n",
       "      <td>408.084991</td>\n",
       "      <td>412.425995</td>\n",
       "      <td>393.181000</td>\n",
       "      <td>398.821014</td>\n",
       "      <td>26580100</td>\n",
       "      <td>0</td>\n",
       "      <td>0</td>\n",
       "    </tr>\n",
       "    <tr>\n",
       "      <th>...</th>\n",
       "      <td>...</td>\n",
       "      <td>...</td>\n",
       "      <td>...</td>\n",
       "      <td>...</td>\n",
       "      <td>...</td>\n",
       "      <td>...</td>\n",
       "      <td>...</td>\n",
       "    </tr>\n",
       "    <tr>\n",
       "      <th>2022-02-14</th>\n",
       "      <td>42157.398438</td>\n",
       "      <td>42775.777344</td>\n",
       "      <td>41681.957031</td>\n",
       "      <td>42586.917969</td>\n",
       "      <td>20827783012</td>\n",
       "      <td>0</td>\n",
       "      <td>0</td>\n",
       "    </tr>\n",
       "    <tr>\n",
       "      <th>2022-02-15</th>\n",
       "      <td>42586.464844</td>\n",
       "      <td>44667.218750</td>\n",
       "      <td>42491.035156</td>\n",
       "      <td>44575.203125</td>\n",
       "      <td>22721659051</td>\n",
       "      <td>0</td>\n",
       "      <td>0</td>\n",
       "    </tr>\n",
       "    <tr>\n",
       "      <th>2022-02-16</th>\n",
       "      <td>44578.277344</td>\n",
       "      <td>44578.277344</td>\n",
       "      <td>43456.691406</td>\n",
       "      <td>43961.859375</td>\n",
       "      <td>19792547657</td>\n",
       "      <td>0</td>\n",
       "      <td>0</td>\n",
       "    </tr>\n",
       "    <tr>\n",
       "      <th>2022-02-17</th>\n",
       "      <td>43937.070312</td>\n",
       "      <td>44132.972656</td>\n",
       "      <td>40249.371094</td>\n",
       "      <td>40538.011719</td>\n",
       "      <td>26246662813</td>\n",
       "      <td>0</td>\n",
       "      <td>0</td>\n",
       "    </tr>\n",
       "    <tr>\n",
       "      <th>2022-02-18</th>\n",
       "      <td>40475.714844</td>\n",
       "      <td>40922.371094</td>\n",
       "      <td>39696.546875</td>\n",
       "      <td>40038.492188</td>\n",
       "      <td>23452907520</td>\n",
       "      <td>0</td>\n",
       "      <td>0</td>\n",
       "    </tr>\n",
       "  </tbody>\n",
       "</table>\n",
       "<p>2712 rows × 7 columns</p>\n",
       "</div>"
      ],
      "text/plain": [
       "                    Open          High           Low         Close  \\\n",
       "Date                                                                 \n",
       "2014-09-17    465.864014    468.174011    452.421997    457.334015   \n",
       "2014-09-18    456.859985    456.859985    413.104004    424.440002   \n",
       "2014-09-19    424.102997    427.834991    384.532013    394.795990   \n",
       "2014-09-20    394.673004    423.295990    389.882996    408.903992   \n",
       "2014-09-21    408.084991    412.425995    393.181000    398.821014   \n",
       "...                  ...           ...           ...           ...   \n",
       "2022-02-14  42157.398438  42775.777344  41681.957031  42586.917969   \n",
       "2022-02-15  42586.464844  44667.218750  42491.035156  44575.203125   \n",
       "2022-02-16  44578.277344  44578.277344  43456.691406  43961.859375   \n",
       "2022-02-17  43937.070312  44132.972656  40249.371094  40538.011719   \n",
       "2022-02-18  40475.714844  40922.371094  39696.546875  40038.492188   \n",
       "\n",
       "                 Volume  Dividends  Stock Splits  \n",
       "Date                                              \n",
       "2014-09-17     21056800          0             0  \n",
       "2014-09-18     34483200          0             0  \n",
       "2014-09-19     37919700          0             0  \n",
       "2014-09-20     36863600          0             0  \n",
       "2014-09-21     26580100          0             0  \n",
       "...                 ...        ...           ...  \n",
       "2022-02-14  20827783012          0             0  \n",
       "2022-02-15  22721659051          0             0  \n",
       "2022-02-16  19792547657          0             0  \n",
       "2022-02-17  26246662813          0             0  \n",
       "2022-02-18  23452907520          0             0  \n",
       "\n",
       "[2712 rows x 7 columns]"
      ]
     },
     "execution_count": 11,
     "metadata": {},
     "output_type": "execute_result"
    }
   ],
   "source": [
    "BTC_df"
   ]
  },
  {
   "cell_type": "markdown",
   "id": "44b02e93",
   "metadata": {},
   "source": [
    "The data is an index, i need to reset it and make it as a column"
   ]
  },
  {
   "cell_type": "code",
   "execution_count": 12,
   "id": "f1ec7c56",
   "metadata": {},
   "outputs": [],
   "source": [
    "BTC_df.reset_index(inplace=True)"
   ]
  },
  {
   "cell_type": "code",
   "execution_count": 13,
   "id": "99c5586e",
   "metadata": {},
   "outputs": [
    {
     "data": {
      "text/plain": [
       "Text(0.5, 1.0, 'Bitcoin Price')"
      ]
     },
     "execution_count": 13,
     "metadata": {},
     "output_type": "execute_result"
    },
    {
     "data": {
      "image/png": "[encoded data removed]",
      "text/plain": [
       "<Figure size 1440x720 with 1 Axes>"
      ]
     },
     "metadata": {
      "needs_background": "light"
     },
     "output_type": "display_data"
    }
   ],
   "source": [
    "fig, ax = plt.subplots(figsize=(20, 10))\n",
    "ax.plot(BTC_df['Date'],BTC_df['Close'], color='steelblue')\n",
    "ax.set_xlabel('Date', fontsize = 16)\n",
    "ax.set_ylabel('Price', fontsize = 16)\n",
    "ax.set_title('Bitcoin Price', fontsize = 20)"
   ]
  },
  {
   "cell_type": "markdown",
   "id": "92377a38",
   "metadata": {},
   "source": [
    "# Volumn chart "
   ]
  },
  {
   "cell_type": "code",
   "execution_count": 14,
   "id": "06d05809",
   "metadata": {},
   "outputs": [
    {
     "data": {
      "text/plain": [
       "Text(0.5, 1.0, 'Bitcoin Volume')"
      ]
     },
     "execution_count": 14,
     "metadata": {},
     "output_type": "execute_result"
    },
    {
     "data": {
      "image/png": "[encoded data removed]",
      "text/plain": [
       "<Figure size 1440x720 with 1 Axes>"
      ]
     },
     "metadata": {
      "needs_background": "light"
     },
     "output_type": "display_data"
    }
   ],
   "source": [
    "fig, ax = plt.subplots(figsize=(20, 10))\n",
    "ax.plot(BTC_df['Date'],BTC_df['Volume'], color='steelblue')\n",
    "ax.set_xlabel('Date', fontsize = 16)\n",
    "ax.set_ylabel('Volumn', fontsize = 16)\n",
    "ax.set_title('Bitcoin Volume', fontsize = 20)\n"
   ]
  },
  {
   "cell_type": "code",
   "execution_count": 15,
   "id": "410cc096",
   "metadata": {},
   "outputs": [
    {
     "name": "stdout",
     "output_type": "stream",
     "text": [
      "<class 'pandas.core.frame.DataFrame'>\n",
      "RangeIndex: 2712 entries, 0 to 2711\n",
      "Data columns (total 8 columns):\n",
      " #   Column        Non-Null Count  Dtype         \n",
      "---  ------        --------------  -----         \n",
      " 0   Date          2712 non-null   datetime64[ns]\n",
      " 1   Open          2712 non-null   float64       \n",
      " 2   High          2712 non-null   float64       \n",
      " 3   Low           2712 non-null   float64       \n",
      " 4   Close         2712 non-null   float64       \n",
      " 5   Volume        2712 non-null   int64         \n",
      " 6   Dividends     2712 non-null   int64         \n",
      " 7   Stock Splits  2712 non-null   int64         \n",
      "dtypes: datetime64[ns](1), float64(4), int64(3)\n",
      "memory usage: 169.6 KB\n"
     ]
    }
   ],
   "source": [
    "BTC_df.info()"
   ]
  },
  {
   "cell_type": "code",
   "execution_count": 16,
   "id": "666b4b47",
   "metadata": {},
   "outputs": [],
   "source": [
    "BTC_df.drop(['Dividends', 'Stock Splits'], axis = 1, inplace= True)"
   ]
  },
  {
   "cell_type": "code",
   "execution_count": 17,
   "id": "61ccbf94",
   "metadata": {},
   "outputs": [
    {
     "data": {
      "text/html": [
       "<div>\n",
       "<style scoped>\n",
       "    .dataframe tbody tr th:only-of-type {\n",
       "        vertical-align: middle;\n",
       "    }\n",
       "\n",
       "    .dataframe tbody tr th {\n",
       "        vertical-align: top;\n",
       "    }\n",
       "\n",
       "    .dataframe thead th {\n",
       "        text-align: right;\n",
       "    }\n",
       "</style>\n",
       "<table border=\"1\" class=\"dataframe\">\n",
       "  <thead>\n",
       "    <tr style=\"text-align: right;\">\n",
       "      <th></th>\n",
       "      <th>Date</th>\n",
       "      <th>Open</th>\n",
       "      <th>High</th>\n",
       "      <th>Low</th>\n",
       "      <th>Close</th>\n",
       "      <th>Volume</th>\n",
       "    </tr>\n",
       "  </thead>\n",
       "  <tbody>\n",
       "    <tr>\n",
       "      <th>0</th>\n",
       "      <td>2014-09-17</td>\n",
       "      <td>465.864014</td>\n",
       "      <td>468.174011</td>\n",
       "      <td>452.421997</td>\n",
       "      <td>457.334015</td>\n",
       "      <td>21056800</td>\n",
       "    </tr>\n",
       "    <tr>\n",
       "      <th>1</th>\n",
       "      <td>2014-09-18</td>\n",
       "      <td>456.859985</td>\n",
       "      <td>456.859985</td>\n",
       "      <td>413.104004</td>\n",
       "      <td>424.440002</td>\n",
       "      <td>34483200</td>\n",
       "    </tr>\n",
       "    <tr>\n",
       "      <th>2</th>\n",
       "      <td>2014-09-19</td>\n",
       "      <td>424.102997</td>\n",
       "      <td>427.834991</td>\n",
       "      <td>384.532013</td>\n",
       "      <td>394.795990</td>\n",
       "      <td>37919700</td>\n",
       "    </tr>\n",
       "    <tr>\n",
       "      <th>3</th>\n",
       "      <td>2014-09-20</td>\n",
       "      <td>394.673004</td>\n",
       "      <td>423.295990</td>\n",
       "      <td>389.882996</td>\n",
       "      <td>408.903992</td>\n",
       "      <td>36863600</td>\n",
       "    </tr>\n",
       "    <tr>\n",
       "      <th>4</th>\n",
       "      <td>2014-09-21</td>\n",
       "      <td>408.084991</td>\n",
       "      <td>412.425995</td>\n",
       "      <td>393.181000</td>\n",
       "      <td>398.821014</td>\n",
       "      <td>26580100</td>\n",
       "    </tr>\n",
       "    <tr>\n",
       "      <th>...</th>\n",
       "      <td>...</td>\n",
       "      <td>...</td>\n",
       "      <td>...</td>\n",
       "      <td>...</td>\n",
       "      <td>...</td>\n",
       "      <td>...</td>\n",
       "    </tr>\n",
       "    <tr>\n",
       "      <th>2707</th>\n",
       "      <td>2022-02-14</td>\n",
       "      <td>42157.398438</td>\n",
       "      <td>42775.777344</td>\n",
       "      <td>41681.957031</td>\n",
       "      <td>42586.917969</td>\n",
       "      <td>20827783012</td>\n",
       "    </tr>\n",
       "    <tr>\n",
       "      <th>2708</th>\n",
       "      <td>2022-02-15</td>\n",
       "      <td>42586.464844</td>\n",
       "      <td>44667.218750</td>\n",
       "      <td>42491.035156</td>\n",
       "      <td>44575.203125</td>\n",
       "      <td>22721659051</td>\n",
       "    </tr>\n",
       "    <tr>\n",
       "      <th>2709</th>\n",
       "      <td>2022-02-16</td>\n",
       "      <td>44578.277344</td>\n",
       "      <td>44578.277344</td>\n",
       "      <td>43456.691406</td>\n",
       "      <td>43961.859375</td>\n",
       "      <td>19792547657</td>\n",
       "    </tr>\n",
       "    <tr>\n",
       "      <th>2710</th>\n",
       "      <td>2022-02-17</td>\n",
       "      <td>43937.070312</td>\n",
       "      <td>44132.972656</td>\n",
       "      <td>40249.371094</td>\n",
       "      <td>40538.011719</td>\n",
       "      <td>26246662813</td>\n",
       "    </tr>\n",
       "    <tr>\n",
       "      <th>2711</th>\n",
       "      <td>2022-02-18</td>\n",
       "      <td>40475.714844</td>\n",
       "      <td>40922.371094</td>\n",
       "      <td>39696.546875</td>\n",
       "      <td>40038.492188</td>\n",
       "      <td>23452907520</td>\n",
       "    </tr>\n",
       "  </tbody>\n",
       "</table>\n",
       "<p>2712 rows × 6 columns</p>\n",
       "</div>"
      ],
      "text/plain": [
       "           Date          Open          High           Low         Close  \\\n",
       "0    2014-09-17    465.864014    468.174011    452.421997    457.334015   \n",
       "1    2014-09-18    456.859985    456.859985    413.104004    424.440002   \n",
       "2    2014-09-19    424.102997    427.834991    384.532013    394.795990   \n",
       "3    2014-09-20    394.673004    423.295990    389.882996    408.903992   \n",
       "4    2014-09-21    408.084991    412.425995    393.181000    398.821014   \n",
       "...         ...           ...           ...           ...           ...   \n",
       "2707 2022-02-14  42157.398438  42775.777344  41681.957031  42586.917969   \n",
       "2708 2022-02-15  42586.464844  44667.218750  42491.035156  44575.203125   \n",
       "2709 2022-02-16  44578.277344  44578.277344  43456.691406  43961.859375   \n",
       "2710 2022-02-17  43937.070312  44132.972656  40249.371094  40538.011719   \n",
       "2711 2022-02-18  40475.714844  40922.371094  39696.546875  40038.492188   \n",
       "\n",
       "           Volume  \n",
       "0        21056800  \n",
       "1        34483200  \n",
       "2        37919700  \n",
       "3        36863600  \n",
       "4        26580100  \n",
       "...           ...  \n",
       "2707  20827783012  \n",
       "2708  22721659051  \n",
       "2709  19792547657  \n",
       "2710  26246662813  \n",
       "2711  23452907520  \n",
       "\n",
       "[2712 rows x 6 columns]"
      ]
     },
     "execution_count": 17,
     "metadata": {},
     "output_type": "execute_result"
    }
   ],
   "source": [
    "BTC_df"
   ]
  },
  {
   "cell_type": "markdown",
   "id": "b6895ad7",
   "metadata": {},
   "source": [
    "In order to know whether the day have gains/losses, i will check whether the close price is higher or lower than the open prices. \n",
    "Higher than closing price is 1\n",
    "Lower than closing price is 0 "
   ]
  },
  {
   "cell_type": "code",
   "execution_count": 18,
   "id": "fef9209f",
   "metadata": {},
   "outputs": [
    {
     "data": {
      "text/html": [
       "<div>\n",
       "<style scoped>\n",
       "    .dataframe tbody tr th:only-of-type {\n",
       "        vertical-align: middle;\n",
       "    }\n",
       "\n",
       "    .dataframe tbody tr th {\n",
       "        vertical-align: top;\n",
       "    }\n",
       "\n",
       "    .dataframe thead th {\n",
       "        text-align: right;\n",
       "    }\n",
       "</style>\n",
       "<table border=\"1\" class=\"dataframe\">\n",
       "  <thead>\n",
       "    <tr style=\"text-align: right;\">\n",
       "      <th></th>\n",
       "      <th>Date</th>\n",
       "      <th>Open</th>\n",
       "      <th>High</th>\n",
       "      <th>Low</th>\n",
       "      <th>Close</th>\n",
       "      <th>Volume</th>\n",
       "      <th>Profit_or_loss</th>\n",
       "    </tr>\n",
       "  </thead>\n",
       "  <tbody>\n",
       "    <tr>\n",
       "      <th>0</th>\n",
       "      <td>2014-09-17</td>\n",
       "      <td>465.864014</td>\n",
       "      <td>468.174011</td>\n",
       "      <td>452.421997</td>\n",
       "      <td>457.334015</td>\n",
       "      <td>21056800</td>\n",
       "      <td>0</td>\n",
       "    </tr>\n",
       "    <tr>\n",
       "      <th>1</th>\n",
       "      <td>2014-09-18</td>\n",
       "      <td>456.859985</td>\n",
       "      <td>456.859985</td>\n",
       "      <td>413.104004</td>\n",
       "      <td>424.440002</td>\n",
       "      <td>34483200</td>\n",
       "      <td>0</td>\n",
       "    </tr>\n",
       "    <tr>\n",
       "      <th>2</th>\n",
       "      <td>2014-09-19</td>\n",
       "      <td>424.102997</td>\n",
       "      <td>427.834991</td>\n",
       "      <td>384.532013</td>\n",
       "      <td>394.795990</td>\n",
       "      <td>37919700</td>\n",
       "      <td>0</td>\n",
       "    </tr>\n",
       "    <tr>\n",
       "      <th>3</th>\n",
       "      <td>2014-09-20</td>\n",
       "      <td>394.673004</td>\n",
       "      <td>423.295990</td>\n",
       "      <td>389.882996</td>\n",
       "      <td>408.903992</td>\n",
       "      <td>36863600</td>\n",
       "      <td>1</td>\n",
       "    </tr>\n",
       "    <tr>\n",
       "      <th>4</th>\n",
       "      <td>2014-09-21</td>\n",
       "      <td>408.084991</td>\n",
       "      <td>412.425995</td>\n",
       "      <td>393.181000</td>\n",
       "      <td>398.821014</td>\n",
       "      <td>26580100</td>\n",
       "      <td>0</td>\n",
       "    </tr>\n",
       "    <tr>\n",
       "      <th>...</th>\n",
       "      <td>...</td>\n",
       "      <td>...</td>\n",
       "      <td>...</td>\n",
       "      <td>...</td>\n",
       "      <td>...</td>\n",
       "      <td>...</td>\n",
       "      <td>...</td>\n",
       "    </tr>\n",
       "    <tr>\n",
       "      <th>2707</th>\n",
       "      <td>2022-02-14</td>\n",
       "      <td>42157.398438</td>\n",
       "      <td>42775.777344</td>\n",
       "      <td>41681.957031</td>\n",
       "      <td>42586.917969</td>\n",
       "      <td>20827783012</td>\n",
       "      <td>1</td>\n",
       "    </tr>\n",
       "    <tr>\n",
       "      <th>2708</th>\n",
       "      <td>2022-02-15</td>\n",
       "      <td>42586.464844</td>\n",
       "      <td>44667.218750</td>\n",
       "      <td>42491.035156</td>\n",
       "      <td>44575.203125</td>\n",
       "      <td>22721659051</td>\n",
       "      <td>1</td>\n",
       "    </tr>\n",
       "    <tr>\n",
       "      <th>2709</th>\n",
       "      <td>2022-02-16</td>\n",
       "      <td>44578.277344</td>\n",
       "      <td>44578.277344</td>\n",
       "      <td>43456.691406</td>\n",
       "      <td>43961.859375</td>\n",
       "      <td>19792547657</td>\n",
       "      <td>0</td>\n",
       "    </tr>\n",
       "    <tr>\n",
       "      <th>2710</th>\n",
       "      <td>2022-02-17</td>\n",
       "      <td>43937.070312</td>\n",
       "      <td>44132.972656</td>\n",
       "      <td>40249.371094</td>\n",
       "      <td>40538.011719</td>\n",
       "      <td>26246662813</td>\n",
       "      <td>0</td>\n",
       "    </tr>\n",
       "    <tr>\n",
       "      <th>2711</th>\n",
       "      <td>2022-02-18</td>\n",
       "      <td>40475.714844</td>\n",
       "      <td>40922.371094</td>\n",
       "      <td>39696.546875</td>\n",
       "      <td>40038.492188</td>\n",
       "      <td>23452907520</td>\n",
       "      <td>0</td>\n",
       "    </tr>\n",
       "  </tbody>\n",
       "</table>\n",
       "<p>2712 rows × 7 columns</p>\n",
       "</div>"
      ],
      "text/plain": [
       "           Date          Open          High           Low         Close  \\\n",
       "0    2014-09-17    465.864014    468.174011    452.421997    457.334015   \n",
       "1    2014-09-18    456.859985    456.859985    413.104004    424.440002   \n",
       "2    2014-09-19    424.102997    427.834991    384.532013    394.795990   \n",
       "3    2014-09-20    394.673004    423.295990    389.882996    408.903992   \n",
       "4    2014-09-21    408.084991    412.425995    393.181000    398.821014   \n",
       "...         ...           ...           ...           ...           ...   \n",
       "2707 2022-02-14  42157.398438  42775.777344  41681.957031  42586.917969   \n",
       "2708 2022-02-15  42586.464844  44667.218750  42491.035156  44575.203125   \n",
       "2709 2022-02-16  44578.277344  44578.277344  43456.691406  43961.859375   \n",
       "2710 2022-02-17  43937.070312  44132.972656  40249.371094  40538.011719   \n",
       "2711 2022-02-18  40475.714844  40922.371094  39696.546875  40038.492188   \n",
       "\n",
       "           Volume  Profit_or_loss  \n",
       "0        21056800               0  \n",
       "1        34483200               0  \n",
       "2        37919700               0  \n",
       "3        36863600               1  \n",
       "4        26580100               0  \n",
       "...           ...             ...  \n",
       "2707  20827783012               1  \n",
       "2708  22721659051               1  \n",
       "2709  19792547657               0  \n",
       "2710  26246662813               0  \n",
       "2711  23452907520               0  \n",
       "\n",
       "[2712 rows x 7 columns]"
      ]
     },
     "execution_count": 18,
     "metadata": {},
     "output_type": "execute_result"
    }
   ],
   "source": [
    "outcome = BTC_df['Close'] > BTC_df['Open']\n",
    "BTC_df['Profit_or_loss'] = outcome\n",
    "BTC_df['Profit_or_loss'] = BTC_df['Profit_or_loss'].replace(True, 1)\n",
    "BTC_df['Profit_or_loss'] = BTC_df['Profit_or_loss'].replace(False, 0)\n",
    "BTC_df"
   ]
  },
  {
   "cell_type": "code",
   "execution_count": 19,
   "id": "9eb38b47",
   "metadata": {},
   "outputs": [
    {
     "data": {
      "text/plain": [
       "Date              0\n",
       "Open              0\n",
       "High              0\n",
       "Low               0\n",
       "Close             0\n",
       "Volume            0\n",
       "Profit_or_loss    0\n",
       "dtype: int64"
      ]
     },
     "execution_count": 19,
     "metadata": {},
     "output_type": "execute_result"
    }
   ],
   "source": [
    "BTC_df.isnull().sum()"
   ]
  },
  {
   "cell_type": "code",
   "execution_count": 20,
   "id": "594857bf",
   "metadata": {},
   "outputs": [
    {
     "data": {
      "text/plain": [
       "0"
      ]
     },
     "execution_count": 20,
     "metadata": {},
     "output_type": "execute_result"
    }
   ],
   "source": [
    "BTC_df.duplicated().sum()"
   ]
  },
  {
   "cell_type": "code",
   "execution_count": 21,
   "id": "5b0a8913",
   "metadata": {},
   "outputs": [],
   "source": [
    "# BTC_df['previous_day_closing_price'] = BTC_df['Close'].shift(1)"
   ]
  },
  {
   "cell_type": "code",
   "execution_count": 22,
   "id": "af252c93",
   "metadata": {},
   "outputs": [],
   "source": [
    "# BTC_df"
   ]
  },
  {
   "cell_type": "markdown",
   "id": "72919d92",
   "metadata": {},
   "source": [
    "# Feature selection on the following column, This is an example for me to try out using prediction for 1 day\n",
    "\n",
    "# I need to split my training data and testing data so they don't overlap. when i do my prediction against the test data. we lets check whether it matches with the actual data "
   ]
  },
  {
   "cell_type": "code",
   "execution_count": 23,
   "id": "9d875897",
   "metadata": {},
   "outputs": [
    {
     "data": {
      "text/html": [
       "<div>\n",
       "<style scoped>\n",
       "    .dataframe tbody tr th:only-of-type {\n",
       "        vertical-align: middle;\n",
       "    }\n",
       "\n",
       "    .dataframe tbody tr th {\n",
       "        vertical-align: top;\n",
       "    }\n",
       "\n",
       "    .dataframe thead th {\n",
       "        text-align: right;\n",
       "    }\n",
       "</style>\n",
       "<table border=\"1\" class=\"dataframe\">\n",
       "  <thead>\n",
       "    <tr style=\"text-align: right;\">\n",
       "      <th></th>\n",
       "      <th>Date</th>\n",
       "      <th>Open</th>\n",
       "      <th>High</th>\n",
       "      <th>Low</th>\n",
       "      <th>Close</th>\n",
       "      <th>Volume</th>\n",
       "      <th>Profit_or_loss</th>\n",
       "    </tr>\n",
       "  </thead>\n",
       "  <tbody>\n",
       "    <tr>\n",
       "      <th>0</th>\n",
       "      <td>2014-09-17</td>\n",
       "      <td>465.864014</td>\n",
       "      <td>468.174011</td>\n",
       "      <td>452.421997</td>\n",
       "      <td>457.334015</td>\n",
       "      <td>21056800</td>\n",
       "      <td>0</td>\n",
       "    </tr>\n",
       "    <tr>\n",
       "      <th>1</th>\n",
       "      <td>2014-09-18</td>\n",
       "      <td>456.859985</td>\n",
       "      <td>456.859985</td>\n",
       "      <td>413.104004</td>\n",
       "      <td>424.440002</td>\n",
       "      <td>34483200</td>\n",
       "      <td>0</td>\n",
       "    </tr>\n",
       "    <tr>\n",
       "      <th>2</th>\n",
       "      <td>2014-09-19</td>\n",
       "      <td>424.102997</td>\n",
       "      <td>427.834991</td>\n",
       "      <td>384.532013</td>\n",
       "      <td>394.795990</td>\n",
       "      <td>37919700</td>\n",
       "      <td>0</td>\n",
       "    </tr>\n",
       "    <tr>\n",
       "      <th>3</th>\n",
       "      <td>2014-09-20</td>\n",
       "      <td>394.673004</td>\n",
       "      <td>423.295990</td>\n",
       "      <td>389.882996</td>\n",
       "      <td>408.903992</td>\n",
       "      <td>36863600</td>\n",
       "      <td>1</td>\n",
       "    </tr>\n",
       "    <tr>\n",
       "      <th>4</th>\n",
       "      <td>2014-09-21</td>\n",
       "      <td>408.084991</td>\n",
       "      <td>412.425995</td>\n",
       "      <td>393.181000</td>\n",
       "      <td>398.821014</td>\n",
       "      <td>26580100</td>\n",
       "      <td>0</td>\n",
       "    </tr>\n",
       "    <tr>\n",
       "      <th>...</th>\n",
       "      <td>...</td>\n",
       "      <td>...</td>\n",
       "      <td>...</td>\n",
       "      <td>...</td>\n",
       "      <td>...</td>\n",
       "      <td>...</td>\n",
       "      <td>...</td>\n",
       "    </tr>\n",
       "    <tr>\n",
       "      <th>2707</th>\n",
       "      <td>2022-02-14</td>\n",
       "      <td>42157.398438</td>\n",
       "      <td>42775.777344</td>\n",
       "      <td>41681.957031</td>\n",
       "      <td>42586.917969</td>\n",
       "      <td>20827783012</td>\n",
       "      <td>1</td>\n",
       "    </tr>\n",
       "    <tr>\n",
       "      <th>2708</th>\n",
       "      <td>2022-02-15</td>\n",
       "      <td>42586.464844</td>\n",
       "      <td>44667.218750</td>\n",
       "      <td>42491.035156</td>\n",
       "      <td>44575.203125</td>\n",
       "      <td>22721659051</td>\n",
       "      <td>1</td>\n",
       "    </tr>\n",
       "    <tr>\n",
       "      <th>2709</th>\n",
       "      <td>2022-02-16</td>\n",
       "      <td>44578.277344</td>\n",
       "      <td>44578.277344</td>\n",
       "      <td>43456.691406</td>\n",
       "      <td>43961.859375</td>\n",
       "      <td>19792547657</td>\n",
       "      <td>0</td>\n",
       "    </tr>\n",
       "    <tr>\n",
       "      <th>2710</th>\n",
       "      <td>2022-02-17</td>\n",
       "      <td>43937.070312</td>\n",
       "      <td>44132.972656</td>\n",
       "      <td>40249.371094</td>\n",
       "      <td>40538.011719</td>\n",
       "      <td>26246662813</td>\n",
       "      <td>0</td>\n",
       "    </tr>\n",
       "    <tr>\n",
       "      <th>2711</th>\n",
       "      <td>2022-02-18</td>\n",
       "      <td>40475.714844</td>\n",
       "      <td>40922.371094</td>\n",
       "      <td>39696.546875</td>\n",
       "      <td>40038.492188</td>\n",
       "      <td>23452907520</td>\n",
       "      <td>0</td>\n",
       "    </tr>\n",
       "  </tbody>\n",
       "</table>\n",
       "<p>2712 rows × 7 columns</p>\n",
       "</div>"
      ],
      "text/plain": [
       "           Date          Open          High           Low         Close  \\\n",
       "0    2014-09-17    465.864014    468.174011    452.421997    457.334015   \n",
       "1    2014-09-18    456.859985    456.859985    413.104004    424.440002   \n",
       "2    2014-09-19    424.102997    427.834991    384.532013    394.795990   \n",
       "3    2014-09-20    394.673004    423.295990    389.882996    408.903992   \n",
       "4    2014-09-21    408.084991    412.425995    393.181000    398.821014   \n",
       "...         ...           ...           ...           ...           ...   \n",
       "2707 2022-02-14  42157.398438  42775.777344  41681.957031  42586.917969   \n",
       "2708 2022-02-15  42586.464844  44667.218750  42491.035156  44575.203125   \n",
       "2709 2022-02-16  44578.277344  44578.277344  43456.691406  43961.859375   \n",
       "2710 2022-02-17  43937.070312  44132.972656  40249.371094  40538.011719   \n",
       "2711 2022-02-18  40475.714844  40922.371094  39696.546875  40038.492188   \n",
       "\n",
       "           Volume  Profit_or_loss  \n",
       "0        21056800               0  \n",
       "1        34483200               0  \n",
       "2        37919700               0  \n",
       "3        36863600               1  \n",
       "4        26580100               0  \n",
       "...           ...             ...  \n",
       "2707  20827783012               1  \n",
       "2708  22721659051               1  \n",
       "2709  19792547657               0  \n",
       "2710  26246662813               0  \n",
       "2711  23452907520               0  \n",
       "\n",
       "[2712 rows x 7 columns]"
      ]
     },
     "execution_count": 23,
     "metadata": {},
     "output_type": "execute_result"
    }
   ],
   "source": [
    "BTC_df"
   ]
  },
  {
   "cell_type": "markdown",
   "id": "0a397429",
   "metadata": {},
   "source": [
    "# Feature Selection"
   ]
  },
  {
   "cell_type": "code",
   "execution_count": 24,
   "id": "bc4bdb1f",
   "metadata": {
    "scrolled": true
   },
   "outputs": [
    {
     "data": {
      "text/html": [
       "<div>\n",
       "<style scoped>\n",
       "    .dataframe tbody tr th:only-of-type {\n",
       "        vertical-align: middle;\n",
       "    }\n",
       "\n",
       "    .dataframe tbody tr th {\n",
       "        vertical-align: top;\n",
       "    }\n",
       "\n",
       "    .dataframe thead th {\n",
       "        text-align: right;\n",
       "    }\n",
       "</style>\n",
       "<table border=\"1\" class=\"dataframe\">\n",
       "  <thead>\n",
       "    <tr style=\"text-align: right;\">\n",
       "      <th></th>\n",
       "      <th>Date</th>\n",
       "      <th>Open</th>\n",
       "      <th>High</th>\n",
       "      <th>Low</th>\n",
       "      <th>Close</th>\n",
       "      <th>Volume</th>\n",
       "      <th>Profit_or_loss</th>\n",
       "    </tr>\n",
       "  </thead>\n",
       "  <tbody>\n",
       "    <tr>\n",
       "      <th>0</th>\n",
       "      <td>2014-09-17</td>\n",
       "      <td>465.864014</td>\n",
       "      <td>468.174011</td>\n",
       "      <td>452.421997</td>\n",
       "      <td>457.334015</td>\n",
       "      <td>21056800</td>\n",
       "      <td>0</td>\n",
       "    </tr>\n",
       "    <tr>\n",
       "      <th>1</th>\n",
       "      <td>2014-09-18</td>\n",
       "      <td>456.859985</td>\n",
       "      <td>456.859985</td>\n",
       "      <td>413.104004</td>\n",
       "      <td>424.440002</td>\n",
       "      <td>34483200</td>\n",
       "      <td>0</td>\n",
       "    </tr>\n",
       "    <tr>\n",
       "      <th>2</th>\n",
       "      <td>2014-09-19</td>\n",
       "      <td>424.102997</td>\n",
       "      <td>427.834991</td>\n",
       "      <td>384.532013</td>\n",
       "      <td>394.795990</td>\n",
       "      <td>37919700</td>\n",
       "      <td>0</td>\n",
       "    </tr>\n",
       "    <tr>\n",
       "      <th>3</th>\n",
       "      <td>2014-09-20</td>\n",
       "      <td>394.673004</td>\n",
       "      <td>423.295990</td>\n",
       "      <td>389.882996</td>\n",
       "      <td>408.903992</td>\n",
       "      <td>36863600</td>\n",
       "      <td>1</td>\n",
       "    </tr>\n",
       "    <tr>\n",
       "      <th>4</th>\n",
       "      <td>2014-09-21</td>\n",
       "      <td>408.084991</td>\n",
       "      <td>412.425995</td>\n",
       "      <td>393.181000</td>\n",
       "      <td>398.821014</td>\n",
       "      <td>26580100</td>\n",
       "      <td>0</td>\n",
       "    </tr>\n",
       "    <tr>\n",
       "      <th>...</th>\n",
       "      <td>...</td>\n",
       "      <td>...</td>\n",
       "      <td>...</td>\n",
       "      <td>...</td>\n",
       "      <td>...</td>\n",
       "      <td>...</td>\n",
       "      <td>...</td>\n",
       "    </tr>\n",
       "    <tr>\n",
       "      <th>2707</th>\n",
       "      <td>2022-02-14</td>\n",
       "      <td>42157.398438</td>\n",
       "      <td>42775.777344</td>\n",
       "      <td>41681.957031</td>\n",
       "      <td>42586.917969</td>\n",
       "      <td>20827783012</td>\n",
       "      <td>1</td>\n",
       "    </tr>\n",
       "    <tr>\n",
       "      <th>2708</th>\n",
       "      <td>2022-02-15</td>\n",
       "      <td>42586.464844</td>\n",
       "      <td>44667.218750</td>\n",
       "      <td>42491.035156</td>\n",
       "      <td>44575.203125</td>\n",
       "      <td>22721659051</td>\n",
       "      <td>1</td>\n",
       "    </tr>\n",
       "    <tr>\n",
       "      <th>2709</th>\n",
       "      <td>2022-02-16</td>\n",
       "      <td>44578.277344</td>\n",
       "      <td>44578.277344</td>\n",
       "      <td>43456.691406</td>\n",
       "      <td>43961.859375</td>\n",
       "      <td>19792547657</td>\n",
       "      <td>0</td>\n",
       "    </tr>\n",
       "    <tr>\n",
       "      <th>2710</th>\n",
       "      <td>2022-02-17</td>\n",
       "      <td>43937.070312</td>\n",
       "      <td>44132.972656</td>\n",
       "      <td>40249.371094</td>\n",
       "      <td>40538.011719</td>\n",
       "      <td>26246662813</td>\n",
       "      <td>0</td>\n",
       "    </tr>\n",
       "    <tr>\n",
       "      <th>2711</th>\n",
       "      <td>2022-02-18</td>\n",
       "      <td>40475.714844</td>\n",
       "      <td>40922.371094</td>\n",
       "      <td>39696.546875</td>\n",
       "      <td>40038.492188</td>\n",
       "      <td>23452907520</td>\n",
       "      <td>0</td>\n",
       "    </tr>\n",
       "  </tbody>\n",
       "</table>\n",
       "<p>2712 rows × 7 columns</p>\n",
       "</div>"
      ],
      "text/plain": [
       "           Date          Open          High           Low         Close  \\\n",
       "0    2014-09-17    465.864014    468.174011    452.421997    457.334015   \n",
       "1    2014-09-18    456.859985    456.859985    413.104004    424.440002   \n",
       "2    2014-09-19    424.102997    427.834991    384.532013    394.795990   \n",
       "3    2014-09-20    394.673004    423.295990    389.882996    408.903992   \n",
       "4    2014-09-21    408.084991    412.425995    393.181000    398.821014   \n",
       "...         ...           ...           ...           ...           ...   \n",
       "2707 2022-02-14  42157.398438  42775.777344  41681.957031  42586.917969   \n",
       "2708 2022-02-15  42586.464844  44667.218750  42491.035156  44575.203125   \n",
       "2709 2022-02-16  44578.277344  44578.277344  43456.691406  43961.859375   \n",
       "2710 2022-02-17  43937.070312  44132.972656  40249.371094  40538.011719   \n",
       "2711 2022-02-18  40475.714844  40922.371094  39696.546875  40038.492188   \n",
       "\n",
       "           Volume  Profit_or_loss  \n",
       "0        21056800               0  \n",
       "1        34483200               0  \n",
       "2        37919700               0  \n",
       "3        36863600               1  \n",
       "4        26580100               0  \n",
       "...           ...             ...  \n",
       "2707  20827783012               1  \n",
       "2708  22721659051               1  \n",
       "2709  19792547657               0  \n",
       "2710  26246662813               0  \n",
       "2711  23452907520               0  \n",
       "\n",
       "[2712 rows x 7 columns]"
      ]
     },
     "execution_count": 24,
     "metadata": {},
     "output_type": "execute_result"
    }
   ],
   "source": [
    "BTC_df"
   ]
  },
  {
   "cell_type": "code",
   "execution_count": 25,
   "id": "470a245e",
   "metadata": {},
   "outputs": [],
   "source": [
    "feat = BTC_df.columns[1:6]\n",
    "X = BTC_df[feat]\n",
    "y = BTC_df['Profit_or_loss']"
   ]
  },
  {
   "cell_type": "code",
   "execution_count": 26,
   "id": "40c86639",
   "metadata": {},
   "outputs": [],
   "source": [
    "scaler = StandardScaler()\n",
    "scaled_X = scaler.fit_transform(X)\n"
   ]
  },
  {
   "cell_type": "code",
   "execution_count": null,
   "id": "c696a945",
   "metadata": {},
   "outputs": [],
   "source": []
  },
  {
   "cell_type": "markdown",
   "id": "5375fd96",
   "metadata": {},
   "source": [
    "# Split my training data into different time frame"
   ]
  },
  {
   "cell_type": "code",
   "execution_count": 27,
   "id": "5c8fe4f6",
   "metadata": {},
   "outputs": [
    {
     "data": {
      "text/plain": [
       "2663"
      ]
     },
     "execution_count": 27,
     "metadata": {},
     "output_type": "execute_result"
    }
   ],
   "source": [
    "training_days = pd.date_range(start=\"2014-09-17\",end=\"2021-12-31\")\n",
    "num_training_days = len(training_days)\n",
    "num_training_days"
   ]
  },
  {
   "cell_type": "code",
   "execution_count": 28,
   "id": "9e31a87d",
   "metadata": {},
   "outputs": [],
   "source": [
    "X_train = scaled_X[:num_training_days]\n",
    "y_train = y[:num_training_days]\n",
    "X_test = scaled_X[num_training_days:]\n",
    "y_test = y[num_training_days:]"
   ]
  },
  {
   "cell_type": "code",
   "execution_count": 29,
   "id": "e235e763",
   "metadata": {},
   "outputs": [
    {
     "data": {
      "text/plain": [
       "array([[-0.67308228, -0.67372919, -0.67393333, -0.67424698, -0.73346327],\n",
       "       [-0.67364164, -0.67441372, -0.67645393, -0.67628998, -0.73279248],\n",
       "       [-0.67567663, -0.67616981, -0.67828563, -0.67813112, -0.73262079],\n",
       "       ...,\n",
       "       [ 2.25654408,  2.20931008,  2.25895386,  2.1819575 ,  0.76676286],\n",
       "       [ 2.18614151,  2.19480295,  2.24990285,  2.22750871,  0.5987585 ],\n",
       "       [ 2.22830889,  2.23065446,  2.23449386,  2.17337004,  1.1127375 ]])"
      ]
     },
     "execution_count": 29,
     "metadata": {},
     "output_type": "execute_result"
    }
   ],
   "source": [
    "X_train"
   ]
  },
  {
   "cell_type": "code",
   "execution_count": 30,
   "id": "bfd89981",
   "metadata": {},
   "outputs": [
    {
     "data": {
      "text/plain": [
       "0       0\n",
       "1       0\n",
       "2       0\n",
       "3       1\n",
       "4       0\n",
       "       ..\n",
       "2658    0\n",
       "2659    0\n",
       "2660    0\n",
       "2661    1\n",
       "2662    0\n",
       "Name: Profit_or_loss, Length: 2663, dtype: int64"
      ]
     },
     "execution_count": 30,
     "metadata": {},
     "output_type": "execute_result"
    }
   ],
   "source": [
    "y_train"
   ]
  },
  {
   "cell_type": "code",
   "execution_count": 31,
   "id": "7fd0c87c",
   "metadata": {},
   "outputs": [
    {
     "data": {
      "text/plain": [
       "array([[ 2.17503012e+00,  2.19161735e+00,  2.26453052e+00,\n",
       "         2.25910250e+00,  4.93650140e-01],\n",
       "       [ 2.26008852e+00,  2.19489016e+00,  2.30097298e+00,\n",
       "         2.23788664e+00,  6.61962619e-01],\n",
       "       [ 2.23912908e+00,  2.17246311e+00,  2.23552034e+00,\n",
       "         2.18279014e+00,  9.17763960e-01],\n",
       "       [ 2.18416884e+00,  2.16615997e+00,  2.23016731e+00,\n",
       "         2.14797569e+00,  1.38854541e+00],\n",
       "       [ 2.14941116e+00,  2.13727003e+00,  2.04077640e+00,\n",
       "         2.00335181e+00,  1.10658797e+00],\n",
       "       [ 2.00442408e+00,  1.94485221e+00,  2.03098814e+00,\n",
       "         1.97800695e+00,  7.74697708e-01],\n",
       "       [ 1.97883279e+00,  1.90884424e+00,  1.93046059e+00,\n",
       "         1.87844542e+00,  3.47199990e+00],\n",
       "       [ 1.87992543e+00,  1.85290187e+00,  1.90448604e+00,\n",
       "         1.88937893e+00,  6.67697414e-01],\n",
       "       [ 1.89068907e+00,  1.87922093e+00,  1.94717453e+00,\n",
       "         1.90041312e+00,  3.29365483e-01],\n",
       "       [ 1.90159201e+00,  1.85111965e+00,  1.84834610e+00,\n",
       "         1.89480226e+00,  8.69432249e-01],\n",
       "       [ 1.89595599e+00,  1.89962280e+00,  1.95163606e+00,\n",
       "         1.95160625e+00,  5.80830528e-01],\n",
       "       [ 1.95327571e+00,  1.96824541e+00,  2.02351629e+00,\n",
       "         2.02695908e+00,  9.39162612e-01],\n",
       "       [ 2.02810750e+00,  1.97690057e+00,  2.01826293e+00,\n",
       "         1.94264493e+00,  1.64816366e+00],\n",
       "       [ 1.94437286e+00,  1.92052831e+00,  1.98848946e+00,\n",
       "         1.97420402e+00,  4.43426542e-01],\n",
       "       [ 1.97562275e+00,  1.94339731e+00,  2.03249443e+00,\n",
       "         1.97902980e+00,  1.83328772e-01],\n",
       "       [ 1.97998013e+00,  1.92598086e+00,  2.03390406e+00,\n",
       "         1.97508470e+00,  1.59884726e-01],\n",
       "       [ 1.97663056e+00,  1.91040643e+00,  1.96910978e+00,\n",
       "         1.92146473e+00,  3.49175865e-01],\n",
       "       [ 1.92270434e+00,  1.87138302e+00,  1.95063988e+00,\n",
       "         1.92923338e+00,  3.85462515e-01],\n",
       "       [ 1.93040548e+00,  1.86798897e+00,  1.94106848e+00,\n",
       "         1.89002403e+00,  4.19152665e-01],\n",
       "       [ 1.89126687e+00,  1.92454180e+00,  1.90452110e+00,\n",
       "         1.82394622e+00,  2.83783885e-01],\n",
       "       [ 1.82638360e+00,  1.78220989e+00,  1.59158381e+00,\n",
       "         1.56165595e+00,  1.41439075e+00],\n",
       "       [ 1.56372394e+00,  1.51771019e+00,  1.49912863e+00,\n",
       "         1.47302308e+00,  1.24964026e+00],\n",
       "       [ 1.47524558e+00,  1.50225180e+00,  1.52706174e+00,\n",
       "         1.55044465e+00,  5.65359073e-01],\n",
       "       [ 1.55155669e+00,  1.55151337e+00,  1.42443040e+00,\n",
       "         1.57389204e+00,  1.35666957e+00],\n",
       "       [ 1.57510591e+00,  1.56343543e+00,  1.59081477e+00,\n",
       "         1.59250444e+00,  5.85853603e-01],\n",
       "       [ 1.59347654e+00,  1.64697970e+00,  1.62898965e+00,\n",
       "         1.58617666e+00,  8.30481232e-01],\n",
       "       [ 1.58672764e+00,  1.54551180e+00,  1.58118903e+00,\n",
       "         1.60394671e+00,  5.16570058e-01],\n",
       "       [ 1.60453018e+00,  1.59418937e+00,  1.61848894e+00,\n",
       "         1.64407483e+00,  3.76550604e-01],\n",
       "       [ 1.64505153e+00,  1.63190560e+00,  1.69512143e+00,\n",
       "         1.66605176e+00,  1.24516861e-01],\n",
       "       [ 1.66811201e+00,  1.61315455e+00,  1.69712406e+00,\n",
       "         1.65235199e+00, -2.91444052e-03],\n",
       "       [ 1.65372190e+00,  1.63620127e+00,  1.65198318e+00,\n",
       "         1.68747577e+00,  3.01404824e-01],\n",
       "       [ 1.68860335e+00,  1.66450865e+00,  1.74045815e+00,\n",
       "         1.70363319e+00,  2.79110887e-01],\n",
       "       [ 1.70487658e+00,  1.64753675e+00,  1.65833990e+00,\n",
       "         1.59244112e+00,  2.22489965e-01],\n",
       "       [ 1.59312176e+00,  1.54589160e+00,  1.62903022e+00,\n",
       "         1.60496325e+00,  1.94329426e-01],\n",
       "       [ 1.60582361e+00,  1.81048016e+00,  1.67506561e+00,\n",
       "         1.87490354e+00,  7.34937169e-01],\n",
       "       [ 1.87619898e+00,  1.82980338e+00,  1.92793809e+00,\n",
       "         1.87119498e+00,  2.47353210e-01],\n",
       "       [ 1.87244924e+00,  1.86934910e+00,  1.94119620e+00,\n",
       "         1.93151902e+00,  7.19539995e-02],\n",
       "       [ 1.93243955e+00,  1.98436909e+00,  1.97345861e+00,\n",
       "         2.02020066e+00,  6.96449758e-01],\n",
       "       [ 2.02238655e+00,  2.03833756e+00,  2.04139269e+00,\n",
       "         2.03747676e+00,  9.18152180e-01],\n",
       "       [ 2.03742362e+00,  2.00408912e+00,  2.06864715e+00,\n",
       "         2.05116245e+00,  4.26863790e-01],\n",
       "       [ 2.05302272e+00,  2.06056041e+00,  2.07953526e+00,\n",
       "         2.00311017e+00,  8.71321571e-01],\n",
       "       [ 2.00477304e+00,  1.94861022e+00,  1.99694673e+00,\n",
       "         1.93123978e+00,  6.12169673e-01],\n",
       "       [ 1.93278244e+00,  1.89910215e+00,  1.98015265e+00,\n",
       "         1.92108699e+00,  1.72389494e-01],\n",
       "       [ 1.92186518e+00,  1.88098189e+00,  1.98645879e+00,\n",
       "         1.91817080e+00,  1.98372774e-03],\n",
       "       [ 1.91694698e+00,  1.88598681e+00,  1.96921470e+00,\n",
       "         1.94235598e+00,  3.06053787e-01],\n",
       "       [ 1.94360214e+00,  2.00042376e+00,  2.02108318e+00,\n",
       "         2.06584528e+00,  4.00673019e-01],\n",
       "       [ 2.06734076e+00,  1.99504258e+00,  2.08298959e+00,\n",
       "         2.02775145e+00,  2.54332781e-01],\n",
       "       [ 2.02750665e+00,  1.96810053e+00,  1.87737431e+00,\n",
       "         1.81510159e+00,  5.76784412e-01],\n",
       "       [ 1.81247470e+00,  1.77385109e+00,  1.84193379e+00,\n",
       "         1.78407721e+00,  4.37206650e-01]])"
      ]
     },
     "execution_count": 31,
     "metadata": {},
     "output_type": "execute_result"
    }
   ],
   "source": [
    "X_test"
   ]
  },
  {
   "cell_type": "code",
   "execution_count": 32,
   "id": "ee371cf3",
   "metadata": {
    "scrolled": true
   },
   "outputs": [
    {
     "data": {
      "text/plain": [
       "2663    1\n",
       "2664    0\n",
       "2665    0\n",
       "2666    0\n",
       "2667    0\n",
       "2668    0\n",
       "2669    0\n",
       "2670    1\n",
       "2671    1\n",
       "2672    0\n",
       "2673    1\n",
       "2674    1\n",
       "2675    0\n",
       "2676    1\n",
       "2677    1\n",
       "2678    0\n",
       "2679    0\n",
       "2680    1\n",
       "2681    0\n",
       "2682    0\n",
       "2683    0\n",
       "2684    0\n",
       "2685    1\n",
       "2686    1\n",
       "2687    1\n",
       "2688    0\n",
       "2689    1\n",
       "2690    1\n",
       "2691    1\n",
       "2692    0\n",
       "2693    1\n",
       "2694    1\n",
       "2695    0\n",
       "2696    1\n",
       "2697    1\n",
       "2698    0\n",
       "2699    1\n",
       "2700    1\n",
       "2701    1\n",
       "2702    1\n",
       "2703    0\n",
       "2704    0\n",
       "2705    0\n",
       "2706    0\n",
       "2707    1\n",
       "2708    1\n",
       "2709    0\n",
       "2710    0\n",
       "2711    0\n",
       "Name: Profit_or_loss, dtype: int64"
      ]
     },
     "execution_count": 32,
     "metadata": {},
     "output_type": "execute_result"
    }
   ],
   "source": [
    "y_test"
   ]
  },
  {
   "cell_type": "markdown",
   "id": "473093c7",
   "metadata": {},
   "source": [
    "## Model Selection and also try out using different model "
   ]
  },
  {
   "cell_type": "code",
   "execution_count": 33,
   "id": "78ba04e4",
   "metadata": {},
   "outputs": [],
   "source": [
    "scoring = 'accuracy'\n",
    "# Append the models to the models list\n",
    "models = []\n",
    "models.append(('LR' , LogisticRegression()))\n",
    "models.append(('KNN' , KNeighborsClassifier()))\n",
    "models.append(('Decision_Tree' , DecisionTreeClassifier()))\n",
    "models.append(('SVM' , svm.SVC(kernel='rbf')))\n",
    "models.append(('RF' , RandomForestClassifier(n_estimators=50)))\n",
    "models.append(('XGBoost', XGBClassifier()))\n"
   ]
  },
  {
   "cell_type": "code",
   "execution_count": 34,
   "id": "32734f89",
   "metadata": {},
   "outputs": [],
   "source": [
    "from sklearn.metrics import classification_report, confusion_matrix, accuracy_score, mean_squared_error\n",
    "from sklearn.metrics import precision_score,recall_score, confusion_matrix, classification_report,accuracy_score, f1_score"
   ]
  },
  {
   "cell_type": "code",
   "execution_count": 35,
   "id": "6df3b6ba",
   "metadata": {},
   "outputs": [
    {
     "name": "stdout",
     "output_type": "stream",
     "text": [
      "Model :LR\n",
      "Accuracy Score : 0.8979591836734694\n",
      "f1 Score: 0.9056603773584906\n",
      "Recall: 1.0\n",
      "precision: 0.8275862068965517\n",
      "Confusion Matrix :\n"
     ]
    },
    {
     "data": {
      "image/png": "[encoded data removed]",
      "text/plain": [
       "<Figure size 432x288 with 2 Axes>"
      ]
     },
     "metadata": {
      "needs_background": "light"
     },
     "output_type": "display_data"
    },
    {
     "name": "stdout",
     "output_type": "stream",
     "text": [
      "              precision    recall  f1-score   support\n",
      "\n",
      "           0       1.00      0.80      0.89        25\n",
      "           1       0.83      1.00      0.91        24\n",
      "\n",
      "    accuracy                           0.90        49\n",
      "   macro avg       0.91      0.90      0.90        49\n",
      "weighted avg       0.92      0.90      0.90        49\n",
      "\n",
      "Model :KNN\n",
      "Accuracy Score : 0.6122448979591837\n",
      "f1 Score: 0.5581395348837209\n",
      "Recall: 0.5\n",
      "precision: 0.631578947368421\n",
      "Confusion Matrix :\n"
     ]
    },
    {
     "data": {
      "image/png": "[encoded data removed]",
      "text/plain": [
       "<Figure size 432x288 with 2 Axes>"
      ]
     },
     "metadata": {
      "needs_background": "light"
     },
     "output_type": "display_data"
    },
    {
     "name": "stdout",
     "output_type": "stream",
     "text": [
      "              precision    recall  f1-score   support\n",
      "\n",
      "           0       0.60      0.72      0.65        25\n",
      "           1       0.63      0.50      0.56        24\n",
      "\n",
      "    accuracy                           0.61        49\n",
      "   macro avg       0.62      0.61      0.61        49\n",
      "weighted avg       0.62      0.61      0.61        49\n",
      "\n",
      "Model :Decision_Tree\n",
      "Accuracy Score : 0.6326530612244898\n",
      "f1 Score: 0.5\n",
      "Recall: 0.375\n",
      "precision: 0.75\n",
      "Confusion Matrix :\n"
     ]
    },
    {
     "data": {
      "image/png": "[encoded data removed]",
      "text/plain": [
       "<Figure size 432x288 with 2 Axes>"
      ]
     },
     "metadata": {
      "needs_background": "light"
     },
     "output_type": "display_data"
    },
    {
     "name": "stdout",
     "output_type": "stream",
     "text": [
      "              precision    recall  f1-score   support\n",
      "\n",
      "           0       0.59      0.88      0.71        25\n",
      "           1       0.75      0.38      0.50        24\n",
      "\n",
      "    accuracy                           0.63        49\n",
      "   macro avg       0.67      0.63      0.60        49\n",
      "weighted avg       0.67      0.63      0.61        49\n",
      "\n",
      "Model :SVM\n",
      "Accuracy Score : 0.5918367346938775\n",
      "f1 Score: 0.7058823529411764\n",
      "Recall: 1.0\n",
      "precision: 0.5454545454545454\n",
      "Confusion Matrix :\n"
     ]
    },
    {
     "data": {
      "image/png": "[encoded data removed]",
      "text/plain": [
       "<Figure size 432x288 with 2 Axes>"
      ]
     },
     "metadata": {
      "needs_background": "light"
     },
     "output_type": "display_data"
    },
    {
     "name": "stdout",
     "output_type": "stream",
     "text": [
      "              precision    recall  f1-score   support\n",
      "\n",
      "           0       1.00      0.20      0.33        25\n",
      "           1       0.55      1.00      0.71        24\n",
      "\n",
      "    accuracy                           0.59        49\n",
      "   macro avg       0.77      0.60      0.52        49\n",
      "weighted avg       0.78      0.59      0.52        49\n",
      "\n",
      "Model :RF\n",
      "Accuracy Score : 0.7346938775510204\n",
      "f1 Score: 0.6829268292682927\n",
      "Recall: 0.5833333333333334\n",
      "precision: 0.8235294117647058\n",
      "Confusion Matrix :\n"
     ]
    },
    {
     "data": {
      "image/png": "[encoded data removed]",
      "text/plain": [
       "<Figure size 432x288 with 2 Axes>"
      ]
     },
     "metadata": {
      "needs_background": "light"
     },
     "output_type": "display_data"
    },
    {
     "name": "stdout",
     "output_type": "stream",
     "text": [
      "              precision    recall  f1-score   support\n",
      "\n",
      "           0       0.69      0.88      0.77        25\n",
      "           1       0.82      0.58      0.68        24\n",
      "\n",
      "    accuracy                           0.73        49\n",
      "   macro avg       0.76      0.73      0.73        49\n",
      "weighted avg       0.75      0.73      0.73        49\n",
      "\n",
      "[07:20:12] WARNING: C:/Users/Administrator/workspace/xgboost-win64_release_1.5.1/src/learner.cc:1115: Starting in XGBoost 1.3.0, the default evaluation metric used with the objective 'binary:logistic' was changed from 'error' to 'logloss'. Explicitly set eval_metric if you'd like to restore the old behavior.\n"
     ]
    },
    {
     "name": "stderr",
     "output_type": "stream",
     "text": [
      "C:\\ProgramData\\Anaconda3\\lib\\site-packages\\xgboost\\sklearn.py:1224: UserWarning: The use of label encoder in XGBClassifier is deprecated and will be removed in a future release. To remove this warning, do the following: 1) Pass option use_label_encoder=False when constructing XGBClassifier object; and 2) Encode your labels (y) as integers starting with 0, i.e. 0, 1, 2, ..., [num_class - 1].\n",
      "  warnings.warn(label_encoder_deprecation_msg, UserWarning)\n"
     ]
    },
    {
     "name": "stdout",
     "output_type": "stream",
     "text": [
      "Model :XGBoost\n",
      "Accuracy Score : 0.7142857142857143\n",
      "f1 Score: 0.6666666666666666\n",
      "Recall: 0.5833333333333334\n",
      "precision: 0.7777777777777778\n",
      "Confusion Matrix :\n"
     ]
    },
    {
     "data": {
      "image/png": "[encoded data removed]",
      "text/plain": [
       "<Figure size 432x288 with 2 Axes>"
      ]
     },
     "metadata": {
      "needs_background": "light"
     },
     "output_type": "display_data"
    },
    {
     "name": "stdout",
     "output_type": "stream",
     "text": [
      "              precision    recall  f1-score   support\n",
      "\n",
      "           0       0.68      0.84      0.75        25\n",
      "           1       0.78      0.58      0.67        24\n",
      "\n",
      "    accuracy                           0.71        49\n",
      "   macro avg       0.73      0.71      0.71        49\n",
      "weighted avg       0.73      0.71      0.71        49\n",
      "\n"
     ]
    }
   ],
   "source": [
    "results = []\n",
    "names = []\n",
    "\n",
    "\n",
    "for name, model in models:\n",
    "    clf = model\n",
    "    clf.fit(X_train, y_train)\n",
    "    y_pred = clf.predict(X_test)\n",
    "    accu_score = accuracy_score(y_test, y_pred)\n",
    "    F1_score=f1_score(y_test, y_pred)\n",
    "    Recall=recall_score(y_test, y_pred)\n",
    "    Precision=precision_score(y_test, y_pred)\n",
    "    results= pd.crosstab(y_test, y_pred, rownames=['Actual'], colnames=['Predicted'], margins=False)\n",
    "    print( \"Model :\" + name)\n",
    "    print ('Accuracy Score :',accuracy_score(y_test,y_pred))\n",
    "    print('f1 Score'+\": \" + str(F1_score))\n",
    "    print('Recall' + \": \" + str(Recall))\n",
    "    print('precision' + \": \" + str(Precision))\n",
    "    print ('Confusion Matrix :')\n",
    "    sns.heatmap(results, annot=True)\n",
    "    plt.show() \n",
    "#     print(model.feature_importances_)\n",
    "    print(classification_report(y_test,y_pred))"
   ]
  },
  {
   "cell_type": "code",
   "execution_count": 36,
   "id": "3665b47a",
   "metadata": {},
   "outputs": [
    {
     "data": {
      "text/plain": [
       "array([1, 0, 0, 0, 0, 1, 0, 0, 0, 0, 0, 1, 0, 1, 1, 1, 0, 0, 0, 0, 0, 0,\n",
       "       1, 0, 0, 0, 1, 1, 0, 0, 1, 0, 0, 1, 1, 0, 0, 1, 1, 1, 1, 0, 0, 0,\n",
       "       0, 1, 1, 0, 0], dtype=int64)"
      ]
     },
     "execution_count": 36,
     "metadata": {},
     "output_type": "execute_result"
    }
   ],
   "source": [
    "y_pred"
   ]
  },
  {
   "cell_type": "code",
   "execution_count": 37,
   "id": "12a6529e",
   "metadata": {},
   "outputs": [
    {
     "data": {
      "text/plain": [
       "array([1, 0, 0, 0, 0, 0, 0, 1, 1, 0, 1, 1, 0, 1, 1, 0, 0, 1, 0, 0, 0, 0,\n",
       "       1, 1, 1, 0, 1, 1, 1, 0, 1, 1, 0, 1, 1, 0, 1, 1, 1, 1, 0, 0, 0, 0,\n",
       "       1, 1, 0, 0, 0], dtype=int64)"
      ]
     },
     "execution_count": 37,
     "metadata": {},
     "output_type": "execute_result"
    }
   ],
   "source": [
    "np.array(y_test)"
   ]
  },
  {
   "cell_type": "code",
   "execution_count": null,
   "id": "c36b3037",
   "metadata": {},
   "outputs": [],
   "source": []
  },
  {
   "cell_type": "markdown",
   "id": "d186ece2",
   "metadata": {},
   "source": [
    "# Logistic regression"
   ]
  },
  {
   "cell_type": "code",
   "execution_count": 38,
   "id": "c52ebeaf",
   "metadata": {},
   "outputs": [
    {
     "data": {
      "text/plain": [
       "0.8979591836734694"
      ]
     },
     "execution_count": 38,
     "metadata": {},
     "output_type": "execute_result"
    }
   ],
   "source": [
    "logres = LogisticRegression()\n",
    "logres.fit(X_train, y_train)\n",
    "logres_y_pred = logres.predict(X_test)\n",
    "logres.score(X_test,y_test)"
   ]
  },
  {
   "cell_type": "code",
   "execution_count": 39,
   "id": "c867fe6d",
   "metadata": {},
   "outputs": [
    {
     "data": {
      "image/png": "[encoded data removed]",
      "text/plain": [
       "<Figure size 432x288 with 2 Axes>"
      ]
     },
     "metadata": {
      "needs_background": "light"
     },
     "output_type": "display_data"
    }
   ],
   "source": [
    "logres_confusion_matrix= pd.crosstab(y_test, logres_y_pred, rownames=['Actual'], colnames=['Predicted'], margins=False)\n",
    "sns.heatmap(logres_confusion_matrix, annot=True)\n",
    "plt.show()"
   ]
  },
  {
   "cell_type": "code",
   "execution_count": 40,
   "id": "a3bee0f4",
   "metadata": {},
   "outputs": [
    {
     "data": {
      "text/html": [
       "<div>\n",
       "<style scoped>\n",
       "    .dataframe tbody tr th:only-of-type {\n",
       "        vertical-align: middle;\n",
       "    }\n",
       "\n",
       "    .dataframe tbody tr th {\n",
       "        vertical-align: top;\n",
       "    }\n",
       "\n",
       "    .dataframe thead th {\n",
       "        text-align: right;\n",
       "    }\n",
       "</style>\n",
       "<table border=\"1\" class=\"dataframe\">\n",
       "  <thead>\n",
       "    <tr style=\"text-align: right;\">\n",
       "      <th></th>\n",
       "      <th>Actual</th>\n",
       "      <th>Prediction</th>\n",
       "    </tr>\n",
       "  </thead>\n",
       "  <tbody>\n",
       "    <tr>\n",
       "      <th>0</th>\n",
       "      <td>1</td>\n",
       "      <td>1</td>\n",
       "    </tr>\n",
       "    <tr>\n",
       "      <th>1</th>\n",
       "      <td>0</td>\n",
       "      <td>0</td>\n",
       "    </tr>\n",
       "    <tr>\n",
       "      <th>2</th>\n",
       "      <td>0</td>\n",
       "      <td>0</td>\n",
       "    </tr>\n",
       "    <tr>\n",
       "      <th>3</th>\n",
       "      <td>0</td>\n",
       "      <td>0</td>\n",
       "    </tr>\n",
       "    <tr>\n",
       "      <th>4</th>\n",
       "      <td>0</td>\n",
       "      <td>0</td>\n",
       "    </tr>\n",
       "    <tr>\n",
       "      <th>5</th>\n",
       "      <td>0</td>\n",
       "      <td>0</td>\n",
       "    </tr>\n",
       "    <tr>\n",
       "      <th>6</th>\n",
       "      <td>0</td>\n",
       "      <td>0</td>\n",
       "    </tr>\n",
       "    <tr>\n",
       "      <th>7</th>\n",
       "      <td>1</td>\n",
       "      <td>1</td>\n",
       "    </tr>\n",
       "    <tr>\n",
       "      <th>8</th>\n",
       "      <td>1</td>\n",
       "      <td>1</td>\n",
       "    </tr>\n",
       "    <tr>\n",
       "      <th>9</th>\n",
       "      <td>0</td>\n",
       "      <td>0</td>\n",
       "    </tr>\n",
       "    <tr>\n",
       "      <th>10</th>\n",
       "      <td>1</td>\n",
       "      <td>1</td>\n",
       "    </tr>\n",
       "    <tr>\n",
       "      <th>11</th>\n",
       "      <td>1</td>\n",
       "      <td>1</td>\n",
       "    </tr>\n",
       "    <tr>\n",
       "      <th>12</th>\n",
       "      <td>0</td>\n",
       "      <td>0</td>\n",
       "    </tr>\n",
       "    <tr>\n",
       "      <th>13</th>\n",
       "      <td>1</td>\n",
       "      <td>1</td>\n",
       "    </tr>\n",
       "    <tr>\n",
       "      <th>14</th>\n",
       "      <td>1</td>\n",
       "      <td>1</td>\n",
       "    </tr>\n",
       "    <tr>\n",
       "      <th>15</th>\n",
       "      <td>0</td>\n",
       "      <td>1</td>\n",
       "    </tr>\n",
       "    <tr>\n",
       "      <th>16</th>\n",
       "      <td>0</td>\n",
       "      <td>0</td>\n",
       "    </tr>\n",
       "    <tr>\n",
       "      <th>17</th>\n",
       "      <td>1</td>\n",
       "      <td>1</td>\n",
       "    </tr>\n",
       "    <tr>\n",
       "      <th>18</th>\n",
       "      <td>0</td>\n",
       "      <td>0</td>\n",
       "    </tr>\n",
       "    <tr>\n",
       "      <th>19</th>\n",
       "      <td>0</td>\n",
       "      <td>0</td>\n",
       "    </tr>\n",
       "    <tr>\n",
       "      <th>20</th>\n",
       "      <td>0</td>\n",
       "      <td>0</td>\n",
       "    </tr>\n",
       "    <tr>\n",
       "      <th>21</th>\n",
       "      <td>0</td>\n",
       "      <td>0</td>\n",
       "    </tr>\n",
       "    <tr>\n",
       "      <th>22</th>\n",
       "      <td>1</td>\n",
       "      <td>1</td>\n",
       "    </tr>\n",
       "    <tr>\n",
       "      <th>23</th>\n",
       "      <td>1</td>\n",
       "      <td>1</td>\n",
       "    </tr>\n",
       "    <tr>\n",
       "      <th>24</th>\n",
       "      <td>1</td>\n",
       "      <td>1</td>\n",
       "    </tr>\n",
       "    <tr>\n",
       "      <th>25</th>\n",
       "      <td>0</td>\n",
       "      <td>1</td>\n",
       "    </tr>\n",
       "    <tr>\n",
       "      <th>26</th>\n",
       "      <td>1</td>\n",
       "      <td>1</td>\n",
       "    </tr>\n",
       "    <tr>\n",
       "      <th>27</th>\n",
       "      <td>1</td>\n",
       "      <td>1</td>\n",
       "    </tr>\n",
       "    <tr>\n",
       "      <th>28</th>\n",
       "      <td>1</td>\n",
       "      <td>1</td>\n",
       "    </tr>\n",
       "    <tr>\n",
       "      <th>29</th>\n",
       "      <td>0</td>\n",
       "      <td>0</td>\n",
       "    </tr>\n",
       "    <tr>\n",
       "      <th>30</th>\n",
       "      <td>1</td>\n",
       "      <td>1</td>\n",
       "    </tr>\n",
       "    <tr>\n",
       "      <th>31</th>\n",
       "      <td>1</td>\n",
       "      <td>1</td>\n",
       "    </tr>\n",
       "    <tr>\n",
       "      <th>32</th>\n",
       "      <td>0</td>\n",
       "      <td>0</td>\n",
       "    </tr>\n",
       "    <tr>\n",
       "      <th>33</th>\n",
       "      <td>1</td>\n",
       "      <td>1</td>\n",
       "    </tr>\n",
       "    <tr>\n",
       "      <th>34</th>\n",
       "      <td>1</td>\n",
       "      <td>1</td>\n",
       "    </tr>\n",
       "    <tr>\n",
       "      <th>35</th>\n",
       "      <td>0</td>\n",
       "      <td>1</td>\n",
       "    </tr>\n",
       "    <tr>\n",
       "      <th>36</th>\n",
       "      <td>1</td>\n",
       "      <td>1</td>\n",
       "    </tr>\n",
       "    <tr>\n",
       "      <th>37</th>\n",
       "      <td>1</td>\n",
       "      <td>1</td>\n",
       "    </tr>\n",
       "    <tr>\n",
       "      <th>38</th>\n",
       "      <td>1</td>\n",
       "      <td>1</td>\n",
       "    </tr>\n",
       "    <tr>\n",
       "      <th>39</th>\n",
       "      <td>1</td>\n",
       "      <td>1</td>\n",
       "    </tr>\n",
       "    <tr>\n",
       "      <th>40</th>\n",
       "      <td>0</td>\n",
       "      <td>0</td>\n",
       "    </tr>\n",
       "    <tr>\n",
       "      <th>41</th>\n",
       "      <td>0</td>\n",
       "      <td>0</td>\n",
       "    </tr>\n",
       "    <tr>\n",
       "      <th>42</th>\n",
       "      <td>0</td>\n",
       "      <td>1</td>\n",
       "    </tr>\n",
       "    <tr>\n",
       "      <th>43</th>\n",
       "      <td>0</td>\n",
       "      <td>1</td>\n",
       "    </tr>\n",
       "    <tr>\n",
       "      <th>44</th>\n",
       "      <td>1</td>\n",
       "      <td>1</td>\n",
       "    </tr>\n",
       "    <tr>\n",
       "      <th>45</th>\n",
       "      <td>1</td>\n",
       "      <td>1</td>\n",
       "    </tr>\n",
       "    <tr>\n",
       "      <th>46</th>\n",
       "      <td>0</td>\n",
       "      <td>0</td>\n",
       "    </tr>\n",
       "    <tr>\n",
       "      <th>47</th>\n",
       "      <td>0</td>\n",
       "      <td>0</td>\n",
       "    </tr>\n",
       "    <tr>\n",
       "      <th>48</th>\n",
       "      <td>0</td>\n",
       "      <td>0</td>\n",
       "    </tr>\n",
       "  </tbody>\n",
       "</table>\n",
       "</div>"
      ],
      "text/plain": [
       "    Actual  Prediction\n",
       "0        1           1\n",
       "1        0           0\n",
       "2        0           0\n",
       "3        0           0\n",
       "4        0           0\n",
       "5        0           0\n",
       "6        0           0\n",
       "7        1           1\n",
       "8        1           1\n",
       "9        0           0\n",
       "10       1           1\n",
       "11       1           1\n",
       "12       0           0\n",
       "13       1           1\n",
       "14       1           1\n",
       "15       0           1\n",
       "16       0           0\n",
       "17       1           1\n",
       "18       0           0\n",
       "19       0           0\n",
       "20       0           0\n",
       "21       0           0\n",
       "22       1           1\n",
       "23       1           1\n",
       "24       1           1\n",
       "25       0           1\n",
       "26       1           1\n",
       "27       1           1\n",
       "28       1           1\n",
       "29       0           0\n",
       "30       1           1\n",
       "31       1           1\n",
       "32       0           0\n",
       "33       1           1\n",
       "34       1           1\n",
       "35       0           1\n",
       "36       1           1\n",
       "37       1           1\n",
       "38       1           1\n",
       "39       1           1\n",
       "40       0           0\n",
       "41       0           0\n",
       "42       0           1\n",
       "43       0           1\n",
       "44       1           1\n",
       "45       1           1\n",
       "46       0           0\n",
       "47       0           0\n",
       "48       0           0"
      ]
     },
     "execution_count": 40,
     "metadata": {},
     "output_type": "execute_result"
    }
   ],
   "source": [
    "logres_final_df = pd.DataFrame(data= np.array(y_test),columns=['Actual'])\n",
    "logres_final_df['Prediction'] = np.array(logres_y_pred)\n",
    "logres_final_df"
   ]
  },
  {
   "cell_type": "code",
   "execution_count": 41,
   "id": "47b2df1a",
   "metadata": {
    "scrolled": true
   },
   "outputs": [
    {
     "data": {
      "image/png": "[encoded data removed]",
      "text/plain": [
       "<Figure size 432x288 with 1 Axes>"
      ]
     },
     "metadata": {
      "needs_background": "light"
     },
     "output_type": "display_data"
    }
   ],
   "source": [
    "plt.plot(np.array(y_test), color = 'red', label = 'Bitcoin Price')\n",
    "plt.plot(np.array(logres_y_pred), color = 'green', label = 'Predicted Bitcoin Price')\n",
    "plt.title('Bitcoin Profit or Loss Prediction using Logistic Regression')\n",
    "plt.xlabel('Days')\n",
    "plt.ylabel('Profit = 1, Loss = 0')\n",
    "plt.legend()\n",
    "plt.show()"
   ]
  },
  {
   "cell_type": "markdown",
   "id": "ce2283b1",
   "metadata": {},
   "source": [
    "# Grid search to find best parameter. cannot use this before of cross validation "
   ]
  },
  {
   "cell_type": "code",
   "execution_count": 58,
   "id": "c0f744cb",
   "metadata": {},
   "outputs": [],
   "source": [
    "# model_params = {\n",
    "#     'svm': {\n",
    "#         'model': svm.SVC(gamma='auto'),\n",
    "#         'params' : {\n",
    "#             'C': [1,5,10],\n",
    "#             'kernel': ['rbf','linear']\n",
    "#         }  \n",
    "#     },\n",
    "#     'random_forest': {\n",
    "#         'model': RandomForestClassifier(),\n",
    "#         'params' : {\n",
    "#             'n_estimators': [1,5,10]\n",
    "#         }\n",
    "#     },\n",
    "#     'logistic_regression' : {\n",
    "#         'model': LogisticRegression(),\n",
    "#         'params': {\n",
    "#             'C': [10,50,100]\n",
    "#         }\n",
    "#     },\n",
    "#     'decision_tree' : {\n",
    "#         'model': DecisionTreeClassifier(),\n",
    "#         'params': {\n",
    "#             'criterion': ['gini', 'entropy']\n",
    "#         }\n",
    "#     },\n",
    "#     'GaussianNB': {\n",
    "#         'model': GaussianNB(), \n",
    "#         'params': {}\n",
    "#     },\n",
    "#     'linear_regression': {\n",
    "#         'model': linear_model.LinearRegression(),\n",
    "#         'params': {}\n",
    "#     }\n",
    " \n",
    "# }"
   ]
  },
  {
   "cell_type": "code",
   "execution_count": null,
   "id": "a4f6e100",
   "metadata": {},
   "outputs": [],
   "source": []
  },
  {
   "cell_type": "code",
   "execution_count": 59,
   "id": "f1019184",
   "metadata": {},
   "outputs": [],
   "source": [
    "# scores = []\n",
    "\n",
    "# for model_name, mp in model_params.items():\n",
    "#     clf =  GridSearchCV(mp['model'], mp['params'], cv=5, return_train_score=False) # need to remove this line, cann do cross validation for time series \n",
    "#     clf.fit(X_train,y_train)\n",
    "#     scores.append({\n",
    "#          'model': model_name,\n",
    "#          'best_score': clf.best_score_,\n",
    "#          'best_params': clf.best_params_\n",
    "#      })\n",
    "    \n",
    "# model_score_df = pd.DataFrame(scores,columns=['model','best_score','best_params'])\n",
    "# model_score_df"
   ]
  },
  {
   "cell_type": "markdown",
   "id": "d5acfb6b",
   "metadata": {},
   "source": [
    "# Feature important \n",
    "check which feature have the most impact"
   ]
  },
  {
   "cell_type": "code",
   "execution_count": 42,
   "id": "49723b1f",
   "metadata": {},
   "outputs": [
    {
     "ename": "AttributeError",
     "evalue": "'LogisticRegression' object has no attribute 'feature_importances_'",
     "output_type": "error",
     "traceback": [
      "\u001b[1;31m---------------------------------------------------------------------------\u001b[0m",
      "\u001b[1;31mAttributeError\u001b[0m                            Traceback (most recent call last)",
      "\u001b[1;32m<ipython-input-42-a65dd49e3484>\u001b[0m in \u001b[0;36m<module>\u001b[1;34m\u001b[0m\n\u001b[1;32m----> 1\u001b[1;33m \u001b[0mlogres\u001b[0m\u001b[1;33m.\u001b[0m\u001b[0mfeature_importances_\u001b[0m\u001b[1;33m\u001b[0m\u001b[1;33m\u001b[0m\u001b[0m\n\u001b[0m",
      "\u001b[1;31mAttributeError\u001b[0m: 'LogisticRegression' object has no attribute 'feature_importances_'"
     ]
    }
   ],
   "source": [
    "logres.feature_importances_"
   ]
  },
  {
   "cell_type": "markdown",
   "id": "aaf4b5df",
   "metadata": {},
   "source": [
    "# Stacking "
   ]
  },
  {
   "cell_type": "code",
   "execution_count": 62,
   "id": "33442768",
   "metadata": {},
   "outputs": [
    {
     "name": "stdout",
     "output_type": "stream",
     "text": [
      "<class 'pandas.core.frame.DataFrame'>\n",
      "RangeIndex: 2712 entries, 0 to 2711\n",
      "Data columns (total 8 columns):\n",
      " #   Column                      Non-Null Count  Dtype         \n",
      "---  ------                      --------------  -----         \n",
      " 0   Date                        2712 non-null   datetime64[ns]\n",
      " 1   Open                        2712 non-null   float64       \n",
      " 2   High                        2712 non-null   float64       \n",
      " 3   Low                         2712 non-null   float64       \n",
      " 4   Close                       2712 non-null   float64       \n",
      " 5   Volume                      2712 non-null   int64         \n",
      " 6   Profit_or_loss              2712 non-null   int64         \n",
      " 7   previous_day_closing_price  2711 non-null   float64       \n",
      "dtypes: datetime64[ns](1), float64(5), int64(2)\n",
      "memory usage: 169.6 KB\n"
     ]
    }
   ],
   "source": [
    "BTC_df.info()"
   ]
  },
  {
   "cell_type": "code",
   "execution_count": 63,
   "id": "b39a6cea",
   "metadata": {},
   "outputs": [],
   "source": [
    "X_columns = BTC_df[['Close', 'Volume']]\n",
    "scaled_X_columns = scaler.fit_transform(X_columns)\n",
    "X_1 = np.array(scaled_X_columns)\n",
    "y_1 = np.array(y)"
   ]
  },
  {
   "cell_type": "code",
   "execution_count": 64,
   "id": "90f0f0d3",
   "metadata": {},
   "outputs": [],
   "source": [
    "model1 = DecisionTreeClassifier()\n",
    "model2 = RandomForestClassifier(n_estimators = 10)\n",
    "model3 = XGBClassifier( n_estimators = 100, use_label_encoder= False)\n",
    "lr = LogisticRegression(multi_class = 'auto', solver = 'lbfgs')\n",
    "stackingmodel = StackingClassifier(\n",
    "    classifiers = [model1, model2, model3],\n",
    "    meta_classifier = lr)"
   ]
  },
  {
   "cell_type": "code",
   "execution_count": 65,
   "id": "a1109538",
   "metadata": {},
   "outputs": [
    {
     "name": "stdout",
     "output_type": "stream",
     "text": [
      "Accuracy: 0.49 (+/- 0.03) [Decision Tree]\n",
      "Accuracy: 0.49 (+/- 0.03) [Random Forest]\n",
      "[20:04:30] WARNING: C:/Users/Administrator/workspace/xgboost-win64_release_1.5.1/src/learner.cc:1115: Starting in XGBoost 1.3.0, the default evaluation metric used with the objective 'binary:logistic' was changed from 'error' to 'logloss'. Explicitly set eval_metric if you'd like to restore the old behavior.\n",
      "[20:04:30] WARNING: C:/Users/Administrator/workspace/xgboost-win64_release_1.5.1/src/learner.cc:1115: Starting in XGBoost 1.3.0, the default evaluation metric used with the objective 'binary:logistic' was changed from 'error' to 'logloss'. Explicitly set eval_metric if you'd like to restore the old behavior.\n",
      "[20:04:31] WARNING: C:/Users/Administrator/workspace/xgboost-win64_release_1.5.1/src/learner.cc:1115: Starting in XGBoost 1.3.0, the default evaluation metric used with the objective 'binary:logistic' was changed from 'error' to 'logloss'. Explicitly set eval_metric if you'd like to restore the old behavior.\n",
      "[20:04:31] WARNING: C:/Users/Administrator/workspace/xgboost-win64_release_1.5.1/src/learner.cc:1115: Starting in XGBoost 1.3.0, the default evaluation metric used with the objective 'binary:logistic' was changed from 'error' to 'logloss'. Explicitly set eval_metric if you'd like to restore the old behavior.\n",
      "[20:04:31] WARNING: C:/Users/Administrator/workspace/xgboost-win64_release_1.5.1/src/learner.cc:1115: Starting in XGBoost 1.3.0, the default evaluation metric used with the objective 'binary:logistic' was changed from 'error' to 'logloss'. Explicitly set eval_metric if you'd like to restore the old behavior.\n",
      "Accuracy: 0.49 (+/- 0.04) [XGBoost]\n",
      "[20:04:32] WARNING: C:/Users/Administrator/workspace/xgboost-win64_release_1.5.1/src/learner.cc:1115: Starting in XGBoost 1.3.0, the default evaluation metric used with the objective 'binary:logistic' was changed from 'error' to 'logloss'. Explicitly set eval_metric if you'd like to restore the old behavior.\n",
      "[20:04:33] WARNING: C:/Users/Administrator/workspace/xgboost-win64_release_1.5.1/src/learner.cc:1115: Starting in XGBoost 1.3.0, the default evaluation metric used with the objective 'binary:logistic' was changed from 'error' to 'logloss'. Explicitly set eval_metric if you'd like to restore the old behavior.\n",
      "[20:04:34] WARNING: C:/Users/Administrator/workspace/xgboost-win64_release_1.5.1/src/learner.cc:1115: Starting in XGBoost 1.3.0, the default evaluation metric used with the objective 'binary:logistic' was changed from 'error' to 'logloss'. Explicitly set eval_metric if you'd like to restore the old behavior.\n",
      "[20:04:34] WARNING: C:/Users/Administrator/workspace/xgboost-win64_release_1.5.1/src/learner.cc:1115: Starting in XGBoost 1.3.0, the default evaluation metric used with the objective 'binary:logistic' was changed from 'error' to 'logloss'. Explicitly set eval_metric if you'd like to restore the old behavior.\n",
      "[20:04:35] WARNING: C:/Users/Administrator/workspace/xgboost-win64_release_1.5.1/src/learner.cc:1115: Starting in XGBoost 1.3.0, the default evaluation metric used with the objective 'binary:logistic' was changed from 'error' to 'logloss'. Explicitly set eval_metric if you'd like to restore the old behavior.\n",
      "[20:04:35] WARNING: C:/Users/Administrator/workspace/xgboost-win64_release_1.5.1/src/learner.cc:1115: Starting in XGBoost 1.3.0, the default evaluation metric used with the objective 'binary:logistic' was changed from 'error' to 'logloss'. Explicitly set eval_metric if you'd like to restore the old behavior.\n",
      "Accuracy: 0.49 (+/- 0.03) [Stacking Classifier]\n",
      "[20:04:36] WARNING: C:/Users/Administrator/workspace/xgboost-win64_release_1.5.1/src/learner.cc:1115: Starting in XGBoost 1.3.0, the default evaluation metric used with the objective 'binary:logistic' was changed from 'error' to 'logloss'. Explicitly set eval_metric if you'd like to restore the old behavior.\n"
     ]
    },
    {
     "data": {
      "image/png": "[encoded data removed]",
      "text/plain": [
       "<Figure size 720x576 with 4 Axes>"
      ]
     },
     "metadata": {
      "needs_background": "light"
     },
     "output_type": "display_data"
    }
   ],
   "source": [
    "\n",
    "label = ['Decision Tree', 'Random Forest', 'XGBoost', 'Stacking Classifier']\n",
    "model_list = [model1, model2, model3, stackingmodel]\n",
    "    \n",
    "fig = plt.figure(figsize = (10, 8))\n",
    "gs = gridspec.GridSpec(2, 2)\n",
    "grid = itertools.product([0, 1], repeat = 2)\n",
    "\n",
    "model_cv_mean = []\n",
    "model_cv_std = []\n",
    "for model, label, grd in zip(model_list, label, grid):\n",
    "        \n",
    "    scores = cross_val_score(model,X_1, y_1, cv = 5, scoring = 'accuracy') #- time series should not do crossval\n",
    "    print('Accuracy: %.2f (+/- %.2f) [%s]' % (scores.mean(), scores.std(), label))\n",
    "    model_cv_mean.append(scores.mean())\n",
    "    model_cv_std.append(scores.std())\n",
    "        \n",
    "    model.fit(X_1, y_1)\n",
    "    ax = plt.subplot(gs[grd[0], grd[1]])\n",
    "    fig = plot_decision_regions(X = X_1, y = y_1, clf = model)\n",
    "    plt.title(label)\n",
    "\n",
    "plt.show()\n",
    "\n",
    "# model_score_df = pd.DataFrame(scores,columns=['model','best_score','best_params'])\n",
    "# model_score_df"
   ]
  },
  {
   "cell_type": "markdown",
   "id": "4bdad9e3",
   "metadata": {},
   "source": [
    "# Plot prediction graph, Try using closing price as Y and use regression model to train the data \n",
    "# plot the volumn chart out to see whether there is increasing trend of trading bitcoin\n",
    "## Base on the volumn check out the news in the market to see what is pushing the price up. \n",
    "\n"
   ]
  }
 ],
 "metadata": {
  "kernelspec": {
   "display_name": "Python 3",
   "language": "python",
   "name": "python3"
  },
  "language_info": {
   "codemirror_mode": {
    "name": "ipython",
    "version": 3
   },
   "file_extension": ".py",
   "mimetype": "text/x-python",
   "name": "python",
   "nbconvert_exporter": "python",
   "pygments_lexer": "ipython3",
   "version": "3.8.8"
  }
 },
 "nbformat": 4,
 "nbformat_minor": 5
}

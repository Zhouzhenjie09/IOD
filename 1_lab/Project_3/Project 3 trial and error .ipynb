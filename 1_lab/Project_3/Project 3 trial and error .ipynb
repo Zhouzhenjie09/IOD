{
 "cells": [
  {
   "cell_type": "markdown",
   "id": "ab8f8af2",
   "metadata": {},
   "source": [
    "# Bitcoin price prediction "
   ]
  },
  {
   "cell_type": "markdown",
   "id": "c90b9745",
   "metadata": {},
   "source": [
    "# Split the data for training and testing \n",
    "# Training data can be 2021 \n",
    "# Test data can be 2022 or 30/60days\n",
    "# \n",
    "# Time series need to use linear regression method \n",
    "# autoregressive integrated moving average (ARIMA) method for forecasting time series assumes stationarity\n",
    "# cannot use cross val/ k fold method as it will jumble up the time series \n",
    "# if i have more time, get data from other source then will affect the bitcoin price "
   ]
  },
  {
   "cell_type": "code",
   "execution_count": 9,
   "id": "a4c377cb",
   "metadata": {},
   "outputs": [
    {
     "name": "stdout",
     "output_type": "stream",
     "text": [
      "Collecting pandas==1.3.5Note: you may need to restart the kernel to use updated packages.\n"
     ]
    },
    {
     "name": "stderr",
     "output_type": "stream",
     "text": [
      "ERROR: Could not install packages due to an OSError: [WinError 5] Access is denied: 'C:\\\\Users\\\\user\\\\.conda\\\\envs\\\\Deep_learning\\\\Lib\\\\site-packages\\\\~andas\\\\_libs\\\\algos.cp38-win_amd64.pyd'\n",
      "Consider using the `--user` option or check the permissions.\n",
      "\n"
     ]
    },
    {
     "name": "stdout",
     "output_type": "stream",
     "text": [
      "\n",
      "  Downloading pandas-1.3.5-cp38-cp38-win_amd64.whl (10.2 MB)\n",
      "Requirement already satisfied: python-dateutil>=2.7.3 in c:\\users\\user\\.conda\\envs\\deep_learning\\lib\\site-packages (from pandas==1.3.5) (2.8.2)\n",
      "Requirement already satisfied: numpy>=1.17.3 in c:\\users\\user\\.conda\\envs\\deep_learning\\lib\\site-packages (from pandas==1.3.5) (1.22.2)\n",
      "Requirement already satisfied: pytz>=2017.3 in c:\\users\\user\\.conda\\envs\\deep_learning\\lib\\site-packages (from pandas==1.3.5) (2021.3)\n",
      "Requirement already satisfied: six>=1.5 in c:\\users\\user\\.conda\\envs\\deep_learning\\lib\\site-packages (from python-dateutil>=2.7.3->pandas==1.3.5) (1.16.0)\n",
      "Installing collected packages: pandas\n",
      "  Attempting uninstall: pandas\n",
      "    Found existing installation: pandas 1.4.1\n",
      "    Uninstalling pandas-1.4.1:\n",
      "      Successfully uninstalled pandas-1.4.1\n"
     ]
    }
   ],
   "source": [
    "# pip install pandas==1.3.5"
   ]
  },
  {
   "cell_type": "code",
   "execution_count": 3,
   "id": "a0da25dc",
   "metadata": {},
   "outputs": [
    {
     "name": "stdout",
     "output_type": "stream",
     "text": [
      "Requirement already satisfied: yfinance in c:\\users\\user\\appdata\\roaming\\python\\python38\\site-packages (0.1.69)Note: you may need to restart the kernel to use updated packages.\n",
      "Collecting lxml>=4.5.1\n",
      "  Downloading lxml-4.8.0-cp38-cp38-win_amd64.whl (3.6 MB)\n",
      "Requirement already satisfied: numpy>=1.15 in c:\\users\\user\\.conda\\envs\\deep_learning\\lib\\site-packages (from yfinance) (1.22.2)\n",
      "Requirement already satisfied: requests>=2.26 in c:\\users\\user\\appdata\\roaming\\python\\python38\\site-packages (from yfinance) (2.27.1)\n",
      "Requirement already satisfied: pandas>=0.24 in c:\\users\\user\\.conda\\envs\\deep_learning\\lib\\site-packages (from yfinance) (1.4.1)\n",
      "Collecting multitasking>=0.0.7\n",
      "\n",
      "  Using cached multitasking-0.0.10-py3-none-any.whl\n",
      "Requirement already satisfied: python-dateutil>=2.8.1 in c:\\users\\user\\.conda\\envs\\deep_learning\\lib\\site-packages (from pandas>=0.24->yfinance) (2.8.2)\n",
      "Requirement already satisfied: pytz>=2020.1 in c:\\users\\user\\.conda\\envs\\deep_learning\\lib\\site-packages (from pandas>=0.24->yfinance) (2021.3)\n",
      "Requirement already satisfied: six>=1.5 in c:\\users\\user\\.conda\\envs\\deep_learning\\lib\\site-packages (from python-dateutil>=2.8.1->pandas>=0.24->yfinance) (1.16.0)\n",
      "Requirement already satisfied: idna<4,>=2.5 in c:\\users\\user\\.conda\\envs\\deep_learning\\lib\\site-packages (from requests>=2.26->yfinance) (3.3)\n",
      "Requirement already satisfied: certifi>=2017.4.17 in c:\\users\\user\\.conda\\envs\\deep_learning\\lib\\site-packages (from requests>=2.26->yfinance) (2021.10.8)\n",
      "Requirement already satisfied: urllib3<1.27,>=1.21.1 in c:\\users\\user\\.conda\\envs\\deep_learning\\lib\\site-packages (from requests>=2.26->yfinance) (1.26.8)\n",
      "Requirement already satisfied: charset-normalizer~=2.0.0 in c:\\users\\user\\.conda\\envs\\deep_learning\\lib\\site-packages (from requests>=2.26->yfinance) (2.0.11)\n",
      "Installing collected packages: multitasking, lxml\n",
      "Successfully installed lxml-4.8.0 multitasking-0.0.10\n"
     ]
    }
   ],
   "source": [
    "# pip install yfinance"
   ]
  },
  {
   "cell_type": "code",
   "execution_count": 1,
   "id": "57a5e45c",
   "metadata": {},
   "outputs": [],
   "source": [
    "import numpy as np\n",
    "import pandas as pd\n",
    "import datetime as dt\n",
    "import seaborn as sns\n",
    "\n",
    "%matplotlib inline\n",
    "import matplotlib.pyplot as plt\n",
    "import matplotlib.gridspec as gridspec\n",
    "\n",
    "from sklearn import linear_model\n",
    "from sklearn.ensemble import RandomForestClassifier\n",
    "from sklearn.linear_model import LogisticRegression\n",
    "from sklearn.model_selection import train_test_split\n",
    "from sklearn.naive_bayes import GaussianNB \n",
    "from sklearn.neighbors import KNeighborsClassifier\n",
    "from sklearn.preprocessing import StandardScaler\n",
    "from sklearn.preprocessing import MinMaxScaler\n",
    "from sklearn.tree import DecisionTreeClassifier\n",
    "from sklearn.pipeline import Pipeline\n",
    "from sklearn import svm\n",
    "from xgboost import XGBClassifier\n",
    "from sklearn.metrics import plot_confusion_matrix\n",
    "\n",
    "\n",
    "from mlxtend.classifier import StackingClassifier\n",
    "from mlxtend.plotting import plot_learning_curves\n",
    "from mlxtend.plotting import plot_decision_regions"
   ]
  },
  {
   "cell_type": "code",
   "execution_count": 2,
   "id": "889c2b74",
   "metadata": {},
   "outputs": [],
   "source": [
    "import yfinance as yf\n"
   ]
  },
  {
   "cell_type": "code",
   "execution_count": 4,
   "id": "00ff0351",
   "metadata": {},
   "outputs": [],
   "source": [
    "ticker = yf.Ticker('BTC-USD')\n",
    "BTC_df = ticker.history(period=\"max\")\n",
    "\n"
   ]
  },
  {
   "cell_type": "code",
   "execution_count": 5,
   "id": "0c4ba852",
   "metadata": {},
   "outputs": [],
   "source": [
    "BTC_df.reset_index(inplace=True)"
   ]
  },
  {
   "cell_type": "code",
   "execution_count": null,
   "id": "4b68625e",
   "metadata": {},
   "outputs": [],
   "source": [
    "BTC_df"
   ]
  },
  {
   "cell_type": "code",
   "execution_count": null,
   "id": "9743f6ad",
   "metadata": {},
   "outputs": [],
   "source": [
    "fig, ax = plt.subplots(figsize=(20, 10))\n",
    "ax.plot(BTC_df['Date'],BTC_df['Close'], color='steelblue')\n",
    "ax.set_xlabel('Date', fontsize = 16)\n",
    "ax.set_ylabel('Price', fontsize = 16)\n",
    "ax.set_title('Bitcoin Price', fontsize = 20)"
   ]
  },
  {
   "cell_type": "code",
   "execution_count": null,
   "id": "152af5a5",
   "metadata": {},
   "outputs": [],
   "source": [
    "BTC_df.drop(['Dividends', 'Stock Splits'], axis = 1, inplace= True)"
   ]
  },
  {
   "cell_type": "code",
   "execution_count": null,
   "id": "69060fcc",
   "metadata": {},
   "outputs": [],
   "source": [
    "BTC_df.info()"
   ]
  },
  {
   "cell_type": "code",
   "execution_count": null,
   "id": "d00f349e",
   "metadata": {},
   "outputs": [],
   "source": [
    "outcome = BTC_df['Close'] > BTC_df['Open']\n",
    "BTC_df['Profit_or_losses'] = outcome\n",
    "BTC_df['Profit_or_losses'] = BTC_df['Profit_or_losses'].replace(True, 1)\n",
    "BTC_df['Profit_or_losses'] = BTC_df['Profit_or_losses'].replace(False, 0)\n",
    "BTC_df"
   ]
  },
  {
   "cell_type": "code",
   "execution_count": null,
   "id": "59728c0c",
   "metadata": {},
   "outputs": [],
   "source": [
    "BTC_df.isnull().sum()"
   ]
  },
  {
   "cell_type": "code",
   "execution_count": null,
   "id": "b17b9bfa",
   "metadata": {},
   "outputs": [],
   "source": [
    "BTC_df.duplicated().sum()"
   ]
  },
  {
   "cell_type": "markdown",
   "id": "2f7c2b05",
   "metadata": {},
   "source": [
    "# Assign to the actual price "
   ]
  },
  {
   "cell_type": "code",
   "execution_count": null,
   "id": "d9b4ca19",
   "metadata": {},
   "outputs": [],
   "source": [
    "actual_price = BTC_df['Close'].values"
   ]
  },
  {
   "cell_type": "markdown",
   "id": "eda33418",
   "metadata": {},
   "source": [
    "# Feature Selection"
   ]
  },
  {
   "cell_type": "code",
   "execution_count": null,
   "id": "4d836837",
   "metadata": {},
   "outputs": [],
   "source": [
    "BTC_df"
   ]
  },
  {
   "cell_type": "code",
   "execution_count": null,
   "id": "4b7e9f6d",
   "metadata": {},
   "outputs": [],
   "source": [
    "feat = BTC_df.columns[1,2,3,5,6]\n",
    "X = BTC_df[feat]\n",
    "y = BTC_df['Close']"
   ]
  },
  {
   "cell_type": "code",
   "execution_count": null,
   "id": "197f7ec9",
   "metadata": {},
   "outputs": [],
   "source": [
    "feat = BTC_df.columns[1:6]\n",
    "X = BTC_df[feat]\n",
    "y = BTC_df['Profit_or_losses']"
   ]
  },
  {
   "cell_type": "code",
   "execution_count": null,
   "id": "099eb8f1",
   "metadata": {},
   "outputs": [],
   "source": [
    "# from tqdm import tqdm \n",
    "# train_window = 500\n",
    "# test_window = 100\n",
    "# train_splits = []\n",
    "# test_splits = []\n",
    "# for i in tqdm(range(train_window, len(BTC_df),test_window)):\n",
    "#     train_split = final_df[i-train_window:i]\n",
    "#     test_split = final_df[i:i+test_window]\n",
    "#     train_splits.append(train_split)\n",
    "#     test_splits.append(test_split)\n",
    "\n"
   ]
  },
  {
   "cell_type": "code",
   "execution_count": null,
   "id": "ecc27f5d",
   "metadata": {},
   "outputs": [],
   "source": [
    "scaler = StandardScaler()\n",
    "scaled_X = scaler.fit_transform(X)"
   ]
  },
  {
   "cell_type": "code",
   "execution_count": null,
   "id": "a75231b0",
   "metadata": {},
   "outputs": [],
   "source": [
    "training_days = pd.date_range(start=\"2014-09-17\",end=\"2021-12-31\")\n",
    "num_training_days = len(training_days)\n",
    "num_training_days"
   ]
  },
  {
   "cell_type": "code",
   "execution_count": null,
   "id": "db0f9f25",
   "metadata": {},
   "outputs": [],
   "source": [
    "X_train = scaled_X[:num_training_days]\n",
    "y_train = y[:num_training_days]\n",
    "X_test = scaled_X[num_training_days:]\n",
    "y_test = y[num_training_days:]"
   ]
  },
  {
   "cell_type": "code",
   "execution_count": null,
   "id": "f35bba1a",
   "metadata": {},
   "outputs": [],
   "source": [
    "# prediction_test_day = 7\n",
    "# X_train = X[:-prediction_test_day]\n",
    "# y_train = y[:-prediction_test_day]\n",
    "# X_test = X[-prediction_test_day:]\n",
    "# y_test = y[-prediction_test_day:]\n"
   ]
  },
  {
   "cell_type": "markdown",
   "id": "450ad0e3",
   "metadata": {},
   "source": [
    "# using minmaxscaler "
   ]
  },
  {
   "cell_type": "code",
   "execution_count": null,
   "id": "4129ca75",
   "metadata": {},
   "outputs": [],
   "source": [
    "# minmax_scaler = MinMaxScaler()\n",
    "# scaler_mm = minmax_scaler.fit_transform(X)\n",
    "# X_train_mm = scaler_mm[:-prediction_days]\n",
    "# y_train_mm = y[:-prediction_days]\n",
    "# X_test_mm = scaler_mm[-prediction_days:]\n",
    "# y_test_mm = y[-prediction_days:]"
   ]
  },
  {
   "cell_type": "markdown",
   "id": "580d2d12",
   "metadata": {},
   "source": [
    "# in order to understand the price different day to day\n",
    "# i will open a new column to check the price different day 2 - day 1"
   ]
  },
  {
   "cell_type": "code",
   "execution_count": null,
   "id": "2c5b5ca9",
   "metadata": {},
   "outputs": [],
   "source": [
    "# BTC_df['Close_different'] = BTC_df['Close'] - BTC_df['Close'].shift()\n",
    "# BTC_df"
   ]
  },
  {
   "cell_type": "code",
   "execution_count": null,
   "id": "548664e2",
   "metadata": {},
   "outputs": [],
   "source": [
    "# Add  1 more column name prediction \n",
    "# BTC_df['prediction'] = BTC_df['Close'].shift(-7)"
   ]
  },
  {
   "cell_type": "code",
   "execution_count": null,
   "id": "a9666686",
   "metadata": {},
   "outputs": [],
   "source": [
    "# BTC_df"
   ]
  },
  {
   "cell_type": "markdown",
   "id": "995455a0",
   "metadata": {},
   "source": [
    "# Model Selection using different model to try out the data"
   ]
  },
  {
   "cell_type": "code",
   "execution_count": null,
   "id": "719dacc4",
   "metadata": {},
   "outputs": [],
   "source": [
    "# scoring = 'accuracy'\n",
    "# Append the models to the models list\n",
    "models = []\n",
    "models.append(('LR' , LogisticRegression()))\n",
    "models.append(('KNN' , KNeighborsClassifier()))\n",
    "models.append(('Decision_Tree' , DecisionTreeClassifier()))\n",
    "# models.append(('NB' , GaussianNB()))\n",
    "models.append(('SVM' , svm.SVC(kernel='rbf')))\n",
    "models.append(('RF' , RandomForestClassifier(n_estimators=50)))\n",
    "models.append(('XGBoost', XGBClassifier()))"
   ]
  },
  {
   "cell_type": "code",
   "execution_count": null,
   "id": "ec0906d6",
   "metadata": {},
   "outputs": [],
   "source": [
    "from sklearn.metrics import classification_report, confusion_matrix, accuracy_score, mean_squared_error\n",
    "from sklearn.metrics import precision_score,recall_score, confusion_matrix, classification_report,accuracy_score, f1_score"
   ]
  },
  {
   "cell_type": "code",
   "execution_count": null,
   "id": "e6e26dae",
   "metadata": {},
   "outputs": [],
   "source": [
    "results = []\n",
    "names = []\n",
    "\n",
    "\n",
    "for name, model in models:\n",
    "    clf = model\n",
    "    clf.fit(X_train, y_train)\n",
    "    y_pred = clf.predict(X_test)\n",
    "    accu_score = accuracy_score(y_test, y_pred)\n",
    "    F1_score=f1_score(y_test, y_pred)\n",
    "    Recall=recall_score(y_test, y_pred)\n",
    "    Precision=precision_score(y_test, y_pred)\n",
    "    results= pd.crosstab(y_test, y_pred, rownames=['Actual'], colnames=['Predicted'], margins=False)\n",
    "    print( \"Model :\" + name)\n",
    "    print ('Accuracy Score :',accuracy_score(y_test,y_pred))\n",
    "    print('f1 Score'+\": \" + str(F1_score))\n",
    "    print('Recall' + \": \" + str(Recall))\n",
    "    print('precision' + \": \" + str(Precision))\n",
    "    print ('Confusion Matrix :')\n",
    "    sns.heatmap(results, annot=True)\n",
    "    plt.show() \n",
    "#     print(model.feature_importances_)\n",
    "    print(classification_report(y_test,y_pred))"
   ]
  },
  {
   "cell_type": "code",
   "execution_count": null,
   "id": "286dd00e",
   "metadata": {},
   "outputs": [],
   "source": [
    "# confusion matrix \n",
    "plot_confusion_matrix(model, X_test, y_test)\n",
    "plt.show"
   ]
  },
  {
   "cell_type": "code",
   "execution_count": null,
   "id": "ae50cf41",
   "metadata": {},
   "outputs": [],
   "source": []
  },
  {
   "cell_type": "markdown",
   "id": "354d2339",
   "metadata": {},
   "source": [
    "# another method "
   ]
  },
  {
   "cell_type": "code",
   "execution_count": 3,
   "id": "83152377",
   "metadata": {},
   "outputs": [
    {
     "data": {
      "text/html": [
       "<div>\n",
       "<style scoped>\n",
       "    .dataframe tbody tr th:only-of-type {\n",
       "        vertical-align: middle;\n",
       "    }\n",
       "\n",
       "    .dataframe tbody tr th {\n",
       "        vertical-align: top;\n",
       "    }\n",
       "\n",
       "    .dataframe thead th {\n",
       "        text-align: right;\n",
       "    }\n",
       "</style>\n",
       "<table border=\"1\" class=\"dataframe\">\n",
       "  <thead>\n",
       "    <tr style=\"text-align: right;\">\n",
       "      <th></th>\n",
       "      <th>Open</th>\n",
       "      <th>High</th>\n",
       "      <th>Low</th>\n",
       "      <th>Close</th>\n",
       "      <th>Volume</th>\n",
       "      <th>Dividends</th>\n",
       "      <th>Stock Splits</th>\n",
       "    </tr>\n",
       "    <tr>\n",
       "      <th>Date</th>\n",
       "      <th></th>\n",
       "      <th></th>\n",
       "      <th></th>\n",
       "      <th></th>\n",
       "      <th></th>\n",
       "      <th></th>\n",
       "      <th></th>\n",
       "    </tr>\n",
       "  </thead>\n",
       "  <tbody>\n",
       "    <tr>\n",
       "      <th>2014-09-17</th>\n",
       "      <td>465.864014</td>\n",
       "      <td>468.174011</td>\n",
       "      <td>452.421997</td>\n",
       "      <td>457.334015</td>\n",
       "      <td>21056800</td>\n",
       "      <td>0</td>\n",
       "      <td>0</td>\n",
       "    </tr>\n",
       "    <tr>\n",
       "      <th>2014-09-18</th>\n",
       "      <td>456.859985</td>\n",
       "      <td>456.859985</td>\n",
       "      <td>413.104004</td>\n",
       "      <td>424.440002</td>\n",
       "      <td>34483200</td>\n",
       "      <td>0</td>\n",
       "      <td>0</td>\n",
       "    </tr>\n",
       "    <tr>\n",
       "      <th>2014-09-19</th>\n",
       "      <td>424.102997</td>\n",
       "      <td>427.834991</td>\n",
       "      <td>384.532013</td>\n",
       "      <td>394.795990</td>\n",
       "      <td>37919700</td>\n",
       "      <td>0</td>\n",
       "      <td>0</td>\n",
       "    </tr>\n",
       "    <tr>\n",
       "      <th>2014-09-20</th>\n",
       "      <td>394.673004</td>\n",
       "      <td>423.295990</td>\n",
       "      <td>389.882996</td>\n",
       "      <td>408.903992</td>\n",
       "      <td>36863600</td>\n",
       "      <td>0</td>\n",
       "      <td>0</td>\n",
       "    </tr>\n",
       "    <tr>\n",
       "      <th>2014-09-21</th>\n",
       "      <td>408.084991</td>\n",
       "      <td>412.425995</td>\n",
       "      <td>393.181000</td>\n",
       "      <td>398.821014</td>\n",
       "      <td>26580100</td>\n",
       "      <td>0</td>\n",
       "      <td>0</td>\n",
       "    </tr>\n",
       "    <tr>\n",
       "      <th>...</th>\n",
       "      <td>...</td>\n",
       "      <td>...</td>\n",
       "      <td>...</td>\n",
       "      <td>...</td>\n",
       "      <td>...</td>\n",
       "      <td>...</td>\n",
       "      <td>...</td>\n",
       "    </tr>\n",
       "    <tr>\n",
       "      <th>2022-03-04</th>\n",
       "      <td>42458.140625</td>\n",
       "      <td>42479.613281</td>\n",
       "      <td>38805.847656</td>\n",
       "      <td>39137.605469</td>\n",
       "      <td>28516271427</td>\n",
       "      <td>0</td>\n",
       "      <td>0</td>\n",
       "    </tr>\n",
       "    <tr>\n",
       "      <th>2022-03-05</th>\n",
       "      <td>39148.449219</td>\n",
       "      <td>39566.335938</td>\n",
       "      <td>38777.035156</td>\n",
       "      <td>39400.585938</td>\n",
       "      <td>16975917450</td>\n",
       "      <td>0</td>\n",
       "      <td>0</td>\n",
       "    </tr>\n",
       "    <tr>\n",
       "      <th>2022-03-06</th>\n",
       "      <td>39404.199219</td>\n",
       "      <td>39640.175781</td>\n",
       "      <td>38211.648438</td>\n",
       "      <td>38419.984375</td>\n",
       "      <td>19745229902</td>\n",
       "      <td>0</td>\n",
       "      <td>0</td>\n",
       "    </tr>\n",
       "    <tr>\n",
       "      <th>2022-03-07</th>\n",
       "      <td>38429.304688</td>\n",
       "      <td>39430.226562</td>\n",
       "      <td>37260.203125</td>\n",
       "      <td>38062.039062</td>\n",
       "      <td>28546143503</td>\n",
       "      <td>0</td>\n",
       "      <td>0</td>\n",
       "    </tr>\n",
       "    <tr>\n",
       "      <th>2022-03-09</th>\n",
       "      <td>38767.152344</td>\n",
       "      <td>39399.308594</td>\n",
       "      <td>38706.093750</td>\n",
       "      <td>39394.136719</td>\n",
       "      <td>26099062784</td>\n",
       "      <td>0</td>\n",
       "      <td>0</td>\n",
       "    </tr>\n",
       "  </tbody>\n",
       "</table>\n",
       "<p>2730 rows × 7 columns</p>\n",
       "</div>"
      ],
      "text/plain": [
       "                    Open          High           Low         Close  \\\n",
       "Date                                                                 \n",
       "2014-09-17    465.864014    468.174011    452.421997    457.334015   \n",
       "2014-09-18    456.859985    456.859985    413.104004    424.440002   \n",
       "2014-09-19    424.102997    427.834991    384.532013    394.795990   \n",
       "2014-09-20    394.673004    423.295990    389.882996    408.903992   \n",
       "2014-09-21    408.084991    412.425995    393.181000    398.821014   \n",
       "...                  ...           ...           ...           ...   \n",
       "2022-03-04  42458.140625  42479.613281  38805.847656  39137.605469   \n",
       "2022-03-05  39148.449219  39566.335938  38777.035156  39400.585938   \n",
       "2022-03-06  39404.199219  39640.175781  38211.648438  38419.984375   \n",
       "2022-03-07  38429.304688  39430.226562  37260.203125  38062.039062   \n",
       "2022-03-09  38767.152344  39399.308594  38706.093750  39394.136719   \n",
       "\n",
       "                 Volume  Dividends  Stock Splits  \n",
       "Date                                              \n",
       "2014-09-17     21056800          0             0  \n",
       "2014-09-18     34483200          0             0  \n",
       "2014-09-19     37919700          0             0  \n",
       "2014-09-20     36863600          0             0  \n",
       "2014-09-21     26580100          0             0  \n",
       "...                 ...        ...           ...  \n",
       "2022-03-04  28516271427          0             0  \n",
       "2022-03-05  16975917450          0             0  \n",
       "2022-03-06  19745229902          0             0  \n",
       "2022-03-07  28546143503          0             0  \n",
       "2022-03-09  26099062784          0             0  \n",
       "\n",
       "[2730 rows x 7 columns]"
      ]
     },
     "execution_count": 3,
     "metadata": {},
     "output_type": "execute_result"
    }
   ],
   "source": [
    "ticker = yf.Ticker('BTC-USD')\n",
    "df = ticker.history(period=\"max\")\n",
    "# df['High_Low_per'] = (df['High'] - df['Close']) / df['Close']*100\n",
    "# df['Per_change'] = (df['Open'] - df['Open']) / df['Close']*100\n",
    "df"
   ]
  },
  {
   "cell_type": "code",
   "execution_count": null,
   "id": "c604267e",
   "metadata": {},
   "outputs": [],
   "source": [
    "df = df[['Close','High_Low_per','Per_change','Volume']]"
   ]
  },
  {
   "cell_type": "code",
   "execution_count": null,
   "id": "def7005c",
   "metadata": {},
   "outputs": [],
   "source": [
    "label_col = 'Close'"
   ]
  },
  {
   "cell_type": "code",
   "execution_count": null,
   "id": "a32d52cd",
   "metadata": {},
   "outputs": [],
   "source": [
    "forecast_ceil = int(math.ceil(0.001*len(df)))\n",
    "forecast_ceil"
   ]
  },
  {
   "cell_type": "code",
   "execution_count": null,
   "id": "d42d779c",
   "metadata": {},
   "outputs": [],
   "source": [
    "#feaures X, labels Y\n",
    "X = np.array(df.drop(['label'],1))\n",
    "X = preprocessing.scale(X)\n",
    "X = X[:-forecast_ceil:]\n",
    "X_lately = X[-forecast_ceil:] #no y value"
   ]
  },
  {
   "cell_type": "code",
   "execution_count": null,
   "id": "26225c31",
   "metadata": {},
   "outputs": [],
   "source": [
    "df.dropna(inplace=True)"
   ]
  },
  {
   "cell_type": "code",
   "execution_count": null,
   "id": "45b63e70",
   "metadata": {},
   "outputs": [],
   "source": [
    "#X = X[:-forecast_out+1]#all the points \n",
    "y = np.array(df['label'])"
   ]
  },
  {
   "cell_type": "code",
   "execution_count": null,
   "id": "908e8d9e",
   "metadata": {},
   "outputs": [],
   "source": [
    "train_window = 500\n",
    "test_window = 100\n",
    "train_splits = []\n",
    "test_splits = []\n",
    "for i in tqdm(range(train_window, len(BTC_df),test_window)):\n",
    "    train_split = final_df[i-train_window:i]\n",
    "    test_split = final_df[i:i+test_window]\n",
    "    train_splits.append(train_split)\n",
    "    test_splits.append(test_split)"
   ]
  },
  {
   "cell_type": "code",
   "execution_count": null,
   "id": "4b5f4e03",
   "metadata": {},
   "outputs": [],
   "source": [
    "X_train, X_test, y_train, y_test = train_test_split(X,y,test_size=0.2, shuffle = None)"
   ]
  },
  {
   "cell_type": "code",
   "execution_count": null,
   "id": "8799c3b2",
   "metadata": {},
   "outputs": [],
   "source": [
    "clf = svm.SVR(kernel='rbf')"
   ]
  },
  {
   "cell_type": "code",
   "execution_count": null,
   "id": "2213730c",
   "metadata": {},
   "outputs": [],
   "source": [
    "clf.fit(X_train, y_train)"
   ]
  },
  {
   "cell_type": "code",
   "execution_count": null,
   "id": "d0a20f77",
   "metadata": {},
   "outputs": [],
   "source": [
    "accuracy = clf.score(X_test, y_test)"
   ]
  },
  {
   "cell_type": "code",
   "execution_count": null,
   "id": "28f548bc",
   "metadata": {},
   "outputs": [],
   "source": [
    "print(accuracy)"
   ]
  },
  {
   "cell_type": "code",
   "execution_count": null,
   "id": "00623435",
   "metadata": {},
   "outputs": [],
   "source": [
    "forecast_set = clf.predict(X_lately)\n",
    "forecast_out = []"
   ]
  },
  {
   "cell_type": "code",
   "execution_count": null,
   "id": "29b1a74e",
   "metadata": {},
   "outputs": [],
   "source": [
    "print(forecast_set, accuracy, forecast_out)"
   ]
  },
  {
   "cell_type": "code",
   "execution_count": null,
   "id": "011412db",
   "metadata": {},
   "outputs": [],
   "source": [
    "df['Forecast'] = np.nan"
   ]
  },
  {
   "cell_type": "code",
   "execution_count": null,
   "id": "fb36a573",
   "metadata": {},
   "outputs": [],
   "source": [
    "from matplotlib.pyplot import figure\n",
    "figure(num=None, figsize=(40, 20), dpi=160, facecolor='w', edgecolor='k')\n",
    "df['Close'].plot()\n",
    "df['Forecast'].plot()\n",
    "plt.legend(loc=4)\n",
    "plt.xlabel('Date')\n",
    "plt.ylabel('Price')\n",
    "plt.show()"
   ]
  },
  {
   "cell_type": "code",
   "execution_count": null,
   "id": "821f5621",
   "metadata": {},
   "outputs": [],
   "source": []
  },
  {
   "cell_type": "markdown",
   "id": "9ccafd0c",
   "metadata": {},
   "source": [
    "# Another method "
   ]
  },
  {
   "cell_type": "code",
   "execution_count": null,
   "id": "3948b43f",
   "metadata": {},
   "outputs": [],
   "source": [
    "# new_data = pd.DataFrame(index=range(0,len(df)),columns=['Date', 'Close','Open', 'High', 'Low', 'Volume'])"
   ]
  },
  {
   "cell_type": "code",
   "execution_count": 4,
   "id": "f296e8e4",
   "metadata": {},
   "outputs": [],
   "source": [
    "new_data = pd.DataFrame(index=range(0,len(df)),columns=['Close','Open', 'High', 'Low', 'Volume'])"
   ]
  },
  {
   "cell_type": "code",
   "execution_count": 5,
   "id": "c4ce588a",
   "metadata": {},
   "outputs": [],
   "source": [
    "df.reset_index(inplace=True)"
   ]
  },
  {
   "cell_type": "code",
   "execution_count": 6,
   "id": "6f1b2b59",
   "metadata": {},
   "outputs": [],
   "source": [
    "df.drop(['Dividends', 'Stock Splits'], axis = 1, inplace= True)"
   ]
  },
  {
   "cell_type": "code",
   "execution_count": 7,
   "id": "c4943c4c",
   "metadata": {},
   "outputs": [
    {
     "name": "stdout",
     "output_type": "stream",
     "text": [
      "<class 'pandas.core.frame.DataFrame'>\n",
      "RangeIndex: 2730 entries, 0 to 2729\n",
      "Data columns (total 6 columns):\n",
      " #   Column  Non-Null Count  Dtype         \n",
      "---  ------  --------------  -----         \n",
      " 0   Date    2730 non-null   datetime64[ns]\n",
      " 1   Open    2730 non-null   float64       \n",
      " 2   High    2730 non-null   float64       \n",
      " 3   Low     2730 non-null   float64       \n",
      " 4   Close   2730 non-null   float64       \n",
      " 5   Volume  2730 non-null   int64         \n",
      "dtypes: datetime64[ns](1), float64(4), int64(1)\n",
      "memory usage: 128.1 KB\n"
     ]
    }
   ],
   "source": [
    "df.info()"
   ]
  },
  {
   "cell_type": "code",
   "execution_count": 8,
   "id": "40ad036c",
   "metadata": {
    "scrolled": true
   },
   "outputs": [],
   "source": [
    "for i in range(0,len(df)):\n",
    "   # new_data['Date'][i] = df['Date'][i]\n",
    "    new_data['Close'][i] = df['Close'][i]\n",
    "    new_data['Open'][i] = df['Open'][i]\n",
    "    new_data['High'][i] = df['High'][i]\n",
    "    new_data['Low'][i] = df['Low'][i]\n",
    "    new_data['Volume'][i] = df['Volume'][i]\n",
    "    "
   ]
  },
  {
   "cell_type": "code",
   "execution_count": 9,
   "id": "225e469a",
   "metadata": {},
   "outputs": [
    {
     "data": {
      "text/html": [
       "<div>\n",
       "<style scoped>\n",
       "    .dataframe tbody tr th:only-of-type {\n",
       "        vertical-align: middle;\n",
       "    }\n",
       "\n",
       "    .dataframe tbody tr th {\n",
       "        vertical-align: top;\n",
       "    }\n",
       "\n",
       "    .dataframe thead th {\n",
       "        text-align: right;\n",
       "    }\n",
       "</style>\n",
       "<table border=\"1\" class=\"dataframe\">\n",
       "  <thead>\n",
       "    <tr style=\"text-align: right;\">\n",
       "      <th></th>\n",
       "      <th>Close</th>\n",
       "      <th>Open</th>\n",
       "      <th>High</th>\n",
       "      <th>Low</th>\n",
       "      <th>Volume</th>\n",
       "    </tr>\n",
       "  </thead>\n",
       "  <tbody>\n",
       "    <tr>\n",
       "      <th>0</th>\n",
       "      <td>457.334015</td>\n",
       "      <td>465.864014</td>\n",
       "      <td>468.174011</td>\n",
       "      <td>452.421997</td>\n",
       "      <td>21056800</td>\n",
       "    </tr>\n",
       "    <tr>\n",
       "      <th>1</th>\n",
       "      <td>424.440002</td>\n",
       "      <td>456.859985</td>\n",
       "      <td>456.859985</td>\n",
       "      <td>413.104004</td>\n",
       "      <td>34483200</td>\n",
       "    </tr>\n",
       "    <tr>\n",
       "      <th>2</th>\n",
       "      <td>394.79599</td>\n",
       "      <td>424.102997</td>\n",
       "      <td>427.834991</td>\n",
       "      <td>384.532013</td>\n",
       "      <td>37919700</td>\n",
       "    </tr>\n",
       "    <tr>\n",
       "      <th>3</th>\n",
       "      <td>408.903992</td>\n",
       "      <td>394.673004</td>\n",
       "      <td>423.29599</td>\n",
       "      <td>389.882996</td>\n",
       "      <td>36863600</td>\n",
       "    </tr>\n",
       "    <tr>\n",
       "      <th>4</th>\n",
       "      <td>398.821014</td>\n",
       "      <td>408.084991</td>\n",
       "      <td>412.425995</td>\n",
       "      <td>393.181</td>\n",
       "      <td>26580100</td>\n",
       "    </tr>\n",
       "    <tr>\n",
       "      <th>...</th>\n",
       "      <td>...</td>\n",
       "      <td>...</td>\n",
       "      <td>...</td>\n",
       "      <td>...</td>\n",
       "      <td>...</td>\n",
       "    </tr>\n",
       "    <tr>\n",
       "      <th>2725</th>\n",
       "      <td>39137.605469</td>\n",
       "      <td>42458.140625</td>\n",
       "      <td>42479.613281</td>\n",
       "      <td>38805.847656</td>\n",
       "      <td>28516271427</td>\n",
       "    </tr>\n",
       "    <tr>\n",
       "      <th>2726</th>\n",
       "      <td>39400.585938</td>\n",
       "      <td>39148.449219</td>\n",
       "      <td>39566.335938</td>\n",
       "      <td>38777.035156</td>\n",
       "      <td>16975917450</td>\n",
       "    </tr>\n",
       "    <tr>\n",
       "      <th>2727</th>\n",
       "      <td>38419.984375</td>\n",
       "      <td>39404.199219</td>\n",
       "      <td>39640.175781</td>\n",
       "      <td>38211.648438</td>\n",
       "      <td>19745229902</td>\n",
       "    </tr>\n",
       "    <tr>\n",
       "      <th>2728</th>\n",
       "      <td>38062.039062</td>\n",
       "      <td>38429.304688</td>\n",
       "      <td>39430.226562</td>\n",
       "      <td>37260.203125</td>\n",
       "      <td>28546143503</td>\n",
       "    </tr>\n",
       "    <tr>\n",
       "      <th>2729</th>\n",
       "      <td>39394.136719</td>\n",
       "      <td>38767.152344</td>\n",
       "      <td>39399.308594</td>\n",
       "      <td>38706.09375</td>\n",
       "      <td>26099062784</td>\n",
       "    </tr>\n",
       "  </tbody>\n",
       "</table>\n",
       "<p>2730 rows × 5 columns</p>\n",
       "</div>"
      ],
      "text/plain": [
       "             Close          Open          High           Low       Volume\n",
       "0       457.334015    465.864014    468.174011    452.421997     21056800\n",
       "1       424.440002    456.859985    456.859985    413.104004     34483200\n",
       "2        394.79599    424.102997    427.834991    384.532013     37919700\n",
       "3       408.903992    394.673004     423.29599    389.882996     36863600\n",
       "4       398.821014    408.084991    412.425995       393.181     26580100\n",
       "...            ...           ...           ...           ...          ...\n",
       "2725  39137.605469  42458.140625  42479.613281  38805.847656  28516271427\n",
       "2726  39400.585938  39148.449219  39566.335938  38777.035156  16975917450\n",
       "2727  38419.984375  39404.199219  39640.175781  38211.648438  19745229902\n",
       "2728  38062.039062  38429.304688  39430.226562  37260.203125  28546143503\n",
       "2729  39394.136719  38767.152344  39399.308594   38706.09375  26099062784\n",
       "\n",
       "[2730 rows x 5 columns]"
      ]
     },
     "execution_count": 9,
     "metadata": {},
     "output_type": "execute_result"
    }
   ],
   "source": [
    "new_data"
   ]
  },
  {
   "cell_type": "code",
   "execution_count": 10,
   "id": "4b098e74",
   "metadata": {},
   "outputs": [
    {
     "data": {
      "text/plain": [
       "2663"
      ]
     },
     "execution_count": 10,
     "metadata": {},
     "output_type": "execute_result"
    }
   ],
   "source": [
    "training_days = pd.date_range(start=\"2014-09-17\",end=\"2021-12-31\")\n",
    "num_training_days = len(training_days)\n",
    "num_training_days"
   ]
  },
  {
   "cell_type": "code",
   "execution_count": 11,
   "id": "f98d73ea",
   "metadata": {},
   "outputs": [],
   "source": [
    "train = new_data[:num_training_days]\n",
    "valid = new_data[num_training_days:]"
   ]
  },
  {
   "cell_type": "code",
   "execution_count": 16,
   "id": "e564e6c2",
   "metadata": {},
   "outputs": [
    {
     "data": {
      "text/plain": [
       "2663"
      ]
     },
     "execution_count": 16,
     "metadata": {},
     "output_type": "execute_result"
    }
   ],
   "source": [
    "len(train)"
   ]
  },
  {
   "cell_type": "code",
   "execution_count": 17,
   "id": "b914dda8",
   "metadata": {},
   "outputs": [
    {
     "data": {
      "text/plain": [
       "67"
      ]
     },
     "execution_count": 17,
     "metadata": {},
     "output_type": "execute_result"
    }
   ],
   "source": [
    "len(valid)"
   ]
  },
  {
   "cell_type": "code",
   "execution_count": 35,
   "id": "67bc6d74",
   "metadata": {},
   "outputs": [
    {
     "ename": "IndexError",
     "evalue": "only integers, slices (`:`), ellipsis (`...`), numpy.newaxis (`None`) and integer or boolean arrays are valid indices",
     "output_type": "error",
     "traceback": [
      "\u001b[1;31m---------------------------------------------------------------------------\u001b[0m",
      "\u001b[1;31mIndexError\u001b[0m                                Traceback (most recent call last)",
      "\u001b[1;32m~\\AppData\\Local\\Temp/ipykernel_11844/794310520.py\u001b[0m in \u001b[0;36m<module>\u001b[1;34m\u001b[0m\n\u001b[0;32m      1\u001b[0m \u001b[0mpreds\u001b[0m \u001b[1;33m=\u001b[0m \u001b[1;33m[\u001b[0m\u001b[1;33m]\u001b[0m\u001b[1;33m\u001b[0m\u001b[1;33m\u001b[0m\u001b[0m\n\u001b[0;32m      2\u001b[0m \u001b[1;32mfor\u001b[0m \u001b[0mi\u001b[0m \u001b[1;32min\u001b[0m \u001b[0mrange\u001b[0m\u001b[1;33m(\u001b[0m\u001b[1;36m0\u001b[0m\u001b[1;33m,\u001b[0m\u001b[0mvalid\u001b[0m\u001b[1;33m.\u001b[0m\u001b[0mshape\u001b[0m\u001b[1;33m[\u001b[0m\u001b[1;36m0\u001b[0m\u001b[1;33m]\u001b[0m\u001b[1;33m)\u001b[0m\u001b[1;33m:\u001b[0m\u001b[1;33m\u001b[0m\u001b[1;33m\u001b[0m\u001b[0m\n\u001b[1;32m----> 3\u001b[1;33m     \u001b[0ma\u001b[0m \u001b[1;33m=\u001b[0m \u001b[0mtrain\u001b[0m\u001b[1;33m[\u001b[0m\u001b[1;34m'Close'\u001b[0m\u001b[1;33m]\u001b[0m\u001b[1;33m[\u001b[0m\u001b[0mlen\u001b[0m\u001b[1;33m(\u001b[0m\u001b[0mtrain\u001b[0m\u001b[1;33m)\u001b[0m\u001b[1;33m-\u001b[0m\u001b[1;36m67\u001b[0m\u001b[1;33m+\u001b[0m\u001b[0mi\u001b[0m\u001b[1;33m:\u001b[0m\u001b[1;33m]\u001b[0m\u001b[1;33m.\u001b[0m\u001b[0msum\u001b[0m\u001b[1;33m(\u001b[0m\u001b[1;33m)\u001b[0m \u001b[1;33m+\u001b[0m \u001b[0msum\u001b[0m\u001b[1;33m(\u001b[0m\u001b[0mpreds\u001b[0m\u001b[1;33m)\u001b[0m\u001b[1;33m\u001b[0m\u001b[1;33m\u001b[0m\u001b[0m\n\u001b[0m\u001b[0;32m      4\u001b[0m     \u001b[0mb\u001b[0m \u001b[1;33m=\u001b[0m \u001b[0ma\u001b[0m\u001b[1;33m/\u001b[0m\u001b[0mlen\u001b[0m\u001b[1;33m(\u001b[0m\u001b[0mvalid\u001b[0m\u001b[1;33m)\u001b[0m\u001b[1;33m\u001b[0m\u001b[1;33m\u001b[0m\u001b[0m\n\u001b[0;32m      5\u001b[0m     \u001b[0mpreds\u001b[0m\u001b[1;33m.\u001b[0m\u001b[0mappend\u001b[0m\u001b[1;33m(\u001b[0m\u001b[0mb\u001b[0m\u001b[1;33m)\u001b[0m\u001b[1;33m\u001b[0m\u001b[1;33m\u001b[0m\u001b[0m\n",
      "\u001b[1;31mIndexError\u001b[0m: only integers, slices (`:`), ellipsis (`...`), numpy.newaxis (`None`) and integer or boolean arrays are valid indices"
     ]
    }
   ],
   "source": [
    "preds = []\n",
    "for i in range(0,valid.shape[0]):\n",
    "    a = train['Close'][len(train)-67+i:].sum() + sum(preds)\n",
    "    b = a/len(valid)\n",
    "    preds.append(b)"
   ]
  },
  {
   "cell_type": "code",
   "execution_count": 16,
   "id": "94a8dba4",
   "metadata": {},
   "outputs": [
    {
     "name": "stdout",
     "output_type": "stream",
     "text": [
      "\n",
      " RMSE value on validation set:\n",
      "5598.507300672664\n"
     ]
    }
   ],
   "source": [
    "rms=np.sqrt(np.mean(np.power((np.array(valid['Close'])-preds),2)))\n",
    "print('\\n RMSE value on validation set:')\n",
    "print(rms)"
   ]
  },
  {
   "cell_type": "code",
   "execution_count": 17,
   "id": "9b0a637a",
   "metadata": {},
   "outputs": [
    {
     "name": "stderr",
     "output_type": "stream",
     "text": [
      "C:\\Users\\user\\AppData\\Local\\Temp/ipykernel_6120/1961249716.py:3: SettingWithCopyWarning: \n",
      "A value is trying to be set on a copy of a slice from a DataFrame.\n",
      "Try using .loc[row_indexer,col_indexer] = value instead\n",
      "\n",
      "See the caveats in the documentation: https://pandas.pydata.org/pandas-docs/stable/user_guide/indexing.html#returning-a-view-versus-a-copy\n",
      "  valid['Predictions'] = 0\n",
      "C:\\Users\\user\\AppData\\Local\\Temp/ipykernel_6120/1961249716.py:4: SettingWithCopyWarning: \n",
      "A value is trying to be set on a copy of a slice from a DataFrame.\n",
      "Try using .loc[row_indexer,col_indexer] = value instead\n",
      "\n",
      "See the caveats in the documentation: https://pandas.pydata.org/pandas-docs/stable/user_guide/indexing.html#returning-a-view-versus-a-copy\n",
      "  valid['Predictions'] = preds\n"
     ]
    },
    {
     "data": {
      "text/plain": [
       "[<matplotlib.lines.Line2D at 0x2b371c76910>,\n",
       " <matplotlib.lines.Line2D at 0x2b371c769a0>]"
      ]
     },
     "execution_count": 17,
     "metadata": {},
     "output_type": "execute_result"
    },
    {
     "data": {
      "image/png": "[encoded data removed]",
      "text/plain": [
       "<Figure size 1440x720 with 1 Axes>"
      ]
     },
     "metadata": {
      "needs_background": "light"
     },
     "output_type": "display_data"
    }
   ],
   "source": [
    "#plot\n",
    "plt.figure(figsize = (20, 10))\n",
    "valid['Predictions'] = 0\n",
    "valid['Predictions'] = preds\n",
    "plt.plot(train['Close'], color='steelblue')\n",
    "plt.plot(valid[['Close', 'Predictions']], color= 'red')"
   ]
  },
  {
   "cell_type": "markdown",
   "id": "d9c2eb02",
   "metadata": {},
   "source": [
    "# Linear Regression "
   ]
  },
  {
   "cell_type": "code",
   "execution_count": 17,
   "id": "c26ffe57",
   "metadata": {},
   "outputs": [
    {
     "data": {
      "text/html": [
       "<div>\n",
       "<style scoped>\n",
       "    .dataframe tbody tr th:only-of-type {\n",
       "        vertical-align: middle;\n",
       "    }\n",
       "\n",
       "    .dataframe tbody tr th {\n",
       "        vertical-align: top;\n",
       "    }\n",
       "\n",
       "    .dataframe thead th {\n",
       "        text-align: right;\n",
       "    }\n",
       "</style>\n",
       "<table border=\"1\" class=\"dataframe\">\n",
       "  <thead>\n",
       "    <tr style=\"text-align: right;\">\n",
       "      <th></th>\n",
       "      <th>Close</th>\n",
       "      <th>Open</th>\n",
       "      <th>High</th>\n",
       "      <th>Low</th>\n",
       "      <th>Volume</th>\n",
       "    </tr>\n",
       "  </thead>\n",
       "  <tbody>\n",
       "    <tr>\n",
       "      <th>0</th>\n",
       "      <td>457.334015</td>\n",
       "      <td>465.864014</td>\n",
       "      <td>468.174011</td>\n",
       "      <td>452.421997</td>\n",
       "      <td>21056800</td>\n",
       "    </tr>\n",
       "    <tr>\n",
       "      <th>1</th>\n",
       "      <td>424.440002</td>\n",
       "      <td>456.859985</td>\n",
       "      <td>456.859985</td>\n",
       "      <td>413.104004</td>\n",
       "      <td>34483200</td>\n",
       "    </tr>\n",
       "    <tr>\n",
       "      <th>2</th>\n",
       "      <td>394.79599</td>\n",
       "      <td>424.102997</td>\n",
       "      <td>427.834991</td>\n",
       "      <td>384.532013</td>\n",
       "      <td>37919700</td>\n",
       "    </tr>\n",
       "    <tr>\n",
       "      <th>3</th>\n",
       "      <td>408.903992</td>\n",
       "      <td>394.673004</td>\n",
       "      <td>423.29599</td>\n",
       "      <td>389.882996</td>\n",
       "      <td>36863600</td>\n",
       "    </tr>\n",
       "    <tr>\n",
       "      <th>4</th>\n",
       "      <td>398.821014</td>\n",
       "      <td>408.084991</td>\n",
       "      <td>412.425995</td>\n",
       "      <td>393.181</td>\n",
       "      <td>26580100</td>\n",
       "    </tr>\n",
       "    <tr>\n",
       "      <th>...</th>\n",
       "      <td>...</td>\n",
       "      <td>...</td>\n",
       "      <td>...</td>\n",
       "      <td>...</td>\n",
       "      <td>...</td>\n",
       "    </tr>\n",
       "    <tr>\n",
       "      <th>2725</th>\n",
       "      <td>39137.605469</td>\n",
       "      <td>42458.140625</td>\n",
       "      <td>42479.613281</td>\n",
       "      <td>38805.847656</td>\n",
       "      <td>28516271427</td>\n",
       "    </tr>\n",
       "    <tr>\n",
       "      <th>2726</th>\n",
       "      <td>39400.585938</td>\n",
       "      <td>39148.449219</td>\n",
       "      <td>39566.335938</td>\n",
       "      <td>38777.035156</td>\n",
       "      <td>16975917450</td>\n",
       "    </tr>\n",
       "    <tr>\n",
       "      <th>2727</th>\n",
       "      <td>38419.984375</td>\n",
       "      <td>39404.199219</td>\n",
       "      <td>39640.175781</td>\n",
       "      <td>38211.648438</td>\n",
       "      <td>19745229902</td>\n",
       "    </tr>\n",
       "    <tr>\n",
       "      <th>2728</th>\n",
       "      <td>38062.039062</td>\n",
       "      <td>38429.304688</td>\n",
       "      <td>39430.226562</td>\n",
       "      <td>37260.203125</td>\n",
       "      <td>28546143503</td>\n",
       "    </tr>\n",
       "    <tr>\n",
       "      <th>2729</th>\n",
       "      <td>38790.355469</td>\n",
       "      <td>38767.152344</td>\n",
       "      <td>38809.96875</td>\n",
       "      <td>38706.09375</td>\n",
       "      <td>25612009472</td>\n",
       "    </tr>\n",
       "  </tbody>\n",
       "</table>\n",
       "<p>2730 rows × 5 columns</p>\n",
       "</div>"
      ],
      "text/plain": [
       "             Close          Open          High           Low       Volume\n",
       "0       457.334015    465.864014    468.174011    452.421997     21056800\n",
       "1       424.440002    456.859985    456.859985    413.104004     34483200\n",
       "2        394.79599    424.102997    427.834991    384.532013     37919700\n",
       "3       408.903992    394.673004     423.29599    389.882996     36863600\n",
       "4       398.821014    408.084991    412.425995       393.181     26580100\n",
       "...            ...           ...           ...           ...          ...\n",
       "2725  39137.605469  42458.140625  42479.613281  38805.847656  28516271427\n",
       "2726  39400.585938  39148.449219  39566.335938  38777.035156  16975917450\n",
       "2727  38419.984375  39404.199219  39640.175781  38211.648438  19745229902\n",
       "2728  38062.039062  38429.304688  39430.226562  37260.203125  28546143503\n",
       "2729  38790.355469  38767.152344   38809.96875   38706.09375  25612009472\n",
       "\n",
       "[2730 rows x 5 columns]"
      ]
     },
     "execution_count": 17,
     "metadata": {},
     "output_type": "execute_result"
    }
   ],
   "source": [
    "new_data"
   ]
  },
  {
   "cell_type": "code",
   "execution_count": 12,
   "id": "4c3ce9ae",
   "metadata": {},
   "outputs": [],
   "source": [
    "x_train = train.drop(['Close'], axis=1)\n",
    "y_train = train['Close']\n",
    "x_valid = valid.drop(['Close'], axis=1)\n",
    "y_valid = valid['Close']"
   ]
  },
  {
   "cell_type": "code",
   "execution_count": null,
   "id": "34e47f77",
   "metadata": {},
   "outputs": [],
   "source": [
    "# x_train = train.drop(['Close','Date'], axis=1)\n",
    "# y_train = train['Close']\n",
    "# x_valid = valid.drop(['Close','Date'], axis=1)\n",
    "# y_valid = valid['Close']"
   ]
  },
  {
   "cell_type": "code",
   "execution_count": 13,
   "id": "2b78d34d",
   "metadata": {},
   "outputs": [
    {
     "data": {
      "text/html": [
       "<div>\n",
       "<style scoped>\n",
       "    .dataframe tbody tr th:only-of-type {\n",
       "        vertical-align: middle;\n",
       "    }\n",
       "\n",
       "    .dataframe tbody tr th {\n",
       "        vertical-align: top;\n",
       "    }\n",
       "\n",
       "    .dataframe thead th {\n",
       "        text-align: right;\n",
       "    }\n",
       "</style>\n",
       "<table border=\"1\" class=\"dataframe\">\n",
       "  <thead>\n",
       "    <tr style=\"text-align: right;\">\n",
       "      <th></th>\n",
       "      <th>Open</th>\n",
       "      <th>High</th>\n",
       "      <th>Low</th>\n",
       "      <th>Volume</th>\n",
       "    </tr>\n",
       "  </thead>\n",
       "  <tbody>\n",
       "    <tr>\n",
       "      <th>2663</th>\n",
       "      <td>46311.746094</td>\n",
       "      <td>47827.3125</td>\n",
       "      <td>46288.484375</td>\n",
       "      <td>24582667004</td>\n",
       "    </tr>\n",
       "    <tr>\n",
       "      <th>2664</th>\n",
       "      <td>47680.925781</td>\n",
       "      <td>47881.40625</td>\n",
       "      <td>46856.9375</td>\n",
       "      <td>27951569547</td>\n",
       "    </tr>\n",
       "    <tr>\n",
       "      <th>2665</th>\n",
       "      <td>47343.542969</td>\n",
       "      <td>47510.726562</td>\n",
       "      <td>45835.964844</td>\n",
       "      <td>33071628362</td>\n",
       "    </tr>\n",
       "    <tr>\n",
       "      <th>2666</th>\n",
       "      <td>46458.851562</td>\n",
       "      <td>47406.546875</td>\n",
       "      <td>45752.464844</td>\n",
       "      <td>42494677905</td>\n",
       "    </tr>\n",
       "    <tr>\n",
       "      <th>2667</th>\n",
       "      <td>45899.359375</td>\n",
       "      <td>46929.046875</td>\n",
       "      <td>42798.222656</td>\n",
       "      <td>36851084859</td>\n",
       "    </tr>\n",
       "    <tr>\n",
       "      <th>...</th>\n",
       "      <td>...</td>\n",
       "      <td>...</td>\n",
       "      <td>...</td>\n",
       "      <td>...</td>\n",
       "    </tr>\n",
       "    <tr>\n",
       "      <th>2725</th>\n",
       "      <td>42458.140625</td>\n",
       "      <td>42479.613281</td>\n",
       "      <td>38805.847656</td>\n",
       "      <td>28516271427</td>\n",
       "    </tr>\n",
       "    <tr>\n",
       "      <th>2726</th>\n",
       "      <td>39148.449219</td>\n",
       "      <td>39566.335938</td>\n",
       "      <td>38777.035156</td>\n",
       "      <td>16975917450</td>\n",
       "    </tr>\n",
       "    <tr>\n",
       "      <th>2727</th>\n",
       "      <td>39404.199219</td>\n",
       "      <td>39640.175781</td>\n",
       "      <td>38211.648438</td>\n",
       "      <td>19745229902</td>\n",
       "    </tr>\n",
       "    <tr>\n",
       "      <th>2728</th>\n",
       "      <td>38429.304688</td>\n",
       "      <td>39430.226562</td>\n",
       "      <td>37260.203125</td>\n",
       "      <td>28546143503</td>\n",
       "    </tr>\n",
       "    <tr>\n",
       "      <th>2729</th>\n",
       "      <td>38767.152344</td>\n",
       "      <td>39399.308594</td>\n",
       "      <td>38706.09375</td>\n",
       "      <td>26099062784</td>\n",
       "    </tr>\n",
       "  </tbody>\n",
       "</table>\n",
       "<p>67 rows × 4 columns</p>\n",
       "</div>"
      ],
      "text/plain": [
       "              Open          High           Low       Volume\n",
       "2663  46311.746094    47827.3125  46288.484375  24582667004\n",
       "2664  47680.925781   47881.40625    46856.9375  27951569547\n",
       "2665  47343.542969  47510.726562  45835.964844  33071628362\n",
       "2666  46458.851562  47406.546875  45752.464844  42494677905\n",
       "2667  45899.359375  46929.046875  42798.222656  36851084859\n",
       "...            ...           ...           ...          ...\n",
       "2725  42458.140625  42479.613281  38805.847656  28516271427\n",
       "2726  39148.449219  39566.335938  38777.035156  16975917450\n",
       "2727  39404.199219  39640.175781  38211.648438  19745229902\n",
       "2728  38429.304688  39430.226562  37260.203125  28546143503\n",
       "2729  38767.152344  39399.308594   38706.09375  26099062784\n",
       "\n",
       "[67 rows x 4 columns]"
      ]
     },
     "execution_count": 13,
     "metadata": {},
     "output_type": "execute_result"
    }
   ],
   "source": [
    "x_valid"
   ]
  },
  {
   "cell_type": "code",
   "execution_count": 14,
   "id": "ffa98d77",
   "metadata": {},
   "outputs": [
    {
     "data": {
      "text/plain": [
       "(67,)"
      ]
     },
     "execution_count": 14,
     "metadata": {},
     "output_type": "execute_result"
    }
   ],
   "source": [
    "y_valid.shape"
   ]
  },
  {
   "cell_type": "code",
   "execution_count": 15,
   "id": "64701ae0",
   "metadata": {},
   "outputs": [
    {
     "data": {
      "text/plain": [
       "0.9547323832702205"
      ]
     },
     "execution_count": 15,
     "metadata": {},
     "output_type": "execute_result"
    }
   ],
   "source": [
    "from sklearn.linear_model import LinearRegression\n",
    "model = LinearRegression()\n",
    "model.fit(x_train,y_train)\n",
    "model.score(x_valid,y_valid)"
   ]
  },
  {
   "cell_type": "code",
   "execution_count": 16,
   "id": "090ed37d",
   "metadata": {},
   "outputs": [
    {
     "data": {
      "text/plain": [
       "630.1602535853032"
      ]
     },
     "execution_count": 16,
     "metadata": {},
     "output_type": "execute_result"
    }
   ],
   "source": [
    "preds = model.predict(x_valid)\n",
    "rms=np.sqrt(np.mean(np.power((np.array(y_valid)-np.array(preds)),2)))\n",
    "rms"
   ]
  },
  {
   "cell_type": "code",
   "execution_count": 17,
   "id": "2d0919f5",
   "metadata": {},
   "outputs": [
    {
     "name": "stderr",
     "output_type": "stream",
     "text": [
      "C:\\Users\\user\\AppData\\Local\\Temp/ipykernel_11844/2022637885.py:3: SettingWithCopyWarning: \n",
      "A value is trying to be set on a copy of a slice from a DataFrame.\n",
      "Try using .loc[row_indexer,col_indexer] = value instead\n",
      "\n",
      "See the caveats in the documentation: https://pandas.pydata.org/pandas-docs/stable/user_guide/indexing.html#returning-a-view-versus-a-copy\n",
      "  valid['Predictions'] = 0\n",
      "C:\\Users\\user\\AppData\\Local\\Temp/ipykernel_11844/2022637885.py:4: SettingWithCopyWarning: \n",
      "A value is trying to be set on a copy of a slice from a DataFrame.\n",
      "Try using .loc[row_indexer,col_indexer] = value instead\n",
      "\n",
      "See the caveats in the documentation: https://pandas.pydata.org/pandas-docs/stable/user_guide/indexing.html#returning-a-view-versus-a-copy\n",
      "  valid['Predictions'] = preds\n"
     ]
    },
    {
     "data": {
      "text/plain": [
       "[<matplotlib.lines.Line2D at 0x13210827850>]"
      ]
     },
     "execution_count": 17,
     "metadata": {},
     "output_type": "execute_result"
    },
    {
     "data": {
      "image/png": "[encoded data removed]",
      "text/plain": [
       "<Figure size 1440x720 with 1 Axes>"
      ]
     },
     "metadata": {
      "needs_background": "light"
     },
     "output_type": "display_data"
    }
   ],
   "source": [
    "#plot\n",
    "plt.figure(figsize = (20, 10))\n",
    "valid['Predictions'] = 0\n",
    "valid['Predictions'] = preds\n",
    "\n",
    "valid.index = new_data[num_training_days:].index\n",
    "train.index = new_data[:num_training_days].index\n",
    "\n",
    "plt.plot(train['Close'], color='blue')\n",
    "plt.plot(valid[['Predictions']],color='red')\n",
    "plt.plot(valid[['Close']],color='green')"
   ]
  },
  {
   "cell_type": "code",
   "execution_count": null,
   "id": "f2eea9e0",
   "metadata": {},
   "outputs": [],
   "source": []
  },
  {
   "cell_type": "code",
   "execution_count": null,
   "id": "06969f91",
   "metadata": {},
   "outputs": [],
   "source": []
  },
  {
   "cell_type": "markdown",
   "id": "8c9b440c",
   "metadata": {},
   "source": [
    "# KNN "
   ]
  },
  {
   "cell_type": "code",
   "execution_count": 18,
   "id": "2d4b0464",
   "metadata": {},
   "outputs": [],
   "source": [
    "from sklearn import neighbors\n",
    "from sklearn.model_selection import GridSearchCV\n",
    "from sklearn.preprocessing import MinMaxScaler\n",
    "scaler = MinMaxScaler(feature_range=(0, 1))"
   ]
  },
  {
   "cell_type": "code",
   "execution_count": 19,
   "id": "0a39d786",
   "metadata": {},
   "outputs": [],
   "source": [
    "#scaling data\n",
    "x_train_scaled = scaler.fit_transform(x_train)\n",
    "x_train = pd.DataFrame(x_train_scaled)\n",
    "# y_train_scaled = scaler.fit_transform(y_train)\n",
    "# y_train = pd.DataFrame(y_train_scaled)\n",
    "x_valid_scaled = scaler.fit_transform(x_valid)\n",
    "x_valid = pd.DataFrame(x_valid_scaled)\n",
    "# y_valid_scaled = scaler.fit_transform(y_valid)\n",
    "# y_valid = pd.DataFrame(y_valid_scaled)"
   ]
  },
  {
   "cell_type": "code",
   "execution_count": 20,
   "id": "77ca0f92",
   "metadata": {},
   "outputs": [],
   "source": [
    "#using gridsearch to find the best parameter\n",
    "params = {'n_neighbors':[2,3,4,5,6,7,8,9]}\n",
    "knn = neighbors.KNeighborsRegressor()\n",
    "knn_model = GridSearchCV(knn, params, cv=5)"
   ]
  },
  {
   "cell_type": "code",
   "execution_count": 21,
   "id": "659a58ee",
   "metadata": {},
   "outputs": [
    {
     "ename": "AttributeError",
     "evalue": "'GridSearchCV' object has no attribute 'best_params_'",
     "output_type": "error",
     "traceback": [
      "\u001b[1;31m---------------------------------------------------------------------------\u001b[0m",
      "\u001b[1;31mAttributeError\u001b[0m                            Traceback (most recent call last)",
      "\u001b[1;32m~\\AppData\\Local\\Temp/ipykernel_11844/2156091015.py\u001b[0m in \u001b[0;36m<module>\u001b[1;34m\u001b[0m\n\u001b[1;32m----> 1\u001b[1;33m \u001b[0mknn_model\u001b[0m\u001b[1;33m.\u001b[0m\u001b[0mbest_params_\u001b[0m\u001b[1;33m\u001b[0m\u001b[1;33m\u001b[0m\u001b[0m\n\u001b[0m",
      "\u001b[1;31mAttributeError\u001b[0m: 'GridSearchCV' object has no attribute 'best_params_'"
     ]
    }
   ],
   "source": [
    "knn_model.best_params_"
   ]
  },
  {
   "cell_type": "code",
   "execution_count": 22,
   "id": "c3beb7bb",
   "metadata": {},
   "outputs": [
    {
     "data": {
      "text/plain": [
       "-25.627879412353472"
      ]
     },
     "execution_count": 22,
     "metadata": {},
     "output_type": "execute_result"
    }
   ],
   "source": [
    "#fit the model and make predictions\n",
    "knn_model.fit(x_train,y_train)\n",
    "knn_model.score(x_valid,y_valid)"
   ]
  },
  {
   "cell_type": "code",
   "execution_count": 23,
   "id": "ba2e152f",
   "metadata": {},
   "outputs": [],
   "source": [
    "preds = knn_model.predict(x_valid)"
   ]
  },
  {
   "cell_type": "code",
   "execution_count": 24,
   "id": "b6046481",
   "metadata": {},
   "outputs": [
    {
     "data": {
      "text/plain": [
       "15283.593666629009"
      ]
     },
     "execution_count": 24,
     "metadata": {},
     "output_type": "execute_result"
    }
   ],
   "source": [
    "rms=np.sqrt(np.mean(np.power((np.array(y_valid)-np.array(preds)),2)))\n",
    "rms"
   ]
  },
  {
   "cell_type": "code",
   "execution_count": 25,
   "id": "eb571e5e",
   "metadata": {},
   "outputs": [
    {
     "name": "stderr",
     "output_type": "stream",
     "text": [
      "C:\\Users\\user\\AppData\\Local\\Temp/ipykernel_11844/2517566016.py:2: SettingWithCopyWarning: \n",
      "A value is trying to be set on a copy of a slice from a DataFrame.\n",
      "Try using .loc[row_indexer,col_indexer] = value instead\n",
      "\n",
      "See the caveats in the documentation: https://pandas.pydata.org/pandas-docs/stable/user_guide/indexing.html#returning-a-view-versus-a-copy\n",
      "  valid['Predictions'] = 0\n",
      "C:\\Users\\user\\AppData\\Local\\Temp/ipykernel_11844/2517566016.py:3: SettingWithCopyWarning: \n",
      "A value is trying to be set on a copy of a slice from a DataFrame.\n",
      "Try using .loc[row_indexer,col_indexer] = value instead\n",
      "\n",
      "See the caveats in the documentation: https://pandas.pydata.org/pandas-docs/stable/user_guide/indexing.html#returning-a-view-versus-a-copy\n",
      "  valid['Predictions'] = preds\n"
     ]
    },
    {
     "data": {
      "text/plain": [
       "[<matplotlib.lines.Line2D at 0x13212a67640>]"
      ]
     },
     "execution_count": 25,
     "metadata": {},
     "output_type": "execute_result"
    },
    {
     "data": {
      "image/png": "[encoded data removed]",
      "text/plain": [
       "<Figure size 1440x720 with 1 Axes>"
      ]
     },
     "metadata": {
      "needs_background": "light"
     },
     "output_type": "display_data"
    }
   ],
   "source": [
    "plt.figure(figsize = (20, 10))\n",
    "valid['Predictions'] = 0\n",
    "valid['Predictions'] = preds\n",
    "\n",
    "\n",
    "plt.plot(train['Close'], color='blue')\n",
    "plt.plot(valid[['Predictions']],color='red')\n",
    "plt.plot(valid[['Close']],color='green')"
   ]
  },
  {
   "cell_type": "markdown",
   "id": "a4b45647",
   "metadata": {},
   "source": [
    "# infer from this chart, the prediction is wrong. The model score is negative. why? "
   ]
  },
  {
   "cell_type": "markdown",
   "id": "a5815a5e",
   "metadata": {},
   "source": [
    "# LSTM"
   ]
  },
  {
   "cell_type": "markdown",
   "id": "c830e470",
   "metadata": {},
   "source": [
    "https://www.analyticsvidhya.com/blog/2018/10/predicting-stock-price-machine-learningnd-deep-learning-techniques-python/?"
   ]
  },
  {
   "cell_type": "code",
   "execution_count": 105,
   "id": "488d5bde",
   "metadata": {},
   "outputs": [
    {
     "data": {
      "text/html": [
       "<div>\n",
       "<style scoped>\n",
       "    .dataframe tbody tr th:only-of-type {\n",
       "        vertical-align: middle;\n",
       "    }\n",
       "\n",
       "    .dataframe tbody tr th {\n",
       "        vertical-align: top;\n",
       "    }\n",
       "\n",
       "    .dataframe thead th {\n",
       "        text-align: right;\n",
       "    }\n",
       "</style>\n",
       "<table border=\"1\" class=\"dataframe\">\n",
       "  <thead>\n",
       "    <tr style=\"text-align: right;\">\n",
       "      <th></th>\n",
       "      <th>Date</th>\n",
       "      <th>Open</th>\n",
       "      <th>High</th>\n",
       "      <th>Low</th>\n",
       "      <th>Last</th>\n",
       "      <th>Close</th>\n",
       "      <th>Total Trade Quantity</th>\n",
       "      <th>Turnover (Lacs)</th>\n",
       "    </tr>\n",
       "  </thead>\n",
       "  <tbody>\n",
       "    <tr>\n",
       "      <th>0</th>\n",
       "      <td>2018-10-08</td>\n",
       "      <td>208.00</td>\n",
       "      <td>222.25</td>\n",
       "      <td>206.85</td>\n",
       "      <td>216.00</td>\n",
       "      <td>215.15</td>\n",
       "      <td>4642146.0</td>\n",
       "      <td>10062.83</td>\n",
       "    </tr>\n",
       "    <tr>\n",
       "      <th>1</th>\n",
       "      <td>2018-10-05</td>\n",
       "      <td>217.00</td>\n",
       "      <td>218.60</td>\n",
       "      <td>205.90</td>\n",
       "      <td>210.25</td>\n",
       "      <td>209.20</td>\n",
       "      <td>3519515.0</td>\n",
       "      <td>7407.06</td>\n",
       "    </tr>\n",
       "    <tr>\n",
       "      <th>2</th>\n",
       "      <td>2018-10-04</td>\n",
       "      <td>223.50</td>\n",
       "      <td>227.80</td>\n",
       "      <td>216.15</td>\n",
       "      <td>217.25</td>\n",
       "      <td>218.20</td>\n",
       "      <td>1728786.0</td>\n",
       "      <td>3815.79</td>\n",
       "    </tr>\n",
       "    <tr>\n",
       "      <th>3</th>\n",
       "      <td>2018-10-03</td>\n",
       "      <td>230.00</td>\n",
       "      <td>237.50</td>\n",
       "      <td>225.75</td>\n",
       "      <td>226.45</td>\n",
       "      <td>227.60</td>\n",
       "      <td>1708590.0</td>\n",
       "      <td>3960.27</td>\n",
       "    </tr>\n",
       "    <tr>\n",
       "      <th>4</th>\n",
       "      <td>2018-10-01</td>\n",
       "      <td>234.55</td>\n",
       "      <td>234.60</td>\n",
       "      <td>221.05</td>\n",
       "      <td>230.30</td>\n",
       "      <td>230.90</td>\n",
       "      <td>1534749.0</td>\n",
       "      <td>3486.05</td>\n",
       "    </tr>\n",
       "  </tbody>\n",
       "</table>\n",
       "</div>"
      ],
      "text/plain": [
       "         Date    Open    High     Low    Last   Close  Total Trade Quantity  \\\n",
       "0  2018-10-08  208.00  222.25  206.85  216.00  215.15             4642146.0   \n",
       "1  2018-10-05  217.00  218.60  205.90  210.25  209.20             3519515.0   \n",
       "2  2018-10-04  223.50  227.80  216.15  217.25  218.20             1728786.0   \n",
       "3  2018-10-03  230.00  237.50  225.75  226.45  227.60             1708590.0   \n",
       "4  2018-10-01  234.55  234.60  221.05  230.30  230.90             1534749.0   \n",
       "\n",
       "   Turnover (Lacs)  \n",
       "0         10062.83  \n",
       "1          7407.06  \n",
       "2          3815.79  \n",
       "3          3960.27  \n",
       "4          3486.05  "
      ]
     },
     "execution_count": 105,
     "metadata": {},
     "output_type": "execute_result"
    }
   ],
   "source": [
    "#import packages\n",
    "import pandas as pd\n",
    "import numpy as np\n",
    "\n",
    "#to plot within notebook\n",
    "import matplotlib.pyplot as plt\n",
    "%matplotlib inline\n",
    "\n",
    "#setting figure size\n",
    "from matplotlib.pylab import rcParams\n",
    "rcParams['figure.figsize'] = 20,10\n",
    "\n",
    "#for normalizing data\n",
    "from sklearn.preprocessing import MinMaxScaler\n",
    "scaler = MinMaxScaler(feature_range=(0, 1))\n",
    "\n",
    "#read the file\n",
    "df = pd.read_csv('C:/Users/user/Documents/IOD_data_MAIN/DATA/NSE-TATAGLOBAL11.csv')\n",
    "\n",
    "#print the head\n",
    "df.head()"
   ]
  },
  {
   "cell_type": "code",
   "execution_count": 106,
   "id": "daf21a08",
   "metadata": {},
   "outputs": [
    {
     "data": {
      "text/html": [
       "<div>\n",
       "<style scoped>\n",
       "    .dataframe tbody tr th:only-of-type {\n",
       "        vertical-align: middle;\n",
       "    }\n",
       "\n",
       "    .dataframe tbody tr th {\n",
       "        vertical-align: top;\n",
       "    }\n",
       "\n",
       "    .dataframe thead th {\n",
       "        text-align: right;\n",
       "    }\n",
       "</style>\n",
       "<table border=\"1\" class=\"dataframe\">\n",
       "  <thead>\n",
       "    <tr style=\"text-align: right;\">\n",
       "      <th></th>\n",
       "      <th>Date</th>\n",
       "      <th>Open</th>\n",
       "      <th>High</th>\n",
       "      <th>Low</th>\n",
       "      <th>Last</th>\n",
       "      <th>Close</th>\n",
       "      <th>Total Trade Quantity</th>\n",
       "      <th>Turnover (Lacs)</th>\n",
       "    </tr>\n",
       "  </thead>\n",
       "  <tbody>\n",
       "    <tr>\n",
       "      <th>1230</th>\n",
       "      <td>2013-10-14</td>\n",
       "      <td>160.85</td>\n",
       "      <td>161.45</td>\n",
       "      <td>157.70</td>\n",
       "      <td>159.3</td>\n",
       "      <td>159.45</td>\n",
       "      <td>1281419.0</td>\n",
       "      <td>2039.09</td>\n",
       "    </tr>\n",
       "    <tr>\n",
       "      <th>1231</th>\n",
       "      <td>2013-10-11</td>\n",
       "      <td>161.15</td>\n",
       "      <td>163.45</td>\n",
       "      <td>159.00</td>\n",
       "      <td>159.8</td>\n",
       "      <td>160.05</td>\n",
       "      <td>1880046.0</td>\n",
       "      <td>3030.76</td>\n",
       "    </tr>\n",
       "    <tr>\n",
       "      <th>1232</th>\n",
       "      <td>2013-10-10</td>\n",
       "      <td>156.00</td>\n",
       "      <td>160.80</td>\n",
       "      <td>155.85</td>\n",
       "      <td>160.3</td>\n",
       "      <td>160.15</td>\n",
       "      <td>3124853.0</td>\n",
       "      <td>4978.80</td>\n",
       "    </tr>\n",
       "    <tr>\n",
       "      <th>1233</th>\n",
       "      <td>2013-10-09</td>\n",
       "      <td>155.70</td>\n",
       "      <td>158.20</td>\n",
       "      <td>154.15</td>\n",
       "      <td>155.3</td>\n",
       "      <td>155.55</td>\n",
       "      <td>2049580.0</td>\n",
       "      <td>3204.49</td>\n",
       "    </tr>\n",
       "    <tr>\n",
       "      <th>1234</th>\n",
       "      <td>2013-10-08</td>\n",
       "      <td>157.00</td>\n",
       "      <td>157.80</td>\n",
       "      <td>155.20</td>\n",
       "      <td>155.8</td>\n",
       "      <td>155.80</td>\n",
       "      <td>1720413.0</td>\n",
       "      <td>2688.94</td>\n",
       "    </tr>\n",
       "  </tbody>\n",
       "</table>\n",
       "</div>"
      ],
      "text/plain": [
       "            Date    Open    High     Low   Last   Close  Total Trade Quantity  \\\n",
       "1230  2013-10-14  160.85  161.45  157.70  159.3  159.45             1281419.0   \n",
       "1231  2013-10-11  161.15  163.45  159.00  159.8  160.05             1880046.0   \n",
       "1232  2013-10-10  156.00  160.80  155.85  160.3  160.15             3124853.0   \n",
       "1233  2013-10-09  155.70  158.20  154.15  155.3  155.55             2049580.0   \n",
       "1234  2013-10-08  157.00  157.80  155.20  155.8  155.80             1720413.0   \n",
       "\n",
       "      Turnover (Lacs)  \n",
       "1230          2039.09  \n",
       "1231          3030.76  \n",
       "1232          4978.80  \n",
       "1233          3204.49  \n",
       "1234          2688.94  "
      ]
     },
     "execution_count": 106,
     "metadata": {},
     "output_type": "execute_result"
    }
   ],
   "source": [
    "df.tail()"
   ]
  },
  {
   "cell_type": "code",
   "execution_count": 61,
   "id": "512fd907",
   "metadata": {},
   "outputs": [
    {
     "name": "stdout",
     "output_type": "stream",
     "text": [
      "new_data shape before dropping date == (1235, 2).\n",
      "new_data shape after dropping date == (1235, 1).\n",
      "train shape == (987, 1).\n",
      "valid shape == (248, 1).\n",
      "x_train shape before reshape == (927, 60).\n",
      "y_train shape before reshape == (927,).\n",
      "x_train shape == (927, 60, 1).\n",
      "y_train shape == (927,).\n",
      "927/927 - 25s - loss: 0.0026 - 25s/epoch - 27ms/step\n",
      "inputs shape == (308, 1).\n",
      "X_test shape before reshape == (927, 60, 1).\n",
      "X_test shape After reshape == (927, 60, 1).\n"
     ]
    }
   ],
   "source": [
    "#importing required libraries\n",
    "from sklearn.preprocessing import MinMaxScaler\n",
    "from keras.models import Sequential\n",
    "from keras.layers import Dense, Dropout, LSTM\n",
    "\n",
    "#creating dataframe\n",
    "data = df.sort_index(ascending=True, axis=0)\n",
    "new_data = pd.DataFrame(index=range(0,len(df)),columns=['Date', 'Close'])\n",
    "for i in range(0,len(data)):\n",
    "    new_data['Date'][i] = data['Date'][i]\n",
    "    new_data['Close'][i] = data['Close'][i]\n",
    "\n",
    "print('new_data shape before dropping date == {}.'.format(new_data.shape))    \n",
    "    \n",
    "#setting index\n",
    "new_data.index = new_data.Date\n",
    "new_data.drop('Date', axis=1, inplace=True)\n",
    "print('new_data shape after dropping date == {}.'.format(new_data.shape))\n",
    "\n",
    "#creating train and test sets\n",
    "dataset = new_data.values\n",
    "\n",
    "train = dataset[0:987,:]\n",
    "valid = dataset[987:,:]\n",
    "\n",
    "print('train shape == {}.'.format(train.shape))\n",
    "print('valid shape == {}.'.format(valid.shape))\n",
    "\n",
    "#converting dataset into x_train and y_train\n",
    "scaler = MinMaxScaler(feature_range=(0, 1))\n",
    "scaled_data = scaler.fit_transform(dataset)\n",
    "\n",
    "x_train, y_train = [], []\n",
    "for i in range(60,len(train)):\n",
    "    x_train.append(scaled_data[i-60:i,0])\n",
    "    y_train.append(scaled_data[i,0])\n",
    "x_train, y_train = np.array(x_train), np.array(y_train)\n",
    "\n",
    "print('x_train shape before reshape == {}.'.format(x_train.shape))\n",
    "print('y_train shape before reshape == {}.'.format(y_train.shape))\n",
    "\n",
    "x_train = np.reshape(x_train, (x_train.shape[0],x_train.shape[1],1))\n",
    "\n",
    "print('x_train shape == {}.'.format(x_train.shape))\n",
    "print('y_train shape == {}.'.format(y_train.shape))\n",
    "\n",
    "# create and fit the LSTM network\n",
    "model = Sequential()\n",
    "model.add(LSTM(units=50, return_sequences=True, input_shape=(x_train.shape[1],1)))\n",
    "model.add(LSTM(units=50))\n",
    "model.add(Dense(1))\n",
    "\n",
    "model.compile(loss='mean_squared_error', optimizer='adam')\n",
    "model.fit(x_train, y_train, epochs=1, batch_size=1, verbose=2)\n",
    "\n",
    "#predicting 246 values, using past 60 from the train data\n",
    "inputs = new_data[len(new_data) - len(valid) - 60:].values\n",
    "inputs = inputs.reshape(-1,1)\n",
    "inputs  = scaler.transform(inputs)\n",
    "\n",
    "print('inputs shape == {}.'.format(inputs.shape))\n",
    "\n",
    "X_test = []\n",
    "for i in range(60,inputs.shape[0]):\n",
    "    X_test.append(inputs[i-60:i,0])\n",
    "X_test = np.array(X_test)\n",
    " \n",
    "print('X_test shape before reshape == {}.'.format(x_train.shape))\n",
    "\n",
    "X_test = np.reshape(X_test, (X_test.shape[0],X_test.shape[1],1))\n",
    "\n",
    "print('X_test shape After reshape == {}.'.format(x_train.shape))\n",
    "\n",
    "closing_price = model.predict(X_test)\n",
    "closing_price = scaler.inverse_transform(closing_price)"
   ]
  },
  {
   "cell_type": "code",
   "execution_count": 62,
   "id": "4ac1c647",
   "metadata": {},
   "outputs": [
    {
     "name": "stdout",
     "output_type": "stream",
     "text": [
      "closing_price shape == (248, 1).\n"
     ]
    }
   ],
   "source": [
    "print('closing_price shape == {}.'.format(closing_price.shape))"
   ]
  },
  {
   "cell_type": "code",
   "execution_count": 58,
   "id": "743a99d8",
   "metadata": {},
   "outputs": [
    {
     "data": {
      "text/plain": [
       "5.051016330291517"
      ]
     },
     "execution_count": 58,
     "metadata": {},
     "output_type": "execute_result"
    }
   ],
   "source": [
    "rms=np.sqrt(np.mean(np.power((valid-closing_price),2)))\n",
    "rms"
   ]
  },
  {
   "cell_type": "code",
   "execution_count": 107,
   "id": "c1027bc2",
   "metadata": {},
   "outputs": [
    {
     "name": "stderr",
     "output_type": "stream",
     "text": [
      "C:\\Users\\user\\AppData\\Local\\Temp/ipykernel_18024/3858486658.py:4: SettingWithCopyWarning: \n",
      "A value is trying to be set on a copy of a slice from a DataFrame.\n",
      "Try using .loc[row_indexer,col_indexer] = value instead\n",
      "\n",
      "See the caveats in the documentation: https://pandas.pydata.org/pandas-docs/stable/user_guide/indexing.html#returning-a-view-versus-a-copy\n",
      "  valid['Predictions'] = closing_price\n"
     ]
    },
    {
     "data": {
      "text/plain": [
       "[<matplotlib.lines.Line2D at 0x273196e50a0>,\n",
       " <matplotlib.lines.Line2D at 0x273196e51c0>]"
      ]
     },
     "execution_count": 107,
     "metadata": {},
     "output_type": "execute_result"
    },
    {
     "data": {
      "image/png": "[encoded data removed]",
      "text/plain": [
       "<Figure size 1440x720 with 1 Axes>"
      ]
     },
     "metadata": {
      "needs_background": "light"
     },
     "output_type": "display_data"
    }
   ],
   "source": [
    "#for plotting\n",
    "train = new_data[:987]\n",
    "valid = new_data[987:]\n",
    "valid['Predictions'] = closing_price\n",
    "plt.plot(train['Close'])\n",
    "plt.plot(valid[['Close','Predictions']])"
   ]
  },
  {
   "cell_type": "code",
   "execution_count": null,
   "id": "83a69e9f",
   "metadata": {},
   "outputs": [],
   "source": [
    "model.evaluate(trainX[-n_future:], trainY[-n_future:])"
   ]
  },
  {
   "cell_type": "code",
   "execution_count": 103,
   "id": "52f84761",
   "metadata": {},
   "outputs": [
    {
     "data": {
      "text/html": [
       "<div>\n",
       "<style scoped>\n",
       "    .dataframe tbody tr th:only-of-type {\n",
       "        vertical-align: middle;\n",
       "    }\n",
       "\n",
       "    .dataframe tbody tr th {\n",
       "        vertical-align: top;\n",
       "    }\n",
       "\n",
       "    .dataframe thead th {\n",
       "        text-align: right;\n",
       "    }\n",
       "</style>\n",
       "<table border=\"1\" class=\"dataframe\">\n",
       "  <thead>\n",
       "    <tr style=\"text-align: right;\">\n",
       "      <th></th>\n",
       "      <th>Close</th>\n",
       "      <th>Predictions</th>\n",
       "    </tr>\n",
       "    <tr>\n",
       "      <th>Date</th>\n",
       "      <th></th>\n",
       "      <th></th>\n",
       "    </tr>\n",
       "  </thead>\n",
       "  <tbody>\n",
       "    <tr>\n",
       "      <th>2014-10-09</th>\n",
       "      <td>161.25</td>\n",
       "      <td>156.248840</td>\n",
       "    </tr>\n",
       "    <tr>\n",
       "      <th>2014-10-08</th>\n",
       "      <td>160.25</td>\n",
       "      <td>157.283844</td>\n",
       "    </tr>\n",
       "    <tr>\n",
       "      <th>2014-10-07</th>\n",
       "      <td>158.8</td>\n",
       "      <td>158.285431</td>\n",
       "    </tr>\n",
       "    <tr>\n",
       "      <th>2014-10-01</th>\n",
       "      <td>158.85</td>\n",
       "      <td>158.984009</td>\n",
       "    </tr>\n",
       "    <tr>\n",
       "      <th>2014-09-30</th>\n",
       "      <td>159.35</td>\n",
       "      <td>159.430450</td>\n",
       "    </tr>\n",
       "    <tr>\n",
       "      <th>...</th>\n",
       "      <td>...</td>\n",
       "      <td>...</td>\n",
       "    </tr>\n",
       "    <tr>\n",
       "      <th>2013-10-14</th>\n",
       "      <td>159.45</td>\n",
       "      <td>161.662872</td>\n",
       "    </tr>\n",
       "    <tr>\n",
       "      <th>2013-10-11</th>\n",
       "      <td>160.05</td>\n",
       "      <td>161.154114</td>\n",
       "    </tr>\n",
       "    <tr>\n",
       "      <th>2013-10-10</th>\n",
       "      <td>160.15</td>\n",
       "      <td>160.785522</td>\n",
       "    </tr>\n",
       "    <tr>\n",
       "      <th>2013-10-09</th>\n",
       "      <td>155.55</td>\n",
       "      <td>160.554230</td>\n",
       "    </tr>\n",
       "    <tr>\n",
       "      <th>2013-10-08</th>\n",
       "      <td>155.8</td>\n",
       "      <td>159.905289</td>\n",
       "    </tr>\n",
       "  </tbody>\n",
       "</table>\n",
       "<p>248 rows × 2 columns</p>\n",
       "</div>"
      ],
      "text/plain": [
       "             Close  Predictions\n",
       "Date                           \n",
       "2014-10-09  161.25   156.248840\n",
       "2014-10-08  160.25   157.283844\n",
       "2014-10-07   158.8   158.285431\n",
       "2014-10-01  158.85   158.984009\n",
       "2014-09-30  159.35   159.430450\n",
       "...            ...          ...\n",
       "2013-10-14  159.45   161.662872\n",
       "2013-10-11  160.05   161.154114\n",
       "2013-10-10  160.15   160.785522\n",
       "2013-10-09  155.55   160.554230\n",
       "2013-10-08   155.8   159.905289\n",
       "\n",
       "[248 rows x 2 columns]"
      ]
     },
     "execution_count": 103,
     "metadata": {},
     "output_type": "execute_result"
    }
   ],
   "source": [
    "valid"
   ]
  },
  {
   "cell_type": "code",
   "execution_count": null,
   "id": "1a5c3595",
   "metadata": {},
   "outputs": [],
   "source": []
  },
  {
   "cell_type": "code",
   "execution_count": 26,
   "id": "aeb858c0",
   "metadata": {},
   "outputs": [],
   "source": [
    "#importing required libraries\n",
    "from sklearn.preprocessing import MinMaxScaler\n",
    "from keras.models import Sequential\n",
    "from keras.layers import Dense, Dropout, LSTM\n",
    "\n",
    "#creating dataframe\n",
    "new_data = pd.DataFrame(index=range(0,len(df)),columns=['Date','Close','Open', 'High', 'Low', 'Volume'])\n",
    "df.reset_index(inplace=True)\n",
    "for i in range(0,len(df)):\n",
    "    new_data['Date'][i] = df['Date'][i]\n",
    "    new_data['Close'][i] = df['Close'][i]\n",
    "    new_data['Open'][i] = df['Open'][i]\n",
    "    new_data['High'][i] = df['High'][i]\n",
    "    new_data['Low'][i] = df['Low'][i]\n",
    "    new_data['Volume'][i] = df['Volume'][i]\n",
    "\n"
   ]
  },
  {
   "cell_type": "code",
   "execution_count": 27,
   "id": "edf5f6b6",
   "metadata": {},
   "outputs": [
    {
     "data": {
      "text/html": [
       "<div>\n",
       "<style scoped>\n",
       "    .dataframe tbody tr th:only-of-type {\n",
       "        vertical-align: middle;\n",
       "    }\n",
       "\n",
       "    .dataframe tbody tr th {\n",
       "        vertical-align: top;\n",
       "    }\n",
       "\n",
       "    .dataframe thead th {\n",
       "        text-align: right;\n",
       "    }\n",
       "</style>\n",
       "<table border=\"1\" class=\"dataframe\">\n",
       "  <thead>\n",
       "    <tr style=\"text-align: right;\">\n",
       "      <th></th>\n",
       "      <th>Date</th>\n",
       "      <th>Close</th>\n",
       "      <th>Open</th>\n",
       "      <th>High</th>\n",
       "      <th>Low</th>\n",
       "      <th>Volume</th>\n",
       "    </tr>\n",
       "  </thead>\n",
       "  <tbody>\n",
       "    <tr>\n",
       "      <th>0</th>\n",
       "      <td>2014-09-17 00:00:00</td>\n",
       "      <td>457.334015</td>\n",
       "      <td>465.864014</td>\n",
       "      <td>468.174011</td>\n",
       "      <td>452.421997</td>\n",
       "      <td>21056800</td>\n",
       "    </tr>\n",
       "    <tr>\n",
       "      <th>1</th>\n",
       "      <td>2014-09-18 00:00:00</td>\n",
       "      <td>424.440002</td>\n",
       "      <td>456.859985</td>\n",
       "      <td>456.859985</td>\n",
       "      <td>413.104004</td>\n",
       "      <td>34483200</td>\n",
       "    </tr>\n",
       "    <tr>\n",
       "      <th>2</th>\n",
       "      <td>2014-09-19 00:00:00</td>\n",
       "      <td>394.79599</td>\n",
       "      <td>424.102997</td>\n",
       "      <td>427.834991</td>\n",
       "      <td>384.532013</td>\n",
       "      <td>37919700</td>\n",
       "    </tr>\n",
       "    <tr>\n",
       "      <th>3</th>\n",
       "      <td>2014-09-20 00:00:00</td>\n",
       "      <td>408.903992</td>\n",
       "      <td>394.673004</td>\n",
       "      <td>423.29599</td>\n",
       "      <td>389.882996</td>\n",
       "      <td>36863600</td>\n",
       "    </tr>\n",
       "    <tr>\n",
       "      <th>4</th>\n",
       "      <td>2014-09-21 00:00:00</td>\n",
       "      <td>398.821014</td>\n",
       "      <td>408.084991</td>\n",
       "      <td>412.425995</td>\n",
       "      <td>393.181</td>\n",
       "      <td>26580100</td>\n",
       "    </tr>\n",
       "    <tr>\n",
       "      <th>...</th>\n",
       "      <td>...</td>\n",
       "      <td>...</td>\n",
       "      <td>...</td>\n",
       "      <td>...</td>\n",
       "      <td>...</td>\n",
       "      <td>...</td>\n",
       "    </tr>\n",
       "    <tr>\n",
       "      <th>2725</th>\n",
       "      <td>2022-03-04 00:00:00</td>\n",
       "      <td>39137.605469</td>\n",
       "      <td>42458.140625</td>\n",
       "      <td>42479.613281</td>\n",
       "      <td>38805.847656</td>\n",
       "      <td>28516271427</td>\n",
       "    </tr>\n",
       "    <tr>\n",
       "      <th>2726</th>\n",
       "      <td>2022-03-05 00:00:00</td>\n",
       "      <td>39400.585938</td>\n",
       "      <td>39148.449219</td>\n",
       "      <td>39566.335938</td>\n",
       "      <td>38777.035156</td>\n",
       "      <td>16975917450</td>\n",
       "    </tr>\n",
       "    <tr>\n",
       "      <th>2727</th>\n",
       "      <td>2022-03-06 00:00:00</td>\n",
       "      <td>38419.984375</td>\n",
       "      <td>39404.199219</td>\n",
       "      <td>39640.175781</td>\n",
       "      <td>38211.648438</td>\n",
       "      <td>19745229902</td>\n",
       "    </tr>\n",
       "    <tr>\n",
       "      <th>2728</th>\n",
       "      <td>2022-03-07 00:00:00</td>\n",
       "      <td>38062.039062</td>\n",
       "      <td>38429.304688</td>\n",
       "      <td>39430.226562</td>\n",
       "      <td>37260.203125</td>\n",
       "      <td>28546143503</td>\n",
       "    </tr>\n",
       "    <tr>\n",
       "      <th>2729</th>\n",
       "      <td>2022-03-09 00:00:00</td>\n",
       "      <td>39394.136719</td>\n",
       "      <td>38767.152344</td>\n",
       "      <td>39399.308594</td>\n",
       "      <td>38706.09375</td>\n",
       "      <td>26099062784</td>\n",
       "    </tr>\n",
       "  </tbody>\n",
       "</table>\n",
       "<p>2730 rows × 6 columns</p>\n",
       "</div>"
      ],
      "text/plain": [
       "                     Date         Close          Open          High  \\\n",
       "0     2014-09-17 00:00:00    457.334015    465.864014    468.174011   \n",
       "1     2014-09-18 00:00:00    424.440002    456.859985    456.859985   \n",
       "2     2014-09-19 00:00:00     394.79599    424.102997    427.834991   \n",
       "3     2014-09-20 00:00:00    408.903992    394.673004     423.29599   \n",
       "4     2014-09-21 00:00:00    398.821014    408.084991    412.425995   \n",
       "...                   ...           ...           ...           ...   \n",
       "2725  2022-03-04 00:00:00  39137.605469  42458.140625  42479.613281   \n",
       "2726  2022-03-05 00:00:00  39400.585938  39148.449219  39566.335938   \n",
       "2727  2022-03-06 00:00:00  38419.984375  39404.199219  39640.175781   \n",
       "2728  2022-03-07 00:00:00  38062.039062  38429.304688  39430.226562   \n",
       "2729  2022-03-09 00:00:00  39394.136719  38767.152344  39399.308594   \n",
       "\n",
       "               Low       Volume  \n",
       "0       452.421997     21056800  \n",
       "1       413.104004     34483200  \n",
       "2       384.532013     37919700  \n",
       "3       389.882996     36863600  \n",
       "4          393.181     26580100  \n",
       "...            ...          ...  \n",
       "2725  38805.847656  28516271427  \n",
       "2726  38777.035156  16975917450  \n",
       "2727  38211.648438  19745229902  \n",
       "2728  37260.203125  28546143503  \n",
       "2729   38706.09375  26099062784  \n",
       "\n",
       "[2730 rows x 6 columns]"
      ]
     },
     "execution_count": 27,
     "metadata": {},
     "output_type": "execute_result"
    }
   ],
   "source": [
    "new_data"
   ]
  },
  {
   "cell_type": "code",
   "execution_count": 28,
   "id": "81dc3ee7",
   "metadata": {},
   "outputs": [],
   "source": [
    "# Training timeframe\n",
    "training_days = pd.date_range(start=\"2014-09-17\",end=\"2021-12-31\")\n",
    "num_training_days = len(training_days)\n",
    "\n",
    "#Drop Date \n",
    "new_data.drop('Date', axis=1, inplace=True)\n",
    "\n",
    "#creating train and test sets\n",
    "dataset = new_data.values\n",
    "\n",
    "train = dataset[0:num_training_days,:]\n",
    "valid = dataset[num_training_days:,:]\n",
    "\n",
    "#converting dataset into x_train and y_train\n",
    "scaler = MinMaxScaler(feature_range=(0, 1))\n",
    "scaled_data = scaler.fit_transform(dataset)\n",
    "\n",
    "x_train, y_train = [], []\n",
    "for i in range(60,len(train)):\n",
    "    x_train.append(scaled_data[i-60:i,0])\n",
    "    y_train.append(scaled_data[i,0])\n",
    "x_train, y_train = np.array(x_train), np.array(y_train)\n",
    "\n",
    "x_train = np.reshape(x_train, (x_train.shape[0],x_train.shape[1],1))\n",
    "\n"
   ]
  },
  {
   "cell_type": "code",
   "execution_count": 34,
   "id": "e803f252",
   "metadata": {},
   "outputs": [
    {
     "name": "stdout",
     "output_type": "stream",
     "text": [
      "2603/2603 - 67s - loss: 0.0019 - 67s/epoch - 26ms/step\n"
     ]
    },
    {
     "ename": "ValueError",
     "evalue": "non-broadcastable output operand with shape (575,1) doesn't match the broadcast shape (575,5)",
     "output_type": "error",
     "traceback": [
      "\u001b[1;31m---------------------------------------------------------------------------\u001b[0m",
      "\u001b[1;31mValueError\u001b[0m                                Traceback (most recent call last)",
      "\u001b[1;32m~\\AppData\\Local\\Temp/ipykernel_11844/75056781.py\u001b[0m in \u001b[0;36m<module>\u001b[1;34m\u001b[0m\n\u001b[0;32m     23\u001b[0m \u001b[1;33m\u001b[0m\u001b[0m\n\u001b[0;32m     24\u001b[0m \u001b[0mclosing_price\u001b[0m \u001b[1;33m=\u001b[0m \u001b[0mmodel\u001b[0m\u001b[1;33m.\u001b[0m\u001b[0mpredict\u001b[0m\u001b[1;33m(\u001b[0m\u001b[0mX_test\u001b[0m\u001b[1;33m)\u001b[0m\u001b[1;33m\u001b[0m\u001b[1;33m\u001b[0m\u001b[0m\n\u001b[1;32m---> 25\u001b[1;33m \u001b[0mclosing_price\u001b[0m \u001b[1;33m=\u001b[0m \u001b[0mscaler\u001b[0m\u001b[1;33m.\u001b[0m\u001b[0minverse_transform\u001b[0m\u001b[1;33m(\u001b[0m\u001b[0mclosing_price\u001b[0m\u001b[1;33m)\u001b[0m\u001b[1;33m\u001b[0m\u001b[1;33m\u001b[0m\u001b[0m\n\u001b[0m",
      "\u001b[1;32m~\\.conda\\envs\\Deep_learning\\lib\\site-packages\\sklearn\\preprocessing\\_data.py\u001b[0m in \u001b[0;36minverse_transform\u001b[1;34m(self, X)\u001b[0m\n\u001b[0;32m    527\u001b[0m         )\n\u001b[0;32m    528\u001b[0m \u001b[1;33m\u001b[0m\u001b[0m\n\u001b[1;32m--> 529\u001b[1;33m         \u001b[0mX\u001b[0m \u001b[1;33m-=\u001b[0m \u001b[0mself\u001b[0m\u001b[1;33m.\u001b[0m\u001b[0mmin_\u001b[0m\u001b[1;33m\u001b[0m\u001b[1;33m\u001b[0m\u001b[0m\n\u001b[0m\u001b[0;32m    530\u001b[0m         \u001b[0mX\u001b[0m \u001b[1;33m/=\u001b[0m \u001b[0mself\u001b[0m\u001b[1;33m.\u001b[0m\u001b[0mscale_\u001b[0m\u001b[1;33m\u001b[0m\u001b[1;33m\u001b[0m\u001b[0m\n\u001b[0;32m    531\u001b[0m         \u001b[1;32mreturn\u001b[0m \u001b[0mX\u001b[0m\u001b[1;33m\u001b[0m\u001b[1;33m\u001b[0m\u001b[0m\n",
      "\u001b[1;31mValueError\u001b[0m: non-broadcastable output operand with shape (575,1) doesn't match the broadcast shape (575,5)"
     ]
    }
   ],
   "source": [
    "# create and fit the LSTM network\n",
    "model = Sequential()\n",
    "model.add(LSTM(units=50, return_sequences=True, input_shape=(x_train.shape[1],1)))\n",
    "model.add(LSTM(units=50))\n",
    "model.add(Dense(1))\n",
    "\n",
    "model.compile(loss='mean_squared_error', optimizer='adam')\n",
    "model.fit(x_train, y_train, epochs=1, batch_size=1, verbose=2)\n",
    "\n",
    "#predicting 246 values, using past 60 from the train data\n",
    "inputs = new_data[len(new_data) - len(valid) - 60:].values\n",
    "inputs = inputs.reshape(-1,1)\n",
    "# inputs  = scaler.transform(inputs)\n",
    "\n",
    "X_test = []\n",
    "for i in range(60,inputs.shape[0]):\n",
    "    X_test.append(inputs[i-60:i,0])\n",
    "#X_test = np.array(X_test).astype(np.int64) # To resolve this error: Failed to convert a NumPy array to a Tensor (Unsupported object type numpy.float64)\n",
    "X_test = np.array(X_test)\n",
    "X_test = np.reshape(X_test, (X_test.shape[0],X_test.shape[1],1))\n",
    " \n",
    "\n",
    "\n",
    "closing_price = model.predict(X_test)\n",
    "closing_price = scaler.inverse_transform(closing_price)"
   ]
  },
  {
   "cell_type": "code",
   "execution_count": null,
   "id": "aac1eff6",
   "metadata": {},
   "outputs": [],
   "source": [
    "X_test"
   ]
  },
  {
   "cell_type": "code",
   "execution_count": null,
   "id": "8cac61db",
   "metadata": {},
   "outputs": [],
   "source": []
  },
  {
   "cell_type": "code",
   "execution_count": null,
   "id": "7000dbea",
   "metadata": {},
   "outputs": [],
   "source": [
    "rms=np.sqrt(np.mean(np.power((valid-closing_price),2)))\n",
    "rms"
   ]
  },
  {
   "cell_type": "code",
   "execution_count": null,
   "id": "5e64ac4a",
   "metadata": {},
   "outputs": [],
   "source": [
    "#for plotting\n",
    "train = new_data[:num_training_days]\n",
    "valid = new_data[num_training_days:]\n",
    "valid['Predictions'] = closing_price\n",
    "plt.plot(train['Close'])\n",
    "plt.plot(valid[['Close','Predictions']])"
   ]
  },
  {
   "cell_type": "markdown",
   "id": "2ba6ad3e",
   "metadata": {},
   "source": [
    "https://github.com/bnsreenu/python_for_microscopists/commit/6535dff3d5759bd9de5c37c97a333b89512f9bdf"
   ]
  },
  {
   "cell_type": "code",
   "execution_count": 63,
   "id": "ce6a3852",
   "metadata": {},
   "outputs": [],
   "source": [
    "ticker = yf.Ticker('BTC-USD')\n",
    "df = ticker.history(period=\"max\")"
   ]
  },
  {
   "cell_type": "code",
   "execution_count": 64,
   "id": "59c65abf",
   "metadata": {},
   "outputs": [],
   "source": [
    "df.reset_index(inplace=True)"
   ]
  },
  {
   "cell_type": "code",
   "execution_count": 65,
   "id": "36e8fd74",
   "metadata": {},
   "outputs": [],
   "source": [
    "train_dates = pd.to_datetime(df['Date'])"
   ]
  },
  {
   "cell_type": "code",
   "execution_count": 66,
   "id": "0631d1c7",
   "metadata": {},
   "outputs": [
    {
     "data": {
      "text/html": [
       "<div>\n",
       "<style scoped>\n",
       "    .dataframe tbody tr th:only-of-type {\n",
       "        vertical-align: middle;\n",
       "    }\n",
       "\n",
       "    .dataframe tbody tr th {\n",
       "        vertical-align: top;\n",
       "    }\n",
       "\n",
       "    .dataframe thead th {\n",
       "        text-align: right;\n",
       "    }\n",
       "</style>\n",
       "<table border=\"1\" class=\"dataframe\">\n",
       "  <thead>\n",
       "    <tr style=\"text-align: right;\">\n",
       "      <th></th>\n",
       "      <th>Date</th>\n",
       "      <th>Open</th>\n",
       "      <th>High</th>\n",
       "      <th>Low</th>\n",
       "      <th>Close</th>\n",
       "      <th>Volume</th>\n",
       "      <th>Dividends</th>\n",
       "      <th>Stock Splits</th>\n",
       "    </tr>\n",
       "  </thead>\n",
       "  <tbody>\n",
       "    <tr>\n",
       "      <th>0</th>\n",
       "      <td>2014-09-17</td>\n",
       "      <td>465.864014</td>\n",
       "      <td>468.174011</td>\n",
       "      <td>452.421997</td>\n",
       "      <td>457.334015</td>\n",
       "      <td>21056800</td>\n",
       "      <td>0</td>\n",
       "      <td>0</td>\n",
       "    </tr>\n",
       "    <tr>\n",
       "      <th>1</th>\n",
       "      <td>2014-09-18</td>\n",
       "      <td>456.859985</td>\n",
       "      <td>456.859985</td>\n",
       "      <td>413.104004</td>\n",
       "      <td>424.440002</td>\n",
       "      <td>34483200</td>\n",
       "      <td>0</td>\n",
       "      <td>0</td>\n",
       "    </tr>\n",
       "    <tr>\n",
       "      <th>2</th>\n",
       "      <td>2014-09-19</td>\n",
       "      <td>424.102997</td>\n",
       "      <td>427.834991</td>\n",
       "      <td>384.532013</td>\n",
       "      <td>394.795990</td>\n",
       "      <td>37919700</td>\n",
       "      <td>0</td>\n",
       "      <td>0</td>\n",
       "    </tr>\n",
       "    <tr>\n",
       "      <th>3</th>\n",
       "      <td>2014-09-20</td>\n",
       "      <td>394.673004</td>\n",
       "      <td>423.295990</td>\n",
       "      <td>389.882996</td>\n",
       "      <td>408.903992</td>\n",
       "      <td>36863600</td>\n",
       "      <td>0</td>\n",
       "      <td>0</td>\n",
       "    </tr>\n",
       "    <tr>\n",
       "      <th>4</th>\n",
       "      <td>2014-09-21</td>\n",
       "      <td>408.084991</td>\n",
       "      <td>412.425995</td>\n",
       "      <td>393.181000</td>\n",
       "      <td>398.821014</td>\n",
       "      <td>26580100</td>\n",
       "      <td>0</td>\n",
       "      <td>0</td>\n",
       "    </tr>\n",
       "    <tr>\n",
       "      <th>...</th>\n",
       "      <td>...</td>\n",
       "      <td>...</td>\n",
       "      <td>...</td>\n",
       "      <td>...</td>\n",
       "      <td>...</td>\n",
       "      <td>...</td>\n",
       "      <td>...</td>\n",
       "      <td>...</td>\n",
       "    </tr>\n",
       "    <tr>\n",
       "      <th>2732</th>\n",
       "      <td>2022-03-11</td>\n",
       "      <td>39439.968750</td>\n",
       "      <td>40081.679688</td>\n",
       "      <td>38347.433594</td>\n",
       "      <td>38794.972656</td>\n",
       "      <td>26364890465</td>\n",
       "      <td>0</td>\n",
       "      <td>0</td>\n",
       "    </tr>\n",
       "    <tr>\n",
       "      <th>2733</th>\n",
       "      <td>2022-03-12</td>\n",
       "      <td>38794.464844</td>\n",
       "      <td>39308.597656</td>\n",
       "      <td>38772.535156</td>\n",
       "      <td>38904.011719</td>\n",
       "      <td>14616450657</td>\n",
       "      <td>0</td>\n",
       "      <td>0</td>\n",
       "    </tr>\n",
       "    <tr>\n",
       "      <th>2734</th>\n",
       "      <td>2022-03-13</td>\n",
       "      <td>38884.726562</td>\n",
       "      <td>39209.351562</td>\n",
       "      <td>37728.144531</td>\n",
       "      <td>37849.664062</td>\n",
       "      <td>17300745310</td>\n",
       "      <td>0</td>\n",
       "      <td>0</td>\n",
       "    </tr>\n",
       "    <tr>\n",
       "      <th>2735</th>\n",
       "      <td>2022-03-14</td>\n",
       "      <td>37846.316406</td>\n",
       "      <td>39742.500000</td>\n",
       "      <td>37680.734375</td>\n",
       "      <td>39666.753906</td>\n",
       "      <td>24322159070</td>\n",
       "      <td>0</td>\n",
       "      <td>0</td>\n",
       "    </tr>\n",
       "    <tr>\n",
       "      <th>2736</th>\n",
       "      <td>2022-03-15</td>\n",
       "      <td>39716.980469</td>\n",
       "      <td>39794.628906</td>\n",
       "      <td>38310.210938</td>\n",
       "      <td>39498.710938</td>\n",
       "      <td>24115910656</td>\n",
       "      <td>0</td>\n",
       "      <td>0</td>\n",
       "    </tr>\n",
       "  </tbody>\n",
       "</table>\n",
       "<p>2737 rows × 8 columns</p>\n",
       "</div>"
      ],
      "text/plain": [
       "           Date          Open          High           Low         Close  \\\n",
       "0    2014-09-17    465.864014    468.174011    452.421997    457.334015   \n",
       "1    2014-09-18    456.859985    456.859985    413.104004    424.440002   \n",
       "2    2014-09-19    424.102997    427.834991    384.532013    394.795990   \n",
       "3    2014-09-20    394.673004    423.295990    389.882996    408.903992   \n",
       "4    2014-09-21    408.084991    412.425995    393.181000    398.821014   \n",
       "...         ...           ...           ...           ...           ...   \n",
       "2732 2022-03-11  39439.968750  40081.679688  38347.433594  38794.972656   \n",
       "2733 2022-03-12  38794.464844  39308.597656  38772.535156  38904.011719   \n",
       "2734 2022-03-13  38884.726562  39209.351562  37728.144531  37849.664062   \n",
       "2735 2022-03-14  37846.316406  39742.500000  37680.734375  39666.753906   \n",
       "2736 2022-03-15  39716.980469  39794.628906  38310.210938  39498.710938   \n",
       "\n",
       "           Volume  Dividends  Stock Splits  \n",
       "0        21056800          0             0  \n",
       "1        34483200          0             0  \n",
       "2        37919700          0             0  \n",
       "3        36863600          0             0  \n",
       "4        26580100          0             0  \n",
       "...           ...        ...           ...  \n",
       "2732  26364890465          0             0  \n",
       "2733  14616450657          0             0  \n",
       "2734  17300745310          0             0  \n",
       "2735  24322159070          0             0  \n",
       "2736  24115910656          0             0  \n",
       "\n",
       "[2737 rows x 8 columns]"
      ]
     },
     "execution_count": 66,
     "metadata": {},
     "output_type": "execute_result"
    }
   ],
   "source": [
    "df"
   ]
  },
  {
   "cell_type": "code",
   "execution_count": 67,
   "id": "eb0e3386",
   "metadata": {},
   "outputs": [],
   "source": [
    "cols = list(df)[1:6]\n",
    "df_for_training = df[cols].astype(float)"
   ]
  },
  {
   "cell_type": "code",
   "execution_count": 92,
   "id": "916fbb80",
   "metadata": {},
   "outputs": [
    {
     "data": {
      "text/html": [
       "<div>\n",
       "<style scoped>\n",
       "    .dataframe tbody tr th:only-of-type {\n",
       "        vertical-align: middle;\n",
       "    }\n",
       "\n",
       "    .dataframe tbody tr th {\n",
       "        vertical-align: top;\n",
       "    }\n",
       "\n",
       "    .dataframe thead th {\n",
       "        text-align: right;\n",
       "    }\n",
       "</style>\n",
       "<table border=\"1\" class=\"dataframe\">\n",
       "  <thead>\n",
       "    <tr style=\"text-align: right;\">\n",
       "      <th></th>\n",
       "      <th>Open</th>\n",
       "      <th>High</th>\n",
       "      <th>Low</th>\n",
       "      <th>Close</th>\n",
       "      <th>Volume</th>\n",
       "    </tr>\n",
       "  </thead>\n",
       "  <tbody>\n",
       "    <tr>\n",
       "      <th>0</th>\n",
       "      <td>465.864014</td>\n",
       "      <td>468.174011</td>\n",
       "      <td>452.421997</td>\n",
       "      <td>457.334015</td>\n",
       "      <td>2.105680e+07</td>\n",
       "    </tr>\n",
       "    <tr>\n",
       "      <th>1</th>\n",
       "      <td>456.859985</td>\n",
       "      <td>456.859985</td>\n",
       "      <td>413.104004</td>\n",
       "      <td>424.440002</td>\n",
       "      <td>3.448320e+07</td>\n",
       "    </tr>\n",
       "    <tr>\n",
       "      <th>2</th>\n",
       "      <td>424.102997</td>\n",
       "      <td>427.834991</td>\n",
       "      <td>384.532013</td>\n",
       "      <td>394.795990</td>\n",
       "      <td>3.791970e+07</td>\n",
       "    </tr>\n",
       "    <tr>\n",
       "      <th>3</th>\n",
       "      <td>394.673004</td>\n",
       "      <td>423.295990</td>\n",
       "      <td>389.882996</td>\n",
       "      <td>408.903992</td>\n",
       "      <td>3.686360e+07</td>\n",
       "    </tr>\n",
       "    <tr>\n",
       "      <th>4</th>\n",
       "      <td>408.084991</td>\n",
       "      <td>412.425995</td>\n",
       "      <td>393.181000</td>\n",
       "      <td>398.821014</td>\n",
       "      <td>2.658010e+07</td>\n",
       "    </tr>\n",
       "    <tr>\n",
       "      <th>...</th>\n",
       "      <td>...</td>\n",
       "      <td>...</td>\n",
       "      <td>...</td>\n",
       "      <td>...</td>\n",
       "      <td>...</td>\n",
       "    </tr>\n",
       "    <tr>\n",
       "      <th>2732</th>\n",
       "      <td>39439.968750</td>\n",
       "      <td>40081.679688</td>\n",
       "      <td>38347.433594</td>\n",
       "      <td>38794.972656</td>\n",
       "      <td>2.636489e+10</td>\n",
       "    </tr>\n",
       "    <tr>\n",
       "      <th>2733</th>\n",
       "      <td>38794.464844</td>\n",
       "      <td>39308.597656</td>\n",
       "      <td>38772.535156</td>\n",
       "      <td>38904.011719</td>\n",
       "      <td>1.461645e+10</td>\n",
       "    </tr>\n",
       "    <tr>\n",
       "      <th>2734</th>\n",
       "      <td>38884.726562</td>\n",
       "      <td>39209.351562</td>\n",
       "      <td>37728.144531</td>\n",
       "      <td>37849.664062</td>\n",
       "      <td>1.730075e+10</td>\n",
       "    </tr>\n",
       "    <tr>\n",
       "      <th>2735</th>\n",
       "      <td>37846.316406</td>\n",
       "      <td>39742.500000</td>\n",
       "      <td>37680.734375</td>\n",
       "      <td>39666.753906</td>\n",
       "      <td>2.432216e+10</td>\n",
       "    </tr>\n",
       "    <tr>\n",
       "      <th>2736</th>\n",
       "      <td>39716.980469</td>\n",
       "      <td>39794.628906</td>\n",
       "      <td>38310.210938</td>\n",
       "      <td>39498.710938</td>\n",
       "      <td>2.411591e+10</td>\n",
       "    </tr>\n",
       "  </tbody>\n",
       "</table>\n",
       "<p>2737 rows × 5 columns</p>\n",
       "</div>"
      ],
      "text/plain": [
       "              Open          High           Low         Close        Volume\n",
       "0       465.864014    468.174011    452.421997    457.334015  2.105680e+07\n",
       "1       456.859985    456.859985    413.104004    424.440002  3.448320e+07\n",
       "2       424.102997    427.834991    384.532013    394.795990  3.791970e+07\n",
       "3       394.673004    423.295990    389.882996    408.903992  3.686360e+07\n",
       "4       408.084991    412.425995    393.181000    398.821014  2.658010e+07\n",
       "...            ...           ...           ...           ...           ...\n",
       "2732  39439.968750  40081.679688  38347.433594  38794.972656  2.636489e+10\n",
       "2733  38794.464844  39308.597656  38772.535156  38904.011719  1.461645e+10\n",
       "2734  38884.726562  39209.351562  37728.144531  37849.664062  1.730075e+10\n",
       "2735  37846.316406  39742.500000  37680.734375  39666.753906  2.432216e+10\n",
       "2736  39716.980469  39794.628906  38310.210938  39498.710938  2.411591e+10\n",
       "\n",
       "[2737 rows x 5 columns]"
      ]
     },
     "execution_count": 92,
     "metadata": {},
     "output_type": "execute_result"
    }
   ],
   "source": [
    "df_for_training"
   ]
  },
  {
   "cell_type": "code",
   "execution_count": 68,
   "id": "085654c8",
   "metadata": {},
   "outputs": [],
   "source": [
    "scaler = StandardScaler()\n",
    "scaler = scaler.fit(df_for_training)\n",
    "df_for_training_scaled = scaler.transform(df_for_training)"
   ]
  },
  {
   "cell_type": "code",
   "execution_count": 93,
   "id": "211b1e50",
   "metadata": {},
   "outputs": [
    {
     "data": {
      "text/plain": [
       "array([[-0.68269294, -0.68333914, -0.68352779, -0.68385153, -0.7403326 ],\n",
       "       [-0.68324707, -0.68401727, -0.68602457, -0.6858755 , -0.73966   ],\n",
       "       [-0.68526301, -0.68575694, -0.68783896, -0.68769949, -0.73948784],\n",
       "       ...,\n",
       "       [ 1.68169514,  1.63869091,  1.68356524,  1.61689963,  0.12530864],\n",
       "       [ 1.61778891,  1.67064623,  1.68055459,  1.72870522,  0.47705256],\n",
       "       [ 1.73291403,  1.67377068,  1.72052778,  1.71836553,  0.46672037]])"
      ]
     },
     "execution_count": 93,
     "metadata": {},
     "output_type": "execute_result"
    }
   ],
   "source": [
    "df_for_training_scaled"
   ]
  },
  {
   "cell_type": "code",
   "execution_count": 90,
   "id": "693d28be",
   "metadata": {},
   "outputs": [],
   "source": [
    "trainX = []\n",
    "trainY = []\n",
    "\n",
    "n_future = 1   # Number of days we want to predict into the future\n",
    "n_past = 60     # Number of past days we want to use to predict the future"
   ]
  },
  {
   "cell_type": "code",
   "execution_count": 91,
   "id": "d3dafa97",
   "metadata": {},
   "outputs": [
    {
     "ename": "TypeError",
     "evalue": "'(slice(0, 60, None), slice(0, 5, None))' is an invalid key",
     "output_type": "error",
     "traceback": [
      "\u001b[1;31m---------------------------------------------------------------------------\u001b[0m",
      "\u001b[1;31mTypeError\u001b[0m                                 Traceback (most recent call last)",
      "\u001b[1;32m~\\AppData\\Local\\Temp/ipykernel_18024/3104046873.py\u001b[0m in \u001b[0;36m<module>\u001b[1;34m\u001b[0m\n\u001b[0;32m      4\u001b[0m \u001b[1;33m\u001b[0m\u001b[0m\n\u001b[0;32m      5\u001b[0m \u001b[1;32mfor\u001b[0m \u001b[0mi\u001b[0m \u001b[1;32min\u001b[0m \u001b[0mrange\u001b[0m\u001b[1;33m(\u001b[0m\u001b[0mn_past\u001b[0m\u001b[1;33m,\u001b[0m \u001b[0mlen\u001b[0m\u001b[1;33m(\u001b[0m\u001b[0mdf_for_training\u001b[0m\u001b[1;33m)\u001b[0m \u001b[1;33m-\u001b[0m \u001b[0mn_future\u001b[0m \u001b[1;33m+\u001b[0m\u001b[1;36m1\u001b[0m\u001b[1;33m)\u001b[0m\u001b[1;33m:\u001b[0m\u001b[1;33m\u001b[0m\u001b[1;33m\u001b[0m\u001b[0m\n\u001b[1;32m----> 6\u001b[1;33m     \u001b[0mtrainX1\u001b[0m\u001b[1;33m.\u001b[0m\u001b[0mappend\u001b[0m\u001b[1;33m(\u001b[0m\u001b[0mdf_for_training\u001b[0m\u001b[1;33m[\u001b[0m\u001b[0mi\u001b[0m \u001b[1;33m-\u001b[0m \u001b[0mn_past\u001b[0m\u001b[1;33m:\u001b[0m\u001b[0mi\u001b[0m\u001b[1;33m,\u001b[0m \u001b[1;36m0\u001b[0m\u001b[1;33m:\u001b[0m\u001b[0mdf_for_training\u001b[0m\u001b[1;33m.\u001b[0m\u001b[0mshape\u001b[0m\u001b[1;33m[\u001b[0m\u001b[1;36m1\u001b[0m\u001b[1;33m]\u001b[0m\u001b[1;33m]\u001b[0m\u001b[1;33m)\u001b[0m\u001b[1;33m\u001b[0m\u001b[1;33m\u001b[0m\u001b[0m\n\u001b[0m\u001b[0;32m      7\u001b[0m     \u001b[0mtrainY1\u001b[0m\u001b[1;33m.\u001b[0m\u001b[0mappend\u001b[0m\u001b[1;33m(\u001b[0m\u001b[0mdf_for_training\u001b[0m\u001b[1;33m[\u001b[0m\u001b[0mi\u001b[0m \u001b[1;33m+\u001b[0m \u001b[0mn_future\u001b[0m \u001b[1;33m-\u001b[0m \u001b[1;36m1\u001b[0m\u001b[1;33m:\u001b[0m\u001b[0mi\u001b[0m \u001b[1;33m+\u001b[0m \u001b[0mn_future\u001b[0m\u001b[1;33m,\u001b[0m \u001b[1;36m0\u001b[0m\u001b[1;33m]\u001b[0m\u001b[1;33m)\u001b[0m\u001b[1;33m\u001b[0m\u001b[1;33m\u001b[0m\u001b[0m\n",
      "\u001b[1;32m~\\.conda\\envs\\Deep_learning\\lib\\site-packages\\pandas\\core\\frame.py\u001b[0m in \u001b[0;36m__getitem__\u001b[1;34m(self, key)\u001b[0m\n\u001b[0;32m   3456\u001b[0m             \u001b[1;32mif\u001b[0m \u001b[0mself\u001b[0m\u001b[1;33m.\u001b[0m\u001b[0mcolumns\u001b[0m\u001b[1;33m.\u001b[0m\u001b[0mnlevels\u001b[0m \u001b[1;33m>\u001b[0m \u001b[1;36m1\u001b[0m\u001b[1;33m:\u001b[0m\u001b[1;33m\u001b[0m\u001b[1;33m\u001b[0m\u001b[0m\n\u001b[0;32m   3457\u001b[0m                 \u001b[1;32mreturn\u001b[0m \u001b[0mself\u001b[0m\u001b[1;33m.\u001b[0m\u001b[0m_getitem_multilevel\u001b[0m\u001b[1;33m(\u001b[0m\u001b[0mkey\u001b[0m\u001b[1;33m)\u001b[0m\u001b[1;33m\u001b[0m\u001b[1;33m\u001b[0m\u001b[0m\n\u001b[1;32m-> 3458\u001b[1;33m             \u001b[0mindexer\u001b[0m \u001b[1;33m=\u001b[0m \u001b[0mself\u001b[0m\u001b[1;33m.\u001b[0m\u001b[0mcolumns\u001b[0m\u001b[1;33m.\u001b[0m\u001b[0mget_loc\u001b[0m\u001b[1;33m(\u001b[0m\u001b[0mkey\u001b[0m\u001b[1;33m)\u001b[0m\u001b[1;33m\u001b[0m\u001b[1;33m\u001b[0m\u001b[0m\n\u001b[0m\u001b[0;32m   3459\u001b[0m             \u001b[1;32mif\u001b[0m \u001b[0mis_integer\u001b[0m\u001b[1;33m(\u001b[0m\u001b[0mindexer\u001b[0m\u001b[1;33m)\u001b[0m\u001b[1;33m:\u001b[0m\u001b[1;33m\u001b[0m\u001b[1;33m\u001b[0m\u001b[0m\n\u001b[0;32m   3460\u001b[0m                 \u001b[0mindexer\u001b[0m \u001b[1;33m=\u001b[0m \u001b[1;33m[\u001b[0m\u001b[0mindexer\u001b[0m\u001b[1;33m]\u001b[0m\u001b[1;33m\u001b[0m\u001b[1;33m\u001b[0m\u001b[0m\n",
      "\u001b[1;32m~\\.conda\\envs\\Deep_learning\\lib\\site-packages\\pandas\\core\\indexes\\base.py\u001b[0m in \u001b[0;36mget_loc\u001b[1;34m(self, key, method, tolerance)\u001b[0m\n\u001b[0;32m   3359\u001b[0m             \u001b[0mcasted_key\u001b[0m \u001b[1;33m=\u001b[0m \u001b[0mself\u001b[0m\u001b[1;33m.\u001b[0m\u001b[0m_maybe_cast_indexer\u001b[0m\u001b[1;33m(\u001b[0m\u001b[0mkey\u001b[0m\u001b[1;33m)\u001b[0m\u001b[1;33m\u001b[0m\u001b[1;33m\u001b[0m\u001b[0m\n\u001b[0;32m   3360\u001b[0m             \u001b[1;32mtry\u001b[0m\u001b[1;33m:\u001b[0m\u001b[1;33m\u001b[0m\u001b[1;33m\u001b[0m\u001b[0m\n\u001b[1;32m-> 3361\u001b[1;33m                 \u001b[1;32mreturn\u001b[0m \u001b[0mself\u001b[0m\u001b[1;33m.\u001b[0m\u001b[0m_engine\u001b[0m\u001b[1;33m.\u001b[0m\u001b[0mget_loc\u001b[0m\u001b[1;33m(\u001b[0m\u001b[0mcasted_key\u001b[0m\u001b[1;33m)\u001b[0m\u001b[1;33m\u001b[0m\u001b[1;33m\u001b[0m\u001b[0m\n\u001b[0m\u001b[0;32m   3362\u001b[0m             \u001b[1;32mexcept\u001b[0m \u001b[0mKeyError\u001b[0m \u001b[1;32mas\u001b[0m \u001b[0merr\u001b[0m\u001b[1;33m:\u001b[0m\u001b[1;33m\u001b[0m\u001b[1;33m\u001b[0m\u001b[0m\n\u001b[0;32m   3363\u001b[0m                 \u001b[1;32mraise\u001b[0m \u001b[0mKeyError\u001b[0m\u001b[1;33m(\u001b[0m\u001b[0mkey\u001b[0m\u001b[1;33m)\u001b[0m \u001b[1;32mfrom\u001b[0m \u001b[0merr\u001b[0m\u001b[1;33m\u001b[0m\u001b[1;33m\u001b[0m\u001b[0m\n",
      "\u001b[1;32m~\\.conda\\envs\\Deep_learning\\lib\\site-packages\\pandas\\_libs\\index.pyx\u001b[0m in \u001b[0;36mpandas._libs.index.IndexEngine.get_loc\u001b[1;34m()\u001b[0m\n",
      "\u001b[1;32m~\\.conda\\envs\\Deep_learning\\lib\\site-packages\\pandas\\_libs\\index.pyx\u001b[0m in \u001b[0;36mpandas._libs.index.IndexEngine.get_loc\u001b[1;34m()\u001b[0m\n",
      "\u001b[1;31mTypeError\u001b[0m: '(slice(0, 60, None), slice(0, 5, None))' is an invalid key"
     ]
    }
   ],
   "source": [
    "# For understanding of which colume it take\n",
    "trainX1 =[]\n",
    "trainY1 =[]\n",
    "\n",
    "for i in range(n_past, len(df_for_training) - n_future +1):\n",
    "    trainX1.append(df_for_training[i - n_past:i, 0:df_for_training.shape[1]])\n",
    "    trainY1.append(df_for_training[i + n_future - 1:i + n_future, 0])"
   ]
  },
  {
   "cell_type": "code",
   "execution_count": null,
   "id": "ebce2085",
   "metadata": {},
   "outputs": [],
   "source": []
  },
  {
   "cell_type": "code",
   "execution_count": 70,
   "id": "49ab679e",
   "metadata": {},
   "outputs": [],
   "source": [
    "for i in range(n_past, len(df_for_training_scaled) - n_future +1):\n",
    "    trainX.append(df_for_training_scaled[i - n_past:i, 0:df_for_training.shape[1]])\n",
    "    trainY.append(df_for_training_scaled[i + n_future - 1:i + n_future, 0])"
   ]
  },
  {
   "cell_type": "code",
   "execution_count": 71,
   "id": "37c8bc85",
   "metadata": {},
   "outputs": [
    {
     "name": "stdout",
     "output_type": "stream",
     "text": [
      "trainX shape == (2677, 60, 5).\n",
      "trainY shape == (2677, 1).\n"
     ]
    }
   ],
   "source": [
    "trainX, trainY = np.array(trainX), np.array(trainY)\n",
    "\n",
    "print('trainX shape == {}.'.format(trainX.shape))\n",
    "print('trainY shape == {}.'.format(trainY.shape))"
   ]
  },
  {
   "cell_type": "code",
   "execution_count": 72,
   "id": "d5a76124",
   "metadata": {},
   "outputs": [],
   "source": [
    "from keras.models import Sequential\n",
    "from keras.layers import Dense, Dropout, LSTM\n",
    "from keras.utils.vis_utils import plot_model\n",
    "\n",
    "model = Sequential()\n",
    "model.add(LSTM(64, activation='relu', input_shape=(trainX.shape[1], trainX.shape[2]), return_sequences=True))\n",
    "model.add(LSTM(32, activation='relu', return_sequences=False))\n",
    "model.add(Dropout(0.2))\n",
    "model.add(Dense(trainY.shape[1]))"
   ]
  },
  {
   "cell_type": "code",
   "execution_count": 73,
   "id": "507fc113",
   "metadata": {},
   "outputs": [
    {
     "name": "stdout",
     "output_type": "stream",
     "text": [
      "Model: \"sequential_5\"\n",
      "_________________________________________________________________\n",
      " Layer (type)                Output Shape              Param #   \n",
      "=================================================================\n",
      " lstm_10 (LSTM)              (None, 60, 64)            17920     \n",
      "                                                                 \n",
      " lstm_11 (LSTM)              (None, 32)                12416     \n",
      "                                                                 \n",
      " dropout_2 (Dropout)         (None, 32)                0         \n",
      "                                                                 \n",
      " dense_5 (Dense)             (None, 1)                 33        \n",
      "                                                                 \n",
      "=================================================================\n",
      "Total params: 30,369\n",
      "Trainable params: 30,369\n",
      "Non-trainable params: 0\n",
      "_________________________________________________________________\n"
     ]
    }
   ],
   "source": [
    "model.compile(optimizer='adam', loss='mse')\n",
    "model.summary()"
   ]
  },
  {
   "cell_type": "code",
   "execution_count": 74,
   "id": "b3ff93b0",
   "metadata": {},
   "outputs": [
    {
     "name": "stdout",
     "output_type": "stream",
     "text": [
      "Epoch 1/10\n",
      "151/151 [==============================] - 10s 52ms/step - loss: 0.0906 - val_loss: 0.2428\n",
      "Epoch 2/10\n",
      "151/151 [==============================] - 8s 52ms/step - loss: 0.0299 - val_loss: 0.1620\n",
      "Epoch 3/10\n",
      "151/151 [==============================] - 7s 45ms/step - loss: 0.0231 - val_loss: 0.0627\n",
      "Epoch 4/10\n",
      "151/151 [==============================] - 8s 52ms/step - loss: 0.0178 - val_loss: 0.0362\n",
      "Epoch 5/10\n",
      "151/151 [==============================] - 7s 49ms/step - loss: 0.0188 - val_loss: 0.0456\n",
      "Epoch 6/10\n",
      "151/151 [==============================] - 8s 50ms/step - loss: 0.0155 - val_loss: 0.0548\n",
      "Epoch 7/10\n",
      "151/151 [==============================] - 7s 46ms/step - loss: 0.0194 - val_loss: 0.0413\n",
      "Epoch 8/10\n",
      "151/151 [==============================] - 8s 50ms/step - loss: 0.0171 - val_loss: 0.0321\n",
      "Epoch 9/10\n",
      "151/151 [==============================] - 7s 48ms/step - loss: 0.0192 - val_loss: 0.0256\n",
      "Epoch 10/10\n",
      "151/151 [==============================] - 8s 56ms/step - loss: 0.0144 - val_loss: 0.0280\n"
     ]
    }
   ],
   "source": [
    "history = model.fit(trainX, trainY, epochs=10, batch_size=16, validation_split=0.1, verbose=1)\n"
   ]
  },
  {
   "cell_type": "code",
   "execution_count": 75,
   "id": "887c18d6",
   "metadata": {},
   "outputs": [
    {
     "data": {
      "text/plain": [
       "<matplotlib.legend.Legend at 0x2731f15d340>"
      ]
     },
     "execution_count": 75,
     "metadata": {},
     "output_type": "execute_result"
    },
    {
     "data": {
      "image/png": "[encoded data removed]",
      "text/plain": [
       "<Figure size 1440x720 with 1 Axes>"
      ]
     },
     "metadata": {
      "needs_background": "light"
     },
     "output_type": "display_data"
    }
   ],
   "source": [
    "\n",
    "plt.plot(history.history['loss'], label='Training loss')\n",
    "plt.plot(history.history['val_loss'], label='Validation loss')\n",
    "plt.legend()"
   ]
  },
  {
   "cell_type": "code",
   "execution_count": 76,
   "id": "a5c13a6c",
   "metadata": {},
   "outputs": [],
   "source": [
    "#Forecasting...\n",
    "#Start with the last day in training date and predict future...\n",
    "n_future=90  #Redefining n_future to extend prediction dates beyond original n_future dates...\n",
    "forecast_period_dates = pd.date_range(list(train_dates)[-1], periods=n_future, freq='1d').tolist()"
   ]
  },
  {
   "cell_type": "code",
   "execution_count": 77,
   "id": "7f0256da",
   "metadata": {},
   "outputs": [],
   "source": [
    "forecast = model.predict(trainX[-n_future:]) #forecast "
   ]
  },
  {
   "cell_type": "code",
   "execution_count": 78,
   "id": "fc99c911",
   "metadata": {},
   "outputs": [
    {
     "data": {
      "text/plain": [
       "(90, 1)"
      ]
     },
     "execution_count": 78,
     "metadata": {},
     "output_type": "execute_result"
    }
   ],
   "source": [
    "forecast.shape"
   ]
  },
  {
   "cell_type": "code",
   "execution_count": 79,
   "id": "cd6005d3",
   "metadata": {},
   "outputs": [
    {
     "data": {
      "text/plain": [
       "90"
      ]
     },
     "execution_count": 79,
     "metadata": {},
     "output_type": "execute_result"
    }
   ],
   "source": [
    "len(trainX[-n_future:])"
   ]
  },
  {
   "cell_type": "code",
   "execution_count": 80,
   "id": "19b67845",
   "metadata": {},
   "outputs": [
    {
     "data": {
      "text/plain": [
       "(90, 60, 5)"
      ]
     },
     "execution_count": 80,
     "metadata": {},
     "output_type": "execute_result"
    }
   ],
   "source": [
    "trainX[-n_future:].shape"
   ]
  },
  {
   "cell_type": "code",
   "execution_count": 81,
   "id": "9433e98c",
   "metadata": {},
   "outputs": [],
   "source": [
    "#Perform inverse transformation to rescale back to original range\n",
    "#Since we used 5 variables for transform, the inverse expects same dimensions\n",
    "#Therefore, let us copy our values 5 times and discard them after inverse transform\n",
    "forecast_copies = np.repeat(forecast, df_for_training.shape[1], axis=-1)\n",
    "y_pred_future = scaler.inverse_transform(forecast_copies)[:,0]"
   ]
  },
  {
   "cell_type": "code",
   "execution_count": 82,
   "id": "61e52e0f",
   "metadata": {},
   "outputs": [
    {
     "name": "stdout",
     "output_type": "stream",
     "text": [
      "forecast_copies shape == (90, 5).\n",
      "y_pred_future shape == (90,).\n"
     ]
    }
   ],
   "source": [
    "print('forecast_copies shape == {}.'.format(forecast_copies.shape))\n",
    "print('y_pred_future shape == {}.'.format(y_pred_future.shape))"
   ]
  },
  {
   "cell_type": "code",
   "execution_count": 83,
   "id": "b0f9a787",
   "metadata": {},
   "outputs": [],
   "source": [
    "# Convert timestamp to date\n",
    "forecast_dates = []\n",
    "for time_i in forecast_period_dates:\n",
    "    forecast_dates.append(time_i.date())"
   ]
  },
  {
   "cell_type": "code",
   "execution_count": 84,
   "id": "4b90fb01",
   "metadata": {},
   "outputs": [],
   "source": [
    "df_forecast = pd.DataFrame({'Date':np.array(forecast_dates), 'Open':y_pred_future})\n",
    "df_forecast['Date']=pd.to_datetime(df_forecast['Date'])"
   ]
  },
  {
   "cell_type": "code",
   "execution_count": 85,
   "id": "c59e9e1f",
   "metadata": {},
   "outputs": [
    {
     "name": "stderr",
     "output_type": "stream",
     "text": [
      "C:\\Users\\user\\AppData\\Local\\Temp/ipykernel_18024/749282960.py:2: SettingWithCopyWarning: \n",
      "A value is trying to be set on a copy of a slice from a DataFrame.\n",
      "Try using .loc[row_indexer,col_indexer] = value instead\n",
      "\n",
      "See the caveats in the documentation: https://pandas.pydata.org/pandas-docs/stable/user_guide/indexing.html#returning-a-view-versus-a-copy\n",
      "  original['Date']=pd.to_datetime(original['Date'])\n"
     ]
    }
   ],
   "source": [
    "original = df[['Date', 'Open']]\n",
    "original['Date']=pd.to_datetime(original['Date'])\n",
    "original = original.loc[original['Date'] >= '2021-3-14']"
   ]
  },
  {
   "cell_type": "code",
   "execution_count": 86,
   "id": "cd8c32c4",
   "metadata": {},
   "outputs": [
    {
     "name": "stderr",
     "output_type": "stream",
     "text": [
      "C:\\Users\\user\\.conda\\envs\\Deep_learning\\lib\\site-packages\\seaborn\\_decorators.py:36: FutureWarning: Pass the following variables as keyword args: x, y. From version 0.12, the only valid positional argument will be `data`, and passing other arguments without an explicit keyword will result in an error or misinterpretation.\n",
      "  warnings.warn(\n",
      "C:\\Users\\user\\.conda\\envs\\Deep_learning\\lib\\site-packages\\seaborn\\_decorators.py:36: FutureWarning: Pass the following variables as keyword args: x, y. From version 0.12, the only valid positional argument will be `data`, and passing other arguments without an explicit keyword will result in an error or misinterpretation.\n",
      "  warnings.warn(\n"
     ]
    },
    {
     "data": {
      "text/plain": [
       "<AxesSubplot:xlabel='Date', ylabel='Open'>"
      ]
     },
     "execution_count": 86,
     "metadata": {},
     "output_type": "execute_result"
    },
    {
     "data": {
      "image/png": "[encoded data removed]",
      "text/plain": [
       "<Figure size 1440x720 with 1 Axes>"
      ]
     },
     "metadata": {
      "needs_background": "light"
     },
     "output_type": "display_data"
    }
   ],
   "source": [
    "sns.lineplot(original['Date'], original['Open'])\n",
    "sns.lineplot(df_forecast['Date'], df_forecast['Open'])"
   ]
  },
  {
   "cell_type": "code",
   "execution_count": 87,
   "id": "cd64477f",
   "metadata": {},
   "outputs": [
    {
     "name": "stdout",
     "output_type": "stream",
     "text": [
      "3/3 [==============================] - 0s 20ms/step - loss: 0.0224\n"
     ]
    },
    {
     "data": {
      "text/plain": [
       "0.02238999493420124"
      ]
     },
     "execution_count": 87,
     "metadata": {},
     "output_type": "execute_result"
    }
   ],
   "source": [
    "model.evaluate(trainX[-n_future:], trainY[-n_future:])"
   ]
  },
  {
   "cell_type": "code",
   "execution_count": null,
   "id": "858b411a",
   "metadata": {},
   "outputs": [],
   "source": []
  },
  {
   "cell_type": "code",
   "execution_count": null,
   "id": "8a30e009",
   "metadata": {},
   "outputs": [],
   "source": []
  }
 ],
 "metadata": {
  "kernelspec": {
   "display_name": "Python 3 (ipykernel)",
   "language": "python",
   "name": "python3"
  },
  "language_info": {
   "codemirror_mode": {
    "name": "ipython",
    "version": 3
   },
   "file_extension": ".py",
   "mimetype": "text/x-python",
   "name": "python",
   "nbconvert_exporter": "python",
   "pygments_lexer": "ipython3",
   "version": "3.8.12"
  }
 },
 "nbformat": 4,
 "nbformat_minor": 5
}

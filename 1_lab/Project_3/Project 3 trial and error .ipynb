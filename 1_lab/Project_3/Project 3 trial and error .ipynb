{
 "cells": [
  {
   "cell_type": "markdown",
   "id": "ab8f8af2",
   "metadata": {},
   "source": [
    "# Bitcoin price prediction "
   ]
  },
  {
   "cell_type": "markdown",
   "id": "c90b9745",
   "metadata": {},
   "source": [
    "# Split the data for training and testing \n",
    "# Training data can be 2021 \n",
    "# Test data can be 2022 or 30/60days\n",
    "# \n",
    "# Time series need to use linear regression method \n",
    "# autoregressive integrated moving average (ARIMA) method for forecasting time series assumes stationarity\n",
    "# cannot use cross val/ k fold method as it will jumble up the time series \n",
    "# if i have more time, get data from other source then will affect the bitcoin price "
   ]
  },
  {
   "cell_type": "code",
   "execution_count": 19,
   "id": "57a5e45c",
   "metadata": {},
   "outputs": [],
   "source": [
    "import numpy as np\n",
    "import pandas as pd\n",
    "import datetime as dt\n",
    "import seaborn as sns\n",
    "\n",
    "%matplotlib inline\n",
    "import matplotlib.pyplot as plt\n",
    "import matplotlib.gridspec as gridspec\n",
    "\n",
    "from sklearn import linear_model\n",
    "from sklearn.ensemble import RandomForestClassifier\n",
    "from sklearn.linear_model import LogisticRegression\n",
    "from sklearn.model_selection import train_test_split\n",
    "from sklearn.naive_bayes import GaussianNB \n",
    "from sklearn.neighbors import KNeighborsClassifier\n",
    "from sklearn.preprocessing import StandardScaler\n",
    "from sklearn.preprocessing import MinMaxScaler\n",
    "from sklearn.tree import DecisionTreeClassifier\n",
    "from sklearn.pipeline import Pipeline\n",
    "from sklearn import svm\n",
    "from xgboost import XGBClassifier\n",
    "from sklearn.metrics import plot_confusion_matrix\n",
    "\n",
    "\n",
    "from mlxtend.classifier import StackingClassifier\n",
    "from mlxtend.plotting import plot_learning_curves\n",
    "from mlxtend.plotting import plot_decision_regions"
   ]
  },
  {
   "cell_type": "code",
   "execution_count": 2,
   "id": "889c2b74",
   "metadata": {},
   "outputs": [],
   "source": [
    "import yfinance as yf"
   ]
  },
  {
   "cell_type": "code",
   "execution_count": 3,
   "id": "00ff0351",
   "metadata": {},
   "outputs": [],
   "source": [
    "ticker = yf.Ticker('BTC-USD')\n",
    "BTC_df = ticker.history(period=\"max\")"
   ]
  },
  {
   "cell_type": "code",
   "execution_count": 4,
   "id": "0c4ba852",
   "metadata": {},
   "outputs": [],
   "source": [
    "BTC_df.reset_index(inplace=True)"
   ]
  },
  {
   "cell_type": "code",
   "execution_count": 5,
   "id": "4b68625e",
   "metadata": {},
   "outputs": [
    {
     "data": {
      "text/html": [
       "<div>\n",
       "<style scoped>\n",
       "    .dataframe tbody tr th:only-of-type {\n",
       "        vertical-align: middle;\n",
       "    }\n",
       "\n",
       "    .dataframe tbody tr th {\n",
       "        vertical-align: top;\n",
       "    }\n",
       "\n",
       "    .dataframe thead th {\n",
       "        text-align: right;\n",
       "    }\n",
       "</style>\n",
       "<table border=\"1\" class=\"dataframe\">\n",
       "  <thead>\n",
       "    <tr style=\"text-align: right;\">\n",
       "      <th></th>\n",
       "      <th>Date</th>\n",
       "      <th>Open</th>\n",
       "      <th>High</th>\n",
       "      <th>Low</th>\n",
       "      <th>Close</th>\n",
       "      <th>Volume</th>\n",
       "      <th>Dividends</th>\n",
       "      <th>Stock Splits</th>\n",
       "    </tr>\n",
       "  </thead>\n",
       "  <tbody>\n",
       "    <tr>\n",
       "      <th>0</th>\n",
       "      <td>2014-09-17</td>\n",
       "      <td>465.864014</td>\n",
       "      <td>468.174011</td>\n",
       "      <td>452.421997</td>\n",
       "      <td>457.334015</td>\n",
       "      <td>21056800</td>\n",
       "      <td>0</td>\n",
       "      <td>0</td>\n",
       "    </tr>\n",
       "    <tr>\n",
       "      <th>1</th>\n",
       "      <td>2014-09-18</td>\n",
       "      <td>456.859985</td>\n",
       "      <td>456.859985</td>\n",
       "      <td>413.104004</td>\n",
       "      <td>424.440002</td>\n",
       "      <td>34483200</td>\n",
       "      <td>0</td>\n",
       "      <td>0</td>\n",
       "    </tr>\n",
       "    <tr>\n",
       "      <th>2</th>\n",
       "      <td>2014-09-19</td>\n",
       "      <td>424.102997</td>\n",
       "      <td>427.834991</td>\n",
       "      <td>384.532013</td>\n",
       "      <td>394.795990</td>\n",
       "      <td>37919700</td>\n",
       "      <td>0</td>\n",
       "      <td>0</td>\n",
       "    </tr>\n",
       "    <tr>\n",
       "      <th>3</th>\n",
       "      <td>2014-09-20</td>\n",
       "      <td>394.673004</td>\n",
       "      <td>423.295990</td>\n",
       "      <td>389.882996</td>\n",
       "      <td>408.903992</td>\n",
       "      <td>36863600</td>\n",
       "      <td>0</td>\n",
       "      <td>0</td>\n",
       "    </tr>\n",
       "    <tr>\n",
       "      <th>4</th>\n",
       "      <td>2014-09-21</td>\n",
       "      <td>408.084991</td>\n",
       "      <td>412.425995</td>\n",
       "      <td>393.181000</td>\n",
       "      <td>398.821014</td>\n",
       "      <td>26580100</td>\n",
       "      <td>0</td>\n",
       "      <td>0</td>\n",
       "    </tr>\n",
       "    <tr>\n",
       "      <th>...</th>\n",
       "      <td>...</td>\n",
       "      <td>...</td>\n",
       "      <td>...</td>\n",
       "      <td>...</td>\n",
       "      <td>...</td>\n",
       "      <td>...</td>\n",
       "      <td>...</td>\n",
       "      <td>...</td>\n",
       "    </tr>\n",
       "    <tr>\n",
       "      <th>2707</th>\n",
       "      <td>2022-02-14</td>\n",
       "      <td>42157.398438</td>\n",
       "      <td>42775.777344</td>\n",
       "      <td>41681.957031</td>\n",
       "      <td>42586.917969</td>\n",
       "      <td>20827783012</td>\n",
       "      <td>0</td>\n",
       "      <td>0</td>\n",
       "    </tr>\n",
       "    <tr>\n",
       "      <th>2708</th>\n",
       "      <td>2022-02-15</td>\n",
       "      <td>42586.464844</td>\n",
       "      <td>44667.218750</td>\n",
       "      <td>42491.035156</td>\n",
       "      <td>44575.203125</td>\n",
       "      <td>22721659051</td>\n",
       "      <td>0</td>\n",
       "      <td>0</td>\n",
       "    </tr>\n",
       "    <tr>\n",
       "      <th>2709</th>\n",
       "      <td>2022-02-16</td>\n",
       "      <td>44578.277344</td>\n",
       "      <td>44578.277344</td>\n",
       "      <td>43456.691406</td>\n",
       "      <td>43961.859375</td>\n",
       "      <td>19792547657</td>\n",
       "      <td>0</td>\n",
       "      <td>0</td>\n",
       "    </tr>\n",
       "    <tr>\n",
       "      <th>2710</th>\n",
       "      <td>2022-02-17</td>\n",
       "      <td>43937.070312</td>\n",
       "      <td>44132.972656</td>\n",
       "      <td>40249.371094</td>\n",
       "      <td>40538.011719</td>\n",
       "      <td>26246662813</td>\n",
       "      <td>0</td>\n",
       "      <td>0</td>\n",
       "    </tr>\n",
       "    <tr>\n",
       "      <th>2711</th>\n",
       "      <td>2022-02-18</td>\n",
       "      <td>40475.714844</td>\n",
       "      <td>40922.371094</td>\n",
       "      <td>39696.546875</td>\n",
       "      <td>39974.738281</td>\n",
       "      <td>23475279872</td>\n",
       "      <td>0</td>\n",
       "      <td>0</td>\n",
       "    </tr>\n",
       "  </tbody>\n",
       "</table>\n",
       "<p>2712 rows × 8 columns</p>\n",
       "</div>"
      ],
      "text/plain": [
       "           Date          Open          High           Low         Close  \\\n",
       "0    2014-09-17    465.864014    468.174011    452.421997    457.334015   \n",
       "1    2014-09-18    456.859985    456.859985    413.104004    424.440002   \n",
       "2    2014-09-19    424.102997    427.834991    384.532013    394.795990   \n",
       "3    2014-09-20    394.673004    423.295990    389.882996    408.903992   \n",
       "4    2014-09-21    408.084991    412.425995    393.181000    398.821014   \n",
       "...         ...           ...           ...           ...           ...   \n",
       "2707 2022-02-14  42157.398438  42775.777344  41681.957031  42586.917969   \n",
       "2708 2022-02-15  42586.464844  44667.218750  42491.035156  44575.203125   \n",
       "2709 2022-02-16  44578.277344  44578.277344  43456.691406  43961.859375   \n",
       "2710 2022-02-17  43937.070312  44132.972656  40249.371094  40538.011719   \n",
       "2711 2022-02-18  40475.714844  40922.371094  39696.546875  39974.738281   \n",
       "\n",
       "           Volume  Dividends  Stock Splits  \n",
       "0        21056800          0             0  \n",
       "1        34483200          0             0  \n",
       "2        37919700          0             0  \n",
       "3        36863600          0             0  \n",
       "4        26580100          0             0  \n",
       "...           ...        ...           ...  \n",
       "2707  20827783012          0             0  \n",
       "2708  22721659051          0             0  \n",
       "2709  19792547657          0             0  \n",
       "2710  26246662813          0             0  \n",
       "2711  23475279872          0             0  \n",
       "\n",
       "[2712 rows x 8 columns]"
      ]
     },
     "execution_count": 5,
     "metadata": {},
     "output_type": "execute_result"
    }
   ],
   "source": [
    "BTC_df"
   ]
  },
  {
   "cell_type": "code",
   "execution_count": 6,
   "id": "9743f6ad",
   "metadata": {},
   "outputs": [
    {
     "data": {
      "text/plain": [
       "Text(0.5, 1.0, 'Bitcoin Price')"
      ]
     },
     "execution_count": 6,
     "metadata": {},
     "output_type": "execute_result"
    },
    {
     "data": {
      "image/png": "[encoded data removed]",
      "text/plain": [
       "<Figure size 1440x720 with 1 Axes>"
      ]
     },
     "metadata": {
      "needs_background": "light"
     },
     "output_type": "display_data"
    }
   ],
   "source": [
    "fig, ax = plt.subplots(figsize=(20, 10))\n",
    "ax.plot(BTC_df['Date'],BTC_df['Close'], color='steelblue')\n",
    "ax.set_xlabel('Date', fontsize = 16)\n",
    "ax.set_ylabel('Price', fontsize = 16)\n",
    "ax.set_title('Bitcoin Price', fontsize = 20)"
   ]
  },
  {
   "cell_type": "code",
   "execution_count": 7,
   "id": "152af5a5",
   "metadata": {},
   "outputs": [],
   "source": [
    "BTC_df.drop(['Dividends', 'Stock Splits'], axis = 1, inplace= True)"
   ]
  },
  {
   "cell_type": "code",
   "execution_count": 8,
   "id": "69060fcc",
   "metadata": {},
   "outputs": [
    {
     "name": "stdout",
     "output_type": "stream",
     "text": [
      "<class 'pandas.core.frame.DataFrame'>\n",
      "RangeIndex: 2712 entries, 0 to 2711\n",
      "Data columns (total 6 columns):\n",
      " #   Column  Non-Null Count  Dtype         \n",
      "---  ------  --------------  -----         \n",
      " 0   Date    2712 non-null   datetime64[ns]\n",
      " 1   Open    2712 non-null   float64       \n",
      " 2   High    2712 non-null   float64       \n",
      " 3   Low     2712 non-null   float64       \n",
      " 4   Close   2712 non-null   float64       \n",
      " 5   Volume  2712 non-null   int64         \n",
      "dtypes: datetime64[ns](1), float64(4), int64(1)\n",
      "memory usage: 127.2 KB\n"
     ]
    }
   ],
   "source": [
    "BTC_df.info()"
   ]
  },
  {
   "cell_type": "code",
   "execution_count": 9,
   "id": "d00f349e",
   "metadata": {},
   "outputs": [
    {
     "data": {
      "text/html": [
       "<div>\n",
       "<style scoped>\n",
       "    .dataframe tbody tr th:only-of-type {\n",
       "        vertical-align: middle;\n",
       "    }\n",
       "\n",
       "    .dataframe tbody tr th {\n",
       "        vertical-align: top;\n",
       "    }\n",
       "\n",
       "    .dataframe thead th {\n",
       "        text-align: right;\n",
       "    }\n",
       "</style>\n",
       "<table border=\"1\" class=\"dataframe\">\n",
       "  <thead>\n",
       "    <tr style=\"text-align: right;\">\n",
       "      <th></th>\n",
       "      <th>Date</th>\n",
       "      <th>Open</th>\n",
       "      <th>High</th>\n",
       "      <th>Low</th>\n",
       "      <th>Close</th>\n",
       "      <th>Volume</th>\n",
       "      <th>Profit_or_losses</th>\n",
       "    </tr>\n",
       "  </thead>\n",
       "  <tbody>\n",
       "    <tr>\n",
       "      <th>0</th>\n",
       "      <td>2014-09-17</td>\n",
       "      <td>465.864014</td>\n",
       "      <td>468.174011</td>\n",
       "      <td>452.421997</td>\n",
       "      <td>457.334015</td>\n",
       "      <td>21056800</td>\n",
       "      <td>0</td>\n",
       "    </tr>\n",
       "    <tr>\n",
       "      <th>1</th>\n",
       "      <td>2014-09-18</td>\n",
       "      <td>456.859985</td>\n",
       "      <td>456.859985</td>\n",
       "      <td>413.104004</td>\n",
       "      <td>424.440002</td>\n",
       "      <td>34483200</td>\n",
       "      <td>0</td>\n",
       "    </tr>\n",
       "    <tr>\n",
       "      <th>2</th>\n",
       "      <td>2014-09-19</td>\n",
       "      <td>424.102997</td>\n",
       "      <td>427.834991</td>\n",
       "      <td>384.532013</td>\n",
       "      <td>394.795990</td>\n",
       "      <td>37919700</td>\n",
       "      <td>0</td>\n",
       "    </tr>\n",
       "    <tr>\n",
       "      <th>3</th>\n",
       "      <td>2014-09-20</td>\n",
       "      <td>394.673004</td>\n",
       "      <td>423.295990</td>\n",
       "      <td>389.882996</td>\n",
       "      <td>408.903992</td>\n",
       "      <td>36863600</td>\n",
       "      <td>1</td>\n",
       "    </tr>\n",
       "    <tr>\n",
       "      <th>4</th>\n",
       "      <td>2014-09-21</td>\n",
       "      <td>408.084991</td>\n",
       "      <td>412.425995</td>\n",
       "      <td>393.181000</td>\n",
       "      <td>398.821014</td>\n",
       "      <td>26580100</td>\n",
       "      <td>0</td>\n",
       "    </tr>\n",
       "    <tr>\n",
       "      <th>...</th>\n",
       "      <td>...</td>\n",
       "      <td>...</td>\n",
       "      <td>...</td>\n",
       "      <td>...</td>\n",
       "      <td>...</td>\n",
       "      <td>...</td>\n",
       "      <td>...</td>\n",
       "    </tr>\n",
       "    <tr>\n",
       "      <th>2707</th>\n",
       "      <td>2022-02-14</td>\n",
       "      <td>42157.398438</td>\n",
       "      <td>42775.777344</td>\n",
       "      <td>41681.957031</td>\n",
       "      <td>42586.917969</td>\n",
       "      <td>20827783012</td>\n",
       "      <td>1</td>\n",
       "    </tr>\n",
       "    <tr>\n",
       "      <th>2708</th>\n",
       "      <td>2022-02-15</td>\n",
       "      <td>42586.464844</td>\n",
       "      <td>44667.218750</td>\n",
       "      <td>42491.035156</td>\n",
       "      <td>44575.203125</td>\n",
       "      <td>22721659051</td>\n",
       "      <td>1</td>\n",
       "    </tr>\n",
       "    <tr>\n",
       "      <th>2709</th>\n",
       "      <td>2022-02-16</td>\n",
       "      <td>44578.277344</td>\n",
       "      <td>44578.277344</td>\n",
       "      <td>43456.691406</td>\n",
       "      <td>43961.859375</td>\n",
       "      <td>19792547657</td>\n",
       "      <td>0</td>\n",
       "    </tr>\n",
       "    <tr>\n",
       "      <th>2710</th>\n",
       "      <td>2022-02-17</td>\n",
       "      <td>43937.070312</td>\n",
       "      <td>44132.972656</td>\n",
       "      <td>40249.371094</td>\n",
       "      <td>40538.011719</td>\n",
       "      <td>26246662813</td>\n",
       "      <td>0</td>\n",
       "    </tr>\n",
       "    <tr>\n",
       "      <th>2711</th>\n",
       "      <td>2022-02-18</td>\n",
       "      <td>40475.714844</td>\n",
       "      <td>40922.371094</td>\n",
       "      <td>39696.546875</td>\n",
       "      <td>39974.738281</td>\n",
       "      <td>23475279872</td>\n",
       "      <td>0</td>\n",
       "    </tr>\n",
       "  </tbody>\n",
       "</table>\n",
       "<p>2712 rows × 7 columns</p>\n",
       "</div>"
      ],
      "text/plain": [
       "           Date          Open          High           Low         Close  \\\n",
       "0    2014-09-17    465.864014    468.174011    452.421997    457.334015   \n",
       "1    2014-09-18    456.859985    456.859985    413.104004    424.440002   \n",
       "2    2014-09-19    424.102997    427.834991    384.532013    394.795990   \n",
       "3    2014-09-20    394.673004    423.295990    389.882996    408.903992   \n",
       "4    2014-09-21    408.084991    412.425995    393.181000    398.821014   \n",
       "...         ...           ...           ...           ...           ...   \n",
       "2707 2022-02-14  42157.398438  42775.777344  41681.957031  42586.917969   \n",
       "2708 2022-02-15  42586.464844  44667.218750  42491.035156  44575.203125   \n",
       "2709 2022-02-16  44578.277344  44578.277344  43456.691406  43961.859375   \n",
       "2710 2022-02-17  43937.070312  44132.972656  40249.371094  40538.011719   \n",
       "2711 2022-02-18  40475.714844  40922.371094  39696.546875  39974.738281   \n",
       "\n",
       "           Volume  Profit_or_losses  \n",
       "0        21056800                 0  \n",
       "1        34483200                 0  \n",
       "2        37919700                 0  \n",
       "3        36863600                 1  \n",
       "4        26580100                 0  \n",
       "...           ...               ...  \n",
       "2707  20827783012                 1  \n",
       "2708  22721659051                 1  \n",
       "2709  19792547657                 0  \n",
       "2710  26246662813                 0  \n",
       "2711  23475279872                 0  \n",
       "\n",
       "[2712 rows x 7 columns]"
      ]
     },
     "execution_count": 9,
     "metadata": {},
     "output_type": "execute_result"
    }
   ],
   "source": [
    "outcome = BTC_df['Close'] > BTC_df['Open']\n",
    "BTC_df['Profit_or_losses'] = outcome\n",
    "BTC_df['Profit_or_losses'] = BTC_df['Profit_or_losses'].replace(True, 1)\n",
    "BTC_df['Profit_or_losses'] = BTC_df['Profit_or_losses'].replace(False, 0)\n",
    "BTC_df"
   ]
  },
  {
   "cell_type": "code",
   "execution_count": 10,
   "id": "59728c0c",
   "metadata": {},
   "outputs": [
    {
     "data": {
      "text/plain": [
       "Date                0\n",
       "Open                0\n",
       "High                0\n",
       "Low                 0\n",
       "Close               0\n",
       "Volume              0\n",
       "Profit_or_losses    0\n",
       "dtype: int64"
      ]
     },
     "execution_count": 10,
     "metadata": {},
     "output_type": "execute_result"
    }
   ],
   "source": [
    "BTC_df.isnull().sum()"
   ]
  },
  {
   "cell_type": "code",
   "execution_count": 11,
   "id": "b17b9bfa",
   "metadata": {},
   "outputs": [
    {
     "data": {
      "text/plain": [
       "0"
      ]
     },
     "execution_count": 11,
     "metadata": {},
     "output_type": "execute_result"
    }
   ],
   "source": [
    "BTC_df.duplicated().sum()"
   ]
  },
  {
   "cell_type": "markdown",
   "id": "2f7c2b05",
   "metadata": {},
   "source": [
    "# Assign to the actual price "
   ]
  },
  {
   "cell_type": "code",
   "execution_count": null,
   "id": "d9b4ca19",
   "metadata": {},
   "outputs": [],
   "source": [
    "actual_price = BTC_df['Close'].values"
   ]
  },
  {
   "cell_type": "markdown",
   "id": "eda33418",
   "metadata": {},
   "source": [
    "# Feature Selection"
   ]
  },
  {
   "cell_type": "code",
   "execution_count": 12,
   "id": "197f7ec9",
   "metadata": {},
   "outputs": [],
   "source": [
    "feat = BTC_df.columns[1:6]\n",
    "X = BTC_df[feat]\n",
    "y = BTC_df['Profit_or_losses']"
   ]
  },
  {
   "cell_type": "code",
   "execution_count": 12,
   "id": "099eb8f1",
   "metadata": {},
   "outputs": [
    {
     "ename": "NameError",
     "evalue": "name 'tqdm' is not defined",
     "output_type": "error",
     "traceback": [
      "\u001b[1;31m---------------------------------------------------------------------------\u001b[0m",
      "\u001b[1;31mNameError\u001b[0m                                 Traceback (most recent call last)",
      "\u001b[1;32m<ipython-input-12-c4ccb2a887db>\u001b[0m in \u001b[0;36m<module>\u001b[1;34m\u001b[0m\n\u001b[0;32m      3\u001b[0m \u001b[0mtrain_splits\u001b[0m \u001b[1;33m=\u001b[0m \u001b[1;33m[\u001b[0m\u001b[1;33m]\u001b[0m\u001b[1;33m\u001b[0m\u001b[1;33m\u001b[0m\u001b[0m\n\u001b[0;32m      4\u001b[0m \u001b[0mtest_splits\u001b[0m \u001b[1;33m=\u001b[0m \u001b[1;33m[\u001b[0m\u001b[1;33m]\u001b[0m\u001b[1;33m\u001b[0m\u001b[1;33m\u001b[0m\u001b[0m\n\u001b[1;32m----> 5\u001b[1;33m \u001b[1;32mfor\u001b[0m \u001b[0mi\u001b[0m \u001b[1;32min\u001b[0m \u001b[0mtqdm\u001b[0m\u001b[1;33m(\u001b[0m\u001b[0mrange\u001b[0m\u001b[1;33m(\u001b[0m\u001b[0mtrain_window\u001b[0m\u001b[1;33m,\u001b[0m \u001b[0mlen\u001b[0m\u001b[1;33m(\u001b[0m\u001b[0mBTC_df\u001b[0m\u001b[1;33m)\u001b[0m\u001b[1;33m,\u001b[0m\u001b[0mtest_window\u001b[0m\u001b[1;33m)\u001b[0m\u001b[1;33m)\u001b[0m\u001b[1;33m:\u001b[0m\u001b[1;33m\u001b[0m\u001b[1;33m\u001b[0m\u001b[0m\n\u001b[0m\u001b[0;32m      6\u001b[0m     \u001b[0mtrain_split\u001b[0m \u001b[1;33m=\u001b[0m \u001b[0mfinal_df\u001b[0m\u001b[1;33m[\u001b[0m\u001b[0mi\u001b[0m\u001b[1;33m-\u001b[0m\u001b[0mtrain_window\u001b[0m\u001b[1;33m:\u001b[0m\u001b[0mi\u001b[0m\u001b[1;33m]\u001b[0m\u001b[1;33m\u001b[0m\u001b[1;33m\u001b[0m\u001b[0m\n\u001b[0;32m      7\u001b[0m     \u001b[0mtest_split\u001b[0m \u001b[1;33m=\u001b[0m \u001b[0mfinal_df\u001b[0m\u001b[1;33m[\u001b[0m\u001b[0mi\u001b[0m\u001b[1;33m:\u001b[0m\u001b[0mi\u001b[0m\u001b[1;33m+\u001b[0m\u001b[0mtest_window\u001b[0m\u001b[1;33m]\u001b[0m\u001b[1;33m\u001b[0m\u001b[1;33m\u001b[0m\u001b[0m\n",
      "\u001b[1;31mNameError\u001b[0m: name 'tqdm' is not defined"
     ]
    }
   ],
   "source": [
    "# from tqdm import tqdm \n",
    "# train_window = 500\n",
    "# test_window = 100\n",
    "# train_splits = []\n",
    "# test_splits = []\n",
    "# for i in tqdm(range(train_window, len(BTC_df),test_window)):\n",
    "#     train_split = final_df[i-train_window:i]\n",
    "#     test_split = final_df[i:i+test_window]\n",
    "#     train_splits.append(train_split)\n",
    "#     test_splits.append(test_split)\n",
    "\n"
   ]
  },
  {
   "cell_type": "code",
   "execution_count": 13,
   "id": "ecc27f5d",
   "metadata": {},
   "outputs": [],
   "source": [
    "scaler = StandardScaler()\n",
    "scaled_X = scaler.fit_transform(X)"
   ]
  },
  {
   "cell_type": "code",
   "execution_count": 14,
   "id": "a75231b0",
   "metadata": {},
   "outputs": [
    {
     "data": {
      "text/plain": [
       "2663"
      ]
     },
     "execution_count": 14,
     "metadata": {},
     "output_type": "execute_result"
    }
   ],
   "source": [
    "training_days = pd.date_range(start=\"2014-09-17\",end=\"2021-12-31\")\n",
    "num_training_days = len(training_days)\n",
    "num_training_days"
   ]
  },
  {
   "cell_type": "code",
   "execution_count": 15,
   "id": "db0f9f25",
   "metadata": {},
   "outputs": [],
   "source": [
    "X_train = scaled_X[:num_training_days]\n",
    "y_train = y[:num_training_days]\n",
    "X_test = scaled_X[num_training_days:]\n",
    "y_test = y[num_training_days:]"
   ]
  },
  {
   "cell_type": "code",
   "execution_count": null,
   "id": "f35bba1a",
   "metadata": {},
   "outputs": [],
   "source": [
    "# prediction_test_day = 7\n",
    "# X_train = X[:-prediction_test_day]\n",
    "# y_train = y[:-prediction_test_day]\n",
    "# X_test = X[-prediction_test_day:]\n",
    "# y_test = y[-prediction_test_day:]\n"
   ]
  },
  {
   "cell_type": "markdown",
   "id": "450ad0e3",
   "metadata": {},
   "source": [
    "# using minmaxscaler "
   ]
  },
  {
   "cell_type": "code",
   "execution_count": null,
   "id": "4129ca75",
   "metadata": {},
   "outputs": [],
   "source": [
    "# minmax_scaler = MinMaxScaler()\n",
    "# scaler_mm = minmax_scaler.fit_transform(X)\n",
    "# X_train_mm = scaler_mm[:-prediction_days]\n",
    "# y_train_mm = y[:-prediction_days]\n",
    "# X_test_mm = scaler_mm[-prediction_days:]\n",
    "# y_test_mm = y[-prediction_days:]"
   ]
  },
  {
   "cell_type": "markdown",
   "id": "580d2d12",
   "metadata": {},
   "source": [
    "# in order to understand the price different day to day\n",
    "# i will open a new column to check the price different day 2 - day 1"
   ]
  },
  {
   "cell_type": "code",
   "execution_count": null,
   "id": "2c5b5ca9",
   "metadata": {},
   "outputs": [],
   "source": [
    "# BTC_df['Close_different'] = BTC_df['Close'] - BTC_df['Close'].shift()\n",
    "# BTC_df"
   ]
  },
  {
   "cell_type": "code",
   "execution_count": null,
   "id": "548664e2",
   "metadata": {},
   "outputs": [],
   "source": [
    "# Add  1 more column name prediction \n",
    "# BTC_df['prediction'] = BTC_df['Close'].shift(-7)"
   ]
  },
  {
   "cell_type": "code",
   "execution_count": null,
   "id": "a9666686",
   "metadata": {},
   "outputs": [],
   "source": [
    "# BTC_df"
   ]
  },
  {
   "cell_type": "markdown",
   "id": "995455a0",
   "metadata": {},
   "source": [
    "# Model Selection using different model to try out the data"
   ]
  },
  {
   "cell_type": "code",
   "execution_count": 16,
   "id": "719dacc4",
   "metadata": {},
   "outputs": [],
   "source": [
    "# scoring = 'accuracy'\n",
    "# Append the models to the models list\n",
    "models = []\n",
    "models.append(('LR' , LogisticRegression()))\n",
    "models.append(('KNN' , KNeighborsClassifier()))\n",
    "models.append(('Decision_Tree' , DecisionTreeClassifier()))\n",
    "# models.append(('NB' , GaussianNB()))\n",
    "models.append(('SVM' , svm.SVC(kernel='rbf')))\n",
    "models.append(('RF' , RandomForestClassifier(n_estimators=50)))\n",
    "models.append(('XGBoost', XGBClassifier()))"
   ]
  },
  {
   "cell_type": "code",
   "execution_count": 17,
   "id": "ec0906d6",
   "metadata": {},
   "outputs": [],
   "source": [
    "from sklearn.metrics import classification_report, confusion_matrix, accuracy_score, mean_squared_error\n",
    "from sklearn.metrics import precision_score,recall_score, confusion_matrix, classification_report,accuracy_score, f1_score"
   ]
  },
  {
   "cell_type": "code",
   "execution_count": 20,
   "id": "e6e26dae",
   "metadata": {},
   "outputs": [
    {
     "name": "stdout",
     "output_type": "stream",
     "text": [
      "Model :LR\n",
      "Accuracy Score : 0.8979591836734694\n",
      "f1 Score: 0.9056603773584906\n",
      "Recall: 1.0\n",
      "precision: 0.8275862068965517\n",
      "Confusion Matrix :\n"
     ]
    },
    {
     "data": {
      "image/png": "[encoded data removed]",
      "text/plain": [
       "<Figure size 432x288 with 2 Axes>"
      ]
     },
     "metadata": {
      "needs_background": "light"
     },
     "output_type": "display_data"
    },
    {
     "name": "stdout",
     "output_type": "stream",
     "text": [
      "              precision    recall  f1-score   support\n",
      "\n",
      "           0       1.00      0.80      0.89        25\n",
      "           1       0.83      1.00      0.91        24\n",
      "\n",
      "    accuracy                           0.90        49\n",
      "   macro avg       0.91      0.90      0.90        49\n",
      "weighted avg       0.92      0.90      0.90        49\n",
      "\n",
      "Model :KNN\n",
      "Accuracy Score : 0.6122448979591837\n",
      "f1 Score: 0.5581395348837209\n",
      "Recall: 0.5\n",
      "precision: 0.631578947368421\n",
      "Confusion Matrix :\n"
     ]
    },
    {
     "data": {
      "image/png": "[encoded data removed]",
      "text/plain": [
       "<Figure size 432x288 with 2 Axes>"
      ]
     },
     "metadata": {
      "needs_background": "light"
     },
     "output_type": "display_data"
    },
    {
     "name": "stdout",
     "output_type": "stream",
     "text": [
      "              precision    recall  f1-score   support\n",
      "\n",
      "           0       0.60      0.72      0.65        25\n",
      "           1       0.63      0.50      0.56        24\n",
      "\n",
      "    accuracy                           0.61        49\n",
      "   macro avg       0.62      0.61      0.61        49\n",
      "weighted avg       0.62      0.61      0.61        49\n",
      "\n",
      "Model :Decision_Tree\n",
      "Accuracy Score : 0.6122448979591837\n",
      "f1 Score: 0.4571428571428572\n",
      "Recall: 0.3333333333333333\n",
      "precision: 0.7272727272727273\n",
      "Confusion Matrix :\n"
     ]
    },
    {
     "data": {
      "image/png": "[encoded data removed]",
      "text/plain": [
       "<Figure size 432x288 with 2 Axes>"
      ]
     },
     "metadata": {
      "needs_background": "light"
     },
     "output_type": "display_data"
    },
    {
     "name": "stdout",
     "output_type": "stream",
     "text": [
      "              precision    recall  f1-score   support\n",
      "\n",
      "           0       0.58      0.88      0.70        25\n",
      "           1       0.73      0.33      0.46        24\n",
      "\n",
      "    accuracy                           0.61        49\n",
      "   macro avg       0.65      0.61      0.58        49\n",
      "weighted avg       0.65      0.61      0.58        49\n",
      "\n",
      "Model :SVM\n",
      "Accuracy Score : 0.5918367346938775\n",
      "f1 Score: 0.7058823529411764\n",
      "Recall: 1.0\n",
      "precision: 0.5454545454545454\n",
      "Confusion Matrix :\n"
     ]
    },
    {
     "data": {
      "image/png": "[encoded data removed]",
      "text/plain": [
       "<Figure size 432x288 with 2 Axes>"
      ]
     },
     "metadata": {
      "needs_background": "light"
     },
     "output_type": "display_data"
    },
    {
     "name": "stdout",
     "output_type": "stream",
     "text": [
      "              precision    recall  f1-score   support\n",
      "\n",
      "           0       1.00      0.20      0.33        25\n",
      "           1       0.55      1.00      0.71        24\n",
      "\n",
      "    accuracy                           0.59        49\n",
      "   macro avg       0.77      0.60      0.52        49\n",
      "weighted avg       0.78      0.59      0.52        49\n",
      "\n",
      "Model :RF\n",
      "Accuracy Score : 0.7755102040816326\n",
      "f1 Score: 0.744186046511628\n",
      "Recall: 0.6666666666666666\n",
      "precision: 0.8421052631578947\n",
      "Confusion Matrix :\n"
     ]
    },
    {
     "data": {
      "image/png": "[encoded data removed]",
      "text/plain": [
       "<Figure size 432x288 with 2 Axes>"
      ]
     },
     "metadata": {
      "needs_background": "light"
     },
     "output_type": "display_data"
    },
    {
     "name": "stdout",
     "output_type": "stream",
     "text": [
      "              precision    recall  f1-score   support\n",
      "\n",
      "           0       0.73      0.88      0.80        25\n",
      "           1       0.84      0.67      0.74        24\n",
      "\n",
      "    accuracy                           0.78        49\n",
      "   macro avg       0.79      0.77      0.77        49\n",
      "weighted avg       0.79      0.78      0.77        49\n",
      "\n",
      "[07:10:56] WARNING: C:/Users/Administrator/workspace/xgboost-win64_release_1.5.1/src/learner.cc:1115: Starting in XGBoost 1.3.0, the default evaluation metric used with the objective 'binary:logistic' was changed from 'error' to 'logloss'. Explicitly set eval_metric if you'd like to restore the old behavior.\n"
     ]
    },
    {
     "name": "stderr",
     "output_type": "stream",
     "text": [
      "C:\\ProgramData\\Anaconda3\\lib\\site-packages\\xgboost\\sklearn.py:1224: UserWarning: The use of label encoder in XGBClassifier is deprecated and will be removed in a future release. To remove this warning, do the following: 1) Pass option use_label_encoder=False when constructing XGBClassifier object; and 2) Encode your labels (y) as integers starting with 0, i.e. 0, 1, 2, ..., [num_class - 1].\n",
      "  warnings.warn(label_encoder_deprecation_msg, UserWarning)\n"
     ]
    },
    {
     "name": "stdout",
     "output_type": "stream",
     "text": [
      "Model :XGBoost\n",
      "Accuracy Score : 0.7142857142857143\n",
      "f1 Score: 0.6666666666666666\n",
      "Recall: 0.5833333333333334\n",
      "precision: 0.7777777777777778\n",
      "Confusion Matrix :\n"
     ]
    },
    {
     "data": {
      "image/png": "[encoded data removed]",
      "text/plain": [
       "<Figure size 432x288 with 2 Axes>"
      ]
     },
     "metadata": {
      "needs_background": "light"
     },
     "output_type": "display_data"
    },
    {
     "name": "stdout",
     "output_type": "stream",
     "text": [
      "              precision    recall  f1-score   support\n",
      "\n",
      "           0       0.68      0.84      0.75        25\n",
      "           1       0.78      0.58      0.67        24\n",
      "\n",
      "    accuracy                           0.71        49\n",
      "   macro avg       0.73      0.71      0.71        49\n",
      "weighted avg       0.73      0.71      0.71        49\n",
      "\n"
     ]
    }
   ],
   "source": [
    "results = []\n",
    "names = []\n",
    "\n",
    "\n",
    "for name, model in models:\n",
    "    clf = model\n",
    "    clf.fit(X_train, y_train)\n",
    "    y_pred = clf.predict(X_test)\n",
    "    accu_score = accuracy_score(y_test, y_pred)\n",
    "    F1_score=f1_score(y_test, y_pred)\n",
    "    Recall=recall_score(y_test, y_pred)\n",
    "    Precision=precision_score(y_test, y_pred)\n",
    "    results= pd.crosstab(y_test, y_pred, rownames=['Actual'], colnames=['Predicted'], margins=False)\n",
    "    print( \"Model :\" + name)\n",
    "    print ('Accuracy Score :',accuracy_score(y_test,y_pred))\n",
    "    print('f1 Score'+\": \" + str(F1_score))\n",
    "    print('Recall' + \": \" + str(Recall))\n",
    "    print('precision' + \": \" + str(Precision))\n",
    "    print ('Confusion Matrix :')\n",
    "    sns.heatmap(results, annot=True)\n",
    "    plt.show() \n",
    "#     print(model.feature_importances_)\n",
    "    print(classification_report(y_test,y_pred))"
   ]
  },
  {
   "cell_type": "code",
   "execution_count": null,
   "id": "286dd00e",
   "metadata": {},
   "outputs": [],
   "source": [
    "# confusion matrix \n",
    "plot_confusion_matrix(model, X_test, y_test)\n",
    "plt.show"
   ]
  },
  {
   "cell_type": "code",
   "execution_count": null,
   "id": "ae50cf41",
   "metadata": {},
   "outputs": [],
   "source": []
  },
  {
   "cell_type": "code",
   "execution_count": null,
   "id": "f772d3c4",
   "metadata": {},
   "outputs": [],
   "source": []
  },
  {
   "cell_type": "code",
   "execution_count": null,
   "id": "1bfce004",
   "metadata": {},
   "outputs": [],
   "source": []
  }
 ],
 "metadata": {
  "kernelspec": {
   "display_name": "Python 3",
   "language": "python",
   "name": "python3"
  },
  "language_info": {
   "codemirror_mode": {
    "name": "ipython",
    "version": 3
   },
   "file_extension": ".py",
   "mimetype": "text/x-python",
   "name": "python",
   "nbconvert_exporter": "python",
   "pygments_lexer": "ipython3",
   "version": "3.8.8"
  }
 },
 "nbformat": 4,
 "nbformat_minor": 5
}

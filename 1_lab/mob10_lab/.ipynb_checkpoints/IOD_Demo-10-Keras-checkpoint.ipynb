{
 "cells": [
  {
   "cell_type": "markdown",
   "metadata": {
    "colab_type": "text",
    "id": "26KthBFty-QG"
   },
   "source": [
    "<div>\n",
    "<img src=https://www.institutedata.com/wp-content/uploads/2019/10/iod_h_tp_primary_c.svg width=\"300\">\n",
    "</div>"
   ]
  },
  {
   "cell_type": "markdown",
   "metadata": {
    "colab_type": "text",
    "id": "W5NydEUxy-QJ"
   },
   "source": [
    "# Demo: NN with Keras"
   ]
  },
  {
   "cell_type": "markdown",
   "metadata": {
    "colab_type": "text",
    "id": "9n746euhy-QN"
   },
   "source": [
    "## Written digits classification with Keras"
   ]
  },
  {
   "cell_type": "code",
   "execution_count": null,
   "metadata": {},
   "outputs": [],
   "source": [
    "pip install tensorflow"
   ]
  },
  {
   "cell_type": "code",
   "execution_count": 1,
   "metadata": {
    "ExecuteTime": {
     "end_time": "2021-02-27T02:48:27.591043Z",
     "start_time": "2021-02-27T02:48:21.529994Z"
    },
    "colab": {
     "base_uri": "https://localhost:8080/",
     "height": 34
    },
    "colab_type": "code",
    "executionInfo": {
     "elapsed": 2928,
     "status": "ok",
     "timestamp": 1592824749653,
     "user": {
      "displayName": "Mai Anh Ly",
      "photoUrl": "https://lh3.googleusercontent.com/a-/AOh14Gj3m3ePWBwBFT7szOlaK8W7lylc_ZnY93J_HKbY5EYiLuSsLy7FtOhGAmfpk-co2FX3NdvOSoUHAjcKyRo5fYAxzXGwBuB_Scz8EEoI0Sd99Sg0jA2hPKbGGL6l3OXXH3RcebQAVwm8daKZ2HaryKtOGaYPEs9Xm4WwmZilYvP12BkymjKBBw7wXJMbb_FMuYXiSJ7kmY0DWt455ZoAKqVSJa8qwbs2DTI_8qb-mnSxDEsvUDfWP5HYXMJ0-_ZkGM3e4Ar7WqqeTz_ra4LyeKayfg3WeqVtxylbHQIDlD2SoYjxZBk1F9dK1eYMhV9norQqhOu7Vd-ye50GdIbvJT8-QvhH3mj6uskBTzXPrA1fEo302QbdbXAVY3r8PvhwuUw4aJtvHHsk37YZNZ36XzswOyKGtKP7YQr9nItYSOQ8ZmWzlJojcN0uHH1RFCoshmE-ncc5Vf8-0LXicZIQp4x8HCIVH93zt4_P9E3PyrYf5mw9oOzmxcBIX3u9yuRv_K3-XV9oUJTZRFCBOqP3phE4KUy_Hwn2ZSv0cfUiuFz5XpPAjvO6hYAsZTayx4_Tr-REFcps30D5U05ItXMetcHTu4JM9Yvg624ZAgWv6NZ526HoOcOja57kG4pX8lmBpLnL6r9bb7PolwB2hpZuZ1Ma4wzL6EG3xNS9VJzMmyN0nZTqf_05jxnnn0wsvqcUAhRqK9PbPxfieRzYPTE20QrMG6gxUrSZ9PDWIMEm5YAYgZb7dZU7_k51mccLXc2mEA=s64",
      "userId": "16059923818223643809"
     },
     "user_tz": -600
    },
    "id": "hJgb9UC1y-QQ",
    "outputId": "a21eacbd-ae6c-4e7d-dd78-d9ea165fbbb9"
   },
   "outputs": [
    {
     "name": "stderr",
     "output_type": "stream",
     "text": [
      "\n",
      "Bad key \"text.kerning_factor\" on line 4 in\n",
      "/Users/gfg_user/opt/anaconda3/lib/python3.7/site-packages/matplotlib/mpl-data/stylelib/_classic_test_patch.mplstyle.\n",
      "You probably need to get an updated matplotlibrc file from\n",
      "https://github.com/matplotlib/matplotlib/blob/v3.1.3/matplotlibrc.template\n",
      "or from the matplotlib source distribution\n",
      "Using TensorFlow backend.\n",
      "/Users/gfg_user/opt/anaconda3/lib/python3.7/site-packages/tensorflow/python/framework/dtypes.py:516: FutureWarning: Passing (type, 1) or '1type' as a synonym of type is deprecated; in a future version of numpy, it will be understood as (type, (1,)) / '(1,)type'.\n",
      "  _np_qint8 = np.dtype([(\"qint8\", np.int8, 1)])\n",
      "/Users/gfg_user/opt/anaconda3/lib/python3.7/site-packages/tensorflow/python/framework/dtypes.py:517: FutureWarning: Passing (type, 1) or '1type' as a synonym of type is deprecated; in a future version of numpy, it will be understood as (type, (1,)) / '(1,)type'.\n",
      "  _np_quint8 = np.dtype([(\"quint8\", np.uint8, 1)])\n",
      "/Users/gfg_user/opt/anaconda3/lib/python3.7/site-packages/tensorflow/python/framework/dtypes.py:518: FutureWarning: Passing (type, 1) or '1type' as a synonym of type is deprecated; in a future version of numpy, it will be understood as (type, (1,)) / '(1,)type'.\n",
      "  _np_qint16 = np.dtype([(\"qint16\", np.int16, 1)])\n",
      "/Users/gfg_user/opt/anaconda3/lib/python3.7/site-packages/tensorflow/python/framework/dtypes.py:519: FutureWarning: Passing (type, 1) or '1type' as a synonym of type is deprecated; in a future version of numpy, it will be understood as (type, (1,)) / '(1,)type'.\n",
      "  _np_quint16 = np.dtype([(\"quint16\", np.uint16, 1)])\n",
      "/Users/gfg_user/opt/anaconda3/lib/python3.7/site-packages/tensorflow/python/framework/dtypes.py:520: FutureWarning: Passing (type, 1) or '1type' as a synonym of type is deprecated; in a future version of numpy, it will be understood as (type, (1,)) / '(1,)type'.\n",
      "  _np_qint32 = np.dtype([(\"qint32\", np.int32, 1)])\n",
      "/Users/gfg_user/opt/anaconda3/lib/python3.7/site-packages/tensorflow/python/framework/dtypes.py:525: FutureWarning: Passing (type, 1) or '1type' as a synonym of type is deprecated; in a future version of numpy, it will be understood as (type, (1,)) / '(1,)type'.\n",
      "  np_resource = np.dtype([(\"resource\", np.ubyte, 1)])\n",
      "/Users/gfg_user/opt/anaconda3/lib/python3.7/site-packages/tensorboard/compat/tensorflow_stub/dtypes.py:541: FutureWarning: Passing (type, 1) or '1type' as a synonym of type is deprecated; in a future version of numpy, it will be understood as (type, (1,)) / '(1,)type'.\n",
      "  _np_qint8 = np.dtype([(\"qint8\", np.int8, 1)])\n",
      "/Users/gfg_user/opt/anaconda3/lib/python3.7/site-packages/tensorboard/compat/tensorflow_stub/dtypes.py:542: FutureWarning: Passing (type, 1) or '1type' as a synonym of type is deprecated; in a future version of numpy, it will be understood as (type, (1,)) / '(1,)type'.\n",
      "  _np_quint8 = np.dtype([(\"quint8\", np.uint8, 1)])\n",
      "/Users/gfg_user/opt/anaconda3/lib/python3.7/site-packages/tensorboard/compat/tensorflow_stub/dtypes.py:543: FutureWarning: Passing (type, 1) or '1type' as a synonym of type is deprecated; in a future version of numpy, it will be understood as (type, (1,)) / '(1,)type'.\n",
      "  _np_qint16 = np.dtype([(\"qint16\", np.int16, 1)])\n",
      "/Users/gfg_user/opt/anaconda3/lib/python3.7/site-packages/tensorboard/compat/tensorflow_stub/dtypes.py:544: FutureWarning: Passing (type, 1) or '1type' as a synonym of type is deprecated; in a future version of numpy, it will be understood as (type, (1,)) / '(1,)type'.\n",
      "  _np_quint16 = np.dtype([(\"quint16\", np.uint16, 1)])\n",
      "/Users/gfg_user/opt/anaconda3/lib/python3.7/site-packages/tensorboard/compat/tensorflow_stub/dtypes.py:545: FutureWarning: Passing (type, 1) or '1type' as a synonym of type is deprecated; in a future version of numpy, it will be understood as (type, (1,)) / '(1,)type'.\n",
      "  _np_qint32 = np.dtype([(\"qint32\", np.int32, 1)])\n",
      "/Users/gfg_user/opt/anaconda3/lib/python3.7/site-packages/tensorboard/compat/tensorflow_stub/dtypes.py:550: FutureWarning: Passing (type, 1) or '1type' as a synonym of type is deprecated; in a future version of numpy, it will be understood as (type, (1,)) / '(1,)type'.\n",
      "  np_resource = np.dtype([(\"resource\", np.ubyte, 1)])\n"
     ]
    }
   ],
   "source": [
    "## Import libraries\n",
    "import numpy as np\n",
    "\n",
    "%matplotlib inline\n",
    "import matplotlib.pyplot as plt\n",
    "\n",
    "from sklearn.datasets import load_digits\n",
    "from sklearn.metrics import confusion_matrix\n",
    "from sklearn.model_selection import train_test_split\n",
    "\n",
    "# import keras\n",
    "# conda install -c conda-forge keras\n",
    "from keras.models import Sequential\n",
    "from keras.layers import Dense\n",
    "from keras.utils import to_categorical"
   ]
  },
  {
   "cell_type": "code",
   "execution_count": 2,
   "metadata": {
    "ExecuteTime": {
     "end_time": "2021-02-27T02:48:27.681453Z",
     "start_time": "2021-02-27T02:48:27.593543Z"
    },
    "colab": {},
    "colab_type": "code",
    "executionInfo": {
     "elapsed": 901,
     "status": "ok",
     "timestamp": 1592824751760,
     "user": {
      "displayName": "Mai Anh Ly",
      "photoUrl": "https://lh3.googleusercontent.com/a-/AOh14Gj3m3ePWBwBFT7szOlaK8W7lylc_ZnY93J_HKbY5EYiLuSsLy7FtOhGAmfpk-co2FX3NdvOSoUHAjcKyRo5fYAxzXGwBuB_Scz8EEoI0Sd99Sg0jA2hPKbGGL6l3OXXH3RcebQAVwm8daKZ2HaryKtOGaYPEs9Xm4WwmZilYvP12BkymjKBBw7wXJMbb_FMuYXiSJ7kmY0DWt455ZoAKqVSJa8qwbs2DTI_8qb-mnSxDEsvUDfWP5HYXMJ0-_ZkGM3e4Ar7WqqeTz_ra4LyeKayfg3WeqVtxylbHQIDlD2SoYjxZBk1F9dK1eYMhV9norQqhOu7Vd-ye50GdIbvJT8-QvhH3mj6uskBTzXPrA1fEo302QbdbXAVY3r8PvhwuUw4aJtvHHsk37YZNZ36XzswOyKGtKP7YQr9nItYSOQ8ZmWzlJojcN0uHH1RFCoshmE-ncc5Vf8-0LXicZIQp4x8HCIVH93zt4_P9E3PyrYf5mw9oOzmxcBIX3u9yuRv_K3-XV9oUJTZRFCBOqP3phE4KUy_Hwn2ZSv0cfUiuFz5XpPAjvO6hYAsZTayx4_Tr-REFcps30D5U05ItXMetcHTu4JM9Yvg624ZAgWv6NZ526HoOcOja57kG4pX8lmBpLnL6r9bb7PolwB2hpZuZ1Ma4wzL6EG3xNS9VJzMmyN0nZTqf_05jxnnn0wsvqcUAhRqK9PbPxfieRzYPTE20QrMG6gxUrSZ9PDWIMEm5YAYgZb7dZU7_k51mccLXc2mEA=s64",
      "userId": "16059923818223643809"
     },
     "user_tz": -600
    },
    "id": "0tQuyTyyy-QZ"
   },
   "outputs": [],
   "source": [
    "# The digits dataset\n",
    "digits = load_digits()"
   ]
  },
  {
   "cell_type": "code",
   "execution_count": 3,
   "metadata": {
    "ExecuteTime": {
     "end_time": "2021-02-27T02:48:27.689832Z",
     "start_time": "2021-02-27T02:48:27.685838Z"
    },
    "colab": {
     "base_uri": "https://localhost:8080/",
     "height": 826
    },
    "colab_type": "code",
    "executionInfo": {
     "elapsed": 937,
     "status": "ok",
     "timestamp": 1592824754743,
     "user": {
      "displayName": "Mai Anh Ly",
      "photoUrl": "https://lh3.googleusercontent.com/a-/AOh14Gj3m3ePWBwBFT7szOlaK8W7lylc_ZnY93J_HKbY5EYiLuSsLy7FtOhGAmfpk-co2FX3NdvOSoUHAjcKyRo5fYAxzXGwBuB_Scz8EEoI0Sd99Sg0jA2hPKbGGL6l3OXXH3RcebQAVwm8daKZ2HaryKtOGaYPEs9Xm4WwmZilYvP12BkymjKBBw7wXJMbb_FMuYXiSJ7kmY0DWt455ZoAKqVSJa8qwbs2DTI_8qb-mnSxDEsvUDfWP5HYXMJ0-_ZkGM3e4Ar7WqqeTz_ra4LyeKayfg3WeqVtxylbHQIDlD2SoYjxZBk1F9dK1eYMhV9norQqhOu7Vd-ye50GdIbvJT8-QvhH3mj6uskBTzXPrA1fEo302QbdbXAVY3r8PvhwuUw4aJtvHHsk37YZNZ36XzswOyKGtKP7YQr9nItYSOQ8ZmWzlJojcN0uHH1RFCoshmE-ncc5Vf8-0LXicZIQp4x8HCIVH93zt4_P9E3PyrYf5mw9oOzmxcBIX3u9yuRv_K3-XV9oUJTZRFCBOqP3phE4KUy_Hwn2ZSv0cfUiuFz5XpPAjvO6hYAsZTayx4_Tr-REFcps30D5U05ItXMetcHTu4JM9Yvg624ZAgWv6NZ526HoOcOja57kG4pX8lmBpLnL6r9bb7PolwB2hpZuZ1Ma4wzL6EG3xNS9VJzMmyN0nZTqf_05jxnnn0wsvqcUAhRqK9PbPxfieRzYPTE20QrMG6gxUrSZ9PDWIMEm5YAYgZb7dZU7_k51mccLXc2mEA=s64",
      "userId": "16059923818223643809"
     },
     "user_tz": -600
    },
    "id": "Zn2DiwPXy-Qd",
    "outputId": "35034698-a503-4771-8176-a6a24a2aa06d"
   },
   "outputs": [
    {
     "name": "stdout",
     "output_type": "stream",
     "text": [
      ".. _digits_dataset:\n",
      "\n",
      "Optical recognition of handwritten digits dataset\n",
      "--------------------------------------------------\n",
      "\n",
      "**Data Set Characteristics:**\n",
      "\n",
      "    :Number of Instances: 5620\n",
      "    :Number of Attributes: 64\n",
      "    :Attribute Information: 8x8 image of integer pixels in the range 0..16.\n",
      "    :Missing Attribute Values: None\n",
      "    :Creator: E. Alpaydin (alpaydin '@' boun.edu.tr)\n",
      "    :Date: July; 1998\n",
      "\n",
      "This is a copy of the test set of the UCI ML hand-written digits datasets\n",
      "https://archive.ics.uci.edu/ml/datasets/Optical+Recognition+of+Handwritten+Digits\n",
      "\n",
      "The data set contains images of hand-written digits: 10 classes where\n",
      "each class refers to a digit.\n",
      "\n",
      "Preprocessing programs made available by NIST were used to extract\n",
      "normalized bitmaps of handwritten digits from a preprinted form. From a\n",
      "total of 43 people, 30 contributed to the training set and different 13\n",
      "to the test set. 32x32 bitmaps are divided into nonoverlapping blocks of\n",
      "4x4 and the number of on pixels are counted in each block. This generates\n",
      "an input matrix of 8x8 where each element is an integer in the range\n",
      "0..16. This reduces dimensionality and gives invariance to small\n",
      "distortions.\n",
      "\n",
      "For info on NIST preprocessing routines, see M. D. Garris, J. L. Blue, G.\n",
      "T. Candela, D. L. Dimmick, J. Geist, P. J. Grother, S. A. Janet, and C.\n",
      "L. Wilson, NIST Form-Based Handprint Recognition System, NISTIR 5469,\n",
      "1994.\n",
      "\n",
      ".. topic:: References\n",
      "\n",
      "  - C. Kaynak (1995) Methods of Combining Multiple Classifiers and Their\n",
      "    Applications to Handwritten Digit Recognition, MSc Thesis, Institute of\n",
      "    Graduate Studies in Science and Engineering, Bogazici University.\n",
      "  - E. Alpaydin, C. Kaynak (1998) Cascading Classifiers, Kybernetika.\n",
      "  - Ken Tang and Ponnuthurai N. Suganthan and Xi Yao and A. Kai Qin.\n",
      "    Linear dimensionalityreduction using relevance weighted LDA. School of\n",
      "    Electrical and Electronic Engineering Nanyang Technological University.\n",
      "    2005.\n",
      "  - Claudio Gentile. A New Approximate Maximal Margin Classification\n",
      "    Algorithm. NIPS. 2000.\n"
     ]
    }
   ],
   "source": [
    "print(digits.DESCR)"
   ]
  },
  {
   "cell_type": "code",
   "execution_count": 4,
   "metadata": {
    "ExecuteTime": {
     "end_time": "2021-02-27T02:48:27.794300Z",
     "start_time": "2021-02-27T02:48:27.693476Z"
    },
    "colab": {
     "base_uri": "https://localhost:8080/",
     "height": 147
    },
    "colab_type": "code",
    "executionInfo": {
     "elapsed": 670,
     "status": "ok",
     "timestamp": 1560987197507,
     "user": {
      "displayName": "Ibrahim Faisal",
      "photoUrl": "https://lh3.googleusercontent.com/-67DMczu7rgM/AAAAAAAAAAI/AAAAAAAAAAc/6f5FCnBgxFs/s64/photo.jpg",
      "userId": "02685917636347920688"
     },
     "user_tz": -600
    },
    "id": "oi5lOrDYy-Qh",
    "outputId": "2efb7206-c6e1-4070-d8f5-57b76ffeea7c"
   },
   "outputs": [
    {
     "data": {
      "image/png": "[encoded data removed]",
      "text/plain": [
       "<Figure size 144x144 with 1 Axes>"
      ]
     },
     "metadata": {},
     "output_type": "display_data"
    }
   ],
   "source": [
    "id = np.random.randint(len(digits.target))\n",
    "plt.figure(figsize = (2, 2))\n",
    "plt.imshow(digits.images[id], cmap = 'gray')\n",
    "plt.xticks([])\n",
    "plt.yticks([])\n",
    "plt.show()"
   ]
  },
  {
   "cell_type": "code",
   "execution_count": 7,
   "metadata": {
    "ExecuteTime": {
     "end_time": "2021-02-27T02:48:27.824442Z",
     "start_time": "2021-02-27T02:48:27.816639Z"
    },
    "colab": {},
    "colab_type": "code",
    "executionInfo": {
     "elapsed": 1271,
     "status": "ok",
     "timestamp": 1592825423538,
     "user": {
      "displayName": "Mai Anh Ly",
      "photoUrl": "https://lh3.googleusercontent.com/a-/AOh14Gj3m3ePWBwBFT7szOlaK8W7lylc_ZnY93J_HKbY5EYiLuSsLy7FtOhGAmfpk-co2FX3NdvOSoUHAjcKyRo5fYAxzXGwBuB_Scz8EEoI0Sd99Sg0jA2hPKbGGL6l3OXXH3RcebQAVwm8daKZ2HaryKtOGaYPEs9Xm4WwmZilYvP12BkymjKBBw7wXJMbb_FMuYXiSJ7kmY0DWt455ZoAKqVSJa8qwbs2DTI_8qb-mnSxDEsvUDfWP5HYXMJ0-_ZkGM3e4Ar7WqqeTz_ra4LyeKayfg3WeqVtxylbHQIDlD2SoYjxZBk1F9dK1eYMhV9norQqhOu7Vd-ye50GdIbvJT8-QvhH3mj6uskBTzXPrA1fEo302QbdbXAVY3r8PvhwuUw4aJtvHHsk37YZNZ36XzswOyKGtKP7YQr9nItYSOQ8ZmWzlJojcN0uHH1RFCoshmE-ncc5Vf8-0LXicZIQp4x8HCIVH93zt4_P9E3PyrYf5mw9oOzmxcBIX3u9yuRv_K3-XV9oUJTZRFCBOqP3phE4KUy_Hwn2ZSv0cfUiuFz5XpPAjvO6hYAsZTayx4_Tr-REFcps30D5U05ItXMetcHTu4JM9Yvg624ZAgWv6NZ526HoOcOja57kG4pX8lmBpLnL6r9bb7PolwB2hpZuZ1Ma4wzL6EG3xNS9VJzMmyN0nZTqf_05jxnnn0wsvqcUAhRqK9PbPxfieRzYPTE20QrMG6gxUrSZ9PDWIMEm5YAYgZb7dZU7_k51mccLXc2mEA=s64",
      "userId": "16059923818223643809"
     },
     "user_tz": -600
    },
    "id": "k-Wu4bQJy-Ql"
   },
   "outputs": [],
   "source": [
    "# Prepare input data\n",
    "# input\n",
    "X = digits.data.astype(np.uint8)\n",
    "n_cols = X.shape[1]\n",
    "\n",
    "# output\n",
    "target = digits.target.astype(np.uint8)\n",
    "\n",
    "# Convert the target to categorical\n",
    "y = to_categorical(\n",
    "    target,\n",
    "    num_classes = len(set(target)),\n",
    "    dtype = 'uint8')"
   ]
  },
  {
   "cell_type": "code",
   "execution_count": 8,
   "metadata": {
    "ExecuteTime": {
     "end_time": "2021-02-27T02:48:27.838169Z",
     "start_time": "2021-02-27T02:48:27.831111Z"
    },
    "colab": {},
    "colab_type": "code",
    "executionInfo": {
     "elapsed": 1444,
     "status": "ok",
     "timestamp": 1592825427410,
     "user": {
      "displayName": "Mai Anh Ly",
      "photoUrl": "https://lh3.googleusercontent.com/a-/AOh14Gj3m3ePWBwBFT7szOlaK8W7lylc_ZnY93J_HKbY5EYiLuSsLy7FtOhGAmfpk-co2FX3NdvOSoUHAjcKyRo5fYAxzXGwBuB_Scz8EEoI0Sd99Sg0jA2hPKbGGL6l3OXXH3RcebQAVwm8daKZ2HaryKtOGaYPEs9Xm4WwmZilYvP12BkymjKBBw7wXJMbb_FMuYXiSJ7kmY0DWt455ZoAKqVSJa8qwbs2DTI_8qb-mnSxDEsvUDfWP5HYXMJ0-_ZkGM3e4Ar7WqqeTz_ra4LyeKayfg3WeqVtxylbHQIDlD2SoYjxZBk1F9dK1eYMhV9norQqhOu7Vd-ye50GdIbvJT8-QvhH3mj6uskBTzXPrA1fEo302QbdbXAVY3r8PvhwuUw4aJtvHHsk37YZNZ36XzswOyKGtKP7YQr9nItYSOQ8ZmWzlJojcN0uHH1RFCoshmE-ncc5Vf8-0LXicZIQp4x8HCIVH93zt4_P9E3PyrYf5mw9oOzmxcBIX3u9yuRv_K3-XV9oUJTZRFCBOqP3phE4KUy_Hwn2ZSv0cfUiuFz5XpPAjvO6hYAsZTayx4_Tr-REFcps30D5U05ItXMetcHTu4JM9Yvg624ZAgWv6NZ526HoOcOja57kG4pX8lmBpLnL6r9bb7PolwB2hpZuZ1Ma4wzL6EG3xNS9VJzMmyN0nZTqf_05jxnnn0wsvqcUAhRqK9PbPxfieRzYPTE20QrMG6gxUrSZ9PDWIMEm5YAYgZb7dZU7_k51mccLXc2mEA=s64",
      "userId": "16059923818223643809"
     },
     "user_tz": -600
    },
    "id": "nBFFtaWcy-Qo"
   },
   "outputs": [],
   "source": [
    "X_train, X_test, y_train, y_test = train_test_split(\n",
    "    X, y, \n",
    "    test_size = 0.3,\n",
    "    random_state = 65)"
   ]
  },
  {
   "cell_type": "code",
   "execution_count": 9,
   "metadata": {
    "ExecuteTime": {
     "end_time": "2021-02-27T02:48:27.864653Z",
     "start_time": "2021-02-27T02:48:27.842472Z"
    },
    "colab": {},
    "colab_type": "code",
    "executionInfo": {
     "elapsed": 975,
     "status": "ok",
     "timestamp": 1592825430124,
     "user": {
      "displayName": "Mai Anh Ly",
      "photoUrl": "https://lh3.googleusercontent.com/a-/AOh14Gj3m3ePWBwBFT7szOlaK8W7lylc_ZnY93J_HKbY5EYiLuSsLy7FtOhGAmfpk-co2FX3NdvOSoUHAjcKyRo5fYAxzXGwBuB_Scz8EEoI0Sd99Sg0jA2hPKbGGL6l3OXXH3RcebQAVwm8daKZ2HaryKtOGaYPEs9Xm4WwmZilYvP12BkymjKBBw7wXJMbb_FMuYXiSJ7kmY0DWt455ZoAKqVSJa8qwbs2DTI_8qb-mnSxDEsvUDfWP5HYXMJ0-_ZkGM3e4Ar7WqqeTz_ra4LyeKayfg3WeqVtxylbHQIDlD2SoYjxZBk1F9dK1eYMhV9norQqhOu7Vd-ye50GdIbvJT8-QvhH3mj6uskBTzXPrA1fEo302QbdbXAVY3r8PvhwuUw4aJtvHHsk37YZNZ36XzswOyKGtKP7YQr9nItYSOQ8ZmWzlJojcN0uHH1RFCoshmE-ncc5Vf8-0LXicZIQp4x8HCIVH93zt4_P9E3PyrYf5mw9oOzmxcBIX3u9yuRv_K3-XV9oUJTZRFCBOqP3phE4KUy_Hwn2ZSv0cfUiuFz5XpPAjvO6hYAsZTayx4_Tr-REFcps30D5U05ItXMetcHTu4JM9Yvg624ZAgWv6NZ526HoOcOja57kG4pX8lmBpLnL6r9bb7PolwB2hpZuZ1Ma4wzL6EG3xNS9VJzMmyN0nZTqf_05jxnnn0wsvqcUAhRqK9PbPxfieRzYPTE20QrMG6gxUrSZ9PDWIMEm5YAYgZb7dZU7_k51mccLXc2mEA=s64",
      "userId": "16059923818223643809"
     },
     "user_tz": -600
    },
    "id": "aKrm9Miqy-Qq"
   },
   "outputs": [],
   "source": [
    "# Set up the model architecture\n",
    "model = Sequential()"
   ]
  },
  {
   "cell_type": "code",
   "execution_count": 10,
   "metadata": {
    "ExecuteTime": {
     "end_time": "2021-02-27T02:48:27.874098Z",
     "start_time": "2021-02-27T02:48:27.868579Z"
    }
   },
   "outputs": [
    {
     "data": {
      "text/plain": [
       "64"
      ]
     },
     "execution_count": 10,
     "metadata": {},
     "output_type": "execute_result"
    }
   ],
   "source": [
    "n_cols"
   ]
  },
  {
   "cell_type": "code",
   "execution_count": 11,
   "metadata": {
    "ExecuteTime": {
     "end_time": "2021-02-27T02:48:27.960726Z",
     "start_time": "2021-02-27T02:48:27.878761Z"
    },
    "colab": {},
    "colab_type": "code",
    "executionInfo": {
     "elapsed": 8152,
     "status": "ok",
     "timestamp": 1592825439616,
     "user": {
      "displayName": "Mai Anh Ly",
      "photoUrl": "https://lh3.googleusercontent.com/a-/AOh14Gj3m3ePWBwBFT7szOlaK8W7lylc_ZnY93J_HKbY5EYiLuSsLy7FtOhGAmfpk-co2FX3NdvOSoUHAjcKyRo5fYAxzXGwBuB_Scz8EEoI0Sd99Sg0jA2hPKbGGL6l3OXXH3RcebQAVwm8daKZ2HaryKtOGaYPEs9Xm4WwmZilYvP12BkymjKBBw7wXJMbb_FMuYXiSJ7kmY0DWt455ZoAKqVSJa8qwbs2DTI_8qb-mnSxDEsvUDfWP5HYXMJ0-_ZkGM3e4Ar7WqqeTz_ra4LyeKayfg3WeqVtxylbHQIDlD2SoYjxZBk1F9dK1eYMhV9norQqhOu7Vd-ye50GdIbvJT8-QvhH3mj6uskBTzXPrA1fEo302QbdbXAVY3r8PvhwuUw4aJtvHHsk37YZNZ36XzswOyKGtKP7YQr9nItYSOQ8ZmWzlJojcN0uHH1RFCoshmE-ncc5Vf8-0LXicZIQp4x8HCIVH93zt4_P9E3PyrYf5mw9oOzmxcBIX3u9yuRv_K3-XV9oUJTZRFCBOqP3phE4KUy_Hwn2ZSv0cfUiuFz5XpPAjvO6hYAsZTayx4_Tr-REFcps30D5U05ItXMetcHTu4JM9Yvg624ZAgWv6NZ526HoOcOja57kG4pX8lmBpLnL6r9bb7PolwB2hpZuZ1Ma4wzL6EG3xNS9VJzMmyN0nZTqf_05jxnnn0wsvqcUAhRqK9PbPxfieRzYPTE20QrMG6gxUrSZ9PDWIMEm5YAYgZb7dZU7_k51mccLXc2mEA=s64",
      "userId": "16059923818223643809"
     },
     "user_tz": -600
    },
    "id": "KC9AVmkFy-Qr"
   },
   "outputs": [],
   "source": [
    "# Add the first hidden layer\n",
    "model.add(Dense(100, activation = 'relu', input_shape = (n_cols, )))\n",
    "# Add the second hidden layer\n",
    "model.add(Dense(50, activation = 'relu'))\n",
    "\n",
    "# Add the output layer\n",
    "model.add(Dense(10, activation = 'softmax'))"
   ]
  },
  {
   "cell_type": "code",
   "execution_count": 12,
   "metadata": {
    "ExecuteTime": {
     "end_time": "2021-02-27T02:48:27.970327Z",
     "start_time": "2021-02-27T02:48:27.963769Z"
    },
    "colab": {
     "base_uri": "https://localhost:8080/",
     "height": 281
    },
    "colab_type": "code",
    "executionInfo": {
     "elapsed": 3737,
     "status": "ok",
     "timestamp": 1592825439619,
     "user": {
      "displayName": "Mai Anh Ly",
      "photoUrl": "https://lh3.googleusercontent.com/a-/AOh14Gj3m3ePWBwBFT7szOlaK8W7lylc_ZnY93J_HKbY5EYiLuSsLy7FtOhGAmfpk-co2FX3NdvOSoUHAjcKyRo5fYAxzXGwBuB_Scz8EEoI0Sd99Sg0jA2hPKbGGL6l3OXXH3RcebQAVwm8daKZ2HaryKtOGaYPEs9Xm4WwmZilYvP12BkymjKBBw7wXJMbb_FMuYXiSJ7kmY0DWt455ZoAKqVSJa8qwbs2DTI_8qb-mnSxDEsvUDfWP5HYXMJ0-_ZkGM3e4Ar7WqqeTz_ra4LyeKayfg3WeqVtxylbHQIDlD2SoYjxZBk1F9dK1eYMhV9norQqhOu7Vd-ye50GdIbvJT8-QvhH3mj6uskBTzXPrA1fEo302QbdbXAVY3r8PvhwuUw4aJtvHHsk37YZNZ36XzswOyKGtKP7YQr9nItYSOQ8ZmWzlJojcN0uHH1RFCoshmE-ncc5Vf8-0LXicZIQp4x8HCIVH93zt4_P9E3PyrYf5mw9oOzmxcBIX3u9yuRv_K3-XV9oUJTZRFCBOqP3phE4KUy_Hwn2ZSv0cfUiuFz5XpPAjvO6hYAsZTayx4_Tr-REFcps30D5U05ItXMetcHTu4JM9Yvg624ZAgWv6NZ526HoOcOja57kG4pX8lmBpLnL6r9bb7PolwB2hpZuZ1Ma4wzL6EG3xNS9VJzMmyN0nZTqf_05jxnnn0wsvqcUAhRqK9PbPxfieRzYPTE20QrMG6gxUrSZ9PDWIMEm5YAYgZb7dZU7_k51mccLXc2mEA=s64",
      "userId": "16059923818223643809"
     },
     "user_tz": -600
    },
    "id": "05KgUEX8y-Qt",
    "outputId": "eb02ea89-956b-466a-913f-3904294686b4"
   },
   "outputs": [
    {
     "name": "stdout",
     "output_type": "stream",
     "text": [
      "Model: \"sequential_1\"\n",
      "_________________________________________________________________\n",
      "Layer (type)                 Output Shape              Param #   \n",
      "=================================================================\n",
      "dense_1 (Dense)              (None, 100)               6500      \n",
      "_________________________________________________________________\n",
      "dense_2 (Dense)              (None, 50)                5050      \n",
      "_________________________________________________________________\n",
      "dense_3 (Dense)              (None, 10)                510       \n",
      "=================================================================\n",
      "Total params: 12,060\n",
      "Trainable params: 12,060\n",
      "Non-trainable params: 0\n",
      "_________________________________________________________________\n",
      "None\n"
     ]
    }
   ],
   "source": [
    "print(model.summary())"
   ]
  },
  {
   "cell_type": "code",
   "execution_count": 13,
   "metadata": {
    "ExecuteTime": {
     "end_time": "2021-02-27T02:48:27.976475Z",
     "start_time": "2021-02-27T02:48:27.974248Z"
    }
   },
   "outputs": [],
   "source": [
    "# 64 attributes x 100 nodes (1st hidden layer) + 100 constant = 6500\n",
    "# 100 nodes (1st hidden layer) x 50 nodes (2nd hidden layer) + 50 constants = 5050\n",
    "# 50 (2nd hidden layer) x 10 nodes (Output layer) + 10 constants = 510\n",
    "# 6500 + 5050 + 510 = 12,060"
   ]
  },
  {
   "cell_type": "code",
   "execution_count": 14,
   "metadata": {
    "ExecuteTime": {
     "end_time": "2021-02-27T02:48:28.056763Z",
     "start_time": "2021-02-27T02:48:27.979981Z"
    },
    "colab": {},
    "colab_type": "code",
    "executionInfo": {
     "elapsed": 893,
     "status": "ok",
     "timestamp": 1592825442955,
     "user": {
      "displayName": "Mai Anh Ly",
      "photoUrl": "https://lh3.googleusercontent.com/a-/AOh14Gj3m3ePWBwBFT7szOlaK8W7lylc_ZnY93J_HKbY5EYiLuSsLy7FtOhGAmfpk-co2FX3NdvOSoUHAjcKyRo5fYAxzXGwBuB_Scz8EEoI0Sd99Sg0jA2hPKbGGL6l3OXXH3RcebQAVwm8daKZ2HaryKtOGaYPEs9Xm4WwmZilYvP12BkymjKBBw7wXJMbb_FMuYXiSJ7kmY0DWt455ZoAKqVSJa8qwbs2DTI_8qb-mnSxDEsvUDfWP5HYXMJ0-_ZkGM3e4Ar7WqqeTz_ra4LyeKayfg3WeqVtxylbHQIDlD2SoYjxZBk1F9dK1eYMhV9norQqhOu7Vd-ye50GdIbvJT8-QvhH3mj6uskBTzXPrA1fEo302QbdbXAVY3r8PvhwuUw4aJtvHHsk37YZNZ36XzswOyKGtKP7YQr9nItYSOQ8ZmWzlJojcN0uHH1RFCoshmE-ncc5Vf8-0LXicZIQp4x8HCIVH93zt4_P9E3PyrYf5mw9oOzmxcBIX3u9yuRv_K3-XV9oUJTZRFCBOqP3phE4KUy_Hwn2ZSv0cfUiuFz5XpPAjvO6hYAsZTayx4_Tr-REFcps30D5U05ItXMetcHTu4JM9Yvg624ZAgWv6NZ526HoOcOja57kG4pX8lmBpLnL6r9bb7PolwB2hpZuZ1Ma4wzL6EG3xNS9VJzMmyN0nZTqf_05jxnnn0wsvqcUAhRqK9PbPxfieRzYPTE20QrMG6gxUrSZ9PDWIMEm5YAYgZb7dZU7_k51mccLXc2mEA=s64",
      "userId": "16059923818223643809"
     },
     "user_tz": -600
    },
    "id": "4eu9O-5Xy-Qv"
   },
   "outputs": [],
   "source": [
    "# Compile the model\n",
    "model.compile(\n",
    "    optimizer = 'sgd',\n",
    "    loss = 'categorical_crossentropy',\n",
    "    metrics = ['accuracy'])"
   ]
  },
  {
   "cell_type": "code",
   "execution_count": 15,
   "metadata": {
    "ExecuteTime": {
     "end_time": "2021-02-27T02:48:34.285182Z",
     "start_time": "2021-02-27T02:48:28.060022Z"
    },
    "colab": {
     "base_uri": "https://localhost:8080/",
     "height": 1000
    },
    "colab_type": "code",
    "executionInfo": {
     "elapsed": 20827,
     "status": "ok",
     "timestamp": 1592825467331,
     "user": {
      "displayName": "Mai Anh Ly",
      "photoUrl": "https://lh3.googleusercontent.com/a-/AOh14Gj3m3ePWBwBFT7szOlaK8W7lylc_ZnY93J_HKbY5EYiLuSsLy7FtOhGAmfpk-co2FX3NdvOSoUHAjcKyRo5fYAxzXGwBuB_Scz8EEoI0Sd99Sg0jA2hPKbGGL6l3OXXH3RcebQAVwm8daKZ2HaryKtOGaYPEs9Xm4WwmZilYvP12BkymjKBBw7wXJMbb_FMuYXiSJ7kmY0DWt455ZoAKqVSJa8qwbs2DTI_8qb-mnSxDEsvUDfWP5HYXMJ0-_ZkGM3e4Ar7WqqeTz_ra4LyeKayfg3WeqVtxylbHQIDlD2SoYjxZBk1F9dK1eYMhV9norQqhOu7Vd-ye50GdIbvJT8-QvhH3mj6uskBTzXPrA1fEo302QbdbXAVY3r8PvhwuUw4aJtvHHsk37YZNZ36XzswOyKGtKP7YQr9nItYSOQ8ZmWzlJojcN0uHH1RFCoshmE-ncc5Vf8-0LXicZIQp4x8HCIVH93zt4_P9E3PyrYf5mw9oOzmxcBIX3u9yuRv_K3-XV9oUJTZRFCBOqP3phE4KUy_Hwn2ZSv0cfUiuFz5XpPAjvO6hYAsZTayx4_Tr-REFcps30D5U05ItXMetcHTu4JM9Yvg624ZAgWv6NZ526HoOcOja57kG4pX8lmBpLnL6r9bb7PolwB2hpZuZ1Ma4wzL6EG3xNS9VJzMmyN0nZTqf_05jxnnn0wsvqcUAhRqK9PbPxfieRzYPTE20QrMG6gxUrSZ9PDWIMEm5YAYgZb7dZU7_k51mccLXc2mEA=s64",
      "userId": "16059923818223643809"
     },
     "user_tz": -600
    },
    "id": "DSnIhJ0My-Qw",
    "outputId": "26c418d2-14a1-43b2-de47-f64e320dbcb9",
    "scrolled": false
   },
   "outputs": [
    {
     "name": "stdout",
     "output_type": "stream",
     "text": [
      "WARNING:tensorflow:From /Users/gfg_user/opt/anaconda3/lib/python3.7/site-packages/keras/backend/tensorflow_backend.py:422: The name tf.global_variables is deprecated. Please use tf.compat.v1.global_variables instead.\n",
      "\n",
      "Train on 942 samples, validate on 315 samples\n",
      "Epoch 1/100\n",
      "942/942 [==============================] - 0s 174us/step - loss: 1.3486 - accuracy: 0.6327 - val_loss: 1.5926 - val_accuracy: 0.5873\n",
      "Epoch 2/100\n",
      "942/942 [==============================] - 0s 62us/step - loss: 0.4104 - accuracy: 0.8726 - val_loss: 0.3367 - val_accuracy: 0.9048\n",
      "Epoch 3/100\n",
      "942/942 [==============================] - 0s 74us/step - loss: 0.2202 - accuracy: 0.9490 - val_loss: 2.1238 - val_accuracy: 0.4857\n",
      "Epoch 4/100\n",
      "942/942 [==============================] - 0s 78us/step - loss: 0.2260 - accuracy: 0.9299 - val_loss: 0.3667 - val_accuracy: 0.8857\n",
      "Epoch 5/100\n",
      "942/942 [==============================] - 0s 68us/step - loss: 0.1265 - accuracy: 0.9692 - val_loss: 0.2014 - val_accuracy: 0.9492\n",
      "Epoch 6/100\n",
      "942/942 [==============================] - 0s 58us/step - loss: 0.0998 - accuracy: 0.9777 - val_loss: 0.2026 - val_accuracy: 0.9397\n",
      "Epoch 7/100\n",
      "942/942 [==============================] - 0s 59us/step - loss: 0.0802 - accuracy: 0.9883 - val_loss: 0.1800 - val_accuracy: 0.9429\n",
      "Epoch 8/100\n",
      "942/942 [==============================] - 0s 57us/step - loss: 0.0654 - accuracy: 0.9904 - val_loss: 0.2063 - val_accuracy: 0.9397\n",
      "Epoch 9/100\n",
      "942/942 [==============================] - 0s 60us/step - loss: 0.0609 - accuracy: 0.9894 - val_loss: 0.1825 - val_accuracy: 0.9460\n",
      "Epoch 10/100\n",
      "942/942 [==============================] - 0s 65us/step - loss: 0.0522 - accuracy: 0.9883 - val_loss: 0.1673 - val_accuracy: 0.9492\n",
      "Epoch 11/100\n",
      "942/942 [==============================] - 0s 67us/step - loss: 0.0446 - accuracy: 0.9958 - val_loss: 0.1669 - val_accuracy: 0.9492\n",
      "Epoch 12/100\n",
      "942/942 [==============================] - 0s 78us/step - loss: 0.0397 - accuracy: 0.9968 - val_loss: 1.4732 - val_accuracy: 0.7492\n",
      "Epoch 13/100\n",
      "942/942 [==============================] - 0s 62us/step - loss: 0.0688 - accuracy: 0.9883 - val_loss: 0.1469 - val_accuracy: 0.9587\n",
      "Epoch 14/100\n",
      "942/942 [==============================] - 0s 58us/step - loss: 0.0328 - accuracy: 0.9958 - val_loss: 0.1576 - val_accuracy: 0.9556\n",
      "Epoch 15/100\n",
      "942/942 [==============================] - 0s 72us/step - loss: 0.0293 - accuracy: 0.9968 - val_loss: 0.1548 - val_accuracy: 0.9556\n",
      "Epoch 16/100\n",
      "942/942 [==============================] - 0s 59us/step - loss: 0.0264 - accuracy: 0.9989 - val_loss: 0.1585 - val_accuracy: 0.9492\n",
      "Epoch 17/100\n",
      "942/942 [==============================] - 0s 76us/step - loss: 0.0232 - accuracy: 0.9979 - val_loss: 0.1675 - val_accuracy: 0.9524\n",
      "Epoch 18/100\n",
      "942/942 [==============================] - 0s 65us/step - loss: 0.0217 - accuracy: 0.9979 - val_loss: 0.1657 - val_accuracy: 0.9524\n",
      "Epoch 19/100\n",
      "942/942 [==============================] - 0s 58us/step - loss: 0.0191 - accuracy: 0.9989 - val_loss: 0.1617 - val_accuracy: 0.9556\n",
      "Epoch 20/100\n",
      "942/942 [==============================] - 0s 61us/step - loss: 0.0187 - accuracy: 0.9989 - val_loss: 0.1456 - val_accuracy: 0.9556\n",
      "Epoch 21/100\n",
      "942/942 [==============================] - 0s 63us/step - loss: 0.0169 - accuracy: 0.9979 - val_loss: 0.1692 - val_accuracy: 0.9587\n",
      "Epoch 22/100\n",
      "942/942 [==============================] - 0s 66us/step - loss: 0.0156 - accuracy: 0.9989 - val_loss: 0.1513 - val_accuracy: 0.9524\n",
      "Epoch 23/100\n",
      "942/942 [==============================] - 0s 59us/step - loss: 0.0151 - accuracy: 0.9989 - val_loss: 0.1788 - val_accuracy: 0.9524\n",
      "Epoch 24/100\n",
      "942/942 [==============================] - 0s 58us/step - loss: 0.0141 - accuracy: 0.9989 - val_loss: 0.1536 - val_accuracy: 0.9524\n",
      "Epoch 25/100\n",
      "942/942 [==============================] - 0s 58us/step - loss: 0.0129 - accuracy: 1.0000 - val_loss: 0.1538 - val_accuracy: 0.9556\n",
      "Epoch 26/100\n",
      "942/942 [==============================] - 0s 60us/step - loss: 0.0129 - accuracy: 0.9989 - val_loss: 0.1571 - val_accuracy: 0.9556\n",
      "Epoch 27/100\n",
      "942/942 [==============================] - 0s 61us/step - loss: 0.0117 - accuracy: 0.9989 - val_loss: 0.1486 - val_accuracy: 0.9524\n",
      "Epoch 28/100\n",
      "942/942 [==============================] - 0s 60us/step - loss: 0.0114 - accuracy: 0.9989 - val_loss: 0.1587 - val_accuracy: 0.9587\n",
      "Epoch 29/100\n",
      "942/942 [==============================] - 0s 64us/step - loss: 0.0105 - accuracy: 1.0000 - val_loss: 0.1544 - val_accuracy: 0.9524\n",
      "Epoch 30/100\n",
      "942/942 [==============================] - 0s 57us/step - loss: 0.0100 - accuracy: 1.0000 - val_loss: 0.1571 - val_accuracy: 0.9587\n",
      "Epoch 31/100\n",
      "942/942 [==============================] - 0s 56us/step - loss: 0.0092 - accuracy: 1.0000 - val_loss: 0.1600 - val_accuracy: 0.9556\n",
      "Epoch 32/100\n",
      "942/942 [==============================] - 0s 57us/step - loss: 0.0093 - accuracy: 1.0000 - val_loss: 0.1554 - val_accuracy: 0.9587\n",
      "Epoch 33/100\n",
      "942/942 [==============================] - 0s 64us/step - loss: 0.0086 - accuracy: 1.0000 - val_loss: 0.1612 - val_accuracy: 0.9556\n",
      "Epoch 34/100\n",
      "942/942 [==============================] - 0s 71us/step - loss: 0.0079 - accuracy: 1.0000 - val_loss: 0.1707 - val_accuracy: 0.9524\n",
      "Epoch 35/100\n",
      "942/942 [==============================] - 0s 62us/step - loss: 0.0083 - accuracy: 1.0000 - val_loss: 0.1544 - val_accuracy: 0.9556\n",
      "Epoch 36/100\n",
      "942/942 [==============================] - 0s 58us/step - loss: 0.0075 - accuracy: 1.0000 - val_loss: 0.1602 - val_accuracy: 0.9556\n",
      "Epoch 37/100\n",
      "942/942 [==============================] - 0s 53us/step - loss: 0.0073 - accuracy: 1.0000 - val_loss: 0.1574 - val_accuracy: 0.9556\n",
      "Epoch 38/100\n",
      "942/942 [==============================] - 0s 60us/step - loss: 0.0071 - accuracy: 1.0000 - val_loss: 0.1606 - val_accuracy: 0.9556\n",
      "Epoch 39/100\n",
      "942/942 [==============================] - 0s 60us/step - loss: 0.0070 - accuracy: 1.0000 - val_loss: 0.1582 - val_accuracy: 0.9556\n",
      "Epoch 40/100\n",
      "942/942 [==============================] - 0s 63us/step - loss: 0.0067 - accuracy: 1.0000 - val_loss: 0.1602 - val_accuracy: 0.9587\n",
      "Epoch 41/100\n",
      "942/942 [==============================] - 0s 55us/step - loss: 0.0064 - accuracy: 1.0000 - val_loss: 0.1610 - val_accuracy: 0.9556\n",
      "Epoch 42/100\n",
      "942/942 [==============================] - 0s 56us/step - loss: 0.0063 - accuracy: 1.0000 - val_loss: 0.1661 - val_accuracy: 0.9587\n",
      "Epoch 43/100\n",
      "942/942 [==============================] - 0s 56us/step - loss: 0.0061 - accuracy: 1.0000 - val_loss: 0.1699 - val_accuracy: 0.9556\n",
      "Epoch 44/100\n",
      "942/942 [==============================] - 0s 56us/step - loss: 0.0060 - accuracy: 1.0000 - val_loss: 0.1633 - val_accuracy: 0.9556\n",
      "Epoch 45/100\n",
      "942/942 [==============================] - 0s 57us/step - loss: 0.0056 - accuracy: 1.0000 - val_loss: 0.1603 - val_accuracy: 0.9651\n",
      "Epoch 46/100\n",
      "942/942 [==============================] - 0s 66us/step - loss: 0.0056 - accuracy: 1.0000 - val_loss: 0.1636 - val_accuracy: 0.9556\n",
      "Epoch 47/100\n",
      "942/942 [==============================] - 0s 80us/step - loss: 0.0054 - accuracy: 1.0000 - val_loss: 0.1581 - val_accuracy: 0.9556\n",
      "Epoch 48/100\n",
      "942/942 [==============================] - 0s 58us/step - loss: 0.0054 - accuracy: 1.0000 - val_loss: 0.1564 - val_accuracy: 0.9556\n",
      "Epoch 49/100\n",
      "942/942 [==============================] - 0s 62us/step - loss: 0.0051 - accuracy: 1.0000 - val_loss: 0.1626 - val_accuracy: 0.9556\n",
      "Epoch 50/100\n",
      "942/942 [==============================] - 0s 59us/step - loss: 0.0050 - accuracy: 1.0000 - val_loss: 0.1609 - val_accuracy: 0.9556\n",
      "Epoch 51/100\n",
      "942/942 [==============================] - 0s 63us/step - loss: 0.0048 - accuracy: 1.0000 - val_loss: 0.1615 - val_accuracy: 0.9556\n",
      "Epoch 52/100\n",
      "942/942 [==============================] - 0s 62us/step - loss: 0.0047 - accuracy: 1.0000 - val_loss: 0.1611 - val_accuracy: 0.9556\n",
      "Epoch 53/100\n",
      "942/942 [==============================] - 0s 73us/step - loss: 0.0047 - accuracy: 1.0000 - val_loss: 0.1636 - val_accuracy: 0.9556\n",
      "Epoch 54/100\n",
      "942/942 [==============================] - 0s 63us/step - loss: 0.0045 - accuracy: 1.0000 - val_loss: 0.1585 - val_accuracy: 0.9619\n",
      "Epoch 55/100\n",
      "942/942 [==============================] - 0s 66us/step - loss: 0.0044 - accuracy: 1.0000 - val_loss: 0.1652 - val_accuracy: 0.9556\n"
     ]
    },
    {
     "name": "stdout",
     "output_type": "stream",
     "text": [
      "Epoch 56/100\n",
      "942/942 [==============================] - 0s 59us/step - loss: 0.0042 - accuracy: 1.0000 - val_loss: 0.1587 - val_accuracy: 0.9619\n",
      "Epoch 57/100\n",
      "942/942 [==============================] - 0s 58us/step - loss: 0.0042 - accuracy: 1.0000 - val_loss: 0.1628 - val_accuracy: 0.9619\n",
      "Epoch 58/100\n",
      "942/942 [==============================] - 0s 65us/step - loss: 0.0041 - accuracy: 1.0000 - val_loss: 0.1609 - val_accuracy: 0.9587\n",
      "Epoch 59/100\n",
      "942/942 [==============================] - 0s 58us/step - loss: 0.0040 - accuracy: 1.0000 - val_loss: 0.1645 - val_accuracy: 0.9651\n",
      "Epoch 60/100\n",
      "942/942 [==============================] - 0s 67us/step - loss: 0.0040 - accuracy: 1.0000 - val_loss: 0.1629 - val_accuracy: 0.9587\n",
      "Epoch 61/100\n",
      "942/942 [==============================] - 0s 60us/step - loss: 0.0040 - accuracy: 1.0000 - val_loss: 0.1599 - val_accuracy: 0.9556\n",
      "Epoch 62/100\n",
      "942/942 [==============================] - 0s 61us/step - loss: 0.0037 - accuracy: 1.0000 - val_loss: 0.1642 - val_accuracy: 0.9556\n",
      "Epoch 63/100\n",
      "942/942 [==============================] - 0s 54us/step - loss: 0.0037 - accuracy: 1.0000 - val_loss: 0.1646 - val_accuracy: 0.9587\n",
      "Epoch 64/100\n",
      "942/942 [==============================] - 0s 62us/step - loss: 0.0036 - accuracy: 1.0000 - val_loss: 0.1593 - val_accuracy: 0.9619\n",
      "Epoch 65/100\n",
      "942/942 [==============================] - 0s 55us/step - loss: 0.0035 - accuracy: 1.0000 - val_loss: 0.1673 - val_accuracy: 0.9556\n",
      "Epoch 66/100\n",
      "942/942 [==============================] - 0s 58us/step - loss: 0.0035 - accuracy: 1.0000 - val_loss: 0.1651 - val_accuracy: 0.9556\n",
      "Epoch 67/100\n",
      "942/942 [==============================] - 0s 57us/step - loss: 0.0034 - accuracy: 1.0000 - val_loss: 0.1608 - val_accuracy: 0.9651\n",
      "Epoch 68/100\n",
      "942/942 [==============================] - 0s 59us/step - loss: 0.0033 - accuracy: 1.0000 - val_loss: 0.1599 - val_accuracy: 0.9651\n",
      "Epoch 69/100\n",
      "942/942 [==============================] - 0s 55us/step - loss: 0.0033 - accuracy: 1.0000 - val_loss: 0.1606 - val_accuracy: 0.9492\n",
      "Epoch 70/100\n",
      "942/942 [==============================] - 0s 56us/step - loss: 0.0033 - accuracy: 1.0000 - val_loss: 0.1652 - val_accuracy: 0.9651\n",
      "Epoch 71/100\n",
      "942/942 [==============================] - 0s 57us/step - loss: 0.0031 - accuracy: 1.0000 - val_loss: 0.1627 - val_accuracy: 0.9587\n",
      "Epoch 72/100\n",
      "942/942 [==============================] - 0s 62us/step - loss: 0.0031 - accuracy: 1.0000 - val_loss: 0.1624 - val_accuracy: 0.9651\n",
      "Epoch 73/100\n",
      "942/942 [==============================] - 0s 56us/step - loss: 0.0031 - accuracy: 1.0000 - val_loss: 0.1607 - val_accuracy: 0.9651\n",
      "Epoch 74/100\n",
      "942/942 [==============================] - 0s 57us/step - loss: 0.0030 - accuracy: 1.0000 - val_loss: 0.1605 - val_accuracy: 0.9651\n",
      "Epoch 75/100\n",
      "942/942 [==============================] - 0s 52us/step - loss: 0.0030 - accuracy: 1.0000 - val_loss: 0.1588 - val_accuracy: 0.9651\n",
      "Epoch 76/100\n",
      "942/942 [==============================] - 0s 60us/step - loss: 0.0028 - accuracy: 1.0000 - val_loss: 0.1622 - val_accuracy: 0.9587\n",
      "Epoch 77/100\n",
      "942/942 [==============================] - 0s 53us/step - loss: 0.0028 - accuracy: 1.0000 - val_loss: 0.1719 - val_accuracy: 0.9587\n",
      "Epoch 78/100\n",
      "942/942 [==============================] - 0s 63us/step - loss: 0.0029 - accuracy: 1.0000 - val_loss: 0.1658 - val_accuracy: 0.9619\n",
      "Epoch 79/100\n",
      "942/942 [==============================] - 0s 58us/step - loss: 0.0028 - accuracy: 1.0000 - val_loss: 0.1653 - val_accuracy: 0.9619\n",
      "Epoch 80/100\n",
      "942/942 [==============================] - 0s 53us/step - loss: 0.0027 - accuracy: 1.0000 - val_loss: 0.1628 - val_accuracy: 0.9619\n",
      "Epoch 81/100\n",
      "942/942 [==============================] - 0s 55us/step - loss: 0.0027 - accuracy: 1.0000 - val_loss: 0.1627 - val_accuracy: 0.9651\n",
      "Epoch 82/100\n",
      "942/942 [==============================] - 0s 55us/step - loss: 0.0026 - accuracy: 1.0000 - val_loss: 0.1595 - val_accuracy: 0.9651\n",
      "Epoch 83/100\n",
      "942/942 [==============================] - 0s 54us/step - loss: 0.0026 - accuracy: 1.0000 - val_loss: 0.1620 - val_accuracy: 0.9619\n",
      "Epoch 84/100\n",
      "942/942 [==============================] - 0s 57us/step - loss: 0.0025 - accuracy: 1.0000 - val_loss: 0.1630 - val_accuracy: 0.9619\n",
      "Epoch 85/100\n",
      "942/942 [==============================] - 0s 55us/step - loss: 0.0025 - accuracy: 1.0000 - val_loss: 0.1629 - val_accuracy: 0.9651\n",
      "Epoch 86/100\n",
      "942/942 [==============================] - 0s 54us/step - loss: 0.0024 - accuracy: 1.0000 - val_loss: 0.1619 - val_accuracy: 0.9651\n",
      "Epoch 87/100\n",
      "942/942 [==============================] - 0s 63us/step - loss: 0.0025 - accuracy: 1.0000 - val_loss: 0.1631 - val_accuracy: 0.9651\n",
      "Epoch 88/100\n",
      "942/942 [==============================] - 0s 66us/step - loss: 0.0024 - accuracy: 1.0000 - val_loss: 0.1635 - val_accuracy: 0.9651\n",
      "Epoch 89/100\n",
      "942/942 [==============================] - 0s 63us/step - loss: 0.0024 - accuracy: 1.0000 - val_loss: 0.1653 - val_accuracy: 0.9619\n",
      "Epoch 90/100\n",
      "942/942 [==============================] - 0s 55us/step - loss: 0.0023 - accuracy: 1.0000 - val_loss: 0.1716 - val_accuracy: 0.9651\n",
      "Epoch 91/100\n",
      "942/942 [==============================] - 0s 58us/step - loss: 0.0023 - accuracy: 1.0000 - val_loss: 0.1655 - val_accuracy: 0.9651\n",
      "Epoch 92/100\n",
      "942/942 [==============================] - 0s 56us/step - loss: 0.0022 - accuracy: 1.0000 - val_loss: 0.1657 - val_accuracy: 0.9619\n",
      "Epoch 93/100\n",
      "942/942 [==============================] - 0s 57us/step - loss: 0.0023 - accuracy: 1.0000 - val_loss: 0.1634 - val_accuracy: 0.9651\n",
      "Epoch 94/100\n",
      "942/942 [==============================] - 0s 56us/step - loss: 0.0022 - accuracy: 1.0000 - val_loss: 0.1660 - val_accuracy: 0.9619\n",
      "Epoch 95/100\n",
      "942/942 [==============================] - 0s 61us/step - loss: 0.0022 - accuracy: 1.0000 - val_loss: 0.1664 - val_accuracy: 0.9651\n",
      "Epoch 96/100\n",
      "942/942 [==============================] - 0s 56us/step - loss: 0.0022 - accuracy: 1.0000 - val_loss: 0.1656 - val_accuracy: 0.9651\n",
      "Epoch 97/100\n",
      "942/942 [==============================] - 0s 56us/step - loss: 0.0021 - accuracy: 1.0000 - val_loss: 0.1631 - val_accuracy: 0.9651\n",
      "Epoch 98/100\n",
      "942/942 [==============================] - 0s 56us/step - loss: 0.0021 - accuracy: 1.0000 - val_loss: 0.1661 - val_accuracy: 0.9651\n",
      "Epoch 99/100\n",
      "942/942 [==============================] - 0s 57us/step - loss: 0.0021 - accuracy: 1.0000 - val_loss: 0.1625 - val_accuracy: 0.9651\n",
      "Epoch 100/100\n",
      "942/942 [==============================] - 0s 58us/step - loss: 0.0020 - accuracy: 1.0000 - val_loss: 0.1634 - val_accuracy: 0.9651\n",
      "CPU times: user 8.72 s, sys: 1.56 s, total: 10.3 s\n",
      "Wall time: 6.22 s\n"
     ]
    }
   ],
   "source": [
    "%%time\n",
    "# Fit the model\n",
    "fitted_model = model.fit(\n",
    "    X_train,\n",
    "    y_train,\n",
    "    validation_split = 0.25,\n",
    "    batch_size = 20,\n",
    "    epochs = 100,\n",
    "    verbose = 1)"
   ]
  },
  {
   "cell_type": "code",
   "execution_count": 16,
   "metadata": {
    "ExecuteTime": {
     "end_time": "2021-02-27T02:48:34.316595Z",
     "start_time": "2021-02-27T02:48:34.289130Z"
    },
    "colab": {},
    "colab_type": "code",
    "executionInfo": {
     "elapsed": 868,
     "status": "ok",
     "timestamp": 1592825473649,
     "user": {
      "displayName": "Mai Anh Ly",
      "photoUrl": "https://lh3.googleusercontent.com/a-/AOh14Gj3m3ePWBwBFT7szOlaK8W7lylc_ZnY93J_HKbY5EYiLuSsLy7FtOhGAmfpk-co2FX3NdvOSoUHAjcKyRo5fYAxzXGwBuB_Scz8EEoI0Sd99Sg0jA2hPKbGGL6l3OXXH3RcebQAVwm8daKZ2HaryKtOGaYPEs9Xm4WwmZilYvP12BkymjKBBw7wXJMbb_FMuYXiSJ7kmY0DWt455ZoAKqVSJa8qwbs2DTI_8qb-mnSxDEsvUDfWP5HYXMJ0-_ZkGM3e4Ar7WqqeTz_ra4LyeKayfg3WeqVtxylbHQIDlD2SoYjxZBk1F9dK1eYMhV9norQqhOu7Vd-ye50GdIbvJT8-QvhH3mj6uskBTzXPrA1fEo302QbdbXAVY3r8PvhwuUw4aJtvHHsk37YZNZ36XzswOyKGtKP7YQr9nItYSOQ8ZmWzlJojcN0uHH1RFCoshmE-ncc5Vf8-0LXicZIQp4x8HCIVH93zt4_P9E3PyrYf5mw9oOzmxcBIX3u9yuRv_K3-XV9oUJTZRFCBOqP3phE4KUy_Hwn2ZSv0cfUiuFz5XpPAjvO6hYAsZTayx4_Tr-REFcps30D5U05ItXMetcHTu4JM9Yvg624ZAgWv6NZ526HoOcOja57kG4pX8lmBpLnL6r9bb7PolwB2hpZuZ1Ma4wzL6EG3xNS9VJzMmyN0nZTqf_05jxnnn0wsvqcUAhRqK9PbPxfieRzYPTE20QrMG6gxUrSZ9PDWIMEm5YAYgZb7dZU7_k51mccLXc2mEA=s64",
      "userId": "16059923818223643809"
     },
     "user_tz": -600
    },
    "id": "CQsFQY0fy-Qy"
   },
   "outputs": [],
   "source": [
    "predictions = model.predict_classes(X_test)"
   ]
  },
  {
   "cell_type": "code",
   "execution_count": 17,
   "metadata": {
    "ExecuteTime": {
     "end_time": "2021-02-27T02:48:34.329116Z",
     "start_time": "2021-02-27T02:48:34.319263Z"
    },
    "colab": {
     "base_uri": "https://localhost:8080/",
     "height": 70
    },
    "colab_type": "code",
    "executionInfo": {
     "elapsed": 1160,
     "status": "ok",
     "timestamp": 1592825475254,
     "user": {
      "displayName": "Mai Anh Ly",
      "photoUrl": "https://lh3.googleusercontent.com/a-/AOh14Gj3m3ePWBwBFT7szOlaK8W7lylc_ZnY93J_HKbY5EYiLuSsLy7FtOhGAmfpk-co2FX3NdvOSoUHAjcKyRo5fYAxzXGwBuB_Scz8EEoI0Sd99Sg0jA2hPKbGGL6l3OXXH3RcebQAVwm8daKZ2HaryKtOGaYPEs9Xm4WwmZilYvP12BkymjKBBw7wXJMbb_FMuYXiSJ7kmY0DWt455ZoAKqVSJa8qwbs2DTI_8qb-mnSxDEsvUDfWP5HYXMJ0-_ZkGM3e4Ar7WqqeTz_ra4LyeKayfg3WeqVtxylbHQIDlD2SoYjxZBk1F9dK1eYMhV9norQqhOu7Vd-ye50GdIbvJT8-QvhH3mj6uskBTzXPrA1fEo302QbdbXAVY3r8PvhwuUw4aJtvHHsk37YZNZ36XzswOyKGtKP7YQr9nItYSOQ8ZmWzlJojcN0uHH1RFCoshmE-ncc5Vf8-0LXicZIQp4x8HCIVH93zt4_P9E3PyrYf5mw9oOzmxcBIX3u9yuRv_K3-XV9oUJTZRFCBOqP3phE4KUy_Hwn2ZSv0cfUiuFz5XpPAjvO6hYAsZTayx4_Tr-REFcps30D5U05ItXMetcHTu4JM9Yvg624ZAgWv6NZ526HoOcOja57kG4pX8lmBpLnL6r9bb7PolwB2hpZuZ1Ma4wzL6EG3xNS9VJzMmyN0nZTqf_05jxnnn0wsvqcUAhRqK9PbPxfieRzYPTE20QrMG6gxUrSZ9PDWIMEm5YAYgZb7dZU7_k51mccLXc2mEA=s64",
      "userId": "16059923818223643809"
     },
     "user_tz": -600
    },
    "id": "7XbWCdmmy-Q0",
    "outputId": "24e9b6ce-ba9f-41de-c035-7b6fa869d690",
    "scrolled": true
   },
   "outputs": [
    {
     "name": "stdout",
     "output_type": "stream",
     "text": [
      "540/540 [==============================] - 0s 6us/step\n",
      "\n",
      "Test loss: 0.100667, Test accuracy: 0.968518\n"
     ]
    }
   ],
   "source": [
    "score = model.evaluate(X_test, y_test, batch_size = 315)\n",
    "print('\\nTest loss: %.6f, Test accuracy: %.6f' % tuple(score))"
   ]
  },
  {
   "cell_type": "code",
   "execution_count": 18,
   "metadata": {
    "ExecuteTime": {
     "end_time": "2021-02-27T02:48:34.337466Z",
     "start_time": "2021-02-27T02:48:34.332251Z"
    },
    "colab": {},
    "colab_type": "code",
    "id": "YAEoxWaNy-Q2"
   },
   "outputs": [],
   "source": [
    "def print_cm(cm):\n",
    "    c = '%%%dd ' % len('%d' % cm.max())\n",
    "    s = ' | '\n",
    "    s += ''.join([c % i for i in range(len(cm[0]))])\n",
    "    print(s)\n",
    "    print('-' * len(s))\n",
    "    for i, r in enumerate(cm):\n",
    "        s = '%d| ' % i\n",
    "        s += c * len(r)\n",
    "        print(s % tuple(r))"
   ]
  },
  {
   "cell_type": "code",
   "execution_count": 19,
   "metadata": {
    "ExecuteTime": {
     "end_time": "2021-02-27T02:48:34.349598Z",
     "start_time": "2021-02-27T02:48:34.340105Z"
    },
    "colab": {
     "base_uri": "https://localhost:8080/",
     "height": 230
    },
    "colab_type": "code",
    "executionInfo": {
     "elapsed": 677,
     "status": "ok",
     "timestamp": 1560987282219,
     "user": {
      "displayName": "Ibrahim Faisal",
      "photoUrl": "https://lh3.googleusercontent.com/-67DMczu7rgM/AAAAAAAAAAI/AAAAAAAAAAc/6f5FCnBgxFs/s64/photo.jpg",
      "userId": "02685917636347920688"
     },
     "user_tz": -600
    },
    "id": "5a00OEH5y-Q4",
    "outputId": "3344a8e1-bb45-4799-9e98-2fef7e4b907f",
    "scrolled": true
   },
   "outputs": [
    {
     "name": "stdout",
     "output_type": "stream",
     "text": [
      " |  0  1  2  3  4  5  6  7  8  9 \n",
      "---------------------------------\n",
      "0| 54  0  0  0  1  0  0  0  0  0 \n",
      "1|  0 54  0  0  0  1  0  0  0  0 \n",
      "2|  0  0 48  1  0  0  0  0  0  0 \n",
      "3|  0  0  0 50  0  1  0  0  1  0 \n",
      "4|  0  0  0  0 53  0  1  0  0  1 \n",
      "5|  0  1  0  0  0 59  0  0  0  0 \n",
      "6|  2  0  0  0  0  0 59  0  0  0 \n",
      "7|  0  0  0  0  0  0  0 51  0  1 \n",
      "8|  0  1  1  0  0  2  0  0 45  0 \n",
      "9|  0  1  0  0  0  1  0  0  0 50 \n"
     ]
    }
   ],
   "source": [
    "y_test_target = np.array([x.argmax() for x in y_test])\n",
    "cm = confusion_matrix(y_test_target, predictions)\n",
    "print_cm(cm)"
   ]
  },
  {
   "cell_type": "code",
   "execution_count": 20,
   "metadata": {
    "ExecuteTime": {
     "end_time": "2021-02-27T02:48:34.750353Z",
     "start_time": "2021-02-27T02:48:34.352748Z"
    },
    "colab": {
     "base_uri": "https://localhost:8080/",
     "height": 430
    },
    "colab_type": "code",
    "executionInfo": {
     "elapsed": 1308,
     "status": "ok",
     "timestamp": 1560987288359,
     "user": {
      "displayName": "Ibrahim Faisal",
      "photoUrl": "https://lh3.googleusercontent.com/-67DMczu7rgM/AAAAAAAAAAI/AAAAAAAAAAc/6f5FCnBgxFs/s64/photo.jpg",
      "userId": "02685917636347920688"
     },
     "user_tz": -600
    },
    "id": "UhiEYNVqy-Q6",
    "outputId": "f2584738-9742-4c15-8735-98938107e333",
    "scrolled": true
   },
   "outputs": [
    {
     "data": {
      "image/png": "[encoded data removed]",
      "text/plain": [
       "<Figure size 1296x432 with 2 Axes>"
      ]
     },
     "metadata": {
      "needs_background": "light"
     },
     "output_type": "display_data"
    }
   ],
   "source": [
    "fig, ax = plt.subplots(1, 2, figsize = (18, 6))\n",
    "fig.subplots_adjust(left = 0.02, right = 0.98, wspace = 0.2)\n",
    "\n",
    "plt.rcParams.update({'font.size': 18})\n",
    "\n",
    "# Plot training & validation accuracy values\n",
    "ax[0].plot(fitted_model.history['accuracy'], label = 'Training')\n",
    "ax[0].plot(fitted_model.history['val_accuracy'], label = 'Validation')\n",
    "ax[0].set_title('Model accuracy')\n",
    "ax[0].set_ylabel('Accuracy')\n",
    "ax[0].set_xlabel('Epoch')\n",
    "ax[0].legend()\n",
    "\n",
    "# Plot training & validation loss values\n",
    "ax[1].plot(fitted_model.history['loss'], label = 'Training')\n",
    "ax[1].plot(fitted_model.history['val_loss'], label = 'Validation')\n",
    "ax[1].set_title('Model loss')\n",
    "ax[1].set_ylabel('Loss')\n",
    "ax[1].set_xlabel('Epoch')\n",
    "ax[1].legend()\n",
    "\n",
    "plt.show()"
   ]
  },
  {
   "cell_type": "code",
   "execution_count": 21,
   "metadata": {
    "ExecuteTime": {
     "end_time": "2021-02-27T02:48:34.757816Z",
     "start_time": "2021-02-27T02:48:34.753222Z"
    },
    "colab": {},
    "colab_type": "code",
    "id": "grQoh06wy-Q7"
   },
   "outputs": [],
   "source": [
    "def show_digit():\n",
    "    id = np.random.randint(len(predictions))\n",
    "    XTest = X_test[id].reshape(8, 8)\n",
    "    plt.figure(figsize = (2, 2))\n",
    "    plt.imshow(XTest, cmap = 'gray')\n",
    "    plt.title('Prediction: %d' % predictions[id])\n",
    "    plt.xticks([])\n",
    "    plt.yticks([])\n",
    "    plt.show()"
   ]
  },
  {
   "cell_type": "code",
   "execution_count": 22,
   "metadata": {
    "ExecuteTime": {
     "end_time": "2021-02-27T02:48:34.768111Z",
     "start_time": "2021-02-27T02:48:34.759771Z"
    },
    "colab": {},
    "colab_type": "code",
    "id": "4A6G2LEPy-Q9"
   },
   "outputs": [],
   "source": [
    "def show_10_digits():\n",
    "    fig, ax = plt.subplots(2, 5, figsize = (8, 4))\n",
    "    fig.subplots_adjust(left = 0.02, right = 0.98, top = 0.8, wspace = 0.2, hspace = 0.3)\n",
    "    fig.suptitle('Ten Predictions', fontsize = 12, fontweight = 'bold')\n",
    "\n",
    "    plt.rcParams.update({'font.size': 10})\n",
    "    \n",
    "    ids = np.random.randint(len(predictions), size = 10)\n",
    "    r = 0\n",
    "    c = 0\n",
    "    for id in ids:\n",
    "        XTest = X_test[id].reshape(8, 8)\n",
    "\n",
    "        # original image\n",
    "        ax[r, c].imshow(XTest, cmap = 'gray')\n",
    "        ax[r, c].set_title('Prediction: %d' % predictions[id])\n",
    "        ax[r, c].set_xticks([])\n",
    "        ax[r, c].set_yticks([])\n",
    "        c += 1\n",
    "        if c > 4:\n",
    "            r += 1\n",
    "            c = 0\n",
    "\n",
    "    plt.show()"
   ]
  },
  {
   "cell_type": "code",
   "execution_count": 23,
   "metadata": {
    "ExecuteTime": {
     "end_time": "2021-02-27T02:48:34.819037Z",
     "start_time": "2021-02-27T02:48:34.773369Z"
    },
    "colab": {
     "base_uri": "https://localhost:8080/",
     "height": 165
    },
    "colab_type": "code",
    "executionInfo": {
     "elapsed": 750,
     "status": "ok",
     "timestamp": 1560987306209,
     "user": {
      "displayName": "Ibrahim Faisal",
      "photoUrl": "https://lh3.googleusercontent.com/-67DMczu7rgM/AAAAAAAAAAI/AAAAAAAAAAc/6f5FCnBgxFs/s64/photo.jpg",
      "userId": "02685917636347920688"
     },
     "user_tz": -600
    },
    "id": "iG9wf-bTy-Q-",
    "outputId": "2092ecd0-c4a8-4252-d4df-3f383a3d3b34"
   },
   "outputs": [
    {
     "data": {
      "image/png": "[encoded data removed]",
      "text/plain": [
       "<Figure size 144x144 with 1 Axes>"
      ]
     },
     "metadata": {},
     "output_type": "display_data"
    }
   ],
   "source": [
    "# show one\n",
    "show_digit()"
   ]
  },
  {
   "cell_type": "code",
   "execution_count": 24,
   "metadata": {
    "ExecuteTime": {
     "end_time": "2021-02-27T02:48:35.172430Z",
     "start_time": "2021-02-27T02:48:34.821428Z"
    },
    "colab": {
     "base_uri": "https://localhost:8080/",
     "height": 281
    },
    "colab_type": "code",
    "executionInfo": {
     "elapsed": 958,
     "status": "ok",
     "timestamp": 1560987309548,
     "user": {
      "displayName": "Ibrahim Faisal",
      "photoUrl": "https://lh3.googleusercontent.com/-67DMczu7rgM/AAAAAAAAAAI/AAAAAAAAAAc/6f5FCnBgxFs/s64/photo.jpg",
      "userId": "02685917636347920688"
     },
     "user_tz": -600
    },
    "id": "Ue7Oo4Vxy-Q_",
    "outputId": "e6dc190e-2096-4da0-ab9c-db6d67e18e3c",
    "scrolled": true
   },
   "outputs": [
    {
     "data": {
      "image/png": "[encoded data removed]",
      "text/plain": [
       "<Figure size 576x288 with 10 Axes>"
      ]
     },
     "metadata": {},
     "output_type": "display_data"
    }
   ],
   "source": [
    "# show ten\n",
    "show_10_digits()"
   ]
  },
  {
   "cell_type": "markdown",
   "metadata": {
    "colab_type": "text",
    "id": "RERADKgNFq9T"
   },
   "source": [
    "© 2020 Institute of Data"
   ]
  }
 ],
 "metadata": {
  "accelerator": "GPU",
  "colab": {
   "collapsed_sections": [],
   "name": "IOD_Demo-10-Keras.ipynb",
   "provenance": []
  },
  "kernelspec": {
   "display_name": "Python 3",
   "language": "python",
   "name": "python3"
  },
  "language_info": {
   "codemirror_mode": {
    "name": "ipython",
    "version": 3
   },
   "file_extension": ".py",
   "mimetype": "text/x-python",
   "name": "python",
   "nbconvert_exporter": "python",
   "pygments_lexer": "ipython3",
   "version": "3.8.8"
  },
  "toc": {
   "base_numbering": 1,
   "nav_menu": {},
   "number_sections": true,
   "sideBar": true,
   "skip_h1_title": false,
   "title_cell": "Table of Contents",
   "title_sidebar": "Contents",
   "toc_cell": false,
   "toc_position": {},
   "toc_section_display": true,
   "toc_window_display": true
  }
 },
 "nbformat": 4,
 "nbformat_minor": 1
}

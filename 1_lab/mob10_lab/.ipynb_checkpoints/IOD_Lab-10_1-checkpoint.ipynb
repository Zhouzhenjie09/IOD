{
 "cells": [
  {
   "cell_type": "markdown",
   "metadata": {
    "colab_type": "text",
    "id": "gn3SG1yo1KdV"
   },
   "source": [
    "<div>\n",
    "<img src=https://www.institutedata.com/wp-content/uploads/2019/10/iod_h_tp_primary_c.svg width=\"300\">\n",
    "</div>"
   ]
  },
  {
   "cell_type": "markdown",
   "metadata": {
    "colab_type": "text",
    "id": "g-SD7a9X1KdY"
   },
   "source": [
    "# Lab 10.1: NN with Keras\n",
    "INSTRUCTIONS:\n",
    "- Read the guides and hints, then create the necessary analysis and code to find an answer and conclusion for the task below.\n",
    "- **NOTE**: This is a Regression problem. Consider the appropriate:\n",
    "    - Activation function\n",
    "    - Loss/Cost Function\n",
    "    - Metrics"
   ]
  },
  {
   "cell_type": "markdown",
   "metadata": {
    "colab_type": "text",
    "id": "ENgfRnvL1Kdc"
   },
   "source": [
    "### Import libraries"
   ]
  },
  {
   "cell_type": "code",
   "execution_count": 1,
   "metadata": {
    "colab": {},
    "colab_type": "code",
    "id": "Z9H465X-1Kde"
   },
   "outputs": [],
   "source": [
    "# insert code here\n",
    "import numpy as np\n",
    "\n",
    "%matplotlib inline\n",
    "import matplotlib.pyplot as plt\n",
    "\n",
    "from sklearn.datasets import load_diabetes\n",
    "from sklearn.metrics import confusion_matrix\n",
    "from sklearn.model_selection import train_test_split\n",
    "\n",
    "# import keras\n",
    "# conda install -c conda-forge keras\n",
    "from keras.models import Sequential\n",
    "from keras.layers import Dense\n",
    "from tensorflow.keras.utils import to_categorical"
   ]
  },
  {
   "cell_type": "markdown",
   "metadata": {
    "colab_type": "text",
    "id": "5FHh910J1Kdm"
   },
   "source": [
    "### Load data\n",
    "Load the Diabetes dataset from **SciKit-Learn**."
   ]
  },
  {
   "cell_type": "code",
   "execution_count": 2,
   "metadata": {
    "colab": {},
    "colab_type": "code",
    "id": "MWu8SlQF1Kdo"
   },
   "outputs": [],
   "source": [
    "# insert code here\n",
    "df = load_diabetes()"
   ]
  },
  {
   "cell_type": "markdown",
   "metadata": {
    "colab_type": "text",
    "id": "xR_yLpR01Kdr"
   },
   "source": [
    "### Prepare input data"
   ]
  },
  {
   "cell_type": "code",
   "execution_count": 3,
   "metadata": {
    "colab": {},
    "colab_type": "code",
    "id": "Sp2mf2bB1Kds"
   },
   "outputs": [
    {
     "data": {
      "text/plain": [
       "{'data': array([[ 0.03807591,  0.05068012,  0.06169621, ..., -0.00259226,\n",
       "          0.01990842, -0.01764613],\n",
       "        [-0.00188202, -0.04464164, -0.05147406, ..., -0.03949338,\n",
       "         -0.06832974, -0.09220405],\n",
       "        [ 0.08529891,  0.05068012,  0.04445121, ..., -0.00259226,\n",
       "          0.00286377, -0.02593034],\n",
       "        ...,\n",
       "        [ 0.04170844,  0.05068012, -0.01590626, ..., -0.01107952,\n",
       "         -0.04687948,  0.01549073],\n",
       "        [-0.04547248, -0.04464164,  0.03906215, ...,  0.02655962,\n",
       "          0.04452837, -0.02593034],\n",
       "        [-0.04547248, -0.04464164, -0.0730303 , ..., -0.03949338,\n",
       "         -0.00421986,  0.00306441]]),\n",
       " 'target': array([151.,  75., 141., 206., 135.,  97., 138.,  63., 110., 310., 101.,\n",
       "         69., 179., 185., 118., 171., 166., 144.,  97., 168.,  68.,  49.,\n",
       "         68., 245., 184., 202., 137.,  85., 131., 283., 129.,  59., 341.,\n",
       "         87.,  65., 102., 265., 276., 252.,  90., 100.,  55.,  61.,  92.,\n",
       "        259.,  53., 190., 142.,  75., 142., 155., 225.,  59., 104., 182.,\n",
       "        128.,  52.,  37., 170., 170.,  61., 144.,  52., 128.,  71., 163.,\n",
       "        150.,  97., 160., 178.,  48., 270., 202., 111.,  85.,  42., 170.,\n",
       "        200., 252., 113., 143.,  51.,  52., 210.,  65., 141.,  55., 134.,\n",
       "         42., 111.,  98., 164.,  48.,  96.,  90., 162., 150., 279.,  92.,\n",
       "         83., 128., 102., 302., 198.,  95.,  53., 134., 144., 232.,  81.,\n",
       "        104.,  59., 246., 297., 258., 229., 275., 281., 179., 200., 200.,\n",
       "        173., 180.,  84., 121., 161.,  99., 109., 115., 268., 274., 158.,\n",
       "        107.,  83., 103., 272.,  85., 280., 336., 281., 118., 317., 235.,\n",
       "         60., 174., 259., 178., 128.,  96., 126., 288.,  88., 292.,  71.,\n",
       "        197., 186.,  25.,  84.,  96., 195.,  53., 217., 172., 131., 214.,\n",
       "         59.,  70., 220., 268., 152.,  47.,  74., 295., 101., 151., 127.,\n",
       "        237., 225.,  81., 151., 107.,  64., 138., 185., 265., 101., 137.,\n",
       "        143., 141.,  79., 292., 178.,  91., 116.,  86., 122.,  72., 129.,\n",
       "        142.,  90., 158.,  39., 196., 222., 277.,  99., 196., 202., 155.,\n",
       "         77., 191.,  70.,  73.,  49.,  65., 263., 248., 296., 214., 185.,\n",
       "         78.,  93., 252., 150.,  77., 208.,  77., 108., 160.,  53., 220.,\n",
       "        154., 259.,  90., 246., 124.,  67.,  72., 257., 262., 275., 177.,\n",
       "         71.,  47., 187., 125.,  78.,  51., 258., 215., 303., 243.,  91.,\n",
       "        150., 310., 153., 346.,  63.,  89.,  50.,  39., 103., 308., 116.,\n",
       "        145.,  74.,  45., 115., 264.,  87., 202., 127., 182., 241.,  66.,\n",
       "         94., 283.,  64., 102., 200., 265.,  94., 230., 181., 156., 233.,\n",
       "         60., 219.,  80.,  68., 332., 248.,  84., 200.,  55.,  85.,  89.,\n",
       "         31., 129.,  83., 275.,  65., 198., 236., 253., 124.,  44., 172.,\n",
       "        114., 142., 109., 180., 144., 163., 147.,  97., 220., 190., 109.,\n",
       "        191., 122., 230., 242., 248., 249., 192., 131., 237.,  78., 135.,\n",
       "        244., 199., 270., 164.,  72.,  96., 306.,  91., 214.,  95., 216.,\n",
       "        263., 178., 113., 200., 139., 139.,  88., 148.,  88., 243.,  71.,\n",
       "         77., 109., 272.,  60.,  54., 221.,  90., 311., 281., 182., 321.,\n",
       "         58., 262., 206., 233., 242., 123., 167.,  63., 197.,  71., 168.,\n",
       "        140., 217., 121., 235., 245.,  40.,  52., 104., 132.,  88.,  69.,\n",
       "        219.,  72., 201., 110.,  51., 277.,  63., 118.,  69., 273., 258.,\n",
       "         43., 198., 242., 232., 175.,  93., 168., 275., 293., 281.,  72.,\n",
       "        140., 189., 181., 209., 136., 261., 113., 131., 174., 257.,  55.,\n",
       "         84.,  42., 146., 212., 233.,  91., 111., 152., 120.,  67., 310.,\n",
       "         94., 183.,  66., 173.,  72.,  49.,  64.,  48., 178., 104., 132.,\n",
       "        220.,  57.]),\n",
       " 'frame': None,\n",
       " 'DESCR': '.. _diabetes_dataset:\\n\\nDiabetes dataset\\n----------------\\n\\nTen baseline variables, age, sex, body mass index, average blood\\npressure, and six blood serum measurements were obtained for each of n =\\n442 diabetes patients, as well as the response of interest, a\\nquantitative measure of disease progression one year after baseline.\\n\\n**Data Set Characteristics:**\\n\\n  :Number of Instances: 442\\n\\n  :Number of Attributes: First 10 columns are numeric predictive values\\n\\n  :Target: Column 11 is a quantitative measure of disease progression one year after baseline\\n\\n  :Attribute Information:\\n      - age     age in years\\n      - sex\\n      - bmi     body mass index\\n      - bp      average blood pressure\\n      - s1      tc, total serum cholesterol\\n      - s2      ldl, low-density lipoproteins\\n      - s3      hdl, high-density lipoproteins\\n      - s4      tch, total cholesterol / HDL\\n      - s5      ltg, possibly log of serum triglycerides level\\n      - s6      glu, blood sugar level\\n\\nNote: Each of these 10 feature variables have been mean centered and scaled by the standard deviation times `n_samples` (i.e. the sum of squares of each column totals 1).\\n\\nSource URL:\\nhttps://www4.stat.ncsu.edu/~boos/var.select/diabetes.html\\n\\nFor more information see:\\nBradley Efron, Trevor Hastie, Iain Johnstone and Robert Tibshirani (2004) \"Least Angle Regression,\" Annals of Statistics (with discussion), 407-499.\\n(https://web.stanford.edu/~hastie/Papers/LARS/LeastAngle_2002.pdf)',\n",
       " 'feature_names': ['age',\n",
       "  'sex',\n",
       "  'bmi',\n",
       "  'bp',\n",
       "  's1',\n",
       "  's2',\n",
       "  's3',\n",
       "  's4',\n",
       "  's5',\n",
       "  's6'],\n",
       " 'data_filename': 'diabetes_data.csv.gz',\n",
       " 'target_filename': 'diabetes_target.csv.gz',\n",
       " 'data_module': 'sklearn.datasets.data'}"
      ]
     },
     "execution_count": 3,
     "metadata": {},
     "output_type": "execute_result"
    }
   ],
   "source": [
    "# insert code here\n",
    "df"
   ]
  },
  {
   "cell_type": "code",
   "execution_count": 4,
   "metadata": {},
   "outputs": [],
   "source": [
    "import pandas as pd"
   ]
  },
  {
   "cell_type": "code",
   "execution_count": 5,
   "metadata": {},
   "outputs": [
    {
     "data": {
      "text/html": [
       "<div>\n",
       "<style scoped>\n",
       "    .dataframe tbody tr th:only-of-type {\n",
       "        vertical-align: middle;\n",
       "    }\n",
       "\n",
       "    .dataframe tbody tr th {\n",
       "        vertical-align: top;\n",
       "    }\n",
       "\n",
       "    .dataframe thead th {\n",
       "        text-align: right;\n",
       "    }\n",
       "</style>\n",
       "<table border=\"1\" class=\"dataframe\">\n",
       "  <thead>\n",
       "    <tr style=\"text-align: right;\">\n",
       "      <th></th>\n",
       "      <th>age</th>\n",
       "      <th>sex</th>\n",
       "      <th>bmi</th>\n",
       "      <th>bp</th>\n",
       "      <th>s1</th>\n",
       "      <th>s2</th>\n",
       "      <th>s3</th>\n",
       "      <th>s4</th>\n",
       "      <th>s5</th>\n",
       "      <th>s6</th>\n",
       "    </tr>\n",
       "  </thead>\n",
       "  <tbody>\n",
       "    <tr>\n",
       "      <th>0</th>\n",
       "      <td>0.038076</td>\n",
       "      <td>0.050680</td>\n",
       "      <td>0.061696</td>\n",
       "      <td>0.021872</td>\n",
       "      <td>-0.044223</td>\n",
       "      <td>-0.034821</td>\n",
       "      <td>-0.043401</td>\n",
       "      <td>-0.002592</td>\n",
       "      <td>0.019908</td>\n",
       "      <td>-0.017646</td>\n",
       "    </tr>\n",
       "    <tr>\n",
       "      <th>1</th>\n",
       "      <td>-0.001882</td>\n",
       "      <td>-0.044642</td>\n",
       "      <td>-0.051474</td>\n",
       "      <td>-0.026328</td>\n",
       "      <td>-0.008449</td>\n",
       "      <td>-0.019163</td>\n",
       "      <td>0.074412</td>\n",
       "      <td>-0.039493</td>\n",
       "      <td>-0.068330</td>\n",
       "      <td>-0.092204</td>\n",
       "    </tr>\n",
       "    <tr>\n",
       "      <th>2</th>\n",
       "      <td>0.085299</td>\n",
       "      <td>0.050680</td>\n",
       "      <td>0.044451</td>\n",
       "      <td>-0.005671</td>\n",
       "      <td>-0.045599</td>\n",
       "      <td>-0.034194</td>\n",
       "      <td>-0.032356</td>\n",
       "      <td>-0.002592</td>\n",
       "      <td>0.002864</td>\n",
       "      <td>-0.025930</td>\n",
       "    </tr>\n",
       "    <tr>\n",
       "      <th>3</th>\n",
       "      <td>-0.089063</td>\n",
       "      <td>-0.044642</td>\n",
       "      <td>-0.011595</td>\n",
       "      <td>-0.036656</td>\n",
       "      <td>0.012191</td>\n",
       "      <td>0.024991</td>\n",
       "      <td>-0.036038</td>\n",
       "      <td>0.034309</td>\n",
       "      <td>0.022692</td>\n",
       "      <td>-0.009362</td>\n",
       "    </tr>\n",
       "    <tr>\n",
       "      <th>4</th>\n",
       "      <td>0.005383</td>\n",
       "      <td>-0.044642</td>\n",
       "      <td>-0.036385</td>\n",
       "      <td>0.021872</td>\n",
       "      <td>0.003935</td>\n",
       "      <td>0.015596</td>\n",
       "      <td>0.008142</td>\n",
       "      <td>-0.002592</td>\n",
       "      <td>-0.031991</td>\n",
       "      <td>-0.046641</td>\n",
       "    </tr>\n",
       "    <tr>\n",
       "      <th>...</th>\n",
       "      <td>...</td>\n",
       "      <td>...</td>\n",
       "      <td>...</td>\n",
       "      <td>...</td>\n",
       "      <td>...</td>\n",
       "      <td>...</td>\n",
       "      <td>...</td>\n",
       "      <td>...</td>\n",
       "      <td>...</td>\n",
       "      <td>...</td>\n",
       "    </tr>\n",
       "    <tr>\n",
       "      <th>437</th>\n",
       "      <td>0.041708</td>\n",
       "      <td>0.050680</td>\n",
       "      <td>0.019662</td>\n",
       "      <td>0.059744</td>\n",
       "      <td>-0.005697</td>\n",
       "      <td>-0.002566</td>\n",
       "      <td>-0.028674</td>\n",
       "      <td>-0.002592</td>\n",
       "      <td>0.031193</td>\n",
       "      <td>0.007207</td>\n",
       "    </tr>\n",
       "    <tr>\n",
       "      <th>438</th>\n",
       "      <td>-0.005515</td>\n",
       "      <td>0.050680</td>\n",
       "      <td>-0.015906</td>\n",
       "      <td>-0.067642</td>\n",
       "      <td>0.049341</td>\n",
       "      <td>0.079165</td>\n",
       "      <td>-0.028674</td>\n",
       "      <td>0.034309</td>\n",
       "      <td>-0.018118</td>\n",
       "      <td>0.044485</td>\n",
       "    </tr>\n",
       "    <tr>\n",
       "      <th>439</th>\n",
       "      <td>0.041708</td>\n",
       "      <td>0.050680</td>\n",
       "      <td>-0.015906</td>\n",
       "      <td>0.017282</td>\n",
       "      <td>-0.037344</td>\n",
       "      <td>-0.013840</td>\n",
       "      <td>-0.024993</td>\n",
       "      <td>-0.011080</td>\n",
       "      <td>-0.046879</td>\n",
       "      <td>0.015491</td>\n",
       "    </tr>\n",
       "    <tr>\n",
       "      <th>440</th>\n",
       "      <td>-0.045472</td>\n",
       "      <td>-0.044642</td>\n",
       "      <td>0.039062</td>\n",
       "      <td>0.001215</td>\n",
       "      <td>0.016318</td>\n",
       "      <td>0.015283</td>\n",
       "      <td>-0.028674</td>\n",
       "      <td>0.026560</td>\n",
       "      <td>0.044528</td>\n",
       "      <td>-0.025930</td>\n",
       "    </tr>\n",
       "    <tr>\n",
       "      <th>441</th>\n",
       "      <td>-0.045472</td>\n",
       "      <td>-0.044642</td>\n",
       "      <td>-0.073030</td>\n",
       "      <td>-0.081414</td>\n",
       "      <td>0.083740</td>\n",
       "      <td>0.027809</td>\n",
       "      <td>0.173816</td>\n",
       "      <td>-0.039493</td>\n",
       "      <td>-0.004220</td>\n",
       "      <td>0.003064</td>\n",
       "    </tr>\n",
       "  </tbody>\n",
       "</table>\n",
       "<p>442 rows × 10 columns</p>\n",
       "</div>"
      ],
      "text/plain": [
       "          age       sex       bmi        bp        s1        s2        s3  \\\n",
       "0    0.038076  0.050680  0.061696  0.021872 -0.044223 -0.034821 -0.043401   \n",
       "1   -0.001882 -0.044642 -0.051474 -0.026328 -0.008449 -0.019163  0.074412   \n",
       "2    0.085299  0.050680  0.044451 -0.005671 -0.045599 -0.034194 -0.032356   \n",
       "3   -0.089063 -0.044642 -0.011595 -0.036656  0.012191  0.024991 -0.036038   \n",
       "4    0.005383 -0.044642 -0.036385  0.021872  0.003935  0.015596  0.008142   \n",
       "..        ...       ...       ...       ...       ...       ...       ...   \n",
       "437  0.041708  0.050680  0.019662  0.059744 -0.005697 -0.002566 -0.028674   \n",
       "438 -0.005515  0.050680 -0.015906 -0.067642  0.049341  0.079165 -0.028674   \n",
       "439  0.041708  0.050680 -0.015906  0.017282 -0.037344 -0.013840 -0.024993   \n",
       "440 -0.045472 -0.044642  0.039062  0.001215  0.016318  0.015283 -0.028674   \n",
       "441 -0.045472 -0.044642 -0.073030 -0.081414  0.083740  0.027809  0.173816   \n",
       "\n",
       "           s4        s5        s6  \n",
       "0   -0.002592  0.019908 -0.017646  \n",
       "1   -0.039493 -0.068330 -0.092204  \n",
       "2   -0.002592  0.002864 -0.025930  \n",
       "3    0.034309  0.022692 -0.009362  \n",
       "4   -0.002592 -0.031991 -0.046641  \n",
       "..        ...       ...       ...  \n",
       "437 -0.002592  0.031193  0.007207  \n",
       "438  0.034309 -0.018118  0.044485  \n",
       "439 -0.011080 -0.046879  0.015491  \n",
       "440  0.026560  0.044528 -0.025930  \n",
       "441 -0.039493 -0.004220  0.003064  \n",
       "\n",
       "[442 rows x 10 columns]"
      ]
     },
     "execution_count": 5,
     "metadata": {},
     "output_type": "execute_result"
    }
   ],
   "source": [
    "X = pd.DataFrame(df['data'], columns= df['feature_names'])\n",
    "X"
   ]
  },
  {
   "cell_type": "code",
   "execution_count": 6,
   "metadata": {},
   "outputs": [
    {
     "data": {
      "text/html": [
       "<div>\n",
       "<style scoped>\n",
       "    .dataframe tbody tr th:only-of-type {\n",
       "        vertical-align: middle;\n",
       "    }\n",
       "\n",
       "    .dataframe tbody tr th {\n",
       "        vertical-align: top;\n",
       "    }\n",
       "\n",
       "    .dataframe thead th {\n",
       "        text-align: right;\n",
       "    }\n",
       "</style>\n",
       "<table border=\"1\" class=\"dataframe\">\n",
       "  <thead>\n",
       "    <tr style=\"text-align: right;\">\n",
       "      <th></th>\n",
       "      <th>target</th>\n",
       "    </tr>\n",
       "  </thead>\n",
       "  <tbody>\n",
       "    <tr>\n",
       "      <th>0</th>\n",
       "      <td>151.0</td>\n",
       "    </tr>\n",
       "    <tr>\n",
       "      <th>1</th>\n",
       "      <td>75.0</td>\n",
       "    </tr>\n",
       "    <tr>\n",
       "      <th>2</th>\n",
       "      <td>141.0</td>\n",
       "    </tr>\n",
       "    <tr>\n",
       "      <th>3</th>\n",
       "      <td>206.0</td>\n",
       "    </tr>\n",
       "    <tr>\n",
       "      <th>4</th>\n",
       "      <td>135.0</td>\n",
       "    </tr>\n",
       "    <tr>\n",
       "      <th>...</th>\n",
       "      <td>...</td>\n",
       "    </tr>\n",
       "    <tr>\n",
       "      <th>437</th>\n",
       "      <td>178.0</td>\n",
       "    </tr>\n",
       "    <tr>\n",
       "      <th>438</th>\n",
       "      <td>104.0</td>\n",
       "    </tr>\n",
       "    <tr>\n",
       "      <th>439</th>\n",
       "      <td>132.0</td>\n",
       "    </tr>\n",
       "    <tr>\n",
       "      <th>440</th>\n",
       "      <td>220.0</td>\n",
       "    </tr>\n",
       "    <tr>\n",
       "      <th>441</th>\n",
       "      <td>57.0</td>\n",
       "    </tr>\n",
       "  </tbody>\n",
       "</table>\n",
       "<p>442 rows × 1 columns</p>\n",
       "</div>"
      ],
      "text/plain": [
       "     target\n",
       "0     151.0\n",
       "1      75.0\n",
       "2     141.0\n",
       "3     206.0\n",
       "4     135.0\n",
       "..      ...\n",
       "437   178.0\n",
       "438   104.0\n",
       "439   132.0\n",
       "440   220.0\n",
       "441    57.0\n",
       "\n",
       "[442 rows x 1 columns]"
      ]
     },
     "execution_count": 6,
     "metadata": {},
     "output_type": "execute_result"
    }
   ],
   "source": [
    "y = pd.DataFrame(df['target'], columns= ['target'])\n",
    "y"
   ]
  },
  {
   "cell_type": "code",
   "execution_count": null,
   "metadata": {},
   "outputs": [],
   "source": []
  },
  {
   "cell_type": "markdown",
   "metadata": {
    "colab_type": "text",
    "id": "j1Vsh6cm1Kdv"
   },
   "source": [
    "### Split the data (training/test)"
   ]
  },
  {
   "cell_type": "code",
   "execution_count": 7,
   "metadata": {
    "colab": {},
    "colab_type": "code",
    "id": "O341llJz1Kdw"
   },
   "outputs": [],
   "source": [
    "# insert code here\n",
    "\n",
    "\n",
    "X_train, X_test, y_train, y_test = train_test_split( X,y , test_size = 0.2, random_state = 42)"
   ]
  },
  {
   "cell_type": "markdown",
   "metadata": {
    "colab_type": "text",
    "id": "o4dJViJD1Kd0"
   },
   "source": [
    "### Create the model's architecture"
   ]
  },
  {
   "cell_type": "code",
   "execution_count": 8,
   "metadata": {
    "colab": {},
    "colab_type": "code",
    "id": "Tkgf_BLl1Kd1"
   },
   "outputs": [],
   "source": [
    "# insert code here\n",
    "model = Sequential()"
   ]
  },
  {
   "cell_type": "markdown",
   "metadata": {
    "colab_type": "text",
    "id": "5hQTS42V1Kd4"
   },
   "source": [
    "### Compile the model"
   ]
  },
  {
   "cell_type": "code",
   "execution_count": 10,
   "metadata": {
    "colab": {},
    "colab_type": "code",
    "id": "BvLsoanF1Kd5"
   },
   "outputs": [],
   "source": [
    "# insert code here\n",
    "model.add(Dense(100, activation ='relu', input_shape = (X.shape[1], )))\n",
    "\n",
    "model.add(Dense(50, activation = 'relu'))\n",
    "\n",
    "model.add(Dense(1, activation = 'linear'))"
   ]
  },
  {
   "cell_type": "code",
   "execution_count": 11,
   "metadata": {},
   "outputs": [
    {
     "name": "stdout",
     "output_type": "stream",
     "text": [
      "Model: \"sequential\"\n",
      "_________________________________________________________________\n",
      " Layer (type)                Output Shape              Param #   \n",
      "=================================================================\n",
      " dense (Dense)               (None, 100)               1100      \n",
      "                                                                 \n",
      " dense_1 (Dense)             (None, 50)                5050      \n",
      "                                                                 \n",
      " dense_2 (Dense)             (None, 1)                 51        \n",
      "                                                                 \n",
      "=================================================================\n",
      "Total params: 6,201\n",
      "Trainable params: 6,201\n",
      "Non-trainable params: 0\n",
      "_________________________________________________________________\n"
     ]
    }
   ],
   "source": [
    "model.summary()"
   ]
  },
  {
   "cell_type": "code",
   "execution_count": 12,
   "metadata": {},
   "outputs": [],
   "source": [
    "model.compile( optimizer = 'sgd', loss = 'mse',\n",
    "             metrics = ['mse'])"
   ]
  },
  {
   "cell_type": "markdown",
   "metadata": {
    "colab_type": "text",
    "id": "6KPQbnEj1Kd7"
   },
   "source": [
    "### Fit the training data"
   ]
  },
  {
   "cell_type": "code",
   "execution_count": 13,
   "metadata": {
    "colab": {},
    "colab_type": "code",
    "id": "-oiuHjEj1Kd8"
   },
   "outputs": [
    {
     "name": "stdout",
     "output_type": "stream",
     "text": [
      "Epoch 1/100\n",
      "14/14 [==============================] - 1s 18ms/step - loss: 83824.5703 - mse: 83824.5703 - val_loss: 21893.8984 - val_mse: 21893.8984\n",
      "Epoch 2/100\n",
      "14/14 [==============================] - 0s 4ms/step - loss: 22895.6875 - mse: 22895.6875 - val_loss: 14046.8867 - val_mse: 14046.8867\n",
      "Epoch 3/100\n",
      "14/14 [==============================] - 0s 4ms/step - loss: 15707.5918 - mse: 15707.5928 - val_loss: 9970.5342 - val_mse: 9970.5342\n",
      "Epoch 4/100\n",
      "14/14 [==============================] - 0s 4ms/step - loss: 11762.0029 - mse: 11762.0029 - val_loss: 7670.9980 - val_mse: 7670.9980\n",
      "Epoch 5/100\n",
      "14/14 [==============================] - 0s 4ms/step - loss: 9373.8477 - mse: 9373.8477 - val_loss: 6513.9521 - val_mse: 6513.9531\n",
      "Epoch 6/100\n",
      "14/14 [==============================] - 0s 4ms/step - loss: 8028.2744 - mse: 8028.2744 - val_loss: 5868.1250 - val_mse: 5868.1250\n",
      "Epoch 7/100\n",
      "14/14 [==============================] - 0s 4ms/step - loss: 7144.0845 - mse: 7144.0845 - val_loss: 5648.9604 - val_mse: 5648.9600\n",
      "Epoch 8/100\n",
      "14/14 [==============================] - 0s 5ms/step - loss: 6740.2109 - mse: 6740.2109 - val_loss: 5572.4956 - val_mse: 5572.4956\n",
      "Epoch 9/100\n",
      "14/14 [==============================] - 0s 4ms/step - loss: 6490.9531 - mse: 6490.9531 - val_loss: 5570.9131 - val_mse: 5570.9131\n",
      "Epoch 10/100\n",
      "14/14 [==============================] - 0s 4ms/step - loss: 6374.4385 - mse: 6374.4385 - val_loss: 5606.4771 - val_mse: 5606.4771\n",
      "Epoch 11/100\n",
      "14/14 [==============================] - 0s 4ms/step - loss: 6281.2827 - mse: 6281.2827 - val_loss: 5638.5093 - val_mse: 5638.5093\n",
      "Epoch 12/100\n",
      "14/14 [==============================] - 0s 4ms/step - loss: 6241.1021 - mse: 6241.1021 - val_loss: 5678.4551 - val_mse: 5678.4551\n",
      "Epoch 13/100\n",
      "14/14 [==============================] - 0s 4ms/step - loss: 6218.7021 - mse: 6218.7021 - val_loss: 5718.5117 - val_mse: 5718.5117\n",
      "Epoch 14/100\n",
      "14/14 [==============================] - 0s 5ms/step - loss: 6195.7817 - mse: 6195.7817 - val_loss: 5737.1870 - val_mse: 5737.1870\n",
      "Epoch 15/100\n",
      "14/14 [==============================] - 0s 5ms/step - loss: 6191.9800 - mse: 6191.9800 - val_loss: 5762.8975 - val_mse: 5762.8975\n",
      "Epoch 16/100\n",
      "14/14 [==============================] - 0s 4ms/step - loss: 6187.8447 - mse: 6187.8447 - val_loss: 5810.5830 - val_mse: 5810.5830\n",
      "Epoch 17/100\n",
      "14/14 [==============================] - 0s 5ms/step - loss: 6175.7871 - mse: 6175.7871 - val_loss: 5845.8867 - val_mse: 5845.8867\n",
      "Epoch 18/100\n",
      "14/14 [==============================] - 0s 4ms/step - loss: 6174.8379 - mse: 6174.8389 - val_loss: 5855.3687 - val_mse: 5855.3687\n",
      "Epoch 19/100\n",
      "14/14 [==============================] - 0s 4ms/step - loss: 6172.1885 - mse: 6172.1875 - val_loss: 5854.0112 - val_mse: 5854.0112\n",
      "Epoch 20/100\n",
      "14/14 [==============================] - 0s 5ms/step - loss: 6174.8672 - mse: 6174.8672 - val_loss: 5869.2627 - val_mse: 5869.2627\n",
      "Epoch 21/100\n",
      "14/14 [==============================] - 0s 5ms/step - loss: 6173.2432 - mse: 6173.2432 - val_loss: 5876.7812 - val_mse: 5876.7812\n",
      "Epoch 22/100\n",
      "14/14 [==============================] - 0s 5ms/step - loss: 6170.5903 - mse: 6170.5908 - val_loss: 5874.1714 - val_mse: 5874.1714\n",
      "Epoch 23/100\n",
      "14/14 [==============================] - 0s 5ms/step - loss: 6173.1860 - mse: 6173.1860 - val_loss: 5837.6069 - val_mse: 5837.6064\n",
      "Epoch 24/100\n",
      "14/14 [==============================] - 0s 4ms/step - loss: 6173.5459 - mse: 6173.5459 - val_loss: 5867.2163 - val_mse: 5867.2168\n",
      "Epoch 25/100\n",
      "14/14 [==============================] - 0s 5ms/step - loss: 6176.7632 - mse: 6176.7632 - val_loss: 5876.1812 - val_mse: 5876.1812\n",
      "Epoch 26/100\n",
      "14/14 [==============================] - 0s 5ms/step - loss: 6174.0977 - mse: 6174.0977 - val_loss: 5877.2148 - val_mse: 5877.2148\n",
      "Epoch 27/100\n",
      "14/14 [==============================] - 0s 4ms/step - loss: 6173.4517 - mse: 6173.4517 - val_loss: 5883.1919 - val_mse: 5883.1919\n",
      "Epoch 28/100\n",
      "14/14 [==============================] - 0s 4ms/step - loss: 6174.8208 - mse: 6174.8208 - val_loss: 5887.4604 - val_mse: 5887.4604\n",
      "Epoch 29/100\n",
      "14/14 [==============================] - 0s 4ms/step - loss: 6174.7935 - mse: 6174.7935 - val_loss: 5897.1123 - val_mse: 5897.1123\n",
      "Epoch 30/100\n",
      "14/14 [==============================] - 0s 5ms/step - loss: 6172.2241 - mse: 6172.2241 - val_loss: 5895.7515 - val_mse: 5895.7515\n",
      "Epoch 31/100\n",
      "14/14 [==============================] - 0s 6ms/step - loss: 6181.8530 - mse: 6181.8530 - val_loss: 5873.9644 - val_mse: 5873.9644\n",
      "Epoch 32/100\n",
      "14/14 [==============================] - 0s 5ms/step - loss: 6172.3291 - mse: 6172.3291 - val_loss: 5858.9746 - val_mse: 5858.9746\n",
      "Epoch 33/100\n",
      "14/14 [==============================] - 0s 5ms/step - loss: 6175.9189 - mse: 6175.9189 - val_loss: 5896.6382 - val_mse: 5896.6382\n",
      "Epoch 34/100\n",
      "14/14 [==============================] - 0s 4ms/step - loss: 6175.6694 - mse: 6175.6694 - val_loss: 5890.1255 - val_mse: 5890.1255\n",
      "Epoch 35/100\n",
      "14/14 [==============================] - 0s 5ms/step - loss: 6177.1123 - mse: 6177.1123 - val_loss: 5869.3691 - val_mse: 5869.3691\n",
      "Epoch 36/100\n",
      "14/14 [==============================] - 0s 5ms/step - loss: 6171.2935 - mse: 6171.2935 - val_loss: 5860.7070 - val_mse: 5860.7070\n",
      "Epoch 37/100\n",
      "14/14 [==============================] - 0s 5ms/step - loss: 6174.8999 - mse: 6174.8999 - val_loss: 5835.2129 - val_mse: 5835.2129\n",
      "Epoch 38/100\n",
      "14/14 [==============================] - 0s 4ms/step - loss: 6176.3340 - mse: 6176.3340 - val_loss: 5863.8130 - val_mse: 5863.8130\n",
      "Epoch 39/100\n",
      "14/14 [==============================] - 0s 4ms/step - loss: 6174.5552 - mse: 6174.5552 - val_loss: 5891.2720 - val_mse: 5891.2720\n",
      "Epoch 40/100\n",
      "14/14 [==============================] - 0s 4ms/step - loss: 6173.3965 - mse: 6173.3965 - val_loss: 5936.9531 - val_mse: 5936.9531\n",
      "Epoch 41/100\n",
      "14/14 [==============================] - 0s 5ms/step - loss: 6174.5220 - mse: 6174.5220 - val_loss: 5931.7559 - val_mse: 5931.7563\n",
      "Epoch 42/100\n",
      "14/14 [==============================] - 0s 4ms/step - loss: 6179.5396 - mse: 6179.5396 - val_loss: 5894.8779 - val_mse: 5894.8779\n",
      "Epoch 43/100\n",
      "14/14 [==============================] - 0s 4ms/step - loss: 6173.6216 - mse: 6173.6216 - val_loss: 5902.8257 - val_mse: 5902.8257\n",
      "Epoch 44/100\n",
      "14/14 [==============================] - 0s 4ms/step - loss: 6173.1201 - mse: 6173.1201 - val_loss: 5884.6548 - val_mse: 5884.6548\n",
      "Epoch 45/100\n",
      "14/14 [==============================] - 0s 4ms/step - loss: 6173.2759 - mse: 6173.2759 - val_loss: 5878.9844 - val_mse: 5878.9844\n",
      "Epoch 46/100\n",
      "14/14 [==============================] - 0s 4ms/step - loss: 6171.8174 - mse: 6171.8174 - val_loss: 5891.4043 - val_mse: 5891.4043\n",
      "Epoch 47/100\n",
      "14/14 [==============================] - 0s 5ms/step - loss: 6174.4341 - mse: 6174.4341 - val_loss: 5882.9170 - val_mse: 5882.9170\n",
      "Epoch 48/100\n",
      "14/14 [==============================] - 0s 4ms/step - loss: 6177.0439 - mse: 6177.0439 - val_loss: 5924.3765 - val_mse: 5924.3765\n",
      "Epoch 49/100\n",
      "14/14 [==============================] - 0s 4ms/step - loss: 6174.8691 - mse: 6174.8691 - val_loss: 5916.0195 - val_mse: 5916.0190\n",
      "Epoch 50/100\n",
      "14/14 [==============================] - 0s 5ms/step - loss: 6177.7866 - mse: 6177.7866 - val_loss: 5907.9868 - val_mse: 5907.9868\n",
      "Epoch 51/100\n",
      "14/14 [==============================] - 0s 5ms/step - loss: 6177.3989 - mse: 6177.3989 - val_loss: 5907.7207 - val_mse: 5907.7207\n",
      "Epoch 52/100\n",
      "14/14 [==============================] - 0s 6ms/step - loss: 6177.1777 - mse: 6177.1777 - val_loss: 5902.4492 - val_mse: 5902.4492\n",
      "Epoch 53/100\n",
      "14/14 [==============================] - 0s 5ms/step - loss: 6173.6084 - mse: 6173.6084 - val_loss: 5881.4355 - val_mse: 5881.4355\n",
      "Epoch 54/100\n",
      "14/14 [==============================] - 0s 4ms/step - loss: 6179.3306 - mse: 6179.3306 - val_loss: 5909.7822 - val_mse: 5909.7822\n",
      "Epoch 55/100\n",
      "14/14 [==============================] - 0s 5ms/step - loss: 6174.1411 - mse: 6174.1411 - val_loss: 5911.3530 - val_mse: 5911.3530\n",
      "Epoch 56/100\n",
      "14/14 [==============================] - 0s 4ms/step - loss: 6175.0835 - mse: 6175.0835 - val_loss: 5876.8916 - val_mse: 5876.8916\n",
      "Epoch 57/100\n",
      "14/14 [==============================] - 0s 4ms/step - loss: 6171.1108 - mse: 6171.1108 - val_loss: 5895.4180 - val_mse: 5895.4180\n"
     ]
    },
    {
     "name": "stdout",
     "output_type": "stream",
     "text": [
      "Epoch 58/100\n",
      "14/14 [==============================] - 0s 4ms/step - loss: 6177.2632 - mse: 6177.2632 - val_loss: 5877.7368 - val_mse: 5877.7368\n",
      "Epoch 59/100\n",
      "14/14 [==============================] - 0s 4ms/step - loss: 6173.0015 - mse: 6173.0015 - val_loss: 5880.8394 - val_mse: 5880.8394\n",
      "Epoch 60/100\n",
      "14/14 [==============================] - 0s 4ms/step - loss: 6176.3555 - mse: 6176.3550 - val_loss: 5864.7495 - val_mse: 5864.7495\n",
      "Epoch 61/100\n",
      "14/14 [==============================] - 0s 4ms/step - loss: 6177.9561 - mse: 6177.9561 - val_loss: 5877.2749 - val_mse: 5877.2749\n",
      "Epoch 62/100\n",
      "14/14 [==============================] - 0s 5ms/step - loss: 6176.9023 - mse: 6176.9023 - val_loss: 5911.3862 - val_mse: 5911.3862\n",
      "Epoch 63/100\n",
      "14/14 [==============================] - 0s 5ms/step - loss: 6173.0742 - mse: 6173.0742 - val_loss: 5887.0757 - val_mse: 5887.0757\n",
      "Epoch 64/100\n",
      "14/14 [==============================] - 0s 5ms/step - loss: 6176.2075 - mse: 6176.2075 - val_loss: 5871.1812 - val_mse: 5871.1812\n",
      "Epoch 65/100\n",
      "14/14 [==============================] - 0s 4ms/step - loss: 6175.9067 - mse: 6175.9067 - val_loss: 5874.2007 - val_mse: 5874.2007\n",
      "Epoch 66/100\n",
      "14/14 [==============================] - 0s 4ms/step - loss: 6171.6392 - mse: 6171.6396 - val_loss: 5858.4102 - val_mse: 5858.4102\n",
      "Epoch 67/100\n",
      "14/14 [==============================] - 0s 5ms/step - loss: 6176.2837 - mse: 6176.2837 - val_loss: 5877.6489 - val_mse: 5877.6489\n",
      "Epoch 68/100\n",
      "14/14 [==============================] - 0s 5ms/step - loss: 6177.7969 - mse: 6177.7969 - val_loss: 5875.3584 - val_mse: 5875.3594\n",
      "Epoch 69/100\n",
      "14/14 [==============================] - 0s 5ms/step - loss: 6178.6289 - mse: 6178.6294 - val_loss: 5854.6768 - val_mse: 5854.6768\n",
      "Epoch 70/100\n",
      "14/14 [==============================] - 0s 4ms/step - loss: 6172.6265 - mse: 6172.6265 - val_loss: 5852.0898 - val_mse: 5852.0898\n",
      "Epoch 71/100\n",
      "14/14 [==============================] - 0s 4ms/step - loss: 6176.7935 - mse: 6176.7935 - val_loss: 5906.8301 - val_mse: 5906.8301\n",
      "Epoch 72/100\n",
      "14/14 [==============================] - 0s 4ms/step - loss: 6173.0742 - mse: 6173.0742 - val_loss: 5935.5464 - val_mse: 5935.5464\n",
      "Epoch 73/100\n",
      "14/14 [==============================] - 0s 4ms/step - loss: 6176.3809 - mse: 6176.3804 - val_loss: 5943.4243 - val_mse: 5943.4243\n",
      "Epoch 74/100\n",
      "14/14 [==============================] - 0s 5ms/step - loss: 6176.5776 - mse: 6176.5776 - val_loss: 5932.8159 - val_mse: 5932.8159\n",
      "Epoch 75/100\n",
      "14/14 [==============================] - 0s 5ms/step - loss: 6175.7441 - mse: 6175.7441 - val_loss: 5913.5000 - val_mse: 5913.5000\n",
      "Epoch 76/100\n",
      "14/14 [==============================] - 0s 4ms/step - loss: 6180.4780 - mse: 6180.4780 - val_loss: 5907.4404 - val_mse: 5907.4404\n",
      "Epoch 77/100\n",
      "14/14 [==============================] - 0s 5ms/step - loss: 6173.0801 - mse: 6173.0801 - val_loss: 5875.2197 - val_mse: 5875.2197\n",
      "Epoch 78/100\n",
      "14/14 [==============================] - 0s 5ms/step - loss: 6174.5107 - mse: 6174.5107 - val_loss: 5880.1191 - val_mse: 5880.1191\n",
      "Epoch 79/100\n",
      "14/14 [==============================] - 0s 5ms/step - loss: 6172.7490 - mse: 6172.7490 - val_loss: 5876.2456 - val_mse: 5876.2456\n",
      "Epoch 80/100\n",
      "14/14 [==============================] - 0s 5ms/step - loss: 6176.5811 - mse: 6176.5811 - val_loss: 5887.3730 - val_mse: 5887.3730\n",
      "Epoch 81/100\n",
      "14/14 [==============================] - 0s 5ms/step - loss: 6171.5581 - mse: 6171.5581 - val_loss: 5866.4556 - val_mse: 5866.4556\n",
      "Epoch 82/100\n",
      "14/14 [==============================] - 0s 5ms/step - loss: 6177.0659 - mse: 6177.0659 - val_loss: 5893.4326 - val_mse: 5893.4326\n",
      "Epoch 83/100\n",
      "14/14 [==============================] - 0s 6ms/step - loss: 6175.9365 - mse: 6175.9365 - val_loss: 5865.3320 - val_mse: 5865.3315\n",
      "Epoch 84/100\n",
      "14/14 [==============================] - 0s 5ms/step - loss: 6176.4424 - mse: 6176.4424 - val_loss: 5906.6616 - val_mse: 5906.6616\n",
      "Epoch 85/100\n",
      "14/14 [==============================] - 0s 5ms/step - loss: 6175.9609 - mse: 6175.9609 - val_loss: 5897.6265 - val_mse: 5897.6265\n",
      "Epoch 86/100\n",
      "14/14 [==============================] - 0s 5ms/step - loss: 6176.1343 - mse: 6176.1343 - val_loss: 5906.2793 - val_mse: 5906.2793\n",
      "Epoch 87/100\n",
      "14/14 [==============================] - 0s 5ms/step - loss: 6176.3555 - mse: 6176.3555 - val_loss: 5919.3159 - val_mse: 5919.3159\n",
      "Epoch 88/100\n",
      "14/14 [==============================] - 0s 5ms/step - loss: 6173.9653 - mse: 6173.9653 - val_loss: 5942.5947 - val_mse: 5942.5947\n",
      "Epoch 89/100\n",
      "14/14 [==============================] - 0s 5ms/step - loss: 6174.1851 - mse: 6174.1851 - val_loss: 5911.0957 - val_mse: 5911.0957\n",
      "Epoch 90/100\n",
      "14/14 [==============================] - 0s 4ms/step - loss: 6173.1372 - mse: 6173.1372 - val_loss: 5869.9731 - val_mse: 5869.9731\n",
      "Epoch 91/100\n",
      "14/14 [==============================] - 0s 5ms/step - loss: 6176.2725 - mse: 6176.2725 - val_loss: 5859.1680 - val_mse: 5859.1680\n",
      "Epoch 92/100\n",
      "14/14 [==============================] - 0s 5ms/step - loss: 6179.1987 - mse: 6179.1987 - val_loss: 5863.3794 - val_mse: 5863.3794\n",
      "Epoch 93/100\n",
      "14/14 [==============================] - 0s 5ms/step - loss: 6171.3320 - mse: 6171.3320 - val_loss: 5858.0410 - val_mse: 5858.0410\n",
      "Epoch 94/100\n",
      "14/14 [==============================] - 0s 5ms/step - loss: 6176.9854 - mse: 6176.9854 - val_loss: 5889.3350 - val_mse: 5889.3350\n",
      "Epoch 95/100\n",
      "14/14 [==============================] - 0s 5ms/step - loss: 6173.3882 - mse: 6173.3882 - val_loss: 5871.7544 - val_mse: 5871.7544\n",
      "Epoch 96/100\n",
      "14/14 [==============================] - 0s 5ms/step - loss: 6174.4922 - mse: 6174.4922 - val_loss: 5854.9717 - val_mse: 5854.9717\n",
      "Epoch 97/100\n",
      "14/14 [==============================] - 0s 6ms/step - loss: 6176.4585 - mse: 6176.4585 - val_loss: 5872.8921 - val_mse: 5872.8921\n",
      "Epoch 98/100\n",
      "14/14 [==============================] - 0s 5ms/step - loss: 6170.3828 - mse: 6170.3828 - val_loss: 5855.0122 - val_mse: 5855.0122\n",
      "Epoch 99/100\n",
      "14/14 [==============================] - 0s 5ms/step - loss: 6174.0342 - mse: 6174.0347 - val_loss: 5894.0112 - val_mse: 5894.0112\n",
      "Epoch 100/100\n",
      "14/14 [==============================] - 0s 5ms/step - loss: 6172.3306 - mse: 6172.3311 - val_loss: 5904.4043 - val_mse: 5904.4043\n",
      "Wall time: 7.36 s\n"
     ]
    }
   ],
   "source": [
    "%%time\n",
    "# insert code here\n",
    "\n",
    "fit_model = model.fit(X_train, y_train, validation_split = 0.25, batch_size = 20 , epochs = 100, verbose = 1)"
   ]
  },
  {
   "cell_type": "markdown",
   "metadata": {
    "colab_type": "text",
    "id": "CR-kCu3c1Kd-"
   },
   "source": [
    "### Create predictions"
   ]
  },
  {
   "cell_type": "code",
   "execution_count": 14,
   "metadata": {
    "colab": {},
    "colab_type": "code",
    "id": "wkywKqPg1Kd-"
   },
   "outputs": [
    {
     "data": {
      "text/plain": [
       "array([0, 0, 0, 0, 0, 0, 0, 0, 0, 0, 0, 0, 0, 0, 0, 0, 0, 0, 0, 0, 0, 0,\n",
       "       0, 0, 0, 0, 0, 0, 0, 0, 0, 0, 0, 0, 0, 0, 0, 0, 0, 0, 0, 0, 0, 0,\n",
       "       0, 0, 0, 0, 0, 0, 0, 0, 0, 0, 0, 0, 0, 0, 0, 0, 0, 0, 0, 0, 0, 0,\n",
       "       0, 0, 0, 0, 0, 0, 0, 0, 0, 0, 0, 0, 0, 0, 0, 0, 0, 0, 0, 0, 0, 0,\n",
       "       0], dtype=int64)"
      ]
     },
     "execution_count": 14,
     "metadata": {},
     "output_type": "execute_result"
    }
   ],
   "source": [
    "# insert code here\n",
    "predictions = model.predict(X_test)\n",
    "predictions = np.argmax(predictions, axis =1)\n",
    "predictions"
   ]
  },
  {
   "cell_type": "markdown",
   "metadata": {
    "colab_type": "text",
    "id": "-unEmrGo1KeA"
   },
   "source": [
    "### Evaluate the model"
   ]
  },
  {
   "cell_type": "code",
   "execution_count": 15,
   "metadata": {
    "colab": {},
    "colab_type": "code",
    "id": "QCIVpVrG1KeB"
   },
   "outputs": [
    {
     "name": "stdout",
     "output_type": "stream",
     "text": [
      "1/1 [==============================] - 0s 22ms/step - loss: 5469.4883 - mse: 5469.4883\n"
     ]
    },
    {
     "data": {
      "text/plain": [
       "[5469.48828125, 5469.48828125]"
      ]
     },
     "execution_count": 15,
     "metadata": {},
     "output_type": "execute_result"
    }
   ],
   "source": [
    "# insert code here\n",
    "score = model.evaluate(X_test, y_test, batch_size = 100)\n",
    "score\n"
   ]
  },
  {
   "cell_type": "markdown",
   "metadata": {
    "colab_type": "text",
    "id": "sSlqjs7e1KeD"
   },
   "source": [
    "### Visualisation of cost"
   ]
  },
  {
   "cell_type": "code",
   "execution_count": 17,
   "metadata": {
    "colab": {},
    "colab_type": "code",
    "id": "1F6hYpNh1KeE",
    "scrolled": true
   },
   "outputs": [
    {
     "data": {
      "image/png": "[encoded data removed]",
      "text/plain": [
       "<Figure size 1296x432 with 2 Axes>"
      ]
     },
     "metadata": {
      "needs_background": "light"
     },
     "output_type": "display_data"
    }
   ],
   "source": [
    "# insert code here\n",
    "\n",
    "fig, ax = plt.subplots(1, 2, figsize = (18, 6))\n",
    "fig.subplots_adjust(left = 0.02, right = 0.98, wspace = 0.2)\n",
    "\n",
    "plt.rcParams.update({'font.size': 18})\n",
    "\n",
    "# Plot training & validation accuracy values\n",
    "ax[0].plot(fit_model.history['mse'], label = 'Training')\n",
    "ax[0].plot(fit_model.history['val_mse'], label = 'Validation')\n",
    "ax[0].set_title('Model MSE')\n",
    "ax[0].set_ylabel('MSE')\n",
    "ax[0].set_xlabel('Epoch')\n",
    "ax[0].legend()\n",
    "\n",
    "# Plot training & validation loss values\n",
    "ax[1].plot(fit_model.history['loss'], label = 'Training')\n",
    "ax[1].plot(fit_model.history['val_loss'], label = 'Validation')\n",
    "ax[1].set_title('Model loss')\n",
    "ax[1].set_ylabel('Loss')\n",
    "ax[1].set_xlabel('Epoch')\n",
    "ax[1].legend()\n",
    "\n",
    "plt.show()"
   ]
  },
  {
   "cell_type": "markdown",
   "metadata": {
    "colab_type": "text",
    "id": "vQLzMZTM1KeG"
   },
   "source": [
    "### Visualisation of residuals"
   ]
  },
  {
   "cell_type": "code",
   "execution_count": null,
   "metadata": {
    "colab": {},
    "colab_type": "code",
    "id": "opIulVSw1KeH"
   },
   "outputs": [],
   "source": [
    "# insert code here\n",
    "import seaborn as sns\n",
    "\n",
    "residual = predictions - y_test"
   ]
  },
  {
   "cell_type": "code",
   "execution_count": null,
   "metadata": {},
   "outputs": [],
   "source": [
    "def show_10_digits():\n",
    "    fig, ax = plt.subplots(2, 5, figsize = (8, 4))\n",
    "    fig.subplots_adjust(left = 0.02, right = 0.98, top = 0.8, wspace = 0.2, hspace = 0.3)\n",
    "    fig.suptitle('Ten Predictions', fontsize = 12, fontweight = 'bold')\n",
    "\n",
    "    plt.rcParams.update({'font.size': 10})\n",
    "    \n",
    "    ids = np.random.randint(len(predictions), size = 10)\n",
    "    r = 0\n",
    "    c = 0\n",
    "    for id in ids:\n",
    "        XTest = X_test[id].reshape(8, 8)\n",
    "\n",
    "        # original image\n",
    "        ax[r, c].imshow(XTest, cmap = 'gray')\n",
    "        ax[r, c].set_title('Prediction: %d' % predictions[id])\n",
    "        ax[r, c].set_xticks([])\n",
    "        ax[r, c].set_yticks([])\n",
    "        c += 1\n",
    "        if c > 4:\n",
    "            r += 1\n",
    "            c = 0\n",
    "\n",
    "    plt.show()"
   ]
  },
  {
   "cell_type": "code",
   "execution_count": null,
   "metadata": {},
   "outputs": [],
   "source": [
    "show_digit()"
   ]
  },
  {
   "cell_type": "code",
   "execution_count": null,
   "metadata": {},
   "outputs": [],
   "source": [
    "show_10_digits()"
   ]
  },
  {
   "cell_type": "markdown",
   "metadata": {
    "colab_type": "text",
    "id": "RERADKgNFq9T"
   },
   "source": [
    "© 2020 Institute of Data"
   ]
  }
 ],
 "metadata": {
  "colab": {
   "collapsed_sections": [],
   "name": "DSIA Lab-10_1.ipynb",
   "provenance": []
  },
  "kernelspec": {
   "display_name": "Python 3 (ipykernel)",
   "language": "python",
   "name": "python3"
  },
  "language_info": {
   "codemirror_mode": {
    "name": "ipython",
    "version": 3
   },
   "file_extension": ".py",
   "mimetype": "text/x-python",
   "name": "python",
   "nbconvert_exporter": "python",
   "pygments_lexer": "ipython3",
   "version": "3.8.12"
  },
  "toc": {
   "base_numbering": 1,
   "nav_menu": {},
   "number_sections": true,
   "sideBar": true,
   "skip_h1_title": false,
   "title_cell": "Table of Contents",
   "title_sidebar": "Contents",
   "toc_cell": false,
   "toc_position": {},
   "toc_section_display": true,
   "toc_window_display": true
  }
 },
 "nbformat": 4,
 "nbformat_minor": 1
}

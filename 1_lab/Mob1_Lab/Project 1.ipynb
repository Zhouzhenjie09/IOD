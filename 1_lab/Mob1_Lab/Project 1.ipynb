{
 "cells": [
  {
   "cell_type": "code",
   "execution_count": 24,
   "id": "20ef00c5",
   "metadata": {},
   "outputs": [],
   "source": [
    "import numpy as np\n",
    "import pandas as pd\n",
    "import matplotlib.pyplot as plt\n",
    "from scipy import stats\n",
    "import seaborn as sns\n"
   ]
  },
  {
   "cell_type": "code",
   "execution_count": 2,
   "id": "2b564c93",
   "metadata": {},
   "outputs": [
    {
     "data": {
      "text/html": [
       "<div>\n",
       "<style scoped>\n",
       "    .dataframe tbody tr th:only-of-type {\n",
       "        vertical-align: middle;\n",
       "    }\n",
       "\n",
       "    .dataframe tbody tr th {\n",
       "        vertical-align: top;\n",
       "    }\n",
       "\n",
       "    .dataframe thead th {\n",
       "        text-align: right;\n",
       "    }\n",
       "</style>\n",
       "<table border=\"1\" class=\"dataframe\">\n",
       "  <thead>\n",
       "    <tr style=\"text-align: right;\">\n",
       "      <th></th>\n",
       "      <th>userId</th>\n",
       "      <th>productId</th>\n",
       "      <th>rating</th>\n",
       "      <th>timestamp</th>\n",
       "    </tr>\n",
       "  </thead>\n",
       "  <tbody>\n",
       "    <tr>\n",
       "      <th>0</th>\n",
       "      <td>AKM1MP6P0OYPR</td>\n",
       "      <td>0132793040</td>\n",
       "      <td>5.0</td>\n",
       "      <td>1365811200</td>\n",
       "    </tr>\n",
       "    <tr>\n",
       "      <th>1</th>\n",
       "      <td>A2CX7LUOHB2NDG</td>\n",
       "      <td>0321732944</td>\n",
       "      <td>5.0</td>\n",
       "      <td>1341100800</td>\n",
       "    </tr>\n",
       "    <tr>\n",
       "      <th>2</th>\n",
       "      <td>A2NWSAGRHCP8N5</td>\n",
       "      <td>0439886341</td>\n",
       "      <td>1.0</td>\n",
       "      <td>1367193600</td>\n",
       "    </tr>\n",
       "    <tr>\n",
       "      <th>3</th>\n",
       "      <td>A2WNBOD3WNDNKT</td>\n",
       "      <td>0439886341</td>\n",
       "      <td>3.0</td>\n",
       "      <td>1374451200</td>\n",
       "    </tr>\n",
       "    <tr>\n",
       "      <th>4</th>\n",
       "      <td>A1GI0U4ZRJA8WN</td>\n",
       "      <td>0439886341</td>\n",
       "      <td>1.0</td>\n",
       "      <td>1334707200</td>\n",
       "    </tr>\n",
       "  </tbody>\n",
       "</table>\n",
       "</div>"
      ],
      "text/plain": [
       "           userId   productId  rating   timestamp\n",
       "0   AKM1MP6P0OYPR  0132793040     5.0  1365811200\n",
       "1  A2CX7LUOHB2NDG  0321732944     5.0  1341100800\n",
       "2  A2NWSAGRHCP8N5  0439886341     1.0  1367193600\n",
       "3  A2WNBOD3WNDNKT  0439886341     3.0  1374451200\n",
       "4  A1GI0U4ZRJA8WN  0439886341     1.0  1334707200"
      ]
     },
     "execution_count": 2,
     "metadata": {},
     "output_type": "execute_result"
    }
   ],
   "source": [
    "#data from may 1996 to july 2014\n",
    "header_name = [\"userId\",\"productId\", \"rating\", \"timestamp\"]\n",
    "electronic_rate = pd.read_csv('C:\\\\Users\\\\user\\\\Documents\\\\IOD\\\\Project 1 data\\\\ratings_Electronics.csv', header=None,names=header_name)\n",
    "electronic_rate.head()"
   ]
  },
  {
   "cell_type": "code",
   "execution_count": 3,
   "id": "676f6737",
   "metadata": {},
   "outputs": [
    {
     "data": {
      "text/plain": [
       "(7824482, 4)"
      ]
     },
     "execution_count": 3,
     "metadata": {},
     "output_type": "execute_result"
    }
   ],
   "source": [
    "electronic_rate.shape"
   ]
  },
  {
   "cell_type": "code",
   "execution_count": 4,
   "id": "7be75a48",
   "metadata": {},
   "outputs": [
    {
     "data": {
      "text/plain": [
       "31297928"
      ]
     },
     "execution_count": 4,
     "metadata": {},
     "output_type": "execute_result"
    }
   ],
   "source": [
    "electronic_rate.size"
   ]
  },
  {
   "cell_type": "code",
   "execution_count": 5,
   "id": "c1c5902a",
   "metadata": {},
   "outputs": [
    {
     "data": {
      "text/plain": [
       "userId        object\n",
       "productId     object\n",
       "rating       float64\n",
       "timestamp      int64\n",
       "dtype: object"
      ]
     },
     "execution_count": 5,
     "metadata": {},
     "output_type": "execute_result"
    }
   ],
   "source": [
    "electronic_rate.dtypes"
   ]
  },
  {
   "cell_type": "code",
   "execution_count": 6,
   "id": "1ff76833",
   "metadata": {},
   "outputs": [],
   "source": [
    "#drop timestamp as it is not require in this analysis \n",
    "#electronic_rate.drop(['timestamp'], axis=1, inplace=True)\n",
    "#electronic_rate.head()"
   ]
  },
  {
   "cell_type": "code",
   "execution_count": 7,
   "id": "1cda1bfd",
   "metadata": {},
   "outputs": [
    {
     "data": {
      "text/plain": [
       "userId       0\n",
       "productId    0\n",
       "rating       0\n",
       "timestamp    0\n",
       "dtype: int64"
      ]
     },
     "execution_count": 7,
     "metadata": {},
     "output_type": "execute_result"
    }
   ],
   "source": [
    "#check null value \n",
    "electronic_rate.isnull().sum()"
   ]
  },
  {
   "cell_type": "code",
   "execution_count": 129,
   "id": "ba3ba78a",
   "metadata": {},
   "outputs": [
    {
     "data": {
      "text/plain": [
       "0"
      ]
     },
     "execution_count": 129,
     "metadata": {},
     "output_type": "execute_result"
    }
   ],
   "source": [
    "#check whether there is duplicated entry of user with the same product \n",
    "electronic_rate.duplicated().sum()"
   ]
  },
  {
   "cell_type": "code",
   "execution_count": 130,
   "id": "5e4ded08",
   "metadata": {},
   "outputs": [
    {
     "data": {
      "text/html": [
       "<div>\n",
       "<style scoped>\n",
       "    .dataframe tbody tr th:only-of-type {\n",
       "        vertical-align: middle;\n",
       "    }\n",
       "\n",
       "    .dataframe tbody tr th {\n",
       "        vertical-align: top;\n",
       "    }\n",
       "\n",
       "    .dataframe thead th {\n",
       "        text-align: right;\n",
       "    }\n",
       "</style>\n",
       "<table border=\"1\" class=\"dataframe\">\n",
       "  <thead>\n",
       "    <tr style=\"text-align: right;\">\n",
       "      <th></th>\n",
       "      <th>rating</th>\n",
       "    </tr>\n",
       "  </thead>\n",
       "  <tbody>\n",
       "    <tr>\n",
       "      <th>count</th>\n",
       "      <td>7.824482e+06</td>\n",
       "    </tr>\n",
       "    <tr>\n",
       "      <th>mean</th>\n",
       "      <td>4.012337e+00</td>\n",
       "    </tr>\n",
       "    <tr>\n",
       "      <th>std</th>\n",
       "      <td>1.380910e+00</td>\n",
       "    </tr>\n",
       "    <tr>\n",
       "      <th>min</th>\n",
       "      <td>1.000000e+00</td>\n",
       "    </tr>\n",
       "    <tr>\n",
       "      <th>25%</th>\n",
       "      <td>3.000000e+00</td>\n",
       "    </tr>\n",
       "    <tr>\n",
       "      <th>50%</th>\n",
       "      <td>5.000000e+00</td>\n",
       "    </tr>\n",
       "    <tr>\n",
       "      <th>75%</th>\n",
       "      <td>5.000000e+00</td>\n",
       "    </tr>\n",
       "    <tr>\n",
       "      <th>max</th>\n",
       "      <td>5.000000e+00</td>\n",
       "    </tr>\n",
       "  </tbody>\n",
       "</table>\n",
       "</div>"
      ],
      "text/plain": [
       "             rating\n",
       "count  7.824482e+06\n",
       "mean   4.012337e+00\n",
       "std    1.380910e+00\n",
       "min    1.000000e+00\n",
       "25%    3.000000e+00\n",
       "50%    5.000000e+00\n",
       "75%    5.000000e+00\n",
       "max    5.000000e+00"
      ]
     },
     "execution_count": 130,
     "metadata": {},
     "output_type": "execute_result"
    }
   ],
   "source": [
    "#check the data statistic \n",
    "electronic_rate.describe()"
   ]
  },
  {
   "cell_type": "code",
   "execution_count": 125,
   "id": "9ead001e",
   "metadata": {},
   "outputs": [
    {
     "data": {
      "text/html": [
       "<div>\n",
       "<style scoped>\n",
       "    .dataframe tbody tr th:only-of-type {\n",
       "        vertical-align: middle;\n",
       "    }\n",
       "\n",
       "    .dataframe tbody tr th {\n",
       "        vertical-align: top;\n",
       "    }\n",
       "\n",
       "    .dataframe thead th {\n",
       "        text-align: right;\n",
       "    }\n",
       "</style>\n",
       "<table border=\"1\" class=\"dataframe\">\n",
       "  <thead>\n",
       "    <tr style=\"text-align: right;\">\n",
       "      <th></th>\n",
       "      <th>userId</th>\n",
       "      <th>productId</th>\n",
       "      <th>rating</th>\n",
       "      <th>Date</th>\n",
       "    </tr>\n",
       "  </thead>\n",
       "  <tbody>\n",
       "    <tr>\n",
       "      <th>0</th>\n",
       "      <td>AKM1MP6P0OYPR</td>\n",
       "      <td>0132793040</td>\n",
       "      <td>5.0</td>\n",
       "      <td>2013-04-13</td>\n",
       "    </tr>\n",
       "    <tr>\n",
       "      <th>1</th>\n",
       "      <td>A2CX7LUOHB2NDG</td>\n",
       "      <td>0321732944</td>\n",
       "      <td>5.0</td>\n",
       "      <td>2012-07-01</td>\n",
       "    </tr>\n",
       "    <tr>\n",
       "      <th>2</th>\n",
       "      <td>A2NWSAGRHCP8N5</td>\n",
       "      <td>0439886341</td>\n",
       "      <td>1.0</td>\n",
       "      <td>2013-04-29</td>\n",
       "    </tr>\n",
       "    <tr>\n",
       "      <th>3</th>\n",
       "      <td>A2WNBOD3WNDNKT</td>\n",
       "      <td>0439886341</td>\n",
       "      <td>3.0</td>\n",
       "      <td>2013-07-22</td>\n",
       "    </tr>\n",
       "    <tr>\n",
       "      <th>4</th>\n",
       "      <td>A1GI0U4ZRJA8WN</td>\n",
       "      <td>0439886341</td>\n",
       "      <td>1.0</td>\n",
       "      <td>2012-04-18</td>\n",
       "    </tr>\n",
       "  </tbody>\n",
       "</table>\n",
       "</div>"
      ],
      "text/plain": [
       "           userId   productId  rating       Date\n",
       "0   AKM1MP6P0OYPR  0132793040     5.0 2013-04-13\n",
       "1  A2CX7LUOHB2NDG  0321732944     5.0 2012-07-01\n",
       "2  A2NWSAGRHCP8N5  0439886341     1.0 2013-04-29\n",
       "3  A2WNBOD3WNDNKT  0439886341     3.0 2013-07-22\n",
       "4  A1GI0U4ZRJA8WN  0439886341     1.0 2012-04-18"
      ]
     },
     "execution_count": 125,
     "metadata": {},
     "output_type": "execute_result"
    }
   ],
   "source": [
    "#convert timestamp into date time \n",
    "electronic_rate['timestamp'] = pd.to_datetime(electronic_rate['timestamp'], unit='s' )\n",
    "electronic_rate.rename(columns={'timestamp': 'Date'}, inplace=True)\n",
    "electronic_rate.head()"
   ]
  },
  {
   "cell_type": "code",
   "execution_count": 126,
   "id": "7fb1e40a",
   "metadata": {},
   "outputs": [
    {
     "data": {
      "text/html": [
       "<div>\n",
       "<style scoped>\n",
       "    .dataframe tbody tr th:only-of-type {\n",
       "        vertical-align: middle;\n",
       "    }\n",
       "\n",
       "    .dataframe tbody tr th {\n",
       "        vertical-align: top;\n",
       "    }\n",
       "\n",
       "    .dataframe thead th {\n",
       "        text-align: right;\n",
       "    }\n",
       "</style>\n",
       "<table border=\"1\" class=\"dataframe\">\n",
       "  <thead>\n",
       "    <tr style=\"text-align: right;\">\n",
       "      <th></th>\n",
       "      <th>userId</th>\n",
       "      <th>productId</th>\n",
       "      <th>rating</th>\n",
       "      <th>Date</th>\n",
       "    </tr>\n",
       "  </thead>\n",
       "  <tbody>\n",
       "    <tr>\n",
       "      <th>7824477</th>\n",
       "      <td>A2YZI3C9MOHC0L</td>\n",
       "      <td>BT008UKTMW</td>\n",
       "      <td>5.0</td>\n",
       "      <td>2014-04-04</td>\n",
       "    </tr>\n",
       "    <tr>\n",
       "      <th>7824478</th>\n",
       "      <td>A322MDK0M89RHN</td>\n",
       "      <td>BT008UKTMW</td>\n",
       "      <td>5.0</td>\n",
       "      <td>2011-08-15</td>\n",
       "    </tr>\n",
       "    <tr>\n",
       "      <th>7824479</th>\n",
       "      <td>A1MH90R0ADMIK0</td>\n",
       "      <td>BT008UKTMW</td>\n",
       "      <td>4.0</td>\n",
       "      <td>2014-07-01</td>\n",
       "    </tr>\n",
       "    <tr>\n",
       "      <th>7824480</th>\n",
       "      <td>A10M2KEFPEQDHN</td>\n",
       "      <td>BT008UKTMW</td>\n",
       "      <td>4.0</td>\n",
       "      <td>2011-02-13</td>\n",
       "    </tr>\n",
       "    <tr>\n",
       "      <th>7824481</th>\n",
       "      <td>A2G81TMIOIDEQQ</td>\n",
       "      <td>BT008V9J9U</td>\n",
       "      <td>5.0</td>\n",
       "      <td>2011-08-07</td>\n",
       "    </tr>\n",
       "  </tbody>\n",
       "</table>\n",
       "</div>"
      ],
      "text/plain": [
       "                 userId   productId  rating       Date\n",
       "7824477  A2YZI3C9MOHC0L  BT008UKTMW     5.0 2014-04-04\n",
       "7824478  A322MDK0M89RHN  BT008UKTMW     5.0 2011-08-15\n",
       "7824479  A1MH90R0ADMIK0  BT008UKTMW     4.0 2014-07-01\n",
       "7824480  A10M2KEFPEQDHN  BT008UKTMW     4.0 2011-02-13\n",
       "7824481  A2G81TMIOIDEQQ  BT008V9J9U     5.0 2011-08-07"
      ]
     },
     "execution_count": 126,
     "metadata": {},
     "output_type": "execute_result"
    }
   ],
   "source": [
    "electronic_rate.tail()"
   ]
  },
  {
   "cell_type": "code",
   "execution_count": 127,
   "id": "6cf2a3be",
   "metadata": {},
   "outputs": [
    {
     "name": "stdout",
     "output_type": "stream",
     "text": [
      "<class 'pandas.core.frame.DataFrame'>\n",
      "RangeIndex: 7824482 entries, 0 to 7824481\n",
      "Data columns (total 4 columns):\n",
      " #   Column     Dtype         \n",
      "---  ------     -----         \n",
      " 0   userId     object        \n",
      " 1   productId  object        \n",
      " 2   rating     float64       \n",
      " 3   Date       datetime64[ns]\n",
      "dtypes: datetime64[ns](1), float64(1), object(2)\n",
      "memory usage: 238.8+ MB\n"
     ]
    }
   ],
   "source": [
    "electronic_rate.info()"
   ]
  },
  {
   "cell_type": "code",
   "execution_count": 80,
   "id": "ed1a1700",
   "metadata": {},
   "outputs": [
    {
     "data": {
      "text/plain": [
       "userId       4201696\n",
       "productId     476002\n",
       "rating             5\n",
       "timestamp       5489\n",
       "dtype: int64"
      ]
     },
     "execution_count": 80,
     "metadata": {},
     "output_type": "execute_result"
    }
   ],
   "source": [
    "#the number of unique userId, productId and rating\n",
    "electronic_rate.nunique()"
   ]
  },
  {
   "cell_type": "code",
   "execution_count": 14,
   "id": "e57f29d3",
   "metadata": {},
   "outputs": [
    {
     "data": {
      "text/plain": [
       "rating\n",
       "1.0        901765\n",
       "2.0        456322\n",
       "3.0        633073\n",
       "4.0       1485781\n",
       "5.0       4347541\n",
       "dtype: int64"
      ]
     },
     "execution_count": 14,
     "metadata": {},
     "output_type": "execute_result"
    }
   ],
   "source": [
    "#i want to check the no. rating  \n",
    "electronic_rate.value_counts(['rating'], sort=False)\n"
   ]
  },
  {
   "cell_type": "code",
   "execution_count": 122,
   "id": "0f9e5398",
   "metadata": {},
   "outputs": [
    {
     "data": {
      "text/plain": [
       "<seaborn.axisgrid.FacetGrid at 0x16fffda5820>"
      ]
     },
     "execution_count": 122,
     "metadata": {},
     "output_type": "execute_result"
    },
    {
     "data": {
      "image/png": "[encoded data removed]",
      "text/plain": [
       "<Figure size 360x360 with 1 Axes>"
      ]
     },
     "metadata": {
      "needs_background": "light"
     },
     "output_type": "display_data"
    }
   ],
   "source": [
    "#plot the rating graph\n",
    "g = sns.catplot(x=\"rating\", kind=\"count\", palette=\"Set2\", data=electronic_rate)\n",
    "g.set_ylabels(\"Total number of ratings\")"
   ]
  },
  {
   "cell_type": "code",
   "execution_count": 81,
   "id": "66f10e8f",
   "metadata": {},
   "outputs": [
    {
     "data": {
      "text/plain": [
       "productId\n",
       "B0074BW614    18244\n",
       "B00DR0PDNE    16454\n",
       "B007WTAJTO    14172\n",
       "B0019EHU8G    12285\n",
       "B006GWO5WK    12226\n",
       "B003ELYQGG    11617\n",
       "B003ES5ZUU    10276\n",
       "B007R5YDYA     9907\n",
       "B00622AG6S     9823\n",
       "B0002L5R78     9487\n",
       "dtype: int64"
      ]
     },
     "execution_count": 81,
     "metadata": {},
     "output_type": "execute_result"
    }
   ],
   "source": [
    "#Top 10 product that got the most number of rating by user ..  \n",
    "electronic_rate.value_counts('productId')[:10]\n"
   ]
  },
  {
   "cell_type": "code",
   "execution_count": 18,
   "id": "781b4b5d",
   "metadata": {
    "scrolled": false
   },
   "outputs": [
    {
     "name": "stdout",
     "output_type": "stream",
     "text": [
      "userId\n",
      "A5JLAU2ARJ0BO     520\n",
      "ADLVFFE4VBT8      501\n",
      "A3OXHLG6DIBRW8    498\n",
      "A6FIAB28IS79      431\n",
      "A680RUE1FDO8B     406\n",
      "                 ... \n",
      "A2HRB8UOXH92SQ      1\n",
      "A2HRBA4HO2E4GU      1\n",
      "A2HRBCM00IDK56      1\n",
      "A2HRBEBDTIB8MT      1\n",
      "AZZZY1W55XHZR       1\n",
      "Length: 4201696, dtype: int64\n"
     ]
    }
   ],
   "source": [
    "#user that rate the most products . count_rated_user = electronic_rate.groupby('userId').size().sort_values(ascending=False)\n",
    "most_rated_users = electronic_rate.value_counts('userId')\n",
    "print(most_rated_users)"
   ]
  },
  {
   "cell_type": "code",
   "execution_count": 82,
   "id": "cbf2ea94",
   "metadata": {},
   "outputs": [
    {
     "name": "stdout",
     "output_type": "stream",
     "text": [
      "                       userId\n",
      "userId                       \n",
      "A00000262KYZUE4J55XGL       1\n",
      "A000063614T1OE0BUSKUT       2\n",
      "A00009182QVLSWIGHLS1B       1\n",
      "A00009661LC9LQPGKJ24G       1\n",
      "A00010809P09NUU6ZP6H        1\n",
      "...                       ...\n",
      "AZZZOVIBXHGDR               3\n",
      "AZZZRS1YZ8HVP               2\n",
      "AZZZSIK7NFFVP               1\n",
      "AZZZWXXUPZ1F3               1\n",
      "AZZZY1W55XHZR               1\n",
      "\n",
      "[4201696 rows x 1 columns]\n"
     ]
    },
    {
     "data": {
      "text/html": [
       "<div>\n",
       "<style scoped>\n",
       "    .dataframe tbody tr th:only-of-type {\n",
       "        vertical-align: middle;\n",
       "    }\n",
       "\n",
       "    .dataframe tbody tr th {\n",
       "        vertical-align: top;\n",
       "    }\n",
       "\n",
       "    .dataframe thead th {\n",
       "        text-align: right;\n",
       "    }\n",
       "</style>\n",
       "<table border=\"1\" class=\"dataframe\">\n",
       "  <thead>\n",
       "    <tr style=\"text-align: right;\">\n",
       "      <th></th>\n",
       "      <th>Number_of_Purchases</th>\n",
       "    </tr>\n",
       "    <tr>\n",
       "      <th>userId</th>\n",
       "      <th></th>\n",
       "    </tr>\n",
       "  </thead>\n",
       "  <tbody>\n",
       "    <tr>\n",
       "      <th>A00000262KYZUE4J55XGL</th>\n",
       "      <td>1</td>\n",
       "    </tr>\n",
       "    <tr>\n",
       "      <th>A000063614T1OE0BUSKUT</th>\n",
       "      <td>2</td>\n",
       "    </tr>\n",
       "    <tr>\n",
       "      <th>A00009182QVLSWIGHLS1B</th>\n",
       "      <td>1</td>\n",
       "    </tr>\n",
       "    <tr>\n",
       "      <th>A00009661LC9LQPGKJ24G</th>\n",
       "      <td>1</td>\n",
       "    </tr>\n",
       "    <tr>\n",
       "      <th>A00010809P09NUU6ZP6H</th>\n",
       "      <td>1</td>\n",
       "    </tr>\n",
       "  </tbody>\n",
       "</table>\n",
       "</div>"
      ],
      "text/plain": [
       "                       Number_of_Purchases\n",
       "userId                                    \n",
       "A00000262KYZUE4J55XGL                    1\n",
       "A000063614T1OE0BUSKUT                    2\n",
       "A00009182QVLSWIGHLS1B                    1\n",
       "A00009661LC9LQPGKJ24G                    1\n",
       "A00010809P09NUU6ZP6H                     1"
      ]
     },
     "execution_count": 82,
     "metadata": {},
     "output_type": "execute_result"
    }
   ],
   "source": [
    "filtered_df = electronic_rate.groupby(\"userId\")[[\"userId\"]].count()\n",
    "print(filtered_df)\n",
    "\n",
    "filtered_df.rename(columns={'userId': 'Number_of_Purchases'}, inplace=True)\n",
    "filtered_df.head()"
   ]
  },
  {
   "cell_type": "code",
   "execution_count": 83,
   "id": "ac7cf253",
   "metadata": {},
   "outputs": [
    {
     "data": {
      "text/html": [
       "<div>\n",
       "<style scoped>\n",
       "    .dataframe tbody tr th:only-of-type {\n",
       "        vertical-align: middle;\n",
       "    }\n",
       "\n",
       "    .dataframe tbody tr th {\n",
       "        vertical-align: top;\n",
       "    }\n",
       "\n",
       "    .dataframe thead th {\n",
       "        text-align: right;\n",
       "    }\n",
       "</style>\n",
       "<table border=\"1\" class=\"dataframe\">\n",
       "  <thead>\n",
       "    <tr style=\"text-align: right;\">\n",
       "      <th></th>\n",
       "      <th>Number_of_Purchases</th>\n",
       "    </tr>\n",
       "    <tr>\n",
       "      <th>userId</th>\n",
       "      <th></th>\n",
       "    </tr>\n",
       "  </thead>\n",
       "  <tbody>\n",
       "    <tr>\n",
       "      <th>A5JLAU2ARJ0BO</th>\n",
       "      <td>520</td>\n",
       "    </tr>\n",
       "    <tr>\n",
       "      <th>ADLVFFE4VBT8</th>\n",
       "      <td>501</td>\n",
       "    </tr>\n",
       "    <tr>\n",
       "      <th>A3OXHLG6DIBRW8</th>\n",
       "      <td>498</td>\n",
       "    </tr>\n",
       "    <tr>\n",
       "      <th>A6FIAB28IS79</th>\n",
       "      <td>431</td>\n",
       "    </tr>\n",
       "    <tr>\n",
       "      <th>A680RUE1FDO8B</th>\n",
       "      <td>406</td>\n",
       "    </tr>\n",
       "    <tr>\n",
       "      <th>...</th>\n",
       "      <td>...</td>\n",
       "    </tr>\n",
       "    <tr>\n",
       "      <th>A2ER8G4JJJ7XER</th>\n",
       "      <td>50</td>\n",
       "    </tr>\n",
       "    <tr>\n",
       "      <th>A2F4HP0J5VNOYR</th>\n",
       "      <td>50</td>\n",
       "    </tr>\n",
       "    <tr>\n",
       "      <th>A17RFKCYS69M3Y</th>\n",
       "      <td>50</td>\n",
       "    </tr>\n",
       "    <tr>\n",
       "      <th>A3CP3J7OEGQMD5</th>\n",
       "      <td>50</td>\n",
       "    </tr>\n",
       "    <tr>\n",
       "      <th>A2TVJ0YDW3QO63</th>\n",
       "      <td>50</td>\n",
       "    </tr>\n",
       "  </tbody>\n",
       "</table>\n",
       "<p>1540 rows × 1 columns</p>\n",
       "</div>"
      ],
      "text/plain": [
       "                Number_of_Purchases\n",
       "userId                             \n",
       "A5JLAU2ARJ0BO                   520\n",
       "ADLVFFE4VBT8                    501\n",
       "A3OXHLG6DIBRW8                  498\n",
       "A6FIAB28IS79                    431\n",
       "A680RUE1FDO8B                   406\n",
       "...                             ...\n",
       "A2ER8G4JJJ7XER                   50\n",
       "A2F4HP0J5VNOYR                   50\n",
       "A17RFKCYS69M3Y                   50\n",
       "A3CP3J7OEGQMD5                   50\n",
       "A2TVJ0YDW3QO63                   50\n",
       "\n",
       "[1540 rows x 1 columns]"
      ]
     },
     "execution_count": 83,
     "metadata": {},
     "output_type": "execute_result"
    }
   ],
   "source": [
    "morethan50_user_rating = filtered_df[filtered_df.Number_of_Purchases >= 50]\n",
    "morethan50_user_rating.sort_values(by='Number_of_Purchases',ascending=False)\n"
   ]
  },
  {
   "cell_type": "code",
   "execution_count": 107,
   "id": "ebe30ca1",
   "metadata": {},
   "outputs": [
    {
     "name": "stdout",
     "output_type": "stream",
     "text": [
      "                userId_count\n",
      "userId                      \n",
      "A100UD67AHFODS           116\n",
      "A100WO06OQR8BQ           132\n",
      "A10471FSILZ25C            32\n",
      "A105S56ODHGJEK            68\n",
      "A105TOJ6LTVMBG            71\n",
      "...                      ...\n",
      "AZV2U6GU5QA6C             46\n",
      "AZWQEM8GKXQ5Y             37\n",
      "AZYJE40XW6MFG             43\n",
      "AZZ2DEE2NTIM7             46\n",
      "AZZYW4YOE1B6E             35\n",
      "\n",
      "[5276 rows x 1 columns]\n"
     ]
    }
   ],
   "source": [
    "print(morethan30_user_rating)"
   ]
  },
  {
   "cell_type": "code",
   "execution_count": 31,
   "id": "5d7bf08b",
   "metadata": {},
   "outputs": [
    {
     "name": "stdout",
     "output_type": "stream",
     "text": [
      "Help on function catplot in module seaborn.categorical:\n",
      "\n",
      "catplot(*, x=None, y=None, hue=None, data=None, row=None, col=None, col_wrap=None, estimator=<function mean at 0x0000016FFA394CA0>, ci=95, n_boot=1000, units=None, seed=None, order=None, hue_order=None, row_order=None, col_order=None, kind='strip', height=5, aspect=1, orient=None, color=None, palette=None, legend=True, legend_out=True, sharex=True, sharey=True, margin_titles=False, facet_kws=None, **kwargs)\n",
      "    Figure-level interface for drawing categorical plots onto a FacetGrid.\n",
      "    \n",
      "    This function provides access to several axes-level functions that\n",
      "    show the relationship between a numerical and one or more categorical\n",
      "    variables using one of several visual representations. The ``kind``\n",
      "    parameter selects the underlying axes-level function to use:\n",
      "    \n",
      "    Categorical scatterplots:\n",
      "    \n",
      "    - :func:`stripplot` (with ``kind=\"strip\"``; the default)\n",
      "    - :func:`swarmplot` (with ``kind=\"swarm\"``)\n",
      "    \n",
      "    Categorical distribution plots:\n",
      "    \n",
      "    - :func:`boxplot` (with ``kind=\"box\"``)\n",
      "    - :func:`violinplot` (with ``kind=\"violin\"``)\n",
      "    - :func:`boxenplot` (with ``kind=\"boxen\"``)\n",
      "    \n",
      "    Categorical estimate plots:\n",
      "    \n",
      "    - :func:`pointplot` (with ``kind=\"point\"``)\n",
      "    - :func:`barplot` (with ``kind=\"bar\"``)\n",
      "    - :func:`countplot` (with ``kind=\"count\"``)\n",
      "    \n",
      "    Extra keyword arguments are passed to the underlying function, so you\n",
      "    should refer to the documentation for each to see kind-specific options.\n",
      "    \n",
      "    Note that unlike when using the axes-level functions directly, data must be\n",
      "    passed in a long-form DataFrame with variables specified by passing strings\n",
      "    to ``x``, ``y``, ``hue``, etc.\n",
      "    \n",
      "    As in the case with the underlying plot functions, if variables have a\n",
      "    ``categorical`` data type, the levels of the categorical variables, and\n",
      "    their order will be inferred from the objects. Otherwise you may have to\n",
      "    use alter the dataframe sorting or use the function parameters (``orient``,\n",
      "    ``order``, ``hue_order``, etc.) to set up the plot correctly.\n",
      "    \n",
      "    This function always treats one of the variables as categorical and\n",
      "    draws data at ordinal positions (0, 1, ... n) on the relevant axis, even\n",
      "    when the data has a numeric or date type.\n",
      "    \n",
      "    See the :ref:`tutorial <categorical_tutorial>` for more information.    \n",
      "    \n",
      "    After plotting, the :class:`FacetGrid` with the plot is returned and can\n",
      "    be used directly to tweak supporting plot details or add other layers.\n",
      "    \n",
      "    Parameters\n",
      "    ----------\n",
      "    x, y, hue : names of variables in ``data``\n",
      "        Inputs for plotting long-form data. See examples for interpretation.        \n",
      "    data : DataFrame\n",
      "        Long-form (tidy) dataset for plotting. Each column should correspond\n",
      "        to a variable, and each row should correspond to an observation.    \n",
      "    row, col : names of variables in ``data``, optional\n",
      "        Categorical variables that will determine the faceting of the grid.\n",
      "    col_wrap : int\n",
      "        \"Wrap\" the column variable at this width, so that the column facets\n",
      "        span multiple rows. Incompatible with a ``row`` facet.    \n",
      "    estimator : callable that maps vector -> scalar, optional\n",
      "        Statistical function to estimate within each categorical bin.\n",
      "    ci : float or \"sd\" or None, optional\n",
      "        Size of confidence intervals to draw around estimated values.  If\n",
      "        \"sd\", skip bootstrapping and draw the standard deviation of the\n",
      "        observations. If ``None``, no bootstrapping will be performed, and\n",
      "        error bars will not be drawn.\n",
      "    n_boot : int, optional\n",
      "        Number of bootstrap iterations to use when computing confidence\n",
      "        intervals.\n",
      "    units : name of variable in ``data`` or vector data, optional\n",
      "        Identifier of sampling units, which will be used to perform a\n",
      "        multilevel bootstrap and account for repeated measures design.\n",
      "    seed : int, numpy.random.Generator, or numpy.random.RandomState, optional\n",
      "        Seed or random number generator for reproducible bootstrapping.    \n",
      "    order, hue_order : lists of strings, optional\n",
      "        Order to plot the categorical levels in, otherwise the levels are\n",
      "        inferred from the data objects.        \n",
      "    row_order, col_order : lists of strings, optional\n",
      "        Order to organize the rows and/or columns of the grid in, otherwise the\n",
      "        orders are inferred from the data objects.\n",
      "    kind : str, optional\n",
      "        The kind of plot to draw, corresponds to the name of a categorical\n",
      "        axes-level plotting function. Options are: \"strip\", \"swarm\", \"box\", \"violin\",\n",
      "        \"boxen\", \"point\", \"bar\", or \"count\".\n",
      "    height : scalar\n",
      "        Height (in inches) of each facet. See also: ``aspect``.    \n",
      "    aspect : scalar\n",
      "        Aspect ratio of each facet, so that ``aspect * height`` gives the width\n",
      "        of each facet in inches.    \n",
      "    orient : \"v\" | \"h\", optional\n",
      "        Orientation of the plot (vertical or horizontal). This is usually\n",
      "        inferred based on the type of the input variables, but it can be used\n",
      "        to resolve ambiguitiy when both `x` and `y` are numeric or when\n",
      "        plotting wide-form data.    \n",
      "    color : matplotlib color, optional\n",
      "        Color for all of the elements, or seed for a gradient palette.    \n",
      "    palette : palette name, list, or dict\n",
      "        Colors to use for the different levels of the ``hue`` variable. Should\n",
      "        be something that can be interpreted by :func:`color_palette`, or a\n",
      "        dictionary mapping hue levels to matplotlib colors.    \n",
      "    legend : bool, optional\n",
      "        If ``True`` and there is a ``hue`` variable, draw a legend on the plot.\n",
      "    legend_out : bool\n",
      "        If ``True``, the figure size will be extended, and the legend will be\n",
      "        drawn outside the plot on the center right.    \n",
      "    share{x,y} : bool, 'col', or 'row' optional\n",
      "        If true, the facets will share y axes across columns and/or x axes\n",
      "        across rows.    \n",
      "    margin_titles : bool\n",
      "        If ``True``, the titles for the row variable are drawn to the right of\n",
      "        the last column. This option is experimental and may not work in all\n",
      "        cases.    \n",
      "    facet_kws : dict, optional\n",
      "        Dictionary of other keyword arguments to pass to :class:`FacetGrid`.\n",
      "    kwargs : key, value pairings\n",
      "        Other keyword arguments are passed through to the underlying plotting\n",
      "        function.\n",
      "    \n",
      "    Returns\n",
      "    -------\n",
      "    g : :class:`FacetGrid`\n",
      "        Returns the :class:`FacetGrid` object with the plot on it for further\n",
      "        tweaking.\n",
      "    \n",
      "    Examples\n",
      "    --------\n",
      "    \n",
      "    Draw a single facet to use the :class:`FacetGrid` legend placement:\n",
      "    \n",
      "    .. plot::\n",
      "        :context: close-figs\n",
      "    \n",
      "        >>> import seaborn as sns\n",
      "        >>> sns.set_theme(style=\"ticks\")\n",
      "        >>> exercise = sns.load_dataset(\"exercise\")\n",
      "        >>> g = sns.catplot(x=\"time\", y=\"pulse\", hue=\"kind\", data=exercise)\n",
      "    \n",
      "    Use a different plot kind to visualize the same data:\n",
      "    \n",
      "    .. plot::\n",
      "        :context: close-figs\n",
      "    \n",
      "        >>> g = sns.catplot(x=\"time\", y=\"pulse\", hue=\"kind\",\n",
      "        ...                data=exercise, kind=\"violin\")\n",
      "    \n",
      "    Facet along the columns to show a third categorical variable:\n",
      "    \n",
      "    .. plot::\n",
      "        :context: close-figs\n",
      "    \n",
      "        >>> g = sns.catplot(x=\"time\", y=\"pulse\", hue=\"kind\",\n",
      "        ...                 col=\"diet\", data=exercise)\n",
      "    \n",
      "    Use a different height and aspect ratio for the facets:\n",
      "    \n",
      "    .. plot::\n",
      "        :context: close-figs\n",
      "    \n",
      "        >>> g = sns.catplot(x=\"time\", y=\"pulse\", hue=\"kind\",\n",
      "        ...                 col=\"diet\", data=exercise,\n",
      "        ...                 height=5, aspect=.8)\n",
      "    \n",
      "    Make many column facets and wrap them into the rows of the grid:\n",
      "    \n",
      "    .. plot::\n",
      "        :context: close-figs\n",
      "    \n",
      "        >>> titanic = sns.load_dataset(\"titanic\")\n",
      "        >>> g = sns.catplot(x=\"alive\", col=\"deck\", col_wrap=4,\n",
      "        ...                 data=titanic[titanic.deck.notnull()],\n",
      "        ...                 kind=\"count\", height=2.5, aspect=.8)\n",
      "    \n",
      "    Plot horizontally and pass other keyword arguments to the plot function:\n",
      "    \n",
      "    .. plot::\n",
      "        :context: close-figs\n",
      "    \n",
      "        >>> g = sns.catplot(x=\"age\", y=\"embark_town\",\n",
      "        ...                 hue=\"sex\", row=\"class\",\n",
      "        ...                 data=titanic[titanic.embark_town.notnull()],\n",
      "        ...                 orient=\"h\", height=2, aspect=3, palette=\"Set3\",\n",
      "        ...                 kind=\"violin\", dodge=True, cut=0, bw=.2)\n",
      "    \n",
      "    Use methods on the returned :class:`FacetGrid` to tweak the presentation:\n",
      "    \n",
      "    .. plot::\n",
      "        :context: close-figs\n",
      "    \n",
      "        >>> g = sns.catplot(x=\"who\", y=\"survived\", col=\"class\",\n",
      "        ...                 data=titanic, saturation=.5,\n",
      "        ...                 kind=\"bar\", ci=None, aspect=.6)\n",
      "        >>> (g.set_axis_labels(\"\", \"Survival Rate\")\n",
      "        ...   .set_xticklabels([\"Men\", \"Women\", \"Children\"])\n",
      "        ...   .set_titles(\"{col_name} {col_var}\")\n",
      "        ...   .set(ylim=(0, 1))\n",
      "        ...   .despine(left=True))  #doctest: +ELLIPSIS\n",
      "        <seaborn.axisgrid.FacetGrid object at 0x...>\n",
      "\n"
     ]
    }
   ],
   "source": [
    "help(sns.catplot)"
   ]
  },
  {
   "cell_type": "code",
   "execution_count": 275,
   "id": "6b233f53",
   "metadata": {},
   "outputs": [
    {
     "data": {
      "text/plain": [
       "<seaborn.axisgrid.FacetGrid at 0x1704de73e50>"
      ]
     },
     "execution_count": 275,
     "metadata": {},
     "output_type": "execute_result"
    },
    {
     "data": {
      "image/png": "[encoded data removed]",
      "text/plain": [
       "<Figure size 720x360 with 1 Axes>"
      ]
     },
     "metadata": {
      "needs_background": "light"
     },
     "output_type": "display_data"
    }
   ],
   "source": [
    "\n",
    "\n",
    "j = sns.catplot(x=\"Number_of_Purchases\", data=morethan50_user_rating, aspect=2, kind=\"count\", color='steelblue')\n",
    "j.set_ylabels(\"Number of User\")\n",
    "j.set_xticklabels(step=10, rotation=45)\n"
   ]
  },
  {
   "cell_type": "code",
   "execution_count": 128,
   "id": "9b3bbb55",
   "metadata": {},
   "outputs": [
    {
     "name": "stdout",
     "output_type": "stream",
     "text": [
      "0         2013-04-13\n",
      "1         2012-07-01\n",
      "2         2013-04-29\n",
      "3         2013-07-22\n",
      "4         2012-04-18\n",
      "             ...    \n",
      "7824477   2014-04-04\n",
      "7824478   2011-08-15\n",
      "7824479   2014-07-01\n",
      "7824480   2011-02-13\n",
      "7824481   2011-08-07\n",
      "Name: Date, Length: 7824482, dtype: datetime64[ns]\n"
     ]
    }
   ],
   "source": [
    "# check the date range \n",
    "date_df = electronic_rate['Date']\n"
   ]
  },
  {
   "cell_type": "code",
   "execution_count": 134,
   "id": "cfa706b6",
   "metadata": {},
   "outputs": [
    {
     "data": {
      "text/plain": [
       "<seaborn.axisgrid.FacetGrid at 0x16fb3008a30>"
      ]
     },
     "execution_count": 134,
     "metadata": {},
     "output_type": "execute_result"
    },
    {
     "data": {
      "image/png": "[encoded data removed]",
      "text/plain": [
       "<Figure size 720x360 with 1 Axes>"
      ]
     },
     "metadata": {
      "needs_background": "light"
     },
     "output_type": "display_data"
    }
   ],
   "source": [
    "date_l = sns.catplot(x=\"Date\", data=electronic_rate, aspect=2, kind=\"count\", color='Green')\n",
    "date_l.set_xticklabels(step=500)"
   ]
  },
  {
   "cell_type": "code",
   "execution_count": 140,
   "id": "f26d2c81",
   "metadata": {},
   "outputs": [
    {
     "name": "stdout",
     "output_type": "stream",
     "text": [
      "<class 'pandas.core.frame.DataFrame'>\n",
      "RangeIndex: 7824482 entries, 0 to 7824481\n",
      "Data columns (total 4 columns):\n",
      " #   Column     Dtype         \n",
      "---  ------     -----         \n",
      " 0   userId     object        \n",
      " 1   productId  object        \n",
      " 2   rating     float64       \n",
      " 3   Date       datetime64[ns]\n",
      "dtypes: datetime64[ns](1), float64(1), object(2)\n",
      "memory usage: 238.8+ MB\n"
     ]
    }
   ],
   "source": [
    "electronic_rate.info()"
   ]
  },
  {
   "cell_type": "code",
   "execution_count": 183,
   "id": "891d8b2b",
   "metadata": {},
   "outputs": [
    {
     "name": "stdout",
     "output_type": "stream",
     "text": [
      "                 userId   productId  rating       Date\n",
      "0         AKM1MP6P0OYPR  0132793040     5.0 2013-04-13\n",
      "1        A2CX7LUOHB2NDG  0321732944     5.0 2012-07-01\n",
      "2        A2NWSAGRHCP8N5  0439886341     1.0 2013-04-29\n",
      "3        A2WNBOD3WNDNKT  0439886341     3.0 2013-07-22\n",
      "4        A1GI0U4ZRJA8WN  0439886341     1.0 2012-04-18\n",
      "...                 ...         ...     ...        ...\n",
      "7824477  A2YZI3C9MOHC0L  BT008UKTMW     5.0 2014-04-04\n",
      "7824478  A322MDK0M89RHN  BT008UKTMW     5.0 2011-08-15\n",
      "7824479  A1MH90R0ADMIK0  BT008UKTMW     4.0 2014-07-01\n",
      "7824480  A10M2KEFPEQDHN  BT008UKTMW     4.0 2011-02-13\n",
      "7824481  A2G81TMIOIDEQQ  BT008V9J9U     5.0 2011-08-07\n",
      "\n",
      "[7824482 rows x 4 columns]\n"
     ]
    }
   ],
   "source": [
    "date_all = (date_df > '1998-1-1') & (date_df <= '2014-12-31')\n",
    "print(electronic_rate.loc[date_all])"
   ]
  },
  {
   "cell_type": "code",
   "execution_count": 180,
   "id": "296bb8e6",
   "metadata": {},
   "outputs": [
    {
     "name": "stdout",
     "output_type": "stream",
     "text": [
      "4\n"
     ]
    }
   ],
   "source": [
    "date1998 = sum((date_df > '1998-1-1') & (date_df <= '1998-12-31'))\n",
    "print(date1998)"
   ]
  },
  {
   "cell_type": "code",
   "execution_count": 182,
   "id": "cad568b5",
   "metadata": {},
   "outputs": [
    {
     "name": "stdout",
     "output_type": "stream",
     "text": [
      "1212\n"
     ]
    }
   ],
   "source": [
    "date1999 = sum((date_df > '1999-1-1') & (date_df <= '1999-12-31'))\n",
    "print(date1999)"
   ]
  },
  {
   "cell_type": "code",
   "execution_count": 184,
   "id": "c2e6b257",
   "metadata": {},
   "outputs": [
    {
     "name": "stdout",
     "output_type": "stream",
     "text": [
      "9199\n"
     ]
    }
   ],
   "source": [
    "date2000 = sum((date_df > '2000-1-1') & (date_df <= '2000-12-31'))\n",
    "print(date2000)"
   ]
  },
  {
   "cell_type": "code",
   "execution_count": 185,
   "id": "d31f972a",
   "metadata": {},
   "outputs": [
    {
     "name": "stdout",
     "output_type": "stream",
     "text": [
      "14717\n"
     ]
    }
   ],
   "source": [
    "date2001 = sum((date_df > '2001-1-1') & (date_df <= '2001-12-31'))\n",
    "print(date2001)"
   ]
  },
  {
   "cell_type": "code",
   "execution_count": 186,
   "id": "d7498732",
   "metadata": {},
   "outputs": [
    {
     "name": "stdout",
     "output_type": "stream",
     "text": [
      "18575\n"
     ]
    }
   ],
   "source": [
    "date2002 = sum((date_df > '2002-1-1') & (date_df <= '2002-12-31'))\n",
    "print(date2002)"
   ]
  },
  {
   "cell_type": "code",
   "execution_count": 187,
   "id": "90c1fd03",
   "metadata": {},
   "outputs": [
    {
     "name": "stdout",
     "output_type": "stream",
     "text": [
      "23035\n"
     ]
    }
   ],
   "source": [
    "date2003 = sum((date_df > '2003-1-1') & (date_df <= '2003-12-31'))\n",
    "print(date2003)"
   ]
  },
  {
   "cell_type": "code",
   "execution_count": 188,
   "id": "931e0919",
   "metadata": {},
   "outputs": [
    {
     "name": "stdout",
     "output_type": "stream",
     "text": [
      "31170\n"
     ]
    }
   ],
   "source": [
    "date2004 = sum((date_df > '2004-1-1') & (date_df <= '2004-12-31'))\n",
    "print(date2004)"
   ]
  },
  {
   "cell_type": "code",
   "execution_count": 189,
   "id": "d5d9761d",
   "metadata": {},
   "outputs": [
    {
     "name": "stdout",
     "output_type": "stream",
     "text": [
      "56151\n"
     ]
    }
   ],
   "source": [
    "date2005 = sum((date_df > '2005-1-1') & (date_df <= '2005-12-31'))\n",
    "print(date2005)"
   ]
  },
  {
   "cell_type": "code",
   "execution_count": 190,
   "id": "4d2b7b2f",
   "metadata": {},
   "outputs": [
    {
     "name": "stdout",
     "output_type": "stream",
     "text": [
      "86450\n"
     ]
    }
   ],
   "source": [
    "date2006 = sum((date_df > '2006-1-1') & (date_df <= '2006-12-31'))\n",
    "print(date2006)"
   ]
  },
  {
   "cell_type": "code",
   "execution_count": 191,
   "id": "4ad1ac66",
   "metadata": {},
   "outputs": [
    {
     "name": "stdout",
     "output_type": "stream",
     "text": [
      "193161\n"
     ]
    }
   ],
   "source": [
    "date2007 = sum((date_df > '2007-1-1') & (date_df <= '2007-12-31'))\n",
    "print(date2007)"
   ]
  },
  {
   "cell_type": "code",
   "execution_count": 192,
   "id": "4fa1a394",
   "metadata": {},
   "outputs": [
    {
     "name": "stdout",
     "output_type": "stream",
     "text": [
      "237568\n"
     ]
    }
   ],
   "source": [
    "date2008 = sum((date_df > '2008-1-1') & (date_df <= '2008-12-31'))\n",
    "print(date2008)"
   ]
  },
  {
   "cell_type": "code",
   "execution_count": 193,
   "id": "a192f5e8",
   "metadata": {},
   "outputs": [
    {
     "name": "stdout",
     "output_type": "stream",
     "text": [
      "324796\n"
     ]
    }
   ],
   "source": [
    "date2009 = sum((date_df > '2009-1-1') & (date_df <= '2009-12-31'))\n",
    "print(date2009)"
   ]
  },
  {
   "cell_type": "code",
   "execution_count": 194,
   "id": "b1138f14",
   "metadata": {},
   "outputs": [
    {
     "name": "stdout",
     "output_type": "stream",
     "text": [
      "474791\n"
     ]
    }
   ],
   "source": [
    "date2010 = sum((date_df > '2010-1-1') & (date_df <= '2010-12-31'))\n",
    "print(date2010)"
   ]
  },
  {
   "cell_type": "code",
   "execution_count": 195,
   "id": "19da2bc9",
   "metadata": {},
   "outputs": [
    {
     "name": "stdout",
     "output_type": "stream",
     "text": [
      "781175\n"
     ]
    }
   ],
   "source": [
    "date2011 = sum((date_df > '2011-1-1') & (date_df <= '2011-12-31'))\n",
    "print(date2011)"
   ]
  },
  {
   "cell_type": "code",
   "execution_count": 196,
   "id": "6f0d101b",
   "metadata": {},
   "outputs": [
    {
     "name": "stdout",
     "output_type": "stream",
     "text": [
      "1228573\n"
     ]
    }
   ],
   "source": [
    "date2012 = sum((date_df > '2012-1-1') & (date_df <= '2012-12-31'))\n",
    "print(date2012)"
   ]
  },
  {
   "cell_type": "code",
   "execution_count": 213,
   "id": "b1aedfae",
   "metadata": {},
   "outputs": [
    {
     "name": "stdout",
     "output_type": "stream",
     "text": [
      "2617666\n",
      "<class 'int'>\n"
     ]
    }
   ],
   "source": [
    "date2013 = sum((date_df > '2013-1-1') & (date_df <= '2013-12-31'))\n",
    "print(date2013)\n",
    "print(type(date2013))"
   ]
  },
  {
   "cell_type": "code",
   "execution_count": 198,
   "id": "49875300",
   "metadata": {},
   "outputs": [
    {
     "name": "stdout",
     "output_type": "stream",
     "text": [
      "1697356\n"
     ]
    }
   ],
   "source": [
    "date2014 = sum((date_df > '2014-1-1') & (date_df <= '2014-12-31'))\n",
    "print(date2014)\n",
    "#print(electronic_rate.loc[date2014])"
   ]
  },
  {
   "cell_type": "code",
   "execution_count": 169,
   "id": "18f35553",
   "metadata": {},
   "outputs": [
    {
     "name": "stdout",
     "output_type": "stream",
     "text": [
      "                 userId   productId  rating       Date\n",
      "0         AKM1MP6P0OYPR  0132793040     5.0 2013-04-13\n",
      "1        A2CX7LUOHB2NDG  0321732944     5.0 2012-07-01\n",
      "2        A2NWSAGRHCP8N5  0439886341     1.0 2013-04-29\n",
      "3        A2WNBOD3WNDNKT  0439886341     3.0 2013-07-22\n",
      "4        A1GI0U4ZRJA8WN  0439886341     1.0 2012-04-18\n",
      "...                 ...         ...     ...        ...\n",
      "7824477  A2YZI3C9MOHC0L  BT008UKTMW     5.0 2014-04-04\n",
      "7824478  A322MDK0M89RHN  BT008UKTMW     5.0 2011-08-15\n",
      "7824479  A1MH90R0ADMIK0  BT008UKTMW     4.0 2014-07-01\n",
      "7824480  A10M2KEFPEQDHN  BT008UKTMW     4.0 2011-02-13\n",
      "7824481  A2G81TMIOIDEQQ  BT008V9J9U     5.0 2011-08-07\n",
      "\n",
      "[7824482 rows x 4 columns]\n"
     ]
    }
   ],
   "source": []
  },
  {
   "cell_type": "code",
   "execution_count": 272,
   "id": "5f021655",
   "metadata": {},
   "outputs": [
    {
     "data": {
      "text/plain": [
       "[Text(0, 0, '1998'),\n",
       " Text(1, 0, '1999'),\n",
       " Text(2, 0, '2000'),\n",
       " Text(3, 0, '2001'),\n",
       " Text(4, 0, '2002'),\n",
       " Text(5, 0, '2003'),\n",
       " Text(6, 0, '2004'),\n",
       " Text(7, 0, '2005'),\n",
       " Text(8, 0, '2006'),\n",
       " Text(9, 0, '2007'),\n",
       " Text(10, 0, '2008'),\n",
       " Text(11, 0, '2009'),\n",
       " Text(12, 0, '2010'),\n",
       " Text(13, 0, '2011'),\n",
       " Text(14, 0, '2012'),\n",
       " Text(15, 0, '2013'),\n",
       " Text(16, 0, '2014')]"
      ]
     },
     "execution_count": 272,
     "metadata": {},
     "output_type": "execute_result"
    },
    {
     "data": {
      "image/png": "[encoded data removed]",
      "text/plain": [
       "<Figure size 1440x720 with 1 Axes>"
      ]
     },
     "metadata": {
      "needs_background": "light"
     },
     "output_type": "display_data"
    }
   ],
   "source": [
    "year_date_df = [date1998,date1999, date2000,date2001, date2002, date2003, date2004, date2005, date2006, date2007,date2008, date2009, date2010, date2011, date2012, date2013, date2014]\n",
    "x = [1998,1999,2000,2001,2002,2003,2004,2005,2006,2007,2008,2009,2010,2011,2012,2013,2014]\n",
    "\n",
    "plt.figure(figsize=(20,10))\n",
    "year_graph = sns.barplot(x=x, y=year_date_df, palette = \"Set1\")\n",
    "year_graph.set_xlabel(xlabel=\"Year\", fontsize = 20)\n",
    "year_graph.set_ylabel(ylabel = \"Number of Purchases\", fontsize = 20)\n",
    "year_graph.set_xticklabels(year_graph.get_xticklabels(), rotation=45 )\n",
    "\n",
    "\n",
    "\n",
    "#date_graph = sns.catplot(x= x, y = year_data_df,  aspect=2, kind=\"count\", color='Green')\n",
    "#date_l.set_xticklabels(step=5)"
   ]
  }
 ],
 "metadata": {
  "kernelspec": {
   "display_name": "Python 3",
   "language": "python",
   "name": "python3"
  },
  "language_info": {
   "codemirror_mode": {
    "name": "ipython",
    "version": 3
   },
   "file_extension": ".py",
   "mimetype": "text/x-python",
   "name": "python",
   "nbconvert_exporter": "python",
   "pygments_lexer": "ipython3",
   "version": "3.8.8"
  }
 },
 "nbformat": 4,
 "nbformat_minor": 5
}
